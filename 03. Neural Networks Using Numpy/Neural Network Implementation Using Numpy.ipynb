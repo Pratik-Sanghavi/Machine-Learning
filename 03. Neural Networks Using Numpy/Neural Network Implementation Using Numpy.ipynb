{
 "cells": [
  {
   "cell_type": "markdown",
   "id": "32961d5c",
   "metadata": {},
   "source": [
    "# Demystifying Neural Networks\n",
    "\n",
    "<a id=\"toc\"></a>\n",
    "## Table of Contents\n",
    "1. [Introduction](#intro)\n",
    "2. [Reading in the data](#input)\n",
    "3. [Choice of model](#model_choice)\n",
    "4. [Helper Function Definitions](#funct_defn)\n",
    "5. [Weight Initializations](#layer_and_weights)\n",
    "6. [Forward Propagation](#forward_propagation)\n",
    "7. [Back Propagation](#back_propagation)\n",
    "8. [Update the parameters](#update)\n",
    "9. [Neural Network Model Definition](#nn_model_defn)\n",
    "10. [Predict Output](#predict)\n",
    "11. [Putting Everything Together](#together)<br>\n",
    "    11.1. [Variation of Cost with Number of Iterations](#variation)<br>\n",
    "    11.2. [Accuracy on the Test Set](#accuracy_test_set)<br>\n",
    "\n",
    "<a id=\"intro\"></a>\n",
    "## 1. [Introduction](#toc)\n",
    "\n",
    "In this notebook, we will attempt to train a two-layer neural network to identify correctly the handwritten digit. While the images of the dataset will comprise only a single handwritten digit, it will go a long way in illustrating the power of a shallow neural network and lay the groundwork for moving to more complex and interesting applications of this technology. And now lets get started!"
   ]
  },
  {
   "cell_type": "markdown",
   "id": "59a134a7",
   "metadata": {},
   "source": [
    "<a id = 'input'></a>\n",
    "## 2. [Reading in the data](#toc)\n",
    "\n",
    "The first task is to import utf-8 encoded data, decompress it and store it in a numpy array of the correct dimensions. There are supposed to be 60000 examples in the training set and 10000 examples in the test set. "
   ]
  },
  {
   "cell_type": "code",
   "execution_count": 2,
   "id": "5104f8a7",
   "metadata": {},
   "outputs": [],
   "source": [
    "import numpy as np\n",
    "from tqdm import tqdm\n",
    "import matplotlib.pyplot as plt\n",
    "\n",
    "%matplotlib inline"
   ]
  },
  {
   "cell_type": "code",
   "execution_count": 5,
   "id": "f0a9aa04",
   "metadata": {},
   "outputs": [],
   "source": [
    "def load_data():\n",
    "    \"\"\"\n",
    "    This function returns training and test features and labels\n",
    "    Arguments: None\n",
    "    Returns: training_images, training_labels, test_images, test_labels\n",
    "    \"\"\"\n",
    "    import gzip\n",
    "    with open(\"./Data/train-images-idx3-ubyte.gz\", 'rb') as f:\n",
    "        data = f.read()\n",
    "        training_images = np.frombuffer(gzip.decompress(data), dtype=np.uint8).copy()\n",
    "        \n",
    "    with open(\"./Data/train-labels-idx1-ubyte.gz\", 'rb') as f:\n",
    "        data = f.read()\n",
    "        training_labels = np.frombuffer(gzip.decompress(data), dtype=np.uint8).copy()\n",
    "    \n",
    "    with open(\"./Data/t10k-images-idx3-ubyte.gz\", 'rb') as f:\n",
    "        data = f.read()\n",
    "        test_images = np.frombuffer(gzip.decompress(data), dtype=np.uint8).copy()\n",
    "    with open(\"./Data/t10k-labels-idx1-ubyte.gz\", 'rb') as f:\n",
    "        data = f.read()\n",
    "        test_labels = np.frombuffer(gzip.decompress(data), dtype=np.uint8).copy()   \n",
    "    \n",
    "    return training_images[16:].reshape((-1,28,28)), np.squeeze(training_labels[8:]), test_images[16:].reshape((-1,28,28)), np.squeeze(test_labels[8:])"
   ]
  },
  {
   "cell_type": "code",
   "execution_count": 7,
   "id": "6233f158",
   "metadata": {},
   "outputs": [
    {
     "name": "stdout",
     "output_type": "stream",
     "text": [
      "(47040016,)\n",
      "(60008,)\n",
      "(7840016,)\n",
      "(10008,)\n"
     ]
    }
   ],
   "source": [
    "training_images, training_labels, test_images, test_labels = load_data()\n",
    "print(training_images.shape)\n",
    "print(training_labels.shape)\n",
    "print(test_images.shape)\n",
    "print(test_labels.shape)"
   ]
  },
  {
   "cell_type": "markdown",
   "id": "d1b12dc3",
   "metadata": {},
   "source": [
    "I'll first validate the data that has been read to confirm that indeed the data is in the form that I expect it to be in (need to do this since the original data wasn't exactly divisible by 784 which led me to drop the first few pixel values and also dropped the first few values of labels as evident from the function I have written. This is just a sanity check to ensure that the dropped pixels and labels don't cause any shift in the pixel values that belong to a particular example)"
   ]
  },
  {
   "cell_type": "code",
   "execution_count": 4,
   "id": "f55a14d1",
   "metadata": {},
   "outputs": [
    {
     "name": "stdout",
     "output_type": "stream",
     "text": [
      "(60000, 28, 28)\n",
      "(60000,)\n",
      "(10000, 28, 28)\n",
      "(10000,)\n",
      "Number of unique pixel values in the training set:256\n",
      "Number of unique pixel values in the test set:256\n",
      "Number of unique labels in training set:10\n",
      "Number of unique labels in test set:10\n"
     ]
    },
    {
     "data": {
      "image/png": "[encoded data removed]",
      "text/plain": [
       "<Figure size 720x720 with 25 Axes>"
      ]
     },
     "metadata": {},
     "output_type": "display_data"
    }
   ],
   "source": [
    "print(training_images.shape)\n",
    "print(training_labels.shape)\n",
    "print(test_images.shape)\n",
    "print(test_labels.shape)\n",
    "\n",
    "training_images = training_images[:1000]\n",
    "training_labels = training_labels[:1000]\n",
    "test_images = test_images[:200]\n",
    "test_labels = test_labels[:200]\n",
    "\n",
    "print(f'Number of unique pixel values in the training set:{len(np.unique(training_images.reshape((training_images.shape[0], -1))))}')\n",
    "print(f'Number of unique pixel values in the test set:{len(np.unique(test_images.reshape((test_images.shape[0], -1))))}')\n",
    "print(f'Number of unique labels in training set:{len(np.unique(training_labels))}\\nNumber of unique labels in test set:{len(np.unique(test_labels))}')\n",
    "\n",
    "plt.figure(figsize=(10,10))\n",
    "for i in range(25):\n",
    "    plt.subplot(5,5, i+1)\n",
    "    plt.xticks([])\n",
    "    plt.yticks([])\n",
    "    plt.grid(False)\n",
    "    plt.imshow(training_images[i], cmap=plt.cm.binary)\n",
    "    plt.xlabel(training_labels[i])\n"
   ]
  },
  {
   "cell_type": "markdown",
   "id": "65b295a9",
   "metadata": {},
   "source": [
    "Aaand its a resounding yes! We can now proceed to the next step in our deep learning journey and that is deciding on the model. We will also have to reshape the images in the datasets to one dimensional vectors instead of the two-dimensional form they are in now (why didn't we do this earlier? - because I wanted to be sure that everything was matching up)<br>\n",
    "Note that henceforth we will be taking a subset of the training and test data since that is more than sufficient for the application we are using the data for."
   ]
  },
  {
   "cell_type": "markdown",
   "id": "08d95eb3",
   "metadata": {},
   "source": [
    "<a id = \"model_choice\"></a>\n",
    "## 3. [Choice of model](#toc)\n",
    "\n",
    "Now here's the tricky bit! Since its a 2 layer Neural Network that we're confined to, the one hyperparameter we can play around with is the number of units in each hidden layer. It might need a fair bit of tuning to arrive at a combination that is optimal for our application.\n",
    "**<p style=\"text-align: center;\">Proposed Architecture for Neural Network</p>**\n",
    "\n",
    "![Proposed Architecture](Images/proposed_architecture.png)\n",
    "\n",
    "Now that we have the general architecture ready, we can proceed to the specifics\n",
    "\n",
    "We will set:\n",
    "1. Learning rate $\\alpha$ of 0.1\n",
    "2. Number of units in hidden layer (n<sup>[1]</sup>)as 512\n",
    "3. Number of iterations or epochs as 500\n",
    "4. Hidden layer activation function is taken as the relu function\n",
    "5. Output layer activation function is the softmax function "
   ]
  },
  {
   "cell_type": "markdown",
   "id": "72f82dac",
   "metadata": {},
   "source": [
    "<a id = 'funct_defn'></a>\n",
    "## 4. [Helper Function Definitions](#toc)\n",
    "\n",
    "Here we will define certain common functions that will prove to be useful during the forward and backward propagation steps of training the neural network\n",
    "The functions that we will define in this section are:\n",
    "1. Flatten and reshape Training and Test features\n",
    "2. One hot vector representation for Y\n",
    "3. Sigmoid Activation Function (as well as derivative and cost function for backpropagation)\n",
    "4. Tanh function(as well as derivative for backpropagation)\n",
    "5. Relu function (as well as derivative for backpropagation)\n",
    "5. Softmax Function"
   ]
  },
  {
   "cell_type": "code",
   "execution_count": 5,
   "id": "4f8730b5",
   "metadata": {},
   "outputs": [],
   "source": [
    "def reshape_X(X):\n",
    "    \"\"\"\n",
    "    Reshape training and test features and convert each example from two to one-dimensional form\n",
    "    Arguments: Training or test data\n",
    "    Returns: Vector containing flattened examples\n",
    "    \"\"\"\n",
    "    return X.reshape(X.shape[0], -1).T/255\n",
    "\n",
    "def one_hot_encoding(Y):\n",
    "    \"\"\"\n",
    "    Convert labels to its appropriate one-hot encoding representation\n",
    "    Arguments: training or test labels\n",
    "    Returns: One-hot representation of labels in appropriate format\n",
    "    \"\"\"\n",
    "    shape = (len(Y), Y.max() + 1)\n",
    "    one_hot_Y = np.zeros(shape)\n",
    "    rows = np.arange(Y.size)\n",
    "    one_hot_Y[rows, Y] = 1\n",
    "    return one_hot_Y.T\n",
    "\n",
    "def sigmoid(z):\n",
    "    \"\"\"\n",
    "    Sigmoid activation function implementation\n",
    "    Arguments: Linear function that is to be converted to a non-linear form\n",
    "    Returns: Sigmoid vector\n",
    "    \"\"\"\n",
    "    s = 1/(1 + np.exp(-z))\n",
    "    return s\n",
    "\n",
    "def relu(z):\n",
    "    \"\"\"\n",
    "    ReLU activation function implementation\n",
    "    Arguments: Linear function that is to be converted to a non-linear form\n",
    "    Returns: ReLU vector\n",
    "    \"\"\"\n",
    "    r = np.maximum(0,z)\n",
    "    return r\n",
    "\n",
    "def tanh(z):\n",
    "    \"\"\"\n",
    "    Tanh activation function implementation\n",
    "    Arguments: Linear function that is to be converted to a non-linear form\n",
    "    Returns: Tanh vector\n",
    "    \"\"\"\n",
    "    exp1 = np.exp(z)\n",
    "    exp2 = np.exp(-z)\n",
    "    t = (exp1 - exp2)/(exp1 + exp2)\n",
    "    return t\n",
    "\n",
    "def softmax(z):\n",
    "    \"\"\"\n",
    "    Softmax activation function implementation\n",
    "    Arguments: Linear function that is to be converted to a non-linear form\n",
    "    Returns: Softmax vector\n",
    "    \"\"\"\n",
    "    e_x = np.exp(z- np.max(z))\n",
    "    softmax = e_x/np.sum(e_x, axis = 0, keepdims = True)\n",
    "    return softmax\n",
    "\n",
    "def sigmoid_prime(z):\n",
    "    \"\"\"\n",
    "    The first derivative of the sigmoid activation layer\n",
    "    Arguments: Two options: one using A and the other using Z. We have chosen the one using Z since that is assumed to be passed between the forward and backward propagation step\n",
    "    Returns: The first derivative of the activation function vector with respect to Z\n",
    "    \"\"\"\n",
    "    s_prime = np.exp(-z)/(1+np.exp(-z))**2\n",
    "    return s_prime\n",
    "\n",
    "def relu_prime(z):\n",
    "    \"\"\"\n",
    "    The first derivative of the relu activation layer\n",
    "    Arguments: Two options: one using A and the other using Z. We have chosen the one using Z since that is assumed to be passed between the forward and backward propagation step\n",
    "    Returns: The first derivative of the activation function vector with respect to Z\n",
    "    \"\"\"\n",
    "    r_prime = (z > 0) * 1\n",
    "    return r_prime\n",
    "\n",
    "def tanh_prime(z):\n",
    "    \"\"\"\n",
    "    The first derivative of the tanh activation layer\n",
    "    Arguments: Two options: one using A and the other using Z. We have chosen the one using Z since that is assumed to be passed between the forward and backward propagation step\n",
    "    Returns: The first derivative of the activation function vector with respect to Z\n",
    "    \"\"\"\n",
    "    t_prime = 1 -((tanh(z))**2)\n",
    "    return t_prime\n",
    "\n",
    "def softmax_prime(z):\n",
    "    \"\"\"\n",
    "    The first derivative of the softmax activation layer\n",
    "    Arguments: Two options: one using A and the other using Z. We have chosen the one using Z since that is assumed to be passed between the forward and backward propagation step\n",
    "    Returns: The first derivative of the activation function vector with respect to Z\n",
    "    \"\"\"\n",
    "    signal = softmax(z)\n",
    "    softmax_prime = np.multiply( signal, 1 - signal ) + sum(- signal * np.roll( signal, i, axis = 1 ) for i in range(1, signal.shape[1] ))\n",
    "    return softmax_prime\n",
    "\n",
    "def softmax_loss_function(A, Y):\n",
    "    \"\"\"\n",
    "    Loss function for the output layer\n",
    "    Arguments: Output vector of the softmax and one-hot encoded Y\n",
    "    Returns: Loss vector for softmax activation layer\n",
    "    \"\"\"\n",
    "#     loss = -np.sum(np.dot(Y, np.log(A).T))/Y.shape[1]\n",
    "    loss = -np.sum(np.sum(Y * np.log(A), axis = 1))/Y.shape[1]\n",
    "    return loss\n",
    "\n",
    "def sigmoid_loss_function(A, Y):\n",
    "    \"\"\"\n",
    "    Loss function for the output layer\n",
    "    Arguments: Output vector of the softmax and one-hot encoded Y\n",
    "    Returns: Loss vector for softmax activation layer\n",
    "    \"\"\"\n",
    "    loss = -np.sum(Y * np.log(A) + (1-Y)*np.log(1-A), axis = 1)/Y.shape[1]\n",
    "    return loss"
   ]
  },
  {
   "cell_type": "markdown",
   "id": "f761cbc9",
   "metadata": {},
   "source": [
    "<a id = 'layer_and_weights'></a>\n",
    "## 5. [Weight Initialization](#toc)\n",
    "\n",
    "In this section, we will define the number of layers and number of units in each layer and initialize the weights and biases corresponding to each layer"
   ]
  },
  {
   "cell_type": "code",
   "execution_count": 6,
   "id": "091c8886",
   "metadata": {},
   "outputs": [],
   "source": [
    "def initialize_parameters(layer_units):\n",
    "    \"\"\"\n",
    "    Initialize the weights and biases of the different layers in the neural network\n",
    "    Arguments: List containing the number of units in each layer as well as the number of features in the input layer\n",
    "    Returns: Dictionary containing parameters corresponding to the different layers in the neural network\n",
    "    \"\"\"\n",
    "    np.random.seed(3)\n",
    "    parameters = {}\n",
    "    L = len(layer_units)\n",
    "    for i in range(1,L):\n",
    "        parameters[\"W\"+str(i)] = np.random.randn(layer_units[i], layer_units[i-1]) * 0.01\n",
    "        parameters[\"b\"+str(i)] = np.random.randn(layer_units[i], 1) * 0.01\n",
    "    return parameters"
   ]
  },
  {
   "cell_type": "markdown",
   "id": "b5dacc3d",
   "metadata": {},
   "source": [
    "<a id = 'forward_propagation'></a>\n",
    "## 6. [Forward Propagation](#toc)\n",
    "\n",
    "In this section we will define all functions that will be helpful during forward propagation"
   ]
  },
  {
   "cell_type": "code",
   "execution_count": 7,
   "id": "7f5c01f5",
   "metadata": {},
   "outputs": [],
   "source": [
    "def forward_propagation_linear(A_prev, W, b):\n",
    "    \"\"\"\n",
    "    Computes the value of Z - the input to the activation function\n",
    "    Arguments: The activations from the previous layer and the weights and biases of the current layer\n",
    "    \"\"\"\n",
    "    Z = np.dot(W, A_prev) + b\n",
    "    return Z\n",
    "\n",
    "def forward_propagation_activation(A_prev,W, b, activation = \"sigmoid\"):\n",
    "    \"\"\"\n",
    "    Converts linear function to a non-linear form as per activation function chosen\n",
    "    Arguments: Linear vector output from perceptron and choice of activation function\n",
    "    Returns: Activation vector of the layer\n",
    "    \"\"\"\n",
    "    if activation==\"sigmoid\":\n",
    "        Z = forward_propagation_linear(A_prev, W, b)\n",
    "        A = sigmoid(Z)\n",
    "    elif activation==\"softmax\":\n",
    "        Z = forward_propagation_linear(A_prev, W, b)\n",
    "        A = softmax(Z)\n",
    "    elif activation==\"tanh\":\n",
    "        Z = forward_propagation_linear(A_prev, W, b)\n",
    "        A = tanh(Z)\n",
    "    elif activation==\"relu\":\n",
    "        Z = forward_propagation_linear(A_prev, W, b)\n",
    "        A = relu(Z)\n",
    "        \n",
    "    cache = {\"Z\":Z, \"A_prev\":A_prev, \"W\": W, \"b\":b, \"activation\": activation}\n",
    "    return A, cache\n",
    "\n",
    "def forward_propagation_model(X_train, parameters, activations_list):\n",
    "    \"\"\"\n",
    "    The complete forward propagation step\n",
    "    Arguments: Input Training features, the parameters corresponding to each layer and a list containing activation functions for each layer\n",
    "    Returns: Activation of the final layer as well the caches (defined in forward_propagation_activation function) list\n",
    "    \"\"\"\n",
    "    L = len(parameters) - 1\n",
    "    caches = []\n",
    "    A = X_train\n",
    "    for i in range(1, L):\n",
    "        A_prev = A\n",
    "        A, cache = forward_propagation_activation(A_prev, parameters[\"W\"+str(i)], parameters[\"b\"+str(i)], activations_list[i-1])\n",
    "        caches.append(cache)\n",
    "        \n",
    "    return A, caches"
   ]
  },
  {
   "cell_type": "markdown",
   "id": "2f4fedf6",
   "metadata": {},
   "source": [
    "Before moving to implement back-propagation, we need to ensure that the functions defined above work as intended"
   ]
  },
  {
   "cell_type": "code",
   "execution_count": 8,
   "id": "7f7b0b1c",
   "metadata": {},
   "outputs": [
    {
     "name": "stdout",
     "output_type": "stream",
     "text": [
      "2.302116721777529\n"
     ]
    }
   ],
   "source": [
    "# Reshape training_images\n",
    "training_images_flatten = reshape_X(training_images)\n",
    "\n",
    "# Convert training_labels to one hot encoding format\n",
    "training_labels_one_hot = one_hot_encoding(training_labels)\n",
    "\n",
    "# Initialise parameters\n",
    "parameters = initialize_parameters([training_images_flatten.shape[0], 512, 10])\n",
    "\n",
    "AL, caches = forward_propagation_model(training_images_flatten, parameters, [\"relu\", \"softmax\"])\n",
    "\n",
    "cost = softmax_loss_function(AL, training_labels_one_hot)\n",
    "print(cost)"
   ]
  },
  {
   "cell_type": "markdown",
   "id": "335a3586",
   "metadata": {},
   "source": [
    "Thus begins our journey to reduce this cost vector."
   ]
  },
  {
   "cell_type": "markdown",
   "id": "4235a788",
   "metadata": {},
   "source": [
    "<a id = \"back_propagation\"></a>\n",
    "## 7. [Back Propagation](#toc)\n",
    "\n",
    "In this section we will define the essential functions that we'll be using in the back propagation step."
   ]
  },
  {
   "cell_type": "code",
   "execution_count": 9,
   "id": "a55e3dcd",
   "metadata": {},
   "outputs": [],
   "source": [
    "def back_propagation_linear(dZ, A_prev, W, b):\n",
    "    \"\"\"\n",
    "    Calculate the derivative of the loss function with respect to the activation, weights and biases that can be used in gradient descent\n",
    "    Arguments: Derivative of linear function (Z) of the current layer, activation vector of the previous layer, weights and biases of the current layer\n",
    "    Returns: Derivative wrt activation of the previous layer, derivative wrt weights and biases of the current layer\n",
    "    \"\"\"\n",
    "    m = A_prev.shape[1]\n",
    "    dW = np.dot(dZ, A_prev.T)/m\n",
    "    db = np.sum(dZ, axis =1, keepdims = True)/m\n",
    "    dA_prev = np.dot(W.T, dZ)\n",
    "    return dA_prev, dW, db\n",
    "\n",
    "def back_propagation_activation(dA, Z, A_prev, W, b, activation_function = \"sigmoid\"):\n",
    "    \"\"\"\n",
    "    Calculate the derivative of the loss function with respect to the activation, weights and biases that can be used in gradient descent\n",
    "    Arguments: Derivative wrt activation function of the current layer, linear function (Z) of the current layer, activation vector of the previous layer, weights and biases of the current layer and the activation function of the current layer \n",
    "    Returns: Derivative wrt activation of the previous layer, derivative wrt weights and biases of the current layer\n",
    "    \"\"\"\n",
    "    m = A_prev.shape[1]\n",
    "    if activation_function == \"sigmoid\":\n",
    "        dZ = dA * sigmoid_prime(Z)\n",
    "        dA_prev, dW, db = back_propagation_linear(dZ, A_prev, W, b)\n",
    "    elif activation_function == \"relu\":\n",
    "        dZ = dA * relu_prime(Z)\n",
    "        dA_prev, dW, db = back_propagation_linear(dZ, A_prev, W, b)\n",
    "    elif activation_function == \"tanh\":\n",
    "        dZ = dA * tanh_prime(Z)\n",
    "        dA_prev, dW, db = back_propagation_linear(dZ, A_prev, W, b)\n",
    "    elif activation_function == \"softmax\":\n",
    "        dZ = dA * softmax_prime(Z)\n",
    "        dA_prev, dW, db = back_propagation_linear(dZ, A_prev, W, b)\n",
    "    \n",
    "    return dA_prev, dW, db\n",
    "\n",
    "def back_propagation_model(AL, Y, caches):\n",
    "    \"\"\"\n",
    "    Computes the gradient dictionary of all the layers in the network\n",
    "    Arguments: Activation vector of the final layer, labels in one hot encoding and the cache list\n",
    "    Returns: The gradients of the different layers in the network\n",
    "    \"\"\"\n",
    "    gradients = {}\n",
    "    L = len(caches)\n",
    "    if caches[L-1][\"activation\"] == \"sigmoid\":\n",
    "        dAL = - (np.divide(Y, AL) - np.divide(1 - Y, 1 - AL))\n",
    "        gradients[\"dA\"+str(L-1)], gradients[\"dW\"+str(L)], gradients[\"db\"+str(L)] = back_propagation_activation(dA = dAL,\n",
    "                                                                                                               Z = caches[L-1][\"Z\"],\n",
    "                                                                                                               A_prev = caches[L-1][\"A_prev\"],\n",
    "                                                                                                               W = caches[L-1][\"W\"],\n",
    "                                                                                                               b = caches[L-1][\"b\"], \n",
    "                                                                                                               activation_function=caches[L-1][\"activation\"])\n",
    "    elif caches[L-1][\"activation\"] == \"softmax\":\n",
    "        dZL = AL - Y\n",
    "        gradients[\"dA\"+str(L-1)], gradients[\"dW\"+str(L)], gradients[\"db\"+str(L)] = back_propagation_linear(dZ = dZL,\n",
    "                                                                                                           A_prev = caches[L-1][\"A_prev\"],\n",
    "                                                                                                           W = caches[L-1][\"W\"],\n",
    "                                                                                                           b = caches[L-1][\"b\"])\n",
    "    for l in reversed(range(L-1)):\n",
    "        cache =  caches[l]\n",
    "        gradients[\"dA\"+str(l)], gradients[\"dW\"+str(l+1)], gradients[\"db\"+str(l+1)] = back_propagation_activation(gradients[\"dA\"+str(l+1)],\n",
    "                                                                                                              cache[\"Z\"],\n",
    "                                                                                                              cache[\"A_prev\"],\n",
    "                                                                                                              cache[\"W\"],\n",
    "                                                                                                              cache[\"b\"],\n",
    "                                                                                                              cache[\"activation\"])\n",
    "        \n",
    "    return gradients"
   ]
  },
  {
   "cell_type": "markdown",
   "id": "9cf36d03",
   "metadata": {},
   "source": [
    "<a id='update'></a>\n",
    "## 8. [Update the parameters](#toc)\n",
    "\n",
    "Here we will define the function to update the weights and biases in each layer as per the gradients computed in the back propagation step."
   ]
  },
  {
   "cell_type": "code",
   "execution_count": 10,
   "id": "d570b03d",
   "metadata": {},
   "outputs": [],
   "source": [
    "def update_parameters(parameters, gradients, learning_rate):\n",
    "    \"\"\"\n",
    "    Update the weights and biases using the gradients from the back propagation step\n",
    "    Arguments: Parameters of all the layers, Gradients from all the layers and the learning_rate\n",
    "    Returns: Updated value of parameters that moves to minimize the cost function\n",
    "    \"\"\"\n",
    "    for i in range(1, len(parameters)-1):\n",
    "        parameters[\"W\"+str(i)] = parameters[\"W\"+str(i)] - (learning_rate * gradients[\"dW\"+str(i)])\n",
    "        parameters[\"b\"+str(i)] = parameters[\"b\"+str(i)] - (learning_rate * gradients[\"db\"+str(i)])\n",
    "        \n",
    "    return parameters"
   ]
  },
  {
   "cell_type": "markdown",
   "id": "93f7cf32",
   "metadata": {},
   "source": [
    "We will write a small function to test the accuracy of the model so as to confirm movement in the correct direction"
   ]
  },
  {
   "cell_type": "code",
   "execution_count": 11,
   "id": "6be38644",
   "metadata": {},
   "outputs": [],
   "source": [
    "def accuracy_score(AL, labels = training_labels):\n",
    "    \"\"\"\n",
    "    Computes the accuracy of the predictions wrt the labels\n",
    "    Arguments: Activations from the final layer and training labels\n",
    "    Returns: Accuracy score in percentage\n",
    "    \"\"\"\n",
    "    AL_to_numbers = np.argmax(AL, axis = 0)\n",
    "    accuracy = np.sum(AL_to_numbers == labels)/labels.shape[0]\n",
    "    return accuracy * 100"
   ]
  },
  {
   "cell_type": "markdown",
   "id": "3bdafbe5",
   "metadata": {},
   "source": [
    "<a id = 'nn_model_defn'></a>\n",
    "## 9. [Neural Network Model Definition](#toc)\n",
    "\n",
    "We've arrived!! Well atleast almost. All that remains is to combine the different functions we have defined in the course of this notebook to form the neural network model and viola! - we'll have what we were looking for."
   ]
  },
  {
   "cell_type": "code",
   "execution_count": 12,
   "id": "600d69c0",
   "metadata": {},
   "outputs": [],
   "source": [
    "def neural_network_model(training_images, training_labels, layer_units, activations_list, learning_rate = 0.1, num_iterations = 500):\n",
    "    \"\"\"\n",
    "    Combines all the helper function to realise the neural network as per inputs provided\n",
    "    Arguments: Training features and labels, number of units in each layer, type of activation function in each layer, learning rate and number of iterations\n",
    "    Returns: Accuracies, costs and updated parameters\n",
    "    \"\"\"\n",
    "    # Reshape training_images\n",
    "    training_images_flatten = reshape_X(training_images)\n",
    "\n",
    "    # Convert training_labels to one hot encoding format\n",
    "    training_labels_one_hot = one_hot_encoding(training_labels)\n",
    "\n",
    "    # Initialise parameters\n",
    "    parameters = initialize_parameters(layer_units)\n",
    "    costs = []\n",
    "    accuracies = []\n",
    "    for i in tqdm(range(num_iterations)):\n",
    "        AL, caches = forward_propagation_model(training_images_flatten, parameters, activations_list)\n",
    "        accuracy = accuracy_score(AL, training_labels)\n",
    "        if activations_list[len(activations_list)-1] ==\"softmax\":\n",
    "            cost = softmax_loss_function(AL, training_labels_one_hot)\n",
    "        elif activations_list[len(activations_list)-1] ==\"sigmoid\":\n",
    "            cost = sigmoid_loss_function(AL, training_labels_one_hot)\n",
    "\n",
    "        costs.append(cost)\n",
    "        \n",
    "        if i % 100 == 0:\n",
    "            accuracies.append(accuracy)\n",
    "        \n",
    "        gradients = back_propagation_model(AL, training_labels_one_hot,caches)\n",
    "        parameters = update_parameters(parameters, gradients, learning_rate)\n",
    "        \n",
    "    accuracies.append(accuracy)\n",
    "    return accuracies, costs, parameters"
   ]
  },
  {
   "cell_type": "markdown",
   "id": "7c891995",
   "metadata": {},
   "source": [
    "At this stage it would be great to do a sanity check to ensure everything is working properly"
   ]
  },
  {
   "cell_type": "code",
   "execution_count": 13,
   "id": "5dbd5609",
   "metadata": {},
   "outputs": [
    {
     "name": "stderr",
     "output_type": "stream",
     "text": [
      "100%|████████████████████████████████████████████████████████████████████████████████| 250/250 [00:11<00:00, 20.96it/s]"
     ]
    },
    {
     "name": "stdout",
     "output_type": "stream",
     "text": [
      "The accuracy on the training set after training is 92.40%\n"
     ]
    },
    {
     "name": "stderr",
     "output_type": "stream",
     "text": [
      "\n"
     ]
    }
   ],
   "source": [
    "layer_units = [reshape_X(training_images).shape[0], 512, 10]\n",
    "activation_list = [\"relu\", \"softmax\"]\n",
    "learning_rate = 0.1\n",
    "num_iterations = 250\n",
    "\n",
    "accuracies, costs, parameters = neural_network_model(training_images, training_labels, layer_units, activation_list, learning_rate, num_iterations)\n",
    "print('The accuracy on the training set after training is {0:.2f}%'.format(accuracies[len(accuracies)-1]))"
   ]
  },
  {
   "cell_type": "markdown",
   "id": "da8fb9cb",
   "metadata": {},
   "source": [
    "<a id = \"predict\"></a>\n",
    "## 10. [Predict Output](#toc)\n",
    "\n",
    "In this section, we will define the function to predict the output."
   ]
  },
  {
   "cell_type": "code",
   "execution_count": 14,
   "id": "c14286f0",
   "metadata": {},
   "outputs": [],
   "source": [
    "def predict(X_flatten, parameters, activations_list):\n",
    "    \"\"\"\n",
    "    Calculates the activation vector for the test data\n",
    "    Arguments: Input Features, trained weights and parameters and activations of each layer\n",
    "    Returns: Predicted number of neural network\n",
    "    \"\"\"\n",
    "    AL, caches = forward_propagation_model(X_flatten, parameters, activations_list)\n",
    "    AL_to_numbers = np.argmax(AL, axis = 0)\n",
    "    return AL_to_numbers"
   ]
  },
  {
   "cell_type": "code",
   "execution_count": 15,
   "id": "45ecdbd1",
   "metadata": {},
   "outputs": [
    {
     "name": "stdout",
     "output_type": "stream",
     "text": [
      "The accuracy on the test set after training is 87.5%\n"
     ]
    }
   ],
   "source": [
    "predictions = predict(reshape_X(test_images), parameters, activation_list)\n",
    "accuracy = np.sum(predictions == test_labels)/test_labels.shape[0]\n",
    "print(f'The accuracy on the test set after training is {accuracy*100}%')"
   ]
  },
  {
   "cell_type": "markdown",
   "id": "d5c3cd44",
   "metadata": {},
   "source": [
    "<a id = 'together'></a>\n",
    "## 11. [Putting Everything Together](#toc)\n",
    "\n",
    "Which brings us to the final section of the project. Here we will finally train the model on the training set and use it for making predictions on the test set and explore some salient details about the model"
   ]
  },
  {
   "cell_type": "code",
   "execution_count": 16,
   "id": "c3220345",
   "metadata": {},
   "outputs": [
    {
     "name": "stderr",
     "output_type": "stream",
     "text": [
      "100%|████████████████████████████████████████████████████████████████████████████████| 500/500 [00:23<00:00, 21.37it/s]"
     ]
    },
    {
     "name": "stdout",
     "output_type": "stream",
     "text": [
      "The accuracy on the training set after training is 97.10%\n"
     ]
    },
    {
     "name": "stderr",
     "output_type": "stream",
     "text": [
      "\n"
     ]
    }
   ],
   "source": [
    "layer_units = [reshape_X(training_images).shape[0], 512, 10]\n",
    "activation_list = [\"relu\", \"softmax\"]\n",
    "learning_rate = 0.1\n",
    "num_iterations = 500\n",
    "\n",
    "accuracies, costs, parameters = neural_network_model(training_images, training_labels, layer_units, activation_list, learning_rate, num_iterations)\n",
    "print('The accuracy on the training set after training is {0:.2f}%'.format(accuracies[len(accuracies)-1]))"
   ]
  },
  {
   "cell_type": "markdown",
   "id": "ae3be629",
   "metadata": {},
   "source": [
    "<a id = 'variation'></a>\n",
    "## 11.1. [Variation of Cost with number of iterations](#toc)\n",
    "\n",
    "The costs can be plotted to check how they vary per iteration and confirm whether the costs are indeed reducing in general"
   ]
  },
  {
   "cell_type": "code",
   "execution_count": 17,
   "id": "4ba9ab96",
   "metadata": {},
   "outputs": [
    {
     "data": {
      "image/png": "[encoded data removed]",
      "text/plain": [
       "<Figure size 432x288 with 1 Axes>"
      ]
     },
     "metadata": {
      "needs_background": "light"
     },
     "output_type": "display_data"
    }
   ],
   "source": [
    "plt.plot(costs)\n",
    "plt.xlabel(\"Number of iterations\")\n",
    "ticks = range(1,519, 25)\n",
    "tick_labels = [str(tick - 1) if tick!=1 else str(tick) for tick in ticks]\n",
    "plt.xticks(ticks, tick_labels, rotation = 45)\n",
    "plt.yticks(np.linspace(0,2.5,10))\n",
    "plt.title(\"Variation of Cost with Number of iterations\")\n",
    "plt.ylabel('Softmax Cost')\n",
    "plt.grid()"
   ]
  },
  {
   "cell_type": "markdown",
   "id": "a8ade118",
   "metadata": {},
   "source": [
    "<a id = 'accuracy_test_set'></a>\n",
    "## 11.2. [Accuracy on the Test Set](#toc)\n",
    "\n",
    "Accuracy on the test set is another important metric to confirm that we have not overfitted our model to have high variance and hence the model is not generalizable."
   ]
  },
  {
   "cell_type": "code",
   "execution_count": 18,
   "id": "9efc4f50",
   "metadata": {},
   "outputs": [
    {
     "name": "stdout",
     "output_type": "stream",
     "text": [
      "The accuracy on the test set after training is 91.5%\n"
     ]
    }
   ],
   "source": [
    "predictions = predict(reshape_X(test_images), parameters, activation_list)\n",
    "accuracy = np.sum(predictions == test_labels)/test_labels.shape[0]\n",
    "print(f'The accuracy on the test set after training is {accuracy*100}%')"
   ]
  },
  {
   "cell_type": "markdown",
   "id": "ac0d1191",
   "metadata": {},
   "source": [
    "So we have not overfitted our model on the training data. Also our initial assumptions for learning rate, activation functions, number of units in the layers and number of iterations have yielded some really good results!"
   ]
  }
 ],
 "metadata": {
  "kernelspec": {
   "display_name": "Python 3",
   "language": "python",
   "name": "python3"
  },
  "language_info": {
   "codemirror_mode": {
    "name": "ipython",
    "version": 3
   },
   "file_extension": ".py",
   "mimetype": "text/x-python",
   "name": "python",
   "nbconvert_exporter": "python",
   "pygments_lexer": "ipython3",
   "version": "3.8.8"
  }
 },
 "nbformat": 4,
 "nbformat_minor": 5
}
