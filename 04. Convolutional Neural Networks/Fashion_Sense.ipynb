{
 "cells": [
  {
   "cell_type": "markdown",
   "metadata": {
    "id": "lgi6gai-2lLd",
    "slideshow": {
     "slide_type": "slide"
    }
   },
   "source": [
    "# Fashion Sense\n",
    "\n",
    "<a id = 'toc'></a>\n",
    "## Table of Contents\n",
    "1. [Introduction](#intro)\n",
    "2. [Reading in the Data](#load_data)<br>\n",
    "\n",
    "### [Part I: Before the Beginning](#partI)<br>\n",
    "\n",
    "3. [Data Augmentation](#data_augmentation)<br>\n",
    "    3.1 [Data Augmentation Functions](#data_aug_fn)<br>\n",
    "    3.2 [Data Augmentation Step](#data_augmentation_step)<br>\n",
    "\n",
    "### [Part II: Birthing](#partII)<br>\n",
    "\n",
    "4. [Convolutional Neural Network](#cnn)<br>\n",
    "    4.1 [Helper Functions Definitions](#defhelper)<br>\n",
    "    4.2 [Training the model and Observing the Metrics](#training)<br>\n",
    "    4.3 [Comparison of Different Models](#model_comparison)\n",
    "\n",
    "### [Part III: Search for a Road Less Travelled](#partIII)<br>\n",
    "\n",
    "5. [On hyperparameters and other Mundanities](#tuning_path)<br>\n",
    "    5.1 [Modified LeNet Model](#mod_lenet)<br>\n",
    "    5.2 [A Modified CNN Function](#modified_cnn)<br>\n",
    "    5.3 [Training the Modified LeNet Model](#training_mod_lenet)<br>\n",
    "    5.4 [Comparison of LeNet and Modified LeNet](#plotting_lenet_and_mod_lenet)"
   ]
  },
  {
   "cell_type": "markdown",
   "metadata": {
    "id": "capl8nLE4zJy",
    "slideshow": {
     "slide_type": "slide"
    }
   },
   "source": [
    "<a id='intro'></a>\n",
    "## [1. Introduction](#toc)\n",
    "\n",
    "Okay. I guess at some point, even our devices will be able to judge our fashion choices! What we'll be attempting to do in this notebook is to simply train a neural network to classify images of clothing. While at a cursory glance this seems like a fairly simple problem statement. Especially when we consider that we'll be using vanilla mnist fashion dataset (with data augmentation but still its a fairly common dataset). However the consequences are far-reaching. I can already envision a future when our \"smart mirrors\" will be able to recommend a matching pair of clothes from our wardrobes. And the first step to this is to enable our machines to correctly identify and classify clothing. "
   ]
  },
  {
   "cell_type": "markdown",
   "metadata": {
    "id": "5Ds1DERPNZng",
    "slideshow": {
     "slide_type": "slide"
    }
   },
   "source": [
    "<a id='load_data'></a>\n",
    "## [2. Reading in the Data](#toc)\n",
    "\n",
    "The first task is to import utf-8 encoded data, decompress it and store it in a numpy array of the correct dimensions. There are supposed to be 60000 examples in the training set and 10000 examples in the test set."
   ]
  },
  {
   "cell_type": "code",
   "execution_count": 1,
   "metadata": {
    "executionInfo": {
     "elapsed": 6,
     "status": "ok",
     "timestamp": 1632408556979,
     "user": {
      "displayName": "Pratik Sanghavi",
      "photoUrl": "https://lh3.googleusercontent.com/a/default-user=s64",
      "userId": "11960379510711371047"
     },
     "user_tz": -330
    },
    "id": "lgajLiYZ24EF",
    "slideshow": {
     "slide_type": "subslide"
    }
   },
   "outputs": [],
   "source": [
    "import numpy as np\n",
    "import random\n",
    "import os\n",
    "from tqdm import tqdm\n",
    "import matplotlib.pyplot as plt\n",
    "import cv2 as cv\n",
    "import tensorflow as tf\n",
    "from tensorflow import keras\n",
    "\n",
    "%matplotlib inline"
   ]
  },
  {
   "cell_type": "code",
   "execution_count": 2,
   "metadata": {
    "executionInfo": {
     "elapsed": 6,
     "status": "ok",
     "timestamp": 1632408556980,
     "user": {
      "displayName": "Pratik Sanghavi",
      "photoUrl": "https://lh3.googleusercontent.com/a/default-user=s64",
      "userId": "11960379510711371047"
     },
     "user_tz": -330
    },
    "id": "bjHttRbN7HCI",
    "slideshow": {
     "slide_type": "subslide"
    }
   },
   "outputs": [],
   "source": [
    "def load_data():\n",
    "    \"\"\"\n",
    "    This function returns training and test features and labels\n",
    "    Arguments: None\n",
    "    Returns: training_images, training_labels, test_images, test_labels\n",
    "    \"\"\"\n",
    "    import gzip\n",
    "    with open(\"./Data/train-images-idx3-ubyte.gz\", 'rb') as f:\n",
    "        data = f.read()\n",
    "        training_images = np.frombuffer(gzip.decompress(data), dtype=np.uint8).copy()\n",
    "        \n",
    "    with open(\"./Data/train-labels-idx1-ubyte.gz\", 'rb') as f:\n",
    "        data = f.read()\n",
    "        training_labels = np.frombuffer(gzip.decompress(data), dtype=np.uint8).copy()\n",
    "    \n",
    "    with open(\"./Data/t10k-images-idx3-ubyte.gz\", 'rb') as f:\n",
    "        data = f.read()\n",
    "        test_images = np.frombuffer(gzip.decompress(data), dtype=np.uint8).copy()\n",
    "    with open(\"./Data/t10k-labels-idx1-ubyte.gz\", 'rb') as f:\n",
    "        data = f.read()\n",
    "        test_labels = np.frombuffer(gzip.decompress(data), dtype=np.uint8).copy()   \n",
    "    \n",
    "    return training_images[16:].reshape((-1,28,28)), np.squeeze(training_labels[8:]), test_images[16:].reshape((-1,28,28)), np.squeeze(test_labels[8:])"
   ]
  },
  {
   "cell_type": "code",
   "execution_count": 3,
   "metadata": {
    "executionInfo": {
     "elapsed": 633,
     "status": "ok",
     "timestamp": 1632408557608,
     "user": {
      "displayName": "Pratik Sanghavi",
      "photoUrl": "https://lh3.googleusercontent.com/a/default-user=s64",
      "userId": "11960379510711371047"
     },
     "user_tz": -330
    },
    "id": "bRE2qwpN7nGB",
    "slideshow": {
     "slide_type": "subslide"
    }
   },
   "outputs": [],
   "source": [
    "training_images, training_labels, test_images, test_labels = load_data()\n",
    "label_mapping = {0: \"T-shirt/top\", 1: \"Trouser\", 2: \"Pullover\", 3: \"Dress\", 4: \"Coat\", 5: \"Sandal\", 6: \"Shirt\", 7: \"Sneaker\", 8: \"Bag\", 9: \"Ankle Boot\"}"
   ]
  },
  {
   "cell_type": "markdown",
   "metadata": {
    "id": "PzYWj54AMoiF",
    "slideshow": {
     "slide_type": "subslide"
    }
   },
   "source": [
    "I'll first validate the data that has been read to confirm that indeed the data is in the form that I expect it to be in (need to do this since the original data wasn't exactly divisible by 784 which led me to drop the first few pixel values and also dropped the first few values of labels as evident from the function I have written. This is just a sanity check to ensure that the dropped pixels and labels don't cause any shift in the pixel values that belong to a particular example)"
   ]
  },
  {
   "cell_type": "code",
   "execution_count": 4,
   "metadata": {
    "colab": {
     "base_uri": "https://localhost:8080/",
     "height": 723
    },
    "executionInfo": {
     "elapsed": 1359,
     "status": "ok",
     "timestamp": 1632408558963,
     "user": {
      "displayName": "Pratik Sanghavi",
      "photoUrl": "https://lh3.googleusercontent.com/a/default-user=s64",
      "userId": "11960379510711371047"
     },
     "user_tz": -330
    },
    "id": "PQBNeLsK7rr4",
    "outputId": "6eaf8791-9d16-4f8b-822a-ea3b68db92f0",
    "slideshow": {
     "slide_type": "subslide"
    }
   },
   "outputs": [
    {
     "name": "stdout",
     "output_type": "stream",
     "text": [
      "(60000, 28, 28)\n",
      "(60000,)\n",
      "(10000, 28, 28)\n",
      "(10000,)\n",
      "Number of unique pixel values in the training set:256\n",
      "Number of unique pixel values in the test set:256\n",
      "Number of unique labels in training set:10\n",
      "Number of unique labels in test set:10\n"
     ]
    },
    {
     "data": {
      "image/png": "[encoded data removed]",
      "text/plain": [
       "<Figure size 720x720 with 25 Axes>"
      ]
     },
     "metadata": {},
     "output_type": "display_data"
    }
   ],
   "source": [
    "print(training_images.shape)\n",
    "print(training_labels.shape)\n",
    "print(test_images.shape)\n",
    "print(test_labels.shape)\n",
    "\n",
    "print(f'Number of unique pixel values in the training set:{len(np.unique(training_images.reshape((training_images.shape[0], -1))))}')\n",
    "print(f'Number of unique pixel values in the test set:{len(np.unique(test_images.reshape((test_images.shape[0], -1))))}')\n",
    "print(f'Number of unique labels in training set:{len(np.unique(training_labels))}\\nNumber of unique labels in test set:{len(np.unique(test_labels))}')\n",
    "\n",
    "plt.figure(figsize=(10,10))\n",
    "plt.suptitle(\"Image Data with Labels\")\n",
    "for i in range(25):\n",
    "    plt.subplot(5,5, i+1)\n",
    "    plt.xticks([])\n",
    "    plt.yticks([])\n",
    "    plt.grid(False)\n",
    "    plt.imshow(training_images[i], cmap=plt.cm.binary)\n",
    "    plt.xlabel(label_mapping[training_labels[i]])"
   ]
  },
  {
   "cell_type": "markdown",
   "metadata": {
    "id": "giRqd8HiOcYG",
    "slideshow": {
     "slide_type": "skip"
    }
   },
   "source": [
    "Man its great when things work! With the confirmation that the pictures and labels match up, we can move to the next step which is data augmentation."
   ]
  },
  {
   "cell_type": "markdown",
   "metadata": {
    "slideshow": {
     "slide_type": "slide"
    }
   },
   "source": [
    "<a id = \"partI\"></a>\n",
    "# [Part I: Before the Beginning](#toc)\n",
    "> Want some data? Make your own!"
   ]
  },
  {
   "cell_type": "markdown",
   "metadata": {
    "id": "NZPM83h2OqIQ",
    "slideshow": {
     "slide_type": "slide"
    }
   },
   "source": [
    "<a id=\"data_augmentation\"></a>\n",
    "## [3. Data Augmentation](#toc)\n",
    "\n",
    "In this section we'll be using data augmentation techniques to add to the dataset. And boy this is going to make things tougher for our network!"
   ]
  },
  {
   "cell_type": "markdown",
   "metadata": {
    "slideshow": {
     "slide_type": "slide"
    }
   },
   "source": [
    "<a id = 'data_aug_fn'></a>\n",
    "### 3.1 [Data Augmentation Functions](#toc)\n",
    "\n",
    "This brings us to deciding what augmentation techniques could be employed here. Right off the bat, I can think of:\n",
    "1. Flipping (horizontal and vertical)\n",
    "2. Random Cropping\n",
    "3. Random Rotation\n",
    "4. Histogram Equalisation\n",
    "5. Introduction of Random Noise\n",
    "6. Filtering (unsuitable since input size of image is really small)\n",
    "7. Scaling techniques but I really want to avoid these!!\n",
    "\n",
    "Lets get started with the function definitions."
   ]
  },
  {
   "cell_type": "code",
   "execution_count": 5,
   "metadata": {
    "slideshow": {
     "slide_type": "subslide"
    }
   },
   "outputs": [],
   "source": [
    "def flipping(img, axis = \"horizontal\"):\n",
    "    \"\"\"\n",
    "    Flip image about the axis chosen\n",
    "    Arguments: Image and axis of rotation (since this is a 180 degree rotation about the chosen axis)\n",
    "    Returns: Flipped image as per chosen axis\n",
    "    \"\"\"\n",
    "    if axis == \"horizontal\":\n",
    "        return cv.flip(img, 1)\n",
    "    elif axis == \"vertical\":\n",
    "        return cv.flip(img, 0)\n",
    "    elif axis == \"both\":\n",
    "        return cv.flip(img, -1)\n",
    "    \n",
    "def random_cropping(img, scale = 0.9):\n",
    "    \"\"\"\n",
    "    Random crop of the image based on the scale chosen\n",
    "    Arguments: Image and scale based on which cropping dimensions are chosen\n",
    "    Returns: Cropped image as per chosen axis\n",
    "    \"\"\"\n",
    "    height, width = int(img.shape[0] * scale), int(img.shape[1] * scale)\n",
    "    x = random.randint(0, img.shape[1] - width)\n",
    "    y = random.randint(0, img.shape[0] - height)\n",
    "    cropped = img[y:y+height, x:x+height]\n",
    "    return cv.resize(cropped, (img.shape[1], img.shape[0]), interpolation=cv.INTER_AREA);\n",
    "\n",
    "def random_rotation(img, rotation_point = None):\n",
    "    \"\"\"\n",
    "    Random rotation of the image based on the rotation point chosen\n",
    "    Arguments: Image and rotation point about which image will be rotated\n",
    "    Returns: Rotated image as per chosen rotation point and randomly generated angle\n",
    "    \"\"\"\n",
    "    (height, width) = img.shape\n",
    "    \n",
    "    if rotation_point is None:\n",
    "        rotation_point = (width//2, height//2)\n",
    "    \n",
    "    angle = random.randint(5, 355)\n",
    "    \n",
    "    rotMat = cv.getRotationMatrix2D(rotation_point, angle, 1.0)\n",
    "    dimensions = (width, height)\n",
    "    return cv.warpAffine(img, rotMat,dimensions)\n",
    "\n",
    "def histogram_equalisation(img):\n",
    "    \"\"\"\n",
    "    Carries out histogram equalisation to better distribute pixel intensity values across the image\n",
    "    Arguments: Image\n",
    "    Returns: Histogram equalised output for image\n",
    "    \"\"\"\n",
    "    return cv.equalizeHist(img)\n",
    "\n",
    "def add_noise(img, noise=\"gauss\"):\n",
    "    \"\"\"\n",
    "    Adds a random noise component to the input image based on the type chosen\n",
    "    Arguments: Image and noise type\n",
    "                One thing to note that dark pixels correspond to 255 and light to 0.\n",
    "    Returns: Noisy output\n",
    "    \"\"\"\n",
    "    if noise == \"gauss\": \n",
    "        mean=0\n",
    "        std=0.8\n",
    "        gaussian_filter = np.random.normal(mean,std,img.shape)\n",
    "        gaussian_filter = gaussian_filter.astype('uint8')\n",
    "        img = cv.add(img,gaussian_filter)\n",
    "    elif noise == \"salt_pepper\":\n",
    "        prob = 0.05\n",
    "        white = 0\n",
    "        black = 255\n",
    "        probs = np.random.random(img.shape)\n",
    "        img[probs < (prob / 2)] = black\n",
    "        img[probs > 1 - (prob / 2)] = white\n",
    "    return img\n",
    "\n",
    "def scaling(img, type = \"linear_clipped\"):\n",
    "    \"\"\"\n",
    "    Scales Image as per option chosen\n",
    "    Arguments: Image and option between 'linear_clipped','non_linear_log' and 'non_linear_exp'. \n",
    "                One thing to note is that dark pixels correspond to 255 and light to 0.\n",
    "    Returns: Scaled output\n",
    "    \"\"\"\n",
    "    if type == \"linear_clipped\":\n",
    "        slope = random.uniform(1,3)\n",
    "        return (slope*img.astype(int)).astype('uint8')\n",
    "    elif type == \"non_linear_log\": # more useful as light pixels are made darker.\n",
    "        return (46 * np.log(img.astype(int) + 1)).astype('uint8')\n",
    "    elif type == \"non_linear_exp\": # Not useful since the light pixels (close to 0) are made even lighter\n",
    "        temp = (np.exp(img.astype(int)) - 1)*255/(np.exp(255) - 1)\n",
    "        return temp.astype('uint8')"
   ]
  },
  {
   "cell_type": "markdown",
   "metadata": {
    "slideshow": {
     "slide_type": "subslide"
    }
   },
   "source": [
    "We absolutely can't use filtering here since the input images are $28\\times28$ which is a really small input size. If we use padding it will have a significant effect on the output since 1 is significant with respect to 28. Padding only really works well in case of dimensions that are significant. "
   ]
  },
  {
   "cell_type": "markdown",
   "metadata": {
    "slideshow": {
     "slide_type": "slide"
    }
   },
   "source": [
    "<a id = 'data_augmentation_step'></a>\n",
    "### 3.2 [Data Augmentation Step](#toc)\n",
    "\n",
    "Now all we need to do is to define a data augmentation function that will enable us to create new training data from existing data and labels."
   ]
  },
  {
   "cell_type": "code",
   "execution_count": 6,
   "metadata": {
    "slideshow": {
     "slide_type": "subslide"
    }
   },
   "outputs": [],
   "source": [
    "def augment_data(training_images, training_labels):\n",
    "    \"\"\"\n",
    "    \n",
    "    \"\"\"\n",
    "    training_images_augmented = []\n",
    "    training_labels_augmented = []\n",
    "    axes = [\"horizontal\",\"vertical\",\"both\"]\n",
    "    noise_types = [\"gauss\",\"salt_pepper\"]\n",
    "    scaling_option = [\"linear_clipped\",\"non_linear_log\"]\n",
    "    for i in range(training_images.shape[0]):\n",
    "        training_images_augmented.append(training_images[i])\n",
    "        training_labels_augmented.append(training_labels[i])\n",
    "        \n",
    "        flipping_choice = random.randint(0,2)\n",
    "        training_images_augmented.append(flipping(training_images[i],axes[flipping_choice]))\n",
    "        training_labels_augmented.append(training_labels[i])\n",
    "        \n",
    "        training_images_augmented.append(random_cropping(training_images[i]))\n",
    "        training_labels_augmented.append(training_labels[i])\n",
    "        \n",
    "        training_images_augmented.append(random_rotation(training_images[i]))\n",
    "        training_labels_augmented.append(training_labels[i])\n",
    "        \n",
    "        training_images_augmented.append(histogram_equalisation(training_images[i]))\n",
    "        training_labels_augmented.append(training_labels[i])\n",
    "        \n",
    "        noise_choice = random.randint(0,1) #The rhyme here 😛\n",
    "        training_images_augmented.append(add_noise(training_images[i], noise_types[noise_choice]))\n",
    "        training_labels_augmented.append(training_labels[i])\n",
    "        \n",
    "        scaling_choice = random.randint(0,1)\n",
    "        training_images_augmented.append(scaling(training_images[i], scaling_option[scaling_choice]))\n",
    "        training_labels_augmented.append(training_labels[i])\n",
    "        \n",
    "    training_images_augmented = np.array(training_images_augmented)\n",
    "    training_labels_augmented = np.array(training_labels_augmented)\n",
    "    \n",
    "    p = np.random.permutation(len(training_labels_augmented))\n",
    "    training_images_augmented_shuffled = training_images_augmented[p]\n",
    "    training_labels_augmented_shuffled = training_labels_augmented[p]\n",
    "    \n",
    "    return training_images_augmented_shuffled, training_labels_augmented_shuffled"
   ]
  },
  {
   "cell_type": "markdown",
   "metadata": {
    "slideshow": {
     "slide_type": "subslide"
    }
   },
   "source": [
    "We'll perform a small sanity check before proceeding to feed it to our convolutional neural network"
   ]
  },
  {
   "cell_type": "code",
   "execution_count": 7,
   "metadata": {
    "slideshow": {
     "slide_type": "subslide"
    }
   },
   "outputs": [
    {
     "data": {
      "image/png": "[encoded data removed]",
      "text/plain": [
       "<Figure size 720x720 with 25 Axes>"
      ]
     },
     "metadata": {},
     "output_type": "display_data"
    }
   ],
   "source": [
    "training_images_augmented, training_labels_augmented = augment_data(training_images, training_labels)\n",
    "\n",
    "plt.figure(figsize=(10,10))\n",
    "plt.suptitle(\"Augmented Image Data with Labels\")\n",
    "for i in range(25):\n",
    "    plt.subplot(5,5, i+1)\n",
    "    plt.xticks([])\n",
    "    plt.yticks([])\n",
    "    plt.grid(False)\n",
    "    plt.imshow(training_images_augmented[i], cmap=plt.cm.binary)\n",
    "    plt.xlabel(label_mapping[training_labels_augmented[i]])"
   ]
  },
  {
   "cell_type": "markdown",
   "metadata": {
    "slideshow": {
     "slide_type": "subslide"
    }
   },
   "source": [
    "We'll also define a function that will be damn useful in the next segment of this notebook."
   ]
  },
  {
   "cell_type": "code",
   "execution_count": 8,
   "metadata": {
    "slideshow": {
     "slide_type": "subslide"
    }
   },
   "outputs": [],
   "source": [
    "def reshape_images(image_data):\n",
    "    \"\"\"\n",
    "    Reshape Image data into a format that keras can process\n",
    "    Arguments: Vector containing multiple images\n",
    "    Returns: Vector with multiple images with increased number of dimensions\n",
    "    \"\"\"\n",
    "    image_data = image_data.reshape(image_data.shape[0],\n",
    "                                    image_data.shape[1],\n",
    "                                    image_data.shape[2],\n",
    "                                    1)\n",
    "    return image_data"
   ]
  },
  {
   "cell_type": "markdown",
   "metadata": {
    "slideshow": {
     "slide_type": "slide"
    }
   },
   "source": [
    "<a id = \"partII\"></a>\n",
    "# [Part II: Birthing](#toc)\n",
    "\n",
    "> Rise my glorious creation, rise...."
   ]
  },
  {
   "cell_type": "markdown",
   "metadata": {
    "slideshow": {
     "slide_type": "slide"
    }
   },
   "source": [
    "<a id = \"cnn\"></a>\n",
    "## 4. [Convolutional Neural Network](#toc)\n",
    "\n",
    "We'll be implementing various well-known CNN architectures (with a few tweaks) since some of those applications seem pretty close to what we're attempting to do here"
   ]
  },
  {
   "cell_type": "markdown",
   "metadata": {
    "slideshow": {
     "slide_type": "slide"
    }
   },
   "source": [
    "<a id = 'defhelper'></a>\n",
    "### 4.1 [Helper Function Definitions](#toc)\n",
    "\n",
    "In this section, we'll be looking to define certain functions that will help us to implement our CNN. Some standard CNN architectures namely LeNet and VGG with a few tweaks to suit the dataset are implemented."
   ]
  },
  {
   "cell_type": "code",
   "execution_count": 35,
   "metadata": {
    "slideshow": {
     "slide_type": "subslide"
    }
   },
   "outputs": [],
   "source": [
    "def LeNet(training_images_augmented, training_labels_augmented, validation_images, validation_labels, kernel_size = 3, optimizer = \"adam\", loss = keras.losses.sparse_categorical_crossentropy, metrics = ['accuracy'], epochs = 5):\n",
    "    \"\"\"\n",
    "    Implements a tweaked version of the LeNet neural network\n",
    "    \n",
    "    Arguments:-\n",
    "    1) Training Image Data\n",
    "    2) Training Labels\n",
    "    3) Cross Validation Set Image Data\n",
    "    4) Cross Validation Set Label Data\n",
    "    5) Kernel Size of all Convolution layers\n",
    "    6) Optimizer for learning rate\n",
    "    7) Loss Function (will be fixed to categorical cross entropy since output is softmax layer)\n",
    "    8) Metrics to judge model performance\n",
    "    9) Number of epochs\n",
    "    \n",
    "    Returns:-\n",
    "    Trained model implementing LeNet Neural Network with a few modifications (such as kernel size variation, activation function)\n",
    "    \"\"\"\n",
    "    lenet_model = keras.models.Sequential([\n",
    "                                            keras.layers.Conv2D(6, kernel_size=kernel_size, strides=1,  activation='relu', input_shape=training_images_augmented[0].shape, padding='same'), \n",
    "                                            keras.layers.MaxPool2D(),\n",
    "                                            keras.layers.Conv2D(16, kernel_size=kernel_size, strides=1, activation='relu', padding='same'),\n",
    "                                            keras.layers.MaxPool2D(),\n",
    "                                            keras.layers.Flatten(),\n",
    "                                            keras.layers.Dense(120, activation='relu'),\n",
    "                                            keras.layers.Dense(84, activation='relu'),\n",
    "                                            keras.layers.Dense(10, activation='softmax')\n",
    "                                            ])\n",
    "\n",
    "    lenet_model.compile(optimizer = optimizer, loss = loss, metrics = metrics)\n",
    "\n",
    "    history = lenet_model.fit(training_images_augmented, training_labels_augmented, epochs=epochs, verbose = 1, validation_data=(validation_images, validation_labels))\n",
    "    return lenet_model, history\n",
    "\n",
    "def VGG(training_images_augmented, training_labels_augmented, validation_images, validation_labels, kernel_size = 3, optimizer = \"adam\", loss = keras.losses.sparse_categorical_crossentropy, metrics = ['accuracy'], epochs = 5):\n",
    "    '''\n",
    "    We need to go deeper\n",
    "    Implements a version of the VGG neural network\n",
    "    \n",
    "    Arguments:-\n",
    "    1) Training Image Data\n",
    "    2) Training Labels\n",
    "    3) Cross Validation Set Image Data\n",
    "    4) Cross Validation Set Label Data\n",
    "    5) Kernel Size of all Convolution layers\n",
    "    6) Optimizer for learning rate\n",
    "    7) Loss Function (will be fixed to categorical cross entropy since output is softmax layer)\n",
    "    8) Metrics to judge model performance\n",
    "    9) Number of epochs\n",
    "    \n",
    "    Returns:-\n",
    "    Trained model implementing VGG Neural Network with a few modifications (such as kernel size variation, reduced number of layers and output of neural network has fewer classes than the original VGG)\n",
    "    '''\n",
    "    vgg_model = keras.models.Sequential([\n",
    "                                        keras.layers.Conv2D(64, kernel_size = kernel_size, padding = 'same', activation = 'relu', input_shape = training_images_augmented[0].shape),\n",
    "                                        keras.layers.Conv2D(64, kernel_size = kernel_size, padding = 'same', activation = 'relu'),\n",
    "                                        keras.layers.MaxPool2D(pool_size = 2, strides = 2, padding = 'same'), # Layer 1\n",
    "                                        keras.layers.Conv2D(128, kernel_size = kernel_size, padding = 'same', activation = 'relu'),\n",
    "                                        keras.layers.Conv2D(128, kernel_size = kernel_size, padding = 'same', activation = 'relu'),\n",
    "                                        keras.layers.MaxPool2D(pool_size = 2, strides = 2, padding = 'same'), #Layer 2\n",
    "                                        keras.layers.Flatten(),\n",
    "                                        keras.layers.Dense(4096, activation='relu'), #FC1\n",
    "                                        keras.layers.Dense(4096, activation='relu'), #FC2\n",
    "                                        keras.layers.Dense(10, activation='softmax') #softmax output layer\n",
    "                                        ])\n",
    "    vgg_model.compile(optimizer = optimizer, loss = loss, metrics = metrics)\n",
    "\n",
    "    history = vgg_model.fit(training_images_augmented, training_labels_augmented, epochs=epochs, verbose = 1, validation_data=(validation_images, validation_labels))\n",
    "    return vgg_model, history\n",
    "\n",
    "def implement_cnn(training_images_augmented, validation_images, training_labels_augmented, validation_labels, cnn_model = \"lenet\", kernel_size = 3, optimizer = \"adam\", loss = keras.losses.sparse_categorical_crossentropy, metrics = ['accuracy'], epochs = 5):\n",
    "    \"\"\"\n",
    "    Implements CNN based on choice of architecture\n",
    "    Arguments:-\n",
    "    1) Training Image Data\n",
    "    2) Cross Validation Set Image Data\n",
    "    3) Training Labels\n",
    "    4) Cross Validation Set Label Data\n",
    "    5) Choice of CNN architecture\n",
    "    6) Kernel Size of all Convolution layers\n",
    "    7) Optimizer for learning rate\n",
    "    8) Loss Function (will be fixed to categorical cross entropy since output is softmax layer)\n",
    "    9) Metrics to judge model performance\n",
    "    10) Number of epochs\n",
    "    \n",
    "    Returns:-\n",
    "    Trained model implementing CNN architecture as per choice\n",
    "    \"\"\"\n",
    "    training_images_augmented = reshape_images(training_images_augmented)\n",
    "    validation_images = reshape_images(validation_images)\n",
    "    if cnn_model == \"lenet\":\n",
    "        model, history = LeNet(training_images_augmented,\n",
    "                      training_labels_augmented,\n",
    "                      validation_images,\n",
    "                      validation_labels,\n",
    "                      kernel_size,\n",
    "                      optimizer,\n",
    "                      loss,\n",
    "                      metrics,\n",
    "                      epochs)\n",
    "    elif cnn_model == \"vgg\":\n",
    "        model, history = VGG(training_images_augmented,\n",
    "                            training_labels_augmented,\n",
    "                            validation_images,\n",
    "                            validation_labels,\n",
    "                            kernel_size,\n",
    "                            optimizer,\n",
    "                            loss,\n",
    "                            metrics,\n",
    "                            epochs)\n",
    "    return model, history\n",
    "\n",
    "def evaluate_model(model, test_images, test_labels):\n",
    "    \"\"\"\n",
    "    Compute accuracy and loss of the model after training\n",
    "    Arguments:-\n",
    "    1) Trained model\n",
    "    2) Test image dataset\n",
    "    3) Test Labels\n",
    "    \"\"\"\n",
    "    \n",
    "    print(\"Evaluate on test data\")\n",
    "    results = model.evaluate(test_images, test_labels)\n",
    "    print(f\"Test loss: {results[0]}\\nTest accuracy: {results[1]}\")\n",
    "    return results"
   ]
  },
  {
   "cell_type": "markdown",
   "metadata": {
    "slideshow": {
     "slide_type": "slide"
    }
   },
   "source": [
    "<a id = 'training'></a>\n",
    "### 4.2 [Training the model and Observing the Metrics](#toc)\n",
    "\n",
    "We finally come to training the model for which we'll be making a comparison between the performance of the VGG and the LeNet models."
   ]
  },
  {
   "cell_type": "code",
   "execution_count": 12,
   "metadata": {
    "slideshow": {
     "slide_type": "subslide"
    }
   },
   "outputs": [],
   "source": [
    "training_images_augmented = training_images_augmented/255\n",
    "\n",
    "validation_images = test_images[0:7000]/255\n",
    "validation_labels = test_labels[0:7000]\n",
    "\n",
    "test_images_reduced = test_images[7000:]/255\n",
    "test_labels_reduced = test_labels[7000:]\n",
    "\n",
    "lenet_model, lenet_history = implement_cnn(training_images_augmented,\n",
    "                                            validation_images,\n",
    "                                            training_labels_augmented,\n",
    "                                            validation_labels,\n",
    "                                            cnn_model = \"lenet\",\n",
    "                                            kernel_size = 3,\n",
    "                                            optimizer = \"adam\",\n",
    "                                            loss = keras.losses.sparse_categorical_crossentropy,\n",
    "                                            metrics = ['accuracy'],\n",
    "                                            epochs = 5)\n",
    "\n",
    "vgg_model, vgg_history = implement_cnn(training_images_augmented,\n",
    "                                      validation_images,\n",
    "                                      training_labels_augmented,\n",
    "                                      validation_labels,\n",
    "                                      cnn_model = \"vgg\",\n",
    "                                      kernel_size = 3,\n",
    "                                      optimizer = \"adam\",\n",
    "                                      loss = keras.losses.sparse_categorical_crossentropy,\n",
    "                                      metrics = ['accuracy'],\n",
    "                                      epochs = 5)"
   ]
  },
  {
   "cell_type": "code",
   "execution_count": 37,
   "metadata": {
    "slideshow": {
     "slide_type": "subslide"
    }
   },
   "outputs": [
    {
     "name": "stdout",
     "output_type": "stream",
     "text": [
      "Evaluate on test data\n",
      "94/94 [==============================] - 0s 2ms/step - loss: 0.2264 - accuracy: 0.9130\n",
      "Test loss: 0.22643493115901947\n",
      "Test accuracy: 0.9129999876022339\n",
      "Evaluate on test data\n",
      "94/94 [==============================] - 1s 5ms/step - loss: 0.2137 - accuracy: 0.9323\n",
      "Test loss: 0.21371756494045258\n",
      "Test accuracy: 0.9323333501815796\n"
     ]
    },
    {
     "data": {
      "text/plain": [
       "[0.21371756494045258, 0.9323333501815796]"
      ]
     },
     "execution_count": 37,
     "metadata": {},
     "output_type": "execute_result"
    }
   ],
   "source": [
    "test_images_reduced = reshape_images(test_images_reduced)\n",
    "evaluate_model(lenet_model, test_images_reduced, test_labels_reduced)\n",
    "evaluate_model(vgg_model, test_images_reduced, test_labels_reduced)"
   ]
  },
  {
   "cell_type": "markdown",
   "metadata": {
    "slideshow": {
     "slide_type": "subslide"
    }
   },
   "source": [
    "Not unsurprisingly, both the LeNet and VGG have a similar performance on the test set. This is because the input image size being small, the VGG cannot discern a great many number of more features than the LeNet resulting in a similar level of performance being observed."
   ]
  },
  {
   "cell_type": "markdown",
   "metadata": {
    "slideshow": {
     "slide_type": "slide"
    }
   },
   "source": [
    "<a id = 'model_comparison'></a>\n",
    "### 4.3 [Comparison of different models](#toc)\n",
    "\n",
    "Let us see how the two models compare with each other with respect to the training and validation accuracies"
   ]
  },
  {
   "cell_type": "code",
   "execution_count": 39,
   "metadata": {
    "slideshow": {
     "slide_type": "subslide"
    }
   },
   "outputs": [
    {
     "data": {
      "image/png": "[encoded data removed]",
      "text/plain": [
       "<Figure size 432x288 with 1 Axes>"
      ]
     },
     "metadata": {
      "needs_background": "light"
     },
     "output_type": "display_data"
    }
   ],
   "source": [
    "plt.plot(lenet_history.history['loss'])\n",
    "plt.plot(lenet_history.history['val_loss'])\n",
    "plt.plot(vgg_history.history['loss'])\n",
    "plt.plot(vgg_history.history['val_loss'])\n",
    "plt.title('Model Loss Change with Epochs')\n",
    "plt.ylabel('Accuracy')\n",
    "plt.xlabel('Epoch')\n",
    "plt.legend(['LeNet Training Loss', 'LeNet Test Loss', 'VGG Training Loss','VGG Test Loss'], loc='upper right')\n",
    "plt.show()"
   ]
  },
  {
   "cell_type": "markdown",
   "metadata": {
    "slideshow": {
     "slide_type": "subslide"
    }
   },
   "source": [
    "So we can see that by training the VGG model for the same number of epochs as the LeNet model, we're actually degrading performance on the test set (high variance) by overfitting. In fact, we can conclude that we don't need such a deep neural network as the VGG and LeNet is best suited for our purpose."
   ]
  },
  {
   "cell_type": "markdown",
   "metadata": {
    "slideshow": {
     "slide_type": "slide"
    }
   },
   "source": [
    "<a id = 'partIII'></a>\n",
    "# [Part III: Search for a Road Less Travelled](#toc)\n",
    "\n",
    "> `Humans are creatures of habit (pun intended 😜). Machines even more so. Where we differ is while humans fail to acknowledge the naked truth (I'm on fire with puns today 🔥🔥), machines discern the most unobvious ones.`"
   ]
  },
  {
   "cell_type": "markdown",
   "metadata": {
    "slideshow": {
     "slide_type": "slide"
    }
   },
   "source": [
    "<a id = 'tuning_path'></a>\n",
    "## 5. [On hyperparameters and other Mundanities](#toc)\n",
    "\n"
   ]
  },
  {
   "cell_type": "markdown",
   "metadata": {
    "slideshow": {
     "slide_type": "subslide"
    }
   },
   "source": [
    "As per the problem statement, we will now proceed to modify the LeNet model to add:\n",
    "1. Batch Normalisation\n",
    "2. Dropout Regularisation\n",
    "3. Reduced LR on Plateau\n",
    "4. Early Stopping\n",
    "\n",
    "It should be interesting how these changes impact our model!"
   ]
  },
  {
   "cell_type": "markdown",
   "metadata": {
    "slideshow": {
     "slide_type": "slide"
    }
   },
   "source": [
    "<a id = 'mod_lenet'></a>\n",
    "### 5.1 [Modified LeNet Model](#toc)"
   ]
  },
  {
   "cell_type": "code",
   "execution_count": 13,
   "metadata": {
    "slideshow": {
     "slide_type": "subslide"
    }
   },
   "outputs": [],
   "source": [
    "def modified_LeNet(training_images_augmented, training_labels_augmented, validation_images, validation_labels, kernel_size = 3, optimizer = \"adam\", dropout_prob = 0.2, monitor_quantity = 'val_loss', patience_reducelr = 2, patience_earlystopping = 4,loss = keras.losses.sparse_categorical_crossentropy, metrics = ['accuracy'], epochs = 5):\n",
    "    \"\"\"\n",
    "    Implements a tweaked version of the LeNet neural network\n",
    "    \n",
    "    Arguments:-\n",
    "    1) Training Image Data\n",
    "    2) Training Labels\n",
    "    3) Cross Validation Set Image Data\n",
    "    4) Cross Validation Set Label Data\n",
    "    5) Kernel Size of all Convolution layers\n",
    "    6) Optimizer for learning rate\n",
    "    7) Dropout Probability\n",
    "    8) Quantity to monitor for reducing learning rate and early stopping condition\n",
    "    9) Patience for reducing learning rate (patience is the number of epochs)\n",
    "    10) Patience for early stop condition (patience is the number of epochs; set as greater than patience for reducing learning rate)\n",
    "    11) Loss Function (will be fixed to categorical cross entropy since output is softmax layer)\n",
    "    12) Metrics to judge model performance\n",
    "    13) Number of epochs\n",
    "    \n",
    "    Returns:-\n",
    "    Trained model implementing LeNet Neural Network with a few modifications (such as kernel size variation, batch normalisation layers, dropout regularisation layers, reduced lr on plateau, early stopping condition and activation functions)\n",
    "    \"\"\"\n",
    "    mod_lenet_model = keras.models.Sequential([\n",
    "                                            keras.layers.Conv2D(6, kernel_size=kernel_size, strides=1,  activation='relu', input_shape=training_images_augmented[0].shape, padding='same'),\n",
    "                                            keras.layers.BatchNormalization(),\n",
    "                                            keras.layers.MaxPool2D(),\n",
    "                                            keras.layers.Conv2D(16, kernel_size=kernel_size, strides=1, activation='relu', padding='same'),\n",
    "                                            keras.layers.BatchNormalization(),\n",
    "                                            keras.layers.MaxPool2D(),\n",
    "                                            keras.layers.Flatten(),\n",
    "                                            keras.layers.Dense(120, activation='relu'),\n",
    "                                            keras.layers.Dropout(dropout_prob),\n",
    "                                            keras.layers.BatchNormalization(),\n",
    "                                            keras.layers.Dense(84, activation='relu'),\n",
    "                                            keras.layers.Dropout(dropout_prob),\n",
    "                                            keras.layers.BatchNormalization(),\n",
    "                                            keras.layers.Dense(10, activation='softmax')\n",
    "                                            ])\n",
    "    \n",
    "    reduce_lr = keras.callbacks.ReduceLROnPlateau(monitor=monitor_quantity, factor=0.2, patience=patience_reducelr, min_lr=0.001)\n",
    "    early_stopping = keras.callbacks.EarlyStopping(monitor=monitor_quantity, patience = patience_earlystopping)\n",
    "    \n",
    "    mod_lenet_model.compile(optimizer = optimizer, loss = loss, metrics = metrics)\n",
    "\n",
    "    history = mod_lenet_model.fit(training_images_augmented, training_labels_augmented, epochs=epochs, verbose = 1, validation_data=(validation_images, validation_labels), callbacks = [reduce_lr, early_stopping])\n",
    "    return mod_lenet_model, history\n"
   ]
  },
  {
   "cell_type": "markdown",
   "metadata": {
    "slideshow": {
     "slide_type": "subslide"
    }
   },
   "source": [
    "We have to suitably modify the `implement_cnn` function to now accomodate the modified LeNet architecture."
   ]
  },
  {
   "cell_type": "markdown",
   "metadata": {
    "slideshow": {
     "slide_type": "slide"
    }
   },
   "source": [
    "<a id = 'modified_cnn'></a>\n",
    "### 5.2 [A Modified CNN Function](#toc)\n",
    "\n",
    "We will proceed to modify the CNN function to include the modified LeNet design."
   ]
  },
  {
   "cell_type": "code",
   "execution_count": 14,
   "metadata": {
    "slideshow": {
     "slide_type": "subslide"
    }
   },
   "outputs": [],
   "source": [
    "def implement_cnn(training_images_augmented, validation_images, training_labels_augmented, validation_labels, cnn_model = \"lenet\", kernel_size = 3, optimizer = \"adam\", dropout_prob = 0.2, monitor_quantity = 'val_loss', patience_reducelr = 2, patience_earlystopping = 4,loss = keras.losses.sparse_categorical_crossentropy, metrics = ['accuracy'], epochs = 5):\n",
    "    \"\"\"\n",
    "    Implements CNN based on choice of architecture\n",
    "    Arguments:-\n",
    "    1) Training Image Data\n",
    "    2) Cross Validation Set Image Data\n",
    "    3) Training Labels\n",
    "    4) Cross Validation Set Label Data\n",
    "    5) Choice of CNN architecture\n",
    "    6) Kernel Size of all Convolution layers\n",
    "    7) Optimizer for learning rate\n",
    "    8) Dropout Probability\n",
    "    9) Quantity to monitor for reducing learning rate and early stopping condition\n",
    "    10) Patience for reducing learning rate (patience is the number of epochs)\n",
    "    11) Patience for early stop condition (patience is the number of epochs; set as greater than patience for reducing learning rate)\n",
    "    12) Loss Function (will be fixed to categorical cross entropy since output is softmax layer)\n",
    "    13) Metrics to judge model performance\n",
    "    14) Number of epochs\n",
    "    \n",
    "    Returns:-\n",
    "    Trained model implementing CNN architecture as per choice\n",
    "    \"\"\"\n",
    "    training_images_augmented = reshape_images(training_images_augmented)\n",
    "    validation_images = reshape_images(validation_images)\n",
    "    if cnn_model == \"lenet\":\n",
    "        model, history = LeNet(training_images_augmented,\n",
    "                      training_labels_augmented,\n",
    "                      validation_images,\n",
    "                      validation_labels,\n",
    "                      kernel_size,\n",
    "                      optimizer,\n",
    "                      loss,\n",
    "                      metrics,\n",
    "                      epochs)\n",
    "    elif cnn_model == \"vgg\":\n",
    "        model, history = VGG(training_images_augmented,\n",
    "                            training_labels_augmented,\n",
    "                            validation_images,\n",
    "                            validation_labels,\n",
    "                            kernel_size,\n",
    "                            optimizer,\n",
    "                            loss,\n",
    "                            metrics,\n",
    "                            epochs)\n",
    "    elif cnn_model == \"modified_lenet\":\n",
    "        model, history = modified_LeNet(training_images_augmented, \n",
    "                                        training_labels_augmented,\n",
    "                                        validation_images,\n",
    "                                        validation_labels,\n",
    "                                        kernel_size,\n",
    "                                        optimizer,\n",
    "                                        dropout_prob,\n",
    "                                        monitor_quantity,\n",
    "                                        patience_reducelr,\n",
    "                                        patience_earlystopping,\n",
    "                                        loss,\n",
    "                                        metrics,\n",
    "                                        epochs\n",
    "                                       )\n",
    "    return model, history"
   ]
  },
  {
   "cell_type": "markdown",
   "metadata": {
    "slideshow": {
     "slide_type": "slide"
    }
   },
   "source": [
    "<a id = 'training_mod_lenet'></a>\n",
    "### 5.3 [Training the Modified LeNet Model](#toc)\n",
    "\n",
    "We draw closer to figuring out the perfect recipe for the data with this section! Here we'll train our modified LeNet model over the training data."
   ]
  },
  {
   "cell_type": "code",
   "execution_count": null,
   "metadata": {
    "slideshow": {
     "slide_type": "subslide"
    }
   },
   "outputs": [
    {
     "name": "stdout",
     "output_type": "stream",
     "text": [
      "Epoch 1/5\n",
      "13125/13125 [==============================] - 119s 8ms/step - loss: 0.6245 - accuracy: 0.7737 - val_loss: 0.3163 - val_accuracy: 0.8841\n",
      "Epoch 2/5\n",
      "13125/13125 [==============================] - 98s 7ms/step - loss: 0.4764 - accuracy: 0.8270 - val_loss: 0.2994 - val_accuracy: 0.8911\n",
      "Epoch 3/5\n",
      "13125/13125 [==============================] - 98s 7ms/step - loss: 0.4385 - accuracy: 0.8407 - val_loss: 0.2733 - val_accuracy: 0.8989\n",
      "Epoch 4/5\n",
      "13125/13125 [==============================] - 98s 7ms/step - loss: 0.4151 - accuracy: 0.8482 - val_loss: 0.2791 - val_accuracy: 0.8966\n",
      "Epoch 5/5\n",
      " 5732/13125 [============>.................] - ETA: 54s - loss: 0.4023 - accuracy: 0.8524- ETA: 5"
     ]
    }
   ],
   "source": [
    "mod_lenet_model, mod_lenet_history = implement_cnn(training_images_augmented,\n",
    "                                            validation_images,\n",
    "                                            training_labels_augmented,\n",
    "                                            validation_labels,\n",
    "                                            cnn_model = \"modified_lenet\",\n",
    "                                            kernel_size = 3,\n",
    "                                            optimizer = \"adam\",\n",
    "                                            dropout_prob = 0.2,\n",
    "                                            monitor_quantity = 'val_loss',\n",
    "                                            patience_reducelr = 2,\n",
    "                                            patience_earlystopping = 4,\n",
    "                                            loss = keras.losses.sparse_categorical_crossentropy,\n",
    "                                            metrics = ['accuracy'],\n",
    "                                            epochs = 5)"
   ]
  },
  {
   "cell_type": "code",
   "execution_count": 56,
   "metadata": {
    "slideshow": {
     "slide_type": "subslide"
    }
   },
   "outputs": [
    {
     "name": "stdout",
     "output_type": "stream",
     "text": [
      "Evaluate on test data\n",
      "94/94 [==============================] - 0s 3ms/step - loss: 0.2553 - accuracy: 0.9100\n",
      "Test loss: 0.25533169507980347\n",
      "Test accuracy: 0.9100000262260437\n"
     ]
    },
    {
     "data": {
      "text/plain": [
       "[0.25533169507980347, 0.9100000262260437]"
      ]
     },
     "execution_count": 56,
     "metadata": {},
     "output_type": "execute_result"
    }
   ],
   "source": [
    "evaluate_model(mod_lenet_model, test_images_reduced, test_labels_reduced)"
   ]
  },
  {
   "cell_type": "markdown",
   "metadata": {
    "slideshow": {
     "slide_type": "slide"
    }
   },
   "source": [
    "<a id = 'plotting_lenet_and_mod_lenet'></a>\n",
    "### 5.4 [Comparison of LeNet and Modified LeNet](#toc)\n",
    "\n",
    "In this section, we'll compare the loss functions of the two models over the epochs they are trained over. This should be insightful as to how these models are converging."
   ]
  },
  {
   "cell_type": "code",
   "execution_count": 57,
   "metadata": {
    "slideshow": {
     "slide_type": "subslide"
    }
   },
   "outputs": [
    {
     "data": {
      "image/png": "[encoded data removed]",
      "text/plain": [
       "<Figure size 432x288 with 1 Axes>"
      ]
     },
     "metadata": {
      "needs_background": "light"
     },
     "output_type": "display_data"
    }
   ],
   "source": [
    "plt.plot(lenet_history.history['loss'])\n",
    "plt.plot(lenet_history.history['val_loss'])\n",
    "plt.plot(mod_lenet_history.history['loss'])\n",
    "plt.plot(mod_lenet_history.history['val_loss'])\n",
    "plt.title('Model Loss Change with Epochs')\n",
    "plt.ylabel('Accuracy')\n",
    "plt.xlabel('Epoch')\n",
    "plt.legend(['LeNet Training Loss', 'LeNet Test Loss', 'Modified LeNet Training Loss','Modified LeNet Test Loss'], loc='upper right')\n",
    "plt.show()"
   ]
  },
  {
   "cell_type": "markdown",
   "metadata": {
    "slideshow": {
     "slide_type": "subslide"
    }
   },
   "source": [
    "So while it appears that the modified LeNet model performed marginally better than the LeNet model, the difference could well be attributable to the initialization of weights rather than an inherent superiority of the model design. However, it is worth noting that the modified LeNet design has begun overfitting which indicates that it may have converged to the minima faster than the LeNet architecture. \n",
    "Moreover, the modified LeNet design itself is more robust and has mechanisms for self correction preventing overfitting, divergence from minimum and an early exit condition which would help the designer have a better handle over the training process. "
   ]
  },
  {
   "cell_type": "code",
   "execution_count": null,
   "metadata": {},
   "outputs": [],
   "source": []
  }
 ],
 "metadata": {
  "celltoolbar": "Slideshow",
  "colab": {
   "authorship_tag": "ABX9TyOjWKblgMT9lEzwt86e0GaO",
   "collapsed_sections": [],
   "mount_file_id": "1kC6lpN7G0IY1ejc-jJvccqN6H0in12hk",
   "name": "Fashion_Sense.ipynb",
   "provenance": []
  },
  "kernelspec": {
   "display_name": "Python 3",
   "language": "python",
   "name": "python3"
  },
  "language_info": {
   "codemirror_mode": {
    "name": "ipython",
    "version": 3
   },
   "file_extension": ".py",
   "mimetype": "text/x-python",
   "name": "python",
   "nbconvert_exporter": "python",
   "pygments_lexer": "ipython3",
   "version": "3.8.8"
  }
 },
 "nbformat": 4,
 "nbformat_minor": 1
}
