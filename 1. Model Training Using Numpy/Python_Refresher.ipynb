{
 "cells": [
  {
   "cell_type": "markdown",
   "id": "4f2bf98d",
   "metadata": {},
   "source": [
    "# Python Basics\n",
    "\n",
    "<a id = 'toc'></a>\n",
    "## Table of Contents\n",
    "1. [Count Tuples in a List of Tuples](#count_tuples)\n",
    "2. [Binary Search Trees in Python](#bst)\n",
    "3. [List of Dictionary Keys](#dictionary_keys)\n",
    "4. [Sorting List of Tuples](#sort_tuple_list)\n",
    "5. [Mutable and Immutable Objects in Python](#mutability)\n",
    "6. [Pandas and Numpy](#pandas_and_numpy)"
   ]
  },
  {
   "cell_type": "markdown",
   "id": "96d3bdf8",
   "metadata": {},
   "source": [
    "<a id = 'count_tuples'></a>\n",
    "## [1. Count Tuples in a List of Tuples](#toc)\n",
    "Given a list of tuples, find the number of occurrences of each tuple in the list."
   ]
  },
  {
   "cell_type": "code",
   "execution_count": 34,
   "id": "543e6eea",
   "metadata": {},
   "outputs": [
    {
     "name": "stdout",
     "output_type": "stream",
     "text": [
      "{(1, 2, 3): 3, (1, 2): 1, (6, 7, 8): 2, (3, 4): 1}\n"
     ]
    }
   ],
   "source": [
    "def count_tuples(tuples_list):\n",
    "    res = {}\n",
    "    for tuple in tuples_list:\n",
    "        if tuple in res.keys():\n",
    "            res[tuple] +=1\n",
    "        else:\n",
    "            res[tuple] = 1\n",
    "    return res\n",
    "\n",
    "tuples_list = [(1,2,3), (1,2), (6,7,8), (1,2,3), (3,4), (1,2,3), (6,7,8)]\n",
    "\n",
    "print(count_tuples(tuples_list))"
   ]
  },
  {
   "cell_type": "markdown",
   "id": "3c64d26a",
   "metadata": {},
   "source": [
    "<a id = 'bst'></a>\n",
    "## [2. Binary Search Trees in Python](#toc)\n",
    "\n",
    "Create a list of 10 random numbers between 1-100. Create a balanced BST (Binary search tree) from this array"
   ]
  },
  {
   "cell_type": "code",
   "execution_count": 35,
   "id": "abdf595a",
   "metadata": {},
   "outputs": [
    {
     "data": {
      "text/plain": [
       "[81, 84, 24, 90, 94, 97, 42, 99, 26, 55]"
      ]
     },
     "execution_count": 35,
     "metadata": {},
     "output_type": "execute_result"
    }
   ],
   "source": [
    "import random\n",
    "\n",
    "rand_list = [random.randint(1, 100) for i in range(10)]\n",
    "rand_list"
   ]
  },
  {
   "cell_type": "code",
   "execution_count": 41,
   "id": "d3a5831f",
   "metadata": {},
   "outputs": [
    {
     "name": "stdout",
     "output_type": "stream",
     "text": [
      "[24, 26, 42, 55, 81, 84, 90, 94, 97, 99]\n",
      "Preorder Traversal of constructed BST\n",
      "84\n",
      "42\n",
      "26\n",
      "24\n",
      "81\n",
      "55\n",
      "97\n",
      "94\n",
      "90\n",
      "99\n",
      "Is the BST balanced?\n",
      "True\n"
     ]
    }
   ],
   "source": [
    "rand_list.sort()\n",
    "print(rand_list)\n",
    "class bst_node():\n",
    "    def __init__(self, data):\n",
    "        self.data = data\n",
    "        self.right = None\n",
    "        self.left = None\n",
    "\n",
    "def sorted_array_to_BST(rand_list):\n",
    "    if not rand_list:\n",
    "        return None\n",
    "    mid = len(rand_list)//2\n",
    "    root = bst_node(rand_list[mid])\n",
    "    root.left = sorted_array_to_BST(rand_list[:mid])\n",
    "    root.right = sorted_array_to_BST(rand_list[mid + 1:])\n",
    "    return root\n",
    "\n",
    "def preorder_traversal(root):\n",
    "    if not root:\n",
    "        return\n",
    "    print(root.data)\n",
    "    preorder_traversal(root.left)\n",
    "    preorder_traversal(root.right)\n",
    "    \n",
    "def height(root, contri = 0):\n",
    "    if root is None:\n",
    "        return contri\n",
    "    return max(height(root.left, contri + 1), height(root.right, contri + 1))\n",
    "\n",
    "def is_balanced(root):\n",
    "    return abs(height(root.left, 0) - height(root.right, 0)) <= 1\n",
    "\n",
    "root = sorted_array_to_BST(rand_list)\n",
    "print(\"Preorder Traversal of constructed BST\")\n",
    "preorder_traversal(root)\n",
    "print(\"Is the BST balanced?\")\n",
    "print(is_balanced(root))"
   ]
  },
  {
   "cell_type": "markdown",
   "id": "5b9b77cf",
   "metadata": {},
   "source": [
    "<a id = 'dictionary_keys'></a>\n",
    "## [3. List of Dictionary Keys](#toc)\n",
    "\n",
    "Given the following dictionary:\n",
    "\n",
    "{ ‘black :’r’,<br>\n",
    "  ‘hero’:‘e’,<br>\n",
    "  ‘go’:’g’,<br>\n",
    "  ‘clue’:’i’,<br>\n",
    "  ’mean’:’q’,<br>\n",
    "  ’groan’:’o’,<br>\n",
    "  ’sin’:’p’,<br>\n",
    "  ’pint’:’u’,<br>\n",
    "  ’tone’:’n’,<br>\n",
    "  ’graze’:’s’,<br>\n",
    "  ‘sea’:’t’,<br>\n",
    "  ‘plant’:’a’}\n",
    "  \n",
    "Create a list of all the keys of the dictionary, which can be formed from the values present in the dictionary.`"
   ]
  },
  {
   "cell_type": "code",
   "execution_count": 48,
   "id": "13e4370d",
   "metadata": {},
   "outputs": [
    {
     "name": "stdout",
     "output_type": "stream",
     "text": [
      "['go', 'groan', 'sin', 'pint', 'tone', 'sea']\n"
     ]
    }
   ],
   "source": [
    "input_dict = {'black':'r',\n",
    "             'hero':'e',\n",
    "             'go': 'g',\n",
    "             'clue':'i',\n",
    "             'mean':'q',\n",
    "             'groan':'o',\n",
    "             'sin':'p',\n",
    "             'pint':'u',\n",
    "             'tone':'n',\n",
    "             'graze':'s',\n",
    "             'sea':'t',\n",
    "             'plant':'a'}\n",
    "\n",
    "def get_key_list(input_dict):\n",
    "    value_dict = [input_dict[key] for key in input_dict.keys()]\n",
    "    res = []\n",
    "    for key in input_dict.keys():\n",
    "        if all([True if char in value_dict else False for char in key]):\n",
    "            res.append(key)\n",
    "\n",
    "    return res\n",
    "\n",
    "print(get_key_list(input_dict))"
   ]
  },
  {
   "cell_type": "markdown",
   "id": "5413f61b",
   "metadata": {},
   "source": [
    "<a id = 'sort_tuple_list'></a>\n",
    "## [4. Sorting List of Tuples](#toc)\n",
    "\n",
    "Given the following list of tuples,<br>\n",
    "a.    Sort the list by 1st item in the tuple in ascending order<br>\n",
    "b.    Sort the list by 2nd item in the tuple in ascending order<br>\n",
    "c.    Repeat a, b using descending order<br><br>\n",
    "listA = [(1,2), (4,3), (2,10), (12, 5), (6, 7), (9,11), (15, 4)]"
   ]
  },
  {
   "cell_type": "code",
   "execution_count": 53,
   "id": "4b58c57e",
   "metadata": {},
   "outputs": [
    {
     "name": "stdout",
     "output_type": "stream",
     "text": [
      "[(1, 2), (2, 10), (4, 3), (6, 7), (9, 11), (12, 5), (15, 4)]\n",
      "[(1, 2), (4, 3), (15, 4), (12, 5), (6, 7), (2, 10), (9, 11)]\n",
      "[(15, 4), (12, 5), (9, 11), (6, 7), (4, 3), (2, 10), (1, 2)]\n",
      "[(9, 11), (2, 10), (6, 7), (12, 5), (15, 4), (4, 3), (1, 2)]\n"
     ]
    }
   ],
   "source": [
    "listA = [(1,2), (4,3), (2,10), (12, 5), (6, 7), (9,11), (15, 4)]\n",
    "\n",
    "# a. Sort the list by 1st item in the tuple in ascending order\n",
    "listA.sort(key = lambda x: x[0])\n",
    "print(listA)\n",
    "\n",
    "# b. Sort the list by 2nd item in the tuple in ascending order\n",
    "listA.sort(key = lambda x: x[1])\n",
    "print(listA)\n",
    "\n",
    "# c. Repeat a, b using descending order\n",
    "listA.sort(key = lambda x: x[0], reverse = True)\n",
    "print(listA)\n",
    "\n",
    "listA.sort(key = lambda x: x[1], reverse = True)\n",
    "print(listA)"
   ]
  },
  {
   "cell_type": "markdown",
   "id": "e82d43e2",
   "metadata": {},
   "source": [
    "<a id = 'mutability'></a>\n",
    "## [5. Mutable and Immutable Objects in Python](#toc)\n",
    "\n",
    "What do you mean by a mutable and immutable object? Are string, list, tuple, dictionary mutable type objects or immutable objects?"
   ]
  },
  {
   "cell_type": "markdown",
   "id": "e61c89f5",
   "metadata": {},
   "source": [
    "Any object whose internal states cannot be modified after creation is said to be immutable. The opposite is true for mutable objects. \n",
    "<br>\n",
    "**Mutable Objects**: Lists, dictionary<br>\n",
    "**Immutable Objects**: Strings, Tuple"
   ]
  },
  {
   "cell_type": "markdown",
   "id": "4f65a45e",
   "metadata": {},
   "source": [
    "<a id = 'pandas_and_numpy'></a>\n",
    "## [6. Pandas and Numpy](#toc)\n",
    "\n",
    "Learn The usage of Pandas and Numpy:\n",
    "1)    Write the command to find unique values in education.\n",
    "2)    Command to find the number of customers subscribed and not subscribed.\n",
    "3)    Find the mean values of all the independent variables for every ‘y’ (outcome variable)\n",
    "4)    What is the mean age for every marital status\n",
    "5)    Check for null values\n",
    "6)    Find the descriptive statistics for each column\n",
    "7)    Use pd.query(), iloc, loc and range subsetting to extract insights from the data. You will be evaluated on the quality of your queries and the rationale behind selecting them. You can extract upto five (5) separate insights from the data."
   ]
  },
  {
   "cell_type": "code",
   "execution_count": 1,
   "id": "55309913",
   "metadata": {},
   "outputs": [
    {
     "data": {
      "text/html": [
       "<div>\n",
       "<style scoped>\n",
       "    .dataframe tbody tr th:only-of-type {\n",
       "        vertical-align: middle;\n",
       "    }\n",
       "\n",
       "    .dataframe tbody tr th {\n",
       "        vertical-align: top;\n",
       "    }\n",
       "\n",
       "    .dataframe thead th {\n",
       "        text-align: right;\n",
       "    }\n",
       "</style>\n",
       "<table border=\"1\" class=\"dataframe\">\n",
       "  <thead>\n",
       "    <tr style=\"text-align: right;\">\n",
       "      <th></th>\n",
       "      <th>age</th>\n",
       "      <th>job</th>\n",
       "      <th>marital</th>\n",
       "      <th>education</th>\n",
       "      <th>default</th>\n",
       "      <th>housing</th>\n",
       "      <th>loan</th>\n",
       "      <th>contact</th>\n",
       "      <th>month</th>\n",
       "      <th>day_of_week</th>\n",
       "      <th>...</th>\n",
       "      <th>campaign</th>\n",
       "      <th>pdays</th>\n",
       "      <th>previous</th>\n",
       "      <th>poutcome</th>\n",
       "      <th>emp_var_rate</th>\n",
       "      <th>cons_price_idx</th>\n",
       "      <th>cons_conf_idx</th>\n",
       "      <th>euribor3m</th>\n",
       "      <th>nr_employed</th>\n",
       "      <th>y</th>\n",
       "    </tr>\n",
       "  </thead>\n",
       "  <tbody>\n",
       "    <tr>\n",
       "      <th>0</th>\n",
       "      <td>44</td>\n",
       "      <td>blue-collar</td>\n",
       "      <td>married</td>\n",
       "      <td>basic.4y</td>\n",
       "      <td>unknown</td>\n",
       "      <td>yes</td>\n",
       "      <td>no</td>\n",
       "      <td>cellular</td>\n",
       "      <td>aug</td>\n",
       "      <td>thu</td>\n",
       "      <td>...</td>\n",
       "      <td>1</td>\n",
       "      <td>999</td>\n",
       "      <td>0</td>\n",
       "      <td>nonexistent</td>\n",
       "      <td>1.4</td>\n",
       "      <td>93.444</td>\n",
       "      <td>-36.1</td>\n",
       "      <td>4.963</td>\n",
       "      <td>5228.1</td>\n",
       "      <td>0</td>\n",
       "    </tr>\n",
       "    <tr>\n",
       "      <th>1</th>\n",
       "      <td>53</td>\n",
       "      <td>technician</td>\n",
       "      <td>married</td>\n",
       "      <td>unknown</td>\n",
       "      <td>no</td>\n",
       "      <td>no</td>\n",
       "      <td>no</td>\n",
       "      <td>cellular</td>\n",
       "      <td>nov</td>\n",
       "      <td>fri</td>\n",
       "      <td>...</td>\n",
       "      <td>1</td>\n",
       "      <td>999</td>\n",
       "      <td>0</td>\n",
       "      <td>nonexistent</td>\n",
       "      <td>-0.1</td>\n",
       "      <td>93.200</td>\n",
       "      <td>-42.0</td>\n",
       "      <td>4.021</td>\n",
       "      <td>5195.8</td>\n",
       "      <td>0</td>\n",
       "    </tr>\n",
       "    <tr>\n",
       "      <th>2</th>\n",
       "      <td>28</td>\n",
       "      <td>management</td>\n",
       "      <td>single</td>\n",
       "      <td>university.degree</td>\n",
       "      <td>no</td>\n",
       "      <td>yes</td>\n",
       "      <td>no</td>\n",
       "      <td>cellular</td>\n",
       "      <td>jun</td>\n",
       "      <td>thu</td>\n",
       "      <td>...</td>\n",
       "      <td>3</td>\n",
       "      <td>6</td>\n",
       "      <td>2</td>\n",
       "      <td>success</td>\n",
       "      <td>-1.7</td>\n",
       "      <td>94.055</td>\n",
       "      <td>-39.8</td>\n",
       "      <td>0.729</td>\n",
       "      <td>4991.6</td>\n",
       "      <td>1</td>\n",
       "    </tr>\n",
       "    <tr>\n",
       "      <th>3</th>\n",
       "      <td>39</td>\n",
       "      <td>services</td>\n",
       "      <td>married</td>\n",
       "      <td>high.school</td>\n",
       "      <td>no</td>\n",
       "      <td>no</td>\n",
       "      <td>no</td>\n",
       "      <td>cellular</td>\n",
       "      <td>apr</td>\n",
       "      <td>fri</td>\n",
       "      <td>...</td>\n",
       "      <td>2</td>\n",
       "      <td>999</td>\n",
       "      <td>0</td>\n",
       "      <td>nonexistent</td>\n",
       "      <td>-1.8</td>\n",
       "      <td>93.075</td>\n",
       "      <td>-47.1</td>\n",
       "      <td>1.405</td>\n",
       "      <td>5099.1</td>\n",
       "      <td>0</td>\n",
       "    </tr>\n",
       "    <tr>\n",
       "      <th>4</th>\n",
       "      <td>55</td>\n",
       "      <td>retired</td>\n",
       "      <td>married</td>\n",
       "      <td>basic.4y</td>\n",
       "      <td>no</td>\n",
       "      <td>yes</td>\n",
       "      <td>no</td>\n",
       "      <td>cellular</td>\n",
       "      <td>aug</td>\n",
       "      <td>fri</td>\n",
       "      <td>...</td>\n",
       "      <td>1</td>\n",
       "      <td>3</td>\n",
       "      <td>1</td>\n",
       "      <td>success</td>\n",
       "      <td>-2.9</td>\n",
       "      <td>92.201</td>\n",
       "      <td>-31.4</td>\n",
       "      <td>0.869</td>\n",
       "      <td>5076.2</td>\n",
       "      <td>1</td>\n",
       "    </tr>\n",
       "  </tbody>\n",
       "</table>\n",
       "<p>5 rows × 21 columns</p>\n",
       "</div>"
      ],
      "text/plain": [
       "   age          job  marital          education  default housing loan  \\\n",
       "0   44  blue-collar  married           basic.4y  unknown     yes   no   \n",
       "1   53   technician  married            unknown       no      no   no   \n",
       "2   28   management   single  university.degree       no     yes   no   \n",
       "3   39     services  married        high.school       no      no   no   \n",
       "4   55      retired  married           basic.4y       no     yes   no   \n",
       "\n",
       "    contact month day_of_week  ...  campaign  pdays  previous     poutcome  \\\n",
       "0  cellular   aug         thu  ...         1    999         0  nonexistent   \n",
       "1  cellular   nov         fri  ...         1    999         0  nonexistent   \n",
       "2  cellular   jun         thu  ...         3      6         2      success   \n",
       "3  cellular   apr         fri  ...         2    999         0  nonexistent   \n",
       "4  cellular   aug         fri  ...         1      3         1      success   \n",
       "\n",
       "  emp_var_rate  cons_price_idx  cons_conf_idx  euribor3m  nr_employed  y  \n",
       "0          1.4          93.444          -36.1      4.963       5228.1  0  \n",
       "1         -0.1          93.200          -42.0      4.021       5195.8  0  \n",
       "2         -1.7          94.055          -39.8      0.729       4991.6  1  \n",
       "3         -1.8          93.075          -47.1      1.405       5099.1  0  \n",
       "4         -2.9          92.201          -31.4      0.869       5076.2  1  \n",
       "\n",
       "[5 rows x 21 columns]"
      ]
     },
     "execution_count": 1,
     "metadata": {},
     "output_type": "execute_result"
    }
   ],
   "source": [
    "import numpy as np\n",
    "import pandas as pd\n",
    "\n",
    "df = pd.read_csv('./Data/banking.csv')\n",
    "df.head()"
   ]
  },
  {
   "cell_type": "code",
   "execution_count": 60,
   "id": "f568c787",
   "metadata": {},
   "outputs": [
    {
     "name": "stdout",
     "output_type": "stream",
     "text": [
      "Unique Values in Education Column:  ['basic.4y' 'unknown' 'university.degree' 'high.school' 'basic.9y'\n",
      " 'professional.course' 'basic.6y' 'illiterate']\n"
     ]
    }
   ],
   "source": [
    "# 1)    Write the command to find unique values in education.\n",
    "print(\"Unique Values in Education Column: \", df.education.unique())"
   ]
  },
  {
   "cell_type": "code",
   "execution_count": 66,
   "id": "0fc70f6c",
   "metadata": {},
   "outputs": [
    {
     "name": "stdout",
     "output_type": "stream",
     "text": [
      "Number of customers subscribed:  4640\n",
      "Number of customers not subscribed:  36548\n"
     ]
    }
   ],
   "source": [
    "# 2)    Command to find the number of customers subscribed and not subscribed.\n",
    "print(\"Number of customers subscribed: \", df[df.y == 1].shape[0])\n",
    "print(\"Number of customers not subscribed: \", df[df.y == 0].shape[0])"
   ]
  },
  {
   "cell_type": "code",
   "execution_count": 73,
   "id": "a73ca92a",
   "metadata": {},
   "outputs": [
    {
     "name": "stdout",
     "output_type": "stream",
     "text": [
      "Mean values of all independent variables for every outcome\n"
     ]
    },
    {
     "data": {
      "text/html": [
       "<div>\n",
       "<style scoped>\n",
       "    .dataframe tbody tr th:only-of-type {\n",
       "        vertical-align: middle;\n",
       "    }\n",
       "\n",
       "    .dataframe tbody tr th {\n",
       "        vertical-align: top;\n",
       "    }\n",
       "\n",
       "    .dataframe thead th {\n",
       "        text-align: right;\n",
       "    }\n",
       "</style>\n",
       "<table border=\"1\" class=\"dataframe\">\n",
       "  <thead>\n",
       "    <tr style=\"text-align: right;\">\n",
       "      <th></th>\n",
       "      <th>age</th>\n",
       "      <th>duration</th>\n",
       "      <th>campaign</th>\n",
       "      <th>pdays</th>\n",
       "      <th>previous</th>\n",
       "      <th>emp_var_rate</th>\n",
       "      <th>cons_price_idx</th>\n",
       "      <th>cons_conf_idx</th>\n",
       "      <th>euribor3m</th>\n",
       "      <th>nr_employed</th>\n",
       "    </tr>\n",
       "    <tr>\n",
       "      <th>y</th>\n",
       "      <th></th>\n",
       "      <th></th>\n",
       "      <th></th>\n",
       "      <th></th>\n",
       "      <th></th>\n",
       "      <th></th>\n",
       "      <th></th>\n",
       "      <th></th>\n",
       "      <th></th>\n",
       "      <th></th>\n",
       "    </tr>\n",
       "  </thead>\n",
       "  <tbody>\n",
       "    <tr>\n",
       "      <th>0</th>\n",
       "      <td>39.911185</td>\n",
       "      <td>220.844807</td>\n",
       "      <td>2.633085</td>\n",
       "      <td>984.113878</td>\n",
       "      <td>0.132374</td>\n",
       "      <td>0.248875</td>\n",
       "      <td>93.603757</td>\n",
       "      <td>-40.593097</td>\n",
       "      <td>3.811491</td>\n",
       "      <td>5176.166600</td>\n",
       "    </tr>\n",
       "    <tr>\n",
       "      <th>1</th>\n",
       "      <td>40.913147</td>\n",
       "      <td>553.191164</td>\n",
       "      <td>2.051724</td>\n",
       "      <td>792.035560</td>\n",
       "      <td>0.492672</td>\n",
       "      <td>-1.233448</td>\n",
       "      <td>93.354386</td>\n",
       "      <td>-39.789784</td>\n",
       "      <td>2.123135</td>\n",
       "      <td>5095.115991</td>\n",
       "    </tr>\n",
       "  </tbody>\n",
       "</table>\n",
       "</div>"
      ],
      "text/plain": [
       "         age    duration  campaign       pdays  previous  emp_var_rate  \\\n",
       "y                                                                        \n",
       "0  39.911185  220.844807  2.633085  984.113878  0.132374      0.248875   \n",
       "1  40.913147  553.191164  2.051724  792.035560  0.492672     -1.233448   \n",
       "\n",
       "   cons_price_idx  cons_conf_idx  euribor3m  nr_employed  \n",
       "y                                                         \n",
       "0       93.603757     -40.593097   3.811491  5176.166600  \n",
       "1       93.354386     -39.789784   2.123135  5095.115991  "
      ]
     },
     "execution_count": 73,
     "metadata": {},
     "output_type": "execute_result"
    }
   ],
   "source": [
    "# 3)    Find the mean values of all the independent variables for every ‘y’ (outcome variable)\n",
    "print(\"Mean values of all independent variables for every outcome\")\n",
    "df.groupby('y').mean()"
   ]
  },
  {
   "cell_type": "code",
   "execution_count": 75,
   "id": "b45534cb",
   "metadata": {},
   "outputs": [
    {
     "name": "stdout",
     "output_type": "stream",
     "text": [
      "Mean age by marital status\n"
     ]
    },
    {
     "data": {
      "text/plain": [
       "marital\n",
       "divorced    44.899393\n",
       "married     42.307165\n",
       "single      33.158714\n",
       "unknown     40.275000\n",
       "Name: age, dtype: float64"
      ]
     },
     "execution_count": 75,
     "metadata": {},
     "output_type": "execute_result"
    }
   ],
   "source": [
    "# 4)    What is the mean age for every marital status\n",
    "print('Mean age by marital status')\n",
    "df.groupby(['marital'])['age'].mean()"
   ]
  },
  {
   "cell_type": "code",
   "execution_count": 85,
   "id": "d3a3877d",
   "metadata": {},
   "outputs": [
    {
     "name": "stdout",
     "output_type": "stream",
     "text": [
      "Checking for null values...\n",
      "<class 'pandas.core.frame.DataFrame'>\n",
      "RangeIndex: 41188 entries, 0 to 41187\n",
      "Data columns (total 21 columns):\n",
      " #   Column          Non-Null Count  Dtype  \n",
      "---  ------          --------------  -----  \n",
      " 0   age             41188 non-null  int64  \n",
      " 1   job             41188 non-null  object \n",
      " 2   marital         41188 non-null  object \n",
      " 3   education       41188 non-null  object \n",
      " 4   default         41188 non-null  object \n",
      " 5   housing         41188 non-null  object \n",
      " 6   loan            41188 non-null  object \n",
      " 7   contact         41188 non-null  object \n",
      " 8   month           41188 non-null  object \n",
      " 9   day_of_week     41188 non-null  object \n",
      " 10  duration        41188 non-null  int64  \n",
      " 11  campaign        41188 non-null  int64  \n",
      " 12  pdays           41188 non-null  int64  \n",
      " 13  previous        41188 non-null  int64  \n",
      " 14  poutcome        41188 non-null  object \n",
      " 15  emp_var_rate    41188 non-null  float64\n",
      " 16  cons_price_idx  41188 non-null  float64\n",
      " 17  cons_conf_idx   41188 non-null  float64\n",
      " 18  euribor3m       41188 non-null  float64\n",
      " 19  nr_employed     41188 non-null  float64\n",
      " 20  y               41188 non-null  int64  \n",
      "dtypes: float64(5), int64(6), object(10)\n",
      "memory usage: 6.6+ MB\n",
      "None\n",
      "----------------------------------------------------------------------------------------------------\n",
      "No missing or null values. To confirm:-\n",
      "----------------------------------------------------------------------------------------------------\n",
      "[array([44, 53, 28, 39, 55, 30, 37, 36, 27, 34, 41, 33, 26, 52, 35, 40, 32,\n",
      "       49, 38, 47, 46, 29, 54, 42, 72, 48, 43, 56, 31, 24, 68, 59, 50, 45,\n",
      "       25, 57, 63, 58, 60, 64, 51, 23, 20, 74, 80, 61, 62, 75, 21, 82, 77,\n",
      "       70, 76, 73, 66, 22, 71, 19, 79, 88, 65, 67, 81, 18, 84, 69, 98, 85,\n",
      "       83, 78, 92, 86, 94, 17, 91, 89, 87, 95], dtype=int64), array(['blue-collar', 'technician', 'management', 'services', 'retired',\n",
      "       'admin.', 'housemaid', 'unemployed', 'entrepreneur',\n",
      "       'self-employed', 'unknown', 'student'], dtype=object), array(['married', 'single', 'divorced', 'unknown'], dtype=object), array(['basic.4y', 'unknown', 'university.degree', 'high.school',\n",
      "       'basic.9y', 'professional.course', 'basic.6y', 'illiterate'],\n",
      "      dtype=object), array(['unknown', 'no', 'yes'], dtype=object), array(['yes', 'no', 'unknown'], dtype=object), array(['no', 'yes', 'unknown'], dtype=object), array(['cellular', 'telephone'], dtype=object), array(['aug', 'nov', 'jun', 'apr', 'jul', 'may', 'oct', 'mar', 'sep',\n",
      "       'dec'], dtype=object), array(['thu', 'fri', 'tue', 'mon', 'wed'], dtype=object), array([ 210,  138,  339, ..., 2260, 1662, 1490], dtype=int64), array([ 1,  3,  2,  8,  5,  4, 25, 11, 12, 18,  6, 17,  7, 20, 16, 14, 10,\n",
      "        9, 19, 29, 13, 40, 15, 34, 22, 24, 41, 21, 23, 39, 28, 27, 31, 35,\n",
      "       26, 30, 32, 43, 33, 42, 56, 37], dtype=int64), array([999,   6,   3,   2,   4,  16,   0,   5,  11,  14,  13,   9,  15,\n",
      "        17,  12,  26,   7,  19,  10,   1,  18,   8,  20,  21,  22,  25,\n",
      "        27], dtype=int64), array([0, 2, 1, 3, 4, 5, 7, 6], dtype=int64), array(['nonexistent', 'success', 'failure'], dtype=object), array([ 1.4, -0.1, -1.7, -1.8, -2.9,  1.1, -3.4, -1.1, -3. , -0.2]), array([93.444, 93.2  , 94.055, 93.075, 92.201, 93.918, 92.893, 92.963,\n",
      "       93.994, 94.465, 93.798, 92.431, 92.649, 92.843, 92.469, 93.749,\n",
      "       93.876, 94.027, 94.199, 94.601, 92.713, 94.767, 93.369, 94.215,\n",
      "       92.379, 92.756]), array([-36.1, -42. , -39.8, -47.1, -31.4, -42.7, -46.2, -40.8, -36.4,\n",
      "       -41.8, -40.4, -26.9, -30.1, -50. , -33.6, -34.6, -40. , -38.3,\n",
      "       -37.5, -49.5, -33. , -50.8, -34.8, -40.3, -29.8, -45.9]), array([4.963, 4.021, 0.729, 1.405, 0.869, 4.961, 1.327, 1.313, 1.266,\n",
      "       1.41 , 4.864, 4.964, 4.965, 1.291, 4.96 , 4.962, 1.365, 4.86 ,\n",
      "       4.967, 4.968, 1.344, 0.754, 1.299, 1.268, 1.334, 4.857, 0.715,\n",
      "       4.966, 4.076, 1.354, 4.959, 4.958, 4.859, 1.27 , 4.856, 1.811,\n",
      "       1.029, 1.259, 4.866, 0.883, 4.858, 1.56 , 0.74 , 4.245, 4.12 ,\n",
      "       0.659, 1.415, 0.73 , 1.072, 4.153, 0.716, 0.682, 0.905, 1.281,\n",
      "       4.865, 4.957, 0.914, 0.849, 0.876, 0.644, 4.855, 1.392, 1.25 ,\n",
      "       0.873, 0.881, 0.942, 0.9  , 0.692, 1.244, 1.264, 4.191, 0.882,\n",
      "       1.035, 0.742, 0.879, 1.032, 0.719, 5.   , 0.724, 4.97 , 0.646,\n",
      "       1.26 , 1.479, 0.87 , 1.423, 1.498, 0.803, 0.714, 1.406, 0.702,\n",
      "       0.827, 0.71 , 4.955, 0.653, 4.947, 0.835, 1.531, 0.735, 0.743,\n",
      "       1.262, 0.944, 1.028, 0.663, 0.731, 0.699, 1.435, 1.538, 0.846,\n",
      "       0.884, 1.453, 1.445, 0.635, 0.885, 0.854, 0.748, 0.643, 0.728,\n",
      "       0.893, 0.861, 0.706, 1.025, 4.912, 0.668, 0.899, 1.085, 0.654,\n",
      "       0.88 , 0.781, 1.059, 0.636, 0.965, 0.72 , 0.896, 1.602, 0.741,\n",
      "       1.614, 0.84 , 1.483, 0.773, 0.701, 0.721, 0.697, 0.985, 0.829,\n",
      "       0.761, 0.903, 1.466, 0.809, 1.049, 0.959, 0.717, 1.703, 1.04 ,\n",
      "       0.898, 1.05 , 0.739, 1.   , 0.645, 1.007, 0.655, 1.252, 0.683,\n",
      "       1.044, 0.651, 0.767, 0.797, 0.822, 0.904, 0.642, 0.752, 0.722,\n",
      "       1.224, 0.977, 0.707, 1.548, 3.563, 1.016, 1.556, 1.663, 0.744,\n",
      "       1.031, 0.851, 0.64 , 0.708, 0.878, 1.043, 0.886, 0.639, 0.793,\n",
      "       0.788, 0.652, 4.794, 0.819, 1.206, 0.859, 1.687, 0.737, 4.956,\n",
      "       1.799, 1.51 , 0.77 , 0.753, 0.877, 0.908, 1.041, 0.677, 0.723,\n",
      "       0.937, 4.918, 0.987, 1.046, 4.936, 0.704, 0.712, 1.384, 0.711,\n",
      "       0.821, 1.757, 0.695, 0.843, 1.52 , 0.838, 0.825, 4.7  , 1.03 ,\n",
      "       1.048, 0.733, 4.474, 0.768, 0.982, 0.65 , 0.684, 1.037, 0.634,\n",
      "       1.235, 0.921, 0.718, 0.685, 1.65 , 1.64 , 1.286, 0.732, 5.045,\n",
      "       0.649, 1.4  , 4.663, 0.778, 0.672, 1.629, 1.372, 1.726, 0.75 ,\n",
      "       0.688, 0.709, 0.713, 1.215, 0.889, 4.827, 0.834, 0.933, 3.743,\n",
      "       0.727, 0.755, 1.584, 4.406, 0.89 , 0.81 , 0.972, 0.782, 0.638,\n",
      "       1.039, 0.79 , 0.802, 3.853, 1.099, 0.7  , 0.762, 4.76 , 0.953,\n",
      "       0.766, 0.637, 1.778, 0.771, 3.053, 3.329, 0.969, 0.813, 0.894,\n",
      "       4.733, 0.895, 3.879, 4.286, 4.592, 3.901, 0.979, 0.891, 1.047,\n",
      "       0.927, 1.018, 1.008, 1.045, 0.749, 0.888, 4.921, 0.993, 0.956,\n",
      "       4.223, 0.69 , 0.996, 3.669, 1.574, 3.488, 3.428, 4.343, 3.816,\n",
      "       3.282]), array([5228.1, 5195.8, 4991.6, 5099.1, 5076.2, 5191. , 5017.5, 5008.7,\n",
      "       4963.6, 5023.5, 5176.3]), array([0, 1], dtype=int64)]\n",
      "----------------------------------------------------------------------------------------------------\n",
      "Yuppp....No null values\n"
     ]
    }
   ],
   "source": [
    "# 5)    Check for null values\n",
    "print('Checking for null values...')\n",
    "print(df.info())\n",
    "print('-'*100)\n",
    "print('No missing or null values. To confirm:-')\n",
    "print('-'*100)\n",
    "print([df[column].unique() for column in df.columns])\n",
    "print('-'*100)\n",
    "print(\"Yuppp....No null values\")"
   ]
  },
  {
   "cell_type": "code",
   "execution_count": 89,
   "id": "6dcdee3b",
   "metadata": {},
   "outputs": [
    {
     "name": "stdout",
     "output_type": "stream",
     "text": [
      "Descriptive Statistics of columns\n"
     ]
    },
    {
     "data": {
      "text/html": [
       "<div>\n",
       "<style scoped>\n",
       "    .dataframe tbody tr th:only-of-type {\n",
       "        vertical-align: middle;\n",
       "    }\n",
       "\n",
       "    .dataframe tbody tr th {\n",
       "        vertical-align: top;\n",
       "    }\n",
       "\n",
       "    .dataframe thead th {\n",
       "        text-align: right;\n",
       "    }\n",
       "</style>\n",
       "<table border=\"1\" class=\"dataframe\">\n",
       "  <thead>\n",
       "    <tr style=\"text-align: right;\">\n",
       "      <th></th>\n",
       "      <th>age</th>\n",
       "      <th>duration</th>\n",
       "      <th>campaign</th>\n",
       "      <th>pdays</th>\n",
       "      <th>previous</th>\n",
       "      <th>emp_var_rate</th>\n",
       "      <th>cons_price_idx</th>\n",
       "      <th>cons_conf_idx</th>\n",
       "      <th>euribor3m</th>\n",
       "      <th>nr_employed</th>\n",
       "      <th>y</th>\n",
       "    </tr>\n",
       "  </thead>\n",
       "  <tbody>\n",
       "    <tr>\n",
       "      <th>count</th>\n",
       "      <td>41188.00000</td>\n",
       "      <td>41188.000000</td>\n",
       "      <td>41188.000000</td>\n",
       "      <td>41188.000000</td>\n",
       "      <td>41188.000000</td>\n",
       "      <td>41188.000000</td>\n",
       "      <td>41188.000000</td>\n",
       "      <td>41188.000000</td>\n",
       "      <td>41188.000000</td>\n",
       "      <td>41188.000000</td>\n",
       "      <td>41188.000000</td>\n",
       "    </tr>\n",
       "    <tr>\n",
       "      <th>mean</th>\n",
       "      <td>40.02406</td>\n",
       "      <td>258.285010</td>\n",
       "      <td>2.567593</td>\n",
       "      <td>962.475454</td>\n",
       "      <td>0.172963</td>\n",
       "      <td>0.081886</td>\n",
       "      <td>93.575664</td>\n",
       "      <td>-40.502600</td>\n",
       "      <td>3.621291</td>\n",
       "      <td>5167.035911</td>\n",
       "      <td>0.112654</td>\n",
       "    </tr>\n",
       "    <tr>\n",
       "      <th>std</th>\n",
       "      <td>10.42125</td>\n",
       "      <td>259.279249</td>\n",
       "      <td>2.770014</td>\n",
       "      <td>186.910907</td>\n",
       "      <td>0.494901</td>\n",
       "      <td>1.570960</td>\n",
       "      <td>0.578840</td>\n",
       "      <td>4.628198</td>\n",
       "      <td>1.734447</td>\n",
       "      <td>72.251528</td>\n",
       "      <td>0.316173</td>\n",
       "    </tr>\n",
       "    <tr>\n",
       "      <th>min</th>\n",
       "      <td>17.00000</td>\n",
       "      <td>0.000000</td>\n",
       "      <td>1.000000</td>\n",
       "      <td>0.000000</td>\n",
       "      <td>0.000000</td>\n",
       "      <td>-3.400000</td>\n",
       "      <td>92.201000</td>\n",
       "      <td>-50.800000</td>\n",
       "      <td>0.634000</td>\n",
       "      <td>4963.600000</td>\n",
       "      <td>0.000000</td>\n",
       "    </tr>\n",
       "    <tr>\n",
       "      <th>25%</th>\n",
       "      <td>32.00000</td>\n",
       "      <td>102.000000</td>\n",
       "      <td>1.000000</td>\n",
       "      <td>999.000000</td>\n",
       "      <td>0.000000</td>\n",
       "      <td>-1.800000</td>\n",
       "      <td>93.075000</td>\n",
       "      <td>-42.700000</td>\n",
       "      <td>1.344000</td>\n",
       "      <td>5099.100000</td>\n",
       "      <td>0.000000</td>\n",
       "    </tr>\n",
       "    <tr>\n",
       "      <th>50%</th>\n",
       "      <td>38.00000</td>\n",
       "      <td>180.000000</td>\n",
       "      <td>2.000000</td>\n",
       "      <td>999.000000</td>\n",
       "      <td>0.000000</td>\n",
       "      <td>1.100000</td>\n",
       "      <td>93.749000</td>\n",
       "      <td>-41.800000</td>\n",
       "      <td>4.857000</td>\n",
       "      <td>5191.000000</td>\n",
       "      <td>0.000000</td>\n",
       "    </tr>\n",
       "    <tr>\n",
       "      <th>75%</th>\n",
       "      <td>47.00000</td>\n",
       "      <td>319.000000</td>\n",
       "      <td>3.000000</td>\n",
       "      <td>999.000000</td>\n",
       "      <td>0.000000</td>\n",
       "      <td>1.400000</td>\n",
       "      <td>93.994000</td>\n",
       "      <td>-36.400000</td>\n",
       "      <td>4.961000</td>\n",
       "      <td>5228.100000</td>\n",
       "      <td>0.000000</td>\n",
       "    </tr>\n",
       "    <tr>\n",
       "      <th>max</th>\n",
       "      <td>98.00000</td>\n",
       "      <td>4918.000000</td>\n",
       "      <td>56.000000</td>\n",
       "      <td>999.000000</td>\n",
       "      <td>7.000000</td>\n",
       "      <td>1.400000</td>\n",
       "      <td>94.767000</td>\n",
       "      <td>-26.900000</td>\n",
       "      <td>5.045000</td>\n",
       "      <td>5228.100000</td>\n",
       "      <td>1.000000</td>\n",
       "    </tr>\n",
       "  </tbody>\n",
       "</table>\n",
       "</div>"
      ],
      "text/plain": [
       "               age      duration      campaign         pdays      previous  \\\n",
       "count  41188.00000  41188.000000  41188.000000  41188.000000  41188.000000   \n",
       "mean      40.02406    258.285010      2.567593    962.475454      0.172963   \n",
       "std       10.42125    259.279249      2.770014    186.910907      0.494901   \n",
       "min       17.00000      0.000000      1.000000      0.000000      0.000000   \n",
       "25%       32.00000    102.000000      1.000000    999.000000      0.000000   \n",
       "50%       38.00000    180.000000      2.000000    999.000000      0.000000   \n",
       "75%       47.00000    319.000000      3.000000    999.000000      0.000000   \n",
       "max       98.00000   4918.000000     56.000000    999.000000      7.000000   \n",
       "\n",
       "       emp_var_rate  cons_price_idx  cons_conf_idx     euribor3m  \\\n",
       "count  41188.000000    41188.000000   41188.000000  41188.000000   \n",
       "mean       0.081886       93.575664     -40.502600      3.621291   \n",
       "std        1.570960        0.578840       4.628198      1.734447   \n",
       "min       -3.400000       92.201000     -50.800000      0.634000   \n",
       "25%       -1.800000       93.075000     -42.700000      1.344000   \n",
       "50%        1.100000       93.749000     -41.800000      4.857000   \n",
       "75%        1.400000       93.994000     -36.400000      4.961000   \n",
       "max        1.400000       94.767000     -26.900000      5.045000   \n",
       "\n",
       "        nr_employed             y  \n",
       "count  41188.000000  41188.000000  \n",
       "mean    5167.035911      0.112654  \n",
       "std       72.251528      0.316173  \n",
       "min     4963.600000      0.000000  \n",
       "25%     5099.100000      0.000000  \n",
       "50%     5191.000000      0.000000  \n",
       "75%     5228.100000      0.000000  \n",
       "max     5228.100000      1.000000  "
      ]
     },
     "execution_count": 89,
     "metadata": {},
     "output_type": "execute_result"
    }
   ],
   "source": [
    "# 6)    Find the descriptive statistics for each column\n",
    "print(\"Descriptive Statistics of columns\")\n",
    "df.describe()"
   ]
  },
  {
   "cell_type": "code",
   "execution_count": 59,
   "id": "58a3a497",
   "metadata": {},
   "outputs": [
    {
     "data": {
      "image/png": "[encoded data removed]",
      "text/plain": [
       "<Figure size 1080x504 with 1 Axes>"
      ]
     },
     "metadata": {
      "needs_background": "light"
     },
     "output_type": "display_data"
    }
   ],
   "source": [
    "# 7) Use pd.query(), iloc, loc and range subsetting to extract insights from the data.\n",
    "#    You will be evaluated on the quality of your queries and the rationale behind selecting them.\n",
    "#    You can extract upto five (5) separate insights from the data.\n",
    "import matplotlib.pyplot as plt\n",
    "%matplotlib inline\n",
    "\n",
    "# Feature number 1:-\n",
    "freq = df[df['y'] == 1].groupby(['month'])['y'].count()\n",
    "freq_general = df.groupby(['month'])['y'].count()\n",
    "freq = (freq/freq_general) * 100\n",
    "new_index = ['mar','apr', 'may','jun', 'jul', 'aug', 'sep','oct','nov','dec']\n",
    "freq = freq.reindex(new_index)\n",
    "\n",
    "plt.figure(figsize = [15,7])\n",
    "plt.bar(x = freq.index, height = freq)\n",
    "plt.xlabel(\"Month of the year\");\n",
    "plt.xticks(range(10), ['March', 'April', 'May', 'June', 'July', 'August', 'September','October', 'November', 'December']);\n",
    "plt.title(\"Monthly Conversion rate of Subscriptions\");"
   ]
  },
  {
   "cell_type": "markdown",
   "id": "eb01fa9e",
   "metadata": {},
   "source": [
    "So as can be seen the subscriptions don't seem to be concentrated as per seasons and generally see high conversion values in March, September, October and December"
   ]
  },
  {
   "cell_type": "code",
   "execution_count": 39,
   "id": "7a204729",
   "metadata": {},
   "outputs": [
    {
     "data": {
      "image/png": "[encoded data removed]",
      "text/plain": [
       "<Figure size 1080x504 with 1 Axes>"
      ]
     },
     "metadata": {
      "needs_background": "light"
     },
     "output_type": "display_data"
    }
   ],
   "source": [
    "# Feature 2:- Distribution by job type \n",
    "freq_by_job = df[df['y'] == 1].groupby('job')['y'].count()\n",
    "freq_general = df.groupby(['job'])['y'].count()\n",
    "freq_dist = (freq_by_job/freq_general)*100\n",
    "freq_dist = freq_dist.sort_values(ascending = False)\n",
    "\n",
    "plt.figure(figsize = [15,7])\n",
    "plt.bar(x = freq_dist.index, height = freq_dist)\n",
    "plt.xlabel(\"Job\");\n",
    "plt.xticks()\n",
    "plt.title(\"Conversion Rate of Different Job Profiles\");"
   ]
  },
  {
   "cell_type": "markdown",
   "id": "93acac8c",
   "metadata": {},
   "source": [
    "We can see that the highest subscriptions are from classes that don't make money. So perhaps the subscriptions pertain to a product that benefits these groups"
   ]
  },
  {
   "cell_type": "code",
   "execution_count": 56,
   "id": "cc8a01cf",
   "metadata": {},
   "outputs": [
    {
     "data": {
      "image/png": "[encoded data removed]",
      "text/plain": [
       "<Figure size 864x360 with 1 Axes>"
      ]
     },
     "metadata": {
      "needs_background": "light"
     },
     "output_type": "display_data"
    },
    {
     "data": {
      "image/png": "[encoded data removed]",
      "text/plain": [
       "<Figure size 864x360 with 1 Axes>"
      ]
     },
     "metadata": {
      "needs_background": "light"
     },
     "output_type": "display_data"
    }
   ],
   "source": [
    "# Feature 3: Age group of the subscribers\n",
    "bins = np.arange(df.age.min(), df.age.max()+5, 5)\n",
    "df['age_bin'] = pd.cut(df.age, bins)\n",
    "\n",
    "def histogram(df, x, bins, xlim_upper, xlabel):\n",
    "    \"\"\"Function for plotting histogram with parameters and ticks defined\"\"\"\n",
    "    plt.hist(data=df, x = x, bins = bins);\n",
    "    plt.xlim(df.age.min(), xlim_upper);\n",
    "    plt.xlabel(xlabel);\n",
    "\n",
    "plt.figure(figsize = [12, 5])\n",
    "plt.subplot(1,2,1)\n",
    "histogram(df, 'age', bins, 70, 'Age of Users ➡')\n",
    "\n",
    "plt.figure(figsize = [12, 5])\n",
    "plt.subplot(1,2,2)\n",
    "histogram(df, 'age', bins, 45, 'Age of Users ➡')"
   ]
  },
  {
   "cell_type": "markdown",
   "id": "ca3e0140",
   "metadata": {},
   "source": [
    "Turns out, a lot of the consumers are between 32 to 37 years of age"
   ]
  },
  {
   "cell_type": "code",
   "execution_count": 93,
   "id": "64b79d95",
   "metadata": {},
   "outputs": [
    {
     "data": {
      "image/png": "[encoded data removed]",
      "text/plain": [
       "<Figure size 1080x504 with 1 Axes>"
      ]
     },
     "metadata": {
      "needs_background": "light"
     },
     "output_type": "display_data"
    }
   ],
   "source": [
    "# Feature 4: Correlation between housing and loan\n",
    "\n",
    "def clustered_bar_plot(size, freq_by_loan, x, y, hue):\n",
    "    import seaborn as sb\n",
    "    plt.figure(figsize = size)\n",
    "    sb.barplot(data=freq_by_loan, x = x, y = y, hue = hue)\n",
    "\n",
    "freq_by_loan = df[df['loan']!='unknown'].groupby(['loan', 'education'])\n",
    "freq_by_loan = freq_by_loan.size().reset_index()\n",
    "freq_by_loan.columns = ['loan','education','count']\n",
    "freq_by_loan = freq_by_loan[freq_by_loan['education']!='unknown']\n",
    "freq_by_loan.reset_index()\n",
    "clustered_bar_plot([15,7], freq_by_loan, 'loan', 'count', 'education')"
   ]
  },
  {
   "cell_type": "markdown",
   "id": "5f88cfc2",
   "metadata": {},
   "source": [
    "Seems like the educated guys aren't taking enough loans (in absolute numbers atleast)!!"
   ]
  }
 ],
 "metadata": {
  "kernelspec": {
   "display_name": "Python 3",
   "language": "python",
   "name": "python3"
  },
  "language_info": {
   "codemirror_mode": {
    "name": "ipython",
    "version": 3
   },
   "file_extension": ".py",
   "mimetype": "text/x-python",
   "name": "python",
   "nbconvert_exporter": "python",
   "pygments_lexer": "ipython3",
   "version": "3.8.8"
  }
 },
 "nbformat": 4,
 "nbformat_minor": 5
}
