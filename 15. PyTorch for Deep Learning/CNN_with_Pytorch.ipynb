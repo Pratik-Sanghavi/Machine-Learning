{
 "cells": [
  {
   "attachments": {},
   "cell_type": "markdown",
   "metadata": {},
   "source": [
    "# CNNs with PyTorch"
   ]
  },
  {
   "cell_type": "code",
   "execution_count": 2,
   "metadata": {},
   "outputs": [],
   "source": [
    "import torch\n",
    "import torch.nn as nn\n",
    "import torch.nn.functional as F\n",
    "from torch.utils.data import DataLoader\n",
    "from torchvision import datasets, transforms\n",
    "from torchvision.utils import make_grid\n",
    "\n",
    "import numpy as np\n",
    "import pandas as pd\n",
    "from sklearn.metrics import confusion_matrix\n",
    "import matplotlib.pyplot as plt\n",
    "\n",
    "%matplotlib inline"
   ]
  },
  {
   "cell_type": "code",
   "execution_count": 3,
   "metadata": {},
   "outputs": [],
   "source": [
    "transform = transforms.ToTensor()\n",
    "\n",
    "train_data = datasets.MNIST(root = '../Data', train = True, download=True, transform=transform)\n",
    "test_data = datasets.MNIST(root = '../Data', train = False, download=True, transform=transform)"
   ]
  },
  {
   "cell_type": "code",
   "execution_count": 4,
   "metadata": {},
   "outputs": [
    {
     "data": {
      "text/plain": [
       "Dataset MNIST\n",
       "    Number of datapoints: 10000\n",
       "    Root location: ../Data\n",
       "    Split: Test\n",
       "    StandardTransform\n",
       "Transform: ToTensor()"
      ]
     },
     "execution_count": 4,
     "metadata": {},
     "output_type": "execute_result"
    }
   ],
   "source": [
    "test_data"
   ]
  },
  {
   "cell_type": "code",
   "execution_count": 5,
   "metadata": {},
   "outputs": [],
   "source": [
    "train_loader = DataLoader(train_data, batch_size = 10, shuffle=True)\n",
    "test_loader = DataLoader(test_data, batch_size = 10, shuffle=False)"
   ]
  },
  {
   "cell_type": "code",
   "execution_count": 9,
   "metadata": {},
   "outputs": [],
   "source": [
    "# 1 COLOR CHANNEL,6 FILTERS (OUTPUT CHANNELS),3by3 KERNEL,STRIDE=1\n",
    "conv1 = nn.Conv2d(1,6,3,1)\n",
    "\n",
    "# 6 Input Filters Conv1,16 FILTERS (OUTPUT CHANNELS),3by3 KERNEL,STRIDE=1\n",
    "conv2 = nn.Conv2d(6,16,3,1)"
   ]
  },
  {
   "cell_type": "code",
   "execution_count": 6,
   "metadata": {},
   "outputs": [],
   "source": [
    "for i, (X_train, y_train) in enumerate(train_data):\n",
    "    break"
   ]
  },
  {
   "cell_type": "code",
   "execution_count": 7,
   "metadata": {},
   "outputs": [
    {
     "data": {
      "text/plain": [
       "torch.Size([1, 28, 28])"
      ]
     },
     "execution_count": 7,
     "metadata": {},
     "output_type": "execute_result"
    }
   ],
   "source": [
    "X_train.shape"
   ]
  },
  {
   "cell_type": "code",
   "execution_count": 10,
   "metadata": {},
   "outputs": [
    {
     "data": {
      "text/plain": [
       "torch.Size([1, 6, 26, 26])"
      ]
     },
     "execution_count": 10,
     "metadata": {},
     "output_type": "execute_result"
    }
   ],
   "source": [
    "x = X_train.view(1,1,28,28)\n",
    "x = F.relu(conv1(x))\n",
    "x.shape"
   ]
  },
  {
   "cell_type": "code",
   "execution_count": 11,
   "metadata": {},
   "outputs": [],
   "source": [
    "x = F.max_pool2d(x, 2,2)"
   ]
  },
  {
   "cell_type": "code",
   "execution_count": 12,
   "metadata": {},
   "outputs": [
    {
     "data": {
      "text/plain": [
       "torch.Size([1, 6, 13, 13])"
      ]
     },
     "execution_count": 12,
     "metadata": {},
     "output_type": "execute_result"
    }
   ],
   "source": [
    "x.shape"
   ]
  },
  {
   "cell_type": "code",
   "execution_count": 13,
   "metadata": {},
   "outputs": [
    {
     "data": {
      "text/plain": [
       "torch.Size([1, 16, 11, 11])"
      ]
     },
     "execution_count": 13,
     "metadata": {},
     "output_type": "execute_result"
    }
   ],
   "source": [
    "x = F.relu(conv2(x))\n",
    "x.shape"
   ]
  },
  {
   "cell_type": "code",
   "execution_count": 14,
   "metadata": {},
   "outputs": [
    {
     "data": {
      "text/plain": [
       "torch.Size([1, 16, 5, 5])"
      ]
     },
     "execution_count": 14,
     "metadata": {},
     "output_type": "execute_result"
    }
   ],
   "source": [
    "x = F.max_pool2d(x, 2, 2)\n",
    "x.shape"
   ]
  },
  {
   "cell_type": "code",
   "execution_count": 15,
   "metadata": {},
   "outputs": [
    {
     "data": {
      "text/plain": [
       "torch.Size([1, 400])"
      ]
     },
     "execution_count": 15,
     "metadata": {},
     "output_type": "execute_result"
    }
   ],
   "source": [
    "x.view(-1,16*5*5).shape"
   ]
  },
  {
   "cell_type": "code",
   "execution_count": 16,
   "metadata": {},
   "outputs": [],
   "source": [
    "class ConvolutionNetwork(nn.Module):\n",
    "    def __init__(self):\n",
    "        super().__init__()\n",
    "        self.conv1 = nn.Conv2d(1,6,3,1)\n",
    "        self.conv2 = nn.Conv2d(6,16,3,1)\n",
    "        self.fc1 = nn.Linear(5*5*16,120)\n",
    "        self.fc2 = nn.Linear(120, 84)\n",
    "        self.fc3 = nn.Linear(84,10)\n",
    "\n",
    "    def forward(self, X):\n",
    "        X = F.relu(self.conv1(X))\n",
    "        X = F.max_pool2d(X, 2, 2)\n",
    "        X = F.relu(self.conv2(X))\n",
    "        X = F.max_pool2d(X, 2, 2)\n",
    "        X = X.view(-1, 16*5*5)\n",
    "        X = F.relu(self.fc1(X))\n",
    "        X = F.relu(self.fc2(X))\n",
    "        X = self.fc3(X)\n",
    "        return F.log_softmax(X, dim = 1)"
   ]
  },
  {
   "cell_type": "code",
   "execution_count": 24,
   "metadata": {},
   "outputs": [
    {
     "data": {
      "text/plain": [
       "ConvolutionNetwork(\n",
       "  (conv1): Conv2d(1, 6, kernel_size=(3, 3), stride=(1, 1))\n",
       "  (conv2): Conv2d(6, 16, kernel_size=(3, 3), stride=(1, 1))\n",
       "  (fc1): Linear(in_features=400, out_features=120, bias=True)\n",
       "  (fc2): Linear(in_features=120, out_features=84, bias=True)\n",
       "  (fc3): Linear(in_features=84, out_features=10, bias=True)\n",
       ")"
      ]
     },
     "execution_count": 24,
     "metadata": {},
     "output_type": "execute_result"
    }
   ],
   "source": [
    "torch.manual_seed(42)\n",
    "model = ConvolutionNetwork()\n",
    "model.eval()"
   ]
  },
  {
   "cell_type": "code",
   "execution_count": 20,
   "metadata": {},
   "outputs": [
    {
     "data": {
      "text/plain": [
       "60074"
      ]
     },
     "execution_count": 20,
     "metadata": {},
     "output_type": "execute_result"
    }
   ],
   "source": [
    "num_parameters = 0\n",
    "for param in model.parameters():\n",
    "    num_parameters += param.numel()\n",
    "\n",
    "num_parameters"
   ]
  },
  {
   "cell_type": "code",
   "execution_count": 25,
   "metadata": {},
   "outputs": [],
   "source": [
    "criterion = nn.CrossEntropyLoss()\n",
    "optimizer = torch.optim.Adam(model.parameters(), lr = 1e-3)"
   ]
  },
  {
   "cell_type": "code",
   "execution_count": 26,
   "metadata": {},
   "outputs": [
    {
     "name": "stdout",
     "output_type": "stream",
     "text": [
      "EPOCH: 0 BATCH: 600 LOSS: 0.042550548911094666\n",
      "EPOCH: 0 BATCH: 1200 LOSS: 0.0794178694486618\n",
      "EPOCH: 0 BATCH: 1800 LOSS: 0.31659600138664246\n",
      "EPOCH: 0 BATCH: 2400 LOSS: 0.017571672797203064\n",
      "EPOCH: 0 BATCH: 3000 LOSS: 0.006613238714635372\n",
      "EPOCH: 0 BATCH: 3600 LOSS: 0.0016816703137010336\n",
      "EPOCH: 0 BATCH: 4200 LOSS: 0.4892541766166687\n",
      "EPOCH: 0 BATCH: 4800 LOSS: 0.021441902965307236\n",
      "EPOCH: 0 BATCH: 5400 LOSS: 0.01042536087334156\n",
      "EPOCH: 0 BATCH: 6000 LOSS: 0.039831627160310745\n",
      "EPOCH: 1 BATCH: 600 LOSS: 0.01899746246635914\n",
      "EPOCH: 1 BATCH: 1200 LOSS: 0.03323657438158989\n",
      "EPOCH: 1 BATCH: 1800 LOSS: 0.0016125512775033712\n",
      "EPOCH: 1 BATCH: 2400 LOSS: 0.0629061609506607\n",
      "EPOCH: 1 BATCH: 3000 LOSS: 0.3251033425331116\n",
      "EPOCH: 1 BATCH: 3600 LOSS: 0.00015656750474590808\n",
      "EPOCH: 1 BATCH: 4200 LOSS: 0.0014458318473771214\n",
      "EPOCH: 1 BATCH: 4800 LOSS: 0.002218470675870776\n",
      "EPOCH: 1 BATCH: 5400 LOSS: 0.0007657692767679691\n",
      "EPOCH: 1 BATCH: 6000 LOSS: 0.002254519611597061\n",
      "EPOCH: 2 BATCH: 600 LOSS: 0.0014027442084625363\n",
      "EPOCH: 2 BATCH: 1200 LOSS: 0.010573729872703552\n",
      "EPOCH: 2 BATCH: 1800 LOSS: 0.0020869921427220106\n",
      "EPOCH: 2 BATCH: 2400 LOSS: 0.00105420988984406\n",
      "EPOCH: 2 BATCH: 3000 LOSS: 0.2959253191947937\n",
      "EPOCH: 2 BATCH: 3600 LOSS: 0.014346343465149403\n",
      "EPOCH: 2 BATCH: 4200 LOSS: 0.0111831184476614\n",
      "EPOCH: 2 BATCH: 4800 LOSS: 0.003516957862302661\n",
      "EPOCH: 2 BATCH: 5400 LOSS: 0.0001859309122664854\n",
      "EPOCH: 2 BATCH: 6000 LOSS: 0.0004168714804109186\n",
      "EPOCH: 3 BATCH: 600 LOSS: 0.0021180168259888887\n",
      "EPOCH: 3 BATCH: 1200 LOSS: 0.003332203719764948\n",
      "EPOCH: 3 BATCH: 1800 LOSS: 0.0006493387627415359\n",
      "EPOCH: 3 BATCH: 2400 LOSS: 0.00022509635891765356\n",
      "EPOCH: 3 BATCH: 3000 LOSS: 0.0069016278721392155\n",
      "EPOCH: 3 BATCH: 3600 LOSS: 0.018194030970335007\n",
      "EPOCH: 3 BATCH: 4200 LOSS: 0.00023939211678225547\n",
      "EPOCH: 3 BATCH: 4800 LOSS: 0.016940787434577942\n",
      "EPOCH: 3 BATCH: 5400 LOSS: 0.005053668282926083\n",
      "EPOCH: 3 BATCH: 6000 LOSS: 0.001556343398988247\n",
      "EPOCH: 4 BATCH: 600 LOSS: 0.0012683853274211287\n",
      "EPOCH: 4 BATCH: 1200 LOSS: 0.016117405146360397\n",
      "EPOCH: 4 BATCH: 1800 LOSS: 2.6830786737264134e-05\n",
      "EPOCH: 4 BATCH: 2400 LOSS: 8.972846990218386e-05\n",
      "EPOCH: 4 BATCH: 3000 LOSS: 0.0040741292759776115\n",
      "EPOCH: 4 BATCH: 3600 LOSS: 0.001921160495840013\n",
      "EPOCH: 4 BATCH: 4200 LOSS: 0.0007759398431517184\n",
      "EPOCH: 4 BATCH: 4800 LOSS: 0.0014265181962400675\n",
      "EPOCH: 4 BATCH: 5400 LOSS: 4.1600502299843356e-05\n",
      "EPOCH: 4 BATCH: 6000 LOSS: 0.0014667308423668146\n",
      "Training took 3.367253522078196 minutes\n"
     ]
    }
   ],
   "source": [
    "import time\n",
    "start_time = time.time()\n",
    "\n",
    "# VARIABLES (TRACKERS)\n",
    "epochs = 5\n",
    "train_losses = []\n",
    "test_losses = []\n",
    "train_correct = []\n",
    "test_correct = []\n",
    "\n",
    "for i in range(epochs):\n",
    "    trn_corr = 0\n",
    "    tst_corr = 0\n",
    "\n",
    "    # TRAIN\n",
    "    for b, (X_train, y_train) in enumerate(train_loader):\n",
    "        b+=1\n",
    "\n",
    "        y_pred = model(X_train)\n",
    "        loss = criterion(y_pred, y_train)\n",
    "        predicted = torch.max(y_pred.data, 1)[1]\n",
    "        batch_corr = (predicted == y_train).sum()\n",
    "        trn_corr += batch_corr\n",
    "\n",
    "        optimizer.zero_grad()\n",
    "        loss.backward()\n",
    "        optimizer.step()\n",
    "\n",
    "        if b%600 == 0:\n",
    "            print(f'EPOCH: {i} BATCH: {b} LOSS: {loss.item()}')\n",
    "\n",
    "    train_losses.append(loss.detach().numpy())\n",
    "    train_correct.append(trn_corr.numpy())\n",
    "\n",
    "    # TEST\n",
    "    with torch.no_grad():\n",
    "        for b, (X_test, y_test) in enumerate(test_loader):\n",
    "            y_val = model(X_test)\n",
    "            predicted = torch.max(y_val.data, 1)[1]\n",
    "            tst_corr += (predicted == y_test).sum()\n",
    "    loss = criterion(y_val, y_test)\n",
    "    test_losses.append(loss.detach().numpy())\n",
    "    test_correct.append(tst_corr.numpy())\n",
    "\n",
    "\n",
    "current_time = time.time()\n",
    "total = current_time - start_time\n",
    "print(f'Training took {total/60} minutes')"
   ]
  },
  {
   "cell_type": "code",
   "execution_count": 28,
   "metadata": {},
   "outputs": [
    {
     "data": {
      "image/png": "[encoded data removed]",
      "text/plain": [
       "<Figure size 640x480 with 1 Axes>"
      ]
     },
     "metadata": {},
     "output_type": "display_data"
    }
   ],
   "source": [
    "plt.plot(train_losses, label = \"Train Loss\");\n",
    "plt.plot(test_losses, label = \"Test Loss\");\n",
    "plt.legend();\n",
    "plt.title('Loss at Epoch');"
   ]
  },
  {
   "cell_type": "code",
   "execution_count": 29,
   "metadata": {},
   "outputs": [
    {
     "data": {
      "image/png": "[encoded data removed]",
      "text/plain": [
       "<Figure size 640x480 with 1 Axes>"
      ]
     },
     "metadata": {},
     "output_type": "display_data"
    }
   ],
   "source": [
    "plt.plot([t/600 for t in train_correct], label = \"Training Accuracy\");\n",
    "plt.plot([t/100 for t in test_correct], label = \"Validation Accuracy\");\n",
    "plt.title(\"Accuracy at the end of each epoch\");\n",
    "plt.legend();"
   ]
  },
  {
   "cell_type": "code",
   "execution_count": 30,
   "metadata": {},
   "outputs": [],
   "source": [
    "test_load_all = DataLoader(test_data, batch_size = 10000, shuffle=False)"
   ]
  },
  {
   "cell_type": "code",
   "execution_count": 31,
   "metadata": {},
   "outputs": [],
   "source": [
    "with torch.no_grad():\n",
    "    correct = 0\n",
    "    for X_test, y_test in test_load_all:\n",
    "        y_val = model(X_test)\n",
    "        predicted = torch.max(y_val, 1)[1]\n",
    "        correct += (predicted == y_test).sum()"
   ]
  },
  {
   "cell_type": "code",
   "execution_count": 32,
   "metadata": {},
   "outputs": [
    {
     "data": {
      "text/plain": [
       "0.9871"
      ]
     },
     "execution_count": 32,
     "metadata": {},
     "output_type": "execute_result"
    }
   ],
   "source": [
    "correct.item()/len(test_data)"
   ]
  },
  {
   "cell_type": "code",
   "execution_count": 33,
   "metadata": {},
   "outputs": [
    {
     "name": "stdout",
     "output_type": "stream",
     "text": [
      "[[   0    1    2    3    4    5    6    7    8    9]]\n",
      "\n",
      "[[ 974    0    0    0    0    2    3    0    3    0]\n",
      " [   0 1131    0    0    0    0    3    6    0    1]\n",
      " [   4    0 1019    1    0    0    2    8    2    0]\n",
      " [   0    2    7 1009    0   16    0    2    1    1]\n",
      " [   0    0    1    0  979    0    1    2    1    9]\n",
      " [   0    0    0    0    0  857    4    0    0    3]\n",
      " [   1    1    1    0    2    4  944    0    0    1]\n",
      " [   1    0    2    0    0    1    0 1004    0    2]\n",
      " [   0    1    2    0    0    2    1    1  964    2]\n",
      " [   0    0    0    0    1   10    0    5    3  990]]\n"
     ]
    }
   ],
   "source": [
    "np.set_printoptions(formatter=dict(int=lambda x: f'{x:4}'))\n",
    "print(np.arange(10).reshape(1,10))\n",
    "print()\n",
    "\n",
    "print(confusion_matrix(predicted.view(-1), y_test.view(-1)))"
   ]
  }
 ],
 "metadata": {
  "kernelspec": {
   "display_name": "PyTorch_Venv",
   "language": "python",
   "name": "python3"
  },
  "language_info": {
   "codemirror_mode": {
    "name": "ipython",
    "version": 3
   },
   "file_extension": ".py",
   "mimetype": "text/x-python",
   "name": "python",
   "nbconvert_exporter": "python",
   "pygments_lexer": "ipython3",
   "version": "3.10.5"
  },
  "orig_nbformat": 4,
  "vscode": {
   "interpreter": {
    "hash": "aecb0177305b72dccc012609712caff65d4029adb0259fde1cea8485cee6cb3d"
   }
  }
 },
 "nbformat": 4,
 "nbformat_minor": 2
}
