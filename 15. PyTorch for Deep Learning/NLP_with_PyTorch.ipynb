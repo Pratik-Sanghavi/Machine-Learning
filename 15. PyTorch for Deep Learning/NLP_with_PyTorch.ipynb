{
 "cells": [
  {
   "attachments": {},
   "cell_type": "markdown",
   "metadata": {},
   "source": [
    "# NLP with PyTorch"
   ]
  },
  {
   "cell_type": "code",
   "execution_count": 1,
   "metadata": {},
   "outputs": [],
   "source": [
    "import torch\n",
    "from torch import nn\n",
    "import torch.nn.functional as F\n",
    "\n",
    "import numpy as np\n",
    "import pandas as pd\n",
    "import matplotlib.pyplot as plt\n",
    "%matplotlib inline"
   ]
  },
  {
   "cell_type": "code",
   "execution_count": 2,
   "metadata": {},
   "outputs": [],
   "source": [
    "with open('./PYTORCH_NOTEBOOKS/Data/shakespeare.txt', 'r', encoding='utf8') as f:\n",
    "    text = f.read()"
   ]
  },
  {
   "cell_type": "code",
   "execution_count": 3,
   "metadata": {},
   "outputs": [
    {
     "data": {
      "text/plain": [
       "str"
      ]
     },
     "execution_count": 3,
     "metadata": {},
     "output_type": "execute_result"
    }
   ],
   "source": [
    "type(text)"
   ]
  },
  {
   "cell_type": "code",
   "execution_count": 4,
   "metadata": {},
   "outputs": [
    {
     "name": "stdout",
     "output_type": "stream",
     "text": [
      "\n",
      "                     1\n",
      "  From fairest creatures we desire increase,\n",
      "  That thereby beauty's rose might never die,\n",
      "  But as the riper should by time decease,\n",
      "  His tender heir might bear his memory:\n",
      "  But thou contracted to thine own bright eyes,\n",
      "  Feed'st thy light's flame with self-substantial fuel,\n",
      "  Making a famine where abundance lies,\n",
      "  Thy self thy foe, to thy sweet self too cruel:\n",
      "  Thou that art now the world's fresh ornament,\n",
      "  And only herald to the gaudy spring,\n",
      "  Within thine own bud buriest thy content,\n",
      "  And tender churl mak'st waste in niggarding:\n",
      "    Pity the world, or else this glutton be,\n",
      "    To eat the world's due, by the grave and thee.\n",
      "\n",
      "\n",
      "                     2\n",
      "  When forty winters shall besiege thy brow,\n",
      "  And dig deep trenches in thy beauty's field,\n",
      "  Thy youth's proud livery so gazed on now,\n",
      "  Will be a tattered weed of small worth held:  \n",
      "  Then being asked, where all thy beauty lies,\n",
      "  Where all the treasure of thy lusty days;\n",
      "  To say within thine own deep su\n"
     ]
    }
   ],
   "source": [
    "print(text[:1000])"
   ]
  },
  {
   "cell_type": "code",
   "execution_count": 5,
   "metadata": {},
   "outputs": [
    {
     "data": {
      "text/plain": [
       "5445609"
      ]
     },
     "execution_count": 5,
     "metadata": {},
     "output_type": "execute_result"
    }
   ],
   "source": [
    "len(text)"
   ]
  },
  {
   "cell_type": "code",
   "execution_count": 7,
   "metadata": {},
   "outputs": [
    {
     "data": {
      "text/plain": [
       "84"
      ]
     },
     "execution_count": 7,
     "metadata": {},
     "output_type": "execute_result"
    }
   ],
   "source": [
    "all_characters = set(text)\n",
    "len(all_characters)"
   ]
  },
  {
   "cell_type": "code",
   "execution_count": 9,
   "metadata": {},
   "outputs": [],
   "source": [
    "decoder = dict(enumerate(all_characters))"
   ]
  },
  {
   "cell_type": "code",
   "execution_count": 11,
   "metadata": {},
   "outputs": [],
   "source": [
    "encoder = {char: ind for ind, char in decoder.items()}"
   ]
  },
  {
   "cell_type": "code",
   "execution_count": 12,
   "metadata": {},
   "outputs": [],
   "source": [
    "encoded_text = np.array([encoder[char] for char in text])"
   ]
  },
  {
   "cell_type": "code",
   "execution_count": 13,
   "metadata": {},
   "outputs": [
    {
     "data": {
      "text/plain": [
       "array([ 5, 83, 83, 83, 83, 83, 83, 83, 83, 83, 83, 83, 83, 83, 83, 83, 83,\n",
       "       83, 83, 83, 83, 83, 47,  5, 83, 83, 27, 13, 38, 71, 83, 59, 21, 28,\n",
       "       13,  4, 80, 63, 83, 19, 13,  4, 21, 63, 56, 13,  4, 80, 83,  2,  4,\n",
       "       83, 39,  4, 80, 28, 13,  4, 83, 28, 30, 19, 13,  4, 21, 80,  4, 53,\n",
       "        5, 83, 83, 74,  1, 21, 63, 83, 63,  1,  4, 13,  4, 42, 34, 83, 42,\n",
       "        4, 21, 56, 63, 34, 10, 80, 83, 13, 38, 80,  4, 83, 71, 28, 57,  1,\n",
       "       63, 83, 30,  4, 17,  4, 13, 83, 39, 28,  4, 53,  5, 83, 83, 26, 56,\n",
       "       63, 83, 21, 80, 83, 63,  1,  4, 83, 13, 28,  8,  4, 13, 83, 80,  1,\n",
       "       38, 56, 54, 39, 83, 42, 34, 83, 63, 28, 71,  4, 83, 39,  4, 19,  4,\n",
       "       21, 80,  4, 53,  5, 83, 83, 45, 28, 80, 83, 63,  4, 30, 39,  4, 13,\n",
       "       83,  1,  4, 28, 13, 83, 71, 28, 57,  1, 63, 83, 42,  4, 21, 13, 83,\n",
       "        1, 28, 80, 83, 71,  4, 71, 38, 13, 34, 31,  5, 83, 83, 26, 56, 63,\n",
       "       83, 63,  1, 38, 56, 83, 19, 38, 30, 63, 13, 21, 19, 63,  4, 39, 83,\n",
       "       63, 38, 83, 63,  1, 28, 30,  4, 83, 38,  2, 30, 83, 42, 13, 28, 57,\n",
       "        1, 63, 83,  4, 34,  4, 80, 53,  5, 83, 83, 27,  4,  4, 39, 10, 80,\n",
       "       63, 83, 63,  1, 34, 83, 54, 28, 57,  1, 63, 10, 80, 83, 59, 54, 21,\n",
       "       71,  4, 83,  2, 28, 63,  1, 83, 80,  4, 54, 59, 29, 80, 56, 42, 80,\n",
       "       63, 21, 30, 63, 28, 21, 54, 83, 59, 56,  4, 54, 53,  5, 83, 83, 36,\n",
       "       21, 43, 28, 30, 57, 83, 21, 83, 59, 21, 71, 28, 30,  4, 83,  2,  1,\n",
       "        4, 13,  4, 83, 21, 42, 56, 30, 39, 21, 30, 19,  4, 83, 54, 28,  4,\n",
       "       80, 53,  5, 83, 83, 74,  1, 34, 83, 80,  4, 54, 59, 83, 63,  1, 34,\n",
       "       83, 59, 38,  4, 53, 83, 63, 38, 83, 63,  1, 34, 83, 80,  2,  4,  4,\n",
       "       63, 83, 80,  4, 54, 59, 83, 63, 38, 38, 83, 19, 13, 56,  4, 54, 31,\n",
       "        5, 83, 83, 74,  1, 38, 56, 83, 63,  1, 21, 63, 83, 21, 13, 63, 83,\n",
       "       30, 38,  2, 83, 63,  1,  4, 83,  2, 38, 13, 54, 39, 10, 80, 83, 59,\n",
       "       13,  4, 80,  1, 83, 38, 13, 30, 21, 71,  4, 30, 63, 53,  5, 83, 83,\n",
       "        0, 30, 39, 83, 38, 30, 54, 34, 83,  1,  4, 13, 21, 54, 39, 83, 63,\n",
       "       38, 83, 63,  1,  4, 83, 57, 21, 56, 39, 34, 83, 80,  8, 13, 28, 30,\n",
       "       57, 53,  5, 83, 83, 18, 28, 63,  1, 28, 30, 83, 63,  1, 28, 30,  4,\n",
       "       83, 38,  2, 30, 83, 42, 56])"
      ]
     },
     "execution_count": 13,
     "metadata": {},
     "output_type": "execute_result"
    }
   ],
   "source": [
    "encoded_text[:500]"
   ]
  },
  {
   "cell_type": "code",
   "execution_count": 14,
   "metadata": {},
   "outputs": [],
   "source": [
    "def one_hot_encoder(encoded_text, num_uni_chars):\n",
    "\n",
    "    # encoded_text --> batch of encoded text\n",
    "    # num_uni_chars --> len(set(text))\n",
    "\n",
    "    one_hot = np.zeros((encoded_text.size, num_uni_chars))\n",
    "    one_hot = one_hot.astype(np.float32)\n",
    "    one_hot[np.arange(one_hot.shape[0]), encoded_text.flatten()] = 1.0\n",
    "    one_hot = one_hot.reshape((*encoded_text.shape, num_uni_chars))\n",
    "    return one_hot"
   ]
  },
  {
   "cell_type": "code",
   "execution_count": 20,
   "metadata": {},
   "outputs": [],
   "source": [
    "def generate_batches(encoded_text, samp_per_batch = 10, seq_len = 50):\n",
    "    # X : encoded text of len seq_len\n",
    "    # Y : encoded text shifted by 1\n",
    "\n",
    "    char_per_batch = samp_per_batch * seq_len\n",
    "    num_batches_avail = int(len(encoded_text)/char_per_batch)\n",
    "    encoded_text = encoded_text[:num_batches_avail*char_per_batch]\n",
    "    encoded_text = encoded_text.reshape((samp_per_batch, -1))\n",
    "    for n in range(0, encoded_text.shape[1], seq_len):\n",
    "        x = encoded_text[:, n:n+seq_len]\n",
    "        y = np.zeros_like(x)\n",
    "        try:\n",
    "            y[:, :-1] = x[:, 1:]\n",
    "            y[:,-1] = encoded_text[:,n+seq_len]\n",
    "        except:\n",
    "            y[:, :-1] = x[:,1:]\n",
    "            y[:,-1] = encoded_text[:,0]\n",
    "        \n",
    "        yield x, y"
   ]
  },
  {
   "cell_type": "code",
   "execution_count": 21,
   "metadata": {},
   "outputs": [],
   "source": [
    "sample_text = encoded_text[:20]"
   ]
  },
  {
   "cell_type": "code",
   "execution_count": 22,
   "metadata": {},
   "outputs": [
    {
     "data": {
      "text/plain": [
       "array([ 5, 83, 83, 83, 83, 83, 83, 83, 83, 83, 83, 83, 83, 83, 83, 83, 83,\n",
       "       83, 83, 83])"
      ]
     },
     "execution_count": 22,
     "metadata": {},
     "output_type": "execute_result"
    }
   ],
   "source": [
    "sample_text"
   ]
  },
  {
   "cell_type": "code",
   "execution_count": 24,
   "metadata": {},
   "outputs": [
    {
     "data": {
      "text/plain": [
       "(array([[ 5, 83, 83, 83, 83],\n",
       "        [83, 83, 83, 83, 83]]),\n",
       " array([[83, 83, 83, 83, 83],\n",
       "        [83, 83, 83, 83, 83]]))"
      ]
     },
     "execution_count": 24,
     "metadata": {},
     "output_type": "execute_result"
    }
   ],
   "source": [
    "batch_generator = generate_batches(sample_text, samp_per_batch=2, seq_len=5)\n",
    "x, y = next(batch_generator)\n",
    "x,y"
   ]
  },
  {
   "cell_type": "code",
   "execution_count": 25,
   "metadata": {},
   "outputs": [],
   "source": [
    "class CharModel(nn.Module):\n",
    "    def __init__(self, all_chars, num_hidden = 256, num_layers = 4, drop_prob = 0.5, use_gpu = False):\n",
    "        super().__init__()\n",
    "        self.drop_prob = drop_prob\n",
    "        self.num_layers = num_layers\n",
    "        self.use_gpu = use_gpu\n",
    "        self.num_hidden = num_hidden\n",
    "        \n",
    "        self.all_chars = all_chars\n",
    "        self.decoder = dict(enumerate(all_chars))\n",
    "        self.encoder = {char:ind for ind, char in decoder.items()}\n",
    "\n",
    "        self.lstm = nn.LSTM(len(self.all_chars), num_hidden, num_layers, dropout = drop_prob, batch_first = True)\n",
    "        self.dropout = nn.Dropout(drop_prob)\n",
    "        self.fc_linear = nn.Linear(num_hidden, len(self.all_chars))\n",
    "\n",
    "    def forward(self, x, hidden):\n",
    "        lstm_output, hidden = self.lstm(x, hidden)\n",
    "        drop_output = self.dropout(lstm_output)\n",
    "        drop_output = drop_output.contiguous().view(-1, self.num_hidden)\n",
    "        final_out = self.fc_linear(drop_output)\n",
    "        return final_out, hidden\n",
    "\n",
    "    def hidden_state(self, batch_size):\n",
    "        if self.use_gpu:\n",
    "            hidden = (torch.zeros(self.num_layers, batch_size, self.num_hidden).cuda(), torch.zeros(self.num_layers, batch_size, self.num_hidden).cuda())\n",
    "        else:\n",
    "            hidden = (torch.zeros(self.num_layers, batch_size, self.num_hidden), torch.zeros(self.num_layers, batch_size, self.num_hidden))\n",
    "        return hidden"
   ]
  },
  {
   "cell_type": "code",
   "execution_count": 26,
   "metadata": {},
   "outputs": [],
   "source": [
    "model = CharModel(all_chars=all_characters,\n",
    "                  num_hidden=512,\n",
    "                  num_layers = 3,\n",
    "                  drop_prob=0.5,\n",
    "                  use_gpu=True)"
   ]
  },
  {
   "cell_type": "code",
   "execution_count": 27,
   "metadata": {},
   "outputs": [],
   "source": [
    "train_percent = 0.9\n",
    "train_ind = int(len(encoded_text) * train_percent)\n",
    "train_data = encoded_text[:train_ind]\n",
    "val_data = encoded_text[train_ind:]"
   ]
  },
  {
   "cell_type": "code",
   "execution_count": 28,
   "metadata": {},
   "outputs": [],
   "source": [
    "# VARIABLES\n",
    "epochs = 60\n",
    "batch_size = 100\n",
    "\n",
    "seq_len = 100\n",
    "tracker = 0\n",
    "num_chars = max(encoded_text) + 1"
   ]
  },
  {
   "cell_type": "code",
   "execution_count": 29,
   "metadata": {},
   "outputs": [],
   "source": [
    "optimizer = torch.optim.Adam(model.parameters(), lr = 1e-3)\n",
    "criterion = nn.CrossEntropyLoss()"
   ]
  },
  {
   "cell_type": "code",
   "execution_count": null,
   "metadata": {},
   "outputs": [],
   "source": [
    "model.train()\n",
    "\n",
    "if model.use_gpu:\n",
    "    model.cuda()\n",
    "\n",
    "for i in range(epochs):\n",
    "    hidden = model.hidden_state(batch_size)\n",
    "    for x, y in generate_batches(train_data, batch_size, seq_len):\n",
    "        tracker += 1\n",
    "        x = one_hot_encoder(x, num_chars)\n",
    "        inputs = torch.from_numpy(x)\n",
    "        targets = torch.from_numpy(y)\n",
    "\n",
    "        if model.use_gpu:\n",
    "            inputs = inputs.cuda()\n",
    "            targets = targets.cuda()\n",
    "\n",
    "        hidden = tuple([state.data for state in hidden])\n",
    "        optimizer.zero_grad()\n",
    "        lstm_output, hidden = model.forward(inputs, hidden)\n",
    "        loss = criterion(lstm_output, targets.view(batch_size*seq_len).long())\n",
    "        loss.backward()\n",
    "        nn.utils.clip_grad_norm_(model.parameters(), max_norm = 5)\n",
    "        optimizer.step()\n",
    "\n",
    "        if tracker%25 == 0:\n",
    "            val_hidden = model.hidden_state(batch_size)\n",
    "            val_losses = []\n",
    "            model.eval()\n",
    "\n",
    "            for x, y in generate_batches(val_data, batch_size, seq_len):\n",
    "                x = one_hot_encoder(x, num_chars)\n",
    "                inputs = torch.from_numpy(x)\n",
    "                targets = torch.from_numpy(y)\n",
    "                if model.use_gpu:\n",
    "                    inputs = inputs.cuda()\n",
    "                    targets = targets.cuda()\n",
    "                \n",
    "                val_hidden = tuple([state.data for state in val_hidden])\n",
    "                lstm_output, val_hidden = model.forward(inputs, val_hidden)\n",
    "                val_loss = criterion(lstm_output, targets.view(batch_size*seq_len).long())\n",
    "            model.train()\n",
    "            print(f'EPOCH: {i+1} Step: {tracker} VAL LOSS: {val_loss.item()}')"
   ]
  },
  {
   "cell_type": "code",
   "execution_count": null,
   "metadata": {},
   "outputs": [],
   "source": [
    "def predict_next_char(model, char, hidden = None, k = 1):\n",
    "    encoded_text = model.encoder[char]\n",
    "    encoded_text = np.array([[encoded_text]])\n",
    "    encoded_text = one_hot_encoder(encoded_text, len(model.all_chars))\n",
    "    inputs = torch.from_numpy(encoded_text)\n",
    "\n",
    "    if model.use_gpu:\n",
    "        inputs = inputs.cuda()\n",
    "    \n",
    "    hidden = tuple([state.data for state in hidden])\n",
    "    lstm_out, hidden = model(inputs, hidden)\n",
    "    probs = F.softmax(lstm_out, dim = 1).data\n",
    "    if model.use_gpu:\n",
    "        probs = probs.cpu()\n",
    "\n",
    "    probs, index_positions = probs.topk(k)\n",
    "    index_positions = index_positions.numpy().squeeze()\n",
    "    probs = probs.numpy().flatten()\n",
    "    probs = probs/probs.sum()\n",
    "    char = np.random.choice(index_positions, p = probs)\n",
    "    return model.decoder[char], hidden"
   ]
  },
  {
   "cell_type": "code",
   "execution_count": null,
   "metadata": {},
   "outputs": [],
   "source": [
    "def generate_text(model, size, seed = \"The\", k = 1):\n",
    "    if model.use_gpu:\n",
    "        model.cuda()\n",
    "    else:\n",
    "        model.cpu()\n",
    "\n",
    "    model.eval()\n",
    "    output_chars = [c for c in seed]\n",
    "    hidden = model.hidden_state(1)\n",
    "    for char in seed:\n",
    "        char, hidden = predict_next_char(model, char, hidden, k=k)\n",
    "    output_chars.append(char)\n",
    "    for i in range(size):\n",
    "        char, hidden = predict_next_char(model, output_chars[-1], hidden, k = k)\n",
    "        output_chars.append(char)\n",
    "    \n",
    "    return ' '.join(output_chars)"
   ]
  },
  {
   "cell_type": "code",
   "execution_count": null,
   "metadata": {},
   "outputs": [],
   "source": [
    "print(generate_text(model, 1000, seed = 'The', k = 3))"
   ]
  }
 ],
 "metadata": {
  "kernelspec": {
   "display_name": "PyTorch_Venv",
   "language": "python",
   "name": "python3"
  },
  "language_info": {
   "codemirror_mode": {
    "name": "ipython",
    "version": 3
   },
   "file_extension": ".py",
   "mimetype": "text/x-python",
   "name": "python",
   "nbconvert_exporter": "python",
   "pygments_lexer": "ipython3",
   "version": "3.10.5"
  },
  "orig_nbformat": 4,
  "vscode": {
   "interpreter": {
    "hash": "aecb0177305b72dccc012609712caff65d4029adb0259fde1cea8485cee6cb3d"
   }
  }
 },
 "nbformat": 4,
 "nbformat_minor": 2
}
