{
 "cells": [
  {
   "cell_type": "markdown",
   "metadata": {},
   "source": [
    "# Classification"
   ]
  },
  {
   "cell_type": "markdown",
   "metadata": {},
   "source": [
    "## Import Libraries"
   ]
  },
  {
   "cell_type": "code",
   "execution_count": 2,
   "metadata": {},
   "outputs": [],
   "source": [
    "from sklearn.datasets import fetch_openml\n",
    "import matplotlib.pyplot as plt\n",
    "import numpy as np\n",
    "from sklearn.linear_model import SGDClassifier\n",
    "import matplotlib as mpl\n",
    "\n",
    "%matplotlib inline"
   ]
  },
  {
   "cell_type": "markdown",
   "metadata": {},
   "source": [
    "## Get and View Data"
   ]
  },
  {
   "cell_type": "code",
   "execution_count": 3,
   "metadata": {},
   "outputs": [],
   "source": [
    "mnist = fetch_openml('mnist_784', version = 1)"
   ]
  },
  {
   "cell_type": "code",
   "execution_count": 5,
   "metadata": {},
   "outputs": [
    {
     "data": {
      "text/plain": [
       "((70000, 784), (70000,))"
      ]
     },
     "execution_count": 5,
     "metadata": {},
     "output_type": "execute_result"
    }
   ],
   "source": [
    "X, y = mnist['data'],mnist['target']\n",
    "X.shape, y.shape"
   ]
  },
  {
   "cell_type": "code",
   "execution_count": 6,
   "metadata": {},
   "outputs": [],
   "source": [
    "X = np.asarray(X)"
   ]
  },
  {
   "cell_type": "code",
   "execution_count": 7,
   "metadata": {},
   "outputs": [
    {
     "data": {
      "image/png": "[encoded data removed]",
      "text/plain": [
       "<Figure size 432x288 with 1 Axes>"
      ]
     },
     "metadata": {
      "needs_background": "light"
     },
     "output_type": "display_data"
    }
   ],
   "source": [
    "some_digit = X[0]\n",
    "some_digit_image = some_digit.reshape(28,28)\n",
    "\n",
    "plt.imshow(some_digit_image, cmap = 'binary')\n",
    "plt.axis('off')\n",
    "plt.show()"
   ]
  },
  {
   "cell_type": "code",
   "execution_count": 8,
   "metadata": {},
   "outputs": [],
   "source": [
    "y = y.astype(np.uint8)"
   ]
  },
  {
   "cell_type": "code",
   "execution_count": 9,
   "metadata": {},
   "outputs": [],
   "source": [
    "X_train, X_test, y_train, y_test = X[:60000],X[60000:],y[:60000],y[60000:]"
   ]
  },
  {
   "cell_type": "code",
   "execution_count": 19,
   "metadata": {},
   "outputs": [],
   "source": [
    "def plot_precision_recall_vs_threshold(precisions, recalls, thresholds, threshold=None):\n",
    "    plt.plot(thresholds, precisions[:-1], \"b--\", label = \"Precision\")\n",
    "    plt.plot(thresholds, recalls[:-1], 'g--', label = \"Recall\")\n",
    "    if threshold!=None:\n",
    "        plt.axvline(threshold)\n",
    "        index = (np.abs(thresholds - threshold)).argmin()\n",
    "        plt.axhline(precisions[index])\n",
    "        plt.axhline(recalls[index])\n",
    "    plt.title('Precision and Recall vs Threshold Curves')\n",
    "    plt.xlabel('Threshold')\n",
    "    plt.legend(loc = 'upper left')\n",
    "    plt.grid()"
   ]
  },
  {
   "cell_type": "code",
   "execution_count": 20,
   "metadata": {},
   "outputs": [],
   "source": [
    "def plot_precision_vs_recall(precisions, recalls, recall_val = None):\n",
    "    plt.plot(recalls, precisions, \"b--\")\n",
    "    plt.title('Precision vs Recall Curve')\n",
    "    plt.xlabel('Recall')\n",
    "    plt.ylabel('Precision')\n",
    "    plt.grid()\n",
    "    if recall_val!=None:\n",
    "        plt.axvline(recall_val)\n",
    "        index = (np.abs(recalls - recall_val)).argmin()\n",
    "        plt.axhline(precisions[index])"
   ]
  },
  {
   "cell_type": "markdown",
   "metadata": {},
   "source": [
    "1. Try to build a classifier for the MNIST dataset that achieves over 97% accuracy on the test set. Hint: the KNeighborsClassifier works quite well for this task; you just need to find good hyperparameter values (try a grid search on the weights and n_neighbors hyperparameters)."
   ]
  },
  {
   "cell_type": "code",
   "execution_count": 17,
   "metadata": {},
   "outputs": [
    {
     "name": "stdout",
     "output_type": "stream",
     "text": [
      "Fitting 5 folds for each of 20 candidates, totalling 100 fits\n",
      "[CV 1/5] END n_neighbors=1, weights=uniform;, score=(train=1.000, test=0.970) total time=   9.7s\n",
      "[CV 2/5] END n_neighbors=1, weights=uniform;, score=(train=1.000, test=0.971) total time=   9.3s\n",
      "[CV 3/5] END n_neighbors=1, weights=uniform;, score=(train=1.000, test=0.969) total time=   9.1s\n",
      "[CV 4/5] END n_neighbors=1, weights=uniform;, score=(train=1.000, test=0.969) total time=  10.1s\n",
      "[CV 5/5] END n_neighbors=1, weights=uniform;, score=(train=1.000, test=0.968) total time=  10.3s\n",
      "[CV 1/5] END n_neighbors=1, weights=distance;, score=(train=1.000, test=0.970) total time=  11.0s\n",
      "[CV 2/5] END n_neighbors=1, weights=distance;, score=(train=1.000, test=0.971) total time=  10.6s\n",
      "[CV 3/5] END n_neighbors=1, weights=distance;, score=(train=1.000, test=0.969) total time=  10.8s\n",
      "[CV 4/5] END n_neighbors=1, weights=distance;, score=(train=1.000, test=0.969) total time=  11.5s\n",
      "[CV 5/5] END n_neighbors=1, weights=distance;, score=(train=1.000, test=0.968) total time=  11.2s\n",
      "[CV 1/5] END n_neighbors=2, weights=uniform;, score=(train=0.984, test=0.964) total time=  11.8s\n",
      "[CV 2/5] END n_neighbors=2, weights=uniform;, score=(train=0.985, test=0.963) total time=  12.3s\n",
      "[CV 3/5] END n_neighbors=2, weights=uniform;, score=(train=0.985, test=0.962) total time=  10.5s\n",
      "[CV 4/5] END n_neighbors=2, weights=uniform;, score=(train=0.984, test=0.963) total time=  11.5s\n",
      "[CV 5/5] END n_neighbors=2, weights=uniform;, score=(train=0.985, test=0.964) total time=  11.7s\n",
      "[CV 1/5] END n_neighbors=2, weights=distance;, score=(train=1.000, test=0.970) total time=  11.1s\n",
      "[CV 2/5] END n_neighbors=2, weights=distance;, score=(train=1.000, test=0.971) total time=  12.0s\n",
      "[CV 3/5] END n_neighbors=2, weights=distance;, score=(train=1.000, test=0.969) total time=  13.1s\n",
      "[CV 4/5] END n_neighbors=2, weights=distance;, score=(train=1.000, test=0.969) total time=  12.0s\n",
      "[CV 5/5] END n_neighbors=2, weights=distance;, score=(train=1.000, test=0.968) total time=  13.5s\n",
      "[CV 1/5] END n_neighbors=3, weights=uniform;, score=(train=0.985, test=0.972) total time=  12.0s\n",
      "[CV 2/5] END n_neighbors=3, weights=uniform;, score=(train=0.986, test=0.971) total time=  12.5s\n",
      "[CV 3/5] END n_neighbors=3, weights=uniform;, score=(train=0.986, test=0.969) total time=  11.8s\n",
      "[CV 4/5] END n_neighbors=3, weights=uniform;, score=(train=0.986, test=0.969) total time=  11.6s\n",
      "[CV 5/5] END n_neighbors=3, weights=uniform;, score=(train=0.986, test=0.970) total time=  14.2s\n",
      "[CV 1/5] END n_neighbors=3, weights=distance;, score=(train=1.000, test=0.972) total time=  11.0s\n",
      "[CV 2/5] END n_neighbors=3, weights=distance;, score=(train=1.000, test=0.972) total time=  12.4s\n",
      "[CV 3/5] END n_neighbors=3, weights=distance;, score=(train=1.000, test=0.970) total time=  11.2s\n",
      "[CV 4/5] END n_neighbors=3, weights=distance;, score=(train=1.000, test=0.970) total time=  13.0s\n",
      "[CV 5/5] END n_neighbors=3, weights=distance;, score=(train=1.000, test=0.971) total time=  12.8s\n",
      "[CV 1/5] END n_neighbors=4, weights=uniform;, score=(train=0.982, test=0.969) total time=  11.5s\n",
      "[CV 2/5] END n_neighbors=4, weights=uniform;, score=(train=0.982, test=0.968) total time=  11.6s\n",
      "[CV 3/5] END n_neighbors=4, weights=uniform;, score=(train=0.982, test=0.968) total time=  11.9s\n",
      "[CV 4/5] END n_neighbors=4, weights=uniform;, score=(train=0.982, test=0.967) total time=  12.0s\n",
      "[CV 5/5] END n_neighbors=4, weights=uniform;, score=(train=0.982, test=0.970) total time=  11.9s\n",
      "[CV 1/5] END n_neighbors=4, weights=distance;, score=(train=1.000, test=0.973) total time=  11.2s\n",
      "[CV 2/5] END n_neighbors=4, weights=distance;, score=(train=1.000, test=0.972) total time=  11.2s\n",
      "[CV 3/5] END n_neighbors=4, weights=distance;, score=(train=1.000, test=0.970) total time=  12.4s\n",
      "[CV 4/5] END n_neighbors=4, weights=distance;, score=(train=1.000, test=0.971) total time=  12.3s\n",
      "[CV 5/5] END n_neighbors=4, weights=distance;, score=(train=1.000, test=0.972) total time=  11.7s\n",
      "[CV 1/5] END n_neighbors=5, weights=uniform;, score=(train=0.980, test=0.970) total time=  12.1s\n",
      "[CV 2/5] END n_neighbors=5, weights=uniform;, score=(train=0.981, test=0.970) total time=  12.2s\n",
      "[CV 3/5] END n_neighbors=5, weights=uniform;, score=(train=0.981, test=0.969) total time=  11.9s\n",
      "[CV 4/5] END n_neighbors=5, weights=uniform;, score=(train=0.981, test=0.968) total time=  12.9s\n",
      "[CV 5/5] END n_neighbors=5, weights=uniform;, score=(train=0.980, test=0.969) total time=  11.4s\n",
      "[CV 1/5] END n_neighbors=5, weights=distance;, score=(train=1.000, test=0.970) total time=  11.2s\n",
      "[CV 2/5] END n_neighbors=5, weights=distance;, score=(train=1.000, test=0.971) total time=  11.2s\n",
      "[CV 3/5] END n_neighbors=5, weights=distance;, score=(train=1.000, test=0.970) total time=  12.8s\n",
      "[CV 4/5] END n_neighbors=5, weights=distance;, score=(train=1.000, test=0.969) total time=  11.6s\n",
      "[CV 5/5] END n_neighbors=5, weights=distance;, score=(train=1.000, test=0.971) total time=  10.7s\n",
      "[CV 1/5] END n_neighbors=6, weights=uniform;, score=(train=0.979, test=0.968) total time=  11.1s\n",
      "[CV 2/5] END n_neighbors=6, weights=uniform;, score=(train=0.978, test=0.969) total time=  11.9s\n",
      "[CV 3/5] END n_neighbors=6, weights=uniform;, score=(train=0.979, test=0.968) total time=  13.0s\n",
      "[CV 4/5] END n_neighbors=6, weights=uniform;, score=(train=0.979, test=0.967) total time=  10.7s\n",
      "[CV 5/5] END n_neighbors=6, weights=uniform;, score=(train=0.978, test=0.969) total time=  10.9s\n",
      "[CV 1/5] END n_neighbors=6, weights=distance;, score=(train=1.000, test=0.972) total time=  10.3s\n",
      "[CV 2/5] END n_neighbors=6, weights=distance;, score=(train=1.000, test=0.972) total time=  10.3s\n",
      "[CV 3/5] END n_neighbors=6, weights=distance;, score=(train=1.000, test=0.970) total time=  11.3s\n",
      "[CV 4/5] END n_neighbors=6, weights=distance;, score=(train=1.000, test=0.970) total time=  10.8s\n",
      "[CV 5/5] END n_neighbors=6, weights=distance;, score=(train=1.000, test=0.972) total time=  11.8s\n",
      "[CV 1/5] END n_neighbors=7, weights=uniform;, score=(train=0.977, test=0.968) total time=  13.7s\n",
      "[CV 2/5] END n_neighbors=7, weights=uniform;, score=(train=0.977, test=0.970) total time=  11.7s\n",
      "[CV 3/5] END n_neighbors=7, weights=uniform;, score=(train=0.977, test=0.966) total time=  12.2s\n",
      "[CV 4/5] END n_neighbors=7, weights=uniform;, score=(train=0.978, test=0.967) total time=  11.0s\n",
      "[CV 5/5] END n_neighbors=7, weights=uniform;, score=(train=0.977, test=0.968) total time=  12.0s\n",
      "[CV 1/5] END n_neighbors=7, weights=distance;, score=(train=1.000, test=0.969) total time=  11.9s\n",
      "[CV 2/5] END n_neighbors=7, weights=distance;, score=(train=1.000, test=0.970) total time=  11.1s\n",
      "[CV 3/5] END n_neighbors=7, weights=distance;, score=(train=1.000, test=0.967) total time=  12.2s\n",
      "[CV 4/5] END n_neighbors=7, weights=distance;, score=(train=1.000, test=0.969) total time=  11.3s\n",
      "[CV 5/5] END n_neighbors=7, weights=distance;, score=(train=1.000, test=0.969) total time=  11.8s\n",
      "[CV 1/5] END n_neighbors=8, weights=uniform;, score=(train=0.976, test=0.966) total time=  12.3s\n",
      "[CV 2/5] END n_neighbors=8, weights=uniform;, score=(train=0.975, test=0.967) total time=  12.0s\n",
      "[CV 3/5] END n_neighbors=8, weights=uniform;, score=(train=0.976, test=0.965) total time=  11.8s\n",
      "[CV 4/5] END n_neighbors=8, weights=uniform;, score=(train=0.976, test=0.965) total time=  11.6s\n",
      "[CV 5/5] END n_neighbors=8, weights=uniform;, score=(train=0.976, test=0.968) total time=  12.9s\n",
      "[CV 1/5] END n_neighbors=8, weights=distance;, score=(train=1.000, test=0.969) total time=  10.4s\n",
      "[CV 2/5] END n_neighbors=8, weights=distance;, score=(train=1.000, test=0.970) total time=  10.4s\n",
      "[CV 3/5] END n_neighbors=8, weights=distance;, score=(train=1.000, test=0.967) total time=  11.7s\n",
      "[CV 4/5] END n_neighbors=8, weights=distance;, score=(train=1.000, test=0.968) total time=  10.4s\n",
      "[CV 5/5] END n_neighbors=8, weights=distance;, score=(train=1.000, test=0.971) total time=  10.8s\n",
      "[CV 1/5] END n_neighbors=9, weights=uniform;, score=(train=0.974, test=0.965) total time=  10.9s\n",
      "[CV 2/5] END n_neighbors=9, weights=uniform;, score=(train=0.974, test=0.968) total time=  10.8s\n",
      "[CV 3/5] END n_neighbors=9, weights=uniform;, score=(train=0.975, test=0.965) total time=  10.9s\n",
      "[CV 4/5] END n_neighbors=9, weights=uniform;, score=(train=0.975, test=0.965) total time=  14.1s\n",
      "[CV 5/5] END n_neighbors=9, weights=uniform;, score=(train=0.975, test=0.968) total time=  10.9s\n",
      "[CV 1/5] END n_neighbors=9, weights=distance;, score=(train=1.000, test=0.967) total time=  11.3s\n",
      "[CV 2/5] END n_neighbors=9, weights=distance;, score=(train=1.000, test=0.968) total time=  11.9s\n",
      "[CV 3/5] END n_neighbors=9, weights=distance;, score=(train=1.000, test=0.966) total time=  11.5s\n",
      "[CV 4/5] END n_neighbors=9, weights=distance;, score=(train=1.000, test=0.966) total time=  13.6s\n",
      "[CV 5/5] END n_neighbors=9, weights=distance;, score=(train=1.000, test=0.970) total time=  10.6s\n",
      "[CV 1/5] END n_neighbors=10, weights=uniform;, score=(train=0.973, test=0.965) total time=  11.3s\n",
      "[CV 2/5] END n_neighbors=10, weights=uniform;, score=(train=0.973, test=0.966) total time=  11.1s\n",
      "[CV 3/5] END n_neighbors=10, weights=uniform;, score=(train=0.974, test=0.963) total time=  12.0s\n",
      "[CV 4/5] END n_neighbors=10, weights=uniform;, score=(train=0.973, test=0.964) total time=  11.6s\n",
      "[CV 5/5] END n_neighbors=10, weights=uniform;, score=(train=0.973, test=0.967) total time=  11.7s\n",
      "[CV 1/5] END n_neighbors=10, weights=distance;, score=(train=1.000, test=0.967) total time=  10.9s\n",
      "[CV 2/5] END n_neighbors=10, weights=distance;, score=(train=1.000, test=0.969) total time=  10.8s\n",
      "[CV 3/5] END n_neighbors=10, weights=distance;, score=(train=1.000, test=0.966) total time=  10.9s\n",
      "[CV 4/5] END n_neighbors=10, weights=distance;, score=(train=1.000, test=0.965) total time=  11.6s\n",
      "[CV 5/5] END n_neighbors=10, weights=distance;, score=(train=1.000, test=0.969) total time=  11.5s\n"
     ]
    },
    {
     "data": {
      "text/html": [
       "<style>#sk-container-id-1 {color: black;background-color: white;}#sk-container-id-1 pre{padding: 0;}#sk-container-id-1 div.sk-toggleable {background-color: white;}#sk-container-id-1 label.sk-toggleable__label {cursor: pointer;display: block;width: 100%;margin-bottom: 0;padding: 0.3em;box-sizing: border-box;text-align: center;}#sk-container-id-1 label.sk-toggleable__label-arrow:before {content: \"▸\";float: left;margin-right: 0.25em;color: #696969;}#sk-container-id-1 label.sk-toggleable__label-arrow:hover:before {color: black;}#sk-container-id-1 div.sk-estimator:hover label.sk-toggleable__label-arrow:before {color: black;}#sk-container-id-1 div.sk-toggleable__content {max-height: 0;max-width: 0;overflow: hidden;text-align: left;background-color: #f0f8ff;}#sk-container-id-1 div.sk-toggleable__content pre {margin: 0.2em;color: black;border-radius: 0.25em;background-color: #f0f8ff;}#sk-container-id-1 input.sk-toggleable__control:checked~div.sk-toggleable__content {max-height: 200px;max-width: 100%;overflow: auto;}#sk-container-id-1 input.sk-toggleable__control:checked~label.sk-toggleable__label-arrow:before {content: \"▾\";}#sk-container-id-1 div.sk-estimator input.sk-toggleable__control:checked~label.sk-toggleable__label {background-color: #d4ebff;}#sk-container-id-1 div.sk-label input.sk-toggleable__control:checked~label.sk-toggleable__label {background-color: #d4ebff;}#sk-container-id-1 input.sk-hidden--visually {border: 0;clip: rect(1px 1px 1px 1px);clip: rect(1px, 1px, 1px, 1px);height: 1px;margin: -1px;overflow: hidden;padding: 0;position: absolute;width: 1px;}#sk-container-id-1 div.sk-estimator {font-family: monospace;background-color: #f0f8ff;border: 1px dotted black;border-radius: 0.25em;box-sizing: border-box;margin-bottom: 0.5em;}#sk-container-id-1 div.sk-estimator:hover {background-color: #d4ebff;}#sk-container-id-1 div.sk-parallel-item::after {content: \"\";width: 100%;border-bottom: 1px solid gray;flex-grow: 1;}#sk-container-id-1 div.sk-label:hover label.sk-toggleable__label {background-color: #d4ebff;}#sk-container-id-1 div.sk-serial::before {content: \"\";position: absolute;border-left: 1px solid gray;box-sizing: border-box;top: 0;bottom: 0;left: 50%;z-index: 0;}#sk-container-id-1 div.sk-serial {display: flex;flex-direction: column;align-items: center;background-color: white;padding-right: 0.2em;padding-left: 0.2em;position: relative;}#sk-container-id-1 div.sk-item {position: relative;z-index: 1;}#sk-container-id-1 div.sk-parallel {display: flex;align-items: stretch;justify-content: center;background-color: white;position: relative;}#sk-container-id-1 div.sk-item::before, #sk-container-id-1 div.sk-parallel-item::before {content: \"\";position: absolute;border-left: 1px solid gray;box-sizing: border-box;top: 0;bottom: 0;left: 50%;z-index: -1;}#sk-container-id-1 div.sk-parallel-item {display: flex;flex-direction: column;z-index: 1;position: relative;background-color: white;}#sk-container-id-1 div.sk-parallel-item:first-child::after {align-self: flex-end;width: 50%;}#sk-container-id-1 div.sk-parallel-item:last-child::after {align-self: flex-start;width: 50%;}#sk-container-id-1 div.sk-parallel-item:only-child::after {width: 0;}#sk-container-id-1 div.sk-dashed-wrapped {border: 1px dashed gray;margin: 0 0.4em 0.5em 0.4em;box-sizing: border-box;padding-bottom: 0.4em;background-color: white;}#sk-container-id-1 div.sk-label label {font-family: monospace;font-weight: bold;display: inline-block;line-height: 1.2em;}#sk-container-id-1 div.sk-label-container {text-align: center;}#sk-container-id-1 div.sk-container {/* jupyter's `normalize.less` sets `[hidden] { display: none; }` but bootstrap.min.css set `[hidden] { display: none !important; }` so we also need the `!important` here to be able to override the default hidden behavior on the sphinx rendered scikit-learn.org. See: https://github.com/scikit-learn/scikit-learn/issues/21755 */display: inline-block !important;position: relative;}#sk-container-id-1 div.sk-text-repr-fallback {display: none;}</style><div id=\"sk-container-id-1\" class=\"sk-top-container\"><div class=\"sk-text-repr-fallback\"><pre>GridSearchCV(cv=5, estimator=KNeighborsClassifier(),\n",
       "             param_grid=[{&#x27;n_neighbors&#x27;: [1, 2, 3, 4, 5, 6, 7, 8, 9, 10],\n",
       "                          &#x27;weights&#x27;: [&#x27;uniform&#x27;, &#x27;distance&#x27;]}],\n",
       "             return_train_score=True, scoring=&#x27;accuracy&#x27;, verbose=4)</pre><b>In a Jupyter environment, please rerun this cell to show the HTML representation or trust the notebook. <br />On GitHub, the HTML representation is unable to render, please try loading this page with nbviewer.org.</b></div><div class=\"sk-container\" hidden><div class=\"sk-item sk-dashed-wrapped\"><div class=\"sk-label-container\"><div class=\"sk-label sk-toggleable\"><input class=\"sk-toggleable__control sk-hidden--visually\" id=\"sk-estimator-id-1\" type=\"checkbox\" ><label for=\"sk-estimator-id-1\" class=\"sk-toggleable__label sk-toggleable__label-arrow\">GridSearchCV</label><div class=\"sk-toggleable__content\"><pre>GridSearchCV(cv=5, estimator=KNeighborsClassifier(),\n",
       "             param_grid=[{&#x27;n_neighbors&#x27;: [1, 2, 3, 4, 5, 6, 7, 8, 9, 10],\n",
       "                          &#x27;weights&#x27;: [&#x27;uniform&#x27;, &#x27;distance&#x27;]}],\n",
       "             return_train_score=True, scoring=&#x27;accuracy&#x27;, verbose=4)</pre></div></div></div><div class=\"sk-parallel\"><div class=\"sk-parallel-item\"><div class=\"sk-item\"><div class=\"sk-label-container\"><div class=\"sk-label sk-toggleable\"><input class=\"sk-toggleable__control sk-hidden--visually\" id=\"sk-estimator-id-2\" type=\"checkbox\" ><label for=\"sk-estimator-id-2\" class=\"sk-toggleable__label sk-toggleable__label-arrow\">estimator: KNeighborsClassifier</label><div class=\"sk-toggleable__content\"><pre>KNeighborsClassifier()</pre></div></div></div><div class=\"sk-serial\"><div class=\"sk-item\"><div class=\"sk-estimator sk-toggleable\"><input class=\"sk-toggleable__control sk-hidden--visually\" id=\"sk-estimator-id-3\" type=\"checkbox\" ><label for=\"sk-estimator-id-3\" class=\"sk-toggleable__label sk-toggleable__label-arrow\">KNeighborsClassifier</label><div class=\"sk-toggleable__content\"><pre>KNeighborsClassifier()</pre></div></div></div></div></div></div></div></div></div></div>"
      ],
      "text/plain": [
       "GridSearchCV(cv=5, estimator=KNeighborsClassifier(),\n",
       "             param_grid=[{'n_neighbors': [1, 2, 3, 4, 5, 6, 7, 8, 9, 10],\n",
       "                          'weights': ['uniform', 'distance']}],\n",
       "             return_train_score=True, scoring='accuracy', verbose=4)"
      ]
     },
     "execution_count": 17,
     "metadata": {},
     "output_type": "execute_result"
    }
   ],
   "source": [
    "from sklearn.neighbors import KNeighborsClassifier\n",
    "from sklearn.model_selection import GridSearchCV\n",
    "\n",
    "param_grid = [{\"n_neighbors\":list(np.linspace(1, 10, 10, dtype = 'int')), \"weights\":[\"uniform\",\"distance\"]}]\n",
    "\n",
    "knn_clf = KNeighborsClassifier()\n",
    "grid_search = GridSearchCV(knn_clf, param_grid, cv = 5, scoring='accuracy', return_train_score=True, verbose=4)\n",
    "\n",
    "grid_search.fit(X_train, y_train)"
   ]
  },
  {
   "cell_type": "code",
   "execution_count": 53,
   "metadata": {},
   "outputs": [
    {
     "data": {
      "text/plain": [
       "{'n_neighbors': 4, 'weights': 'distance'}"
      ]
     },
     "execution_count": 53,
     "metadata": {},
     "output_type": "execute_result"
    }
   ],
   "source": [
    "grid_search.best_params_"
   ]
  },
  {
   "cell_type": "code",
   "execution_count": 59,
   "metadata": {},
   "outputs": [
    {
     "name": "stdout",
     "output_type": "stream",
     "text": [
      "Accuracy of the model: 0.9714\n"
     ]
    }
   ],
   "source": [
    "from sklearn.metrics import accuracy_score\n",
    "\n",
    "y_test_pred = grid_search.best_estimator_.predict(X_test)\n",
    "print(f\"Accuracy of the model: {accuracy_score(y_test, y_test_pred)}\")"
   ]
  },
  {
   "cell_type": "code",
   "execution_count": 60,
   "metadata": {},
   "outputs": [
    {
     "name": "stdout",
     "output_type": "stream",
     "text": [
      "Precision of the model: 0.9715166824529755\n",
      "Recall of the model: 0.9714\n"
     ]
    }
   ],
   "source": [
    "from sklearn.metrics import precision_score, recall_score\n",
    "\n",
    "print(f\"Precision of the model: {precision_score(y_test, y_test_pred, average = 'weighted')}\")\n",
    "print(f\"Recall of the model: {recall_score(y_test, y_test_pred, average = 'weighted')}\")"
   ]
  },
  {
   "cell_type": "markdown",
   "metadata": {},
   "source": [
    "We've achieved the desired accuracy!"
   ]
  },
  {
   "cell_type": "markdown",
   "metadata": {},
   "source": [
    "2. Write a function that can shift an MNIST image in any direction (left, right, up, or down) by one pixel. Then, for each image in the training set, create four shifted copies (one per direction) and add them to the training set. Finally, train your best model on this expanded training set and measure its accuracy on the test set. You should observe that your model performs even better now! This technique of artificially growing the training set is called data augmentation or training set expansion."
   ]
  },
  {
   "cell_type": "code",
   "execution_count": 45,
   "metadata": {},
   "outputs": [],
   "source": [
    "class DataAugmentation():\n",
    "    def __init__(self, num_pixels_to_shift = 1): # no *args or *kwargs\n",
    "        self.num_pixels_to_shift = num_pixels_to_shift\n",
    "    \n",
    "    def shift(self, X, dir):\n",
    "        X_img = X.reshape((-1, 28, 28))\n",
    "        X_shift = np.zeros(shape = X_img.shape)\n",
    "        num_pixels = self.num_pixels_to_shift\n",
    "        if dir == 'up':\n",
    "            X_shift[:,:-num_pixels,:] = X_img[:,num_pixels:,:]\n",
    "        if dir == 'down':\n",
    "            X_shift[:, num_pixels:, :] = X_img[:, :-num_pixels,:]\n",
    "        if dir == 'left':\n",
    "            X_shift[:,:,:-num_pixels] = X_img[:,:,num_pixels:]\n",
    "        if dir == 'right':\n",
    "            X_shift[:,:,num_pixels:] = X_img[:,:,:-num_pixels]\n",
    "        return X_shift.reshape((-1, 784))\n",
    "\n",
    "    def transform(self, X, y):\n",
    "        X_left = self.shift(X,'left')\n",
    "        X_right = self.shift(X,'right')\n",
    "        X_up = self.shift(X,'up')\n",
    "        X_down = self.shift(X,'down')\n",
    "        \n",
    "        X_aug = np.concatenate((X,X_left,X_right,X_up, X_down), axis = 0)\n",
    "        y_aug = np.r_[y,y,y,y,y]\n",
    "        return X_aug, y_aug"
   ]
  },
  {
   "cell_type": "code",
   "execution_count": 50,
   "metadata": {},
   "outputs": [],
   "source": [
    "augment_data = DataAugmentation(2)\n",
    "X_aug_train, y_aug_train = augment_data.transform(X_train, y_train)"
   ]
  },
  {
   "cell_type": "markdown",
   "metadata": {},
   "source": [
    "Shuffle the data since now there's a pattern in the data which we would want to avoid."
   ]
  },
  {
   "cell_type": "code",
   "execution_count": 52,
   "metadata": {},
   "outputs": [],
   "source": [
    "idx = np.random.permutation(len(X_aug_train))\n",
    "X_aug_train, y_aug_train = X_aug_train[idx], y_aug_train[idx]"
   ]
  },
  {
   "cell_type": "code",
   "execution_count": 54,
   "metadata": {},
   "outputs": [
    {
     "data": {
      "text/html": [
       "<style>#sk-container-id-2 {color: black;background-color: white;}#sk-container-id-2 pre{padding: 0;}#sk-container-id-2 div.sk-toggleable {background-color: white;}#sk-container-id-2 label.sk-toggleable__label {cursor: pointer;display: block;width: 100%;margin-bottom: 0;padding: 0.3em;box-sizing: border-box;text-align: center;}#sk-container-id-2 label.sk-toggleable__label-arrow:before {content: \"▸\";float: left;margin-right: 0.25em;color: #696969;}#sk-container-id-2 label.sk-toggleable__label-arrow:hover:before {color: black;}#sk-container-id-2 div.sk-estimator:hover label.sk-toggleable__label-arrow:before {color: black;}#sk-container-id-2 div.sk-toggleable__content {max-height: 0;max-width: 0;overflow: hidden;text-align: left;background-color: #f0f8ff;}#sk-container-id-2 div.sk-toggleable__content pre {margin: 0.2em;color: black;border-radius: 0.25em;background-color: #f0f8ff;}#sk-container-id-2 input.sk-toggleable__control:checked~div.sk-toggleable__content {max-height: 200px;max-width: 100%;overflow: auto;}#sk-container-id-2 input.sk-toggleable__control:checked~label.sk-toggleable__label-arrow:before {content: \"▾\";}#sk-container-id-2 div.sk-estimator input.sk-toggleable__control:checked~label.sk-toggleable__label {background-color: #d4ebff;}#sk-container-id-2 div.sk-label input.sk-toggleable__control:checked~label.sk-toggleable__label {background-color: #d4ebff;}#sk-container-id-2 input.sk-hidden--visually {border: 0;clip: rect(1px 1px 1px 1px);clip: rect(1px, 1px, 1px, 1px);height: 1px;margin: -1px;overflow: hidden;padding: 0;position: absolute;width: 1px;}#sk-container-id-2 div.sk-estimator {font-family: monospace;background-color: #f0f8ff;border: 1px dotted black;border-radius: 0.25em;box-sizing: border-box;margin-bottom: 0.5em;}#sk-container-id-2 div.sk-estimator:hover {background-color: #d4ebff;}#sk-container-id-2 div.sk-parallel-item::after {content: \"\";width: 100%;border-bottom: 1px solid gray;flex-grow: 1;}#sk-container-id-2 div.sk-label:hover label.sk-toggleable__label {background-color: #d4ebff;}#sk-container-id-2 div.sk-serial::before {content: \"\";position: absolute;border-left: 1px solid gray;box-sizing: border-box;top: 0;bottom: 0;left: 50%;z-index: 0;}#sk-container-id-2 div.sk-serial {display: flex;flex-direction: column;align-items: center;background-color: white;padding-right: 0.2em;padding-left: 0.2em;position: relative;}#sk-container-id-2 div.sk-item {position: relative;z-index: 1;}#sk-container-id-2 div.sk-parallel {display: flex;align-items: stretch;justify-content: center;background-color: white;position: relative;}#sk-container-id-2 div.sk-item::before, #sk-container-id-2 div.sk-parallel-item::before {content: \"\";position: absolute;border-left: 1px solid gray;box-sizing: border-box;top: 0;bottom: 0;left: 50%;z-index: -1;}#sk-container-id-2 div.sk-parallel-item {display: flex;flex-direction: column;z-index: 1;position: relative;background-color: white;}#sk-container-id-2 div.sk-parallel-item:first-child::after {align-self: flex-end;width: 50%;}#sk-container-id-2 div.sk-parallel-item:last-child::after {align-self: flex-start;width: 50%;}#sk-container-id-2 div.sk-parallel-item:only-child::after {width: 0;}#sk-container-id-2 div.sk-dashed-wrapped {border: 1px dashed gray;margin: 0 0.4em 0.5em 0.4em;box-sizing: border-box;padding-bottom: 0.4em;background-color: white;}#sk-container-id-2 div.sk-label label {font-family: monospace;font-weight: bold;display: inline-block;line-height: 1.2em;}#sk-container-id-2 div.sk-label-container {text-align: center;}#sk-container-id-2 div.sk-container {/* jupyter's `normalize.less` sets `[hidden] { display: none; }` but bootstrap.min.css set `[hidden] { display: none !important; }` so we also need the `!important` here to be able to override the default hidden behavior on the sphinx rendered scikit-learn.org. See: https://github.com/scikit-learn/scikit-learn/issues/21755 */display: inline-block !important;position: relative;}#sk-container-id-2 div.sk-text-repr-fallback {display: none;}</style><div id=\"sk-container-id-2\" class=\"sk-top-container\"><div class=\"sk-text-repr-fallback\"><pre>KNeighborsClassifier(n_neighbors=4, weights=&#x27;distance&#x27;)</pre><b>In a Jupyter environment, please rerun this cell to show the HTML representation or trust the notebook. <br />On GitHub, the HTML representation is unable to render, please try loading this page with nbviewer.org.</b></div><div class=\"sk-container\" hidden><div class=\"sk-item\"><div class=\"sk-estimator sk-toggleable\"><input class=\"sk-toggleable__control sk-hidden--visually\" id=\"sk-estimator-id-4\" type=\"checkbox\" checked><label for=\"sk-estimator-id-4\" class=\"sk-toggleable__label sk-toggleable__label-arrow\">KNeighborsClassifier</label><div class=\"sk-toggleable__content\"><pre>KNeighborsClassifier(n_neighbors=4, weights=&#x27;distance&#x27;)</pre></div></div></div></div></div>"
      ],
      "text/plain": [
       "KNeighborsClassifier(n_neighbors=4, weights='distance')"
      ]
     },
     "execution_count": 54,
     "metadata": {},
     "output_type": "execute_result"
    }
   ],
   "source": [
    "knn_clf = KNeighborsClassifier(n_neighbors=4, weights = 'distance')\n",
    "knn_clf.fit(X_aug_train, y_aug_train)"
   ]
  },
  {
   "cell_type": "code",
   "execution_count": 61,
   "metadata": {},
   "outputs": [
    {
     "name": "stdout",
     "output_type": "stream",
     "text": [
      "Accuracy of the model: 0.9706\n"
     ]
    }
   ],
   "source": [
    "y_test_pred = knn_clf.predict(X_test)\n",
    "print(f\"Accuracy of the model: {accuracy_score(y_test, y_test_pred)}\")"
   ]
  },
  {
   "cell_type": "code",
   "execution_count": 62,
   "metadata": {},
   "outputs": [
    {
     "name": "stdout",
     "output_type": "stream",
     "text": [
      "Precision of the augmented model: 0.9709064779080727\n",
      "Recall of the augmented model: 0.9706\n"
     ]
    }
   ],
   "source": [
    "print(f\"Precision of the augmented model: {precision_score(y_test, y_test_pred, average = 'weighted')}\")\n",
    "print(f\"Recall of the augmented model: {recall_score(y_test, y_test_pred, average = 'weighted')}\")"
   ]
  },
  {
   "cell_type": "markdown",
   "metadata": {},
   "source": [
    "3. Tackle the Titanic dataset. A great place to start is on Kaggle."
   ]
  },
  {
   "cell_type": "code",
   "execution_count": 7,
   "metadata": {},
   "outputs": [
    {
     "name": "stdout",
     "output_type": "stream",
     "text": [
      "Downloading titanic.zip to c:\\Users\\sangh\\Desktop\\Data Science\\Hands-On Machine Learning with Scikit-Learn Keras and Tensorflow\n",
      "\n"
     ]
    },
    {
     "name": "stderr",
     "output_type": "stream",
     "text": [
      "\n",
      "  0%|          | 0.00/34.1k [00:00<?, ?B/s]\n",
      "100%|██████████| 34.1k/34.1k [00:00<00:00, 4.36MB/s]\n"
     ]
    }
   ],
   "source": [
    "import os\n",
    "os.environ['KAGGLE_USERNAME'] = 'pratiksangh'\n",
    "os.environ['KAGGLE_KEY'] = '6541dd1b65a4da0f34d6543acd72b548'\n",
    "!kaggle competitions download -c titanic"
   ]
  },
  {
   "cell_type": "markdown",
   "metadata": {},
   "source": [
    "### Extract and remove the zipped file"
   ]
  },
  {
   "cell_type": "code",
   "execution_count": 3,
   "metadata": {},
   "outputs": [],
   "source": [
    "import zipfile\n",
    "\n",
    "with zipfile.ZipFile('titanic.zip','r') as zip_ref:\n",
    "    zip_ref.extractall('./datasets/titanic')\n",
    "\n",
    "if os.path.exists('./datasets/titanic/train.csv'):\n",
    "    os.remove('titanic.zip')"
   ]
  },
  {
   "cell_type": "markdown",
   "metadata": {},
   "source": [
    "### Read Data"
   ]
  },
  {
   "cell_type": "code",
   "execution_count": 1,
   "metadata": {},
   "outputs": [],
   "source": [
    "import pandas as pd\n",
    "\n",
    "train_dataset = pd.read_csv('./datasets/titanic/train.csv')\n",
    "test_dataset = pd.read_csv('./datasets/titanic/test.csv')"
   ]
  },
  {
   "cell_type": "markdown",
   "metadata": {},
   "source": [
    "### Transform and Prepare Data"
   ]
  },
  {
   "cell_type": "code",
   "execution_count": 2,
   "metadata": {},
   "outputs": [
    {
     "data": {
      "text/plain": [
       "Survived       1.000000\n",
       "Fare           0.257307\n",
       "Parch          0.081629\n",
       "PassengerId   -0.005007\n",
       "SibSp         -0.035322\n",
       "Age           -0.077221\n",
       "Pclass        -0.338481\n",
       "Name: Survived, dtype: float64"
      ]
     },
     "execution_count": 2,
     "metadata": {},
     "output_type": "execute_result"
    }
   ],
   "source": [
    "corr_matrix = train_dataset.corr()\n",
    "corr_matrix['Survived'].sort_values(ascending = False)"
   ]
  },
  {
   "cell_type": "code",
   "execution_count": 3,
   "metadata": {},
   "outputs": [],
   "source": [
    "from sklearn.impute import SimpleImputer"
   ]
  },
  {
   "cell_type": "code",
   "execution_count": 4,
   "metadata": {},
   "outputs": [
    {
     "name": "stdout",
     "output_type": "stream",
     "text": [
      "<class 'pandas.core.frame.DataFrame'>\n",
      "RangeIndex: 891 entries, 0 to 890\n",
      "Data columns (total 12 columns):\n",
      " #   Column       Non-Null Count  Dtype  \n",
      "---  ------       --------------  -----  \n",
      " 0   PassengerId  891 non-null    int64  \n",
      " 1   Survived     891 non-null    int64  \n",
      " 2   Pclass       891 non-null    int64  \n",
      " 3   Name         891 non-null    object \n",
      " 4   Sex          891 non-null    object \n",
      " 5   Age          714 non-null    float64\n",
      " 6   SibSp        891 non-null    int64  \n",
      " 7   Parch        891 non-null    int64  \n",
      " 8   Ticket       891 non-null    object \n",
      " 9   Fare         891 non-null    float64\n",
      " 10  Cabin        204 non-null    object \n",
      " 11  Embarked     889 non-null    object \n",
      "dtypes: float64(2), int64(5), object(5)\n",
      "memory usage: 83.7+ KB\n"
     ]
    }
   ],
   "source": [
    "train_dataset.info()"
   ]
  },
  {
   "cell_type": "code",
   "execution_count": 6,
   "metadata": {},
   "outputs": [],
   "source": [
    "dataset_num = train_dataset.drop([\"PassengerId\",\"Survived\",\"Pclass\",\"Name\",\"Sex\", \"SibSp\",\"Parch\",\"Ticket\", \"Cabin\", \"Embarked\"], axis = 1)"
   ]
  },
  {
   "cell_type": "code",
   "execution_count": 7,
   "metadata": {},
   "outputs": [],
   "source": [
    "from sklearn.pipeline import Pipeline\n",
    "from sklearn.preprocessing import StandardScaler\n",
    "\n",
    "num_pipeline = Pipeline([\n",
    "    ('imputer', SimpleImputer(strategy = 'median')),\n",
    "    ('std_scaler', StandardScaler())\n",
    "])"
   ]
  },
  {
   "cell_type": "code",
   "execution_count": 8,
   "metadata": {},
   "outputs": [],
   "source": [
    "from sklearn.preprocessing import OneHotEncoder\n",
    "\n",
    "cat_pipeline = Pipeline([\n",
    "    ('imputer', SimpleImputer(strategy = 'most_frequent')),\n",
    "    ('one_hot_encoder', OneHotEncoder())\n",
    "])"
   ]
  },
  {
   "cell_type": "code",
   "execution_count": 9,
   "metadata": {},
   "outputs": [],
   "source": [
    "from sklearn.compose import ColumnTransformer\n",
    "\n",
    "num_attribs = list(dataset_num.columns)\n",
    "cat_attribs = [\"Pclass\",\"Sex\", \"SibSp\",\"Parch\", \"Embarked\"]\n",
    "\n",
    "full_pipeline = ColumnTransformer([\n",
    "    ('num', num_pipeline, num_attribs),\n",
    "    ('cat', cat_pipeline, cat_attribs)\n",
    "])\n",
    "\n",
    "dataset = pd.concat([train_dataset, test_dataset])\n",
    "dataset_prepared = full_pipeline.fit_transform(dataset)\n",
    "train_dataset_prepared = full_pipeline.transform(train_dataset)"
   ]
  },
  {
   "cell_type": "code",
   "execution_count": 10,
   "metadata": {},
   "outputs": [],
   "source": [
    "test_dataset_prepared = full_pipeline.transform(test_dataset)"
   ]
  },
  {
   "cell_type": "code",
   "execution_count": 11,
   "metadata": {},
   "outputs": [],
   "source": [
    "train_labels = train_dataset['Survived'].copy()"
   ]
  },
  {
   "cell_type": "markdown",
   "metadata": {},
   "source": [
    "### Read the Test Labels"
   ]
  },
  {
   "cell_type": "code",
   "execution_count": 13,
   "metadata": {},
   "outputs": [],
   "source": [
    "test_labels = pd.read_csv('./datasets/titanic/gender_submission.csv')"
   ]
  },
  {
   "cell_type": "markdown",
   "metadata": {},
   "source": [
    "### Trying out different Models"
   ]
  },
  {
   "cell_type": "code",
   "execution_count": 14,
   "metadata": {},
   "outputs": [],
   "source": [
    "# 1. Support Vector Classifier\n",
    "from sklearn.svm import SVC\n",
    "\n",
    "# 2. Random Forest Classifier\n",
    "from sklearn.ensemble import RandomForestClassifier\n",
    "\n",
    "# 3. K Nearest Neighbors\n",
    "from sklearn.neighbors import KNeighborsClassifier"
   ]
  },
  {
   "cell_type": "code",
   "execution_count": 15,
   "metadata": {},
   "outputs": [],
   "source": [
    "# Getting the accuracy score metric to decide which model to choose.\n",
    "from sklearn.metrics import accuracy_score"
   ]
  },
  {
   "cell_type": "code",
   "execution_count": 16,
   "metadata": {},
   "outputs": [
    {
     "data": {
      "text/html": [
       "<style>#sk-container-id-1 {color: black;background-color: white;}#sk-container-id-1 pre{padding: 0;}#sk-container-id-1 div.sk-toggleable {background-color: white;}#sk-container-id-1 label.sk-toggleable__label {cursor: pointer;display: block;width: 100%;margin-bottom: 0;padding: 0.3em;box-sizing: border-box;text-align: center;}#sk-container-id-1 label.sk-toggleable__label-arrow:before {content: \"▸\";float: left;margin-right: 0.25em;color: #696969;}#sk-container-id-1 label.sk-toggleable__label-arrow:hover:before {color: black;}#sk-container-id-1 div.sk-estimator:hover label.sk-toggleable__label-arrow:before {color: black;}#sk-container-id-1 div.sk-toggleable__content {max-height: 0;max-width: 0;overflow: hidden;text-align: left;background-color: #f0f8ff;}#sk-container-id-1 div.sk-toggleable__content pre {margin: 0.2em;color: black;border-radius: 0.25em;background-color: #f0f8ff;}#sk-container-id-1 input.sk-toggleable__control:checked~div.sk-toggleable__content {max-height: 200px;max-width: 100%;overflow: auto;}#sk-container-id-1 input.sk-toggleable__control:checked~label.sk-toggleable__label-arrow:before {content: \"▾\";}#sk-container-id-1 div.sk-estimator input.sk-toggleable__control:checked~label.sk-toggleable__label {background-color: #d4ebff;}#sk-container-id-1 div.sk-label input.sk-toggleable__control:checked~label.sk-toggleable__label {background-color: #d4ebff;}#sk-container-id-1 input.sk-hidden--visually {border: 0;clip: rect(1px 1px 1px 1px);clip: rect(1px, 1px, 1px, 1px);height: 1px;margin: -1px;overflow: hidden;padding: 0;position: absolute;width: 1px;}#sk-container-id-1 div.sk-estimator {font-family: monospace;background-color: #f0f8ff;border: 1px dotted black;border-radius: 0.25em;box-sizing: border-box;margin-bottom: 0.5em;}#sk-container-id-1 div.sk-estimator:hover {background-color: #d4ebff;}#sk-container-id-1 div.sk-parallel-item::after {content: \"\";width: 100%;border-bottom: 1px solid gray;flex-grow: 1;}#sk-container-id-1 div.sk-label:hover label.sk-toggleable__label {background-color: #d4ebff;}#sk-container-id-1 div.sk-serial::before {content: \"\";position: absolute;border-left: 1px solid gray;box-sizing: border-box;top: 0;bottom: 0;left: 50%;z-index: 0;}#sk-container-id-1 div.sk-serial {display: flex;flex-direction: column;align-items: center;background-color: white;padding-right: 0.2em;padding-left: 0.2em;position: relative;}#sk-container-id-1 div.sk-item {position: relative;z-index: 1;}#sk-container-id-1 div.sk-parallel {display: flex;align-items: stretch;justify-content: center;background-color: white;position: relative;}#sk-container-id-1 div.sk-item::before, #sk-container-id-1 div.sk-parallel-item::before {content: \"\";position: absolute;border-left: 1px solid gray;box-sizing: border-box;top: 0;bottom: 0;left: 50%;z-index: -1;}#sk-container-id-1 div.sk-parallel-item {display: flex;flex-direction: column;z-index: 1;position: relative;background-color: white;}#sk-container-id-1 div.sk-parallel-item:first-child::after {align-self: flex-end;width: 50%;}#sk-container-id-1 div.sk-parallel-item:last-child::after {align-self: flex-start;width: 50%;}#sk-container-id-1 div.sk-parallel-item:only-child::after {width: 0;}#sk-container-id-1 div.sk-dashed-wrapped {border: 1px dashed gray;margin: 0 0.4em 0.5em 0.4em;box-sizing: border-box;padding-bottom: 0.4em;background-color: white;}#sk-container-id-1 div.sk-label label {font-family: monospace;font-weight: bold;display: inline-block;line-height: 1.2em;}#sk-container-id-1 div.sk-label-container {text-align: center;}#sk-container-id-1 div.sk-container {/* jupyter's `normalize.less` sets `[hidden] { display: none; }` but bootstrap.min.css set `[hidden] { display: none !important; }` so we also need the `!important` here to be able to override the default hidden behavior on the sphinx rendered scikit-learn.org. See: https://github.com/scikit-learn/scikit-learn/issues/21755 */display: inline-block !important;position: relative;}#sk-container-id-1 div.sk-text-repr-fallback {display: none;}</style><div id=\"sk-container-id-1\" class=\"sk-top-container\"><div class=\"sk-text-repr-fallback\"><pre>SVC()</pre><b>In a Jupyter environment, please rerun this cell to show the HTML representation or trust the notebook. <br />On GitHub, the HTML representation is unable to render, please try loading this page with nbviewer.org.</b></div><div class=\"sk-container\" hidden><div class=\"sk-item\"><div class=\"sk-estimator sk-toggleable\"><input class=\"sk-toggleable__control sk-hidden--visually\" id=\"sk-estimator-id-1\" type=\"checkbox\" checked><label for=\"sk-estimator-id-1\" class=\"sk-toggleable__label sk-toggleable__label-arrow\">SVC</label><div class=\"sk-toggleable__content\"><pre>SVC()</pre></div></div></div></div></div>"
      ],
      "text/plain": [
       "SVC()"
      ]
     },
     "execution_count": 16,
     "metadata": {},
     "output_type": "execute_result"
    }
   ],
   "source": [
    "svc_clf = SVC()\n",
    "svc_clf.fit(train_dataset_prepared, train_labels)"
   ]
  },
  {
   "cell_type": "code",
   "execution_count": 22,
   "metadata": {},
   "outputs": [
    {
     "name": "stdout",
     "output_type": "stream",
     "text": [
      "Accuracy over test set: 0.9354066985645934\n"
     ]
    }
   ],
   "source": [
    "test_labels_pred = svc_clf.predict(test_dataset_prepared)\n",
    "print(f'Accuracy over test set: {accuracy_score(test_labels[\"Survived\"], test_labels_pred)}')"
   ]
  },
  {
   "cell_type": "code",
   "execution_count": 23,
   "metadata": {},
   "outputs": [
    {
     "data": {
      "text/html": [
       "<style>#sk-container-id-2 {color: black;background-color: white;}#sk-container-id-2 pre{padding: 0;}#sk-container-id-2 div.sk-toggleable {background-color: white;}#sk-container-id-2 label.sk-toggleable__label {cursor: pointer;display: block;width: 100%;margin-bottom: 0;padding: 0.3em;box-sizing: border-box;text-align: center;}#sk-container-id-2 label.sk-toggleable__label-arrow:before {content: \"▸\";float: left;margin-right: 0.25em;color: #696969;}#sk-container-id-2 label.sk-toggleable__label-arrow:hover:before {color: black;}#sk-container-id-2 div.sk-estimator:hover label.sk-toggleable__label-arrow:before {color: black;}#sk-container-id-2 div.sk-toggleable__content {max-height: 0;max-width: 0;overflow: hidden;text-align: left;background-color: #f0f8ff;}#sk-container-id-2 div.sk-toggleable__content pre {margin: 0.2em;color: black;border-radius: 0.25em;background-color: #f0f8ff;}#sk-container-id-2 input.sk-toggleable__control:checked~div.sk-toggleable__content {max-height: 200px;max-width: 100%;overflow: auto;}#sk-container-id-2 input.sk-toggleable__control:checked~label.sk-toggleable__label-arrow:before {content: \"▾\";}#sk-container-id-2 div.sk-estimator input.sk-toggleable__control:checked~label.sk-toggleable__label {background-color: #d4ebff;}#sk-container-id-2 div.sk-label input.sk-toggleable__control:checked~label.sk-toggleable__label {background-color: #d4ebff;}#sk-container-id-2 input.sk-hidden--visually {border: 0;clip: rect(1px 1px 1px 1px);clip: rect(1px, 1px, 1px, 1px);height: 1px;margin: -1px;overflow: hidden;padding: 0;position: absolute;width: 1px;}#sk-container-id-2 div.sk-estimator {font-family: monospace;background-color: #f0f8ff;border: 1px dotted black;border-radius: 0.25em;box-sizing: border-box;margin-bottom: 0.5em;}#sk-container-id-2 div.sk-estimator:hover {background-color: #d4ebff;}#sk-container-id-2 div.sk-parallel-item::after {content: \"\";width: 100%;border-bottom: 1px solid gray;flex-grow: 1;}#sk-container-id-2 div.sk-label:hover label.sk-toggleable__label {background-color: #d4ebff;}#sk-container-id-2 div.sk-serial::before {content: \"\";position: absolute;border-left: 1px solid gray;box-sizing: border-box;top: 0;bottom: 0;left: 50%;z-index: 0;}#sk-container-id-2 div.sk-serial {display: flex;flex-direction: column;align-items: center;background-color: white;padding-right: 0.2em;padding-left: 0.2em;position: relative;}#sk-container-id-2 div.sk-item {position: relative;z-index: 1;}#sk-container-id-2 div.sk-parallel {display: flex;align-items: stretch;justify-content: center;background-color: white;position: relative;}#sk-container-id-2 div.sk-item::before, #sk-container-id-2 div.sk-parallel-item::before {content: \"\";position: absolute;border-left: 1px solid gray;box-sizing: border-box;top: 0;bottom: 0;left: 50%;z-index: -1;}#sk-container-id-2 div.sk-parallel-item {display: flex;flex-direction: column;z-index: 1;position: relative;background-color: white;}#sk-container-id-2 div.sk-parallel-item:first-child::after {align-self: flex-end;width: 50%;}#sk-container-id-2 div.sk-parallel-item:last-child::after {align-self: flex-start;width: 50%;}#sk-container-id-2 div.sk-parallel-item:only-child::after {width: 0;}#sk-container-id-2 div.sk-dashed-wrapped {border: 1px dashed gray;margin: 0 0.4em 0.5em 0.4em;box-sizing: border-box;padding-bottom: 0.4em;background-color: white;}#sk-container-id-2 div.sk-label label {font-family: monospace;font-weight: bold;display: inline-block;line-height: 1.2em;}#sk-container-id-2 div.sk-label-container {text-align: center;}#sk-container-id-2 div.sk-container {/* jupyter's `normalize.less` sets `[hidden] { display: none; }` but bootstrap.min.css set `[hidden] { display: none !important; }` so we also need the `!important` here to be able to override the default hidden behavior on the sphinx rendered scikit-learn.org. See: https://github.com/scikit-learn/scikit-learn/issues/21755 */display: inline-block !important;position: relative;}#sk-container-id-2 div.sk-text-repr-fallback {display: none;}</style><div id=\"sk-container-id-2\" class=\"sk-top-container\"><div class=\"sk-text-repr-fallback\"><pre>RandomForestClassifier()</pre><b>In a Jupyter environment, please rerun this cell to show the HTML representation or trust the notebook. <br />On GitHub, the HTML representation is unable to render, please try loading this page with nbviewer.org.</b></div><div class=\"sk-container\" hidden><div class=\"sk-item\"><div class=\"sk-estimator sk-toggleable\"><input class=\"sk-toggleable__control sk-hidden--visually\" id=\"sk-estimator-id-2\" type=\"checkbox\" checked><label for=\"sk-estimator-id-2\" class=\"sk-toggleable__label sk-toggleable__label-arrow\">RandomForestClassifier</label><div class=\"sk-toggleable__content\"><pre>RandomForestClassifier()</pre></div></div></div></div></div>"
      ],
      "text/plain": [
       "RandomForestClassifier()"
      ]
     },
     "execution_count": 23,
     "metadata": {},
     "output_type": "execute_result"
    }
   ],
   "source": [
    "forest_clf = RandomForestClassifier()\n",
    "forest_clf.fit(train_dataset_prepared, train_labels)"
   ]
  },
  {
   "cell_type": "code",
   "execution_count": 24,
   "metadata": {},
   "outputs": [
    {
     "name": "stdout",
     "output_type": "stream",
     "text": [
      "Accuracy over test set: 0.80622009569378\n"
     ]
    }
   ],
   "source": [
    "test_labels_pred = forest_clf.predict(test_dataset_prepared)\n",
    "print(f'Accuracy over test set: {accuracy_score(test_labels[\"Survived\"], test_labels_pred)}')"
   ]
  },
  {
   "cell_type": "code",
   "execution_count": 25,
   "metadata": {},
   "outputs": [
    {
     "data": {
      "text/html": [
       "<style>#sk-container-id-3 {color: black;background-color: white;}#sk-container-id-3 pre{padding: 0;}#sk-container-id-3 div.sk-toggleable {background-color: white;}#sk-container-id-3 label.sk-toggleable__label {cursor: pointer;display: block;width: 100%;margin-bottom: 0;padding: 0.3em;box-sizing: border-box;text-align: center;}#sk-container-id-3 label.sk-toggleable__label-arrow:before {content: \"▸\";float: left;margin-right: 0.25em;color: #696969;}#sk-container-id-3 label.sk-toggleable__label-arrow:hover:before {color: black;}#sk-container-id-3 div.sk-estimator:hover label.sk-toggleable__label-arrow:before {color: black;}#sk-container-id-3 div.sk-toggleable__content {max-height: 0;max-width: 0;overflow: hidden;text-align: left;background-color: #f0f8ff;}#sk-container-id-3 div.sk-toggleable__content pre {margin: 0.2em;color: black;border-radius: 0.25em;background-color: #f0f8ff;}#sk-container-id-3 input.sk-toggleable__control:checked~div.sk-toggleable__content {max-height: 200px;max-width: 100%;overflow: auto;}#sk-container-id-3 input.sk-toggleable__control:checked~label.sk-toggleable__label-arrow:before {content: \"▾\";}#sk-container-id-3 div.sk-estimator input.sk-toggleable__control:checked~label.sk-toggleable__label {background-color: #d4ebff;}#sk-container-id-3 div.sk-label input.sk-toggleable__control:checked~label.sk-toggleable__label {background-color: #d4ebff;}#sk-container-id-3 input.sk-hidden--visually {border: 0;clip: rect(1px 1px 1px 1px);clip: rect(1px, 1px, 1px, 1px);height: 1px;margin: -1px;overflow: hidden;padding: 0;position: absolute;width: 1px;}#sk-container-id-3 div.sk-estimator {font-family: monospace;background-color: #f0f8ff;border: 1px dotted black;border-radius: 0.25em;box-sizing: border-box;margin-bottom: 0.5em;}#sk-container-id-3 div.sk-estimator:hover {background-color: #d4ebff;}#sk-container-id-3 div.sk-parallel-item::after {content: \"\";width: 100%;border-bottom: 1px solid gray;flex-grow: 1;}#sk-container-id-3 div.sk-label:hover label.sk-toggleable__label {background-color: #d4ebff;}#sk-container-id-3 div.sk-serial::before {content: \"\";position: absolute;border-left: 1px solid gray;box-sizing: border-box;top: 0;bottom: 0;left: 50%;z-index: 0;}#sk-container-id-3 div.sk-serial {display: flex;flex-direction: column;align-items: center;background-color: white;padding-right: 0.2em;padding-left: 0.2em;position: relative;}#sk-container-id-3 div.sk-item {position: relative;z-index: 1;}#sk-container-id-3 div.sk-parallel {display: flex;align-items: stretch;justify-content: center;background-color: white;position: relative;}#sk-container-id-3 div.sk-item::before, #sk-container-id-3 div.sk-parallel-item::before {content: \"\";position: absolute;border-left: 1px solid gray;box-sizing: border-box;top: 0;bottom: 0;left: 50%;z-index: -1;}#sk-container-id-3 div.sk-parallel-item {display: flex;flex-direction: column;z-index: 1;position: relative;background-color: white;}#sk-container-id-3 div.sk-parallel-item:first-child::after {align-self: flex-end;width: 50%;}#sk-container-id-3 div.sk-parallel-item:last-child::after {align-self: flex-start;width: 50%;}#sk-container-id-3 div.sk-parallel-item:only-child::after {width: 0;}#sk-container-id-3 div.sk-dashed-wrapped {border: 1px dashed gray;margin: 0 0.4em 0.5em 0.4em;box-sizing: border-box;padding-bottom: 0.4em;background-color: white;}#sk-container-id-3 div.sk-label label {font-family: monospace;font-weight: bold;display: inline-block;line-height: 1.2em;}#sk-container-id-3 div.sk-label-container {text-align: center;}#sk-container-id-3 div.sk-container {/* jupyter's `normalize.less` sets `[hidden] { display: none; }` but bootstrap.min.css set `[hidden] { display: none !important; }` so we also need the `!important` here to be able to override the default hidden behavior on the sphinx rendered scikit-learn.org. See: https://github.com/scikit-learn/scikit-learn/issues/21755 */display: inline-block !important;position: relative;}#sk-container-id-3 div.sk-text-repr-fallback {display: none;}</style><div id=\"sk-container-id-3\" class=\"sk-top-container\"><div class=\"sk-text-repr-fallback\"><pre>KNeighborsClassifier()</pre><b>In a Jupyter environment, please rerun this cell to show the HTML representation or trust the notebook. <br />On GitHub, the HTML representation is unable to render, please try loading this page with nbviewer.org.</b></div><div class=\"sk-container\" hidden><div class=\"sk-item\"><div class=\"sk-estimator sk-toggleable\"><input class=\"sk-toggleable__control sk-hidden--visually\" id=\"sk-estimator-id-3\" type=\"checkbox\" checked><label for=\"sk-estimator-id-3\" class=\"sk-toggleable__label sk-toggleable__label-arrow\">KNeighborsClassifier</label><div class=\"sk-toggleable__content\"><pre>KNeighborsClassifier()</pre></div></div></div></div></div>"
      ],
      "text/plain": [
       "KNeighborsClassifier()"
      ]
     },
     "execution_count": 25,
     "metadata": {},
     "output_type": "execute_result"
    }
   ],
   "source": [
    "knn_clf = KNeighborsClassifier()\n",
    "knn_clf.fit(train_dataset_prepared, train_labels)"
   ]
  },
  {
   "cell_type": "code",
   "execution_count": 26,
   "metadata": {},
   "outputs": [
    {
     "name": "stdout",
     "output_type": "stream",
     "text": [
      "Accuracy over test set: 0.8564593301435407\n"
     ]
    }
   ],
   "source": [
    "test_labels_pred = knn_clf.predict(test_dataset_prepared)\n",
    "print(f'Accuracy over test set: {accuracy_score(test_labels[\"Survived\"], test_labels_pred)}')"
   ]
  },
  {
   "cell_type": "markdown",
   "metadata": {},
   "source": [
    "So it appears that SVC performs the best for the given dataset! Lets tune the hyperparameters to see if it improves the performance."
   ]
  },
  {
   "cell_type": "code",
   "execution_count": 29,
   "metadata": {},
   "outputs": [
    {
     "name": "stdout",
     "output_type": "stream",
     "text": [
      "Fitting 5 folds for each of 70 candidates, totalling 350 fits\n",
      "[CV 1/5] END C=0.01, decision_function_shape=ovo, kernel=linear;, score=(train=0.782, test=0.793) total time=   0.0s\n",
      "[CV 2/5] END C=0.01, decision_function_shape=ovo, kernel=linear;, score=(train=0.785, test=0.803) total time=   0.0s\n",
      "[CV 3/5] END C=0.01, decision_function_shape=ovo, kernel=linear;, score=(train=0.790, test=0.787) total time=   0.0s\n",
      "[CV 4/5] END C=0.01, decision_function_shape=ovo, kernel=linear;, score=(train=0.795, test=0.753) total time=   0.0s\n",
      "[CV 5/5] END C=0.01, decision_function_shape=ovo, kernel=linear;, score=(train=0.787, test=0.787) total time=   0.0s\n",
      "[CV 1/5] END C=0.01, decision_function_shape=ovr, kernel=linear;, score=(train=0.782, test=0.793) total time=   0.0s\n",
      "[CV 2/5] END C=0.01, decision_function_shape=ovr, kernel=linear;, score=(train=0.785, test=0.803) total time=   0.0s\n",
      "[CV 3/5] END C=0.01, decision_function_shape=ovr, kernel=linear;, score=(train=0.790, test=0.787) total time=   0.0s\n",
      "[CV 4/5] END C=0.01, decision_function_shape=ovr, kernel=linear;, score=(train=0.795, test=0.753) total time=   0.0s\n",
      "[CV 5/5] END C=0.01, decision_function_shape=ovr, kernel=linear;, score=(train=0.787, test=0.787) total time=   0.0s\n",
      "[CV 1/5] END C=0.1, decision_function_shape=ovo, kernel=linear;, score=(train=0.782, test=0.804) total time=   0.0s\n",
      "[CV 2/5] END C=0.1, decision_function_shape=ovo, kernel=linear;, score=(train=0.783, test=0.803) total time=   0.0s\n",
      "[CV 3/5] END C=0.1, decision_function_shape=ovo, kernel=linear;, score=(train=0.787, test=0.787) total time=   0.0s\n",
      "[CV 4/5] END C=0.1, decision_function_shape=ovo, kernel=linear;, score=(train=0.795, test=0.753) total time=   0.0s\n",
      "[CV 5/5] END C=0.1, decision_function_shape=ovo, kernel=linear;, score=(train=0.787, test=0.787) total time=   0.0s\n",
      "[CV 1/5] END C=0.1, decision_function_shape=ovr, kernel=linear;, score=(train=0.782, test=0.804) total time=   0.0s\n",
      "[CV 2/5] END C=0.1, decision_function_shape=ovr, kernel=linear;, score=(train=0.783, test=0.803) total time=   0.0s\n",
      "[CV 3/5] END C=0.1, decision_function_shape=ovr, kernel=linear;, score=(train=0.787, test=0.787) total time=   0.0s\n",
      "[CV 4/5] END C=0.1, decision_function_shape=ovr, kernel=linear;, score=(train=0.795, test=0.753) total time=   0.0s\n",
      "[CV 5/5] END C=0.1, decision_function_shape=ovr, kernel=linear;, score=(train=0.787, test=0.787) total time=   0.0s\n",
      "[CV 1/5] END C=1, decision_function_shape=ovo, kernel=linear;, score=(train=0.802, test=0.799) total time=   0.0s\n",
      "[CV 2/5] END C=1, decision_function_shape=ovo, kernel=linear;, score=(train=0.802, test=0.803) total time=   0.0s\n",
      "[CV 3/5] END C=1, decision_function_shape=ovo, kernel=linear;, score=(train=0.805, test=0.803) total time=   0.0s\n",
      "[CV 4/5] END C=1, decision_function_shape=ovo, kernel=linear;, score=(train=0.804, test=0.770) total time=   0.0s\n",
      "[CV 5/5] END C=1, decision_function_shape=ovo, kernel=linear;, score=(train=0.802, test=0.803) total time=   0.0s\n",
      "[CV 1/5] END C=1, decision_function_shape=ovr, kernel=linear;, score=(train=0.802, test=0.799) total time=   0.0s\n",
      "[CV 2/5] END C=1, decision_function_shape=ovr, kernel=linear;, score=(train=0.802, test=0.803) total time=   0.0s\n",
      "[CV 3/5] END C=1, decision_function_shape=ovr, kernel=linear;, score=(train=0.805, test=0.803) total time=   0.0s\n",
      "[CV 4/5] END C=1, decision_function_shape=ovr, kernel=linear;, score=(train=0.804, test=0.770) total time=   0.0s\n",
      "[CV 5/5] END C=1, decision_function_shape=ovr, kernel=linear;, score=(train=0.802, test=0.803) total time=   0.0s\n",
      "[CV 1/5] END C=10.0, decision_function_shape=ovo, kernel=linear;, score=(train=0.802, test=0.804) total time=   0.0s\n",
      "[CV 2/5] END C=10.0, decision_function_shape=ovo, kernel=linear;, score=(train=0.802, test=0.803) total time=   0.0s\n",
      "[CV 3/5] END C=10.0, decision_function_shape=ovo, kernel=linear;, score=(train=0.805, test=0.803) total time=   0.0s\n",
      "[CV 4/5] END C=10.0, decision_function_shape=ovo, kernel=linear;, score=(train=0.804, test=0.770) total time=   0.0s\n",
      "[CV 5/5] END C=10.0, decision_function_shape=ovo, kernel=linear;, score=(train=0.801, test=0.803) total time=   0.0s\n",
      "[CV 1/5] END C=10.0, decision_function_shape=ovr, kernel=linear;, score=(train=0.802, test=0.804) total time=   0.0s\n",
      "[CV 2/5] END C=10.0, decision_function_shape=ovr, kernel=linear;, score=(train=0.802, test=0.803) total time=   0.0s\n",
      "[CV 3/5] END C=10.0, decision_function_shape=ovr, kernel=linear;, score=(train=0.805, test=0.803) total time=   0.0s\n",
      "[CV 4/5] END C=10.0, decision_function_shape=ovr, kernel=linear;, score=(train=0.804, test=0.770) total time=   0.0s\n",
      "[CV 5/5] END C=10.0, decision_function_shape=ovr, kernel=linear;, score=(train=0.801, test=0.803) total time=   0.0s\n",
      "[CV 1/5] END C=100.0, decision_function_shape=ovo, kernel=linear;, score=(train=0.802, test=0.799) total time=   0.3s\n",
      "[CV 2/5] END C=100.0, decision_function_shape=ovo, kernel=linear;, score=(train=0.802, test=0.803) total time=   0.1s\n",
      "[CV 3/5] END C=100.0, decision_function_shape=ovo, kernel=linear;, score=(train=0.808, test=0.803) total time=   0.6s\n",
      "[CV 4/5] END C=100.0, decision_function_shape=ovo, kernel=linear;, score=(train=0.804, test=0.770) total time=   0.1s\n",
      "[CV 5/5] END C=100.0, decision_function_shape=ovo, kernel=linear;, score=(train=0.802, test=0.803) total time=   0.0s\n",
      "[CV 1/5] END C=100.0, decision_function_shape=ovr, kernel=linear;, score=(train=0.802, test=0.799) total time=   0.3s\n",
      "[CV 2/5] END C=100.0, decision_function_shape=ovr, kernel=linear;, score=(train=0.802, test=0.803) total time=   0.1s\n",
      "[CV 3/5] END C=100.0, decision_function_shape=ovr, kernel=linear;, score=(train=0.808, test=0.803) total time=   0.6s\n",
      "[CV 4/5] END C=100.0, decision_function_shape=ovr, kernel=linear;, score=(train=0.804, test=0.770) total time=   0.1s\n",
      "[CV 5/5] END C=100.0, decision_function_shape=ovr, kernel=linear;, score=(train=0.802, test=0.803) total time=   0.0s\n",
      "[CV 1/5] END C=0.01, decision_function_shape=ovo, gamma=scale, kernel=poly;, score=(train=0.638, test=0.615) total time=   0.0s\n",
      "[CV 2/5] END C=0.01, decision_function_shape=ovo, gamma=scale, kernel=poly;, score=(train=0.635, test=0.640) total time=   0.0s\n",
      "[CV 3/5] END C=0.01, decision_function_shape=ovo, gamma=scale, kernel=poly;, score=(train=0.637, test=0.612) total time=   0.0s\n",
      "[CV 4/5] END C=0.01, decision_function_shape=ovo, gamma=scale, kernel=poly;, score=(train=0.635, test=0.640) total time=   0.0s\n",
      "[CV 5/5] END C=0.01, decision_function_shape=ovo, gamma=scale, kernel=poly;, score=(train=0.633, test=0.640) total time=   0.0s\n",
      "[CV 1/5] END C=0.01, decision_function_shape=ovo, gamma=scale, kernel=rbf;, score=(train=0.617, test=0.615) total time=   0.0s\n",
      "[CV 2/5] END C=0.01, decision_function_shape=ovo, gamma=scale, kernel=rbf;, score=(train=0.616, test=0.618) total time=   0.0s\n",
      "[CV 3/5] END C=0.01, decision_function_shape=ovo, gamma=scale, kernel=rbf;, score=(train=0.616, test=0.618) total time=   0.0s\n",
      "[CV 4/5] END C=0.01, decision_function_shape=ovo, gamma=scale, kernel=rbf;, score=(train=0.616, test=0.618) total time=   0.0s\n",
      "[CV 5/5] END C=0.01, decision_function_shape=ovo, gamma=scale, kernel=rbf;, score=(train=0.617, test=0.612) total time=   0.0s\n",
      "[CV 1/5] END C=0.01, decision_function_shape=ovo, gamma=scale, kernel=sigmoid;, score=(train=0.621, test=0.615) total time=   0.0s\n",
      "[CV 2/5] END C=0.01, decision_function_shape=ovo, gamma=scale, kernel=sigmoid;, score=(train=0.616, test=0.618) total time=   0.0s\n",
      "[CV 3/5] END C=0.01, decision_function_shape=ovo, gamma=scale, kernel=sigmoid;, score=(train=0.616, test=0.618) total time=   0.0s\n",
      "[CV 4/5] END C=0.01, decision_function_shape=ovo, gamma=scale, kernel=sigmoid;, score=(train=0.616, test=0.618) total time=   0.0s\n",
      "[CV 5/5] END C=0.01, decision_function_shape=ovo, gamma=scale, kernel=sigmoid;, score=(train=0.617, test=0.612) total time=   0.0s\n",
      "[CV 1/5] END C=0.01, decision_function_shape=ovo, gamma=auto, kernel=poly;, score=(train=0.621, test=0.615) total time=   0.0s\n",
      "[CV 2/5] END C=0.01, decision_function_shape=ovo, gamma=auto, kernel=poly;, score=(train=0.619, test=0.624) total time=   0.0s\n",
      "[CV 3/5] END C=0.01, decision_function_shape=ovo, gamma=auto, kernel=poly;, score=(train=0.620, test=0.618) total time=   0.0s\n",
      "[CV 4/5] END C=0.01, decision_function_shape=ovo, gamma=auto, kernel=poly;, score=(train=0.619, test=0.624) total time=   0.0s\n",
      "[CV 5/5] END C=0.01, decision_function_shape=ovo, gamma=auto, kernel=poly;, score=(train=0.620, test=0.618) total time=   0.0s\n",
      "[CV 1/5] END C=0.01, decision_function_shape=ovo, gamma=auto, kernel=rbf;, score=(train=0.617, test=0.615) total time=   0.0s\n",
      "[CV 2/5] END C=0.01, decision_function_shape=ovo, gamma=auto, kernel=rbf;, score=(train=0.616, test=0.618) total time=   0.0s\n",
      "[CV 3/5] END C=0.01, decision_function_shape=ovo, gamma=auto, kernel=rbf;, score=(train=0.616, test=0.618) total time=   0.0s\n",
      "[CV 4/5] END C=0.01, decision_function_shape=ovo, gamma=auto, kernel=rbf;, score=(train=0.616, test=0.618) total time=   0.0s\n",
      "[CV 5/5] END C=0.01, decision_function_shape=ovo, gamma=auto, kernel=rbf;, score=(train=0.617, test=0.612) total time=   0.0s\n",
      "[CV 1/5] END C=0.01, decision_function_shape=ovo, gamma=auto, kernel=sigmoid;, score=(train=0.617, test=0.615) total time=   0.0s\n",
      "[CV 2/5] END C=0.01, decision_function_shape=ovo, gamma=auto, kernel=sigmoid;, score=(train=0.616, test=0.618) total time=   0.0s\n",
      "[CV 3/5] END C=0.01, decision_function_shape=ovo, gamma=auto, kernel=sigmoid;, score=(train=0.616, test=0.618) total time=   0.0s\n",
      "[CV 4/5] END C=0.01, decision_function_shape=ovo, gamma=auto, kernel=sigmoid;, score=(train=0.616, test=0.618) total time=   0.0s\n",
      "[CV 5/5] END C=0.01, decision_function_shape=ovo, gamma=auto, kernel=sigmoid;, score=(train=0.617, test=0.612) total time=   0.0s\n",
      "[CV 1/5] END C=0.01, decision_function_shape=ovr, gamma=scale, kernel=poly;, score=(train=0.638, test=0.615) total time=   0.0s\n",
      "[CV 2/5] END C=0.01, decision_function_shape=ovr, gamma=scale, kernel=poly;, score=(train=0.635, test=0.640) total time=   0.0s\n",
      "[CV 3/5] END C=0.01, decision_function_shape=ovr, gamma=scale, kernel=poly;, score=(train=0.637, test=0.612) total time=   0.0s\n",
      "[CV 4/5] END C=0.01, decision_function_shape=ovr, gamma=scale, kernel=poly;, score=(train=0.635, test=0.640) total time=   0.0s\n",
      "[CV 5/5] END C=0.01, decision_function_shape=ovr, gamma=scale, kernel=poly;, score=(train=0.633, test=0.640) total time=   0.0s\n",
      "[CV 1/5] END C=0.01, decision_function_shape=ovr, gamma=scale, kernel=rbf;, score=(train=0.617, test=0.615) total time=   0.0s\n",
      "[CV 2/5] END C=0.01, decision_function_shape=ovr, gamma=scale, kernel=rbf;, score=(train=0.616, test=0.618) total time=   0.0s\n",
      "[CV 3/5] END C=0.01, decision_function_shape=ovr, gamma=scale, kernel=rbf;, score=(train=0.616, test=0.618) total time=   0.0s\n",
      "[CV 4/5] END C=0.01, decision_function_shape=ovr, gamma=scale, kernel=rbf;, score=(train=0.616, test=0.618) total time=   0.0s\n",
      "[CV 5/5] END C=0.01, decision_function_shape=ovr, gamma=scale, kernel=rbf;, score=(train=0.617, test=0.612) total time=   0.0s\n",
      "[CV 1/5] END C=0.01, decision_function_shape=ovr, gamma=scale, kernel=sigmoid;, score=(train=0.621, test=0.615) total time=   0.0s\n",
      "[CV 2/5] END C=0.01, decision_function_shape=ovr, gamma=scale, kernel=sigmoid;, score=(train=0.616, test=0.618) total time=   0.0s\n",
      "[CV 3/5] END C=0.01, decision_function_shape=ovr, gamma=scale, kernel=sigmoid;, score=(train=0.616, test=0.618) total time=   0.0s\n",
      "[CV 4/5] END C=0.01, decision_function_shape=ovr, gamma=scale, kernel=sigmoid;, score=(train=0.616, test=0.618) total time=   0.0s\n",
      "[CV 5/5] END C=0.01, decision_function_shape=ovr, gamma=scale, kernel=sigmoid;, score=(train=0.617, test=0.612) total time=   0.0s\n",
      "[CV 1/5] END C=0.01, decision_function_shape=ovr, gamma=auto, kernel=poly;, score=(train=0.621, test=0.615) total time=   0.0s\n",
      "[CV 2/5] END C=0.01, decision_function_shape=ovr, gamma=auto, kernel=poly;, score=(train=0.619, test=0.624) total time=   0.0s\n",
      "[CV 3/5] END C=0.01, decision_function_shape=ovr, gamma=auto, kernel=poly;, score=(train=0.620, test=0.618) total time=   0.0s\n",
      "[CV 4/5] END C=0.01, decision_function_shape=ovr, gamma=auto, kernel=poly;, score=(train=0.619, test=0.624) total time=   0.0s\n",
      "[CV 5/5] END C=0.01, decision_function_shape=ovr, gamma=auto, kernel=poly;, score=(train=0.620, test=0.618) total time=   0.0s\n",
      "[CV 1/5] END C=0.01, decision_function_shape=ovr, gamma=auto, kernel=rbf;, score=(train=0.617, test=0.615) total time=   0.0s\n",
      "[CV 2/5] END C=0.01, decision_function_shape=ovr, gamma=auto, kernel=rbf;, score=(train=0.616, test=0.618) total time=   0.0s\n",
      "[CV 3/5] END C=0.01, decision_function_shape=ovr, gamma=auto, kernel=rbf;, score=(train=0.616, test=0.618) total time=   0.0s\n",
      "[CV 4/5] END C=0.01, decision_function_shape=ovr, gamma=auto, kernel=rbf;, score=(train=0.616, test=0.618) total time=   0.0s\n",
      "[CV 5/5] END C=0.01, decision_function_shape=ovr, gamma=auto, kernel=rbf;, score=(train=0.617, test=0.612) total time=   0.0s\n",
      "[CV 1/5] END C=0.01, decision_function_shape=ovr, gamma=auto, kernel=sigmoid;, score=(train=0.617, test=0.615) total time=   0.0s\n",
      "[CV 2/5] END C=0.01, decision_function_shape=ovr, gamma=auto, kernel=sigmoid;, score=(train=0.616, test=0.618) total time=   0.0s\n",
      "[CV 3/5] END C=0.01, decision_function_shape=ovr, gamma=auto, kernel=sigmoid;, score=(train=0.616, test=0.618) total time=   0.0s\n",
      "[CV 4/5] END C=0.01, decision_function_shape=ovr, gamma=auto, kernel=sigmoid;, score=(train=0.616, test=0.618) total time=   0.0s\n",
      "[CV 5/5] END C=0.01, decision_function_shape=ovr, gamma=auto, kernel=sigmoid;, score=(train=0.617, test=0.612) total time=   0.0s\n",
      "[CV 1/5] END C=0.1, decision_function_shape=ovo, gamma=scale, kernel=poly;, score=(train=0.827, test=0.821) total time=   0.0s\n",
      "[CV 2/5] END C=0.1, decision_function_shape=ovo, gamma=scale, kernel=poly;, score=(train=0.836, test=0.820) total time=   0.0s\n",
      "[CV 3/5] END C=0.1, decision_function_shape=ovo, gamma=scale, kernel=poly;, score=(train=0.833, test=0.826) total time=   0.0s\n",
      "[CV 4/5] END C=0.1, decision_function_shape=ovo, gamma=scale, kernel=poly;, score=(train=0.835, test=0.798) total time=   0.0s\n",
      "[CV 5/5] END C=0.1, decision_function_shape=ovo, gamma=scale, kernel=poly;, score=(train=0.823, test=0.854) total time=   0.0s\n",
      "[CV 1/5] END C=0.1, decision_function_shape=ovo, gamma=scale, kernel=rbf;, score=(train=0.795, test=0.804) total time=   0.0s\n",
      "[CV 2/5] END C=0.1, decision_function_shape=ovo, gamma=scale, kernel=rbf;, score=(train=0.797, test=0.803) total time=   0.0s\n",
      "[CV 3/5] END C=0.1, decision_function_shape=ovo, gamma=scale, kernel=rbf;, score=(train=0.797, test=0.764) total time=   0.0s\n",
      "[CV 4/5] END C=0.1, decision_function_shape=ovo, gamma=scale, kernel=rbf;, score=(train=0.801, test=0.753) total time=   0.0s\n",
      "[CV 5/5] END C=0.1, decision_function_shape=ovo, gamma=scale, kernel=rbf;, score=(train=0.787, test=0.803) total time=   0.0s\n",
      "[CV 1/5] END C=0.1, decision_function_shape=ovo, gamma=scale, kernel=sigmoid;, score=(train=0.782, test=0.799) total time=   0.0s\n",
      "[CV 2/5] END C=0.1, decision_function_shape=ovo, gamma=scale, kernel=sigmoid;, score=(train=0.780, test=0.809) total time=   0.0s\n",
      "[CV 3/5] END C=0.1, decision_function_shape=ovo, gamma=scale, kernel=sigmoid;, score=(train=0.785, test=0.787) total time=   0.0s\n",
      "[CV 4/5] END C=0.1, decision_function_shape=ovo, gamma=scale, kernel=sigmoid;, score=(train=0.795, test=0.758) total time=   0.0s\n",
      "[CV 5/5] END C=0.1, decision_function_shape=ovo, gamma=scale, kernel=sigmoid;, score=(train=0.790, test=0.787) total time=   0.0s\n",
      "[CV 1/5] END C=0.1, decision_function_shape=ovo, gamma=auto, kernel=poly;, score=(train=0.621, test=0.615) total time=   0.0s\n",
      "[CV 2/5] END C=0.1, decision_function_shape=ovo, gamma=auto, kernel=poly;, score=(train=0.619, test=0.624) total time=   0.0s\n",
      "[CV 3/5] END C=0.1, decision_function_shape=ovo, gamma=auto, kernel=poly;, score=(train=0.620, test=0.618) total time=   0.0s\n",
      "[CV 4/5] END C=0.1, decision_function_shape=ovo, gamma=auto, kernel=poly;, score=(train=0.619, test=0.624) total time=   0.0s\n",
      "[CV 5/5] END C=0.1, decision_function_shape=ovo, gamma=auto, kernel=poly;, score=(train=0.620, test=0.618) total time=   0.0s\n",
      "[CV 1/5] END C=0.1, decision_function_shape=ovo, gamma=auto, kernel=rbf;, score=(train=0.782, test=0.793) total time=   0.0s\n",
      "[CV 2/5] END C=0.1, decision_function_shape=ovo, gamma=auto, kernel=rbf;, score=(train=0.776, test=0.809) total time=   0.0s\n",
      "[CV 3/5] END C=0.1, decision_function_shape=ovo, gamma=auto, kernel=rbf;, score=(train=0.787, test=0.764) total time=   0.0s\n",
      "[CV 4/5] END C=0.1, decision_function_shape=ovo, gamma=auto, kernel=rbf;, score=(train=0.791, test=0.753) total time=   0.0s\n",
      "[CV 5/5] END C=0.1, decision_function_shape=ovo, gamma=auto, kernel=rbf;, score=(train=0.780, test=0.792) total time=   0.0s\n",
      "[CV 1/5] END C=0.1, decision_function_shape=ovo, gamma=auto, kernel=sigmoid;, score=(train=0.768, test=0.704) total time=   0.0s\n",
      "[CV 2/5] END C=0.1, decision_function_shape=ovo, gamma=auto, kernel=sigmoid;, score=(train=0.776, test=0.787) total time=   0.0s\n",
      "[CV 3/5] END C=0.1, decision_function_shape=ovo, gamma=auto, kernel=sigmoid;, score=(train=0.760, test=0.758) total time=   0.0s\n",
      "[CV 4/5] END C=0.1, decision_function_shape=ovo, gamma=auto, kernel=sigmoid;, score=(train=0.774, test=0.747) total time=   0.0s\n",
      "[CV 5/5] END C=0.1, decision_function_shape=ovo, gamma=auto, kernel=sigmoid;, score=(train=0.764, test=0.798) total time=   0.0s\n",
      "[CV 1/5] END C=0.1, decision_function_shape=ovr, gamma=scale, kernel=poly;, score=(train=0.827, test=0.821) total time=   0.0s\n",
      "[CV 2/5] END C=0.1, decision_function_shape=ovr, gamma=scale, kernel=poly;, score=(train=0.836, test=0.820) total time=   0.0s\n",
      "[CV 3/5] END C=0.1, decision_function_shape=ovr, gamma=scale, kernel=poly;, score=(train=0.833, test=0.826) total time=   0.0s\n",
      "[CV 4/5] END C=0.1, decision_function_shape=ovr, gamma=scale, kernel=poly;, score=(train=0.835, test=0.798) total time=   0.0s\n",
      "[CV 5/5] END C=0.1, decision_function_shape=ovr, gamma=scale, kernel=poly;, score=(train=0.823, test=0.854) total time=   0.0s\n",
      "[CV 1/5] END C=0.1, decision_function_shape=ovr, gamma=scale, kernel=rbf;, score=(train=0.795, test=0.804) total time=   0.0s\n",
      "[CV 2/5] END C=0.1, decision_function_shape=ovr, gamma=scale, kernel=rbf;, score=(train=0.797, test=0.803) total time=   0.0s\n",
      "[CV 3/5] END C=0.1, decision_function_shape=ovr, gamma=scale, kernel=rbf;, score=(train=0.797, test=0.764) total time=   0.0s\n",
      "[CV 4/5] END C=0.1, decision_function_shape=ovr, gamma=scale, kernel=rbf;, score=(train=0.801, test=0.753) total time=   0.0s\n",
      "[CV 5/5] END C=0.1, decision_function_shape=ovr, gamma=scale, kernel=rbf;, score=(train=0.787, test=0.803) total time=   0.0s\n",
      "[CV 1/5] END C=0.1, decision_function_shape=ovr, gamma=scale, kernel=sigmoid;, score=(train=0.782, test=0.799) total time=   0.0s\n",
      "[CV 2/5] END C=0.1, decision_function_shape=ovr, gamma=scale, kernel=sigmoid;, score=(train=0.780, test=0.809) total time=   0.0s\n",
      "[CV 3/5] END C=0.1, decision_function_shape=ovr, gamma=scale, kernel=sigmoid;, score=(train=0.785, test=0.787) total time=   0.0s\n",
      "[CV 4/5] END C=0.1, decision_function_shape=ovr, gamma=scale, kernel=sigmoid;, score=(train=0.795, test=0.758) total time=   0.0s\n",
      "[CV 5/5] END C=0.1, decision_function_shape=ovr, gamma=scale, kernel=sigmoid;, score=(train=0.790, test=0.787) total time=   0.0s\n",
      "[CV 1/5] END C=0.1, decision_function_shape=ovr, gamma=auto, kernel=poly;, score=(train=0.621, test=0.615) total time=   0.0s\n",
      "[CV 2/5] END C=0.1, decision_function_shape=ovr, gamma=auto, kernel=poly;, score=(train=0.619, test=0.624) total time=   0.0s\n",
      "[CV 3/5] END C=0.1, decision_function_shape=ovr, gamma=auto, kernel=poly;, score=(train=0.620, test=0.618) total time=   0.0s\n",
      "[CV 4/5] END C=0.1, decision_function_shape=ovr, gamma=auto, kernel=poly;, score=(train=0.619, test=0.624) total time=   0.0s\n",
      "[CV 5/5] END C=0.1, decision_function_shape=ovr, gamma=auto, kernel=poly;, score=(train=0.620, test=0.618) total time=   0.0s\n",
      "[CV 1/5] END C=0.1, decision_function_shape=ovr, gamma=auto, kernel=rbf;, score=(train=0.782, test=0.793) total time=   0.0s\n",
      "[CV 2/5] END C=0.1, decision_function_shape=ovr, gamma=auto, kernel=rbf;, score=(train=0.776, test=0.809) total time=   0.0s\n",
      "[CV 3/5] END C=0.1, decision_function_shape=ovr, gamma=auto, kernel=rbf;, score=(train=0.787, test=0.764) total time=   0.0s\n",
      "[CV 4/5] END C=0.1, decision_function_shape=ovr, gamma=auto, kernel=rbf;, score=(train=0.791, test=0.753) total time=   0.0s\n",
      "[CV 5/5] END C=0.1, decision_function_shape=ovr, gamma=auto, kernel=rbf;, score=(train=0.780, test=0.792) total time=   0.0s\n",
      "[CV 1/5] END C=0.1, decision_function_shape=ovr, gamma=auto, kernel=sigmoid;, score=(train=0.768, test=0.704) total time=   0.0s\n",
      "[CV 2/5] END C=0.1, decision_function_shape=ovr, gamma=auto, kernel=sigmoid;, score=(train=0.776, test=0.787) total time=   0.0s\n",
      "[CV 3/5] END C=0.1, decision_function_shape=ovr, gamma=auto, kernel=sigmoid;, score=(train=0.760, test=0.758) total time=   0.0s\n",
      "[CV 4/5] END C=0.1, decision_function_shape=ovr, gamma=auto, kernel=sigmoid;, score=(train=0.774, test=0.747) total time=   0.0s\n",
      "[CV 5/5] END C=0.1, decision_function_shape=ovr, gamma=auto, kernel=sigmoid;, score=(train=0.764, test=0.798) total time=   0.0s\n",
      "[CV 1/5] END C=1, decision_function_shape=ovo, gamma=scale, kernel=poly;, score=(train=0.860, test=0.804) total time=   0.0s\n",
      "[CV 2/5] END C=1, decision_function_shape=ovo, gamma=scale, kernel=poly;, score=(train=0.850, test=0.815) total time=   0.0s\n",
      "[CV 3/5] END C=1, decision_function_shape=ovo, gamma=scale, kernel=poly;, score=(train=0.846, test=0.803) total time=   0.0s\n",
      "[CV 4/5] END C=1, decision_function_shape=ovo, gamma=scale, kernel=poly;, score=(train=0.854, test=0.803) total time=   0.0s\n",
      "[CV 5/5] END C=1, decision_function_shape=ovo, gamma=scale, kernel=poly;, score=(train=0.835, test=0.871) total time=   0.0s\n",
      "[CV 1/5] END C=1, decision_function_shape=ovo, gamma=scale, kernel=rbf;, score=(train=0.848, test=0.816) total time=   0.0s\n",
      "[CV 2/5] END C=1, decision_function_shape=ovo, gamma=scale, kernel=rbf;, score=(train=0.849, test=0.815) total time=   0.0s\n",
      "[CV 3/5] END C=1, decision_function_shape=ovo, gamma=scale, kernel=rbf;, score=(train=0.840, test=0.820) total time=   0.0s\n",
      "[CV 4/5] END C=1, decision_function_shape=ovo, gamma=scale, kernel=rbf;, score=(train=0.846, test=0.809) total time=   0.0s\n",
      "[CV 5/5] END C=1, decision_function_shape=ovo, gamma=scale, kernel=rbf;, score=(train=0.830, test=0.865) total time=   0.0s\n",
      "[CV 1/5] END C=1, decision_function_shape=ovo, gamma=scale, kernel=sigmoid;, score=(train=0.718, test=0.631) total time=   0.0s\n",
      "[CV 2/5] END C=1, decision_function_shape=ovo, gamma=scale, kernel=sigmoid;, score=(train=0.735, test=0.730) total time=   0.0s\n",
      "[CV 3/5] END C=1, decision_function_shape=ovo, gamma=scale, kernel=sigmoid;, score=(train=0.727, test=0.725) total time=   0.0s\n",
      "[CV 4/5] END C=1, decision_function_shape=ovo, gamma=scale, kernel=sigmoid;, score=(train=0.727, test=0.708) total time=   0.0s\n",
      "[CV 5/5] END C=1, decision_function_shape=ovo, gamma=scale, kernel=sigmoid;, score=(train=0.721, test=0.730) total time=   0.0s\n",
      "[CV 1/5] END C=1, decision_function_shape=ovo, gamma=auto, kernel=poly;, score=(train=0.647, test=0.620) total time=   0.0s\n",
      "[CV 2/5] END C=1, decision_function_shape=ovo, gamma=auto, kernel=poly;, score=(train=0.638, test=0.669) total time=   0.0s\n",
      "[CV 3/5] END C=1, decision_function_shape=ovo, gamma=auto, kernel=poly;, score=(train=0.649, test=0.612) total time=   0.0s\n",
      "[CV 4/5] END C=1, decision_function_shape=ovo, gamma=auto, kernel=poly;, score=(train=0.645, test=0.640) total time=   0.0s\n",
      "[CV 5/5] END C=1, decision_function_shape=ovo, gamma=auto, kernel=poly;, score=(train=0.637, test=0.652) total time=   0.0s\n",
      "[CV 1/5] END C=1, decision_function_shape=ovo, gamma=auto, kernel=rbf;, score=(train=0.801, test=0.804) total time=   0.0s\n",
      "[CV 2/5] END C=1, decision_function_shape=ovo, gamma=auto, kernel=rbf;, score=(train=0.799, test=0.809) total time=   0.0s\n",
      "[CV 3/5] END C=1, decision_function_shape=ovo, gamma=auto, kernel=rbf;, score=(train=0.790, test=0.787) total time=   0.0s\n",
      "[CV 4/5] END C=1, decision_function_shape=ovo, gamma=auto, kernel=rbf;, score=(train=0.797, test=0.758) total time=   0.0s\n",
      "[CV 5/5] END C=1, decision_function_shape=ovo, gamma=auto, kernel=rbf;, score=(train=0.788, test=0.792) total time=   0.0s\n",
      "[CV 1/5] END C=1, decision_function_shape=ovo, gamma=auto, kernel=sigmoid;, score=(train=0.779, test=0.804) total time=   0.0s\n",
      "[CV 2/5] END C=1, decision_function_shape=ovo, gamma=auto, kernel=sigmoid;, score=(train=0.783, test=0.798) total time=   0.0s\n",
      "[CV 3/5] END C=1, decision_function_shape=ovo, gamma=auto, kernel=sigmoid;, score=(train=0.785, test=0.787) total time=   0.0s\n",
      "[CV 4/5] END C=1, decision_function_shape=ovo, gamma=auto, kernel=sigmoid;, score=(train=0.794, test=0.753) total time=   0.0s\n",
      "[CV 5/5] END C=1, decision_function_shape=ovo, gamma=auto, kernel=sigmoid;, score=(train=0.785, test=0.787) total time=   0.0s\n",
      "[CV 1/5] END C=1, decision_function_shape=ovr, gamma=scale, kernel=poly;, score=(train=0.860, test=0.804) total time=   0.0s\n",
      "[CV 2/5] END C=1, decision_function_shape=ovr, gamma=scale, kernel=poly;, score=(train=0.850, test=0.815) total time=   0.0s\n",
      "[CV 3/5] END C=1, decision_function_shape=ovr, gamma=scale, kernel=poly;, score=(train=0.846, test=0.803) total time=   0.0s\n",
      "[CV 4/5] END C=1, decision_function_shape=ovr, gamma=scale, kernel=poly;, score=(train=0.854, test=0.803) total time=   0.0s\n",
      "[CV 5/5] END C=1, decision_function_shape=ovr, gamma=scale, kernel=poly;, score=(train=0.835, test=0.871) total time=   0.0s\n",
      "[CV 1/5] END C=1, decision_function_shape=ovr, gamma=scale, kernel=rbf;, score=(train=0.848, test=0.816) total time=   0.0s\n",
      "[CV 2/5] END C=1, decision_function_shape=ovr, gamma=scale, kernel=rbf;, score=(train=0.849, test=0.815) total time=   0.0s\n",
      "[CV 3/5] END C=1, decision_function_shape=ovr, gamma=scale, kernel=rbf;, score=(train=0.840, test=0.820) total time=   0.0s\n",
      "[CV 4/5] END C=1, decision_function_shape=ovr, gamma=scale, kernel=rbf;, score=(train=0.846, test=0.809) total time=   0.0s\n",
      "[CV 5/5] END C=1, decision_function_shape=ovr, gamma=scale, kernel=rbf;, score=(train=0.830, test=0.865) total time=   0.0s\n",
      "[CV 1/5] END C=1, decision_function_shape=ovr, gamma=scale, kernel=sigmoid;, score=(train=0.718, test=0.631) total time=   0.0s\n",
      "[CV 2/5] END C=1, decision_function_shape=ovr, gamma=scale, kernel=sigmoid;, score=(train=0.735, test=0.730) total time=   0.0s\n",
      "[CV 3/5] END C=1, decision_function_shape=ovr, gamma=scale, kernel=sigmoid;, score=(train=0.727, test=0.725) total time=   0.0s\n",
      "[CV 4/5] END C=1, decision_function_shape=ovr, gamma=scale, kernel=sigmoid;, score=(train=0.727, test=0.708) total time=   0.0s\n",
      "[CV 5/5] END C=1, decision_function_shape=ovr, gamma=scale, kernel=sigmoid;, score=(train=0.721, test=0.730) total time=   0.0s\n",
      "[CV 1/5] END C=1, decision_function_shape=ovr, gamma=auto, kernel=poly;, score=(train=0.647, test=0.620) total time=   0.0s\n",
      "[CV 2/5] END C=1, decision_function_shape=ovr, gamma=auto, kernel=poly;, score=(train=0.638, test=0.669) total time=   0.0s\n",
      "[CV 3/5] END C=1, decision_function_shape=ovr, gamma=auto, kernel=poly;, score=(train=0.649, test=0.612) total time=   0.0s\n",
      "[CV 4/5] END C=1, decision_function_shape=ovr, gamma=auto, kernel=poly;, score=(train=0.645, test=0.640) total time=   0.0s\n",
      "[CV 5/5] END C=1, decision_function_shape=ovr, gamma=auto, kernel=poly;, score=(train=0.637, test=0.652) total time=   0.0s\n",
      "[CV 1/5] END C=1, decision_function_shape=ovr, gamma=auto, kernel=rbf;, score=(train=0.801, test=0.804) total time=   0.0s\n",
      "[CV 2/5] END C=1, decision_function_shape=ovr, gamma=auto, kernel=rbf;, score=(train=0.799, test=0.809) total time=   0.0s\n",
      "[CV 3/5] END C=1, decision_function_shape=ovr, gamma=auto, kernel=rbf;, score=(train=0.790, test=0.787) total time=   0.0s\n",
      "[CV 4/5] END C=1, decision_function_shape=ovr, gamma=auto, kernel=rbf;, score=(train=0.797, test=0.758) total time=   0.0s\n",
      "[CV 5/5] END C=1, decision_function_shape=ovr, gamma=auto, kernel=rbf;, score=(train=0.788, test=0.792) total time=   0.0s\n",
      "[CV 1/5] END C=1, decision_function_shape=ovr, gamma=auto, kernel=sigmoid;, score=(train=0.779, test=0.804) total time=   0.0s\n",
      "[CV 2/5] END C=1, decision_function_shape=ovr, gamma=auto, kernel=sigmoid;, score=(train=0.783, test=0.798) total time=   0.0s\n",
      "[CV 3/5] END C=1, decision_function_shape=ovr, gamma=auto, kernel=sigmoid;, score=(train=0.785, test=0.787) total time=   0.0s\n",
      "[CV 4/5] END C=1, decision_function_shape=ovr, gamma=auto, kernel=sigmoid;, score=(train=0.794, test=0.753) total time=   0.0s\n",
      "[CV 5/5] END C=1, decision_function_shape=ovr, gamma=auto, kernel=sigmoid;, score=(train=0.785, test=0.787) total time=   0.0s\n",
      "[CV 1/5] END C=10.0, decision_function_shape=ovo, gamma=scale, kernel=poly;, score=(train=0.869, test=0.765) total time=   0.0s\n",
      "[CV 2/5] END C=10.0, decision_function_shape=ovo, gamma=scale, kernel=poly;, score=(train=0.872, test=0.798) total time=   0.0s\n",
      "[CV 3/5] END C=10.0, decision_function_shape=ovo, gamma=scale, kernel=poly;, score=(train=0.865, test=0.803) total time=   0.0s\n",
      "[CV 4/5] END C=10.0, decision_function_shape=ovo, gamma=scale, kernel=poly;, score=(train=0.867, test=0.798) total time=   0.0s\n",
      "[CV 5/5] END C=10.0, decision_function_shape=ovo, gamma=scale, kernel=poly;, score=(train=0.854, test=0.848) total time=   0.0s\n",
      "[CV 1/5] END C=10.0, decision_function_shape=ovo, gamma=scale, kernel=rbf;, score=(train=0.871, test=0.788) total time=   0.0s\n",
      "[CV 2/5] END C=10.0, decision_function_shape=ovo, gamma=scale, kernel=rbf;, score=(train=0.871, test=0.809) total time=   0.0s\n",
      "[CV 3/5] END C=10.0, decision_function_shape=ovo, gamma=scale, kernel=rbf;, score=(train=0.865, test=0.815) total time=   0.0s\n",
      "[CV 4/5] END C=10.0, decision_function_shape=ovo, gamma=scale, kernel=rbf;, score=(train=0.868, test=0.792) total time=   0.0s\n",
      "[CV 5/5] END C=10.0, decision_function_shape=ovo, gamma=scale, kernel=rbf;, score=(train=0.860, test=0.860) total time=   0.0s\n",
      "[CV 1/5] END C=10.0, decision_function_shape=ovo, gamma=scale, kernel=sigmoid;, score=(train=0.709, test=0.687) total time=   0.0s\n",
      "[CV 2/5] END C=10.0, decision_function_shape=ovo, gamma=scale, kernel=sigmoid;, score=(train=0.722, test=0.708) total time=   0.0s\n",
      "[CV 3/5] END C=10.0, decision_function_shape=ovo, gamma=scale, kernel=sigmoid;, score=(train=0.711, test=0.730) total time=   0.0s\n",
      "[CV 4/5] END C=10.0, decision_function_shape=ovo, gamma=scale, kernel=sigmoid;, score=(train=0.704, test=0.685) total time=   0.0s\n",
      "[CV 5/5] END C=10.0, decision_function_shape=ovo, gamma=scale, kernel=sigmoid;, score=(train=0.704, test=0.736) total time=   0.0s\n",
      "[CV 1/5] END C=10.0, decision_function_shape=ovo, gamma=auto, kernel=poly;, score=(train=0.829, test=0.810) total time=   0.0s\n",
      "[CV 2/5] END C=10.0, decision_function_shape=ovo, gamma=auto, kernel=poly;, score=(train=0.836, test=0.820) total time=   0.0s\n",
      "[CV 3/5] END C=10.0, decision_function_shape=ovo, gamma=auto, kernel=poly;, score=(train=0.839, test=0.820) total time=   0.0s\n",
      "[CV 4/5] END C=10.0, decision_function_shape=ovo, gamma=auto, kernel=poly;, score=(train=0.837, test=0.798) total time=   0.0s\n",
      "[CV 5/5] END C=10.0, decision_function_shape=ovo, gamma=auto, kernel=poly;, score=(train=0.823, test=0.848) total time=   0.0s\n",
      "[CV 1/5] END C=10.0, decision_function_shape=ovo, gamma=auto, kernel=rbf;, score=(train=0.836, test=0.838) total time=   0.0s\n",
      "[CV 2/5] END C=10.0, decision_function_shape=ovo, gamma=auto, kernel=rbf;, score=(train=0.846, test=0.815) total time=   0.0s\n",
      "[CV 3/5] END C=10.0, decision_function_shape=ovo, gamma=auto, kernel=rbf;, score=(train=0.839, test=0.820) total time=   0.0s\n",
      "[CV 4/5] END C=10.0, decision_function_shape=ovo, gamma=auto, kernel=rbf;, score=(train=0.846, test=0.803) total time=   0.0s\n",
      "[CV 5/5] END C=10.0, decision_function_shape=ovo, gamma=auto, kernel=rbf;, score=(train=0.825, test=0.865) total time=   0.0s\n",
      "[CV 1/5] END C=10.0, decision_function_shape=ovo, gamma=auto, kernel=sigmoid;, score=(train=0.768, test=0.709) total time=   0.0s\n",
      "[CV 2/5] END C=10.0, decision_function_shape=ovo, gamma=auto, kernel=sigmoid;, score=(train=0.762, test=0.764) total time=   0.0s\n",
      "[CV 3/5] END C=10.0, decision_function_shape=ovo, gamma=auto, kernel=sigmoid;, score=(train=0.752, test=0.753) total time=   0.0s\n",
      "[CV 4/5] END C=10.0, decision_function_shape=ovo, gamma=auto, kernel=sigmoid;, score=(train=0.762, test=0.747) total time=   0.0s\n",
      "[CV 5/5] END C=10.0, decision_function_shape=ovo, gamma=auto, kernel=sigmoid;, score=(train=0.769, test=0.736) total time=   0.0s\n",
      "[CV 1/5] END C=10.0, decision_function_shape=ovr, gamma=scale, kernel=poly;, score=(train=0.869, test=0.765) total time=   0.0s\n",
      "[CV 2/5] END C=10.0, decision_function_shape=ovr, gamma=scale, kernel=poly;, score=(train=0.872, test=0.798) total time=   0.0s\n",
      "[CV 3/5] END C=10.0, decision_function_shape=ovr, gamma=scale, kernel=poly;, score=(train=0.865, test=0.803) total time=   0.0s\n",
      "[CV 4/5] END C=10.0, decision_function_shape=ovr, gamma=scale, kernel=poly;, score=(train=0.867, test=0.798) total time=   0.0s\n",
      "[CV 5/5] END C=10.0, decision_function_shape=ovr, gamma=scale, kernel=poly;, score=(train=0.854, test=0.848) total time=   0.0s\n",
      "[CV 1/5] END C=10.0, decision_function_shape=ovr, gamma=scale, kernel=rbf;, score=(train=0.871, test=0.788) total time=   0.0s\n",
      "[CV 2/5] END C=10.0, decision_function_shape=ovr, gamma=scale, kernel=rbf;, score=(train=0.871, test=0.809) total time=   0.0s\n",
      "[CV 3/5] END C=10.0, decision_function_shape=ovr, gamma=scale, kernel=rbf;, score=(train=0.865, test=0.815) total time=   0.0s\n",
      "[CV 4/5] END C=10.0, decision_function_shape=ovr, gamma=scale, kernel=rbf;, score=(train=0.868, test=0.792) total time=   0.0s\n",
      "[CV 5/5] END C=10.0, decision_function_shape=ovr, gamma=scale, kernel=rbf;, score=(train=0.860, test=0.860) total time=   0.0s\n",
      "[CV 1/5] END C=10.0, decision_function_shape=ovr, gamma=scale, kernel=sigmoid;, score=(train=0.709, test=0.687) total time=   0.0s\n",
      "[CV 2/5] END C=10.0, decision_function_shape=ovr, gamma=scale, kernel=sigmoid;, score=(train=0.722, test=0.708) total time=   0.0s\n",
      "[CV 3/5] END C=10.0, decision_function_shape=ovr, gamma=scale, kernel=sigmoid;, score=(train=0.711, test=0.730) total time=   0.0s\n",
      "[CV 4/5] END C=10.0, decision_function_shape=ovr, gamma=scale, kernel=sigmoid;, score=(train=0.704, test=0.685) total time=   0.0s\n",
      "[CV 5/5] END C=10.0, decision_function_shape=ovr, gamma=scale, kernel=sigmoid;, score=(train=0.704, test=0.736) total time=   0.0s\n",
      "[CV 1/5] END C=10.0, decision_function_shape=ovr, gamma=auto, kernel=poly;, score=(train=0.829, test=0.810) total time=   0.0s\n",
      "[CV 2/5] END C=10.0, decision_function_shape=ovr, gamma=auto, kernel=poly;, score=(train=0.836, test=0.820) total time=   0.0s\n",
      "[CV 3/5] END C=10.0, decision_function_shape=ovr, gamma=auto, kernel=poly;, score=(train=0.839, test=0.820) total time=   0.0s\n",
      "[CV 4/5] END C=10.0, decision_function_shape=ovr, gamma=auto, kernel=poly;, score=(train=0.837, test=0.798) total time=   0.0s\n",
      "[CV 5/5] END C=10.0, decision_function_shape=ovr, gamma=auto, kernel=poly;, score=(train=0.823, test=0.848) total time=   0.0s\n",
      "[CV 1/5] END C=10.0, decision_function_shape=ovr, gamma=auto, kernel=rbf;, score=(train=0.836, test=0.838) total time=   0.0s\n",
      "[CV 2/5] END C=10.0, decision_function_shape=ovr, gamma=auto, kernel=rbf;, score=(train=0.846, test=0.815) total time=   0.0s\n",
      "[CV 3/5] END C=10.0, decision_function_shape=ovr, gamma=auto, kernel=rbf;, score=(train=0.839, test=0.820) total time=   0.0s\n",
      "[CV 4/5] END C=10.0, decision_function_shape=ovr, gamma=auto, kernel=rbf;, score=(train=0.846, test=0.803) total time=   0.0s\n",
      "[CV 5/5] END C=10.0, decision_function_shape=ovr, gamma=auto, kernel=rbf;, score=(train=0.825, test=0.865) total time=   0.0s\n",
      "[CV 1/5] END C=10.0, decision_function_shape=ovr, gamma=auto, kernel=sigmoid;, score=(train=0.768, test=0.709) total time=   0.0s\n",
      "[CV 2/5] END C=10.0, decision_function_shape=ovr, gamma=auto, kernel=sigmoid;, score=(train=0.762, test=0.764) total time=   0.0s\n",
      "[CV 3/5] END C=10.0, decision_function_shape=ovr, gamma=auto, kernel=sigmoid;, score=(train=0.752, test=0.753) total time=   0.0s\n",
      "[CV 4/5] END C=10.0, decision_function_shape=ovr, gamma=auto, kernel=sigmoid;, score=(train=0.762, test=0.747) total time=   0.0s\n",
      "[CV 5/5] END C=10.0, decision_function_shape=ovr, gamma=auto, kernel=sigmoid;, score=(train=0.769, test=0.736) total time=   0.0s\n",
      "[CV 1/5] END C=100.0, decision_function_shape=ovo, gamma=scale, kernel=poly;, score=(train=0.883, test=0.743) total time=   0.1s\n",
      "[CV 2/5] END C=100.0, decision_function_shape=ovo, gamma=scale, kernel=poly;, score=(train=0.881, test=0.798) total time=   0.1s\n",
      "[CV 3/5] END C=100.0, decision_function_shape=ovo, gamma=scale, kernel=poly;, score=(train=0.875, test=0.798) total time=   0.1s\n",
      "[CV 4/5] END C=100.0, decision_function_shape=ovo, gamma=scale, kernel=poly;, score=(train=0.879, test=0.787) total time=   0.0s\n",
      "[CV 5/5] END C=100.0, decision_function_shape=ovo, gamma=scale, kernel=poly;, score=(train=0.874, test=0.820) total time=   0.0s\n",
      "[CV 1/5] END C=100.0, decision_function_shape=ovo, gamma=scale, kernel=rbf;, score=(train=0.886, test=0.749) total time=   0.0s\n",
      "[CV 2/5] END C=100.0, decision_function_shape=ovo, gamma=scale, kernel=rbf;, score=(train=0.891, test=0.787) total time=   0.0s\n",
      "[CV 3/5] END C=100.0, decision_function_shape=ovo, gamma=scale, kernel=rbf;, score=(train=0.884, test=0.803) total time=   0.0s\n",
      "[CV 4/5] END C=100.0, decision_function_shape=ovo, gamma=scale, kernel=rbf;, score=(train=0.885, test=0.787) total time=   0.0s\n",
      "[CV 5/5] END C=100.0, decision_function_shape=ovo, gamma=scale, kernel=rbf;, score=(train=0.879, test=0.815) total time=   0.0s\n",
      "[CV 1/5] END C=100.0, decision_function_shape=ovo, gamma=scale, kernel=sigmoid;, score=(train=0.715, test=0.631) total time=   0.0s\n",
      "[CV 2/5] END C=100.0, decision_function_shape=ovo, gamma=scale, kernel=sigmoid;, score=(train=0.714, test=0.697) total time=   0.0s\n",
      "[CV 3/5] END C=100.0, decision_function_shape=ovo, gamma=scale, kernel=sigmoid;, score=(train=0.693, test=0.725) total time=   0.0s\n",
      "[CV 4/5] END C=100.0, decision_function_shape=ovo, gamma=scale, kernel=sigmoid;, score=(train=0.712, test=0.691) total time=   0.0s\n",
      "[CV 5/5] END C=100.0, decision_function_shape=ovo, gamma=scale, kernel=sigmoid;, score=(train=0.705, test=0.730) total time=   0.0s\n",
      "[CV 1/5] END C=100.0, decision_function_shape=ovo, gamma=auto, kernel=poly;, score=(train=0.858, test=0.810) total time=   0.0s\n",
      "[CV 2/5] END C=100.0, decision_function_shape=ovo, gamma=auto, kernel=poly;, score=(train=0.853, test=0.815) total time=   0.0s\n",
      "[CV 3/5] END C=100.0, decision_function_shape=ovo, gamma=auto, kernel=poly;, score=(train=0.849, test=0.803) total time=   0.0s\n",
      "[CV 4/5] END C=100.0, decision_function_shape=ovo, gamma=auto, kernel=poly;, score=(train=0.860, test=0.798) total time=   0.0s\n",
      "[CV 5/5] END C=100.0, decision_function_shape=ovo, gamma=auto, kernel=poly;, score=(train=0.839, test=0.854) total time=   0.0s\n",
      "[CV 1/5] END C=100.0, decision_function_shape=ovo, gamma=auto, kernel=rbf;, score=(train=0.855, test=0.799) total time=   0.0s\n",
      "[CV 2/5] END C=100.0, decision_function_shape=ovo, gamma=auto, kernel=rbf;, score=(train=0.861, test=0.803) total time=   0.0s\n",
      "[CV 3/5] END C=100.0, decision_function_shape=ovo, gamma=auto, kernel=rbf;, score=(train=0.853, test=0.815) total time=   0.0s\n",
      "[CV 4/5] END C=100.0, decision_function_shape=ovo, gamma=auto, kernel=rbf;, score=(train=0.858, test=0.803) total time=   0.0s\n",
      "[CV 5/5] END C=100.0, decision_function_shape=ovo, gamma=auto, kernel=rbf;, score=(train=0.847, test=0.843) total time=   0.0s\n",
      "[CV 1/5] END C=100.0, decision_function_shape=ovo, gamma=auto, kernel=sigmoid;, score=(train=0.744, test=0.665) total time=   0.0s\n",
      "[CV 2/5] END C=100.0, decision_function_shape=ovo, gamma=auto, kernel=sigmoid;, score=(train=0.736, test=0.747) total time=   0.0s\n",
      "[CV 3/5] END C=100.0, decision_function_shape=ovo, gamma=auto, kernel=sigmoid;, score=(train=0.732, test=0.730) total time=   0.0s\n",
      "[CV 4/5] END C=100.0, decision_function_shape=ovo, gamma=auto, kernel=sigmoid;, score=(train=0.725, test=0.730) total time=   0.0s\n",
      "[CV 5/5] END C=100.0, decision_function_shape=ovo, gamma=auto, kernel=sigmoid;, score=(train=0.728, test=0.719) total time=   0.0s\n",
      "[CV 1/5] END C=100.0, decision_function_shape=ovr, gamma=scale, kernel=poly;, score=(train=0.883, test=0.743) total time=   0.0s\n",
      "[CV 2/5] END C=100.0, decision_function_shape=ovr, gamma=scale, kernel=poly;, score=(train=0.881, test=0.798) total time=   0.0s\n",
      "[CV 3/5] END C=100.0, decision_function_shape=ovr, gamma=scale, kernel=poly;, score=(train=0.875, test=0.798) total time=   0.1s\n",
      "[CV 4/5] END C=100.0, decision_function_shape=ovr, gamma=scale, kernel=poly;, score=(train=0.879, test=0.787) total time=   0.0s\n",
      "[CV 5/5] END C=100.0, decision_function_shape=ovr, gamma=scale, kernel=poly;, score=(train=0.874, test=0.820) total time=   0.0s\n",
      "[CV 1/5] END C=100.0, decision_function_shape=ovr, gamma=scale, kernel=rbf;, score=(train=0.886, test=0.749) total time=   0.0s\n",
      "[CV 2/5] END C=100.0, decision_function_shape=ovr, gamma=scale, kernel=rbf;, score=(train=0.891, test=0.787) total time=   0.0s\n",
      "[CV 3/5] END C=100.0, decision_function_shape=ovr, gamma=scale, kernel=rbf;, score=(train=0.884, test=0.803) total time=   0.0s\n",
      "[CV 4/5] END C=100.0, decision_function_shape=ovr, gamma=scale, kernel=rbf;, score=(train=0.885, test=0.787) total time=   0.0s\n",
      "[CV 5/5] END C=100.0, decision_function_shape=ovr, gamma=scale, kernel=rbf;, score=(train=0.879, test=0.815) total time=   0.0s\n",
      "[CV 1/5] END C=100.0, decision_function_shape=ovr, gamma=scale, kernel=sigmoid;, score=(train=0.715, test=0.631) total time=   0.0s\n",
      "[CV 2/5] END C=100.0, decision_function_shape=ovr, gamma=scale, kernel=sigmoid;, score=(train=0.714, test=0.697) total time=   0.0s\n",
      "[CV 3/5] END C=100.0, decision_function_shape=ovr, gamma=scale, kernel=sigmoid;, score=(train=0.693, test=0.725) total time=   0.0s\n",
      "[CV 4/5] END C=100.0, decision_function_shape=ovr, gamma=scale, kernel=sigmoid;, score=(train=0.712, test=0.691) total time=   0.0s\n",
      "[CV 5/5] END C=100.0, decision_function_shape=ovr, gamma=scale, kernel=sigmoid;, score=(train=0.705, test=0.730) total time=   0.0s\n",
      "[CV 1/5] END C=100.0, decision_function_shape=ovr, gamma=auto, kernel=poly;, score=(train=0.858, test=0.810) total time=   0.0s\n",
      "[CV 2/5] END C=100.0, decision_function_shape=ovr, gamma=auto, kernel=poly;, score=(train=0.853, test=0.815) total time=   0.0s\n",
      "[CV 3/5] END C=100.0, decision_function_shape=ovr, gamma=auto, kernel=poly;, score=(train=0.849, test=0.803) total time=   0.0s\n",
      "[CV 4/5] END C=100.0, decision_function_shape=ovr, gamma=auto, kernel=poly;, score=(train=0.860, test=0.798) total time=   0.0s\n",
      "[CV 5/5] END C=100.0, decision_function_shape=ovr, gamma=auto, kernel=poly;, score=(train=0.839, test=0.854) total time=   0.0s\n",
      "[CV 1/5] END C=100.0, decision_function_shape=ovr, gamma=auto, kernel=rbf;, score=(train=0.855, test=0.799) total time=   0.0s\n",
      "[CV 2/5] END C=100.0, decision_function_shape=ovr, gamma=auto, kernel=rbf;, score=(train=0.861, test=0.803) total time=   0.0s\n",
      "[CV 3/5] END C=100.0, decision_function_shape=ovr, gamma=auto, kernel=rbf;, score=(train=0.853, test=0.815) total time=   0.0s\n",
      "[CV 4/5] END C=100.0, decision_function_shape=ovr, gamma=auto, kernel=rbf;, score=(train=0.858, test=0.803) total time=   0.0s\n",
      "[CV 5/5] END C=100.0, decision_function_shape=ovr, gamma=auto, kernel=rbf;, score=(train=0.847, test=0.843) total time=   0.0s\n",
      "[CV 1/5] END C=100.0, decision_function_shape=ovr, gamma=auto, kernel=sigmoid;, score=(train=0.744, test=0.665) total time=   0.0s\n",
      "[CV 2/5] END C=100.0, decision_function_shape=ovr, gamma=auto, kernel=sigmoid;, score=(train=0.736, test=0.747) total time=   0.0s\n",
      "[CV 3/5] END C=100.0, decision_function_shape=ovr, gamma=auto, kernel=sigmoid;, score=(train=0.732, test=0.730) total time=   0.0s\n",
      "[CV 4/5] END C=100.0, decision_function_shape=ovr, gamma=auto, kernel=sigmoid;, score=(train=0.725, test=0.730) total time=   0.0s\n",
      "[CV 5/5] END C=100.0, decision_function_shape=ovr, gamma=auto, kernel=sigmoid;, score=(train=0.728, test=0.719) total time=   0.0s\n"
     ]
    },
    {
     "data": {
      "text/html": [
       "<style>#sk-container-id-4 {color: black;background-color: white;}#sk-container-id-4 pre{padding: 0;}#sk-container-id-4 div.sk-toggleable {background-color: white;}#sk-container-id-4 label.sk-toggleable__label {cursor: pointer;display: block;width: 100%;margin-bottom: 0;padding: 0.3em;box-sizing: border-box;text-align: center;}#sk-container-id-4 label.sk-toggleable__label-arrow:before {content: \"▸\";float: left;margin-right: 0.25em;color: #696969;}#sk-container-id-4 label.sk-toggleable__label-arrow:hover:before {color: black;}#sk-container-id-4 div.sk-estimator:hover label.sk-toggleable__label-arrow:before {color: black;}#sk-container-id-4 div.sk-toggleable__content {max-height: 0;max-width: 0;overflow: hidden;text-align: left;background-color: #f0f8ff;}#sk-container-id-4 div.sk-toggleable__content pre {margin: 0.2em;color: black;border-radius: 0.25em;background-color: #f0f8ff;}#sk-container-id-4 input.sk-toggleable__control:checked~div.sk-toggleable__content {max-height: 200px;max-width: 100%;overflow: auto;}#sk-container-id-4 input.sk-toggleable__control:checked~label.sk-toggleable__label-arrow:before {content: \"▾\";}#sk-container-id-4 div.sk-estimator input.sk-toggleable__control:checked~label.sk-toggleable__label {background-color: #d4ebff;}#sk-container-id-4 div.sk-label input.sk-toggleable__control:checked~label.sk-toggleable__label {background-color: #d4ebff;}#sk-container-id-4 input.sk-hidden--visually {border: 0;clip: rect(1px 1px 1px 1px);clip: rect(1px, 1px, 1px, 1px);height: 1px;margin: -1px;overflow: hidden;padding: 0;position: absolute;width: 1px;}#sk-container-id-4 div.sk-estimator {font-family: monospace;background-color: #f0f8ff;border: 1px dotted black;border-radius: 0.25em;box-sizing: border-box;margin-bottom: 0.5em;}#sk-container-id-4 div.sk-estimator:hover {background-color: #d4ebff;}#sk-container-id-4 div.sk-parallel-item::after {content: \"\";width: 100%;border-bottom: 1px solid gray;flex-grow: 1;}#sk-container-id-4 div.sk-label:hover label.sk-toggleable__label {background-color: #d4ebff;}#sk-container-id-4 div.sk-serial::before {content: \"\";position: absolute;border-left: 1px solid gray;box-sizing: border-box;top: 0;bottom: 0;left: 50%;z-index: 0;}#sk-container-id-4 div.sk-serial {display: flex;flex-direction: column;align-items: center;background-color: white;padding-right: 0.2em;padding-left: 0.2em;position: relative;}#sk-container-id-4 div.sk-item {position: relative;z-index: 1;}#sk-container-id-4 div.sk-parallel {display: flex;align-items: stretch;justify-content: center;background-color: white;position: relative;}#sk-container-id-4 div.sk-item::before, #sk-container-id-4 div.sk-parallel-item::before {content: \"\";position: absolute;border-left: 1px solid gray;box-sizing: border-box;top: 0;bottom: 0;left: 50%;z-index: -1;}#sk-container-id-4 div.sk-parallel-item {display: flex;flex-direction: column;z-index: 1;position: relative;background-color: white;}#sk-container-id-4 div.sk-parallel-item:first-child::after {align-self: flex-end;width: 50%;}#sk-container-id-4 div.sk-parallel-item:last-child::after {align-self: flex-start;width: 50%;}#sk-container-id-4 div.sk-parallel-item:only-child::after {width: 0;}#sk-container-id-4 div.sk-dashed-wrapped {border: 1px dashed gray;margin: 0 0.4em 0.5em 0.4em;box-sizing: border-box;padding-bottom: 0.4em;background-color: white;}#sk-container-id-4 div.sk-label label {font-family: monospace;font-weight: bold;display: inline-block;line-height: 1.2em;}#sk-container-id-4 div.sk-label-container {text-align: center;}#sk-container-id-4 div.sk-container {/* jupyter's `normalize.less` sets `[hidden] { display: none; }` but bootstrap.min.css set `[hidden] { display: none !important; }` so we also need the `!important` here to be able to override the default hidden behavior on the sphinx rendered scikit-learn.org. See: https://github.com/scikit-learn/scikit-learn/issues/21755 */display: inline-block !important;position: relative;}#sk-container-id-4 div.sk-text-repr-fallback {display: none;}</style><div id=\"sk-container-id-4\" class=\"sk-top-container\"><div class=\"sk-text-repr-fallback\"><pre>GridSearchCV(cv=5, estimator=SVC(),\n",
       "             param_grid=[{&#x27;C&#x27;: [0.01, 0.1, 1, 10.0, 100.0],\n",
       "                          &#x27;decision_function_shape&#x27;: [&#x27;ovo&#x27;, &#x27;ovr&#x27;],\n",
       "                          &#x27;kernel&#x27;: [&#x27;linear&#x27;]},\n",
       "                         {&#x27;C&#x27;: [0.01, 0.1, 1, 10.0, 100.0],\n",
       "                          &#x27;decision_function_shape&#x27;: [&#x27;ovo&#x27;, &#x27;ovr&#x27;],\n",
       "                          &#x27;gamma&#x27;: [&#x27;scale&#x27;, &#x27;auto&#x27;],\n",
       "                          &#x27;kernel&#x27;: [&#x27;poly&#x27;, &#x27;rbf&#x27;, &#x27;sigmoid&#x27;]}],\n",
       "             return_train_score=True, scoring=&#x27;accuracy&#x27;, verbose=4)</pre><b>In a Jupyter environment, please rerun this cell to show the HTML representation or trust the notebook. <br />On GitHub, the HTML representation is unable to render, please try loading this page with nbviewer.org.</b></div><div class=\"sk-container\" hidden><div class=\"sk-item sk-dashed-wrapped\"><div class=\"sk-label-container\"><div class=\"sk-label sk-toggleable\"><input class=\"sk-toggleable__control sk-hidden--visually\" id=\"sk-estimator-id-4\" type=\"checkbox\" ><label for=\"sk-estimator-id-4\" class=\"sk-toggleable__label sk-toggleable__label-arrow\">GridSearchCV</label><div class=\"sk-toggleable__content\"><pre>GridSearchCV(cv=5, estimator=SVC(),\n",
       "             param_grid=[{&#x27;C&#x27;: [0.01, 0.1, 1, 10.0, 100.0],\n",
       "                          &#x27;decision_function_shape&#x27;: [&#x27;ovo&#x27;, &#x27;ovr&#x27;],\n",
       "                          &#x27;kernel&#x27;: [&#x27;linear&#x27;]},\n",
       "                         {&#x27;C&#x27;: [0.01, 0.1, 1, 10.0, 100.0],\n",
       "                          &#x27;decision_function_shape&#x27;: [&#x27;ovo&#x27;, &#x27;ovr&#x27;],\n",
       "                          &#x27;gamma&#x27;: [&#x27;scale&#x27;, &#x27;auto&#x27;],\n",
       "                          &#x27;kernel&#x27;: [&#x27;poly&#x27;, &#x27;rbf&#x27;, &#x27;sigmoid&#x27;]}],\n",
       "             return_train_score=True, scoring=&#x27;accuracy&#x27;, verbose=4)</pre></div></div></div><div class=\"sk-parallel\"><div class=\"sk-parallel-item\"><div class=\"sk-item\"><div class=\"sk-label-container\"><div class=\"sk-label sk-toggleable\"><input class=\"sk-toggleable__control sk-hidden--visually\" id=\"sk-estimator-id-5\" type=\"checkbox\" ><label for=\"sk-estimator-id-5\" class=\"sk-toggleable__label sk-toggleable__label-arrow\">estimator: SVC</label><div class=\"sk-toggleable__content\"><pre>SVC()</pre></div></div></div><div class=\"sk-serial\"><div class=\"sk-item\"><div class=\"sk-estimator sk-toggleable\"><input class=\"sk-toggleable__control sk-hidden--visually\" id=\"sk-estimator-id-6\" type=\"checkbox\" ><label for=\"sk-estimator-id-6\" class=\"sk-toggleable__label sk-toggleable__label-arrow\">SVC</label><div class=\"sk-toggleable__content\"><pre>SVC()</pre></div></div></div></div></div></div></div></div></div></div>"
      ],
      "text/plain": [
       "GridSearchCV(cv=5, estimator=SVC(),\n",
       "             param_grid=[{'C': [0.01, 0.1, 1, 10.0, 100.0],\n",
       "                          'decision_function_shape': ['ovo', 'ovr'],\n",
       "                          'kernel': ['linear']},\n",
       "                         {'C': [0.01, 0.1, 1, 10.0, 100.0],\n",
       "                          'decision_function_shape': ['ovo', 'ovr'],\n",
       "                          'gamma': ['scale', 'auto'],\n",
       "                          'kernel': ['poly', 'rbf', 'sigmoid']}],\n",
       "             return_train_score=True, scoring='accuracy', verbose=4)"
      ]
     },
     "execution_count": 29,
     "metadata": {},
     "output_type": "execute_result"
    }
   ],
   "source": [
    "from sklearn.model_selection import GridSearchCV\n",
    "\n",
    "param_grid = [\n",
    "    {\"C\":[1e-2,1e-1,1,1e1,1e2],\"kernel\":[\"linear\"],\"decision_function_shape\":['ovo','ovr']},\n",
    "    {\"C\":[1e-2,1e-1,1,1e1,1e2],\"kernel\":[\"poly\", \"rbf\",\"sigmoid\"],\"gamma\":[\"scale\", \"auto\"],\"decision_function_shape\":['ovo','ovr']}\n",
    "]\n",
    "\n",
    "svc_clf = SVC()\n",
    "grid_search = GridSearchCV(svc_clf, param_grid, cv = 5, scoring='accuracy', return_train_score=True, verbose=4)\n",
    "\n",
    "grid_search.fit(train_dataset_prepared, train_labels)"
   ]
  },
  {
   "cell_type": "code",
   "execution_count": 30,
   "metadata": {},
   "outputs": [
    {
     "data": {
      "text/plain": [
       "{'C': 10.0, 'decision_function_shape': 'ovo', 'gamma': 'auto', 'kernel': 'rbf'}"
      ]
     },
     "execution_count": 30,
     "metadata": {},
     "output_type": "execute_result"
    }
   ],
   "source": [
    "grid_search.best_params_"
   ]
  },
  {
   "cell_type": "code",
   "execution_count": 31,
   "metadata": {},
   "outputs": [
    {
     "name": "stdout",
     "output_type": "stream",
     "text": [
      "Accuracy over test set: 0.9354066985645934\n"
     ]
    }
   ],
   "source": [
    "test_labels_pred = grid_search.best_estimator_.predict(test_dataset_prepared)\n",
    "print(f'Accuracy over test set: {accuracy_score(test_labels[\"Survived\"], test_labels_pred)}')"
   ]
  },
  {
   "cell_type": "markdown",
   "metadata": {},
   "source": [
    "So seems like we're at the minima for support vector classifier. But this was a good exercise anyway to check if there existed further scope for optimisation. As a last check, let us compute the precision, recall and f1 score for the model."
   ]
  },
  {
   "cell_type": "code",
   "execution_count": 35,
   "metadata": {},
   "outputs": [
    {
     "name": "stdout",
     "output_type": "stream",
     "text": [
      "Precision of the model: 0.9432624113475178\n",
      "Recall of the model: 0.875\n",
      "F1 Score of the model: 0.9078498293515359\n"
     ]
    }
   ],
   "source": [
    "from sklearn.metrics import precision_score, recall_score,f1_score\n",
    "\n",
    "print(f\"Precision of the model: {precision_score(test_labels['Survived'], test_labels_pred)}\")\n",
    "print(f\"Recall of the model: {recall_score(test_labels['Survived'], test_labels_pred)}\")\n",
    "print(f\"F1 Score of the model: {f1_score(test_labels['Survived'], test_labels_pred)}\")"
   ]
  },
  {
   "cell_type": "markdown",
   "metadata": {},
   "source": [
    "Seems decent enough!"
   ]
  },
  {
   "cell_type": "code",
   "execution_count": 36,
   "metadata": {},
   "outputs": [],
   "source": [
    "df_submission = pd.DataFrame({'PassengerId':test_labels[\"PassengerId\"].to_list(), 'Survived':test_labels_pred})\n",
    "df_submission.to_csv('./datasets/titanic/submission.csv', index = False)"
   ]
  },
  {
   "cell_type": "code",
   "execution_count": 37,
   "metadata": {},
   "outputs": [
    {
     "name": "stdout",
     "output_type": "stream",
     "text": [
      "Successfully submitted to Titanic - Machine Learning from Disaster\n"
     ]
    },
    {
     "name": "stderr",
     "output_type": "stream",
     "text": [
      "\n",
      "  0%|          | 0.00/3.18k [00:00<?, ?B/s]\n",
      "100%|██████████| 3.18k/3.18k [00:00<00:00, 20.9kB/s]\n",
      "100%|██████████| 3.18k/3.18k [00:05<00:00, 634B/s]  \n"
     ]
    }
   ],
   "source": [
    "!kaggle competitions submit -c titanic -f ./datasets/titanic/submission.csv -m \"Model: `SVC Model`, Params: `{'C': 10.0, 'decision_function_shape': 'ovo', 'gamma': 'auto', 'kernel': 'rbf'}`,Accuracy: 0.9354066985645934, Precision: 0.9432624113475178, Recall: 0.875, F1 Score: 0.9078498293515359\""
   ]
  },
  {
   "cell_type": "markdown",
   "metadata": {},
   "source": [
    "4. Build a spam classifier (a more challenging exercise):\n",
    "    * Download examples of spam and ham from Apache SpamAssassin’s public datasets.\n",
    "    * Unzip the datasets and familiarize yourself with the data format.\n",
    "    * Split the datasets into a training set and a test set.\n",
    "    * Write a data preparation pipeline to convert each email into a feature vector. Your preparation pipeline should transform an email into a (sparse) vector that indicates the presence or absence of each possible word. For example, if all emails only ever contain four words, “Hello,” “how,” “are,” “you,” then the email “Hello you Hello Hello you” would be converted into a vector [1, 0, 0, 1] (meaning [“Hello” is present, “how” is absent, “are” is absent, “you” is present]), or [3, 0, 0, 2] if you prefer to count the number of occurrences of each word.<br>\n",
    "\n",
    "You may want to add hyperparameters to your preparation pipeline to control whether or not to strip off email headers, convert each email to lowercase, remove punctuation, replace all URLs with “URL,” replace all numbers with “NUMBER,” or even perform stemming (i.e., trim off word endings; there are Python libraries available to do this). \n",
    "\n",
    "Finally, try out several classifiers and see if you can build a great spam classifier, with both high recall and high precision."
   ]
  },
  {
   "cell_type": "code",
   "execution_count": 1,
   "metadata": {},
   "outputs": [],
   "source": [
    "import tarfile\n",
    "import urllib"
   ]
  },
  {
   "cell_type": "code",
   "execution_count": 11,
   "metadata": {},
   "outputs": [],
   "source": [
    "def fetch_spam_data(ham_url, spam_url, spam_path):\n",
    "    if not os.path.isdir(spam_path):\n",
    "        os.makedirs(spam_path)\n",
    "    for filename, url in ((\"ham.tar.bz2\", ham_url), (\"spam.tar.bz2\", spam_url)):\n",
    "        path = os.path.join(spam_path, filename)\n",
    "        if not os.path.isfile(path):\n",
    "            urllib.request.urlretrieve(url, path)\n",
    "        tar_bz2_file = tarfile.open(path)\n",
    "        tar_bz2_file.extractall(path=spam_path)\n",
    "        tar_bz2_file.close()"
   ]
  },
  {
   "cell_type": "code",
   "execution_count": 12,
   "metadata": {},
   "outputs": [],
   "source": [
    "ham_url = \"https://spamassassin.apache.org/old/publiccorpus/20021010_easy_ham.tar.bz2\"\n",
    "spam_url = \"https://spamassassin.apache.org/old/publiccorpus/20021010_spam.tar.bz2\"\n",
    "spam_path = \"./datasets/spam_dataset\"\n",
    "\n",
    "fetch_spam_data(ham_url, spam_url, spam_path)"
   ]
  },
  {
   "cell_type": "markdown",
   "metadata": {},
   "source": [
    "Now here's something I don't know yet so we'll be taking a small nudge from the solution notebook. Sometimes, to push forward we need inspiration and the courage to recognise our limitations!"
   ]
  },
  {
   "cell_type": "code",
   "execution_count": 1,
   "metadata": {},
   "outputs": [],
   "source": [
    "import email\n",
    "import email.policy\n",
    "\n",
    "def load_email(path_to_email):\n",
    "    with open(path_to_email,\"rb\") as email_file:\n",
    "        return email.message_from_binary_file(email_file, policy=email.policy.default)"
   ]
  },
  {
   "cell_type": "markdown",
   "metadata": {},
   "source": [
    "So now lets construct a list of ham and spam emails with the above function."
   ]
  },
  {
   "cell_type": "code",
   "execution_count": 2,
   "metadata": {},
   "outputs": [
    {
     "data": {
      "text/plain": [
       "(2551, 501)"
      ]
     },
     "execution_count": 2,
     "metadata": {},
     "output_type": "execute_result"
    }
   ],
   "source": [
    "ham_emails = [load_email(f'./datasets/spam_dataset/easy_ham/{email_file}') for email_file in os.listdir('./datasets/spam_dataset/easy_ham')]\n",
    "spam_emails = [load_email(f'./datasets/spam_dataset/spam/{email_file}') for email_file in os.listdir('./datasets/spam_dataset/spam')]\n",
    "\n",
    "len(ham_emails), len(spam_emails)"
   ]
  },
  {
   "cell_type": "markdown",
   "metadata": {},
   "source": [
    "Some emails are actually multipart with their own attachments which in turn could have their own attachments."
   ]
  },
  {
   "cell_type": "code",
   "execution_count": 3,
   "metadata": {},
   "outputs": [],
   "source": [
    "def get_email_structure(email):\n",
    "    if isinstance(email, str):\n",
    "        return email\n",
    "    payload = email.get_payload()\n",
    "    if isinstance(payload, list):\n",
    "        return \"multipart({})\".format(\", \".join([get_email_structure(sub_email) for sub_email in payload]))\n",
    "    else:\n",
    "        return email.get_content_type()"
   ]
  },
  {
   "cell_type": "code",
   "execution_count": 4,
   "metadata": {},
   "outputs": [],
   "source": [
    "from collections import Counter\n",
    "\n",
    "def structures_counter(emails):\n",
    "    structures_count = Counter()\n",
    "    for email in emails:\n",
    "        structure = get_email_structure(email)\n",
    "        structures_count[structure] += 1\n",
    "    return structures_count"
   ]
  },
  {
   "cell_type": "code",
   "execution_count": 5,
   "metadata": {},
   "outputs": [
    {
     "data": {
      "text/plain": [
       "[('text/plain', 2453),\n",
       " ('multipart(text/plain, application/pgp-signature)', 72),\n",
       " ('multipart(text/plain, text/html)', 8),\n",
       " ('multipart(text/plain, text/plain)', 4),\n",
       " ('multipart(text/plain)', 3),\n",
       " ('multipart(text/plain, application/octet-stream)', 2),\n",
       " ('multipart(text/plain, text/enriched)', 1),\n",
       " ('multipart(text/plain, application/ms-tnef, text/plain)', 1),\n",
       " ('multipart(multipart(text/plain, text/plain, text/plain), application/pgp-signature)',\n",
       "  1),\n",
       " ('multipart(text/plain, video/mng)', 1),\n",
       " ('multipart(text/plain, multipart(text/plain))', 1),\n",
       " ('multipart(text/plain, application/x-pkcs7-signature)', 1),\n",
       " ('multipart(text/plain, multipart(text/plain, text/plain), text/rfc822-headers)',\n",
       "  1),\n",
       " ('multipart(text/plain, multipart(text/plain, text/plain), multipart(multipart(text/plain, application/x-pkcs7-signature)))',\n",
       "  1),\n",
       " ('multipart(text/plain, application/x-java-applet)', 1)]"
      ]
     },
     "execution_count": 5,
     "metadata": {},
     "output_type": "execute_result"
    }
   ],
   "source": [
    "structures_counter(ham_emails).most_common()"
   ]
  },
  {
   "cell_type": "code",
   "execution_count": 6,
   "metadata": {},
   "outputs": [
    {
     "data": {
      "text/plain": [
       "[('text/plain', 222),\n",
       " ('text/html', 181),\n",
       " ('multipart(text/plain, text/html)', 45),\n",
       " ('multipart(text/html)', 19),\n",
       " ('multipart(text/plain)', 19),\n",
       " ('multipart(multipart(text/html))', 5),\n",
       " ('multipart(text/plain, image/jpeg)', 3),\n",
       " ('multipart(text/html, application/octet-stream)', 2),\n",
       " ('multipart(text/plain, application/octet-stream)', 1),\n",
       " ('multipart(text/html, text/plain)', 1),\n",
       " ('multipart(multipart(text/html), application/octet-stream, image/jpeg)', 1),\n",
       " ('multipart(multipart(text/plain, text/html), image/gif)', 1),\n",
       " ('multipart/alternative', 1)]"
      ]
     },
     "execution_count": 6,
     "metadata": {},
     "output_type": "execute_result"
    }
   ],
   "source": [
    "structures_counter(spam_emails).most_common()"
   ]
  },
  {
   "cell_type": "markdown",
   "metadata": {},
   "source": [
    "We see a lot more html type emails! One more important step in cleaning will be to clean out the html type emails for which we need to define a function. On the agenda will be:\n",
    "1. Remove all `<head>` type tags\n",
    "2. Replace `<a>` with ' HYPERLINK '\n",
    "3. Remove any other tag\n",
    "4. Remove extra spaces, carriage returns, empty lines\n",
    "5. Remove html entities such as `&gt;`, `&nbsp;`"
   ]
  },
  {
   "cell_type": "code",
   "execution_count": 7,
   "metadata": {},
   "outputs": [],
   "source": [
    "import re\n",
    "from html import unescape\n",
    "import unicodedata\n",
    "\n",
    "def html_to_plain_text(html):\n",
    "    text = re.sub('<head.*?>.*?</head>', '', html, flags=re.M | re.S | re.I)\n",
    "    text = re.sub('<a\\s.*?>', ' HYPERLINK ', text, flags=re.M | re.S | re.I)\n",
    "    text = re.sub('<.*?>', '', text, flags=re.M | re.S)\n",
    "    text = re.sub(r'(\\s*\\n)+', '\\n', text, flags=re.M | re.S)\n",
    "    return unescape(text)"
   ]
  },
  {
   "cell_type": "markdown",
   "metadata": {},
   "source": [
    "Before we do preprocessing, let us first construct our train and test sets"
   ]
  },
  {
   "cell_type": "code",
   "execution_count": 8,
   "metadata": {},
   "outputs": [],
   "source": [
    "import numpy as np\n",
    "from sklearn.model_selection import train_test_split\n",
    "\n",
    "X = np.array(ham_emails + spam_emails, dtype = object)\n",
    "y = np.array([0]*len(ham_emails)+[1]*len(spam_emails))\n",
    "\n",
    "X_train, X_test, y_train, y_test = train_test_split(X, y, test_size = 0.2, random_state = 42)"
   ]
  },
  {
   "cell_type": "code",
   "execution_count": 9,
   "metadata": {},
   "outputs": [],
   "source": [
    "def email_to_text(email):\n",
    "    content = \"\"\n",
    "    for part in email.walk():\n",
    "        if part.get_content_type() not in [\"text/plain\",\"text/html\"]:\n",
    "            continue\n",
    "        try:\n",
    "            part_content = part.get_content()\n",
    "        except: # encoding error\n",
    "            part_content = str(part.get_payload())\n",
    "        if part.get_content_type() == \"text/plain\":\n",
    "            content += part_content\n",
    "        else:\n",
    "            content += html_to_plain_text(part_content)\n",
    "    \n",
    "    return content"
   ]
  },
  {
   "cell_type": "markdown",
   "metadata": {},
   "source": [
    "As instructed in the problem statement, we need to get the word stem from the individual words to reduce the sparsity of the train data. For this we will use the nltk (Natural Language Toolkit)"
   ]
  },
  {
   "cell_type": "code",
   "execution_count": 10,
   "metadata": {},
   "outputs": [],
   "source": [
    "import nltk\n",
    "import urlextract\n",
    "stemmer = nltk.PorterStemmer()"
   ]
  },
  {
   "cell_type": "markdown",
   "metadata": {},
   "source": [
    "We also want to \n",
    "1. Replace all URLs in the text data with \"URL\"\n",
    "2. Might want to convert data to lower case\n",
    "3. Replace numerical data with \"NUMBER\""
   ]
  },
  {
   "cell_type": "markdown",
   "metadata": {},
   "source": [
    "Let us now give final shape to the transformer that will form the first step of our Transformation Pipeline."
   ]
  },
  {
   "cell_type": "code",
   "execution_count": 11,
   "metadata": {},
   "outputs": [],
   "source": [
    "from sklearn.base import TransformerMixin, BaseEstimator\n",
    "\n",
    "class EmailToWordCounter(TransformerMixin, BaseEstimator):\n",
    "    def __init__(self, strip_header = True, lower_case = True, remove_punctuations = True, replace_urls = True, replace_numbers = True, stemming = True):\n",
    "        self.strip_header = strip_header\n",
    "        self.lower_case = lower_case\n",
    "        self.remove_punctuations = remove_punctuations\n",
    "        self.replace_urls = replace_urls\n",
    "        self.replace_numbers = replace_numbers\n",
    "        self.stemming = stemming\n",
    "\n",
    "    def fit(self, X, y = None):\n",
    "        return self\n",
    "\n",
    "    def html_to_plain_text(self, html_data):\n",
    "        \"\"\"\n",
    "        Objectives:\n",
    "        1. Remove headers if strip_header is True\n",
    "        2. Remove 'a' tags and replace with \"HYPERLINK\"\n",
    "        3. Remove all other tags\n",
    "        4. Replace extra whitespaces, newlines\n",
    "        5. Replace escape characters in html such as '&gt;','&nbsp;'\n",
    "        \"\"\"\n",
    "        if self.strip_header == True:\n",
    "            text = re.sub('<head.*?>.*?</head>','',html_data, flags = re.M | re.S | re.I)\n",
    "        else:\n",
    "            text = html_data\n",
    "        text = re.sub('<a\\s.*?>',' HYPERLINK ', text, flags = re.M | re.S | re.I)\n",
    "        text = re.sub('<.*?>', '', text, flags=re.M | re.S)\n",
    "        text = re.sub(r'(\\s*\\n)+', '\\n', text, flags=re.M | re.S)\n",
    "        return unescape(text)\n",
    "    \n",
    "    def email_to_text(self, email):\n",
    "        content = \"\"\n",
    "        for part in email.walk():\n",
    "            if part.get_content_type() not in [\"text/plain\",\"text/html\"]:\n",
    "                continue\n",
    "            try:\n",
    "                part_content = part.get_content()\n",
    "            except:\n",
    "                part_content = str(part.get_payload())\n",
    "            if part.get_content_type() == \"text/plain\":\n",
    "                content += part_content\n",
    "            else:\n",
    "                content += self.html_to_plain_text(part_content)\n",
    "        \n",
    "        return content\n",
    "\n",
    "    def transform(self, X, y = None):\n",
    "        X_transformed = []\n",
    "        for email in X:\n",
    "            # Convert to plain text\n",
    "            text = self.email_to_text(email)\n",
    "\n",
    "            # Convert to lower case if specified\n",
    "            if self.lower_case:\n",
    "                text = text.lower()\n",
    "\n",
    "            # Replace URLs if specified\n",
    "            if self.replace_urls:\n",
    "                url_extractor = urlextract.URLExtract()\n",
    "                urls = list(set(url_extractor.find_urls(text)))\n",
    "                for url in urls:\n",
    "                    text = text.replace(url, \" URL \")\n",
    "            \n",
    "            # Replace numbers by keyword if specified\n",
    "            if self.replace_numbers:\n",
    "                text = re.sub(r'\\d+(?:\\.\\d*)?(?:[eE][+-]?\\d+)?', 'NUMBER', text)\n",
    "\n",
    "            # Remove punctuations if needed\n",
    "            if self.remove_punctuations:\n",
    "                text = re.sub(r'\\W+',' ',text, flags = re.M)\n",
    "                text = text.replace(\"_\", \"\")\n",
    "\n",
    "            # Create a counter of words\n",
    "            word_counts = Counter(text.split())\n",
    "\n",
    "            # If stemming is specified then get word stem and create a modified counter\n",
    "            if self.stemming:\n",
    "                stemmed_word_counts = Counter()\n",
    "                stemmer = nltk.PorterStemmer()\n",
    "                for word, count in word_counts.items():\n",
    "                    stemmed_word = stemmer.stem(word)\n",
    "                    stemmed_word_counts[stemmed_word] += 1\n",
    "                word_counts = stemmed_word_counts\n",
    "            \n",
    "            # Append transformed sequence to result array\n",
    "            X_transformed.append(word_counts)\n",
    "        \n",
    "        return np.array(X_transformed)\n"
   ]
  },
  {
   "cell_type": "code",
   "execution_count": 40,
   "metadata": {},
   "outputs": [
    {
     "data": {
      "text/plain": [
       "array([Counter({'pay': 2, 'look': 2, 'if': 1, 'the': 1, 'creator': 1, 'didnt': 1, 'say': 1, 'you': 1, 'could': 1, 'have': 1, 'it': 1, 'without': 1, 's': 1, 'theft': 1, 'so': 1, 'simpl': 1, 'hell': 1, 'that': 1, 'even': 1, 'in': 1, 'all': 1, 'major': 1, 'holi': 1, 'book': 1, 'wow': 1, 'i': 1, 've': 1, 'got': 1, 'a': 1, 'great': 1, 'idea': 1, 'll': 1, 'hire': 1, 'skywrit': 1, 'to': 1, 'write': 1, 'can': 1, 't': 1, 'at': 1, 'thi': 1, 'then': 1, 'lock': 1, 'up': 1, 'everybodi': 1, 'who': 1, 'and': 1, 'didn': 1, 'fail': 1, 'jesu': 1, 'is': 1, 'on': 1, 'my': 1, 'side': 1, 'url': 1}),\n",
       "       Counter({'look': 2, 'date': 1, 'tue': 1, 'number': 1, 'aug': 1, 'from': 1, 'brent': 1, 'welch': 1, 'panasa': 1, 'com': 1, 'messag': 1, 'id': 1, 'numbervaanumb': 1, 'blackcomb': 1, 'if': 1, 'we': 1, 'are': 1, 'allow': 1, 'to': 1, 'assum': 1, 'or': 1, 'higher': 1, 'which': 1, 'can': 1, 't': 1, 'realli': 1, 'then': 1, 'could': 1, 'add': 1, 'the': 1, 'selecttypein': 1, 'procedur': 1, 'ye': 1, 'i': 1, 'at': 1, 'fix': 1, 'it': 1, 'there': 1, 'but': 1, 'that': 1, 'code': 1, 'is': 1, 'quit': 1, 'gener': 1, 'with': 1, 'almost': 1, 'no': 1, 'understand': 1, 'of': 1, 'what': 1, 'anyth': 1, 'mean': 1, 'so': 1, 'didn': 1, 'think': 1, 'corrupt': 1, 'knowlwedg': 1, 'semant': 1, 'fetch': 1, 'would': 1, 'be': 1, 'best': 1, 'thing': 1, 'do': 1, 'ran': 1, 'out': 1, 'time': 1, 'last': 1, 'night': 1, 'while': 1, 'for': 1, 'a': 1, 'better': 1, 'place': 1, 'similar': 1, 'check': 1, 'have': 1, 'gone': 1, 'directli': 1, 'regexp': 1, 'm': 1, 'not': 1, 'up': 1, 'all': 1, 'latest': 1, 'tcl': 1, 'chang': 1, 'and': 1, 'sure': 1, 'will': 1, 'today': 1, 'keep': 1, 'kre': 1, 'exmh': 1, 'worker': 1, 'mail': 1, 'list': 1, 'redhat': 1, 'url': 1}),\n",
       "       Counter({'think': 2, 'on': 1, 'wed': 1, 'number': 1, 'at': 1, 'matthia': 1, 'saou': 1, 'wrote': 1, 'i': 1, 'll': 1, 'use': 1, 'thi': 1, 'with': 1, 'whatev': 1, 'switch': 1, 'more': 1, 'and': 1, 'where': 1, 'possibl': 1, 'nifti': 1, 've': 1, 'been': 1, 'about': 1, 'that': 1, 'too': 1, 'ani': 1, 'good': 1, 'idea': 1, 'how': 1, 'to': 1, 'document': 1, 'those': 1, 'target': 1, 'descript': 1, 'ill': 1, 'skyttä': 1, 'vill': 1, 'skytta': 1, 'url': 1, 'rpm': 1, 'list': 1, 'mail': 1, 'freshrpm': 1, 'net': 1})],\n",
       "      dtype=object)"
      ]
     },
     "execution_count": 40,
     "metadata": {},
     "output_type": "execute_result"
    }
   ],
   "source": [
    "X_in = X_train[:3]\n",
    "X_in_word_counts = EmailToWordCounter().fit_transform(X_in)\n",
    "X_in_word_counts"
   ]
  },
  {
   "cell_type": "markdown",
   "metadata": {},
   "source": [
    "Now we need to convert these to vectors that we can train our model on. For this we define the following class"
   ]
  },
  {
   "cell_type": "code",
   "execution_count": 47,
   "metadata": {},
   "outputs": [],
   "source": [
    "from scipy.sparse import csr_matrix\n",
    "\n",
    "class WordCounterToVectorTransformer(TransformerMixin, BaseEstimator):\n",
    "    def __init__(self, vocabulary_length = 1000):\n",
    "        self.vocabulary_length = vocabulary_length\n",
    "\n",
    "    def fit(self, X, y = None):\n",
    "        \"\"\"\n",
    "        Get total word count and then pick the most commonly occurring words upto vocabulary length specified and then take those in vocabulary\n",
    "        We set the vocabulary here because the vocabulary shouldn't change between the train and test set. So we will fit_transform on train data\n",
    "        and transform on test data\n",
    "        \"\"\"\n",
    "        total_count = Counter()\n",
    "        for word_count in X:\n",
    "            for word, count in word_count.items():\n",
    "                total_count[word] += count\n",
    "        most_common = total_count.most_common()[:self.vocabulary_length]\n",
    "        self.vocabulary_ = {word:index + 1 for index, (word, count) in enumerate(most_common)}\n",
    "        return self\n",
    "\n",
    "    def transform(self, X, y = None):\n",
    "        \"\"\"\n",
    "        Here we want to construct a matrix of counts of each vocabulary word. \n",
    "        For this we're using the `csr_matrix` method of scipy\n",
    "        csr_matrix((data, (row_ind, col_ind)), [shape=(M, N)])\n",
    "        \"\"\"\n",
    "        rows = []\n",
    "        cols = []\n",
    "        data = []\n",
    "        for row, word_count in enumerate(X):\n",
    "            for word, count in word_count.items():\n",
    "                # capture row corresponding to the current word\n",
    "                rows.append(row)\n",
    "                # capture column in the row corresponding to the current word\n",
    "                # if word is not in vocabulary, it will go to the first index\n",
    "                cols.append(self.vocabulary_.get(word, 0))\n",
    "                # capture the count of the word in the email\n",
    "                # this is essentially what we want to train over\n",
    "                data.append(count)\n",
    "        \n",
    "        return csr_matrix((data, (rows, cols)), shape = (len(X), self.vocabulary_length + 1))"
   ]
  },
  {
   "cell_type": "code",
   "execution_count": 48,
   "metadata": {},
   "outputs": [
    {
     "data": {
      "text/plain": [
       "<3x51 sparse matrix of type '<class 'numpy.intc'>'\n",
       "\twith 90 stored elements in Compressed Sparse Row format>"
      ]
     },
     "execution_count": 48,
     "metadata": {},
     "output_type": "execute_result"
    }
   ],
   "source": [
    "vocab_transformer = WordCounterToVectorTransformer(vocabulary_length = 50)\n",
    "X_vocab_trans = vocab_transformer.fit_transform(X_in_word_counts)\n",
    "X_vocab_trans"
   ]
  },
  {
   "cell_type": "markdown",
   "metadata": {},
   "source": [
    "So seems to be working perfectly!"
   ]
  },
  {
   "cell_type": "code",
   "execution_count": 49,
   "metadata": {},
   "outputs": [],
   "source": [
    "from sklearn.pipeline import Pipeline\n",
    "\n",
    "preprocess_pipeline = Pipeline([\n",
    "    ('email_to_word_counter', EmailToWordCounter()),\n",
    "    ('word_counter_to_vector', WordCounterToVectorTransformer())\n",
    "])\n",
    "\n",
    "X_train_transformed = preprocess_pipeline.fit_transform(X_train)"
   ]
  },
  {
   "cell_type": "code",
   "execution_count": 50,
   "metadata": {},
   "outputs": [],
   "source": [
    "X_test_transformed = preprocess_pipeline.transform(X_test)"
   ]
  },
  {
   "cell_type": "code",
   "execution_count": 54,
   "metadata": {},
   "outputs": [
    {
     "data": {
      "text/html": [
       "<style>#sk-container-id-1 {color: black;background-color: white;}#sk-container-id-1 pre{padding: 0;}#sk-container-id-1 div.sk-toggleable {background-color: white;}#sk-container-id-1 label.sk-toggleable__label {cursor: pointer;display: block;width: 100%;margin-bottom: 0;padding: 0.3em;box-sizing: border-box;text-align: center;}#sk-container-id-1 label.sk-toggleable__label-arrow:before {content: \"▸\";float: left;margin-right: 0.25em;color: #696969;}#sk-container-id-1 label.sk-toggleable__label-arrow:hover:before {color: black;}#sk-container-id-1 div.sk-estimator:hover label.sk-toggleable__label-arrow:before {color: black;}#sk-container-id-1 div.sk-toggleable__content {max-height: 0;max-width: 0;overflow: hidden;text-align: left;background-color: #f0f8ff;}#sk-container-id-1 div.sk-toggleable__content pre {margin: 0.2em;color: black;border-radius: 0.25em;background-color: #f0f8ff;}#sk-container-id-1 input.sk-toggleable__control:checked~div.sk-toggleable__content {max-height: 200px;max-width: 100%;overflow: auto;}#sk-container-id-1 input.sk-toggleable__control:checked~label.sk-toggleable__label-arrow:before {content: \"▾\";}#sk-container-id-1 div.sk-estimator input.sk-toggleable__control:checked~label.sk-toggleable__label {background-color: #d4ebff;}#sk-container-id-1 div.sk-label input.sk-toggleable__control:checked~label.sk-toggleable__label {background-color: #d4ebff;}#sk-container-id-1 input.sk-hidden--visually {border: 0;clip: rect(1px 1px 1px 1px);clip: rect(1px, 1px, 1px, 1px);height: 1px;margin: -1px;overflow: hidden;padding: 0;position: absolute;width: 1px;}#sk-container-id-1 div.sk-estimator {font-family: monospace;background-color: #f0f8ff;border: 1px dotted black;border-radius: 0.25em;box-sizing: border-box;margin-bottom: 0.5em;}#sk-container-id-1 div.sk-estimator:hover {background-color: #d4ebff;}#sk-container-id-1 div.sk-parallel-item::after {content: \"\";width: 100%;border-bottom: 1px solid gray;flex-grow: 1;}#sk-container-id-1 div.sk-label:hover label.sk-toggleable__label {background-color: #d4ebff;}#sk-container-id-1 div.sk-serial::before {content: \"\";position: absolute;border-left: 1px solid gray;box-sizing: border-box;top: 0;bottom: 0;left: 50%;z-index: 0;}#sk-container-id-1 div.sk-serial {display: flex;flex-direction: column;align-items: center;background-color: white;padding-right: 0.2em;padding-left: 0.2em;position: relative;}#sk-container-id-1 div.sk-item {position: relative;z-index: 1;}#sk-container-id-1 div.sk-parallel {display: flex;align-items: stretch;justify-content: center;background-color: white;position: relative;}#sk-container-id-1 div.sk-item::before, #sk-container-id-1 div.sk-parallel-item::before {content: \"\";position: absolute;border-left: 1px solid gray;box-sizing: border-box;top: 0;bottom: 0;left: 50%;z-index: -1;}#sk-container-id-1 div.sk-parallel-item {display: flex;flex-direction: column;z-index: 1;position: relative;background-color: white;}#sk-container-id-1 div.sk-parallel-item:first-child::after {align-self: flex-end;width: 50%;}#sk-container-id-1 div.sk-parallel-item:last-child::after {align-self: flex-start;width: 50%;}#sk-container-id-1 div.sk-parallel-item:only-child::after {width: 0;}#sk-container-id-1 div.sk-dashed-wrapped {border: 1px dashed gray;margin: 0 0.4em 0.5em 0.4em;box-sizing: border-box;padding-bottom: 0.4em;background-color: white;}#sk-container-id-1 div.sk-label label {font-family: monospace;font-weight: bold;display: inline-block;line-height: 1.2em;}#sk-container-id-1 div.sk-label-container {text-align: center;}#sk-container-id-1 div.sk-container {/* jupyter's `normalize.less` sets `[hidden] { display: none; }` but bootstrap.min.css set `[hidden] { display: none !important; }` so we also need the `!important` here to be able to override the default hidden behavior on the sphinx rendered scikit-learn.org. See: https://github.com/scikit-learn/scikit-learn/issues/21755 */display: inline-block !important;position: relative;}#sk-container-id-1 div.sk-text-repr-fallback {display: none;}</style><div id=\"sk-container-id-1\" class=\"sk-top-container\"><div class=\"sk-text-repr-fallback\"><pre>KNeighborsClassifier(n_jobs=-1)</pre><b>In a Jupyter environment, please rerun this cell to show the HTML representation or trust the notebook. <br />On GitHub, the HTML representation is unable to render, please try loading this page with nbviewer.org.</b></div><div class=\"sk-container\" hidden><div class=\"sk-item\"><div class=\"sk-estimator sk-toggleable\"><input class=\"sk-toggleable__control sk-hidden--visually\" id=\"sk-estimator-id-1\" type=\"checkbox\" checked><label for=\"sk-estimator-id-1\" class=\"sk-toggleable__label sk-toggleable__label-arrow\">KNeighborsClassifier</label><div class=\"sk-toggleable__content\"><pre>KNeighborsClassifier(n_jobs=-1)</pre></div></div></div></div></div>"
      ],
      "text/plain": [
       "KNeighborsClassifier(n_jobs=-1)"
      ]
     },
     "execution_count": 54,
     "metadata": {},
     "output_type": "execute_result"
    }
   ],
   "source": [
    "import sklearn\n",
    "knn_clf = sklearn.neighbors.KNeighborsClassifier(n_jobs = -1)\n",
    "knn_clf.fit(X_train_transformed, y_train)"
   ]
  },
  {
   "cell_type": "code",
   "execution_count": 55,
   "metadata": {},
   "outputs": [
    {
     "name": "stdout",
     "output_type": "stream",
     "text": [
      "Accuracy of the classifier: 0.8477905073649754\n"
     ]
    }
   ],
   "source": [
    "from sklearn.metrics import accuracy_score\n",
    "y_test_pred = knn_clf.predict(X_test_transformed)\n",
    "print(f\"Accuracy of the classifier: {accuracy_score(y_test, y_test_pred)}\")"
   ]
  },
  {
   "cell_type": "markdown",
   "metadata": {},
   "source": [
    "We have an accuracy of ~85%. This isn't bad for our first try!"
   ]
  }
 ],
 "metadata": {
  "interpreter": {
   "hash": "285567fa80ea7a4da1fdc430a6aa83fefa514a75f9ee5f7c3e1cc1a18fc51bdd"
  },
  "kernelspec": {
   "display_name": "Python 3.10.4 ('ML_Venv': venv)",
   "language": "python",
   "name": "python3"
  },
  "language_info": {
   "codemirror_mode": {
    "name": "ipython",
    "version": 3
   },
   "file_extension": ".py",
   "mimetype": "text/x-python",
   "name": "python",
   "nbconvert_exporter": "python",
   "pygments_lexer": "ipython3",
   "version": "3.10.4"
  },
  "orig_nbformat": 4
 },
 "nbformat": 4,
 "nbformat_minor": 2
}
