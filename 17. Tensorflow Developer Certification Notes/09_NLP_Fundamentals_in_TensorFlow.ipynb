{
 "cells": [
  {
   "cell_type": "markdown",
   "metadata": {},
   "source": [
    "# 9. NLP Fundamentals in TensorFlow"
   ]
  },
  {
   "cell_type": "markdown",
   "metadata": {},
   "source": [
    "NLP has the goal of deriving information out of natural language (could be sequences, text or speech)\n",
    "\n",
    "Another common term for NLP problems is sequence to sequence problems (seq2seq)"
   ]
  },
  {
   "cell_type": "code",
   "execution_count": 4,
   "metadata": {},
   "outputs": [],
   "source": [
    "import numpy as np\n",
    "import pandas as pd\n",
    "import matplotlib.pyplot as plt\n",
    "import os\n",
    "import tensorflow as tf\n",
    "\n",
    "%matplotlib inline"
   ]
  },
  {
   "cell_type": "markdown",
   "metadata": {},
   "source": [
    "## Example NLP problems\n",
    "\n",
    "1. Classification\n",
    "2. Text Generation\n",
    "3. Machine Translation\n",
    "4. Voice Assistants"
   ]
  },
  {
   "cell_type": "markdown",
   "metadata": {},
   "source": [
    "## Other Sequence Problems\n",
    "\n",
    "1. one-to-one\n",
    "2. one-to-many\n",
    "3. many-to-one\n",
    "4. many-to-many\n",
    "5. many-to-many (synchronised)"
   ]
  },
  {
   "cell_type": "markdown",
   "metadata": {},
   "source": [
    "## What we're going to cover\n",
    "\n",
    "* Dowloading and preparing a text dataset\n",
    "* How to prepare text data for modelling (tokenization and embedding)\n",
    "* Setting up multiple modelling experiments with recurrent neural networks (RNNs)\n",
    "* Building a text feature extraction model using TensorFlow Hub\n",
    "* Finding the most wrong prediction examples\n",
    "* Using a model we've built to make predictions on text from the wild"
   ]
  },
  {
   "cell_type": "markdown",
   "metadata": {},
   "source": [
    "## NLP inputs and outputs\n",
    "\n",
    "Is this tweet a disaster or not?\n",
    "\n",
    "Input                        -> Model -> Disaster/Not Disaster <br>\n",
    "[batch_size, embedding_size]\n",
    "\n",
    "Shape = [None, 512]<br>\n",
    "      Or <br>\n",
    "Shape = [32, 512]"
   ]
  },
  {
   "cell_type": "markdown",
   "metadata": {},
   "source": [
    "1. Turn all data into numbers (neural networks can't handle text/natural language)\n",
    "2. Make sure all of your sequences are the right shape (pad sequences which don't fit)"
   ]
  },
  {
   "cell_type": "markdown",
   "metadata": {},
   "source": [
    "## Recurrent Neural Network\n",
    "\n",
    "|Hyperparameter/Layer type|What does it do?|Typical values|\n",
    "|-------------------------|----------------|--------------|\n",
    "|Input text(s)|Target texts/sequences you'd like to discover patterns in|Whatever you can represent as text or a sequence|\n",
    "|Input layer|Takes in target sequence|input_shape = [batch_size, embedding_size] or [batch_size, sequence_shape]|\n",
    "|Text Vectorization layer|Maps input sequences to numbers|Multiple, can create with `tf.keras.layers.experimental.preprocessing.TextVectorization`|\n",
    "|Embedding|Turns mapping of text vectors to embedding matrix (representation of how words relate)|Multiple, can create with `tf.keras.layers.Embedding`|\n",
    "|RNN cell(s)|Finds pattern in sequences|SimpleRNN, LSTM, GRU|\n",
    "|Hidden activation|Adds non-linearity to learned features (non-straight lines)|Usually Tanh (hyperbolic tangent) (`tf.keras.activations.tanh`)|\n",
    "|Pooling layer|Reduces the dimensionality of learned sequence features (usually for Conv1D models)|Average(`tf.keras.layers.GlobalAveragePooling1D`) or Max (`tf.keras.layers.GlobalMaxPool1D`)|\n",
    "|Fully connected layer|Further refines learned features from recurrent layers|`tf.keras.layers.Dense`|\n",
    "|Output layer|Takes learned features and outputs them in shape of target labels|output_shape = [number_of_classes](eg 2 for disaster,Not Disaster)|\n",
    "|Output activation|Adds non-linearities to output layer|`tf.keras.activations.sigmoid` (binary classification) or `tf.keras.activations.softmax`|\n",
    "\n"
   ]
  },
  {
   "cell_type": "markdown",
   "metadata": {},
   "source": [
    "Code specimen\n",
    "```\n",
    "# Create LSTM Model\n",
    "from tensorflow.keras import layers\n",
    "inputs = layers.Input(shape = (1, ), dtype = \"string\")\n",
    "x = text_vectorizer(inputs) # turn the input sequence into numbers\n",
    "x = embedding(x) # create embedding matrix\n",
    "x = layers.LSTM(64, activation = \"tanh\")(x) # return vector for whole sequence\n",
    "outputs = layers.Dense(1, activation = \"sigmoid\")(x) # create output layer\n",
    "model = tf.keras.Model(inputs, outputs, name = \"LSTM_model\")\n",
    "\n",
    "# Compile the model\n",
    "model.compile(\n",
    "    loss = tf.keras.losses.BinaryCrossentropy(),\n",
    "    optimizer = tf.keras.optimizers.Adam(),\n",
    "    metrics = [\"accuracy\"]\n",
    ")\n",
    "\n",
    "# Fit the model\n",
    "history = model.fit(train_sentences, train_labels, epochs = 5)\n",
    "```"
   ]
  },
  {
   "cell_type": "code",
   "execution_count": 5,
   "metadata": {},
   "outputs": [
    {
     "name": "stdout",
     "output_type": "stream",
     "text": [
      "GPU 0: NVIDIA GeForce GTX 1660 Ti with Max-Q Design (UUID: GPU-98341486-1e20-1f70-bede-e43364f0f019)\n"
     ]
    }
   ],
   "source": [
    "!nvidia-smi -L"
   ]
  },
  {
   "cell_type": "markdown",
   "metadata": {},
   "source": [
    "## Get Helper Functions"
   ]
  },
  {
   "cell_type": "code",
   "execution_count": 5,
   "metadata": {},
   "outputs": [],
   "source": [
    "from extras.helper_functions import unzip_data, create_tensorboard_callback, plot_loss_curves, compare_historys"
   ]
  },
  {
   "cell_type": "markdown",
   "metadata": {},
   "source": [
    "## Get a text dataset\n",
    "\n",
    "The dataset we're going to be using is Kaggle's Introduction to NLP dataset (text samples of Tweets labelled as disaster or not disaster)"
   ]
  },
  {
   "cell_type": "code",
   "execution_count": 6,
   "metadata": {},
   "outputs": [
    {
     "name": "stderr",
     "output_type": "stream",
     "text": [
      "  % Total    % Received % Xferd  Average Speed   Time    Time     Time  Current\n",
      "                                 Dload  Upload   Total   Spent    Left  Speed\n",
      "\n",
      "  0     0    0     0    0     0      0      0 --:--:-- --:--:-- --:--:--     0\n",
      "100  593k  100  593k    0     0  2993k      0 --:--:-- --:--:-- --:--:-- 3010k\n"
     ]
    }
   ],
   "source": [
    "!curl \"https://storage.googleapis.com/ztm_tf_course/nlp_getting_started.zip\" --output \"Data/NLP/nlp_getting_started.zip\"\n",
    "from zipfile import ZipFile\n",
    "if os.path.exists(\"Data/NLP/nlp_getting_started\") == False:\n",
    "    zip_file = ZipFile(\"Data/NLP/nlp_getting_started.zip\")\n",
    "    zip_file.extractall(\"Data/NLP\")"
   ]
  },
  {
   "cell_type": "markdown",
   "metadata": {},
   "source": [
    "## Visualizing a text dataset"
   ]
  },
  {
   "cell_type": "code",
   "execution_count": 6,
   "metadata": {},
   "outputs": [
    {
     "data": {
      "text/html": [
       "<div>\n",
       "<style scoped>\n",
       "    .dataframe tbody tr th:only-of-type {\n",
       "        vertical-align: middle;\n",
       "    }\n",
       "\n",
       "    .dataframe tbody tr th {\n",
       "        vertical-align: top;\n",
       "    }\n",
       "\n",
       "    .dataframe thead th {\n",
       "        text-align: right;\n",
       "    }\n",
       "</style>\n",
       "<table border=\"1\" class=\"dataframe\">\n",
       "  <thead>\n",
       "    <tr style=\"text-align: right;\">\n",
       "      <th></th>\n",
       "      <th>id</th>\n",
       "      <th>keyword</th>\n",
       "      <th>location</th>\n",
       "      <th>text</th>\n",
       "      <th>target</th>\n",
       "    </tr>\n",
       "  </thead>\n",
       "  <tbody>\n",
       "    <tr>\n",
       "      <th>0</th>\n",
       "      <td>1</td>\n",
       "      <td>NaN</td>\n",
       "      <td>NaN</td>\n",
       "      <td>Our Deeds are the Reason of this #earthquake M...</td>\n",
       "      <td>1</td>\n",
       "    </tr>\n",
       "    <tr>\n",
       "      <th>1</th>\n",
       "      <td>4</td>\n",
       "      <td>NaN</td>\n",
       "      <td>NaN</td>\n",
       "      <td>Forest fire near La Ronge Sask. Canada</td>\n",
       "      <td>1</td>\n",
       "    </tr>\n",
       "    <tr>\n",
       "      <th>2</th>\n",
       "      <td>5</td>\n",
       "      <td>NaN</td>\n",
       "      <td>NaN</td>\n",
       "      <td>All residents asked to 'shelter in place' are ...</td>\n",
       "      <td>1</td>\n",
       "    </tr>\n",
       "    <tr>\n",
       "      <th>3</th>\n",
       "      <td>6</td>\n",
       "      <td>NaN</td>\n",
       "      <td>NaN</td>\n",
       "      <td>13,000 people receive #wildfires evacuation or...</td>\n",
       "      <td>1</td>\n",
       "    </tr>\n",
       "    <tr>\n",
       "      <th>4</th>\n",
       "      <td>7</td>\n",
       "      <td>NaN</td>\n",
       "      <td>NaN</td>\n",
       "      <td>Just got sent this photo from Ruby #Alaska as ...</td>\n",
       "      <td>1</td>\n",
       "    </tr>\n",
       "  </tbody>\n",
       "</table>\n",
       "</div>"
      ],
      "text/plain": [
       "   id keyword location                                               text  \\\n",
       "0   1     NaN      NaN  Our Deeds are the Reason of this #earthquake M...   \n",
       "1   4     NaN      NaN             Forest fire near La Ronge Sask. Canada   \n",
       "2   5     NaN      NaN  All residents asked to 'shelter in place' are ...   \n",
       "3   6     NaN      NaN  13,000 people receive #wildfires evacuation or...   \n",
       "4   7     NaN      NaN  Just got sent this photo from Ruby #Alaska as ...   \n",
       "\n",
       "   target  \n",
       "0       1  \n",
       "1       1  \n",
       "2       1  \n",
       "3       1  \n",
       "4       1  "
      ]
     },
     "execution_count": 6,
     "metadata": {},
     "output_type": "execute_result"
    }
   ],
   "source": [
    "train_df = pd.read_csv('Data/NLP/train.csv')\n",
    "test_df = pd.read_csv('Data/NLP/test.csv')\n",
    "\n",
    "train_df.head()"
   ]
  },
  {
   "cell_type": "code",
   "execution_count": 7,
   "metadata": {},
   "outputs": [
    {
     "data": {
      "text/html": [
       "<div>\n",
       "<style scoped>\n",
       "    .dataframe tbody tr th:only-of-type {\n",
       "        vertical-align: middle;\n",
       "    }\n",
       "\n",
       "    .dataframe tbody tr th {\n",
       "        vertical-align: top;\n",
       "    }\n",
       "\n",
       "    .dataframe thead th {\n",
       "        text-align: right;\n",
       "    }\n",
       "</style>\n",
       "<table border=\"1\" class=\"dataframe\">\n",
       "  <thead>\n",
       "    <tr style=\"text-align: right;\">\n",
       "      <th></th>\n",
       "      <th>id</th>\n",
       "      <th>keyword</th>\n",
       "      <th>location</th>\n",
       "      <th>text</th>\n",
       "      <th>target</th>\n",
       "    </tr>\n",
       "  </thead>\n",
       "  <tbody>\n",
       "    <tr>\n",
       "      <th>2644</th>\n",
       "      <td>3796</td>\n",
       "      <td>destruction</td>\n",
       "      <td>NaN</td>\n",
       "      <td>So you have a new weapon that can cause un-ima...</td>\n",
       "      <td>1</td>\n",
       "    </tr>\n",
       "    <tr>\n",
       "      <th>2227</th>\n",
       "      <td>3185</td>\n",
       "      <td>deluge</td>\n",
       "      <td>NaN</td>\n",
       "      <td>The f$&amp;amp;@ing things I do for #GISHWHES Just...</td>\n",
       "      <td>0</td>\n",
       "    </tr>\n",
       "    <tr>\n",
       "      <th>5448</th>\n",
       "      <td>7769</td>\n",
       "      <td>police</td>\n",
       "      <td>UK</td>\n",
       "      <td>DT @georgegalloway: RT @Galloway4Mayor: ÛÏThe...</td>\n",
       "      <td>1</td>\n",
       "    </tr>\n",
       "    <tr>\n",
       "      <th>132</th>\n",
       "      <td>191</td>\n",
       "      <td>aftershock</td>\n",
       "      <td>NaN</td>\n",
       "      <td>Aftershock back to school kick off was great. ...</td>\n",
       "      <td>0</td>\n",
       "    </tr>\n",
       "    <tr>\n",
       "      <th>6845</th>\n",
       "      <td>9810</td>\n",
       "      <td>trauma</td>\n",
       "      <td>Montgomery County, MD</td>\n",
       "      <td>in response to trauma Children of Addicts deve...</td>\n",
       "      <td>0</td>\n",
       "    </tr>\n",
       "  </tbody>\n",
       "</table>\n",
       "</div>"
      ],
      "text/plain": [
       "        id      keyword               location  \\\n",
       "2644  3796  destruction                    NaN   \n",
       "2227  3185       deluge                    NaN   \n",
       "5448  7769       police                     UK   \n",
       "132    191   aftershock                    NaN   \n",
       "6845  9810       trauma  Montgomery County, MD   \n",
       "\n",
       "                                                   text  target  \n",
       "2644  So you have a new weapon that can cause un-ima...       1  \n",
       "2227  The f$&amp;@ing things I do for #GISHWHES Just...       0  \n",
       "5448  DT @georgegalloway: RT @Galloway4Mayor: ÛÏThe...       1  \n",
       "132   Aftershock back to school kick off was great. ...       0  \n",
       "6845  in response to trauma Children of Addicts deve...       0  "
      ]
     },
     "execution_count": 7,
     "metadata": {},
     "output_type": "execute_result"
    }
   ],
   "source": [
    "# Shuffle training dataframe\n",
    "train_df_shuffled = train_df.sample(frac = 1, random_state = 42)\n",
    "train_df_shuffled.head()"
   ]
  },
  {
   "cell_type": "code",
   "execution_count": 9,
   "metadata": {},
   "outputs": [
    {
     "data": {
      "text/html": [
       "<div>\n",
       "<style scoped>\n",
       "    .dataframe tbody tr th:only-of-type {\n",
       "        vertical-align: middle;\n",
       "    }\n",
       "\n",
       "    .dataframe tbody tr th {\n",
       "        vertical-align: top;\n",
       "    }\n",
       "\n",
       "    .dataframe thead th {\n",
       "        text-align: right;\n",
       "    }\n",
       "</style>\n",
       "<table border=\"1\" class=\"dataframe\">\n",
       "  <thead>\n",
       "    <tr style=\"text-align: right;\">\n",
       "      <th></th>\n",
       "      <th>id</th>\n",
       "      <th>keyword</th>\n",
       "      <th>location</th>\n",
       "      <th>text</th>\n",
       "    </tr>\n",
       "  </thead>\n",
       "  <tbody>\n",
       "    <tr>\n",
       "      <th>0</th>\n",
       "      <td>0</td>\n",
       "      <td>NaN</td>\n",
       "      <td>NaN</td>\n",
       "      <td>Just happened a terrible car crash</td>\n",
       "    </tr>\n",
       "    <tr>\n",
       "      <th>1</th>\n",
       "      <td>2</td>\n",
       "      <td>NaN</td>\n",
       "      <td>NaN</td>\n",
       "      <td>Heard about #earthquake is different cities, s...</td>\n",
       "    </tr>\n",
       "    <tr>\n",
       "      <th>2</th>\n",
       "      <td>3</td>\n",
       "      <td>NaN</td>\n",
       "      <td>NaN</td>\n",
       "      <td>there is a forest fire at spot pond, geese are...</td>\n",
       "    </tr>\n",
       "    <tr>\n",
       "      <th>3</th>\n",
       "      <td>9</td>\n",
       "      <td>NaN</td>\n",
       "      <td>NaN</td>\n",
       "      <td>Apocalypse lighting. #Spokane #wildfires</td>\n",
       "    </tr>\n",
       "    <tr>\n",
       "      <th>4</th>\n",
       "      <td>11</td>\n",
       "      <td>NaN</td>\n",
       "      <td>NaN</td>\n",
       "      <td>Typhoon Soudelor kills 28 in China and Taiwan</td>\n",
       "    </tr>\n",
       "  </tbody>\n",
       "</table>\n",
       "</div>"
      ],
      "text/plain": [
       "   id keyword location                                               text\n",
       "0   0     NaN      NaN                 Just happened a terrible car crash\n",
       "1   2     NaN      NaN  Heard about #earthquake is different cities, s...\n",
       "2   3     NaN      NaN  there is a forest fire at spot pond, geese are...\n",
       "3   9     NaN      NaN           Apocalypse lighting. #Spokane #wildfires\n",
       "4  11     NaN      NaN      Typhoon Soudelor kills 28 in China and Taiwan"
      ]
     },
     "execution_count": 9,
     "metadata": {},
     "output_type": "execute_result"
    }
   ],
   "source": [
    "test_df.head()"
   ]
  },
  {
   "cell_type": "code",
   "execution_count": 10,
   "metadata": {},
   "outputs": [
    {
     "data": {
      "text/plain": [
       "0    4342\n",
       "1    3271\n",
       "Name: target, dtype: int64"
      ]
     },
     "execution_count": 10,
     "metadata": {},
     "output_type": "execute_result"
    }
   ],
   "source": [
    "train_df.target.value_counts()"
   ]
  },
  {
   "cell_type": "code",
   "execution_count": 11,
   "metadata": {},
   "outputs": [
    {
     "data": {
      "text/plain": [
       "(7613, 3263)"
      ]
     },
     "execution_count": 11,
     "metadata": {},
     "output_type": "execute_result"
    }
   ],
   "source": [
    "len(train_df), len(test_df)"
   ]
  },
  {
   "cell_type": "code",
   "execution_count": 12,
   "metadata": {},
   "outputs": [
    {
     "name": "stdout",
     "output_type": "stream",
     "text": [
      "Target: 0 (not real disaster)\n",
      "Text:\n",
      "@JustinTrudeau \n",
      "\n",
      "Most respected in world\n",
      "Best job recovery G7 and G20\n",
      "Best led during 2008 world meltdown\n",
      "\n",
      "What exactly have you done ??\n",
      "\n",
      "---\n",
      "\n",
      "Target: 0 (not real disaster)\n",
      "Text:\n",
      "@CiaraMcKendry mine came on the day after my data renewed this month i was traumatised\n",
      "\n",
      "---\n",
      "\n",
      "Target: 0 (not real disaster)\n",
      "Text:\n",
      "@ShipsXAnchors IDEK HOW IS  THERE PEOPLE WHO ACTUALLY THINK HE'S A TERRORIST\n",
      "\n",
      "---\n",
      "\n",
      "Target: 0 (not real disaster)\n",
      "Text:\n",
      "Also in a matter of weeks Amazon's going to be deluged with poorly written indie dystopian fiction about teens escaping from blood farms.\n",
      "\n",
      "---\n",
      "\n",
      "Target: 1 (real disaster)\n",
      "Text:\n",
      "RT patrickjbutler: Excellent damiengayle eyewitness account of Kids Company closure: 'You drop the bomb and expectÛ_ http://t.co/pHH1VmLfoo\n",
      "\n",
      "---\n",
      "\n"
     ]
    }
   ],
   "source": [
    "# Let's visualize some random training examples\n",
    "random_index = np.random.choice(len(train_df), size = 5)\n",
    "random_training_data = train_df_shuffled.iloc[random_index, :]\n",
    "for row in random_training_data[['text','target']].itertuples():\n",
    "    _, text, target = row\n",
    "    print(f'Target: {target}', \"(real disaster)\" if target > 0 else \"(not real disaster)\")\n",
    "    print(f'Text:\\n{text}\\n')\n",
    "    print('---\\n')"
   ]
  },
  {
   "cell_type": "markdown",
   "metadata": {},
   "source": [
    "### Split data into training and validation sets"
   ]
  },
  {
   "cell_type": "code",
   "execution_count": 8,
   "metadata": {},
   "outputs": [],
   "source": [
    "from sklearn.model_selection import train_test_split\n",
    "\n",
    "# Use train_test_split to split training data into training and validation sets\n",
    "train_sentences, val_sentences, train_labels, val_labels = train_test_split(train_df_shuffled['text'].to_numpy(), train_df_shuffled['target'].to_numpy(), test_size = 0.1, random_state = 42)"
   ]
  },
  {
   "cell_type": "code",
   "execution_count": 14,
   "metadata": {},
   "outputs": [
    {
     "data": {
      "text/plain": [
       "(6851, 762, 6851, 762)"
      ]
     },
     "execution_count": 14,
     "metadata": {},
     "output_type": "execute_result"
    }
   ],
   "source": [
    "len(train_sentences), len(val_sentences), len(train_labels), len(val_labels)"
   ]
  },
  {
   "cell_type": "code",
   "execution_count": 15,
   "metadata": {},
   "outputs": [
    {
     "data": {
      "text/plain": [
       "(array(['@mogacola @zamtriossu i screamed after hitting tweet',\n",
       "        'Imagine getting flattened by Kurt Zouma',\n",
       "        '@Gurmeetramrahim #MSGDoing111WelfareWorks Green S welfare force ke appx 65000 members har time disaster victim ki help ke liye tyar hai....',\n",
       "        \"@shakjn @C7 @Magnums im shaking in fear he's gonna hack the planet\",\n",
       "        'Somehow find you and I collide http://t.co/Ee8RpOahPk',\n",
       "        '@EvaHanderek @MarleyKnysh great times until the bus driver held us hostage in the mall parking lot lmfao',\n",
       "        'destroy the free fandom honestly',\n",
       "        'Weapons stolen from National Guard Armory in New Albany still missing #Gunsense http://t.co/lKNU8902JE',\n",
       "        '@wfaaweather Pete when will the heat wave pass? Is it really going to be mid month? Frisco Boy Scouts have a canoe trip in Okla.',\n",
       "        'Patient-reported outcomes in long-term survivors of metastatic colorectal cancer - British Journal of Surgery http://t.co/5Yl4DC1Tqt'],\n",
       "       dtype=object),\n",
       " array([0, 0, 1, 0, 0, 1, 1, 0, 1, 1], dtype=int64))"
      ]
     },
     "execution_count": 15,
     "metadata": {},
     "output_type": "execute_result"
    }
   ],
   "source": [
    "# Check the first 10 samples\n",
    "train_sentences[:10], train_labels[:10]"
   ]
  },
  {
   "cell_type": "markdown",
   "metadata": {},
   "source": [
    "## Converting Text to Numbers"
   ]
  },
  {
   "cell_type": "markdown",
   "metadata": {},
   "source": [
    "### Tokenization vs Embedding\n",
    "\n",
    "Tokenization - straight mapping from token to number (can be modelled but quickly gets too big) <br>\n",
    "Embedding - richer representation of relationships between token (can limit size + can be learned)"
   ]
  },
  {
   "cell_type": "markdown",
   "metadata": {},
   "source": [
    "When dealing with a text problem, one of the first things you'll have to do before you can build a model is to convert your text to numbers.\n",
    "\n",
    "There are a few ways to do this, namely:\n",
    "* Tokenization - direct mapping of token (a token could be a word/character/phoneme) to number\n",
    "* Embedding - create a matrix of feature vector for each token (the size of the feature vector can be defined and this embedding can be learned)"
   ]
  },
  {
   "cell_type": "code",
   "execution_count": 16,
   "metadata": {},
   "outputs": [],
   "source": [
    "from tensorflow.keras.layers.experimental.preprocessing import TextVectorization\n",
    "\n",
    "# Use the default TextVectorization parameters\n",
    "text_vectorizer = TextVectorization(\n",
    "    max_tokens = None, # how many words in the vocabulary (automatically add <OOV>)\n",
    "    standardize = \"lower_and_strip_punctuation\",\n",
    "    split = \"whitespace\",\n",
    "    ngrams = None, # create groups of n-words?\n",
    "    output_mode = 'int', # how to map tokens to numbers\n",
    "    output_sequence_length = None, # pad each sequence to the max length\n",
    "    # pad_to_max_tokens = True\n",
    ")"
   ]
  },
  {
   "cell_type": "code",
   "execution_count": 17,
   "metadata": {},
   "outputs": [
    {
     "data": {
      "text/plain": [
       "15"
      ]
     },
     "execution_count": 17,
     "metadata": {},
     "output_type": "execute_result"
    }
   ],
   "source": [
    "# Find the average number of tokens (words) in the training tweets\n",
    "\n",
    "round(sum([len(i.split()) for i in train_sentences])/len(train_sentences))"
   ]
  },
  {
   "cell_type": "code",
   "execution_count": 18,
   "metadata": {},
   "outputs": [],
   "source": [
    "# Setup text vectorization variables\n",
    "max_vocab_length = 10000 # max number of words to have in our vocabulary\n",
    "max_length = 15 # max length our sequences will be (eg how many words from a Tweet does a model see?)"
   ]
  },
  {
   "cell_type": "code",
   "execution_count": 19,
   "metadata": {},
   "outputs": [],
   "source": [
    "text_vectorizer = TextVectorization(max_tokens=max_vocab_length,\n",
    "                                    output_mode = 'int',\n",
    "                                    output_sequence_length = max_length)"
   ]
  },
  {
   "cell_type": "code",
   "execution_count": 20,
   "metadata": {},
   "outputs": [],
   "source": [
    "# Fit the text vectorizer to the training text\n",
    "text_vectorizer.adapt(train_sentences)"
   ]
  },
  {
   "cell_type": "code",
   "execution_count": 21,
   "metadata": {},
   "outputs": [
    {
     "data": {
      "text/plain": [
       "<tf.Tensor: shape=(1, 15), dtype=int64, numpy=\n",
       "array([[264,   3, 232,   4,  13, 698,   0,   0,   0,   0,   0,   0,   0,\n",
       "          0,   0]], dtype=int64)>"
      ]
     },
     "execution_count": 21,
     "metadata": {},
     "output_type": "execute_result"
    }
   ],
   "source": [
    "# Create a sample sentence and tokenizer it\n",
    "sample_sentence = \"There's a flood in my street!\"\n",
    "text_vectorizer([sample_sentence])"
   ]
  },
  {
   "cell_type": "code",
   "execution_count": 22,
   "metadata": {},
   "outputs": [
    {
     "name": "stdout",
     "output_type": "stream",
     "text": [
      "Original Sentence:\n",
      "@pmarca content is held hostage by network due to affiliation fees.\n",
      "\n",
      "Vectorized version:\n",
      "[[4898  226    9 2095  509   18 2843  550    5 6253    1    0    0    0\n",
      "     0]]\n"
     ]
    }
   ],
   "source": [
    "# Choose a random sentence from the training dataset and tokenize it\n",
    "import random\n",
    "random_sentence = random.choice(train_sentences)\n",
    "print(f'Original Sentence:\\n{random_sentence}\\n\\nVectorized version:\\n{text_vectorizer([random_sentence])}')"
   ]
  },
  {
   "cell_type": "code",
   "execution_count": 23,
   "metadata": {},
   "outputs": [
    {
     "name": "stdout",
     "output_type": "stream",
     "text": [
      "Number of words in vocab: 10000\n",
      "Most common words: ['', '[UNK]', 'the', 'a', 'in']\n",
      "Least common words: ['pages', 'paeds', 'pads', 'padres', 'paddytomlinson1']\n"
     ]
    }
   ],
   "source": [
    "# Get the unique words in the vocabulary\n",
    "words_in_vocab = text_vectorizer.get_vocabulary()\n",
    "top_5_words = words_in_vocab[:5] # get the most common words\n",
    "bottom_5_words = words_in_vocab[-5:] # get the least common words\n",
    "print(f'Number of words in vocab: {len(words_in_vocab)}')\n",
    "print(f'Most common words: {top_5_words}')\n",
    "print(f'Least common words: {bottom_5_words}')"
   ]
  },
  {
   "cell_type": "markdown",
   "metadata": {},
   "source": [
    "### Creating an Embedding using an Embedding Layer\n",
    "\n",
    "To make our embedding, we're going to use TensorFlow's embedding layer: https://www.tensorflow.org/api_docs/python/tf/keras/layers/Embedding\n",
    "\n",
    "Word embedding is a rich numerical form of representing data\n",
    "\n",
    "The parameters we care most about for our embedding layer:\n",
    "1. `input_dim` - the size of our vocabulary\n",
    "2. `output_dim` - the size of the output embedding vector, for example a value of 100 would mean each token gets represented by a vector 100 long\n",
    "3. `input_length` - length of the sequences being passed to the embedding layer"
   ]
  },
  {
   "cell_type": "code",
   "execution_count": 24,
   "metadata": {},
   "outputs": [
    {
     "data": {
      "text/plain": [
       "<keras.layers.core.embedding.Embedding at 0x1eb8512ead0>"
      ]
     },
     "execution_count": 24,
     "metadata": {},
     "output_type": "execute_result"
    }
   ],
   "source": [
    "embedding = tf.keras.layers.Embedding(input_dim = max_vocab_length,\n",
    "                                      output_dim = 128,\n",
    "                                      embeddings_initializer = \"uniform\",\n",
    "                                      input_length = max_length)\n",
    "\n",
    "embedding"
   ]
  },
  {
   "cell_type": "code",
   "execution_count": 25,
   "metadata": {},
   "outputs": [
    {
     "name": "stdout",
     "output_type": "stream",
     "text": [
      "Original text:\n",
      "The sky's clear the storm has passed but it's still raining in my head\n",
      "Embedded version:\n",
      "[[[ 0.00279937  0.0355063  -0.04118579 ... -0.03907752  0.02705273\n",
      "   -0.01962816]\n",
      "  [ 0.03311589 -0.02794447 -0.02736843 ... -0.00380931 -0.01797966\n",
      "   -0.03978313]\n",
      "  [ 0.0486218   0.00851446  0.03721601 ...  0.02197121  0.02534484\n",
      "   -0.04232826]\n",
      "  ...\n",
      "  [ 0.04785799 -0.01092771  0.04639633 ...  0.02568508 -0.01132439\n",
      "   -0.03527528]\n",
      "  [-0.02325161  0.04889092 -0.02444953 ... -0.0239886  -0.02439253\n",
      "   -0.01202072]\n",
      "  [-0.0090519  -0.03542393 -0.04583086 ...  0.02266473  0.02870915\n",
      "   -0.04747576]]]\n"
     ]
    }
   ],
   "source": [
    "random_sentence  = random.choice(train_sentences)\n",
    "print(f'Original text:\\n{random_sentence}\\nEmbedded version:\\n{embedding(text_vectorizer([random_sentence]))}')\n",
    "sample_embed = embedding(text_vectorizer([random_sentence]))"
   ]
  },
  {
   "cell_type": "code",
   "execution_count": 26,
   "metadata": {},
   "outputs": [
    {
     "data": {
      "text/plain": [
       "(<tf.Tensor: shape=(128,), dtype=float32, numpy=\n",
       " array([ 2.79936939e-03,  3.55062969e-02, -4.11857851e-02,  3.33058499e-02,\n",
       "         3.63256969e-02, -6.61966950e-03, -2.70445272e-03,  4.87485789e-02,\n",
       "        -7.98000023e-03,  1.90456621e-02, -9.33654234e-03,  2.34508626e-02,\n",
       "         1.26461126e-02,  4.10659052e-02,  4.39907201e-02,  2.23679468e-03,\n",
       "         1.62627548e-03, -3.68756056e-02, -2.81672552e-03,  1.53350830e-03,\n",
       "         2.21387483e-02,  3.73386256e-02,  1.69336088e-02, -7.82287121e-03,\n",
       "         2.59799883e-03, -2.55872961e-02,  3.69577296e-02, -1.97630879e-02,\n",
       "         4.85933460e-02, -2.77946237e-02, -2.42368579e-02, -8.13638046e-03,\n",
       "        -4.77114208e-02,  2.54055001e-02, -2.99228188e-02,  3.77452113e-02,\n",
       "         2.99293920e-03, -8.01435858e-03,  2.92241573e-04, -2.38957256e-03,\n",
       "        -2.37070024e-04, -3.55524197e-02,  1.02516785e-02,  2.73119546e-02,\n",
       "        -4.94473353e-02,  3.19096334e-02, -5.20209223e-03,  3.25195678e-02,\n",
       "         1.55819766e-02,  3.09960954e-02, -4.25738096e-02,  1.01162903e-02,\n",
       "        -1.31498463e-02,  1.83252580e-02, -1.67998299e-02,  4.52703126e-02,\n",
       "        -4.19786684e-02,  1.52672864e-02,  3.02675702e-02,  4.54816706e-02,\n",
       "        -4.13787253e-02, -6.17166609e-03,  4.97973077e-02,  3.14787030e-06,\n",
       "         1.78461187e-02,  3.78692038e-02,  2.99683698e-02,  3.92218493e-02,\n",
       "         2.35011317e-02,  2.57860459e-02, -3.29187512e-02, -2.94565093e-02,\n",
       "        -2.18906403e-02,  2.50460021e-02, -1.65033340e-02, -4.95595448e-02,\n",
       "         1.37138478e-02,  4.09668349e-02, -3.49421129e-02, -1.64065734e-02,\n",
       "        -9.68114287e-03,  9.98068973e-03, -2.52711661e-02,  2.05057748e-02,\n",
       "         3.39301936e-02,  1.91218890e-02, -3.03394441e-02,  7.51230866e-03,\n",
       "        -2.51698494e-02,  4.92145084e-02,  4.42992523e-03, -8.80847126e-03,\n",
       "        -3.69758122e-02,  6.00050762e-03,  6.04452938e-03,  2.88507231e-02,\n",
       "        -1.76668391e-02, -4.26839590e-02,  1.51282288e-02, -2.51703151e-02,\n",
       "        -4.59665321e-02, -3.43547352e-02, -4.63903435e-02,  4.70316671e-02,\n",
       "        -4.86924313e-02,  3.84575836e-02, -1.51181445e-02, -1.03038661e-02,\n",
       "         2.67437436e-02, -3.80101092e-02,  3.70402671e-02,  3.36399935e-02,\n",
       "        -3.97259481e-02,  5.27509302e-03,  2.43103616e-02,  2.66795233e-03,\n",
       "         1.06188767e-02, -1.39767751e-02, -3.88461128e-02,  7.00967386e-03,\n",
       "         1.70383565e-02, -2.34835390e-02, -1.86346285e-02,  9.64792818e-03,\n",
       "         2.90697850e-02, -3.90775204e-02,  2.70527340e-02, -1.96281560e-02],\n",
       "       dtype=float32)>,\n",
       " TensorShape([128]),\n",
       " \"The sky's clear the storm has passed but it's still raining in my head\")"
      ]
     },
     "execution_count": 26,
     "metadata": {},
     "output_type": "execute_result"
    }
   ],
   "source": [
    "# Check out a single token's embedding\n",
    "sample_embed[0][0], sample_embed[0][0].shape, random_sentence"
   ]
  },
  {
   "cell_type": "markdown",
   "metadata": {},
   "source": [
    "## Modelling a text dataset (and running a series of experiments)\n",
    "\n",
    "|Experiment Number|Model|\n",
    "|-----------------|-----|\n",
    "|0|Naive Bayes with TF-IDF encoder (baseline) [Sklearn ML Map](https://scikit-learn.org/stable/tutorial/machine_learning_map/index.html)|\n",
    "|1|Feed-forward neural network (dense model)|\n",
    "|2|LSTM (RNN)|\n",
    "|3|GRU (RNN)|\n",
    "|4|Bidirectional-LSTM (RNN)|\n",
    "|5|1D Convolutional Neural Network|\n",
    "|6|TensorFlow Hub Pretrained Feature Extractor|\n",
    "|7|TensorFlow Hub Pretrained Feature Extractor (10% of data)|"
   ]
  },
  {
   "cell_type": "markdown",
   "metadata": {},
   "source": [
    "### Model 0: Getting a baseline\n",
    "\n",
    "As with all machine learning modelling experiments, its important to create a baseline so we've got a benchmark for future experiments to build upon.\n",
    "\n",
    "To create our baseline, we'll use Sklearn's Multinomial Naive Bayes using the TF-IDF formula to convert our words to numbers.\n",
    "\n",
    "> Its common practice to use non-DL algorithms as a baseline because of their speed and then later using DL to see if you can improve upon them."
   ]
  },
  {
   "cell_type": "code",
   "execution_count": 40,
   "metadata": {},
   "outputs": [
    {
     "data": {
      "text/html": [
       "<style>#sk-container-id-1 {color: black;background-color: white;}#sk-container-id-1 pre{padding: 0;}#sk-container-id-1 div.sk-toggleable {background-color: white;}#sk-container-id-1 label.sk-toggleable__label {cursor: pointer;display: block;width: 100%;margin-bottom: 0;padding: 0.3em;box-sizing: border-box;text-align: center;}#sk-container-id-1 label.sk-toggleable__label-arrow:before {content: \"▸\";float: left;margin-right: 0.25em;color: #696969;}#sk-container-id-1 label.sk-toggleable__label-arrow:hover:before {color: black;}#sk-container-id-1 div.sk-estimator:hover label.sk-toggleable__label-arrow:before {color: black;}#sk-container-id-1 div.sk-toggleable__content {max-height: 0;max-width: 0;overflow: hidden;text-align: left;background-color: #f0f8ff;}#sk-container-id-1 div.sk-toggleable__content pre {margin: 0.2em;color: black;border-radius: 0.25em;background-color: #f0f8ff;}#sk-container-id-1 input.sk-toggleable__control:checked~div.sk-toggleable__content {max-height: 200px;max-width: 100%;overflow: auto;}#sk-container-id-1 input.sk-toggleable__control:checked~label.sk-toggleable__label-arrow:before {content: \"▾\";}#sk-container-id-1 div.sk-estimator input.sk-toggleable__control:checked~label.sk-toggleable__label {background-color: #d4ebff;}#sk-container-id-1 div.sk-label input.sk-toggleable__control:checked~label.sk-toggleable__label {background-color: #d4ebff;}#sk-container-id-1 input.sk-hidden--visually {border: 0;clip: rect(1px 1px 1px 1px);clip: rect(1px, 1px, 1px, 1px);height: 1px;margin: -1px;overflow: hidden;padding: 0;position: absolute;width: 1px;}#sk-container-id-1 div.sk-estimator {font-family: monospace;background-color: #f0f8ff;border: 1px dotted black;border-radius: 0.25em;box-sizing: border-box;margin-bottom: 0.5em;}#sk-container-id-1 div.sk-estimator:hover {background-color: #d4ebff;}#sk-container-id-1 div.sk-parallel-item::after {content: \"\";width: 100%;border-bottom: 1px solid gray;flex-grow: 1;}#sk-container-id-1 div.sk-label:hover label.sk-toggleable__label {background-color: #d4ebff;}#sk-container-id-1 div.sk-serial::before {content: \"\";position: absolute;border-left: 1px solid gray;box-sizing: border-box;top: 0;bottom: 0;left: 50%;z-index: 0;}#sk-container-id-1 div.sk-serial {display: flex;flex-direction: column;align-items: center;background-color: white;padding-right: 0.2em;padding-left: 0.2em;position: relative;}#sk-container-id-1 div.sk-item {position: relative;z-index: 1;}#sk-container-id-1 div.sk-parallel {display: flex;align-items: stretch;justify-content: center;background-color: white;position: relative;}#sk-container-id-1 div.sk-item::before, #sk-container-id-1 div.sk-parallel-item::before {content: \"\";position: absolute;border-left: 1px solid gray;box-sizing: border-box;top: 0;bottom: 0;left: 50%;z-index: -1;}#sk-container-id-1 div.sk-parallel-item {display: flex;flex-direction: column;z-index: 1;position: relative;background-color: white;}#sk-container-id-1 div.sk-parallel-item:first-child::after {align-self: flex-end;width: 50%;}#sk-container-id-1 div.sk-parallel-item:last-child::after {align-self: flex-start;width: 50%;}#sk-container-id-1 div.sk-parallel-item:only-child::after {width: 0;}#sk-container-id-1 div.sk-dashed-wrapped {border: 1px dashed gray;margin: 0 0.4em 0.5em 0.4em;box-sizing: border-box;padding-bottom: 0.4em;background-color: white;}#sk-container-id-1 div.sk-label label {font-family: monospace;font-weight: bold;display: inline-block;line-height: 1.2em;}#sk-container-id-1 div.sk-label-container {text-align: center;}#sk-container-id-1 div.sk-container {/* jupyter's `normalize.less` sets `[hidden] { display: none; }` but bootstrap.min.css set `[hidden] { display: none !important; }` so we also need the `!important` here to be able to override the default hidden behavior on the sphinx rendered scikit-learn.org. See: https://github.com/scikit-learn/scikit-learn/issues/21755 */display: inline-block !important;position: relative;}#sk-container-id-1 div.sk-text-repr-fallback {display: none;}</style><div id=\"sk-container-id-1\" class=\"sk-top-container\"><div class=\"sk-text-repr-fallback\"><pre>Pipeline(steps=[(&#x27;tfidf&#x27;, TfidfVectorizer()), (&#x27;clf&#x27;, MultinomialNB())])</pre><b>In a Jupyter environment, please rerun this cell to show the HTML representation or trust the notebook. <br />On GitHub, the HTML representation is unable to render, please try loading this page with nbviewer.org.</b></div><div class=\"sk-container\" hidden><div class=\"sk-item sk-dashed-wrapped\"><div class=\"sk-label-container\"><div class=\"sk-label sk-toggleable\"><input class=\"sk-toggleable__control sk-hidden--visually\" id=\"sk-estimator-id-1\" type=\"checkbox\" ><label for=\"sk-estimator-id-1\" class=\"sk-toggleable__label sk-toggleable__label-arrow\">Pipeline</label><div class=\"sk-toggleable__content\"><pre>Pipeline(steps=[(&#x27;tfidf&#x27;, TfidfVectorizer()), (&#x27;clf&#x27;, MultinomialNB())])</pre></div></div></div><div class=\"sk-serial\"><div class=\"sk-item\"><div class=\"sk-estimator sk-toggleable\"><input class=\"sk-toggleable__control sk-hidden--visually\" id=\"sk-estimator-id-2\" type=\"checkbox\" ><label for=\"sk-estimator-id-2\" class=\"sk-toggleable__label sk-toggleable__label-arrow\">TfidfVectorizer</label><div class=\"sk-toggleable__content\"><pre>TfidfVectorizer()</pre></div></div></div><div class=\"sk-item\"><div class=\"sk-estimator sk-toggleable\"><input class=\"sk-toggleable__control sk-hidden--visually\" id=\"sk-estimator-id-3\" type=\"checkbox\" ><label for=\"sk-estimator-id-3\" class=\"sk-toggleable__label sk-toggleable__label-arrow\">MultinomialNB</label><div class=\"sk-toggleable__content\"><pre>MultinomialNB()</pre></div></div></div></div></div></div></div>"
      ],
      "text/plain": [
       "Pipeline(steps=[('tfidf', TfidfVectorizer()), ('clf', MultinomialNB())])"
      ]
     },
     "execution_count": 40,
     "metadata": {},
     "output_type": "execute_result"
    }
   ],
   "source": [
    "from sklearn.feature_extraction.text import TfidfVectorizer\n",
    "from sklearn.naive_bayes import MultinomialNB\n",
    "\n",
    "from sklearn.pipeline import Pipeline\n",
    "\n",
    "model_0 = Pipeline(\n",
    "    [\n",
    "        (\"tfidf\", TfidfVectorizer()), # convert words to numbers using tfidf\n",
    "        ('clf', MultinomialNB()) # model the text\n",
    "    ]\n",
    ")\n",
    "\n",
    "# Fit the pipeline to the training data\n",
    "model_0.fit(train_sentences, train_labels)"
   ]
  },
  {
   "cell_type": "code",
   "execution_count": 41,
   "metadata": {},
   "outputs": [
    {
     "name": "stdout",
     "output_type": "stream",
     "text": [
      "Our baseline model achieves an accuracy of: 79.27%\n"
     ]
    }
   ],
   "source": [
    "baseline_score = model_0.score(val_sentences, val_labels)\n",
    "print(f'Our baseline model achieves an accuracy of: {baseline_score*100:.2f}%')"
   ]
  },
  {
   "cell_type": "code",
   "execution_count": 42,
   "metadata": {},
   "outputs": [],
   "source": [
    "# Make predictions\n",
    "baseline_preds = model_0.predict(val_sentences)"
   ]
  },
  {
   "cell_type": "markdown",
   "metadata": {},
   "source": [
    "### Creating an evaluation function for our model experiments\n",
    "\n",
    "We could evaluate all of our model's predictions with different metrics every time. However, this will be cumbersome and could easily be fixed with a function.\n",
    "\n",
    "Let's create one to compare our model's predictions with the truth labels using the following metrics:\n",
    "* Accuracy\n",
    "* Precision\n",
    "* Recall\n",
    "* F1-score\n",
    "\n",
    "> For a deep overview of many different evaluation methods, see the sklearn documentation: https://scikit-learn.org/stable/modules/model_evaluation.html\n",
    "\n",
    "Use the `precision_recall_fscore_support` for getting all the metrics via one function call"
   ]
  },
  {
   "cell_type": "code",
   "execution_count": 44,
   "metadata": {},
   "outputs": [],
   "source": [
    "from sklearn.metrics import precision_score, recall_score, f1_score, accuracy_score\n",
    "from extras.helper_functions import make_confusion_matrix\n",
    "\n",
    "def evaluate_predictions(y_true, y_pred):\n",
    "    \"\"\"\n",
    "    Calculates model accuracy, precision, recall and f1 score of a binary classification model\n",
    "    \"\"\"\n",
    "    accuracy = accuracy_score(y_true, y_pred)\n",
    "    precision = precision_score(y_true, y_pred)\n",
    "    recall = recall_score(y_true, y_pred)\n",
    "    f1 = f1_score(y_true, y_pred)\n",
    "    print(f'Accuracy: {accuracy}\\nPrecision: {precision}\\nRecall: {recall}\\nF1-Score: {f1}')\n",
    "    make_confusion_matrix(y_true, y_pred, classes = [\"Not Disaster\", \"Disaster\"])\n",
    "    return {\"Accuracy\":accuracy,\"Precision\": precision, \"Recall\": recall, \"F1_Score\":f1}"
   ]
  },
  {
   "cell_type": "code",
   "execution_count": 45,
   "metadata": {},
   "outputs": [
    {
     "name": "stdout",
     "output_type": "stream",
     "text": [
      "Accuracy: 0.7926509186351706\n",
      "Precision: 0.8861788617886179\n",
      "Recall: 0.6264367816091954\n",
      "F1-Score: 0.734006734006734\n"
     ]
    },
    {
     "data": {
      "image/png": "[encoded data removed]",
      "text/plain": [
       "<Figure size 720x720 with 2 Axes>"
      ]
     },
     "metadata": {
      "needs_background": "light"
     },
     "output_type": "display_data"
    }
   ],
   "source": [
    "baseline_results = evaluate_predictions(val_labels, baseline_preds)"
   ]
  },
  {
   "cell_type": "markdown",
   "metadata": {},
   "source": [
    "### Model 1: Feed-forward neural network (dense model)\n"
   ]
  },
  {
   "cell_type": "code",
   "execution_count": 28,
   "metadata": {},
   "outputs": [],
   "source": [
    "# Create a tensorboard callback (need to create a new one for each model)\n",
    "\n",
    "from extras.helper_functions import create_tensorboard_callback\n",
    "\n",
    "# Create a directory to save Tensorboard logs\n",
    "SAVE_DIR = \"TensorBoard/NLP\""
   ]
  },
  {
   "cell_type": "code",
   "execution_count": 68,
   "metadata": {},
   "outputs": [],
   "source": [
    "# Build model with the Functional API\n",
    "\n",
    "inputs = tf.keras.layers.Input(shape = (1,), dtype = tf.string)\n",
    "x = text_vectorizer(inputs) # turn the input text into numbers\n",
    "x = embedding(x) # turn numbers into word embeddings\n",
    "# x = tf.keras.layers.Flatten(name = \"flatten_layer\")(x)\n",
    "# x = tf.keras.layers.GlobalMaxPool1D(name = \"max_pooling_1d\")(x)\n",
    "x = tf.keras.layers.GlobalAveragePooling1D(name = \"global_average_pooling\")(x)\n",
    "outputs = tf.keras.layers.Dense(1, activation = \"sigmoid\")(x)\n",
    "model_1 = tf.keras.Model(inputs, outputs, name = 'model_1')"
   ]
  },
  {
   "cell_type": "code",
   "execution_count": 69,
   "metadata": {},
   "outputs": [
    {
     "name": "stdout",
     "output_type": "stream",
     "text": [
      "Model: \"model_1\"\n",
      "_________________________________________________________________\n",
      " Layer (type)                Output Shape              Param #   \n",
      "=================================================================\n",
      " input_5 (InputLayer)        [(None, 1)]               0         \n",
      "                                                                 \n",
      " text_vectorization_2 (TextV  (None, 15)               0         \n",
      " ectorization)                                                   \n",
      "                                                                 \n",
      " embedding_1 (Embedding)     (None, 15, 128)           1280000   \n",
      "                                                                 \n",
      " global_average_pooling (Glo  (None, 128)              0         \n",
      " balAveragePooling1D)                                            \n",
      "                                                                 \n",
      " dense_2 (Dense)             (None, 1)                 129       \n",
      "                                                                 \n",
      "=================================================================\n",
      "Total params: 1,280,129\n",
      "Trainable params: 1,280,129\n",
      "Non-trainable params: 0\n",
      "_________________________________________________________________\n"
     ]
    }
   ],
   "source": [
    "model_1.summary()"
   ]
  },
  {
   "cell_type": "code",
   "execution_count": 70,
   "metadata": {},
   "outputs": [],
   "source": [
    "model_1.compile(\n",
    "    loss = tf.keras.losses.BinaryCrossentropy(),\n",
    "    optimizer = tf.keras.optimizers.Adam(),\n",
    "    metrics = [\"accuracy\"]\n",
    ")"
   ]
  },
  {
   "cell_type": "code",
   "execution_count": 71,
   "metadata": {},
   "outputs": [
    {
     "name": "stdout",
     "output_type": "stream",
     "text": [
      "Saving TensorBoard log files to: TensorBoard/NLP/model_1_dense/20220713-231825\n",
      "Epoch 1/5\n",
      "215/215 [==============================] - 7s 25ms/step - loss: 0.5753 - accuracy: 0.7717 - val_loss: 0.5289 - val_accuracy: 0.7703\n",
      "Epoch 2/5\n",
      "215/215 [==============================] - 5s 23ms/step - loss: 0.4108 - accuracy: 0.8443 - val_loss: 0.4661 - val_accuracy: 0.7940\n",
      "Epoch 3/5\n",
      "215/215 [==============================] - 5s 23ms/step - loss: 0.3254 - accuracy: 0.8739 - val_loss: 0.4552 - val_accuracy: 0.7900\n",
      "Epoch 4/5\n",
      "215/215 [==============================] - 5s 21ms/step - loss: 0.2696 - accuracy: 0.9012 - val_loss: 0.4654 - val_accuracy: 0.7835\n",
      "Epoch 5/5\n",
      "215/215 [==============================] - 5s 21ms/step - loss: 0.2280 - accuracy: 0.9183 - val_loss: 0.4829 - val_accuracy: 0.7835\n"
     ]
    }
   ],
   "source": [
    "history_model_1 = model_1.fit(\n",
    "    x = train_sentences,\n",
    "    y = train_labels,\n",
    "    epochs = 5,\n",
    "    validation_data = (val_sentences, val_labels),\n",
    "    callbacks = [create_tensorboard_callback(SAVE_DIR, 'model_1_dense')]\n",
    ")"
   ]
  },
  {
   "cell_type": "code",
   "execution_count": 74,
   "metadata": {},
   "outputs": [
    {
     "name": "stdout",
     "output_type": "stream",
     "text": [
      "24/24 [==============================] - 0s 13ms/step - loss: 0.4829 - accuracy: 0.7835\n"
     ]
    },
    {
     "data": {
      "text/plain": [
       "[0.48294728994369507, 0.7834645509719849]"
      ]
     },
     "execution_count": 74,
     "metadata": {},
     "output_type": "execute_result"
    }
   ],
   "source": [
    "results_model_1 = model_1.evaluate(val_sentences, val_labels)\n",
    "results_model_1"
   ]
  },
  {
   "cell_type": "code",
   "execution_count": 75,
   "metadata": {},
   "outputs": [
    {
     "name": "stdout",
     "output_type": "stream",
     "text": [
      "24/24 [==============================] - 0s 9ms/step\n"
     ]
    },
    {
     "data": {
      "text/plain": [
       "(762, 1)"
      ]
     },
     "execution_count": 75,
     "metadata": {},
     "output_type": "execute_result"
    }
   ],
   "source": [
    "model_preds = model_1.predict(val_sentences)\n",
    "model_preds.shape"
   ]
  },
  {
   "cell_type": "code",
   "execution_count": 78,
   "metadata": {},
   "outputs": [
    {
     "data": {
      "text/plain": [
       "<tf.Tensor: shape=(10,), dtype=float32, numpy=array([0., 1., 1., 0., 0., 1., 1., 1., 1., 0.], dtype=float32)>"
      ]
     },
     "execution_count": 78,
     "metadata": {},
     "output_type": "execute_result"
    }
   ],
   "source": [
    "pred_logits = tf.squeeze(tf.round(model_preds))\n",
    "pred_logits[:10]"
   ]
  },
  {
   "cell_type": "code",
   "execution_count": 80,
   "metadata": {},
   "outputs": [
    {
     "name": "stdout",
     "output_type": "stream",
     "text": [
      "Accuracy: 0.7834645669291339\n",
      "Precision: 0.8144329896907216\n",
      "Recall: 0.6810344827586207\n",
      "F1-Score: 0.7417840375586854\n"
     ]
    },
    {
     "data": {
      "image/png": "[encoded data removed]",
      "text/plain": [
       "<Figure size 720x720 with 2 Axes>"
      ]
     },
     "metadata": {
      "needs_background": "light"
     },
     "output_type": "display_data"
    }
   ],
   "source": [
    "model_1_results = evaluate_predictions(val_labels, pred_logits)"
   ]
  },
  {
   "cell_type": "markdown",
   "metadata": {},
   "source": [
    "## Visualising model's learned embeddings"
   ]
  },
  {
   "cell_type": "code",
   "execution_count": 81,
   "metadata": {},
   "outputs": [
    {
     "data": {
      "text/plain": [
       "(10000, ['', '[UNK]', 'the', 'a', 'in', 'to', 'of', 'and', 'i', 'is'])"
      ]
     },
     "execution_count": 81,
     "metadata": {},
     "output_type": "execute_result"
    }
   ],
   "source": [
    "# Get the vocabulary from the text vectorization layer\n",
    "len(words_in_vocab), words_in_vocab[:10]"
   ]
  },
  {
   "cell_type": "code",
   "execution_count": 88,
   "metadata": {},
   "outputs": [
    {
     "data": {
      "text/plain": [
       "(10000, 128)"
      ]
     },
     "execution_count": 88,
     "metadata": {},
     "output_type": "execute_result"
    }
   ],
   "source": [
    "# Get the weight matrix of embedding layer\n",
    "# (these are the numerical representation of each token in our training data, which have been learned for ~5 epochs)\n",
    "\n",
    "embed_weights = model_1.get_layer('embedding_1').get_weights()[0]\n",
    "embed_weights.shape"
   ]
  },
  {
   "cell_type": "markdown",
   "metadata": {},
   "source": [
    "Now we've got the embedding matirx our model has learned to represent our tokens. Lets see how we can visualise it.\n",
    "\n",
    "To do so, TensorFlow has a handy tool called projector: http://projector.tensorflow.org/\n",
    "\n",
    "And TensorFlow also has an incredible guide on word embeddings themselves: https://www.tensorflow.org/tutorials/text/word_embeddings"
   ]
  },
  {
   "cell_type": "code",
   "execution_count": 90,
   "metadata": {},
   "outputs": [],
   "source": [
    "import io\n",
    "\n",
    "out_v = io.open('Embeddings/vectors.tsv', 'w', encoding='utf-8')\n",
    "out_m = io.open('Embeddings/metadata.tsv', 'w', encoding='utf-8')\n",
    "\n",
    "for index, word in enumerate(words_in_vocab):\n",
    "  if index == 0:\n",
    "    continue  # skip 0, it's padding.\n",
    "  vec = embed_weights[index]\n",
    "  out_v.write('\\t'.join([str(x) for x in vec]) + \"\\n\")\n",
    "  out_m.write(word + \"\\n\")\n",
    "out_v.close()\n",
    "out_m.close()"
   ]
  },
  {
   "cell_type": "markdown",
   "metadata": {},
   "source": [
    "<img src=\"extras/Artifacts/word_embedding_clusters.png\"></img>"
   ]
  },
  {
   "cell_type": "markdown",
   "metadata": {},
   "source": [
    "We can visualise the above embeddings using [TensorFlow Projector](http://projector.tensorflow.org/) and clicking on the \"load\" button on the left hand side"
   ]
  },
  {
   "cell_type": "markdown",
   "metadata": {},
   "source": [
    "📖Resources: For more on word embeddings, refer to:\n",
    "* Jay Alammar's visualised word2vec post: https://jalammar.github.io/illustrated-word2vec/\n",
    "* TensorFlow's Word Embeddings guide: https://www.tensorflow.org/tutorials/text/word_embeddings"
   ]
  },
  {
   "cell_type": "markdown",
   "metadata": {},
   "source": [
    "## Recurrent Neural Networks (RNNs)\n",
    "\n",
    "RNNs are useful for sequence data\n",
    "\n",
    "The premise of a recurrent neural network is to use the representation of a previous input to aid the representation of a later input\n",
    "\n",
    "If you want an overview of the internals of a recurrent neural network, see the following:\n",
    "\n",
    "- MIT's [sequence modelling lecture](https://youtu.be/qjrad0v0uJE)\n",
    "- Chris Olah's [intro to LSTMs](https://colah.github.io/posts/2015-08-Understanding-LSTMs/)\n",
    "- Andrej Karpathy's [the unreasonable effectiveness of recurrent neural networks](http://karpathy.github.io/2015/05/21/rnn-effectiveness/)"
   ]
  },
  {
   "cell_type": "markdown",
   "metadata": {},
   "source": [
    "<img src=\"extras/Artifacts/RNN.png\"></img>"
   ]
  },
  {
   "cell_type": "markdown",
   "metadata": {},
   "source": [
    "### Model 2: LSTM\n",
    "\n",
    "LSTM -> long short term memory (one of the most popular LSTM cells)\n",
    "\n",
    "Our structure of an RNN typically looks like this:\n",
    "```\n",
    "Input (text) -> Tokenize -> Embedding -> Layers (RNNs/dense) -> Output (label probability)\n",
    "```"
   ]
  },
  {
   "cell_type": "code",
   "execution_count": 22,
   "metadata": {},
   "outputs": [],
   "source": [
    "# Create an LSTM model\n",
    "inputs = tf.keras.layers.Input(shape = (1,), dtype = tf.string, name = \"input_layer\")\n",
    "x = text_vectorizer(inputs)\n",
    "x = embedding(x)\n",
    "# print(x.shape)\n",
    "# x = tf.keras.layers.LSTM(64, return_sequences = True)(x) # when you're stacking RNN cells together, you need to set return sequences to True\n",
    "# print(x.shape)\n",
    "x = tf.keras.layers.LSTM(64)(x)\n",
    "# print(x.shape)\n",
    "# x = tf.keras.layers.Dense(64, activation = \"relu\")(x)\n",
    "outputs = tf.keras.layers.Dense(1, activation = \"sigmoid\")(x)\n",
    "model_2 = tf.keras.Model(inputs, outputs, name = \"model_2\")"
   ]
  },
  {
   "cell_type": "code",
   "execution_count": 23,
   "metadata": {},
   "outputs": [
    {
     "name": "stdout",
     "output_type": "stream",
     "text": [
      "Model: \"model_2\"\n",
      "_________________________________________________________________\n",
      " Layer (type)                Output Shape              Param #   \n",
      "=================================================================\n",
      " input_layer (InputLayer)    [(None, 1)]               0         \n",
      "                                                                 \n",
      " text_vectorization_1 (TextV  (None, 15)               0         \n",
      " ectorization)                                                   \n",
      "                                                                 \n",
      " embedding (Embedding)       (None, 15, 128)           1280000   \n",
      "                                                                 \n",
      " lstm_2 (LSTM)               (None, 64)                49408     \n",
      "                                                                 \n",
      " dense_2 (Dense)             (None, 1)                 65        \n",
      "                                                                 \n",
      "=================================================================\n",
      "Total params: 1,329,473\n",
      "Trainable params: 1,329,473\n",
      "Non-trainable params: 0\n",
      "_________________________________________________________________\n"
     ]
    }
   ],
   "source": [
    "model_2.summary()"
   ]
  },
  {
   "cell_type": "code",
   "execution_count": 26,
   "metadata": {},
   "outputs": [
    {
     "name": "stdout",
     "output_type": "stream",
     "text": [
      "Saving TensorBoard log files to: TensorBoard/NLP/model_2_lstm/20220714-090544\n",
      "Epoch 1/5\n",
      "215/215 [==============================] - 22s 20ms/step - loss: 0.5150 - accuracy: 0.7470 - val_loss: 0.4716 - val_accuracy: 0.7822\n",
      "Epoch 2/5\n",
      "215/215 [==============================] - 4s 18ms/step - loss: 0.3203 - accuracy: 0.8682 - val_loss: 0.4546 - val_accuracy: 0.7887\n",
      "Epoch 3/5\n",
      "215/215 [==============================] - 3s 15ms/step - loss: 0.2205 - accuracy: 0.9194 - val_loss: 0.5830 - val_accuracy: 0.7717\n",
      "Epoch 4/5\n",
      "215/215 [==============================] - 3s 15ms/step - loss: 0.1576 - accuracy: 0.9445 - val_loss: 0.6203 - val_accuracy: 0.7782\n",
      "Epoch 5/5\n",
      "215/215 [==============================] - 3s 14ms/step - loss: 0.1106 - accuracy: 0.9610 - val_loss: 0.8965 - val_accuracy: 0.7638\n"
     ]
    }
   ],
   "source": [
    "# Compile the model\n",
    "model_2.compile(\n",
    "    loss = tf.keras.losses.BinaryCrossentropy(),\n",
    "    optimizer = tf.keras.optimizers.Adam(),\n",
    "    metrics = [\"accuracy\"]\n",
    ")\n",
    "\n",
    "# Fit the model\n",
    "history_model_2 = model_2.fit(\n",
    "    x = train_sentences,\n",
    "    y = train_labels,\n",
    "    epochs = 5,\n",
    "    validation_data = (val_sentences, val_labels),\n",
    "    callbacks = [create_tensorboard_callback(SAVE_DIR, 'model_2_lstm')]\n",
    ")"
   ]
  },
  {
   "cell_type": "code",
   "execution_count": 28,
   "metadata": {},
   "outputs": [
    {
     "name": "stdout",
     "output_type": "stream",
     "text": [
      "24/24 [==============================] - 0s 13ms/step\n"
     ]
    },
    {
     "data": {
      "text/plain": [
       "array([[0.0052312 ],\n",
       "       [0.627887  ],\n",
       "       [0.99957746],\n",
       "       [0.05893629],\n",
       "       [0.00436126],\n",
       "       [0.9997693 ],\n",
       "       [0.4368527 ],\n",
       "       [0.9998927 ],\n",
       "       [0.9998274 ],\n",
       "       [0.18053026]], dtype=float32)"
      ]
     },
     "execution_count": 28,
     "metadata": {},
     "output_type": "execute_result"
    }
   ],
   "source": [
    "# Make predictions with LSTM model\n",
    "model_2_pred_probs = model_2.predict(val_sentences)\n",
    "model_2_pred_probs[:10]"
   ]
  },
  {
   "cell_type": "code",
   "execution_count": 29,
   "metadata": {},
   "outputs": [
    {
     "data": {
      "text/plain": [
       "<tf.Tensor: shape=(10,), dtype=float32, numpy=array([0., 1., 1., 0., 0., 1., 0., 1., 1., 0.], dtype=float32)>"
      ]
     },
     "execution_count": 29,
     "metadata": {},
     "output_type": "execute_result"
    }
   ],
   "source": [
    "model_2_preds = tf.squeeze(tf.round(model_2_pred_probs))\n",
    "model_2_preds[:10]"
   ]
  },
  {
   "cell_type": "code",
   "execution_count": 32,
   "metadata": {},
   "outputs": [
    {
     "name": "stdout",
     "output_type": "stream",
     "text": [
      "Accuracy: 0.7637795275590551\n",
      "Precision: 0.7763157894736842\n",
      "Recall: 0.6781609195402298\n",
      "F1-Score: 0.7239263803680982\n"
     ]
    },
    {
     "data": {
      "image/png": "[encoded data removed]",
      "text/plain": [
       "<Figure size 720x720 with 2 Axes>"
      ]
     },
     "metadata": {
      "needs_background": "light"
     },
     "output_type": "display_data"
    }
   ],
   "source": [
    "model_2_results = evaluate_predictions(val_labels, model_2_preds)"
   ]
  },
  {
   "cell_type": "markdown",
   "metadata": {},
   "source": [
    "### Model 3: GRU\n",
    "\n",
    "GRU -> Gated Recurrent Unit\n",
    "\n",
    "GRU is similar to LSTM but has less parameters"
   ]
  },
  {
   "cell_type": "code",
   "execution_count": 34,
   "metadata": {},
   "outputs": [],
   "source": [
    "inputs = tf.keras.layers.Input(shape = (1,), dtype = tf.string, name = \"input_layer\")\n",
    "x = text_vectorizer(inputs)\n",
    "x = embedding(x)\n",
    "# x = tf.keras.layers.GRU(64, return_sequences = True)(x) # if you want to stack recurrent layers on top of each other, return sequences needs to be set to true\n",
    "x = tf.keras.layers.GRU(64)(x)\n",
    "outputs = tf.keras.layers.Dense(1, activation = \"sigmoid\", name = \"output_layer\")(x)\n",
    "\n",
    "model_3 = tf.keras.Model(inputs, outputs, name = \"model_3\")"
   ]
  },
  {
   "cell_type": "code",
   "execution_count": 35,
   "metadata": {},
   "outputs": [
    {
     "name": "stdout",
     "output_type": "stream",
     "text": [
      "Model: \"model_3\"\n",
      "_________________________________________________________________\n",
      " Layer (type)                Output Shape              Param #   \n",
      "=================================================================\n",
      " input_layer (InputLayer)    [(None, 1)]               0         \n",
      "                                                                 \n",
      " text_vectorization_1 (TextV  (None, 15)               0         \n",
      " ectorization)                                                   \n",
      "                                                                 \n",
      " embedding (Embedding)       (None, 15, 128)           1280000   \n",
      "                                                                 \n",
      " gru_1 (GRU)                 (None, 64)                37248     \n",
      "                                                                 \n",
      " output_layer (Dense)        (None, 1)                 65        \n",
      "                                                                 \n",
      "=================================================================\n",
      "Total params: 1,317,313\n",
      "Trainable params: 1,317,313\n",
      "Non-trainable params: 0\n",
      "_________________________________________________________________\n"
     ]
    }
   ],
   "source": [
    "model_3.summary()"
   ]
  },
  {
   "cell_type": "code",
   "execution_count": 36,
   "metadata": {},
   "outputs": [
    {
     "name": "stdout",
     "output_type": "stream",
     "text": [
      "Saving TensorBoard log files to: TensorBoard/NLP/model_3_gru/20220714-092253\n",
      "Epoch 1/5\n",
      "215/215 [==============================] - 5s 14ms/step - loss: 0.2170 - accuracy: 0.9113 - val_loss: 0.6230 - val_accuracy: 0.7756\n",
      "Epoch 2/5\n",
      "215/215 [==============================] - 3s 12ms/step - loss: 0.1037 - accuracy: 0.9651 - val_loss: 0.7452 - val_accuracy: 0.7717\n",
      "Epoch 3/5\n",
      "215/215 [==============================] - 2s 10ms/step - loss: 0.0818 - accuracy: 0.9691 - val_loss: 1.0100 - val_accuracy: 0.7677\n",
      "Epoch 4/5\n",
      "215/215 [==============================] - 2s 10ms/step - loss: 0.0667 - accuracy: 0.9727 - val_loss: 0.9849 - val_accuracy: 0.7598\n",
      "Epoch 5/5\n",
      "215/215 [==============================] - 2s 10ms/step - loss: 0.0552 - accuracy: 0.9772 - val_loss: 1.1426 - val_accuracy: 0.7585\n"
     ]
    }
   ],
   "source": [
    "# Compile the model\n",
    "model_3.compile(\n",
    "    loss = tf.keras.losses.BinaryCrossentropy(),\n",
    "    optimizer = tf.keras.optimizers.Adam(),\n",
    "    metrics = [\"accuracy\"]\n",
    ")\n",
    "\n",
    "# Fit the model\n",
    "history_model_3 = model_3.fit(\n",
    "    x = train_sentences,\n",
    "    y = train_labels,\n",
    "    epochs = 5,\n",
    "    validation_data = (val_sentences, val_labels),\n",
    "    callbacks = [create_tensorboard_callback(SAVE_DIR, \"model_3_gru\")]\n",
    ")"
   ]
  },
  {
   "cell_type": "code",
   "execution_count": 37,
   "metadata": {},
   "outputs": [
    {
     "name": "stdout",
     "output_type": "stream",
     "text": [
      "24/24 [==============================] - 1s 12ms/step\n"
     ]
    }
   ],
   "source": [
    "model_3_pred_probs = model_3.predict(val_sentences)"
   ]
  },
  {
   "cell_type": "code",
   "execution_count": 38,
   "metadata": {},
   "outputs": [
    {
     "data": {
      "text/plain": [
       "<tf.Tensor: shape=(10,), dtype=float32, numpy=array([0., 1., 1., 0., 0., 1., 1., 1., 1., 0.], dtype=float32)>"
      ]
     },
     "execution_count": 38,
     "metadata": {},
     "output_type": "execute_result"
    }
   ],
   "source": [
    "model_3_preds = tf.squeeze(tf.round(model_3_pred_probs))\n",
    "model_3_preds[:10]"
   ]
  },
  {
   "cell_type": "code",
   "execution_count": 39,
   "metadata": {},
   "outputs": [
    {
     "name": "stdout",
     "output_type": "stream",
     "text": [
      "Accuracy: 0.7585301837270341\n",
      "Precision: 0.731638418079096\n",
      "Recall: 0.7442528735632183\n",
      "F1-Score: 0.7378917378917379\n"
     ]
    },
    {
     "data": {
      "image/png": "[encoded data removed]",
      "text/plain": [
       "<Figure size 720x720 with 2 Axes>"
      ]
     },
     "metadata": {
      "needs_background": "light"
     },
     "output_type": "display_data"
    }
   ],
   "source": [
    "model_3_results = evaluate_predictions(val_labels, model_3_preds)"
   ]
  },
  {
   "cell_type": "markdown",
   "metadata": {},
   "source": [
    "### Model 4: Bidirectional RNN Model\n",
    "\n",
    "Normal RNNs go from left to right (just like you'd read English). However, a bidirectional RNN goes from right to left as well as left to right"
   ]
  },
  {
   "cell_type": "code",
   "execution_count": 49,
   "metadata": {},
   "outputs": [],
   "source": [
    "inputs = tf.keras.layers.Input(shape = (1,), dtype = tf.string, name = \"input_layer\")\n",
    "x = text_vectorizer(inputs)\n",
    "x = embedding(x)\n",
    "# x = tf.keras.layers.Bidirectional(tf.keras.layers.LSTM(64, return_sequences = True))(x)\n",
    "x = tf.keras.layers.Bidirectional(tf.keras.layers.LSTM(64))(x)\n",
    "outputs = tf.keras.layers.Dense(1, activation = \"sigmoid\", name = \"output_layer\")(x)\n",
    "\n",
    "model_4 = tf.keras.Model(inputs, outputs, name = \"model_4\")"
   ]
  },
  {
   "cell_type": "code",
   "execution_count": 50,
   "metadata": {},
   "outputs": [
    {
     "name": "stdout",
     "output_type": "stream",
     "text": [
      "Model: \"model_4\"\n",
      "_________________________________________________________________\n",
      " Layer (type)                Output Shape              Param #   \n",
      "=================================================================\n",
      " input_layer (InputLayer)    [(None, 1)]               0         \n",
      "                                                                 \n",
      " text_vectorization_1 (TextV  (None, 15)               0         \n",
      " ectorization)                                                   \n",
      "                                                                 \n",
      " embedding (Embedding)       (None, 15, 128)           1280000   \n",
      "                                                                 \n",
      " bidirectional_1 (Bidirectio  (None, 128)              98816     \n",
      " nal)                                                            \n",
      "                                                                 \n",
      " output_layer (Dense)        (None, 1)                 129       \n",
      "                                                                 \n",
      "=================================================================\n",
      "Total params: 1,378,945\n",
      "Trainable params: 1,378,945\n",
      "Non-trainable params: 0\n",
      "_________________________________________________________________\n"
     ]
    }
   ],
   "source": [
    "model_4.summary()"
   ]
  },
  {
   "cell_type": "code",
   "execution_count": 51,
   "metadata": {},
   "outputs": [
    {
     "name": "stdout",
     "output_type": "stream",
     "text": [
      "Saving TensorBoard log files to: TensorBoard/NLP/model_4_bidirectional/20220714-100708\n",
      "Epoch 1/5\n",
      "215/215 [==============================] - 10s 24ms/step - loss: 0.1108 - accuracy: 0.9670 - val_loss: 0.9678 - val_accuracy: 0.7598\n",
      "Epoch 2/5\n",
      "215/215 [==============================] - 4s 20ms/step - loss: 0.0431 - accuracy: 0.9800 - val_loss: 1.1874 - val_accuracy: 0.7572\n",
      "Epoch 3/5\n",
      "215/215 [==============================] - 4s 17ms/step - loss: 0.0394 - accuracy: 0.9810 - val_loss: 1.1014 - val_accuracy: 0.7612\n",
      "Epoch 4/5\n",
      "215/215 [==============================] - 4s 18ms/step - loss: 0.0396 - accuracy: 0.9807 - val_loss: 1.5808 - val_accuracy: 0.7585\n",
      "Epoch 5/5\n",
      "215/215 [==============================] - 4s 18ms/step - loss: 0.0356 - accuracy: 0.9818 - val_loss: 1.3812 - val_accuracy: 0.7572\n"
     ]
    }
   ],
   "source": [
    "# Compile the model\n",
    "model_4.compile(\n",
    "    loss = tf.keras.losses.BinaryCrossentropy(),\n",
    "    optimizer = tf.keras.optimizers.Adam(),\n",
    "    metrics = [\"accuracy\"]\n",
    ")\n",
    "\n",
    "# Fit the model\n",
    "history_model_4 = model_4.fit(\n",
    "    x = train_sentences,\n",
    "    y = train_labels,\n",
    "    epochs = 5,\n",
    "    validation_data = (val_sentences, val_labels),\n",
    "    callbacks = [create_tensorboard_callback(SAVE_DIR, \"model_4_bidirectional\")]\n",
    ")"
   ]
  },
  {
   "cell_type": "code",
   "execution_count": 52,
   "metadata": {},
   "outputs": [
    {
     "name": "stdout",
     "output_type": "stream",
     "text": [
      "24/24 [==============================] - 1s 12ms/step\n"
     ]
    }
   ],
   "source": [
    "model_4_pred_probs = model_4.predict(val_sentences)"
   ]
  },
  {
   "cell_type": "code",
   "execution_count": 53,
   "metadata": {},
   "outputs": [
    {
     "data": {
      "text/plain": [
       "<tf.Tensor: shape=(10,), dtype=float32, numpy=array([0., 1., 1., 0., 0., 1., 0., 1., 1., 0.], dtype=float32)>"
      ]
     },
     "execution_count": 53,
     "metadata": {},
     "output_type": "execute_result"
    }
   ],
   "source": [
    "model_4_preds = tf.squeeze(tf.round(model_4_pred_probs))\n",
    "model_4_preds[:10]"
   ]
  },
  {
   "cell_type": "code",
   "execution_count": 54,
   "metadata": {},
   "outputs": [
    {
     "name": "stdout",
     "output_type": "stream",
     "text": [
      "Accuracy: 0.7572178477690289\n",
      "Precision: 0.7587301587301587\n",
      "Recall: 0.6867816091954023\n",
      "F1-Score: 0.7209653092006033\n"
     ]
    },
    {
     "data": {
      "image/png": "[encoded data removed]",
      "text/plain": [
       "<Figure size 720x720 with 2 Axes>"
      ]
     },
     "metadata": {
      "needs_background": "light"
     },
     "output_type": "display_data"
    }
   ],
   "source": [
    "model_4_results = evaluate_predictions(val_labels, model_4_preds)"
   ]
  },
  {
   "cell_type": "markdown",
   "metadata": {},
   "source": [
    "|Name|When to Use|Learn More|Code|\n",
    "|----|-----------|----------|----|\n",
    "|LSTM (long short-term memory)|Default RNN layer for sequence problems|Understanding LSTM Networks by Chris Olah|`tf.keras.layers.LSTM`|\n",
    "|GRU (gated recurrent unit)|Performs very similar to LSTM (could be used as a default)|Illustrated Guide to LSTMs and GRUs by Michael Phi|`tf.keras.layers.GRU`|\n",
    "|Bidirectional LSTM (goes forward and backwards on sequence)|Good for sequences which may benefit from passing forward and backwards (eg translation or longer passages of text)|Same as above|`tf.keras.layers.Bidirectional`|"
   ]
  },
  {
   "cell_type": "markdown",
   "metadata": {},
   "source": [
    "## Convolutional Neural Networks for Text (and other types of sequences)\n",
    "\n",
    "We've used CNNs for images but images are typically 2D (height x width). However, our text data is 1D.\n",
    "\n",
    "Previously we've used Conv2D for our image data but now we're going to use Conv1D\n",
    "\n",
    "The typical structure of a Conv1D model for sequences (in our case, text)\n",
    "\n",
    "```\n",
    "Inputs (text) -> Tokenization -> Embedding -> Layer(s) (typically Conv1D + pooling) -> Outputs (class probabilities)\n",
    "```"
   ]
  },
  {
   "cell_type": "markdown",
   "metadata": {},
   "source": [
    "### Model 5: Conv1D"
   ]
  },
  {
   "cell_type": "code",
   "execution_count": 57,
   "metadata": {},
   "outputs": [],
   "source": [
    "inputs = tf.keras.layers.Input(shape = (1,), dtype = tf.string, name = \"input_layer\")\n",
    "x = text_vectorizer(inputs)\n",
    "x = embedding(x)\n",
    "x = tf.keras.layers.Conv1D(64, 3, activation = \"relu\", padding = \"valid\")(x)\n",
    "x = tf.keras.layers.GlobalAveragePooling1D()(x)\n",
    "outputs = tf.keras.layers.Dense(1, activation = \"sigmoid\", name = \"output_layer\")(x)\n",
    "\n",
    "model_5 = tf.keras.Model(inputs, outputs, name = \"model_5\")"
   ]
  },
  {
   "cell_type": "code",
   "execution_count": 58,
   "metadata": {},
   "outputs": [
    {
     "name": "stdout",
     "output_type": "stream",
     "text": [
      "Model: \"model_5\"\n",
      "_________________________________________________________________\n",
      " Layer (type)                Output Shape              Param #   \n",
      "=================================================================\n",
      " input_layer (InputLayer)    [(None, 1)]               0         \n",
      "                                                                 \n",
      " text_vectorization_1 (TextV  (None, 15)               0         \n",
      " ectorization)                                                   \n",
      "                                                                 \n",
      " embedding (Embedding)       (None, 15, 128)           1280000   \n",
      "                                                                 \n",
      " conv1d_2 (Conv1D)           (None, 13, 64)            24640     \n",
      "                                                                 \n",
      " global_average_pooling1d_1   (None, 64)               0         \n",
      " (GlobalAveragePooling1D)                                        \n",
      "                                                                 \n",
      " output_layer (Dense)        (None, 1)                 65        \n",
      "                                                                 \n",
      "=================================================================\n",
      "Total params: 1,304,705\n",
      "Trainable params: 1,304,705\n",
      "Non-trainable params: 0\n",
      "_________________________________________________________________\n"
     ]
    }
   ],
   "source": [
    "model_5.summary()"
   ]
  },
  {
   "cell_type": "code",
   "execution_count": 59,
   "metadata": {},
   "outputs": [
    {
     "name": "stdout",
     "output_type": "stream",
     "text": [
      "Saving TensorBoard log files to: TensorBoard/NLP/model_5_conv1d/20220714-102819\n",
      "Epoch 1/5\n",
      "215/215 [==============================] - 9s 9ms/step - loss: 0.1996 - accuracy: 0.9482 - val_loss: 0.7500 - val_accuracy: 0.7612\n",
      "Epoch 2/5\n",
      "215/215 [==============================] - 2s 9ms/step - loss: 0.0932 - accuracy: 0.9648 - val_loss: 0.9426 - val_accuracy: 0.7493\n",
      "Epoch 3/5\n",
      "215/215 [==============================] - 2s 10ms/step - loss: 0.0691 - accuracy: 0.9714 - val_loss: 1.0909 - val_accuracy: 0.7546\n",
      "Epoch 4/5\n",
      "215/215 [==============================] - 2s 9ms/step - loss: 0.0598 - accuracy: 0.9756 - val_loss: 1.2014 - val_accuracy: 0.7585\n",
      "Epoch 5/5\n",
      "215/215 [==============================] - 2s 9ms/step - loss: 0.0529 - accuracy: 0.9777 - val_loss: 1.2978 - val_accuracy: 0.7467\n"
     ]
    }
   ],
   "source": [
    "# Compile the model\n",
    "model_5.compile(\n",
    "    loss = tf.keras.losses.BinaryCrossentropy(),\n",
    "    optimizer = tf.keras.optimizers.Adam(),\n",
    "    metrics = [\"accuracy\"]\n",
    ")\n",
    "\n",
    "# Fit the model\n",
    "history_model_5 = model_5.fit(\n",
    "    x = train_sentences,\n",
    "    y = train_labels,\n",
    "    epochs = 5,\n",
    "    validation_data = (val_sentences, val_labels),\n",
    "    callbacks = [create_tensorboard_callback(SAVE_DIR, \"model_5_conv1d\")]\n",
    ")"
   ]
  },
  {
   "cell_type": "code",
   "execution_count": 60,
   "metadata": {},
   "outputs": [
    {
     "name": "stdout",
     "output_type": "stream",
     "text": [
      "24/24 [==============================] - 0s 11ms/step\n"
     ]
    }
   ],
   "source": [
    "model_5_pred_probs = model_5.predict(val_sentences)"
   ]
  },
  {
   "cell_type": "code",
   "execution_count": 61,
   "metadata": {},
   "outputs": [
    {
     "data": {
      "text/plain": [
       "<tf.Tensor: shape=(10,), dtype=float32, numpy=array([0., 1., 1., 0., 0., 1., 1., 1., 1., 1.], dtype=float32)>"
      ]
     },
     "execution_count": 61,
     "metadata": {},
     "output_type": "execute_result"
    }
   ],
   "source": [
    "model_5_preds = tf.squeeze(tf.round(model_5_pred_probs))\n",
    "model_5_preds[:10]"
   ]
  },
  {
   "cell_type": "code",
   "execution_count": 62,
   "metadata": {},
   "outputs": [
    {
     "name": "stdout",
     "output_type": "stream",
     "text": [
      "Accuracy: 0.7467191601049868\n",
      "Precision: 0.739938080495356\n",
      "Recall: 0.6867816091954023\n",
      "F1-Score: 0.7123695976154993\n"
     ]
    },
    {
     "data": {
      "image/png": "[encoded data removed]",
      "text/plain": [
       "<Figure size 720x720 with 2 Axes>"
      ]
     },
     "metadata": {
      "needs_background": "light"
     },
     "output_type": "display_data"
    }
   ],
   "source": [
    "model_5_results = evaluate_predictions(val_labels, model_5_preds)"
   ]
  },
  {
   "cell_type": "markdown",
   "metadata": {},
   "source": [
    "## Model 6: TensorFlow Hub Pretrained Sentence Encoder\n",
    "\n",
    "Now we've built a few of our own models, lets try and use transfer learning for NLP, specifically using TensorFlow Hub's Universal Sentence Encoder: https://tfhub.dev/google/universal-sentence-encoder/4\n",
    "\n",
    "Model we're building -> USE feature extractor [Universal Sentence Encoder]\n",
    "\n",
    "```\n",
    "Input -> Embedding Layer (USE from Tensorflow Hub) -> Dense (layers) -> Output\n",
    "```"
   ]
  },
  {
   "cell_type": "code",
   "execution_count": 29,
   "metadata": {},
   "outputs": [
    {
     "name": "stdout",
     "output_type": "stream",
     "text": [
      "tf.Tensor(\n",
      "[[-0.01157027  0.0248591   0.02878048 ... -0.00186125  0.02315824\n",
      "  -0.01485021]\n",
      " [ 0.03485874 -0.08845595 -0.01677877 ... -0.02750706  0.03230239\n",
      "  -0.00820087]], shape=(2, 512), dtype=float32)\n"
     ]
    }
   ],
   "source": [
    "import tensorflow_hub as hub\n",
    "\n",
    "embed = hub.load('https://tfhub.dev/google/universal-sentence-encoder/4')\n",
    "embed_samples = embed([sample_sentence, \"When you can the universal sentence encoder on a sentence, it turns it into numbers\"])\n",
    "print(embed_samples)"
   ]
  },
  {
   "cell_type": "code",
   "execution_count": 30,
   "metadata": {},
   "outputs": [
    {
     "data": {
      "text/plain": [
       "TensorShape([512])"
      ]
     },
     "execution_count": 30,
     "metadata": {},
     "output_type": "execute_result"
    }
   ],
   "source": [
    "embed_samples[0].shape"
   ]
  },
  {
   "cell_type": "code",
   "execution_count": 32,
   "metadata": {},
   "outputs": [],
   "source": [
    "sentence_encoder_layer = hub.KerasLayer('https://tfhub.dev/google/universal-sentence-encoder/4', input_shape = [], dtype = tf.string, trainable = False, name = \"USE\")\n",
    "\n",
    "model_6 = tf.keras.Sequential(\n",
    "    [\n",
    "        sentence_encoder_layer,\n",
    "        tf.keras.layers.Dense(1, activation = \"sigmoid\", name = \"output_layer\")\n",
    "    ], name = \"model_6\"\n",
    ")"
   ]
  },
  {
   "cell_type": "code",
   "execution_count": 33,
   "metadata": {},
   "outputs": [
    {
     "name": "stdout",
     "output_type": "stream",
     "text": [
      "Saving TensorBoard log files to: TensorBoard/NLP/model_6_USE/20220714-141026\n",
      "Epoch 1/5\n",
      "215/215 [==============================] - 12s 38ms/step - loss: 0.6502 - accuracy: 0.7341 - val_loss: 0.6144 - val_accuracy: 0.7638\n",
      "Epoch 2/5\n",
      "215/215 [==============================] - 7s 34ms/step - loss: 0.5819 - accuracy: 0.7901 - val_loss: 0.5641 - val_accuracy: 0.7835\n",
      "Epoch 3/5\n",
      "215/215 [==============================] - 7s 34ms/step - loss: 0.5384 - accuracy: 0.7958 - val_loss: 0.5316 - val_accuracy: 0.7808\n",
      "Epoch 4/5\n",
      "215/215 [==============================] - 7s 32ms/step - loss: 0.5094 - accuracy: 0.7974 - val_loss: 0.5104 - val_accuracy: 0.7861\n",
      "Epoch 5/5\n",
      "215/215 [==============================] - 7s 32ms/step - loss: 0.4894 - accuracy: 0.7999 - val_loss: 0.4959 - val_accuracy: 0.7874\n"
     ]
    }
   ],
   "source": [
    "# Compile the model\n",
    "model_6.compile(\n",
    "    loss = tf.keras.losses.BinaryCrossentropy(),\n",
    "    optimizer = tf.keras.optimizers.Adam(),\n",
    "    metrics = [\"accuracy\"]\n",
    ")\n",
    "\n",
    "# Fit the model\n",
    "history_model_6 = model_6.fit(\n",
    "    x = train_sentences,\n",
    "    y = train_labels,\n",
    "    epochs = 5,\n",
    "    validation_data = (val_sentences, val_labels),\n",
    "    callbacks = [create_tensorboard_callback(SAVE_DIR, \"model_6_USE\")]\n",
    ")"
   ]
  },
  {
   "cell_type": "code",
   "execution_count": 34,
   "metadata": {},
   "outputs": [
    {
     "name": "stdout",
     "output_type": "stream",
     "text": [
      "24/24 [==============================] - 1s 30ms/step\n"
     ]
    }
   ],
   "source": [
    "model_6_pred_probs = model_6.predict(val_sentences)"
   ]
  },
  {
   "cell_type": "code",
   "execution_count": 35,
   "metadata": {},
   "outputs": [
    {
     "data": {
      "text/plain": [
       "<tf.Tensor: shape=(10,), dtype=float32, numpy=array([0., 1., 1., 0., 1., 1., 1., 1., 1., 0.], dtype=float32)>"
      ]
     },
     "execution_count": 35,
     "metadata": {},
     "output_type": "execute_result"
    }
   ],
   "source": [
    "model_6_preds = tf.squeeze(tf.round(model_6_pred_probs))\n",
    "model_6_preds[:10]"
   ]
  },
  {
   "cell_type": "code",
   "execution_count": 36,
   "metadata": {},
   "outputs": [
    {
     "name": "stdout",
     "output_type": "stream",
     "text": [
      "Accuracy: 0.7874015748031497\n",
      "Precision: 0.790625\n",
      "Recall: 0.7270114942528736\n",
      "F1-Score: 0.7574850299401198\n"
     ]
    },
    {
     "data": {
      "image/png": "[encoded data removed]",
      "text/plain": [
       "<Figure size 720x720 with 2 Axes>"
      ]
     },
     "metadata": {
      "needs_background": "light"
     },
     "output_type": "display_data"
    }
   ],
   "source": [
    "results_model_6 = evaluate_predictions(val_labels, model_6_preds)"
   ]
  },
  {
   "cell_type": "markdown",
   "metadata": {},
   "source": [
    "Beat the baseline!"
   ]
  },
  {
   "cell_type": "markdown",
   "metadata": {},
   "source": [
    "## Model 7: Adding another Dense layer to USE"
   ]
  },
  {
   "cell_type": "code",
   "execution_count": 62,
   "metadata": {},
   "outputs": [],
   "source": [
    "model_7 = tf.keras.Sequential(\n",
    "    [\n",
    "        sentence_encoder_layer,\n",
    "        tf.keras.layers.Dense(64, activation = \"relu\", name = \"prefinal_dense_layer\"),\n",
    "        tf.keras.layers.Dense(1, activation = \"sigmoid\", name = \"output_layer\")\n",
    "    ], name = \"model_7\"\n",
    ")"
   ]
  },
  {
   "cell_type": "code",
   "execution_count": 63,
   "metadata": {},
   "outputs": [
    {
     "name": "stdout",
     "output_type": "stream",
     "text": [
      "Saving TensorBoard log files to: TensorBoard/NLP/model_7_USE_dense/20220714-155317\n",
      "Epoch 1/5\n",
      "215/215 [==============================] - 9s 34ms/step - loss: 0.5075 - accuracy: 0.7705 - val_loss: 0.4413 - val_accuracy: 0.7992\n",
      "Epoch 2/5\n",
      "215/215 [==============================] - 6s 30ms/step - loss: 0.4148 - accuracy: 0.8146 - val_loss: 0.4382 - val_accuracy: 0.8031\n",
      "Epoch 3/5\n",
      "215/215 [==============================] - 6s 28ms/step - loss: 0.3993 - accuracy: 0.8257 - val_loss: 0.4289 - val_accuracy: 0.8136\n",
      "Epoch 4/5\n",
      "215/215 [==============================] - 6s 28ms/step - loss: 0.3919 - accuracy: 0.8273 - val_loss: 0.4253 - val_accuracy: 0.8163\n",
      "Epoch 5/5\n",
      "215/215 [==============================] - 6s 26ms/step - loss: 0.3846 - accuracy: 0.8302 - val_loss: 0.4238 - val_accuracy: 0.8163\n"
     ]
    }
   ],
   "source": [
    "# Compile the model\n",
    "model_7.compile(\n",
    "    loss = tf.keras.losses.BinaryCrossentropy(),\n",
    "    optimizer = tf.keras.optimizers.Adam(),\n",
    "    metrics = [\"accuracy\"]\n",
    ")\n",
    "\n",
    "# Fit the model\n",
    "history_model_7 = model_7.fit(\n",
    "    x = train_sentences,\n",
    "    y = train_labels,\n",
    "    epochs = 5,\n",
    "    validation_data = (val_sentences, val_labels),\n",
    "    callbacks = [create_tensorboard_callback(SAVE_DIR, 'model_7_USE_dense')]\n",
    ")"
   ]
  },
  {
   "cell_type": "code",
   "execution_count": 64,
   "metadata": {},
   "outputs": [
    {
     "name": "stdout",
     "output_type": "stream",
     "text": [
      "24/24 [==============================] - 1s 21ms/step\n"
     ]
    }
   ],
   "source": [
    "model_7_pred_probs = model_7.predict(val_sentences)"
   ]
  },
  {
   "cell_type": "code",
   "execution_count": 65,
   "metadata": {},
   "outputs": [
    {
     "data": {
      "text/plain": [
       "<tf.Tensor: shape=(10,), dtype=float32, numpy=array([0., 1., 1., 0., 1., 1., 1., 1., 1., 0.], dtype=float32)>"
      ]
     },
     "execution_count": 65,
     "metadata": {},
     "output_type": "execute_result"
    }
   ],
   "source": [
    "model_7_preds = tf.squeeze(tf.round(model_7_pred_probs))\n",
    "model_7_preds[:10]"
   ]
  },
  {
   "cell_type": "code",
   "execution_count": 66,
   "metadata": {},
   "outputs": [
    {
     "name": "stdout",
     "output_type": "stream",
     "text": [
      "Accuracy: 0.8162729658792651\n",
      "Precision: 0.8333333333333334\n",
      "Recall: 0.7471264367816092\n",
      "F1-Score: 0.787878787878788\n"
     ]
    },
    {
     "data": {
      "image/png": "[encoded data removed]",
      "text/plain": [
       "<Figure size 720x720 with 2 Axes>"
      ]
     },
     "metadata": {
      "needs_background": "light"
     },
     "output_type": "display_data"
    }
   ],
   "source": [
    "results_model_7 = evaluate_predictions(val_labels, model_7_preds)"
   ]
  },
  {
   "cell_type": "markdown",
   "metadata": {},
   "source": [
    "We've finally beat the baseline!"
   ]
  },
  {
   "cell_type": "markdown",
   "metadata": {},
   "source": [
    "## Model 7: TF Hub Pretrained USE but with 10% of training data\n",
    "\n",
    "Transfer learning really helps when you don't have a large dataset.\n",
    "\n",
    "To see how our model performs on a smaller dataset, let's replicate `model_6` but with 10% of the data"
   ]
  },
  {
   "cell_type": "code",
   "execution_count": 44,
   "metadata": {},
   "outputs": [
    {
     "data": {
      "text/html": [
       "<div>\n",
       "<style scoped>\n",
       "    .dataframe tbody tr th:only-of-type {\n",
       "        vertical-align: middle;\n",
       "    }\n",
       "\n",
       "    .dataframe tbody tr th {\n",
       "        vertical-align: top;\n",
       "    }\n",
       "\n",
       "    .dataframe thead th {\n",
       "        text-align: right;\n",
       "    }\n",
       "</style>\n",
       "<table border=\"1\" class=\"dataframe\">\n",
       "  <thead>\n",
       "    <tr style=\"text-align: right;\">\n",
       "      <th></th>\n",
       "      <th>text</th>\n",
       "      <th>target</th>\n",
       "    </tr>\n",
       "  </thead>\n",
       "  <tbody>\n",
       "    <tr>\n",
       "      <th>4955</th>\n",
       "      <td>DFR EP016 Monthly Meltdown - On Dnbheaven 2015...</td>\n",
       "      <td>0</td>\n",
       "    </tr>\n",
       "    <tr>\n",
       "      <th>584</th>\n",
       "      <td>FedEx no longer to transport bioterror germs i...</td>\n",
       "      <td>0</td>\n",
       "    </tr>\n",
       "    <tr>\n",
       "      <th>7411</th>\n",
       "      <td>Gunmen kill four in El Salvador bus attack: Su...</td>\n",
       "      <td>1</td>\n",
       "    </tr>\n",
       "    <tr>\n",
       "      <th>5950</th>\n",
       "      <td>@camilacabello97 Internally and externally scr...</td>\n",
       "      <td>1</td>\n",
       "    </tr>\n",
       "    <tr>\n",
       "      <th>5541</th>\n",
       "      <td>Radiation emergency #preparedness starts with ...</td>\n",
       "      <td>1</td>\n",
       "    </tr>\n",
       "  </tbody>\n",
       "</table>\n",
       "</div>"
      ],
      "text/plain": [
       "                                                   text  target\n",
       "4955  DFR EP016 Monthly Meltdown - On Dnbheaven 2015...       0\n",
       "584   FedEx no longer to transport bioterror germs i...       0\n",
       "7411  Gunmen kill four in El Salvador bus attack: Su...       1\n",
       "5950  @camilacabello97 Internally and externally scr...       1\n",
       "5541  Radiation emergency #preparedness starts with ...       1"
      ]
     },
     "execution_count": 44,
     "metadata": {},
     "output_type": "execute_result"
    }
   ],
   "source": [
    "# Create subsets of 10% of the training data\n",
    "# NOTE: Making data splits like below leads to data leakage (model_7 trained on 10% data, outperforms model_7 trained on full data)\n",
    "# DO NOT MAKE DATA SPLITS WHICH LEAK DATA FROM VALIDATION/TEST SETS INTO TRAINING SET\n",
    "\n",
    "train_10_percent = train_df_shuffled[[\"text\",\"target\"]].sample(frac = 0.1, random_state = 42)\n",
    "train_10_percent.head()"
   ]
  },
  {
   "cell_type": "code",
   "execution_count": 46,
   "metadata": {},
   "outputs": [],
   "source": [
    "train_sentences_10_percent = train_10_percent[\"text\"].to_list()\n",
    "train_labels_10_percent = train_10_percent[\"target\"].to_list()"
   ]
  },
  {
   "cell_type": "code",
   "execution_count": 50,
   "metadata": {},
   "outputs": [
    {
     "data": {
      "text/plain": [
       "0    0.542707\n",
       "1    0.457293\n",
       "Name: target, dtype: float64"
      ]
     },
     "execution_count": 50,
     "metadata": {},
     "output_type": "execute_result"
    }
   ],
   "source": [
    "train_10_percent.target.value_counts()/train_10_percent.target.value_counts().sum()"
   ]
  },
  {
   "cell_type": "code",
   "execution_count": 51,
   "metadata": {},
   "outputs": [
    {
     "data": {
      "text/plain": [
       "0    0.57034\n",
       "1    0.42966\n",
       "Name: target, dtype: float64"
      ]
     },
     "execution_count": 51,
     "metadata": {},
     "output_type": "execute_result"
    }
   ],
   "source": [
    "train_df_shuffled.target.value_counts()/train_df_shuffled.target.value_counts().sum()"
   ]
  },
  {
   "cell_type": "markdown",
   "metadata": {},
   "source": [
    "So the distribution is more or less similar!"
   ]
  },
  {
   "cell_type": "markdown",
   "metadata": {},
   "source": [
    "Now lets use the same model we had and just train that on 10% data"
   ]
  },
  {
   "cell_type": "code",
   "execution_count": 52,
   "metadata": {},
   "outputs": [
    {
     "name": "stdout",
     "output_type": "stream",
     "text": [
      "Saving TensorBoard log files to: TensorBoard/NLP/model_7_10_pct_USE/20220714-144829\n",
      "Epoch 1/5\n",
      "24/24 [==============================] - 4s 63ms/step - loss: 0.6672 - accuracy: 0.7227 - val_loss: 0.6260 - val_accuracy: 0.8123\n",
      "Epoch 2/5\n",
      "24/24 [==============================] - 1s 35ms/step - loss: 0.5921 - accuracy: 0.7989 - val_loss: 0.5448 - val_accuracy: 0.8018\n",
      "Epoch 3/5\n",
      "24/24 [==============================] - 1s 40ms/step - loss: 0.5178 - accuracy: 0.8016 - val_loss: 0.4779 - val_accuracy: 0.8084\n",
      "Epoch 4/5\n",
      "24/24 [==============================] - 1s 37ms/step - loss: 0.4623 - accuracy: 0.8029 - val_loss: 0.4361 - val_accuracy: 0.8163\n",
      "Epoch 5/5\n",
      "24/24 [==============================] - 1s 36ms/step - loss: 0.4261 - accuracy: 0.8187 - val_loss: 0.4062 - val_accuracy: 0.8307\n"
     ]
    }
   ],
   "source": [
    "model_7 = tf.keras.models.clone_model(model_7)\n",
    "\n",
    "# Compile the model\n",
    "model_7.compile(\n",
    "    loss = tf.keras.losses.BinaryCrossentropy(),\n",
    "    optimizer = tf.keras.optimizers.Adam(),\n",
    "    metrics = [\"accuracy\"]\n",
    ")\n",
    "\n",
    "# Fit the model\n",
    "history_model_7_mod = model_7.fit(\n",
    "    x = train_sentences_10_percent,\n",
    "    y = train_labels_10_percent,\n",
    "    epochs = 5,\n",
    "    validation_data = (val_sentences, val_labels),\n",
    "    callbacks = [create_tensorboard_callback(SAVE_DIR, \"model_7_10_pct_USE\")]\n",
    ")"
   ]
  },
  {
   "cell_type": "code",
   "execution_count": 53,
   "metadata": {},
   "outputs": [
    {
     "name": "stdout",
     "output_type": "stream",
     "text": [
      "24/24 [==============================] - 1s 19ms/step\n",
      "Accuracy: 0.8307086614173228\n",
      "Precision: 0.8308157099697885\n",
      "Recall: 0.7902298850574713\n",
      "F1-Score: 0.8100147275405007\n"
     ]
    },
    {
     "data": {
      "image/png": "[encoded data removed]",
      "text/plain": [
       "<Figure size 720x720 with 2 Axes>"
      ]
     },
     "metadata": {
      "needs_background": "light"
     },
     "output_type": "display_data"
    }
   ],
   "source": [
    "model_7_pred_probs = model_7.predict(val_sentences)\n",
    "model_7_preds = tf.squeeze(tf.round(model_7_pred_probs))\n",
    "results_model_7_10_pct = evaluate_predictions(val_labels, model_7_preds)"
   ]
  },
  {
   "cell_type": "markdown",
   "metadata": {},
   "source": [
    "Thats strange! A model trained on a tenth of the data performs better than a model trained with full data!"
   ]
  },
  {
   "cell_type": "markdown",
   "metadata": {},
   "source": [
    "And you know what! Its precisely that. Since the validation data was created with `random_state` set to 42 and our train data is also created with the same value for `random_state`, there's going to be a huge overlap between the two. How to check for this you ask? The next code cell will do precisely this."
   ]
  },
  {
   "cell_type": "code",
   "execution_count": 54,
   "metadata": {},
   "outputs": [
    {
     "name": "stdout",
     "output_type": "stream",
     "text": [
      "Number of overlapping sentences: 761/761\n"
     ]
    }
   ],
   "source": [
    "overlap_sent = 0\n",
    "for sentence in train_sentences_10_percent:\n",
    "    if sentence in val_sentences:\n",
    "        overlap_sent += 1\n",
    "\n",
    "print(f'Number of overlapping sentences: {overlap_sent}/{len(train_sentences_10_percent)}')"
   ]
  },
  {
   "cell_type": "markdown",
   "metadata": {},
   "source": [
    "What the fish! The train and validation data are exactly the same. No wonder we're getting such wonderful accuracy numbers."
   ]
  },
  {
   "cell_type": "code",
   "execution_count": 58,
   "metadata": {},
   "outputs": [],
   "source": [
    "# Making a better dataset split (no data leakage)\n",
    "train_10_percent_split = int(0.1 * len(train_sentences))\n",
    "train_sentences_10_percent = train_sentences[:train_10_percent_split]\n",
    "train_labels_10_percent = train_labels[:train_10_percent_split]"
   ]
  },
  {
   "cell_type": "code",
   "execution_count": 59,
   "metadata": {},
   "outputs": [
    {
     "data": {
      "text/plain": [
       "0    0.592701\n",
       "1    0.407299\n",
       "dtype: float64"
      ]
     },
     "execution_count": 59,
     "metadata": {},
     "output_type": "execute_result"
    }
   ],
   "source": [
    "pd.Series(train_labels_10_percent).value_counts()/pd.Series(train_labels_10_percent).value_counts().sum()"
   ]
  },
  {
   "cell_type": "markdown",
   "metadata": {},
   "source": [
    "Yeah so this might just work since the distribution isn't altered significantly"
   ]
  },
  {
   "cell_type": "code",
   "execution_count": 60,
   "metadata": {},
   "outputs": [
    {
     "name": "stdout",
     "output_type": "stream",
     "text": [
      "Saving TensorBoard log files to: TensorBoard/NLP/model_7_10_pct_fixed_data_USE/20220714-151119\n",
      "Epoch 1/5\n",
      "22/22 [==============================] - 4s 78ms/step - loss: 0.6622 - accuracy: 0.7314 - val_loss: 0.6413 - val_accuracy: 0.7428\n",
      "Epoch 2/5\n",
      "22/22 [==============================] - 1s 41ms/step - loss: 0.5865 - accuracy: 0.8058 - val_loss: 0.5803 - val_accuracy: 0.7690\n",
      "Epoch 3/5\n",
      "22/22 [==============================] - 1s 45ms/step - loss: 0.5089 - accuracy: 0.8277 - val_loss: 0.5301 - val_accuracy: 0.7717\n",
      "Epoch 4/5\n",
      "22/22 [==============================] - 1s 42ms/step - loss: 0.4544 - accuracy: 0.8248 - val_loss: 0.5020 - val_accuracy: 0.7769\n",
      "Epoch 5/5\n",
      "22/22 [==============================] - 1s 42ms/step - loss: 0.4150 - accuracy: 0.8423 - val_loss: 0.4930 - val_accuracy: 0.7795\n"
     ]
    }
   ],
   "source": [
    "model_7 = tf.keras.models.clone_model(model_7)\n",
    "\n",
    "# Compile the model\n",
    "model_7.compile(\n",
    "    loss = tf.keras.losses.BinaryCrossentropy(),\n",
    "    optimizer = tf.keras.optimizers.Adam(),\n",
    "    metrics = [\"accuracy\"]\n",
    ")\n",
    "\n",
    "# Fit the model\n",
    "history_model_7_fixed_data = model_7.fit(\n",
    "    x = train_sentences_10_percent,\n",
    "    y = train_labels_10_percent,\n",
    "    epochs = 5,\n",
    "    validation_data = (val_sentences, val_labels),\n",
    "    callbacks = [create_tensorboard_callback(SAVE_DIR, \"model_7_10_pct_fixed_data_USE\")]\n",
    ")"
   ]
  },
  {
   "cell_type": "code",
   "execution_count": 61,
   "metadata": {},
   "outputs": [
    {
     "name": "stdout",
     "output_type": "stream",
     "text": [
      "24/24 [==============================] - 1s 21ms/step\n",
      "Accuracy: 0.7795275590551181\n",
      "Precision: 0.7960526315789473\n",
      "Recall: 0.6954022988505747\n",
      "F1-Score: 0.7423312883435583\n"
     ]
    },
    {
     "data": {
      "image/png": "[encoded data removed]",
      "text/plain": [
       "<Figure size 720x720 with 2 Axes>"
      ]
     },
     "metadata": {
      "needs_background": "light"
     },
     "output_type": "display_data"
    }
   ],
   "source": [
    "model_7_pred_probs = model_7.predict(val_sentences)\n",
    "model_7_preds = tf.squeeze(tf.round(model_7_pred_probs))\n",
    "results_model_7_10_pct_fixed_data = evaluate_predictions(val_labels, model_7_preds)"
   ]
  },
  {
   "cell_type": "markdown",
   "metadata": {},
   "source": [
    "Ooowie! This seems decent for the kind of training data its seen."
   ]
  },
  {
   "cell_type": "markdown",
   "metadata": {},
   "source": [
    "> 🔑**Note:** Be very careful when creating training/validation/test splits that you don't leak data across the datasets, otherwise your model evaluation metrics will be wrong. If something looks too good to be true (a model trained on 10% of data outperforming the same model trained on 100% of data), trust your gut and go back through to find where the error may lie"
   ]
  },
  {
   "cell_type": "markdown",
   "metadata": {},
   "source": [
    "## Comparing the performance of each of our models"
   ]
  },
  {
   "cell_type": "code",
   "execution_count": null,
   "metadata": {},
   "outputs": [],
   "source": [
    "# Combine model results into a DataFrame\n",
    "\n",
    "# all_model_results = pd.DataFrame({\"0_baseline\": baseline_results,\n",
    "#                                  \"1_simple_dense\": model_1_results,\n",
    "#                                  \"2_lstm\": model_2_results,\n",
    "#                                  \"3_gru\": model_3_results,\n",
    "#                                  \"4_bidirectional\": model_4_results,\n",
    "#                                  \"5_conv1d\": model_5_results,\n",
    "#                                  \"6_USE\": model_6_results,\n",
    "#                                  \"7_USE_10_percent\": model_7_results})\n",
    "\n",
    "# all_model_results.transpose()"
   ]
  },
  {
   "cell_type": "code",
   "execution_count": null,
   "metadata": {},
   "outputs": [],
   "source": [
    "# Plot and compare all of the model results\n",
    "# all_model_results.plot(kind = \"bar\", figsize = (10, 7).legend(bbox_to_anchor = (1.0, 1.0)));"
   ]
  },
  {
   "cell_type": "code",
   "execution_count": null,
   "metadata": {},
   "outputs": [],
   "source": [
    "# Sort model results by f1-score\n",
    "# all_model_results.sort_values(\"f1\", ascending = False)[\"f1\"].plot(kind = \"bar\", figsize = (10, 7));"
   ]
  },
  {
   "cell_type": "markdown",
   "metadata": {},
   "source": [
    "## Comparing our Models Using TensorBoard"
   ]
  },
  {
   "cell_type": "code",
   "execution_count": null,
   "metadata": {},
   "outputs": [],
   "source": [
    "# !tensorboard dev upload --logdir \"TensorBoard/NLP\" \\\n",
    "    # --name \"NLP Modelling Experiments\" \\\n",
    "    # --description \"Comparing different experiments on TensorBoard\" \\\n",
    "    # --one_shot"
   ]
  },
  {
   "cell_type": "code",
   "execution_count": null,
   "metadata": {},
   "outputs": [],
   "source": [
    "# !tensorboard dev list"
   ]
  },
  {
   "cell_type": "code",
   "execution_count": null,
   "metadata": {},
   "outputs": [],
   "source": [
    "# !tensorboard dev delete --experiment_id ...."
   ]
  },
  {
   "cell_type": "markdown",
   "metadata": {},
   "source": [
    "## Saving and Loading a Trained Model\n",
    "There are 2 main formats to save a model in TensorFlow:\n",
    "1. The HDF-5 format\n",
    "2. The SavedModel format"
   ]
  },
  {
   "cell_type": "code",
   "execution_count": 67,
   "metadata": {},
   "outputs": [],
   "source": [
    "model_7.save(\"Models/NLP/best_model.h5\")"
   ]
  },
  {
   "cell_type": "code",
   "execution_count": 70,
   "metadata": {},
   "outputs": [],
   "source": [
    "# Load model with custom Hub Layer (required HDF5 format)\n",
    "# import tensorflow_hub as hub\n",
    "\n",
    "# loaded_model_7 = tf.keras.models.load_model(\"Models/NLP/best_model.h5\", custom_objects={\"KerasLayer\": hub.KerasLayer})"
   ]
  },
  {
   "cell_type": "markdown",
   "metadata": {},
   "source": [
    "## Finding the most wrong examples\n",
    "\n",
    "* If our best model still isn't perfect, what examples is it getting wrong?\n",
    "* And of these wrong examples which ones is it getting *most* wrong (those with prediction probabilities closest to the opposite class)\n",
    "\n",
    "For example if a sample should have a label of 0 but our model predicts a prediction probability of 0.999 (really close to 1) and vice versa"
   ]
  },
  {
   "cell_type": "code",
   "execution_count": 1,
   "metadata": {},
   "outputs": [
    {
     "name": "stderr",
     "output_type": "stream",
     "text": [
      "  % Total    % Received % Xferd  Average Speed   Time    Time     Time  Current\n",
      "                                 Dload  Upload   Total   Spent    Left  Speed\n",
      "\n",
      "  0     0    0     0    0     0      0      0 --:--:-- --:--:-- --:--:--     0\n",
      "  0  916M    0  3338    0     0   2676      0 99:43:55  0:00:01 99:43:54  2678\n",
      "  0  916M    0 3086k    0     0  1918k      0  0:08:08  0:00:01  0:08:07 1919k\n",
      "  1  916M    1 9808k    0     0  3757k      0  0:04:09  0:00:02  0:04:07 3757k\n",
      "  2  916M    2 18.5M    0     0  5267k      0  0:02:58  0:00:03  0:02:55 5268k\n",
      "  3  916M    3 28.1M    0     0  6259k      0  0:02:29  0:00:04  0:02:25 6260k\n",
      "  4  916M    4 38.5M    0     0  7043k      0  0:02:13  0:00:05  0:02:08 9055k\n",
      "  5  916M    5 49.0M    0     0  7595k      0  0:02:03  0:00:06  0:01:57 9422k\n",
      "  6  916M    6 60.0M    0     0  8081k      0  0:01:56  0:00:07  0:01:49 10.0M\n",
      "  7  916M    7 68.0M    0     0  8096k      0  0:01:55  0:00:08  0:01:47  9.9M\n",
      "  8  916M    8 75.9M    0     0  8093k      0  0:01:55  0:00:09  0:01:46 9783k\n",
      "  9  916M    9 85.2M    0     0  8229k      0  0:01:54  0:00:10  0:01:44 9560k\n",
      " 10  916M   10 93.7M    0     0  8274k      0  0:01:53  0:00:11  0:01:42 9169k\n",
      " 11  916M   11  101M    0     0  8173k      0  0:01:54  0:00:12  0:01:42 8309k\n",
      " 12  916M   12  110M    0     0  8296k      0  0:01:53  0:00:13  0:01:40 8641k\n",
      " 12  916M   12  116M    0     0  8145k      0  0:01:55  0:00:14  0:01:41 8247k\n",
      " 13  916M   13  125M    0     0  8250k      0  0:01:53  0:00:15  0:01:38 8292k\n",
      " 14  916M   14  131M    0     0  8134k      0  0:01:55  0:00:16  0:01:39 7809k\n",
      " 15  916M   15  142M    0     0  8283k      0  0:01:53  0:00:17  0:01:36 8569k\n",
      " 16  916M   16  151M    0     0  8332k      0  0:01:52  0:00:18  0:01:34 8427k\n",
      " 17  916M   17  156M    0     0  8125k      0  0:01:55  0:00:19  0:01:36 8068k\n",
      " 17  916M   17  161M    0     0  8037k      0  0:01:56  0:00:20  0:01:36 7371k\n",
      " 18  916M   18  171M    0     0  8148k      0  0:01:55  0:00:21  0:01:34 8196k\n",
      " 19  916M   19  181M    0     0  8143k      0  0:01:55  0:00:22  0:01:33 7663k\n",
      " 20  916M   20  188M    0     0  8186k      0  0:01:54  0:00:23  0:01:31 7647k\n",
      " 21  916M   21  194M    0     0  8054k      0  0:01:56  0:00:24  0:01:32 7777k\n",
      " 21  916M   21  200M    0     0  8003k      0  0:01:57  0:00:25  0:01:32 7863k\n",
      " 22  916M   22  207M    0     0  7992k      0  0:01:57  0:00:26  0:01:31 7317k\n",
      " 23  916M   23  214M    0     0  7951k      0  0:01:58  0:00:27  0:01:31 7046k\n",
      " 24  916M   24  225M    0     0  8065k      0  0:01:56  0:00:28  0:01:28 7490k\n",
      " 25  916M   25  235M    0     0  8130k      0  0:01:55  0:00:29  0:01:26 8509k\n",
      " 26  916M   26  241M    0     0  8091k      0  0:01:55  0:00:30  0:01:25 8544k\n",
      " 27  916M   27  250M    0     0  8108k      0  0:01:55  0:00:31  0:01:24 8725k\n",
      " 28  916M   28  257M    0     0  8078k      0  0:01:56  0:00:32  0:01:24 8783k\n",
      " 28  916M   28  263M    0     0  8028k      0  0:01:56  0:00:33  0:01:23 7822k\n",
      " 29  916M   29  270M    0     0  7989k      0  0:01:57  0:00:34  0:01:23 7155k\n",
      " 29  916M   29  274M    0     0  7882k      0  0:01:59  0:00:35  0:01:24 6598k\n",
      " 30  916M   30  281M    0     0  7877k      0  0:01:59  0:00:36  0:01:23 6413k\n",
      " 31  916M   31  288M    0     0  7844k      0  0:01:59  0:00:37  0:01:22 6317k\n",
      " 32  916M   32  298M    0     0  7906k      0  0:01:58  0:00:38  0:01:20 7075k\n",
      " 33  916M   33  308M    0     0  7974k      0  0:01:57  0:00:39  0:01:18 7872k\n",
      " 34  916M   34  319M    0     0  8053k      0  0:01:56  0:00:40  0:01:16 9273k\n",
      " 35  916M   35  328M    0     0  8093k      0  0:01:55  0:00:41  0:01:14 9674k\n",
      " 37  916M   37  339M    0     0  8167k      0  0:01:54  0:00:42  0:01:12 10.3M\n",
      " 38  916M   38  350M    0     0  8239k      0  0:01:53  0:00:43  0:01:10 10.5M\n",
      " 39  916M   39  361M    0     0  8295k      0  0:01:53  0:00:44  0:01:09 10.5M\n",
      " 40  916M   40  372M    0     0  8355k      0  0:01:52  0:00:45  0:01:07 10.5M\n",
      " 41  916M   41  381M    0     0  8383k      0  0:01:51  0:00:46  0:01:05 10.5M\n",
      " 42  916M   42  392M    0     0  8442k      0  0:01:51  0:00:47  0:01:04 10.5M\n",
      " 43  916M   43  402M    0     0  8473k      0  0:01:50  0:00:48  0:01:02 10.2M\n",
      " 44  916M   44  410M    0     0  8475k      0  0:01:50  0:00:49  0:01:01  9.8M\n",
      " 46  916M   46  421M    0     0  8530k      0  0:01:49  0:00:50  0:00:59  9.8M\n",
      " 47  916M   47  431M    0     0  8551k      0  0:01:49  0:00:51  0:00:58  9.8M\n",
      " 48  916M   48  441M    0     0  8602k      0  0:01:49  0:00:52  0:00:57  9.8M\n",
      " 49  916M   49  452M    0     0  8651k      0  0:01:48  0:00:53  0:00:55 10.1M\n",
      " 50  916M   50  462M    0     0  8676k      0  0:01:48  0:00:54  0:00:54 10.4M\n",
      " 51  916M   51  473M    0     0  8723k      0  0:01:47  0:00:55  0:00:52 10.4M\n",
      " 52  916M   52  483M    0     0  8740k      0  0:01:47  0:00:56  0:00:51 10.4M\n",
      " 53  916M   53  494M    0     0  8783k      0  0:01:46  0:00:57  0:00:49 10.4M\n",
      " 54  916M   54  502M    0     0  8780k      0  0:01:46  0:00:58  0:00:48  9.9M\n",
      " 56  916M   56  513M    0     0  8820k      0  0:01:46  0:00:59  0:00:47 10.1M\n",
      " 56  916M   56  522M    0     0  8822k      0  0:01:46  0:01:00  0:00:46 9929k\n",
      " 58  916M   58  532M    0     0  8844k      0  0:01:46  0:01:01  0:00:45  9.7M\n",
      " 59  916M   59  542M    0     0  8876k      0  0:01:45  0:01:02  0:00:43 9937k\n",
      " 60  916M   60  551M    0     0  8881k      0  0:01:45  0:01:03  0:00:42  9.8M\n",
      " 61  916M   61  562M    0     0  8917k      0  0:01:45  0:01:04  0:00:41  9.8M\n",
      " 62  916M   62  572M    0     0  8941k      0  0:01:44  0:01:05  0:00:39 10.1M\n",
      " 63  916M   63  582M    0     0  8955k      0  0:01:44  0:01:06  0:00:38 10.0M\n",
      " 64  916M   64  590M    0     0  8946k      0  0:01:44  0:01:07  0:00:37 9833k\n",
      " 65  916M   65  600M    0     0  8955k      0  0:01:44  0:01:08  0:00:36 9893k\n",
      " 66  916M   66  610M    0     0  8986k      0  0:01:44  0:01:09  0:00:35 9878k\n",
      " 67  916M   67  620M    0     0  9003k      0  0:01:44  0:01:10  0:00:34 9817k\n",
      " 68  916M   68  631M    0     0  9031k      0  0:01:43  0:01:11  0:00:32  9.8M\n",
      " 69  916M   69  640M    0     0  9037k      0  0:01:43  0:01:12  0:00:31 10.0M\n",
      " 71  916M   71  651M    0     0  9066k      0  0:01:43  0:01:13  0:00:30 10.3M\n",
      " 72  916M   72  662M    0     0  9092k      0  0:01:43  0:01:14  0:00:29 10.3M\n",
      " 73  916M   73  673M    0     0  9122k      0  0:01:42  0:01:15  0:00:27 10.5M\n",
      " 74  916M   74  684M    0     0  9149k      0  0:01:42  0:01:16  0:00:26 10.5M\n",
      " 75  916M   75  693M    0     0  9156k      0  0:01:42  0:01:17  0:00:25 10.6M\n",
      " 76  916M   76  704M    0     0  9181k      0  0:01:42  0:01:18  0:00:24 10.6M\n",
      " 78  916M   78  715M    0     0  9205k      0  0:01:41  0:01:19  0:00:22 10.6M\n",
      " 78  916M   78  723M    0     0  9191k      0  0:01:42  0:01:20  0:00:22 10.0M\n",
      " 80  916M   80  734M    0     0  9216k      0  0:01:41  0:01:21  0:00:20 10.0M\n",
      " 81  916M   81  742M    0     0  9208k      0  0:01:41  0:01:22  0:00:19  9.7M\n",
      " 82  916M   82  753M    0     0  9231k      0  0:01:41  0:01:23  0:00:18  9.7M\n",
      " 83  916M   83  762M    0     0  9230k      0  0:01:41  0:01:24  0:00:17 9617k\n",
      " 84  916M   84  772M    0     0  9239k      0  0:01:41  0:01:25  0:00:16  9.7M\n",
      " 85  916M   85  782M    0     0  9255k      0  0:01:41  0:01:26  0:00:15 9888k\n",
      " 86  916M   86  793M    0     0  9268k      0  0:01:41  0:01:27  0:00:14 10.0M\n",
      " 87  916M   87  803M    0     0  9281k      0  0:01:41  0:01:28  0:00:13  9.8M\n",
      " 88  916M   88  814M    0     0  9303k      0  0:01:40  0:01:29  0:00:11 10.2M\n",
      " 89  916M   89  823M    0     0  9302k      0  0:01:40  0:01:30  0:00:10 10.1M\n",
      " 91  916M   91  834M    0     0  9322k      0  0:01:40  0:01:31  0:00:09 10.2M\n",
      " 92  916M   92  844M    0     0  9341k      0  0:01:40  0:01:32  0:00:08 10.3M\n",
      " 93  916M   93  854M    0     0  9343k      0  0:01:40  0:01:33  0:00:07 10.1M\n",
      " 94  916M   94  865M    0     0  9363k      0  0:01:40  0:01:34  0:00:06 10.1M\n",
      " 95  916M   95  876M    0     0  9383k      0  0:01:39  0:01:35  0:00:04 10.5M\n",
      " 96  916M   96  886M    0     0  9397k      0  0:01:39  0:01:36  0:00:03 10.5M\n",
      " 97  916M   97  897M    0     0  9410k      0  0:01:39  0:01:37  0:00:02 10.4M\n",
      " 98  916M   98  904M    0     0  9396k      0  0:01:39  0:01:38  0:00:01 10.1M\n",
      " 99  916M   99  913M    0     0  9389k      0  0:01:39  0:01:39 --:--:-- 9897k\n",
      "100  916M  100  916M    0     0  9368k      0  0:01:40  0:01:40 --:--:-- 9057k\n"
     ]
    }
   ],
   "source": [
    "# Download a pretrained model from Google Storage\n",
    "!curl \"https://storage.googleapis.com/ztm_tf_course/08_model_6_USE_feature_extractor.zip\" --output \"Models/NLP/08_model_6_USE_feature_extractor.zip\""
   ]
  },
  {
   "cell_type": "code",
   "execution_count": 2,
   "metadata": {},
   "outputs": [],
   "source": [
    "from zipfile import ZipFile\n",
    "zip_file = ZipFile(\"Models/NLP/08_model_6_USE_feature_extractor.zip\")\n",
    "zip_file.extractall(\"Models/NLP\")\n",
    "zip_file.close()"
   ]
  },
  {
   "cell_type": "code",
   "execution_count": 10,
   "metadata": {},
   "outputs": [
    {
     "name": "stdout",
     "output_type": "stream",
     "text": [
      "WARNING:tensorflow:SavedModel saved prior to TF 2.5 detected when loading Keras model. Please ensure that you are saving the model with model.save() or tf.keras.models.save_model(), *NOT* tf.saved_model.save(). To confirm, there should be a file named \"keras_metadata.pb\" in the SavedModel directory.\n",
      "24/24 [==============================] - 5s 37ms/step - loss: 0.4272 - accuracy: 0.8163\n"
     ]
    },
    {
     "data": {
      "text/plain": [
       "[0.42723122239112854, 0.8162729740142822]"
      ]
     },
     "execution_count": 10,
     "metadata": {},
     "output_type": "execute_result"
    }
   ],
   "source": [
    "# Import previously trained model\n",
    "model_6_pretrained = tf.keras.models.load_model(\"Models/NLP/08_model_6_USE_feature_extractor\")\n",
    "model_6_pretrained.evaluate(val_sentences, val_labels)"
   ]
  },
  {
   "cell_type": "code",
   "execution_count": 11,
   "metadata": {},
   "outputs": [
    {
     "name": "stdout",
     "output_type": "stream",
     "text": [
      "24/24 [==============================] - 1s 26ms/step\n"
     ]
    },
    {
     "data": {
      "text/plain": [
       "<tf.Tensor: shape=(10,), dtype=float32, numpy=array([0., 1., 1., 0., 1., 1., 1., 1., 1., 0.], dtype=float32)>"
      ]
     },
     "execution_count": 11,
     "metadata": {},
     "output_type": "execute_result"
    }
   ],
   "source": [
    "# Make predictions with the loaded model from GS\n",
    "model_6_pretrained_pred_probs = model_6_pretrained.predict(val_sentences)\n",
    "model_6_pretrained_preds = tf.squeeze(tf.round(model_6_pretrained_pred_probs))\n",
    "model_6_pretrained_preds[:10]"
   ]
  },
  {
   "cell_type": "code",
   "execution_count": 12,
   "metadata": {},
   "outputs": [
    {
     "data": {
      "text/html": [
       "<div>\n",
       "<style scoped>\n",
       "    .dataframe tbody tr th:only-of-type {\n",
       "        vertical-align: middle;\n",
       "    }\n",
       "\n",
       "    .dataframe tbody tr th {\n",
       "        vertical-align: top;\n",
       "    }\n",
       "\n",
       "    .dataframe thead th {\n",
       "        text-align: right;\n",
       "    }\n",
       "</style>\n",
       "<table border=\"1\" class=\"dataframe\">\n",
       "  <thead>\n",
       "    <tr style=\"text-align: right;\">\n",
       "      <th></th>\n",
       "      <th>text</th>\n",
       "      <th>target</th>\n",
       "      <th>pred</th>\n",
       "      <th>pred_prob</th>\n",
       "    </tr>\n",
       "  </thead>\n",
       "  <tbody>\n",
       "    <tr>\n",
       "      <th>0</th>\n",
       "      <td>DFR EP016 Monthly Meltdown - On Dnbheaven 2015...</td>\n",
       "      <td>0</td>\n",
       "      <td>0.0</td>\n",
       "      <td>0.159757</td>\n",
       "    </tr>\n",
       "    <tr>\n",
       "      <th>1</th>\n",
       "      <td>FedEx no longer to transport bioterror germs i...</td>\n",
       "      <td>0</td>\n",
       "      <td>1.0</td>\n",
       "      <td>0.747162</td>\n",
       "    </tr>\n",
       "    <tr>\n",
       "      <th>2</th>\n",
       "      <td>Gunmen kill four in El Salvador bus attack: Su...</td>\n",
       "      <td>1</td>\n",
       "      <td>1.0</td>\n",
       "      <td>0.988749</td>\n",
       "    </tr>\n",
       "    <tr>\n",
       "      <th>3</th>\n",
       "      <td>@camilacabello97 Internally and externally scr...</td>\n",
       "      <td>1</td>\n",
       "      <td>0.0</td>\n",
       "      <td>0.196229</td>\n",
       "    </tr>\n",
       "    <tr>\n",
       "      <th>4</th>\n",
       "      <td>Radiation emergency #preparedness starts with ...</td>\n",
       "      <td>1</td>\n",
       "      <td>1.0</td>\n",
       "      <td>0.707808</td>\n",
       "    </tr>\n",
       "    <tr>\n",
       "      <th>...</th>\n",
       "      <td>...</td>\n",
       "      <td>...</td>\n",
       "      <td>...</td>\n",
       "      <td>...</td>\n",
       "    </tr>\n",
       "    <tr>\n",
       "      <th>757</th>\n",
       "      <td>That's the ultimate road to destruction</td>\n",
       "      <td>0</td>\n",
       "      <td>0.0</td>\n",
       "      <td>0.137074</td>\n",
       "    </tr>\n",
       "    <tr>\n",
       "      <th>758</th>\n",
       "      <td>@SetZorah dad why dont you claim me that mean ...</td>\n",
       "      <td>0</td>\n",
       "      <td>0.0</td>\n",
       "      <td>0.095865</td>\n",
       "    </tr>\n",
       "    <tr>\n",
       "      <th>759</th>\n",
       "      <td>FedEx will no longer transport bioterror patho...</td>\n",
       "      <td>0</td>\n",
       "      <td>1.0</td>\n",
       "      <td>0.876982</td>\n",
       "    </tr>\n",
       "    <tr>\n",
       "      <th>760</th>\n",
       "      <td>Crack in the path where I wiped out this morni...</td>\n",
       "      <td>0</td>\n",
       "      <td>1.0</td>\n",
       "      <td>0.612631</td>\n",
       "    </tr>\n",
       "    <tr>\n",
       "      <th>761</th>\n",
       "      <td>I liked a @YouTube video from @dannyonpc http:...</td>\n",
       "      <td>0</td>\n",
       "      <td>0.0</td>\n",
       "      <td>0.117992</td>\n",
       "    </tr>\n",
       "  </tbody>\n",
       "</table>\n",
       "<p>762 rows × 4 columns</p>\n",
       "</div>"
      ],
      "text/plain": [
       "                                                  text  target  pred  \\\n",
       "0    DFR EP016 Monthly Meltdown - On Dnbheaven 2015...       0   0.0   \n",
       "1    FedEx no longer to transport bioterror germs i...       0   1.0   \n",
       "2    Gunmen kill four in El Salvador bus attack: Su...       1   1.0   \n",
       "3    @camilacabello97 Internally and externally scr...       1   0.0   \n",
       "4    Radiation emergency #preparedness starts with ...       1   1.0   \n",
       "..                                                 ...     ...   ...   \n",
       "757            That's the ultimate road to destruction       0   0.0   \n",
       "758  @SetZorah dad why dont you claim me that mean ...       0   0.0   \n",
       "759  FedEx will no longer transport bioterror patho...       0   1.0   \n",
       "760  Crack in the path where I wiped out this morni...       0   1.0   \n",
       "761  I liked a @YouTube video from @dannyonpc http:...       0   0.0   \n",
       "\n",
       "     pred_prob  \n",
       "0     0.159757  \n",
       "1     0.747162  \n",
       "2     0.988749  \n",
       "3     0.196229  \n",
       "4     0.707808  \n",
       "..         ...  \n",
       "757   0.137074  \n",
       "758   0.095865  \n",
       "759   0.876982  \n",
       "760   0.612631  \n",
       "761   0.117992  \n",
       "\n",
       "[762 rows x 4 columns]"
      ]
     },
     "execution_count": 12,
     "metadata": {},
     "output_type": "execute_result"
    }
   ],
   "source": [
    "# Create DataFrame with validation sentences and best performing model predictions\n",
    "val_df = pd.DataFrame({\n",
    "    \"text\": val_sentences,\n",
    "    \"target\": val_labels,\n",
    "    \"pred\": model_6_pretrained_preds,\n",
    "    \"pred_prob\": tf.squeeze(model_6_pretrained_pred_probs)\n",
    "})\n",
    "\n",
    "val_df"
   ]
  },
  {
   "cell_type": "code",
   "execution_count": 31,
   "metadata": {},
   "outputs": [],
   "source": [
    "false_preds_df = val_df[val_df.target != val_df.pred].sort_values(by = \"pred_prob\", ascending = False)"
   ]
  },
  {
   "cell_type": "code",
   "execution_count": 32,
   "metadata": {},
   "outputs": [
    {
     "data": {
      "text/html": [
       "<div>\n",
       "<style scoped>\n",
       "    .dataframe tbody tr th:only-of-type {\n",
       "        vertical-align: middle;\n",
       "    }\n",
       "\n",
       "    .dataframe tbody tr th {\n",
       "        vertical-align: top;\n",
       "    }\n",
       "\n",
       "    .dataframe thead th {\n",
       "        text-align: right;\n",
       "    }\n",
       "</style>\n",
       "<table border=\"1\" class=\"dataframe\">\n",
       "  <thead>\n",
       "    <tr style=\"text-align: right;\">\n",
       "      <th></th>\n",
       "      <th>text</th>\n",
       "      <th>target</th>\n",
       "      <th>pred</th>\n",
       "      <th>pred_prob</th>\n",
       "    </tr>\n",
       "  </thead>\n",
       "  <tbody>\n",
       "    <tr>\n",
       "      <th>31</th>\n",
       "      <td>? High Skies - Burning Buildings ? http://t.co...</td>\n",
       "      <td>0</td>\n",
       "      <td>1.0</td>\n",
       "      <td>0.910196</td>\n",
       "    </tr>\n",
       "    <tr>\n",
       "      <th>759</th>\n",
       "      <td>FedEx will no longer transport bioterror patho...</td>\n",
       "      <td>0</td>\n",
       "      <td>1.0</td>\n",
       "      <td>0.876982</td>\n",
       "    </tr>\n",
       "    <tr>\n",
       "      <th>628</th>\n",
       "      <td>@noah_anyname That's where the concentration c...</td>\n",
       "      <td>0</td>\n",
       "      <td>1.0</td>\n",
       "      <td>0.852300</td>\n",
       "    </tr>\n",
       "    <tr>\n",
       "      <th>209</th>\n",
       "      <td>Ashes 2015: AustraliaÛªs collapse at Trent Br...</td>\n",
       "      <td>0</td>\n",
       "      <td>1.0</td>\n",
       "      <td>0.835454</td>\n",
       "    </tr>\n",
       "    <tr>\n",
       "      <th>251</th>\n",
       "      <td>@AshGhebranious civil rights continued in the ...</td>\n",
       "      <td>0</td>\n",
       "      <td>1.0</td>\n",
       "      <td>0.827213</td>\n",
       "    </tr>\n",
       "    <tr>\n",
       "      <th>...</th>\n",
       "      <td>...</td>\n",
       "      <td>...</td>\n",
       "      <td>...</td>\n",
       "      <td>...</td>\n",
       "    </tr>\n",
       "    <tr>\n",
       "      <th>411</th>\n",
       "      <td>@SoonerMagic_ I mean I'm a fan but I don't nee...</td>\n",
       "      <td>1</td>\n",
       "      <td>0.0</td>\n",
       "      <td>0.043918</td>\n",
       "    </tr>\n",
       "    <tr>\n",
       "      <th>233</th>\n",
       "      <td>I get to smoke my shit in peace</td>\n",
       "      <td>1</td>\n",
       "      <td>0.0</td>\n",
       "      <td>0.042087</td>\n",
       "    </tr>\n",
       "    <tr>\n",
       "      <th>38</th>\n",
       "      <td>Why are you deluged with low self-image? Take ...</td>\n",
       "      <td>1</td>\n",
       "      <td>0.0</td>\n",
       "      <td>0.038998</td>\n",
       "    </tr>\n",
       "    <tr>\n",
       "      <th>244</th>\n",
       "      <td>Reddit Will Now QuarantineÛ_ http://t.co/pkUA...</td>\n",
       "      <td>1</td>\n",
       "      <td>0.0</td>\n",
       "      <td>0.038949</td>\n",
       "    </tr>\n",
       "    <tr>\n",
       "      <th>23</th>\n",
       "      <td>Ron &amp;amp; Fez - Dave's High School Crush https...</td>\n",
       "      <td>1</td>\n",
       "      <td>0.0</td>\n",
       "      <td>0.037186</td>\n",
       "    </tr>\n",
       "  </tbody>\n",
       "</table>\n",
       "<p>140 rows × 4 columns</p>\n",
       "</div>"
      ],
      "text/plain": [
       "                                                  text  target  pred  \\\n",
       "31   ? High Skies - Burning Buildings ? http://t.co...       0   1.0   \n",
       "759  FedEx will no longer transport bioterror patho...       0   1.0   \n",
       "628  @noah_anyname That's where the concentration c...       0   1.0   \n",
       "209  Ashes 2015: AustraliaÛªs collapse at Trent Br...       0   1.0   \n",
       "251  @AshGhebranious civil rights continued in the ...       0   1.0   \n",
       "..                                                 ...     ...   ...   \n",
       "411  @SoonerMagic_ I mean I'm a fan but I don't nee...       1   0.0   \n",
       "233                    I get to smoke my shit in peace       1   0.0   \n",
       "38   Why are you deluged with low self-image? Take ...       1   0.0   \n",
       "244  Reddit Will Now QuarantineÛ_ http://t.co/pkUA...       1   0.0   \n",
       "23   Ron &amp; Fez - Dave's High School Crush https...       1   0.0   \n",
       "\n",
       "     pred_prob  \n",
       "31    0.910196  \n",
       "759   0.876982  \n",
       "628   0.852300  \n",
       "209   0.835454  \n",
       "251   0.827213  \n",
       "..         ...  \n",
       "411   0.043918  \n",
       "233   0.042087  \n",
       "38    0.038998  \n",
       "244   0.038949  \n",
       "23    0.037186  \n",
       "\n",
       "[140 rows x 4 columns]"
      ]
     },
     "execution_count": 32,
     "metadata": {},
     "output_type": "execute_result"
    }
   ],
   "source": [
    "false_preds_df"
   ]
  },
  {
   "cell_type": "code",
   "execution_count": 34,
   "metadata": {},
   "outputs": [
    {
     "name": "stdout",
     "output_type": "stream",
     "text": [
      "Target: 0, Pred: 1.0, Prob: 0.9101957678794861\n",
      "Text:\n",
      "? High Skies - Burning Buildings ? http://t.co/uVq41i3Kx2 #nowplaying\n",
      "\n",
      "----\n",
      "\n",
      "Target: 0, Pred: 1.0, Prob: 0.8769821524620056\n",
      "Text:\n",
      "FedEx will no longer transport bioterror pathogens in wake of anthrax lab mishaps http://t.co/lHpgxc4b8J\n",
      "\n",
      "----\n",
      "\n",
      "Target: 0, Pred: 1.0, Prob: 0.8523000478744507\n",
      "Text:\n",
      "@noah_anyname That's where the concentration camps and mass murder come in. \n",
      " \n",
      "EVERY. FUCKING. TIME.\n",
      "\n",
      "----\n",
      "\n",
      "Target: 0, Pred: 1.0, Prob: 0.8354543447494507\n",
      "Text:\n",
      "Ashes 2015: AustraliaÛªs collapse at Trent Bridge among worst in history: England bundled out Australia for 60 ... http://t.co/t5TrhjUAU0\n",
      "\n",
      "----\n",
      "\n",
      "Target: 0, Pred: 1.0, Prob: 0.8272132873535156\n",
      "Text:\n",
      "@AshGhebranious civil rights continued in the 60s. And what about trans-generational trauma? if anything we should listen to the Americans.\n",
      "\n",
      "----\n",
      "\n",
      "Target: 0, Pred: 1.0, Prob: 0.814815878868103\n",
      "Text:\n",
      "@SonofLiberty357 all illuminated by the brightly burning buildings all around the town!\n",
      "\n",
      "----\n",
      "\n",
      "Target: 0, Pred: 1.0, Prob: 0.8108396530151367\n",
      "Text:\n",
      "[55436] 1950 LIONEL TRAINS SMOKE LOCOMOTIVES WITH MAGNE-TRACTION INSTRUCTIONS http://t.co/xEZBs3sq0y http://t.co/C2x0QoKGlY\n",
      "\n",
      "----\n",
      "\n",
      "Target: 0, Pred: 1.0, Prob: 0.8031217455863953\n",
      "Text:\n",
      "@madonnamking RSPCA site multiple 7 story high rise buildings next to low density character residential in an area that floods\n",
      "\n",
      "----\n",
      "\n",
      "Target: 0, Pred: 1.0, Prob: 0.766900897026062\n",
      "Text:\n",
      "@freefromwolves GodsLove &amp; #thankU brother Danny for RT of NEW VIDEO http://t.co/cybKsXHF7d The Coming Apocalyptic US Earthquake &amp; Tsunami\n",
      "\n",
      "----\n",
      "\n",
      "Target: 0, Pred: 1.0, Prob: 0.766625165939331\n",
      "Text:\n",
      "Air Group is here to the rescue! We have 24/7 Emergency Service! Learn more about it here - http://t.co/9lyx7zMtHE http://t.co/5PbC96rTMJ\n",
      "\n",
      "----\n",
      "\n"
     ]
    }
   ],
   "source": [
    "for row in false_preds_df[:10].itertuples():\n",
    "    _, text, target, pred, pred_prob = row\n",
    "    print(f\"Target: {target}, Pred: {pred}, Prob: {pred_prob}\")\n",
    "    print(f'Text:\\n{text}\\n')\n",
    "    print('----\\n')"
   ]
  },
  {
   "cell_type": "code",
   "execution_count": 35,
   "metadata": {},
   "outputs": [
    {
     "name": "stdout",
     "output_type": "stream",
     "text": [
      "Target: 1, Pred: 0.0, Prob: 0.06730347871780396\n",
      "Text:\n",
      "@DavidVonderhaar At least you were sincere ??\n",
      "\n",
      "----\n",
      "\n",
      "Target: 1, Pred: 0.0, Prob: 0.05507579818367958\n",
      "Text:\n",
      "@willienelson We need help! Horses will die!Please RT &amp; sign petition!Take a stand &amp; be a voice for them! #gilbert23 https://t.co/e8dl1lNCVu\n",
      "\n",
      "----\n",
      "\n",
      "Target: 1, Pred: 0.0, Prob: 0.05460338667035103\n",
      "Text:\n",
      "Lucas Duda is Ghost Rider. Not the Nic Cage version but an actual 'engulfed in flames' badass. #Mets\n",
      "\n",
      "----\n",
      "\n",
      "Target: 1, Pred: 0.0, Prob: 0.054596975445747375\n",
      "Text:\n",
      "going to redo my nails and watch behind the scenes of desolation of smaug ayyy\n",
      "\n",
      "----\n",
      "\n",
      "Target: 1, Pred: 0.0, Prob: 0.049637261778116226\n",
      "Text:\n",
      "You can never escape me. Bullets don't harm me. Nothing harms me. But I know pain. I know pain. Sometimes I share it. With someone like you.\n",
      "\n",
      "----\n",
      "\n",
      "Target: 1, Pred: 0.0, Prob: 0.043918490409851074\n",
      "Text:\n",
      "@SoonerMagic_ I mean I'm a fan but I don't need a girl sounding off like a damn siren\n",
      "\n",
      "----\n",
      "\n",
      "Target: 1, Pred: 0.0, Prob: 0.042086850851774216\n",
      "Text:\n",
      "I get to smoke my shit in peace\n",
      "\n",
      "----\n",
      "\n",
      "Target: 1, Pred: 0.0, Prob: 0.038997944444417953\n",
      "Text:\n",
      "Why are you deluged with low self-image? Take the quiz: http://t.co/XsPqdOrIqj http://t.co/CQYvFR4UCy\n",
      "\n",
      "----\n",
      "\n",
      "Target: 1, Pred: 0.0, Prob: 0.03894946351647377\n",
      "Text:\n",
      "Reddit Will Now QuarantineÛ_ http://t.co/pkUAMXw6pm #onlinecommunities #reddit #amageddon #freespeech #Business http://t.co/PAWvNJ4sAP\n",
      "\n",
      "----\n",
      "\n",
      "Target: 1, Pred: 0.0, Prob: 0.037185799330472946\n",
      "Text:\n",
      "Ron &amp; Fez - Dave's High School Crush https://t.co/aN3W16c8F6 via @YouTube\n",
      "\n",
      "----\n",
      "\n"
     ]
    }
   ],
   "source": [
    "for row in false_preds_df[-10:].itertuples():\n",
    "    _, text, target, pred, pred_prob = row\n",
    "    print(f\"Target: {target}, Pred: {pred}, Prob: {pred_prob}\")\n",
    "    print(f'Text:\\n{text}\\n')\n",
    "    print('----\\n')"
   ]
  },
  {
   "cell_type": "markdown",
   "metadata": {},
   "source": [
    "## Making predictions on the test dataset"
   ]
  },
  {
   "cell_type": "code",
   "execution_count": 37,
   "metadata": {},
   "outputs": [
    {
     "name": "stdout",
     "output_type": "stream",
     "text": [
      "1/1 [==============================] - 0s 102ms/step\n",
      "Pred: 0, Prob: 0.11294429749250412\n",
      "Text:\n",
      "Not an electric debut for Severino but not a disaster either. Looking forward to see what adjustments he makes for start #2.\n",
      "\n",
      "-----\n",
      "\n",
      "1/1 [==============================] - 0s 86ms/step\n",
      "Pred: 0, Prob: 0.35183560848236084\n",
      "Text:\n",
      "I was walking past the fire house today &amp; as soon as I walk by the doors they get call and flip the sirens on. I've never ran so fast.\n",
      "\n",
      "-----\n",
      "\n",
      "1/1 [==============================] - 0s 86ms/step\n",
      "Pred: 1, Prob: 0.5752080678939819\n",
      "Text:\n",
      "#Np love police @PhilCollinsFeed On #LateNiteMix Uganda Broadcasting Corporation. UBC 98FM #Radio/ #Uganda / #MbbLive\n",
      "\n",
      "-----\n",
      "\n",
      "1/1 [==============================] - 0s 64ms/step\n",
      "Pred: 1, Prob: 0.9053696990013123\n",
      "Text:\n",
      "SH 29 Kaimai Ranges - Eastbound. Hazardous driving conditions. Due To A Truck Breakdown... http://t.co/0cuCMZCmaO via @AA_Traffic\n",
      "\n",
      "-----\n",
      "\n",
      "1/1 [==============================] - 0s 98ms/step\n",
      "Pred: 1, Prob: 0.9283893704414368\n",
      "Text:\n",
      "Wildfire near Columbia River town is 50 percent contained - http://t.co/yTPiPXpqr9 http://t.co/HCUQ6jpBtL\n",
      "\n",
      "-----\n",
      "\n",
      "1/1 [==============================] - 0s 76ms/step\n",
      "Pred: 0, Prob: 0.18994298577308655\n",
      "Text:\n",
      "#Funfact #facts Can Stars Collide? http://t.co/E1ao9A7rw9\n",
      "\n",
      "-----\n",
      "\n",
      "1/1 [==============================] - 0s 75ms/step\n",
      "Pred: 0, Prob: 0.4763350486755371\n",
      "Text:\n",
      "Finnish ministers: Fennovoima nuclear reactor will go ahead http://t.co/rcLgI3tWAi\n",
      "\n",
      "-----\n",
      "\n",
      "1/1 [==============================] - 0s 75ms/step\n",
      "Pred: 1, Prob: 0.9612712860107422\n",
      "Text:\n",
      "Flood Advisory issued August 05 at 4:35PM EDT by NWS http://t.co/fuZ7y44P4I #WxKY\n",
      "\n",
      "-----\n",
      "\n",
      "1/1 [==============================] - 0s 76ms/step\n",
      "Pred: 1, Prob: 0.9910773038864136\n",
      "Text:\n",
      "#???? #?? #??? #??? Udhampur terror attack: Militants attack police post 2 SPOs injured - Times of   http://t.co/1KxsGlsTA7\n",
      "\n",
      "-----\n",
      "\n",
      "1/1 [==============================] - 0s 115ms/step\n",
      "Pred: 1, Prob: 0.8255834579467773\n",
      "Text:\n",
      "Who is Tomislav Salopek the Islamic State's Most Recent Hostage? http://t.co/puT3LgsDnf\n",
      "\n",
      "-----\n",
      "\n"
     ]
    }
   ],
   "source": [
    "import random\n",
    "test_sentences = test_df[\"text\"].to_list()\n",
    "test_samples = random.sample(test_sentences, 10)\n",
    "for test_sample in test_samples:\n",
    "    pred_prob = tf.squeeze(model_6_pretrained.predict([test_sample]))\n",
    "    pred = tf.round(pred_prob)\n",
    "    print(f'Pred: {int(pred)}, Prob: {pred_prob}')\n",
    "    print(f'Text:\\n{test_sample}\\n')\n",
    "    print('-----\\n')"
   ]
  },
  {
   "cell_type": "markdown",
   "metadata": {},
   "source": [
    "## The speed/score tradeoff"
   ]
  },
  {
   "cell_type": "code",
   "execution_count": 38,
   "metadata": {},
   "outputs": [],
   "source": [
    "# Let's make a function to measure the time of prediction\n",
    "import time\n",
    "def pred_timer(model, samples):\n",
    "    \"\"\"\n",
    "    Times how long a model takes to make predictions on samples.\n",
    "    \"\"\"\n",
    "    start_time = time.perf_counter() # get start time\n",
    "    model.predict(samples) # make predictions\n",
    "    end_time = time.perf_counter() # get finish time\n",
    "    total_time = end_time - start_time # calculate how long predictions took to make\n",
    "    time_per_pred = total_time / len(samples)\n",
    "    return total_time, time_per_pred"
   ]
  },
  {
   "cell_type": "code",
   "execution_count": 39,
   "metadata": {},
   "outputs": [
    {
     "name": "stdout",
     "output_type": "stream",
     "text": [
      "24/24 [==============================] - 1s 24ms/step\n"
     ]
    },
    {
     "data": {
      "text/plain": [
       "(0.6939992000043276, 0.0009107601049925559)"
      ]
     },
     "execution_count": 39,
     "metadata": {},
     "output_type": "execute_result"
    }
   ],
   "source": [
    "model_6_total_pred_time, model_6_time_per_pred = pred_timer(model = model_6_pretrained, samples = val_sentences)\n",
    "model_6_total_pred_time, model_6_time_per_pred"
   ]
  },
  {
   "cell_type": "code",
   "execution_count": 47,
   "metadata": {},
   "outputs": [
    {
     "data": {
      "text/plain": [
       "(0.026902500001597218, 3.530511811233231e-05)"
      ]
     },
     "execution_count": 47,
     "metadata": {},
     "output_type": "execute_result"
    }
   ],
   "source": [
    "baseline_total_pred_time, baseline_time_per_pred = pred_timer(model = model_0, samples = val_sentences)\n",
    "baseline_total_pred_time, baseline_time_per_pred"
   ]
  },
  {
   "cell_type": "code",
   "execution_count": 48,
   "metadata": {},
   "outputs": [
    {
     "name": "stdout",
     "output_type": "stream",
     "text": [
      "Accuracy: 0.8162729658792651\n",
      "Precision: 0.8398692810457516\n",
      "Recall: 0.7385057471264368\n",
      "F1-Score: 0.7859327217125381\n"
     ]
    },
    {
     "data": {
      "image/png": "[encoded data removed]",
      "text/plain": [
       "<Figure size 720x720 with 2 Axes>"
      ]
     },
     "metadata": {
      "needs_background": "light"
     },
     "output_type": "display_data"
    }
   ],
   "source": [
    "model_6_pretrained_results = evaluate_predictions(val_labels, model_6_pretrained_preds)"
   ]
  },
  {
   "cell_type": "code",
   "execution_count": 50,
   "metadata": {},
   "outputs": [
    {
     "data": {
      "image/png": "[encoded data removed]",
      "text/plain": [
       "<Figure size 720x504 with 1 Axes>"
      ]
     },
     "metadata": {
      "needs_background": "light"
     },
     "output_type": "display_data"
    }
   ],
   "source": [
    "plt.figure(figsize = (10, 7))\n",
    "plt.scatter(baseline_time_per_pred, baseline_results['F1_Score'], label = \"baseline\");\n",
    "plt.scatter(model_6_time_per_pred, model_6_pretrained_results['F1_Score'], label = \"model_6\");\n",
    "plt.legend();\n",
    "plt.title(\"F1-score vs Time per prediction\");\n",
    "plt.xlabel(\"Time per prediction\");\n",
    "plt.ylabel(\"F1-score\");"
   ]
  }
 ],
 "metadata": {
  "kernelspec": {
   "display_name": "Python 3.10.5 64-bit",
   "language": "python",
   "name": "python3"
  },
  "language_info": {
   "codemirror_mode": {
    "name": "ipython",
    "version": 3
   },
   "file_extension": ".py",
   "mimetype": "text/x-python",
   "name": "python",
   "nbconvert_exporter": "python",
   "pygments_lexer": "ipython3",
   "version": "3.10.5"
  },
  "orig_nbformat": 4,
  "vscode": {
   "interpreter": {
    "hash": "98ba7f9ca0a7d3f9faf83a09faac2df1e0ca0e1c9a5db868ca666908d95c6454"
   }
  }
 },
 "nbformat": 4,
 "nbformat_minor": 2
}
