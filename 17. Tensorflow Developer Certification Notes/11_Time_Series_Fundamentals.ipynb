{
 "cells": [
  {
   "cell_type": "markdown",
   "metadata": {},
   "source": [
    "# 11. Time Series Fundamentals"
   ]
  },
  {
   "cell_type": "markdown",
   "metadata": {},
   "source": [
    "## What we're going to cover\n",
    "\n",
    "* Downloading and formatting time series data (the historical price of Bitcoin)\n",
    "* Writing a preprocessing function to prepare our time series data\n",
    "* Setting up multiple time series modelling experiments\n",
    "* Building a multivariate model to take in multivariate time series data\n",
    "* Replicating the N-Beats algorithm using TensorFlow\n",
    "* Making forecasts with prediction intervals\n",
    "* Demonstrating why time series forecasting can be BS with the turkey problem"
   ]
  },
  {
   "cell_type": "markdown",
   "metadata": {},
   "source": [
    "## Time series inputs and outputs\n",
    "\n",
    "What will the price of Bitcoin be tomorrow? -> Actual Output<br>\n",
    "[batch_size, window_size] -> [horizon]"
   ]
  },
  {
   "cell_type": "markdown",
   "metadata": {},
   "source": [
    "## Get Data\n",
    "\n",
    "We're going to be using the historical price data of Bitcoin to try and predict the future price of Bitcoin, we downloaded the data from here: https://www.coindesk.com/price/bitcoin"
   ]
  },
  {
   "cell_type": "code",
   "execution_count": 1,
   "metadata": {},
   "outputs": [
    {
     "name": "stderr",
     "output_type": "stream",
     "text": [
      "  % Total    % Received % Xferd  Average Speed   Time    Time     Time  Current\n",
      "                                 Dload  Upload   Total   Spent    Left  Speed\n",
      "\n",
      "  0     0    0     0    0     0      0      0 --:--:-- --:--:-- --:--:--     0\n",
      "  0  174k    0     0    0     0      0      0 --:--:-- --:--:-- --:--:--     0\n",
      "100  174k  100  174k    0     0   229k      0 --:--:-- --:--:-- --:--:--  229k\n"
     ]
    }
   ],
   "source": [
    "!curl \"https://raw.githubusercontent.com/mrdbourke/tensorflow-deep-learning/main/extras/BTC_USD_2013-10-01_2021-05-18-CoinDesk.csv\" --output \"Data/Time_Series/BTC_USD_2013-10-01_2021-05-18-CoinDesk.csv\""
   ]
  },
  {
   "cell_type": "markdown",
   "metadata": {},
   "source": [
    "## Importing time series with pandas"
   ]
  },
  {
   "cell_type": "code",
   "execution_count": 2,
   "metadata": {},
   "outputs": [
    {
     "data": {
      "text/html": [
       "<div>\n",
       "<style scoped>\n",
       "    .dataframe tbody tr th:only-of-type {\n",
       "        vertical-align: middle;\n",
       "    }\n",
       "\n",
       "    .dataframe tbody tr th {\n",
       "        vertical-align: top;\n",
       "    }\n",
       "\n",
       "    .dataframe thead th {\n",
       "        text-align: right;\n",
       "    }\n",
       "</style>\n",
       "<table border=\"1\" class=\"dataframe\">\n",
       "  <thead>\n",
       "    <tr style=\"text-align: right;\">\n",
       "      <th></th>\n",
       "      <th>Currency</th>\n",
       "      <th>Closing Price (USD)</th>\n",
       "      <th>24h Open (USD)</th>\n",
       "      <th>24h High (USD)</th>\n",
       "      <th>24h Low (USD)</th>\n",
       "    </tr>\n",
       "    <tr>\n",
       "      <th>Date</th>\n",
       "      <th></th>\n",
       "      <th></th>\n",
       "      <th></th>\n",
       "      <th></th>\n",
       "      <th></th>\n",
       "    </tr>\n",
       "  </thead>\n",
       "  <tbody>\n",
       "    <tr>\n",
       "      <th>2013-10-01</th>\n",
       "      <td>BTC</td>\n",
       "      <td>123.65499</td>\n",
       "      <td>124.30466</td>\n",
       "      <td>124.75166</td>\n",
       "      <td>122.56349</td>\n",
       "    </tr>\n",
       "    <tr>\n",
       "      <th>2013-10-02</th>\n",
       "      <td>BTC</td>\n",
       "      <td>125.45500</td>\n",
       "      <td>123.65499</td>\n",
       "      <td>125.75850</td>\n",
       "      <td>123.63383</td>\n",
       "    </tr>\n",
       "    <tr>\n",
       "      <th>2013-10-03</th>\n",
       "      <td>BTC</td>\n",
       "      <td>108.58483</td>\n",
       "      <td>125.45500</td>\n",
       "      <td>125.66566</td>\n",
       "      <td>83.32833</td>\n",
       "    </tr>\n",
       "    <tr>\n",
       "      <th>2013-10-04</th>\n",
       "      <td>BTC</td>\n",
       "      <td>118.67466</td>\n",
       "      <td>108.58483</td>\n",
       "      <td>118.67500</td>\n",
       "      <td>107.05816</td>\n",
       "    </tr>\n",
       "    <tr>\n",
       "      <th>2013-10-05</th>\n",
       "      <td>BTC</td>\n",
       "      <td>121.33866</td>\n",
       "      <td>118.67466</td>\n",
       "      <td>121.93633</td>\n",
       "      <td>118.00566</td>\n",
       "    </tr>\n",
       "  </tbody>\n",
       "</table>\n",
       "</div>"
      ],
      "text/plain": [
       "           Currency  Closing Price (USD)  24h Open (USD)  24h High (USD)  \\\n",
       "Date                                                                       \n",
       "2013-10-01      BTC            123.65499       124.30466       124.75166   \n",
       "2013-10-02      BTC            125.45500       123.65499       125.75850   \n",
       "2013-10-03      BTC            108.58483       125.45500       125.66566   \n",
       "2013-10-04      BTC            118.67466       108.58483       118.67500   \n",
       "2013-10-05      BTC            121.33866       118.67466       121.93633   \n",
       "\n",
       "            24h Low (USD)  \n",
       "Date                       \n",
       "2013-10-01      122.56349  \n",
       "2013-10-02      123.63383  \n",
       "2013-10-03       83.32833  \n",
       "2013-10-04      107.05816  \n",
       "2013-10-05      118.00566  "
      ]
     },
     "execution_count": 2,
     "metadata": {},
     "output_type": "execute_result"
    }
   ],
   "source": [
    "import pandas as pd\n",
    "\n",
    "# Lets read in the Bitcoin data and parse the dates\n",
    "df = pd.read_csv('Data/Time_Series/BTC_USD_2013-10-01_2021-05-18-CoinDesk.csv', parse_dates=[\"Date\"], index_col=[\"Date\"])\n",
    "\n",
    "df.head()"
   ]
  },
  {
   "cell_type": "code",
   "execution_count": 3,
   "metadata": {},
   "outputs": [
    {
     "name": "stdout",
     "output_type": "stream",
     "text": [
      "<class 'pandas.core.frame.DataFrame'>\n",
      "DatetimeIndex: 2787 entries, 2013-10-01 to 2021-05-18\n",
      "Data columns (total 5 columns):\n",
      " #   Column               Non-Null Count  Dtype  \n",
      "---  ------               --------------  -----  \n",
      " 0   Currency             2787 non-null   object \n",
      " 1   Closing Price (USD)  2787 non-null   float64\n",
      " 2   24h Open (USD)       2787 non-null   float64\n",
      " 3   24h High (USD)       2787 non-null   float64\n",
      " 4   24h Low (USD)        2787 non-null   float64\n",
      "dtypes: float64(4), object(1)\n",
      "memory usage: 130.6+ KB\n"
     ]
    }
   ],
   "source": [
    "df.info()"
   ]
  },
  {
   "cell_type": "markdown",
   "metadata": {},
   "source": [
    "We've collected the historical price of Bitcoin for the past 8 years but there's 2787 samples.\n",
    "\n",
    "Typically deep learning models usually like lots and lots and lots of samples (where lots and lots and lots can mean thousands to tens of thousands to millions).\n",
    "\n",
    "A smaller number of samples is typically what you'll run into with time series data problems.\n",
    "\n",
    "**Note:** The seasonality of a time series dataset is referred as the number of samples per year. So for our Bitcoin data, it has a seasonality of daily or value of 265 because we collect one sample per day meaning we'll get 365 samples per year."
   ]
  },
  {
   "cell_type": "markdown",
   "metadata": {},
   "source": [
    "## Types of Time Series Data\n",
    "\n",
    "* Trend: time series has a clear long-term increase or decrease (may or may not be linear)\n",
    "* Seasonal: time series affected by seasonal factors such as time of year (eg increased sales towards the end of the year) or day of week\n",
    "* Cyclic: time series shows rises and falls over an unfixed period, these tend to be longer/more variable than seasonal patterns."
   ]
  },
  {
   "cell_type": "code",
   "execution_count": 4,
   "metadata": {},
   "outputs": [
    {
     "data": {
      "text/html": [
       "<div>\n",
       "<style scoped>\n",
       "    .dataframe tbody tr th:only-of-type {\n",
       "        vertical-align: middle;\n",
       "    }\n",
       "\n",
       "    .dataframe tbody tr th {\n",
       "        vertical-align: top;\n",
       "    }\n",
       "\n",
       "    .dataframe thead th {\n",
       "        text-align: right;\n",
       "    }\n",
       "</style>\n",
       "<table border=\"1\" class=\"dataframe\">\n",
       "  <thead>\n",
       "    <tr style=\"text-align: right;\">\n",
       "      <th></th>\n",
       "      <th>Price</th>\n",
       "    </tr>\n",
       "    <tr>\n",
       "      <th>Date</th>\n",
       "      <th></th>\n",
       "    </tr>\n",
       "  </thead>\n",
       "  <tbody>\n",
       "    <tr>\n",
       "      <th>2013-10-01</th>\n",
       "      <td>123.654990</td>\n",
       "    </tr>\n",
       "    <tr>\n",
       "      <th>2013-10-02</th>\n",
       "      <td>125.455000</td>\n",
       "    </tr>\n",
       "    <tr>\n",
       "      <th>2013-10-03</th>\n",
       "      <td>108.584830</td>\n",
       "    </tr>\n",
       "    <tr>\n",
       "      <th>2013-10-04</th>\n",
       "      <td>118.674660</td>\n",
       "    </tr>\n",
       "    <tr>\n",
       "      <th>2013-10-05</th>\n",
       "      <td>121.338660</td>\n",
       "    </tr>\n",
       "    <tr>\n",
       "      <th>...</th>\n",
       "      <td>...</td>\n",
       "    </tr>\n",
       "    <tr>\n",
       "      <th>2021-05-14</th>\n",
       "      <td>49764.132082</td>\n",
       "    </tr>\n",
       "    <tr>\n",
       "      <th>2021-05-15</th>\n",
       "      <td>50032.693137</td>\n",
       "    </tr>\n",
       "    <tr>\n",
       "      <th>2021-05-16</th>\n",
       "      <td>47885.625255</td>\n",
       "    </tr>\n",
       "    <tr>\n",
       "      <th>2021-05-17</th>\n",
       "      <td>45604.615754</td>\n",
       "    </tr>\n",
       "    <tr>\n",
       "      <th>2021-05-18</th>\n",
       "      <td>43144.471291</td>\n",
       "    </tr>\n",
       "  </tbody>\n",
       "</table>\n",
       "<p>2787 rows × 1 columns</p>\n",
       "</div>"
      ],
      "text/plain": [
       "                   Price\n",
       "Date                    \n",
       "2013-10-01    123.654990\n",
       "2013-10-02    125.455000\n",
       "2013-10-03    108.584830\n",
       "2013-10-04    118.674660\n",
       "2013-10-05    121.338660\n",
       "...                  ...\n",
       "2021-05-14  49764.132082\n",
       "2021-05-15  50032.693137\n",
       "2021-05-16  47885.625255\n",
       "2021-05-17  45604.615754\n",
       "2021-05-18  43144.471291\n",
       "\n",
       "[2787 rows x 1 columns]"
      ]
     },
     "execution_count": 4,
     "metadata": {},
     "output_type": "execute_result"
    }
   ],
   "source": [
    "# Only want closing price for each day\n",
    "bitcoin_prices = pd.DataFrame(df[\"Closing Price (USD)\"]).rename(columns = {\"Closing Price (USD)\": \"Price\"})\n",
    "bitcoin_prices"
   ]
  },
  {
   "cell_type": "code",
   "execution_count": 5,
   "metadata": {},
   "outputs": [
    {
     "data": {
      "image/png": "[encoded data removed]",
      "text/plain": [
       "<Figure size 720x504 with 1 Axes>"
      ]
     },
     "metadata": {
      "needs_background": "light"
     },
     "output_type": "display_data"
    }
   ],
   "source": [
    "import matplotlib.pyplot as plt\n",
    "\n",
    "bitcoin_prices.plot(figsize = (10, 7));\n",
    "plt.ylabel(\"BTC Price\");\n",
    "plt.title(\"Price of Bitcoin from 1 Oct 2013 to 18 May 2021\", fontsize = 16);\n",
    "plt.legend(fontsize = 14);"
   ]
  },
  {
   "cell_type": "code",
   "execution_count": 6,
   "metadata": {},
   "outputs": [],
   "source": [
    "import csv\n",
    "from datetime import datetime\n",
    "\n",
    "date_list = []\n",
    "price_list = []\n",
    "with open('Data/Time_Series/BTC_USD_2013-10-01_2021-05-18-CoinDesk.csv') as csv_file:\n",
    "    csv_reader = csv.reader(csv_file, delimiter= \",\")\n",
    "    next(csv_reader) # skip first line\n",
    "    for line in csv_reader:\n",
    "        date_list.append(datetime.strptime(line[1], \"%Y-%m-%d\")) # get the dates as datetime objects\n",
    "        price_list.append(float(line[2])) # get the closing price as float"
   ]
  },
  {
   "cell_type": "code",
   "execution_count": 7,
   "metadata": {},
   "outputs": [
    {
     "data": {
      "image/png": "[encoded data removed]",
      "text/plain": [
       "<Figure size 720x504 with 1 Axes>"
      ]
     },
     "metadata": {
      "needs_background": "light"
     },
     "output_type": "display_data"
    }
   ],
   "source": [
    "import numpy as np\n",
    "\n",
    "plt.figure(figsize = (10, 7));\n",
    "plt.plot(date_list, price_list);\n",
    "plt.ylabel(\"BTC Price\");\n",
    "plt.title(\"Price of Bitcoin from 1 Oct 2013 to 18 May 2021\", fontsize = 16);"
   ]
  },
  {
   "cell_type": "markdown",
   "metadata": {},
   "source": [
    "## Format data part 1: Create train and test sets of our time series data"
   ]
  },
  {
   "cell_type": "markdown",
   "metadata": {},
   "source": [
    "### Creating train and test sets with time series data (the wrong way)"
   ]
  },
  {
   "cell_type": "code",
   "execution_count": 8,
   "metadata": {},
   "outputs": [
    {
     "data": {
      "text/plain": [
       "(array(['2013-10-01T00:00:00.000000000', '2013-10-02T00:00:00.000000000',\n",
       "        '2013-10-03T00:00:00.000000000', '2013-10-04T00:00:00.000000000',\n",
       "        '2013-10-05T00:00:00.000000000', '2013-10-06T00:00:00.000000000',\n",
       "        '2013-10-07T00:00:00.000000000', '2013-10-08T00:00:00.000000000',\n",
       "        '2013-10-09T00:00:00.000000000', '2013-10-10T00:00:00.000000000'],\n",
       "       dtype='datetime64[ns]'),\n",
       " array([123.65499, 125.455  , 108.58483, 118.67466, 121.33866, 120.65533,\n",
       "        121.795  , 123.033  , 124.049  , 125.96116]))"
      ]
     },
     "execution_count": 8,
     "metadata": {},
     "output_type": "execute_result"
    }
   ],
   "source": [
    "# Get bitcoin date array\n",
    "timesteps = bitcoin_prices.index.to_numpy()\n",
    "prices = bitcoin_prices.Price.to_numpy()\n",
    "\n",
    "timesteps[:10], prices[:10]"
   ]
  },
  {
   "cell_type": "code",
   "execution_count": 9,
   "metadata": {},
   "outputs": [
    {
     "data": {
      "text/plain": [
       "((2229,), (558,), (2229,), (558,))"
      ]
     },
     "execution_count": 9,
     "metadata": {},
     "output_type": "execute_result"
    }
   ],
   "source": [
    "# Wrong way to make train/test sets for time series data\n",
    "from sklearn.model_selection import train_test_split\n",
    "\n",
    "X_train, X_test, y_train, y_test = train_test_split(timesteps, prices, test_size = 0.2, random_state = 42)\n",
    "\n",
    "X_train.shape, X_test.shape, y_train.shape, y_test.shape"
   ]
  },
  {
   "cell_type": "code",
   "execution_count": 10,
   "metadata": {},
   "outputs": [
    {
     "data": {
      "image/png": "[encoded data removed]",
      "text/plain": [
       "<Figure size 720x504 with 1 Axes>"
      ]
     },
     "metadata": {
      "needs_background": "light"
     },
     "output_type": "display_data"
    }
   ],
   "source": [
    "# Lets plot wrong train and test splits\n",
    "plt.figure(figsize=(10, 7))\n",
    "plt.scatter(X_train, y_train, s = 5, label = \"Train Data\")\n",
    "plt.scatter(X_test, y_test, s = 5, label = \"Test Data\")\n",
    "plt.xlabel(\"Date\")\n",
    "plt.ylabel(\"BTC Price\")\n",
    "plt.legend(fontsize = 14)\n",
    "plt.show()"
   ]
  },
  {
   "cell_type": "markdown",
   "metadata": {},
   "source": [
    "## Create train and test sets for time series (the right way)"
   ]
  },
  {
   "cell_type": "code",
   "execution_count": 11,
   "metadata": {},
   "outputs": [],
   "source": [
    "# create train and test splits the right way for time series data\n",
    "split_size = int(0.8 * len(prices))\n",
    "\n",
    "# Create train data splits (everything before the split)\n",
    "X_train, y_train = timesteps[:split_size], prices[:split_size]\n",
    "X_test, y_test = timesteps[split_size:], prices[split_size:]"
   ]
  },
  {
   "cell_type": "code",
   "execution_count": 12,
   "metadata": {},
   "outputs": [
    {
     "data": {
      "image/png": "[encoded data removed]",
      "text/plain": [
       "<Figure size 720x504 with 1 Axes>"
      ]
     },
     "metadata": {
      "needs_background": "light"
     },
     "output_type": "display_data"
    }
   ],
   "source": [
    "plt.figure(figsize=(10, 7))\n",
    "plt.scatter(X_train, y_train, s = 5, label = \"Train Data\")\n",
    "plt.scatter(X_test, y_test, s = 5, label = \"Test Data\")\n",
    "plt.xlabel(\"Date\")\n",
    "plt.ylabel(\"BTC Price\")\n",
    "plt.legend(fontsize = 14)\n",
    "plt.show()"
   ]
  },
  {
   "cell_type": "code",
   "execution_count": 13,
   "metadata": {},
   "outputs": [],
   "source": [
    "### Create a plotting function\n",
    "def plot_time_series(timesteps, values, format = \".\", start = 0, end = None, label = None):\n",
    "    \"\"\"\n",
    "    Plots timesteps (a series of points in time) against values (a series of values across timesteps)\n",
    "    Parameters\n",
    "    ---------\n",
    "    timesteps : array of timesteps values\n",
    "    values : array of values across time\n",
    "    format : style of plot, default '.'\n",
    "    start : where to start the plot (setting a value will index from start of timesteps)\n",
    "    end : where to end the plot (similar to start but for the end)\n",
    "    label : label to show on plot about values, default None\n",
    "    \"\"\"\n",
    "    # Plot the series\n",
    "    plt.plot(timesteps[start:end], values[start:end], format, label = label)\n",
    "    plt.xlabel(\"Time\")\n",
    "    plt.ylabel(\"BTC Price\")\n",
    "    if label:\n",
    "        plt.legend(fontsize = 14)\n",
    "    plt.grid(True)"
   ]
  },
  {
   "cell_type": "code",
   "execution_count": 14,
   "metadata": {},
   "outputs": [
    {
     "data": {
      "image/png": "[encoded data removed]",
      "text/plain": [
       "<Figure size 720x504 with 1 Axes>"
      ]
     },
     "metadata": {
      "needs_background": "light"
     },
     "output_type": "display_data"
    }
   ],
   "source": [
    "plt.figure(figsize = (10, 7))\n",
    "plot_time_series(timesteps=X_train, values = y_train, label = \"Train Data\")\n",
    "plot_time_series(timesteps=X_test, values = y_test, label = \"Test Data\")"
   ]
  },
  {
   "cell_type": "markdown",
   "metadata": {},
   "source": [
    "## Modelling Experiments\n",
    "\n",
    "* **Horizon** : number of timesteps into the future we're going to predict\n",
    "* **Window size** : number of timesteps we're going to use to predict **horizon**\n",
    "\n",
    "|Experiment|Model|horizon|window|\n",
    "|----------|-----|-------|------|\n",
    "|0|Naive model (baseline)|||\n",
    "|1|Dense model|1|7|\n",
    "|2|Same as model 1|1|30|\n",
    "|3|Same as model 1|7|30|\n",
    "|4|Conv1D|1|7|\n",
    "|5|LSTM|1|7|\n",
    "|6|Same as model 1 (but with multivariate data|1|7|\n",
    "|7|N-BEATS algorithm|1|7|\n",
    "|8|Ensemble (multiple models stacked together|1|7|\n",
    "|9|Future Prediction model|1|7|\n",
    "|10|Same as model 1 (but with turkey data introduced|1|7|"
   ]
  },
  {
   "cell_type": "markdown",
   "metadata": {},
   "source": [
    "## Model 0: Naive Model (Baseline)\n",
    "\n",
    "The formula looks like this:\n",
    "\n",
    "$$\\hat{y}(t) = y(t - 1)$$\n",
    "\n",
    "In english:\n",
    "> The prediction at timestep \"t\" is equal to the value at timestep \"t-1\""
   ]
  },
  {
   "cell_type": "code",
   "execution_count": 15,
   "metadata": {},
   "outputs": [
    {
     "data": {
      "image/png": "[encoded data removed]",
      "text/plain": [
       "<Figure size 720x504 with 1 Axes>"
      ]
     },
     "metadata": {
      "needs_background": "light"
     },
     "output_type": "display_data"
    }
   ],
   "source": [
    "# Plot naive forecast\n",
    "naive_forecast = y_test[:-1]\n",
    "\n",
    "plt.figure(figsize = (10, 7))\n",
    "plot_time_series(X_train, y_train, label = \"Train Data\", format = \"-\")\n",
    "plot_time_series(X_test, y_test, label = \"Test Data\", format=\"-\")\n",
    "plot_time_series(X_test[1:], naive_forecast, label = \"Naive Forecast\", format=\"-\")"
   ]
  },
  {
   "cell_type": "markdown",
   "metadata": {},
   "source": [
    "## Evaluating a time series model\n",
    "\n",
    "Let's look into some evaluation metrics for time-series\n",
    "\n",
    "What are we doing?\n",
    "\n",
    "We're predicting a number, so that means we have a form of regression problem.\n",
    "\n",
    "Because we're working on a regression problem, we'll need some regression-like metrics.\n",
    "\n",
    "A few common regression metrics (which can also be used for time series forecasting):\n",
    "* MAE - mean absolute error\n",
    "* MSE - mean squared error\n",
    "\n",
    "The main thing we're evaluating here is: how do our model's forecasts (y_pred) compare against the actual values (y_true or ground truth values)?\n",
    "\n",
    "|Metric Name|Metric Formula|Tensorflow code|When to use|\n",
    "|-----------|--------------|---------------|-----------|\n",
    "|Mean absolute error (MAE)|$MAE = \\frac{\\sum_{i=1}^{n}abs(y_i - x_i)}{n}$|tf.keras.losses.MAE() or tf.keras.losses.mean_absolute_error()|As a great starter metric for any regression problem.|\n",
    "|Mean square error (MSE)|$MSE = \\frac{\\sum_{i=1}^{n}abs(Y_i - \\hat{Y_i})^2}{n}$|tf.keras.losses.MSE() or tf.keras.losses.mean_square_error()|When larger errors are more significant than smaller errors.|\n",
    "|Root mean squared error (RMSE)|$RMSE = \\sqrt{MSE}$|tf.sqrt(tf.metrics.mean_square_error())|Similar to MSE but as interpretable as MAE (RMSE is in same units are target)|\n",
    "|(Scaled) Mean absolute percentage error (MAPE/sMAPE)|$MAPE = mean(abs(100e_t/y_t))$|tf.keras.metrics.mean_absolute_percentage_error()|Recommend not to use by Hyndman and Koehler|\n",
    "|Mean absolute scaled error (MASE)|$q_j = \\frac{e_j}{\\frac{1}{T-1}\\sum_{t=2}^{T}abs(y_t-y_{t-1})}$|Custom or See sktime's mase_loss()|A scaled error is > 1 if the forecast is worse than the naive and <1 if the forecast is better than the naive|"
   ]
  },
  {
   "cell_type": "markdown",
   "metadata": {},
   "source": [
    "For all of the above metrics, **lower is better**, for example, an MAE of 0 is better than an MAE of 100."
   ]
  },
  {
   "cell_type": "code",
   "execution_count": 16,
   "metadata": {},
   "outputs": [],
   "source": [
    "import tensorflow as tf"
   ]
  },
  {
   "cell_type": "code",
   "execution_count": 20,
   "metadata": {},
   "outputs": [],
   "source": [
    "# MASE implementation\n",
    "\n",
    "def mean_absolute_scaled_error(y_true, y_pred):\n",
    "    \"\"\"\n",
    "    Implement MASE (assuming no seasonality of data)\n",
    "    \"\"\"\n",
    "    mae = tf.reduce_mean(tf.abs(y_true - y_pred))\n",
    "\n",
    "    # Find MAE of naive forecast (no seasonality)\n",
    "    mae_naive_no_season = tf.reduce_mean(tf.abs(y_true - y_pred)) # our seasonality is 1 day (hence the shift of 1)\n",
    "\n",
    "    return mae / mae_naive_no_season"
   ]
  },
  {
   "cell_type": "code",
   "execution_count": 21,
   "metadata": {},
   "outputs": [
    {
     "data": {
      "text/plain": [
       "1.0"
      ]
     },
     "execution_count": 21,
     "metadata": {},
     "output_type": "execute_result"
    }
   ],
   "source": [
    "mean_absolute_scaled_error(y_true = y_test[1:], y_pred = naive_forecast).numpy()"
   ]
  },
  {
   "cell_type": "code",
   "execution_count": 22,
   "metadata": {},
   "outputs": [],
   "source": [
    "# Create a function to take in model predictions and truth values and return evaluation metrics\n",
    "\n",
    "def evaluate_preds(y_true, y_pred):\n",
    "    # Make sure float32 datatype (for metric calculations)\n",
    "    y_true = tf.cast(y_true, dtype = tf.float32)\n",
    "    y_pred = tf.cast(y_pred, dtype = tf.float32)\n",
    "\n",
    "    # Calculate various evaluation metrics\n",
    "    mae = tf.keras.metrics.mean_absolute_error(y_true, y_pred)\n",
    "    mse = tf.keras.metrics.mean_squared_error(y_true, y_pred)\n",
    "    rmse = tf.sqrt(mse)\n",
    "    mape = tf.keras.metrics.mean_absolute_percentage_error(y_true, y_pred)\n",
    "    mase = mean_absolute_scaled_error(y_true, y_pred)\n",
    "\n",
    "    return {\"mae\":mae.numpy(), \"mse\": mse.numpy(), \"rmse\": rmse.numpy(), \"mape\":mape.numpy(), \"mase\": mase.numpy()}"
   ]
  },
  {
   "cell_type": "markdown",
   "metadata": {},
   "source": [
    "That's one good looking evaluation function!\n",
    "\n",
    "Lets now see if it works"
   ]
  },
  {
   "cell_type": "code",
   "execution_count": 23,
   "metadata": {},
   "outputs": [
    {
     "data": {
      "text/plain": [
       "{'mae': 567.9802,\n",
       " 'mse': 1147547.0,\n",
       " 'rmse': 1071.2362,\n",
       " 'mape': 2.516525,\n",
       " 'mase': 1.0}"
      ]
     },
     "execution_count": 23,
     "metadata": {},
     "output_type": "execute_result"
    }
   ],
   "source": [
    "naive_results = evaluate_preds(y_true = y_test[1:], y_pred = naive_forecast)\n",
    "naive_results"
   ]
  },
  {
   "cell_type": "markdown",
   "metadata": {},
   "source": [
    "## Other models you can use for baselines and for actual forecasts\n",
    "\n",
    "In this notebook, we're focussed on TensorFlow and deep learning models.\n",
    "\n",
    "However, there are plenty of other styles of time series forecasting models you may want to experiment with:\n",
    "https://dev.mrdbourke.com/tensorflow-deep-learning/10_time_series_forecasting_in_tensorflow/#other-kinds-of-time-series-forecasting-models-which-can-be-used-for-baselines-and-actual-forecasts"
   ]
  },
  {
   "cell_type": "markdown",
   "metadata": {},
   "source": [
    "## Format Data Part 2: Window our dataset\n",
    "\n",
    "Why do we window?\n",
    "\n",
    "We window our dataset to convert our data into a supervised learning problem\n",
    "\n",
    "Windowing for one week\n",
    "\n",
    "[0,1,2,3,4,5,6] -> [7]<br>\n",
    "[1,2,3,4,5,6,7] -> [8]<br>\n",
    "[2,3,4,5,6,7,8] -> [9]"
   ]
  },
  {
   "cell_type": "code",
   "execution_count": 27,
   "metadata": {},
   "outputs": [],
   "source": [
    "HORIZON = 1\n",
    "WINDOW_SIZE = 7\n",
    "\n",
    "def get_labelled_windows(x, horizon = HORIZON):\n",
    "    \"\"\"\n",
    "    Creates labels for windowed dataset.\n",
    "\n",
    "    Eg if horizon = 1\n",
    "    Input: [0, 1, 2, 3, 4, 5, 6] -> Output: [0,1,2,3,4,5,6] -> [7] \n",
    "    \"\"\"\n",
    "    return x[:,:-horizon], x[:, -horizon:]"
   ]
  },
  {
   "cell_type": "code",
   "execution_count": 28,
   "metadata": {},
   "outputs": [
    {
     "data": {
      "text/plain": [
       "(<tf.Tensor: shape=(1, 7), dtype=int32, numpy=array([[0, 1, 2, 3, 4, 5, 6]])>,\n",
       " <tf.Tensor: shape=(1, 1), dtype=int32, numpy=array([[7]])>)"
      ]
     },
     "execution_count": 28,
     "metadata": {},
     "output_type": "execute_result"
    }
   ],
   "source": [
    "test_window, test_label = get_labelled_windows(tf.expand_dims(tf.range(8), axis = 0))\n",
    "test_window, test_label"
   ]
  },
  {
   "cell_type": "markdown",
   "metadata": {},
   "source": [
    "We've got a way to label our windowed data.\n",
    "\n",
    "However it only works on a small scale.\n",
    "\n",
    "We need a way to do the above across our entire time series.\n",
    "\n",
    "We could do this with Python for loops but that would be quite slow for large time series\n",
    "\n",
    "To speed things up, we'll leverage NumPy's array indexing.\n",
    "\n",
    "Our function will:\n",
    "1. Create a window step of specific window size (eg [0,1,2,3,4,5,6])\n",
    "2. Use NumPy indexing to create a 2D array of multiple window steps, for example:\n",
    "```\n",
    "[\n",
    "    [0,1,2,3,4,5,6],\n",
    "    [1,2,3,4,5,6,7],\n",
    "    [2,3,4,5,6,7,8]\n",
    "    ....\n",
    "]\n",
    "```\n",
    "3. Uses the 2D array of multiple window steps (from 2.) to index on a target series (eg. the historical price of Bitcoin)\n",
    "4. Uses our `get_labelled_windows()` function we created above to turn the window steps into windows with a specified horizon"
   ]
  },
  {
   "cell_type": "code",
   "execution_count": 41,
   "metadata": {},
   "outputs": [],
   "source": [
    "import numpy as np\n",
    "\n",
    "# Create function to view NumPy arrays as windows\n",
    "def make_windows(x, window_size = WINDOW_SIZE, horizon = HORIZON):\n",
    "    \"\"\"\n",
    "    Turns a 1D array into a 2D array of sequential labelled windows of a window size with horizon size labels.\n",
    "    \"\"\"\n",
    "    # 1. Create a window of specified window_size (add the horizon on the end for labelling later)\n",
    "    window_step = np.expand_dims(np.arange(window_size + horizon), axis = 0)\n",
    "\n",
    "    # 2. Create a 2D array of multiple window steps (minus 1 to account for 0 indexing)\n",
    "    window_indexes = window_step + np.expand_dims(np.arange(len(x) - (window_size + horizon - 1)), axis = 1)\n",
    "\n",
    "    # 3. Index on the target array (a time series) with 2D array of multiple window steps\n",
    "    windowed_array = x[window_indexes]\n",
    "\n",
    "    # 4. Get the labelled windows\n",
    "    windows, labels = get_labelled_windows(windowed_array, horizon = horizon)\n",
    "\n",
    "    return windows, labels"
   ]
  },
  {
   "cell_type": "code",
   "execution_count": 42,
   "metadata": {},
   "outputs": [
    {
     "data": {
      "text/plain": [
       "(2780, 2780)"
      ]
     },
     "execution_count": 42,
     "metadata": {},
     "output_type": "execute_result"
    }
   ],
   "source": [
    "full_windows, full_labels = make_windows(prices, window_size = WINDOW_SIZE, horizon = HORIZON)\n",
    "len(full_windows), len(full_labels)"
   ]
  },
  {
   "cell_type": "code",
   "execution_count": 43,
   "metadata": {},
   "outputs": [
    {
     "name": "stdout",
     "output_type": "stream",
     "text": [
      "Window: [123.65499 125.455   108.58483 118.67466 121.33866 120.65533 121.795  ] -> Label: [123.033]\n",
      "Window: [125.455   108.58483 118.67466 121.33866 120.65533 121.795   123.033  ] -> Label: [124.049]\n",
      "Window: [108.58483 118.67466 121.33866 120.65533 121.795   123.033   124.049  ] -> Label: [125.96116]\n"
     ]
    }
   ],
   "source": [
    "# View the first 3 windows/labels\n",
    "for i in range(3):\n",
    "    print(f'Window: {full_windows[i]} -> Label: {full_labels[i]}')"
   ]
  },
  {
   "cell_type": "markdown",
   "metadata": {},
   "source": [
    "Alternatively, we can use `tf.keras.preprocessing.timeseries_dataset_from_array()` to the same effect."
   ]
  },
  {
   "cell_type": "markdown",
   "metadata": {},
   "source": [
    "## Turning windows into training and test sets"
   ]
  },
  {
   "cell_type": "code",
   "execution_count": 44,
   "metadata": {},
   "outputs": [],
   "source": [
    "# Make the train/test splits\n",
    "\n",
    "def make_train_test_splits(windows, labels, test_split = 0.2):\n",
    "    \"\"\"\n",
    "    Splits matching pairs of windows and labels into train and test splits.\n",
    "    \"\"\"\n",
    "    split_size = int(len(windows) * (1 - test_split))\n",
    "    train_windows = windows[:split_size]\n",
    "    train_labels = labels[:split_size]\n",
    "    test_windows = windows[split_size:]\n",
    "    test_labels = labels[split_size:]\n",
    "\n",
    "    return train_windows, test_windows, train_labels, test_labels"
   ]
  },
  {
   "cell_type": "code",
   "execution_count": 45,
   "metadata": {},
   "outputs": [
    {
     "data": {
      "text/plain": [
       "(2224, 556, 2224, 556)"
      ]
     },
     "execution_count": 45,
     "metadata": {},
     "output_type": "execute_result"
    }
   ],
   "source": [
    "train_windows, test_windows, train_labels, test_labels = make_train_test_splits(full_windows, full_labels)\n",
    "len(train_windows), len(test_windows), len(train_labels), len(test_labels)"
   ]
  },
  {
   "cell_type": "code",
   "execution_count": 46,
   "metadata": {},
   "outputs": [
    {
     "data": {
      "text/plain": [
       "(array([[123.65499, 125.455  , 108.58483, 118.67466, 121.33866, 120.65533,\n",
       "         121.795  ],\n",
       "        [125.455  , 108.58483, 118.67466, 121.33866, 120.65533, 121.795  ,\n",
       "         123.033  ],\n",
       "        [108.58483, 118.67466, 121.33866, 120.65533, 121.795  , 123.033  ,\n",
       "         124.049  ],\n",
       "        [118.67466, 121.33866, 120.65533, 121.795  , 123.033  , 124.049  ,\n",
       "         125.96116],\n",
       "        [121.33866, 120.65533, 121.795  , 123.033  , 124.049  , 125.96116,\n",
       "         125.27966]]),\n",
       " array([[123.033  ],\n",
       "        [124.049  ],\n",
       "        [125.96116],\n",
       "        [125.27966],\n",
       "        [125.9275 ]]))"
      ]
     },
     "execution_count": 46,
     "metadata": {},
     "output_type": "execute_result"
    }
   ],
   "source": [
    "train_windows[:5], train_labels[:5]"
   ]
  },
  {
   "cell_type": "code",
   "execution_count": 47,
   "metadata": {},
   "outputs": [
    {
     "data": {
      "text/plain": [
       "(array([[9290.89660239, 9202.41545055, 9369.62808116, 9326.59962378,\n",
       "         9335.75240233, 9226.48582088, 8794.35864452],\n",
       "        [9202.41545055, 9369.62808116, 9326.59962378, 9335.75240233,\n",
       "         9226.48582088, 8794.35864452, 8798.04205463],\n",
       "        [9369.62808116, 9326.59962378, 9335.75240233, 9226.48582088,\n",
       "         8794.35864452, 8798.04205463, 9081.18687849],\n",
       "        [9326.59962378, 9335.75240233, 9226.48582088, 8794.35864452,\n",
       "         8798.04205463, 9081.18687849, 8711.53433917],\n",
       "        [9335.75240233, 9226.48582088, 8794.35864452, 8798.04205463,\n",
       "         9081.18687849, 8711.53433917, 8760.89271814]]),\n",
       " array([[8798.04205463],\n",
       "        [9081.18687849],\n",
       "        [8711.53433917],\n",
       "        [8760.89271814],\n",
       "        [8749.52059102]]))"
      ]
     },
     "execution_count": 47,
     "metadata": {},
     "output_type": "execute_result"
    }
   ],
   "source": [
    "test_windows[:5], test_labels[:5]"
   ]
  },
  {
   "cell_type": "code",
   "execution_count": 50,
   "metadata": {},
   "outputs": [
    {
     "data": {
      "text/plain": [
       "True"
      ]
     },
     "execution_count": 50,
     "metadata": {},
     "output_type": "execute_result"
    }
   ],
   "source": [
    "# Check to see if train labels are the same (before and after window split)\n",
    "np.array_equal(np.squeeze(train_labels[: -HORIZON - 1]), y_train[WINDOW_SIZE:])"
   ]
  },
  {
   "cell_type": "markdown",
   "metadata": {},
   "source": [
    "## Make a modelling Checkpoint\n",
    "\n",
    "Because our model's performance will fluctuate from experiment to experiment, we're going to write a model checkpoint so we can compare apples to apples.\n",
    "\n",
    "More specifically, we want to compare each of our model's best performances against the other model's best performances.\n",
    "\n",
    "For example, if our model performs the best on epoch 55 (but we're training for 100 epochs), we want to load and evaluate the model saved on epoch 55."
   ]
  },
  {
   "cell_type": "code",
   "execution_count": 51,
   "metadata": {},
   "outputs": [],
   "source": [
    "import os\n",
    "\n",
    "# Create a function to implement a ModelCheckpoint callback with a specific filename\n",
    "def create_model_checkpoint(model_name, save_path = \"Checkpoint/Time_Series\"):\n",
    "    return tf.keras.callbacks.ModelCheckpoint(filepath = os.path.join(save_path, model_name),\n",
    "                                              verbose = 0,\n",
    "                                              save_best_only = True)"
   ]
  },
  {
   "cell_type": "markdown",
   "metadata": {},
   "source": [
    "## Model 1: Dense Model (window = 7, horizon = 1)\n",
    "\n",
    "Our first deep model is going to be a simple dense model:\n",
    "\n",
    "* A single dense layer with 128 hidden units and ReLU\n",
    "* An output layer with linear activation (no activation)\n",
    "* Adam optimization and MAE loss function\n",
    "* Batch size of 128  (previously we've used 32)\n",
    "* 100 epochs\n",
    "\n",
    "Why these values?\n",
    "\n",
    "Picked with experimentation."
   ]
  },
  {
   "cell_type": "code",
   "execution_count": 53,
   "metadata": {},
   "outputs": [
    {
     "name": "stdout",
     "output_type": "stream",
     "text": [
      "Epoch 1/100\n",
      "15/18 [========================>.....] - ETA: 0s - loss: 835.4289 - mae: 835.4289 - mse: 2590211.7500  INFO:tensorflow:Assets written to: Checkpoint/Time_Series\\model_1_dense\\assets\n",
      "18/18 [==============================] - 4s 72ms/step - loss: 780.3455 - mae: 780.3455 - mse: 2312725.7500 - val_loss: 2279.6528 - val_mae: 2279.6528 - val_mse: 12772731.0000\n",
      "Epoch 2/100\n",
      "18/18 [==============================] - ETA: 0s - loss: 247.6756 - mae: 247.6756 - mse: 285481.2188INFO:tensorflow:Assets written to: Checkpoint/Time_Series\\model_1_dense\\assets\n",
      "18/18 [==============================] - 1s 56ms/step - loss: 247.6756 - mae: 247.6756 - mse: 285481.2188 - val_loss: 1005.9992 - val_mae: 1005.9992 - val_mse: 3441833.5000\n",
      "Epoch 3/100\n",
      "13/18 [====================>.........] - ETA: 0s - loss: 194.2426 - mae: 194.2426 - mse: 182978.2500INFO:tensorflow:Assets written to: Checkpoint/Time_Series\\model_1_dense\\assets\n",
      "18/18 [==============================] - 1s 51ms/step - loss: 188.4116 - mae: 188.4116 - mse: 171891.6094 - val_loss: 923.2863 - val_mae: 923.2863 - val_mse: 2868221.2500\n",
      "Epoch 4/100\n",
      "13/18 [====================>.........] - ETA: 0s - loss: 175.1611 - mae: 175.1611 - mse: 167502.8594INFO:tensorflow:Assets written to: Checkpoint/Time_Series\\model_1_dense\\assets\n",
      "18/18 [==============================] - 1s 46ms/step - loss: 169.4340 - mae: 169.4340 - mse: 151700.5625 - val_loss: 900.5871 - val_mae: 900.5871 - val_mse: 2683715.0000\n",
      "Epoch 5/100\n",
      "14/18 [======================>.......] - ETA: 0s - loss: 169.4750 - mae: 169.4750 - mse: 156655.2500INFO:tensorflow:Assets written to: Checkpoint/Time_Series\\model_1_dense\\assets\n",
      "18/18 [==============================] - 1s 52ms/step - loss: 165.0895 - mae: 165.0895 - mse: 145490.7812 - val_loss: 895.2237 - val_mae: 895.2237 - val_mse: 2564574.0000\n",
      "Epoch 6/100\n",
      "13/18 [====================>.........] - ETA: 0s - loss: 154.9355 - mae: 154.9355 - mse: 116125.7969INFO:tensorflow:Assets written to: Checkpoint/Time_Series\\model_1_dense\\assets\n",
      "18/18 [==============================] - 1s 48ms/step - loss: 158.5210 - mae: 158.5210 - mse: 133817.7344 - val_loss: 855.1984 - val_mae: 855.1984 - val_mse: 2481873.0000\n",
      "Epoch 7/100\n",
      "13/18 [====================>.........] - ETA: 0s - loss: 159.4054 - mae: 159.4054 - mse: 139186.3438INFO:tensorflow:Assets written to: Checkpoint/Time_Series\\model_1_dense\\assets\n",
      "18/18 [==============================] - 1s 45ms/step - loss: 151.3566 - mae: 151.3566 - mse: 123446.9766 - val_loss: 840.9167 - val_mae: 840.9167 - val_mse: 2276452.2500\n",
      "Epoch 8/100\n",
      "18/18 [==============================] - ETA: 0s - loss: 145.2560 - mae: 145.2560 - mse: 117694.5000INFO:tensorflow:Assets written to: Checkpoint/Time_Series\\model_1_dense\\assets\n",
      "18/18 [==============================] - 1s 61ms/step - loss: 145.2560 - mae: 145.2560 - mse: 117694.5000 - val_loss: 803.5958 - val_mae: 803.5958 - val_mse: 2140574.0000\n",
      "Epoch 9/100\n",
      "17/18 [===========================>..] - ETA: 0s - loss: 144.6505 - mae: 144.6505 - mse: 116260.0859INFO:tensorflow:Assets written to: Checkpoint/Time_Series\\model_1_dense\\assets\n",
      "18/18 [==============================] - 1s 50ms/step - loss: 144.3546 - mae: 144.3546 - mse: 115269.3125 - val_loss: 799.5454 - val_mae: 799.5454 - val_mse: 2049207.7500\n",
      "Epoch 10/100\n",
      "14/18 [======================>.......] - ETA: 0s - loss: 138.4779 - mae: 138.4779 - mse: 104508.2656INFO:tensorflow:Assets written to: Checkpoint/Time_Series\\model_1_dense\\assets\n",
      "18/18 [==============================] - 1s 42ms/step - loss: 141.2943 - mae: 141.2943 - mse: 112394.5938 - val_loss: 763.5010 - val_mae: 763.5010 - val_mse: 1933141.0000\n",
      "Epoch 11/100\n",
      "18/18 [==============================] - 0s 14ms/step - loss: 135.6595 - mae: 135.6595 - mse: 104118.2656 - val_loss: 771.3356 - val_mae: 771.3356 - val_mse: 1885849.7500\n",
      "Epoch 12/100\n",
      "18/18 [==============================] - 0s 11ms/step - loss: 134.1700 - mae: 134.1700 - mse: 101780.8516 - val_loss: 782.8079 - val_mae: 782.8079 - val_mse: 1881727.2500\n",
      "Epoch 13/100\n",
      "18/18 [==============================] - 0s 17ms/step - loss: 134.6015 - mae: 134.6015 - mse: 102345.2344 - val_loss: 784.4448 - val_mae: 784.4448 - val_mse: 1860996.2500\n",
      "Epoch 14/100\n",
      "13/18 [====================>.........] - ETA: 0s - loss: 127.1866 - mae: 127.1866 - mse: 89862.6641INFO:tensorflow:Assets written to: Checkpoint/Time_Series\\model_1_dense\\assets\n",
      "18/18 [==============================] - 1s 41ms/step - loss: 130.6127 - mae: 130.6127 - mse: 96225.1406 - val_loss: 751.3232 - val_mae: 751.3232 - val_mse: 1749609.1250\n",
      "Epoch 15/100\n",
      "13/18 [====================>.........] - ETA: 0s - loss: 125.9553 - mae: 125.9553 - mse: 89347.4453 INFO:tensorflow:Assets written to: Checkpoint/Time_Series\\model_1_dense\\assets\n",
      "18/18 [==============================] - 1s 42ms/step - loss: 128.8347 - mae: 128.8347 - mse: 94307.0000 - val_loss: 696.5756 - val_mae: 696.5756 - val_mse: 1606352.5000\n",
      "Epoch 16/100\n",
      "18/18 [==============================] - 0s 12ms/step - loss: 124.7739 - mae: 124.7739 - mse: 90394.9297 - val_loss: 702.4698 - val_mae: 702.4698 - val_mse: 1592416.6250\n",
      "Epoch 17/100\n",
      "18/18 [==============================] - 0s 19ms/step - loss: 123.4474 - mae: 123.4474 - mse: 89247.6953 - val_loss: 704.9238 - val_mae: 704.9238 - val_mse: 1580782.6250\n",
      "Epoch 18/100\n",
      "15/18 [========================>.....] - ETA: 0s - loss: 127.0159 - mae: 127.0159 - mse: 92731.8047INFO:tensorflow:Assets written to: Checkpoint/Time_Series\\model_1_dense\\assets\n",
      "18/18 [==============================] - 1s 52ms/step - loss: 122.2105 - mae: 122.2105 - mse: 87607.5938 - val_loss: 667.9723 - val_mae: 667.9723 - val_mse: 1498881.1250\n",
      "Epoch 19/100\n",
      "18/18 [==============================] - 0s 14ms/step - loss: 121.7263 - mae: 121.7263 - mse: 86632.2500 - val_loss: 718.8795 - val_mae: 718.8795 - val_mse: 1589298.8750\n",
      "Epoch 20/100\n",
      "14/18 [======================>.......] - ETA: 0s - loss: 121.4032 - mae: 121.4032 - mse: 86429.3750INFO:tensorflow:Assets written to: Checkpoint/Time_Series\\model_1_dense\\assets\n",
      "18/18 [==============================] - 1s 48ms/step - loss: 119.2420 - mae: 119.2420 - mse: 84334.3203 - val_loss: 657.0667 - val_mae: 657.0667 - val_mse: 1447501.0000\n",
      "Epoch 21/100\n",
      "16/18 [=========================>....] - ETA: 0s - loss: 120.7663 - mae: 120.7663 - mse: 83162.7109INFO:tensorflow:Assets written to: Checkpoint/Time_Series\\model_1_dense\\assets\n",
      "18/18 [==============================] - 1s 75ms/step - loss: 121.2275 - mae: 121.2275 - mse: 85743.3906 - val_loss: 637.0330 - val_mae: 637.0330 - val_mse: 1401773.2500\n",
      "Epoch 22/100\n",
      "18/18 [==============================] - 0s 14ms/step - loss: 119.9544 - mae: 119.9544 - mse: 84050.1172 - val_loss: 671.2487 - val_mae: 671.2487 - val_mse: 1447895.5000\n",
      "Epoch 23/100\n",
      "18/18 [==============================] - ETA: 0s - loss: 121.9248 - mae: 121.9248 - mse: 83746.1328INFO:tensorflow:Assets written to: Checkpoint/Time_Series\\model_1_dense\\assets\n",
      "18/18 [==============================] - 1s 51ms/step - loss: 121.9248 - mae: 121.9248 - mse: 83746.1328 - val_loss: 633.3590 - val_mae: 633.3590 - val_mse: 1367377.5000\n",
      "Epoch 24/100\n",
      "15/18 [========================>.....] - ETA: 0s - loss: 118.0268 - mae: 118.0268 - mse: 85274.8281INFO:tensorflow:Assets written to: Checkpoint/Time_Series\\model_1_dense\\assets\n",
      "18/18 [==============================] - 1s 56ms/step - loss: 116.3665 - mae: 116.3665 - mse: 81446.6719 - val_loss: 624.4850 - val_mae: 624.4850 - val_mse: 1348960.1250\n",
      "Epoch 25/100\n",
      "13/18 [====================>.........] - ETA: 0s - loss: 117.7777 - mae: 117.7777 - mse: 80317.2656INFO:tensorflow:Assets written to: Checkpoint/Time_Series\\model_1_dense\\assets\n",
      "18/18 [==============================] - 1s 48ms/step - loss: 114.6816 - mae: 114.6816 - mse: 78912.8516 - val_loss: 619.7572 - val_mae: 619.7572 - val_mse: 1351089.7500\n",
      "Epoch 26/100\n",
      "13/18 [====================>.........] - ETA: 0s - loss: 113.1484 - mae: 113.1484 - mse: 67064.0938INFO:tensorflow:Assets written to: Checkpoint/Time_Series\\model_1_dense\\assets\n",
      "18/18 [==============================] - 1s 52ms/step - loss: 116.4456 - mae: 116.4456 - mse: 79365.5859 - val_loss: 615.6364 - val_mae: 615.6364 - val_mse: 1321514.3750\n",
      "Epoch 27/100\n",
      "18/18 [==============================] - 0s 20ms/step - loss: 116.5868 - mae: 116.5868 - mse: 78672.9297 - val_loss: 615.9630 - val_mae: 615.9630 - val_mse: 1313077.8750\n",
      "Epoch 28/100\n",
      "16/18 [=========================>....] - ETA: 0s - loss: 112.7727 - mae: 112.7727 - mse: 78248.1953INFO:tensorflow:Assets written to: Checkpoint/Time_Series\\model_1_dense\\assets\n",
      "18/18 [==============================] - 1s 53ms/step - loss: 113.4691 - mae: 113.4691 - mse: 77440.0938 - val_loss: 608.0920 - val_mae: 608.0920 - val_mse: 1309775.3750\n",
      "Epoch 29/100\n",
      "18/18 [==============================] - 0s 16ms/step - loss: 113.7598 - mae: 113.7598 - mse: 78506.9531 - val_loss: 621.9304 - val_mae: 621.9304 - val_mse: 1313324.6250\n",
      "Epoch 30/100\n",
      "14/18 [======================>.......] - ETA: 0s - loss: 117.3913 - mae: 117.3913 - mse: 77817.2500INFO:tensorflow:Assets written to: Checkpoint/Time_Series\\model_1_dense\\assets\n",
      "18/18 [==============================] - 1s 50ms/step - loss: 116.8613 - mae: 116.8613 - mse: 79236.4609 - val_loss: 604.4056 - val_mae: 604.4056 - val_mse: 1283407.7500\n",
      "Epoch 31/100\n",
      "18/18 [==============================] - 0s 13ms/step - loss: 111.9375 - mae: 111.9375 - mse: 74849.0625 - val_loss: 609.3881 - val_mae: 609.3881 - val_mse: 1284506.1250\n",
      "Epoch 32/100\n",
      "16/18 [=========================>....] - ETA: 0s - loss: 111.2109 - mae: 111.2109 - mse: 74370.7422INFO:tensorflow:Assets written to: Checkpoint/Time_Series\\model_1_dense\\assets\n",
      "18/18 [==============================] - 1s 46ms/step - loss: 112.4175 - mae: 112.4175 - mse: 77178.5938 - val_loss: 603.0586 - val_mae: 603.0586 - val_mse: 1273058.7500\n",
      "Epoch 33/100\n",
      "18/18 [==============================] - 0s 21ms/step - loss: 112.6697 - mae: 112.6697 - mse: 75787.9844 - val_loss: 645.6971 - val_mae: 645.6971 - val_mse: 1353254.8750\n",
      "Epoch 34/100\n",
      "18/18 [==============================] - 0s 12ms/step - loss: 111.9867 - mae: 111.9867 - mse: 77245.7188 - val_loss: 604.7635 - val_mae: 604.7635 - val_mse: 1289360.5000\n",
      "Epoch 35/100\n",
      "14/18 [======================>.......] - ETA: 0s - loss: 114.2415 - mae: 114.2415 - mse: 80983.5156INFO:tensorflow:Assets written to: Checkpoint/Time_Series\\model_1_dense\\assets\n",
      "18/18 [==============================] - 1s 46ms/step - loss: 110.9451 - mae: 110.9451 - mse: 75301.7812 - val_loss: 593.4648 - val_mae: 593.4648 - val_mse: 1250491.3750\n",
      "Epoch 36/100\n",
      "18/18 [==============================] - 0s 13ms/step - loss: 114.4816 - mae: 114.4816 - mse: 76138.5391 - val_loss: 608.0073 - val_mae: 608.0073 - val_mse: 1269271.5000\n",
      "Epoch 37/100\n",
      "18/18 [==============================] - 0s 12ms/step - loss: 110.2016 - mae: 110.2016 - mse: 74635.3047 - val_loss: 597.2309 - val_mae: 597.2309 - val_mse: 1248474.1250\n",
      "Epoch 38/100\n",
      "18/18 [==============================] - 0s 12ms/step - loss: 112.2372 - mae: 112.2372 - mse: 75821.7031 - val_loss: 637.9801 - val_mae: 637.9801 - val_mse: 1366131.6250\n",
      "Epoch 39/100\n",
      "16/18 [=========================>....] - ETA: 0s - loss: 116.8452 - mae: 116.8452 - mse: 79413.5078INFO:tensorflow:Assets written to: Checkpoint/Time_Series\\model_1_dense\\assets\n",
      "18/18 [==============================] - 1s 71ms/step - loss: 115.1289 - mae: 115.1289 - mse: 76339.6641 - val_loss: 587.4679 - val_mae: 587.4679 - val_mse: 1233512.1250\n",
      "Epoch 40/100\n",
      "18/18 [==============================] - 0s 21ms/step - loss: 110.0854 - mae: 110.0854 - mse: 73528.4922 - val_loss: 592.7119 - val_mae: 592.7119 - val_mse: 1251474.8750\n",
      "Epoch 41/100\n",
      "18/18 [==============================] - 0s 12ms/step - loss: 110.6344 - mae: 110.6344 - mse: 73528.7969 - val_loss: 593.8998 - val_mae: 593.8998 - val_mse: 1253678.7500\n",
      "Epoch 42/100\n",
      "18/18 [==============================] - 0s 12ms/step - loss: 113.5762 - mae: 113.5762 - mse: 77076.6875 - val_loss: 636.3671 - val_mae: 636.3671 - val_mse: 1317283.0000\n",
      "Epoch 43/100\n",
      "18/18 [==============================] - 0s 12ms/step - loss: 116.2285 - mae: 116.2285 - mse: 74712.2031 - val_loss: 662.9267 - val_mae: 662.9267 - val_mse: 1419203.2500\n",
      "Epoch 44/100\n",
      "18/18 [==============================] - 0s 11ms/step - loss: 120.0192 - mae: 120.0192 - mse: 80971.8828 - val_loss: 635.6365 - val_mae: 635.6365 - val_mse: 1346000.5000\n",
      "Epoch 45/100\n",
      "18/18 [==============================] - 0s 10ms/step - loss: 110.9675 - mae: 110.9675 - mse: 74941.2969 - val_loss: 601.9924 - val_mae: 601.9924 - val_mse: 1244816.5000\n",
      "Epoch 46/100\n",
      "18/18 [==============================] - 0s 11ms/step - loss: 111.6012 - mae: 111.6012 - mse: 74565.6250 - val_loss: 593.3533 - val_mae: 593.3533 - val_mse: 1248764.7500\n",
      "Epoch 47/100\n",
      "18/18 [==============================] - 0s 12ms/step - loss: 109.6160 - mae: 109.6160 - mse: 74190.7031 - val_loss: 637.0010 - val_mae: 637.0010 - val_mse: 1314969.6250\n",
      "Epoch 48/100\n",
      "18/18 [==============================] - 0s 11ms/step - loss: 109.1368 - mae: 109.1368 - mse: 72792.5625 - val_loss: 598.4197 - val_mae: 598.4197 - val_mse: 1234610.0000\n",
      "Epoch 49/100\n",
      "15/18 [========================>.....] - ETA: 0s - loss: 113.1029 - mae: 113.1029 - mse: 77658.4141INFO:tensorflow:Assets written to: Checkpoint/Time_Series\\model_1_dense\\assets\n",
      "18/18 [==============================] - 1s 52ms/step - loss: 112.4355 - mae: 112.4355 - mse: 73980.3438 - val_loss: 579.7042 - val_mae: 579.7042 - val_mse: 1208302.0000\n",
      "Epoch 50/100\n",
      "18/18 [==============================] - 0s 13ms/step - loss: 110.2108 - mae: 110.2108 - mse: 72939.7031 - val_loss: 639.2329 - val_mae: 639.2329 - val_mse: 1347994.7500\n",
      "Epoch 51/100\n",
      "18/18 [==============================] - 0s 12ms/step - loss: 111.0958 - mae: 111.0958 - mse: 73281.9219 - val_loss: 597.3572 - val_mae: 597.3572 - val_mse: 1229791.2500\n",
      "Epoch 52/100\n",
      "18/18 [==============================] - 0s 12ms/step - loss: 110.7351 - mae: 110.7351 - mse: 74529.6172 - val_loss: 580.7229 - val_mae: 580.7229 - val_mse: 1215477.7500\n",
      "Epoch 53/100\n",
      "18/18 [==============================] - 0s 13ms/step - loss: 111.1785 - mae: 111.1785 - mse: 74149.4688 - val_loss: 648.3583 - val_mae: 648.3583 - val_mse: 1336950.5000\n",
      "Epoch 54/100\n",
      "18/18 [==============================] - 0s 14ms/step - loss: 114.0831 - mae: 114.0831 - mse: 74815.1016 - val_loss: 593.2006 - val_mae: 593.2006 - val_mse: 1220661.1250\n",
      "Epoch 55/100\n",
      "17/18 [===========================>..] - ETA: 0s - loss: 112.0307 - mae: 112.0307 - mse: 76173.8750INFO:tensorflow:Assets written to: Checkpoint/Time_Series\\model_1_dense\\assets\n",
      "18/18 [==============================] - 1s 57ms/step - loss: 110.4910 - mae: 110.4910 - mse: 74711.2422 - val_loss: 579.5066 - val_mae: 579.5066 - val_mse: 1211580.2500\n",
      "Epoch 56/100\n",
      "18/18 [==============================] - 0s 19ms/step - loss: 108.0488 - mae: 108.0488 - mse: 71844.1719 - val_loss: 807.3854 - val_mae: 807.3854 - val_mse: 1859293.0000\n",
      "Epoch 57/100\n",
      "18/18 [==============================] - 0s 12ms/step - loss: 125.0614 - mae: 125.0614 - mse: 84025.2578 - val_loss: 674.1658 - val_mae: 674.1658 - val_mse: 1437687.8750\n",
      "Epoch 58/100\n",
      "18/18 [==============================] - 0s 18ms/step - loss: 115.4340 - mae: 115.4340 - mse: 73710.7578 - val_loss: 582.2697 - val_mae: 582.2697 - val_mse: 1202679.5000\n",
      "Epoch 59/100\n",
      "18/18 [==============================] - 0s 14ms/step - loss: 110.0881 - mae: 110.0881 - mse: 72845.1016 - val_loss: 606.7642 - val_mae: 606.7642 - val_mse: 1267544.1250\n",
      "Epoch 60/100\n",
      "18/18 [==============================] - 0s 13ms/step - loss: 108.7156 - mae: 108.7156 - mse: 72675.7578 - val_loss: 602.3099 - val_mae: 602.3099 - val_mse: 1234690.1250\n",
      "Epoch 61/100\n",
      "15/18 [========================>.....] - ETA: 0s - loss: 110.2603 - mae: 110.2603 - mse: 75117.6953INFO:tensorflow:Assets written to: Checkpoint/Time_Series\\model_1_dense\\assets\n",
      "18/18 [==============================] - 1s 55ms/step - loss: 108.1525 - mae: 108.1525 - mse: 72252.1250 - val_loss: 573.9990 - val_mae: 573.9990 - val_mse: 1189584.0000\n",
      "Epoch 62/100\n",
      "18/18 [==============================] - 0s 20ms/step - loss: 107.3726 - mae: 107.3726 - mse: 70822.7891 - val_loss: 581.7014 - val_mae: 581.7014 - val_mse: 1214006.5000\n",
      "Epoch 63/100\n",
      "18/18 [==============================] - 0s 23ms/step - loss: 110.7667 - mae: 110.7667 - mse: 73178.4531 - val_loss: 637.5244 - val_mae: 637.5244 - val_mse: 1311202.2500\n",
      "Epoch 64/100\n",
      "18/18 [==============================] - 0s 16ms/step - loss: 110.1539 - mae: 110.1539 - mse: 72588.2188 - val_loss: 586.6597 - val_mae: 586.6597 - val_mse: 1207115.8750\n",
      "Epoch 65/100\n",
      "16/18 [=========================>....] - ETA: 0s - loss: 107.7272 - mae: 107.7272 - mse: 71353.7109INFO:tensorflow:Assets written to: Checkpoint/Time_Series\\model_1_dense\\assets\n",
      "18/18 [==============================] - 1s 56ms/step - loss: 108.2325 - mae: 108.2325 - mse: 71962.0547 - val_loss: 573.5618 - val_mae: 573.5618 - val_mse: 1188986.2500\n",
      "Epoch 66/100\n",
      "14/18 [======================>.......] - ETA: 0s - loss: 107.4140 - mae: 107.4140 - mse: 66383.5781INFO:tensorflow:Assets written to: Checkpoint/Time_Series\\model_1_dense\\assets\n",
      "18/18 [==============================] - 1s 61ms/step - loss: 108.6826 - mae: 108.6826 - mse: 71026.3516 - val_loss: 572.2206 - val_mae: 572.2206 - val_mse: 1187818.5000\n",
      "Epoch 67/100\n",
      "18/18 [==============================] - 0s 17ms/step - loss: 106.6371 - mae: 106.6371 - mse: 70166.2578 - val_loss: 646.6357 - val_mae: 646.6357 - val_mse: 1356392.3750\n",
      "Epoch 68/100\n",
      "18/18 [==============================] - 0s 12ms/step - loss: 114.1603 - mae: 114.1603 - mse: 71297.3203 - val_loss: 681.8569 - val_mae: 681.8569 - val_mse: 1455429.7500\n",
      "Epoch 69/100\n",
      "18/18 [==============================] - 0s 12ms/step - loss: 124.5514 - mae: 124.5514 - mse: 81238.9609 - val_loss: 655.9891 - val_mae: 655.9891 - val_mse: 1383324.3750\n",
      "Epoch 70/100\n",
      "18/18 [==============================] - 0s 12ms/step - loss: 125.0234 - mae: 125.0234 - mse: 83058.2188 - val_loss: 601.0037 - val_mae: 601.0037 - val_mse: 1256962.8750\n",
      "Epoch 71/100\n",
      "18/18 [==============================] - 0s 13ms/step - loss: 110.3652 - mae: 110.3652 - mse: 71691.5000 - val_loss: 595.3957 - val_mae: 595.3957 - val_mse: 1222771.2500\n",
      "Epoch 72/100\n",
      "18/18 [==============================] - 0s 12ms/step - loss: 107.9285 - mae: 107.9285 - mse: 71745.5391 - val_loss: 573.7085 - val_mae: 573.7085 - val_mse: 1192818.0000\n",
      "Epoch 73/100\n",
      "18/18 [==============================] - 0s 15ms/step - loss: 109.5085 - mae: 109.5085 - mse: 71691.1328 - val_loss: 580.4183 - val_mae: 580.4183 - val_mse: 1211317.3750\n",
      "Epoch 74/100\n",
      "18/18 [==============================] - 0s 15ms/step - loss: 108.7380 - mae: 108.7380 - mse: 72051.1094 - val_loss: 576.1216 - val_mae: 576.1216 - val_mse: 1199671.0000\n",
      "Epoch 75/100\n",
      "18/18 [==============================] - 0s 20ms/step - loss: 107.9404 - mae: 107.9404 - mse: 71043.1328 - val_loss: 591.1470 - val_mae: 591.1470 - val_mse: 1211107.0000\n",
      "Epoch 76/100\n",
      "18/18 [==============================] - 0s 15ms/step - loss: 109.4232 - mae: 109.4232 - mse: 72295.0469 - val_loss: 597.8612 - val_mae: 597.8612 - val_mse: 1243936.3750\n",
      "Epoch 77/100\n",
      "15/18 [========================>.....] - ETA: 0s - loss: 109.7662 - mae: 109.7662 - mse: 74881.4688INFO:tensorflow:Assets written to: Checkpoint/Time_Series\\model_1_dense\\assets\n",
      "18/18 [==============================] - 1s 47ms/step - loss: 107.5879 - mae: 107.5879 - mse: 70333.8438 - val_loss: 571.9301 - val_mae: 571.9301 - val_mse: 1186830.0000\n",
      "Epoch 78/100\n",
      "18/18 [==============================] - 0s 15ms/step - loss: 108.1598 - mae: 108.1598 - mse: 70200.0938 - val_loss: 575.2386 - val_mae: 575.2386 - val_mse: 1195317.6250\n",
      "Epoch 79/100\n",
      "18/18 [==============================] - 0s 13ms/step - loss: 107.9175 - mae: 107.9175 - mse: 72451.6016 - val_loss: 617.3085 - val_mae: 617.3085 - val_mse: 1285512.7500\n",
      "Epoch 80/100\n",
      "18/18 [==============================] - 0s 17ms/step - loss: 108.9510 - mae: 108.9510 - mse: 72158.7969 - val_loss: 583.4841 - val_mae: 583.4841 - val_mse: 1194357.1250\n",
      "Epoch 81/100\n",
      "17/18 [===========================>..] - ETA: 0s - loss: 105.6603 - mae: 105.6603 - mse: 69466.9219INFO:tensorflow:Assets written to: Checkpoint/Time_Series\\model_1_dense\\assets\n",
      "18/18 [==============================] - 1s 55ms/step - loss: 106.0505 - mae: 106.0505 - mse: 69690.9062 - val_loss: 570.0801 - val_mae: 570.0801 - val_mse: 1177237.8750\n",
      "Epoch 82/100\n",
      "18/18 [==============================] - 0s 17ms/step - loss: 115.6827 - mae: 115.6827 - mse: 76903.4922 - val_loss: 575.7388 - val_mae: 575.7388 - val_mse: 1194662.8750\n",
      "Epoch 83/100\n",
      "18/18 [==============================] - 0s 12ms/step - loss: 110.9379 - mae: 110.9379 - mse: 72968.3125 - val_loss: 659.6583 - val_mae: 659.6583 - val_mse: 1388831.2500\n",
      "Epoch 84/100\n",
      "18/18 [==============================] - 0s 16ms/step - loss: 111.4837 - mae: 111.4837 - mse: 73017.9531 - val_loss: 570.1957 - val_mae: 570.1957 - val_mse: 1177491.6250\n",
      "Epoch 85/100\n",
      "18/18 [==============================] - 0s 21ms/step - loss: 107.5949 - mae: 107.5949 - mse: 70728.2344 - val_loss: 601.5936 - val_mae: 601.5936 - val_mse: 1228450.7500\n",
      "Epoch 86/100\n",
      "18/18 [==============================] - 0s 16ms/step - loss: 108.9426 - mae: 108.9426 - mse: 70066.7734 - val_loss: 592.8099 - val_mae: 592.8099 - val_mse: 1209679.8750\n",
      "Epoch 87/100\n",
      "18/18 [==============================] - 0s 12ms/step - loss: 105.7718 - mae: 105.7718 - mse: 68382.3828 - val_loss: 603.6178 - val_mae: 603.6178 - val_mse: 1252410.5000\n",
      "Epoch 88/100\n",
      "16/18 [=========================>....] - ETA: 0s - loss: 110.1163 - mae: 110.1163 - mse: 74577.8594INFO:tensorflow:Assets written to: Checkpoint/Time_Series\\model_1_dense\\assets\n",
      "18/18 [==============================] - 1s 50ms/step - loss: 107.9218 - mae: 107.9218 - mse: 71668.0547 - val_loss: 569.0501 - val_mae: 569.0501 - val_mse: 1174588.5000\n",
      "Epoch 89/100\n",
      "18/18 [==============================] - ETA: 0s - loss: 106.0344 - mae: 106.0344 - mse: 68979.1406INFO:tensorflow:Assets written to: Checkpoint/Time_Series\\model_1_dense\\assets\n",
      "18/18 [==============================] - 1s 55ms/step - loss: 106.0344 - mae: 106.0344 - mse: 68979.1406 - val_loss: 568.9510 - val_mae: 568.9510 - val_mse: 1171743.5000\n",
      "Epoch 90/100\n",
      "18/18 [==============================] - 0s 18ms/step - loss: 105.4977 - mae: 105.4977 - mse: 67516.4922 - val_loss: 581.7675 - val_mae: 581.7675 - val_mse: 1190160.2500\n",
      "Epoch 91/100\n",
      "18/18 [==============================] - 0s 12ms/step - loss: 108.8468 - mae: 108.8468 - mse: 71112.3438 - val_loss: 573.6026 - val_mae: 573.6026 - val_mse: 1185216.2500\n",
      "Epoch 92/100\n",
      "18/18 [==============================] - 0s 11ms/step - loss: 110.8884 - mae: 110.8884 - mse: 73287.8281 - val_loss: 576.8242 - val_mae: 576.8242 - val_mse: 1181628.0000\n",
      "Epoch 93/100\n",
      "18/18 [==============================] - 0s 12ms/step - loss: 113.8781 - mae: 113.8781 - mse: 75236.4609 - val_loss: 608.3027 - val_mae: 608.3027 - val_mse: 1264207.3750\n",
      "Epoch 94/100\n",
      "18/18 [==============================] - 0s 12ms/step - loss: 110.5763 - mae: 110.5763 - mse: 72590.8906 - val_loss: 601.6039 - val_mae: 601.6039 - val_mse: 1229104.7500\n",
      "Epoch 95/100\n",
      "18/18 [==============================] - 0s 12ms/step - loss: 106.5906 - mae: 106.5906 - mse: 68612.3281 - val_loss: 570.3650 - val_mae: 570.3650 - val_mse: 1175759.2500\n",
      "Epoch 96/100\n",
      "18/18 [==============================] - 0s 12ms/step - loss: 116.9515 - mae: 116.9515 - mse: 75082.1250 - val_loss: 615.2589 - val_mae: 615.2589 - val_mse: 1277125.5000\n",
      "Epoch 97/100\n",
      "18/18 [==============================] - 0s 11ms/step - loss: 108.0739 - mae: 108.0739 - mse: 71321.4375 - val_loss: 580.3078 - val_mae: 580.3078 - val_mse: 1202622.6250\n",
      "Epoch 98/100\n",
      "18/18 [==============================] - 0s 12ms/step - loss: 108.7102 - mae: 108.7102 - mse: 70248.1016 - val_loss: 586.6506 - val_mae: 586.6506 - val_mse: 1200830.8750\n",
      "Epoch 99/100\n",
      "18/18 [==============================] - 0s 16ms/step - loss: 109.0488 - mae: 109.0488 - mse: 70913.1641 - val_loss: 570.0627 - val_mae: 570.0627 - val_mse: 1177064.0000\n",
      "Epoch 100/100\n",
      "18/18 [==============================] - 0s 13ms/step - loss: 106.1845 - mae: 106.1845 - mse: 68681.7266 - val_loss: 585.9756 - val_mae: 585.9756 - val_mse: 1197801.8750\n"
     ]
    }
   ],
   "source": [
    "from tensorflow.keras import layers\n",
    "\n",
    "# Set random seed for as reproducible results as possible\n",
    "tf.random.set_seed(42)\n",
    "\n",
    "# Create a model\n",
    "model_1 = tf.keras.Sequential(\n",
    "    [\n",
    "        layers.Dense(128, activation = 'relu', name = \"hidden_layer\"),\n",
    "        layers.Dense(HORIZON, activation = \"linear\", name = \"output_layer\") # linear activation is the same as having no activation.\n",
    "    ], name = \"model_1_dense\"\n",
    ")\n",
    "\n",
    "# Compile the model\n",
    "model_1.compile(\n",
    "    loss = \"mae\",\n",
    "    optimizer = tf.keras.optimizers.Adam(),\n",
    "    metrics = [\"mae\", \"mse\"]\n",
    ")\n",
    "\n",
    "# Fit the model\n",
    "history_model_1 = model_1.fit(\n",
    "    x = train_windows,\n",
    "    y = train_labels,\n",
    "    epochs = 100,\n",
    "    verbose = 1,\n",
    "    batch_size = 128,\n",
    "    validation_data = (test_windows, test_labels),\n",
    "    callbacks = [create_model_checkpoint(model_name = model_1.name)]\n",
    ")"
   ]
  },
  {
   "cell_type": "code",
   "execution_count": 54,
   "metadata": {},
   "outputs": [
    {
     "name": "stdout",
     "output_type": "stream",
     "text": [
      "18/18 [==============================] - 0s 12ms/step - loss: 585.9755 - mae: 585.9755 - mse: 1197802.0000\n"
     ]
    },
    {
     "data": {
      "text/plain": [
       "[585.9755249023438, 585.9755249023438, 1197802.0]"
      ]
     },
     "execution_count": 54,
     "metadata": {},
     "output_type": "execute_result"
    }
   ],
   "source": [
    "# Evaluate model on test data\n",
    "model_1.evaluate(test_windows, test_labels)"
   ]
  },
  {
   "cell_type": "code",
   "execution_count": 55,
   "metadata": {},
   "outputs": [
    {
     "name": "stdout",
     "output_type": "stream",
     "text": [
      "18/18 [==============================] - 0s 14ms/step - loss: 568.9510 - mae: 568.9510 - mse: 1171743.7500\n"
     ]
    },
    {
     "data": {
      "text/plain": [
       "[568.9509887695312, 568.9509887695312, 1171743.75]"
      ]
     },
     "execution_count": 55,
     "metadata": {},
     "output_type": "execute_result"
    }
   ],
   "source": [
    "# Load in saved best performing model_1 and evaluate it on test data\n",
    "model_1 = tf.keras.models.load_model('Checkpoint/Time_Series/model_1_dense')\n",
    "model_1.evaluate(test_windows, test_labels)"
   ]
  },
  {
   "cell_type": "markdown",
   "metadata": {},
   "source": [
    "## Making forecasts with a model (on the test dataset)\n",
    "\n",
    "To make \"forecasts\" on the test dataset (note: these won't be actual forecasts, they're only psuedo forecasts because actual forecasts are into the future). Let's write a function to:\n",
    "\n",
    "1. Take in a train model\n",
    "2. Takes in some input data (same kind of data the model was trained on)\n",
    "3. Passes the input data to the model's `predict()` method\n",
    "4. Returns the predictions"
   ]
  },
  {
   "cell_type": "code",
   "execution_count": 61,
   "metadata": {},
   "outputs": [],
   "source": [
    "def make_preds(model, input_data):\n",
    "    \"\"\"\n",
    "    Uses model to make predictions on input_data\n",
    "    \"\"\"\n",
    "    forecast = model.predict(input_data)\n",
    "    return tf.squeeze(forecast)"
   ]
  },
  {
   "cell_type": "code",
   "execution_count": 62,
   "metadata": {},
   "outputs": [
    {
     "name": "stdout",
     "output_type": "stream",
     "text": [
      "18/18 [==============================] - 0s 7ms/step\n"
     ]
    },
    {
     "data": {
      "text/plain": [
       "(556,\n",
       " <tf.Tensor: shape=(10,), dtype=float32, numpy=\n",
       " array([8861.712, 8769.886, 9015.712, 8795.519, 8723.811, 8730.112,\n",
       "        8691.953, 8502.054, 8460.96 , 8516.548], dtype=float32)>)"
      ]
     },
     "execution_count": 62,
     "metadata": {},
     "output_type": "execute_result"
    }
   ],
   "source": [
    "# Make predictions using model_1 on the test dataset and view results\n",
    "model_1_preds = make_preds(model_1, test_windows)\n",
    "len(model_1_preds), model_1_preds[:10]"
   ]
  },
  {
   "cell_type": "code",
   "execution_count": 63,
   "metadata": {},
   "outputs": [
    {
     "data": {
      "text/plain": [
       "{'mae': 568.95105,\n",
       " 'mse': 1171743.8,\n",
       " 'rmse': 1082.4711,\n",
       " 'mape': 2.5448983,\n",
       " 'mase': 1.0}"
      ]
     },
     "execution_count": 63,
     "metadata": {},
     "output_type": "execute_result"
    }
   ],
   "source": [
    "model_1_results = evaluate_preds(tf.squeeze(test_labels), model_1_preds)\n",
    "model_1_results"
   ]
  },
  {
   "cell_type": "code",
   "execution_count": 70,
   "metadata": {},
   "outputs": [
    {
     "data": {
      "image/png": "[encoded data removed]",
      "text/plain": [
       "<Figure size 720x504 with 1 Axes>"
      ]
     },
     "metadata": {
      "needs_background": "light"
     },
     "output_type": "display_data"
    }
   ],
   "source": [
    "offset = 300\n",
    "\n",
    "plt.figure(figsize = (10, 7))\n",
    "plot_time_series(X_test[-len(test_windows):], values = test_labels[:, 0], start = offset, label = \"Test Data\", format=\".\")\n",
    "plot_time_series(X_test[-len(test_windows):], model_1_preds, start = offset, label = \"Model 1 Dense\", format=\"-\")"
   ]
  },
  {
   "cell_type": "markdown",
   "metadata": {},
   "source": [
    "## Model 2: Dense (window = 30, horizon = 1)"
   ]
  },
  {
   "cell_type": "code",
   "execution_count": 72,
   "metadata": {},
   "outputs": [
    {
     "data": {
      "text/plain": [
       "((2757, 30), (2757, 1))"
      ]
     },
     "execution_count": 72,
     "metadata": {},
     "output_type": "execute_result"
    }
   ],
   "source": [
    "full_windows_30, full_labels_30 = make_windows(prices, window_size = 30, horizon = 1)\n",
    "full_windows_30.shape, full_labels_30.shape"
   ]
  },
  {
   "cell_type": "code",
   "execution_count": 73,
   "metadata": {},
   "outputs": [
    {
     "data": {
      "text/plain": [
       "((2205, 30), (552, 30), (2205, 1), (552, 1))"
      ]
     },
     "execution_count": 73,
     "metadata": {},
     "output_type": "execute_result"
    }
   ],
   "source": [
    "train_windows_30, test_windows_30, train_labels_30, test_labels_30 = make_train_test_splits(full_windows_30, full_labels_30, 0.2)\n",
    "train_windows_30.shape, test_windows_30.shape, train_labels_30.shape, test_labels_30.shape"
   ]
  },
  {
   "cell_type": "code",
   "execution_count": 74,
   "metadata": {},
   "outputs": [
    {
     "name": "stdout",
     "output_type": "stream",
     "text": [
      "INFO:tensorflow:Assets written to: Checkpoint/Time_Series\\model_2_dense\\assets\n",
      "INFO:tensorflow:Assets written to: Checkpoint/Time_Series\\model_2_dense\\assets\n",
      "INFO:tensorflow:Assets written to: Checkpoint/Time_Series\\model_2_dense\\assets\n",
      "INFO:tensorflow:Assets written to: Checkpoint/Time_Series\\model_2_dense\\assets\n",
      "INFO:tensorflow:Assets written to: Checkpoint/Time_Series\\model_2_dense\\assets\n",
      "INFO:tensorflow:Assets written to: Checkpoint/Time_Series\\model_2_dense\\assets\n",
      "INFO:tensorflow:Assets written to: Checkpoint/Time_Series\\model_2_dense\\assets\n",
      "INFO:tensorflow:Assets written to: Checkpoint/Time_Series\\model_2_dense\\assets\n",
      "INFO:tensorflow:Assets written to: Checkpoint/Time_Series\\model_2_dense\\assets\n",
      "INFO:tensorflow:Assets written to: Checkpoint/Time_Series\\model_2_dense\\assets\n",
      "INFO:tensorflow:Assets written to: Checkpoint/Time_Series\\model_2_dense\\assets\n",
      "INFO:tensorflow:Assets written to: Checkpoint/Time_Series\\model_2_dense\\assets\n",
      "INFO:tensorflow:Assets written to: Checkpoint/Time_Series\\model_2_dense\\assets\n",
      "INFO:tensorflow:Assets written to: Checkpoint/Time_Series\\model_2_dense\\assets\n",
      "INFO:tensorflow:Assets written to: Checkpoint/Time_Series\\model_2_dense\\assets\n",
      "INFO:tensorflow:Assets written to: Checkpoint/Time_Series\\model_2_dense\\assets\n",
      "INFO:tensorflow:Assets written to: Checkpoint/Time_Series\\model_2_dense\\assets\n",
      "INFO:tensorflow:Assets written to: Checkpoint/Time_Series\\model_2_dense\\assets\n",
      "INFO:tensorflow:Assets written to: Checkpoint/Time_Series\\model_2_dense\\assets\n",
      "INFO:tensorflow:Assets written to: Checkpoint/Time_Series\\model_2_dense\\assets\n",
      "INFO:tensorflow:Assets written to: Checkpoint/Time_Series\\model_2_dense\\assets\n",
      "INFO:tensorflow:Assets written to: Checkpoint/Time_Series\\model_2_dense\\assets\n",
      "INFO:tensorflow:Assets written to: Checkpoint/Time_Series\\model_2_dense\\assets\n",
      "INFO:tensorflow:Assets written to: Checkpoint/Time_Series\\model_2_dense\\assets\n",
      "INFO:tensorflow:Assets written to: Checkpoint/Time_Series\\model_2_dense\\assets\n",
      "INFO:tensorflow:Assets written to: Checkpoint/Time_Series\\model_2_dense\\assets\n",
      "INFO:tensorflow:Assets written to: Checkpoint/Time_Series\\model_2_dense\\assets\n",
      "INFO:tensorflow:Assets written to: Checkpoint/Time_Series\\model_2_dense\\assets\n",
      "INFO:tensorflow:Assets written to: Checkpoint/Time_Series\\model_2_dense\\assets\n"
     ]
    }
   ],
   "source": [
    "# Set random seed for as reproducible results as possible\n",
    "tf.random.set_seed(42)\n",
    "\n",
    "# Create a model\n",
    "model_2 = tf.keras.Sequential(\n",
    "    [\n",
    "        layers.Dense(128, activation = 'relu', name = \"hidden_layer\"),\n",
    "        layers.Dense(HORIZON, activation = \"linear\", name = \"output_layer\") # linear activation is the same as having no activation.\n",
    "    ], name = \"model_2_dense\"\n",
    ")\n",
    "\n",
    "# Compile the model\n",
    "model_2.compile(\n",
    "    loss = \"mae\",\n",
    "    optimizer = tf.keras.optimizers.Adam(),\n",
    "    metrics = [\"mae\", \"mse\"]\n",
    ")\n",
    "\n",
    "# Fit the model\n",
    "history_model_2 = model_2.fit(\n",
    "    x = train_windows_30,\n",
    "    y = train_labels_30,\n",
    "    epochs = 100,\n",
    "    verbose = 0,\n",
    "    batch_size = 128,\n",
    "    validation_data = (test_windows_30, test_labels_30),\n",
    "    callbacks = [create_model_checkpoint(model_name = model_2.name)]\n",
    ")"
   ]
  },
  {
   "cell_type": "code",
   "execution_count": 75,
   "metadata": {},
   "outputs": [
    {
     "name": "stdout",
     "output_type": "stream",
     "text": [
      "18/18 [==============================] - 0s 17ms/step - loss: 665.5611 - mae: 665.5611 - mse: 1431146.3750\n"
     ]
    },
    {
     "data": {
      "text/plain": [
       "[665.5610961914062, 665.5610961914062, 1431146.375]"
      ]
     },
     "execution_count": 75,
     "metadata": {},
     "output_type": "execute_result"
    }
   ],
   "source": [
    "# Evaluate model 3 on test data\n",
    "model_2.evaluate(test_windows_30, test_labels_30)"
   ]
  },
  {
   "cell_type": "code",
   "execution_count": 76,
   "metadata": {},
   "outputs": [
    {
     "name": "stdout",
     "output_type": "stream",
     "text": [
      "18/18 [==============================] - 0s 14ms/step - loss: 616.3276 - mae: 616.3276 - mse: 1309629.8750\n"
     ]
    },
    {
     "data": {
      "text/plain": [
       "[616.3275756835938, 616.3275756835938, 1309629.875]"
      ]
     },
     "execution_count": 76,
     "metadata": {},
     "output_type": "execute_result"
    }
   ],
   "source": [
    "model_2 = tf.keras.models.load_model('Checkpoint/Time_Series/model_2_dense')\n",
    "model_2.evaluate(test_windows_30, test_labels_30)"
   ]
  },
  {
   "cell_type": "code",
   "execution_count": 77,
   "metadata": {},
   "outputs": [
    {
     "name": "stdout",
     "output_type": "stream",
     "text": [
      "18/18 [==============================] - 0s 5ms/step\n"
     ]
    },
    {
     "data": {
      "text/plain": [
       "{'mae': 616.3275,\n",
       " 'mse': 1309630.0,\n",
       " 'rmse': 1144.3907,\n",
       " 'mape': 2.8121033,\n",
       " 'mase': 1.0}"
      ]
     },
     "execution_count": 77,
     "metadata": {},
     "output_type": "execute_result"
    }
   ],
   "source": [
    "model_2_preds = make_preds(model_2, test_windows_30)\n",
    "model_2_results = evaluate_preds(tf.squeeze(test_labels_30), model_2_preds)\n",
    "model_2_results"
   ]
  },
  {
   "cell_type": "code",
   "execution_count": 79,
   "metadata": {},
   "outputs": [
    {
     "data": {
      "image/png": "[encoded data removed]",
      "text/plain": [
       "<Figure size 720x504 with 1 Axes>"
      ]
     },
     "metadata": {
      "needs_background": "light"
     },
     "output_type": "display_data"
    }
   ],
   "source": [
    "offset = 300\n",
    "\n",
    "plt.figure(figsize = (10, 7))\n",
    "plot_time_series(X_test[-len(test_windows_30):], values = test_labels_30[:, 0], start = offset, label = \"Test Data\", format=\".\")\n",
    "plot_time_series(X_test[-len(test_windows_30):], model_2_preds, start = offset, label = \"Model 1 Dense\", format=\"-\")"
   ]
  },
  {
   "cell_type": "markdown",
   "metadata": {},
   "source": [
    "## Model 3: Building, fitting and evaluating a model with a larger horizon size"
   ]
  },
  {
   "cell_type": "code",
   "execution_count": 85,
   "metadata": {},
   "outputs": [],
   "source": [
    "HORIZON = 7\n",
    "full_windows_30, full_labels_7 = make_windows(prices, window_size = 30, horizon = HORIZON)\n",
    "train_windows_30, test_windows_30, train_labels_7, test_labels_7= make_train_test_splits(full_windows_30, full_labels_7, 0.2)\n",
    "\n",
    "train_dataset_win_30_hor_7 = tf.data.Dataset.from_tensor_slices((train_windows_30, train_labels_7)).batch(128).prefetch(tf.data.AUTOTUNE)\n",
    "test_dataset_win_30_hor_7 = tf.data.Dataset.from_tensor_slices((test_windows_30, test_labels_7)).batch(128).prefetch(tf.data.AUTOTUNE)"
   ]
  },
  {
   "cell_type": "code",
   "execution_count": 89,
   "metadata": {},
   "outputs": [
    {
     "name": "stdout",
     "output_type": "stream",
     "text": [
      "Epoch 1/100\n",
      "13/18 [====================>.........] - ETA: 0s - loss: 744.8744 - mae: 744.8744 - mse: 2659875.0000INFO:tensorflow:Assets written to: Checkpoint/Time_Series\\model_3\\assets\n",
      "18/18 [==============================] - 1s 40ms/step - loss: 849.9856 - mae: 849.9856 - mse: 2561418.5000 - val_loss: 2833.7292 - val_mae: 2833.7292 - val_mse: 21220530.0000\n",
      "Epoch 2/100\n",
      "18/18 [==============================] - 0s 6ms/step - loss: 776.3613 - mae: 776.3613 - mse: 3236622.0000 - val_loss: 2921.7356 - val_mae: 2921.7356 - val_mse: 24942838.0000\n",
      "Epoch 3/100\n",
      "12/18 [===================>..........] - ETA: 0s - loss: 280.1337 - mae: 280.1337 - mse: 773381.0625INFO:tensorflow:Assets written to: Checkpoint/Time_Series\\model_3\\assets\n",
      "18/18 [==============================] - 1s 34ms/step - loss: 568.4208 - mae: 568.4208 - mse: 1409358.3750 - val_loss: 2418.1624 - val_mae: 2418.1624 - val_mse: 16601201.0000\n",
      "Epoch 4/100\n",
      "11/18 [=================>............] - ETA: 0s - loss: 127.8122 - mae: 127.8122 - mse: 67562.7812INFO:tensorflow:Assets written to: Checkpoint/Time_Series\\model_3\\assets\n",
      "18/18 [==============================] - 1s 29ms/step - loss: 577.0087 - mae: 577.0087 - mse: 1590245.5000 - val_loss: 2253.5933 - val_mae: 2253.5933 - val_mse: 14206937.0000\n",
      "Epoch 5/100\n",
      "18/18 [==============================] - 0s 8ms/step - loss: 580.2460 - mae: 580.2460 - mse: 1477238.0000 - val_loss: 2519.0977 - val_mae: 2519.0977 - val_mse: 17037242.0000\n",
      "Epoch 6/100\n",
      "11/18 [=================>............] - ETA: 0s - loss: 108.6097 - mae: 108.6097 - mse: 50422.8984INFO:tensorflow:Assets written to: Checkpoint/Time_Series\\model_3\\assets\n",
      "18/18 [==============================] - 1s 31ms/step - loss: 530.6434 - mae: 530.6434 - mse: 1349055.6250 - val_loss: 2243.7844 - val_mae: 2243.7844 - val_mse: 14024979.0000\n",
      "Epoch 7/100\n",
      "13/18 [====================>.........] - ETA: 0s - loss: 373.6079 - mae: 373.6079 - mse: 1028997.6875INFO:tensorflow:Assets written to: Checkpoint/Time_Series\\model_3\\assets\n",
      "18/18 [==============================] - 1s 36ms/step - loss: 500.6602 - mae: 500.6602 - mse: 1118599.2500 - val_loss: 2046.3848 - val_mae: 2046.3848 - val_mse: 12206819.0000\n",
      "Epoch 8/100\n",
      "18/18 [==============================] - 0s 8ms/step - loss: 511.0684 - mae: 511.0684 - mse: 1245823.2500 - val_loss: 2239.7185 - val_mae: 2239.7185 - val_mse: 13716789.0000\n",
      "Epoch 9/100\n",
      "15/18 [========================>.....] - ETA: 0s - loss: 414.6196 - mae: 414.6196 - mse: 956348.8125INFO:tensorflow:Assets written to: Checkpoint/Time_Series\\model_3\\assets\n",
      "18/18 [==============================] - 1s 32ms/step - loss: 475.9294 - mae: 475.9294 - mse: 1019856.4375 - val_loss: 1985.0894 - val_mae: 1985.0894 - val_mse: 11470260.0000\n",
      "Epoch 10/100\n",
      "18/18 [==============================] - 0s 8ms/step - loss: 495.8300 - mae: 495.8300 - mse: 1184892.0000 - val_loss: 2228.0032 - val_mae: 2228.0032 - val_mse: 13509817.0000\n",
      "Epoch 11/100\n",
      "18/18 [==============================] - ETA: 0s - loss: 445.9119 - mae: 445.9119 - mse: 890652.5000INFO:tensorflow:Assets written to: Checkpoint/Time_Series\\model_3\\assets\n",
      "18/18 [==============================] - 1s 31ms/step - loss: 445.9119 - mae: 445.9119 - mse: 890652.5000 - val_loss: 1921.5320 - val_mae: 1921.5320 - val_mse: 10629454.0000\n",
      "Epoch 12/100\n",
      "18/18 [==============================] - 0s 13ms/step - loss: 468.5184 - mae: 468.5184 - mse: 1060639.1250 - val_loss: 2101.4854 - val_mae: 2101.4854 - val_mse: 12377459.0000\n",
      "Epoch 13/100\n",
      "18/18 [==============================] - ETA: 0s - loss: 426.7727 - mae: 426.7727 - mse: 813953.8125INFO:tensorflow:Assets written to: Checkpoint/Time_Series\\model_3\\assets\n",
      "18/18 [==============================] - 1s 31ms/step - loss: 426.7727 - mae: 426.7727 - mse: 813953.8125 - val_loss: 1853.4711 - val_mae: 1853.4711 - val_mse: 9949942.0000\n",
      "Epoch 14/100\n",
      "18/18 [==============================] - 0s 8ms/step - loss: 454.2228 - mae: 454.2228 - mse: 994818.4375 - val_loss: 1950.3063 - val_mae: 1950.3063 - val_mse: 11032696.0000\n",
      "Epoch 15/100\n",
      "17/18 [===========================>..] - ETA: 0s - loss: 433.4951 - mae: 433.4951 - mse: 844222.6875INFO:tensorflow:Assets written to: Checkpoint/Time_Series\\model_3\\assets\n",
      "18/18 [==============================] - 1s 33ms/step - loss: 437.1101 - mae: 437.1101 - mse: 844549.1250 - val_loss: 1835.2252 - val_mae: 1835.2252 - val_mse: 9742509.0000\n",
      "Epoch 16/100\n",
      "18/18 [==============================] - 0s 7ms/step - loss: 484.9493 - mae: 484.9493 - mse: 1095450.5000 - val_loss: 1863.5613 - val_mae: 1863.5613 - val_mse: 10102702.0000\n",
      "Epoch 17/100\n",
      "18/18 [==============================] - 0s 7ms/step - loss: 471.5204 - mae: 471.5204 - mse: 944507.3750 - val_loss: 2073.9683 - val_mae: 2073.9683 - val_mse: 11679060.0000\n",
      "Epoch 18/100\n",
      "10/18 [===============>..............] - ETA: 0s - loss: 65.6829 - mae: 65.6829 - mse: 10806.3867  INFO:tensorflow:Assets written to: Checkpoint/Time_Series\\model_3\\assets\n",
      "18/18 [==============================] - 0s 28ms/step - loss: 484.5297 - mae: 484.5297 - mse: 1136350.2500 - val_loss: 1804.2058 - val_mae: 1804.2058 - val_mse: 9628219.0000\n",
      "Epoch 19/100\n",
      "15/18 [========================>.....] - ETA: 0s - loss: 388.0792 - mae: 388.0792 - mse: 816576.8750INFO:tensorflow:Assets written to: Checkpoint/Time_Series\\model_3\\assets\n",
      "18/18 [==============================] - 1s 30ms/step - loss: 445.5362 - mae: 445.5362 - mse: 877762.5625 - val_loss: 1675.3496 - val_mae: 1675.3496 - val_mse: 8490102.0000\n",
      "Epoch 20/100\n",
      "18/18 [==============================] - 0s 9ms/step - loss: 484.1522 - mae: 484.1522 - mse: 1113949.6250 - val_loss: 1948.1010 - val_mae: 1948.1010 - val_mse: 10919290.0000\n",
      "Epoch 21/100\n",
      "18/18 [==============================] - 0s 7ms/step - loss: 424.4072 - mae: 424.4072 - mse: 776413.6875 - val_loss: 1849.8284 - val_mae: 1849.8284 - val_mse: 9711373.0000\n",
      "Epoch 22/100\n",
      "18/18 [==============================] - 0s 9ms/step - loss: 424.4315 - mae: 424.4315 - mse: 861175.0625 - val_loss: 1857.7408 - val_mae: 1857.7408 - val_mse: 10430554.0000\n",
      "Epoch 23/100\n",
      "18/18 [==============================] - 0s 8ms/step - loss: 372.1709 - mae: 372.1709 - mse: 621977.0000 - val_loss: 1686.9141 - val_mae: 1686.9141 - val_mse: 8359776.0000\n",
      "Epoch 24/100\n",
      "18/18 [==============================] - 0s 7ms/step - loss: 386.4890 - mae: 386.4890 - mse: 691384.6875 - val_loss: 1801.1699 - val_mae: 1801.1699 - val_mse: 9698515.0000\n",
      "Epoch 25/100\n",
      "18/18 [==============================] - 0s 7ms/step - loss: 395.6257 - mae: 395.6257 - mse: 689336.0000 - val_loss: 2038.2051 - val_mae: 2038.2051 - val_mse: 11248633.0000\n",
      "Epoch 26/100\n",
      "18/18 [==============================] - 0s 7ms/step - loss: 373.0980 - mae: 373.0980 - mse: 659640.4375 - val_loss: 1841.8175 - val_mae: 1841.8175 - val_mse: 10062040.0000\n",
      "Epoch 27/100\n",
      "18/18 [==============================] - 0s 8ms/step - loss: 347.0627 - mae: 347.0627 - mse: 552677.4375 - val_loss: 1712.5605 - val_mae: 1712.5605 - val_mse: 8622809.0000\n",
      "Epoch 28/100\n",
      "18/18 [==============================] - 0s 9ms/step - loss: 346.2557 - mae: 346.2557 - mse: 576219.0625 - val_loss: 1683.8357 - val_mae: 1683.8357 - val_mse: 8730319.0000\n",
      "Epoch 29/100\n",
      "12/18 [===================>..........] - ETA: 0s - loss: 179.9691 - mae: 179.9691 - mse: 318576.0312INFO:tensorflow:Assets written to: Checkpoint/Time_Series\\model_3\\assets\n",
      "18/18 [==============================] - 0s 28ms/step - loss: 340.7303 - mae: 340.7303 - mse: 538453.3750 - val_loss: 1669.1366 - val_mae: 1669.1366 - val_mse: 8281014.5000\n",
      "Epoch 30/100\n",
      "18/18 [==============================] - 0s 7ms/step - loss: 346.8460 - mae: 346.8460 - mse: 583304.7500 - val_loss: 1704.1021 - val_mae: 1704.1021 - val_mse: 8822447.0000\n",
      "Epoch 31/100\n",
      "18/18 [==============================] - 0s 7ms/step - loss: 369.5363 - mae: 369.5363 - mse: 599734.8125 - val_loss: 1813.1418 - val_mae: 1813.1418 - val_mse: 9117577.0000\n",
      "Epoch 32/100\n",
      "16/18 [=========================>....] - ETA: 0s - loss: 347.3003 - mae: 347.3003 - mse: 677562.0625INFO:tensorflow:Assets written to: Checkpoint/Time_Series\\model_3\\assets\n",
      "18/18 [==============================] - 0s 28ms/step - loss: 383.6808 - mae: 383.6808 - mse: 718971.6875 - val_loss: 1657.2775 - val_mae: 1657.2775 - val_mse: 8266582.0000\n",
      "Epoch 33/100\n",
      "18/18 [==============================] - 0s 7ms/step - loss: 408.5554 - mae: 408.5554 - mse: 718961.0000 - val_loss: 1658.0559 - val_mae: 1658.0559 - val_mse: 8008641.0000\n",
      "Epoch 34/100\n",
      "18/18 [==============================] - 0s 6ms/step - loss: 449.8959 - mae: 449.8959 - mse: 1044272.4375 - val_loss: 1783.0988 - val_mae: 1783.0988 - val_mse: 9212479.0000\n",
      "Epoch 35/100\n",
      "12/18 [===================>..........] - ETA: 0s - loss: 187.4782 - mae: 187.4782 - mse: 346037.4062INFO:tensorflow:Assets written to: Checkpoint/Time_Series\\model_3\\assets\n",
      "18/18 [==============================] - 0s 27ms/step - loss: 380.3813 - mae: 380.3813 - mse: 635100.3750 - val_loss: 1587.7841 - val_mae: 1587.7841 - val_mse: 7625208.0000\n",
      "Epoch 36/100\n",
      "18/18 [==============================] - 0s 8ms/step - loss: 418.3333 - mae: 418.3333 - mse: 851244.8750 - val_loss: 1807.5303 - val_mae: 1807.5302 - val_mse: 9391058.0000\n",
      "Epoch 37/100\n",
      "18/18 [==============================] - 0s 8ms/step - loss: 372.2274 - mae: 372.2274 - mse: 600298.5000 - val_loss: 1596.6179 - val_mae: 1596.6179 - val_mse: 7732551.0000\n",
      "Epoch 38/100\n",
      "11/18 [=================>............] - ETA: 0s - loss: 80.7614 - mae: 80.7614 - mse: 26605.7246  INFO:tensorflow:Assets written to: Checkpoint/Time_Series\\model_3\\assets\n",
      "18/18 [==============================] - 1s 30ms/step - loss: 388.1700 - mae: 388.1700 - mse: 748310.6875 - val_loss: 1568.6409 - val_mae: 1568.6409 - val_mse: 7822906.5000\n",
      "Epoch 39/100\n",
      "17/18 [===========================>..] - ETA: 0s - loss: 378.2570 - mae: 378.2570 - mse: 623934.5625INFO:tensorflow:Assets written to: Checkpoint/Time_Series\\model_3\\assets\n",
      "18/18 [==============================] - 1s 42ms/step - loss: 381.5414 - mae: 381.5414 - mse: 626196.2500 - val_loss: 1523.6632 - val_mae: 1523.6632 - val_mse: 7151537.0000\n",
      "Epoch 40/100\n",
      "18/18 [==============================] - 0s 8ms/step - loss: 415.4961 - mae: 415.4961 - mse: 773620.0000 - val_loss: 1603.4392 - val_mae: 1603.4392 - val_mse: 7594226.5000\n",
      "Epoch 41/100\n",
      "18/18 [==============================] - 0s 7ms/step - loss: 395.5088 - mae: 395.5088 - mse: 662719.4375 - val_loss: 1543.1953 - val_mae: 1543.1953 - val_mse: 7378345.5000\n",
      "Epoch 42/100\n",
      "18/18 [==============================] - 0s 8ms/step - loss: 397.4969 - mae: 397.4969 - mse: 682888.8125 - val_loss: 1691.5355 - val_mae: 1691.5355 - val_mse: 8233065.0000\n",
      "Epoch 43/100\n",
      "18/18 [==============================] - 0s 7ms/step - loss: 372.6683 - mae: 372.6683 - mse: 597528.5625 - val_loss: 1593.2882 - val_mae: 1593.2882 - val_mse: 7838662.5000\n",
      "Epoch 44/100\n",
      "18/18 [==============================] - 0s 7ms/step - loss: 358.4029 - mae: 358.4029 - mse: 575863.1875 - val_loss: 1671.6531 - val_mae: 1671.6531 - val_mse: 8005381.0000\n",
      "Epoch 45/100\n",
      "12/18 [===================>..........] - ETA: 0s - loss: 171.3998 - mae: 171.3998 - mse: 289266.8438INFO:tensorflow:Assets written to: Checkpoint/Time_Series\\model_3\\assets\n",
      "18/18 [==============================] - 0s 28ms/step - loss: 342.0308 - mae: 342.0308 - mse: 518885.1250 - val_loss: 1510.0468 - val_mae: 1510.0468 - val_mse: 7184047.5000\n",
      "Epoch 46/100\n",
      "18/18 [==============================] - 0s 7ms/step - loss: 348.7541 - mae: 348.7541 - mse: 562542.2500 - val_loss: 1659.0394 - val_mae: 1659.0394 - val_mse: 7895907.0000\n",
      "Epoch 47/100\n",
      "18/18 [==============================] - 0s 12ms/step - loss: 345.7979 - mae: 345.7979 - mse: 527138.0625 - val_loss: 1661.6357 - val_mae: 1661.6357 - val_mse: 8187197.0000\n",
      "Epoch 48/100\n",
      "18/18 [==============================] - 0s 10ms/step - loss: 342.7808 - mae: 342.7808 - mse: 549904.6250 - val_loss: 1725.4266 - val_mae: 1725.4266 - val_mse: 8313811.5000\n",
      "Epoch 49/100\n",
      "18/18 [==============================] - 0s 8ms/step - loss: 334.2146 - mae: 334.2146 - mse: 506632.7188 - val_loss: 1637.4319 - val_mae: 1637.4319 - val_mse: 8038905.5000\n",
      "Epoch 50/100\n",
      "18/18 [==============================] - 0s 8ms/step - loss: 333.4855 - mae: 333.4855 - mse: 531955.0000 - val_loss: 1631.8069 - val_mae: 1631.8069 - val_mse: 7859194.5000\n",
      "Epoch 51/100\n",
      "18/18 [==============================] - 0s 9ms/step - loss: 351.9575 - mae: 351.9575 - mse: 553923.3750 - val_loss: 1585.1803 - val_mae: 1585.1803 - val_mse: 7527264.5000\n",
      "Epoch 52/100\n",
      "18/18 [==============================] - 0s 9ms/step - loss: 384.9027 - mae: 384.9027 - mse: 695921.6250 - val_loss: 1831.2268 - val_mae: 1831.2268 - val_mse: 9293545.0000\n",
      "Epoch 53/100\n",
      "18/18 [==============================] - 0s 9ms/step - loss: 359.3010 - mae: 359.3010 - mse: 576113.2500 - val_loss: 1515.4031 - val_mae: 1515.4031 - val_mse: 7024207.5000\n",
      "Epoch 54/100\n",
      "10/18 [===============>..............] - ETA: 0s - loss: 56.1173 - mae: 56.1173 - mse: 7034.1455   INFO:tensorflow:Assets written to: Checkpoint/Time_Series\\model_3\\assets\n",
      "18/18 [==============================] - 1s 30ms/step - loss: 380.4866 - mae: 380.4866 - mse: 644638.0625 - val_loss: 1469.7729 - val_mae: 1469.7729 - val_mse: 6710621.0000\n",
      "Epoch 55/100\n",
      "18/18 [==============================] - 0s 7ms/step - loss: 424.8163 - mae: 424.8163 - mse: 814230.4375 - val_loss: 1514.3792 - val_mae: 1514.3792 - val_mse: 7135675.5000\n",
      "Epoch 56/100\n",
      "18/18 [==============================] - 0s 9ms/step - loss: 412.6486 - mae: 412.6486 - mse: 772217.5625 - val_loss: 1620.4235 - val_mae: 1620.4235 - val_mse: 7708200.0000\n",
      "Epoch 57/100\n",
      "18/18 [==============================] - 0s 9ms/step - loss: 368.8053 - mae: 368.8053 - mse: 647497.2500 - val_loss: 1520.9288 - val_mae: 1520.9288 - val_mse: 7251672.0000\n",
      "Epoch 58/100\n",
      "18/18 [==============================] - 0s 8ms/step - loss: 353.6365 - mae: 353.6365 - mse: 574124.2500 - val_loss: 1584.0599 - val_mae: 1584.0599 - val_mse: 7477692.0000\n",
      "Epoch 59/100\n",
      "18/18 [==============================] - 0s 6ms/step - loss: 336.6325 - mae: 336.6325 - mse: 549725.1875 - val_loss: 1476.9072 - val_mae: 1476.9072 - val_mse: 6944077.5000\n",
      "Epoch 60/100\n",
      "12/18 [===================>..........] - ETA: 0s - loss: 163.0155 - mae: 163.0155 - mse: 279713.7812INFO:tensorflow:Assets written to: Checkpoint/Time_Series\\model_3\\assets\n",
      "18/18 [==============================] - 0s 26ms/step - loss: 326.3233 - mae: 326.3233 - mse: 491386.6562 - val_loss: 1467.0591 - val_mae: 1467.0591 - val_mse: 6728659.5000\n",
      "Epoch 61/100\n",
      "18/18 [==============================] - 0s 6ms/step - loss: 337.4418 - mae: 337.4418 - mse: 542501.1875 - val_loss: 1554.5836 - val_mae: 1554.5836 - val_mse: 7418253.0000\n",
      "Epoch 62/100\n",
      "18/18 [==============================] - 0s 6ms/step - loss: 337.3740 - mae: 337.3740 - mse: 495145.3125 - val_loss: 1555.1758 - val_mae: 1555.1758 - val_mse: 7307931.5000\n",
      "Epoch 63/100\n",
      "18/18 [==============================] - 0s 7ms/step - loss: 381.2190 - mae: 381.2190 - mse: 653035.8125 - val_loss: 1976.1675 - val_mae: 1976.1675 - val_mse: 10123201.0000\n",
      "Epoch 64/100\n",
      "18/18 [==============================] - 0s 6ms/step - loss: 324.0128 - mae: 324.0128 - mse: 479716.9688 - val_loss: 1708.1177 - val_mae: 1708.1176 - val_mse: 8456312.0000\n",
      "Epoch 65/100\n",
      "18/18 [==============================] - 0s 6ms/step - loss: 306.6967 - mae: 306.6967 - mse: 448826.5312 - val_loss: 1485.2605 - val_mae: 1485.2605 - val_mse: 6754616.0000\n",
      "Epoch 66/100\n",
      "18/18 [==============================] - 0s 6ms/step - loss: 334.9286 - mae: 334.9286 - mse: 499318.6250 - val_loss: 1631.0000 - val_mae: 1631.0000 - val_mse: 7666240.5000\n",
      "Epoch 67/100\n",
      "18/18 [==============================] - 0s 5ms/step - loss: 355.1770 - mae: 355.1770 - mse: 578394.6875 - val_loss: 1792.5104 - val_mae: 1792.5104 - val_mse: 8964921.0000\n",
      "Epoch 68/100\n",
      "18/18 [==============================] - 0s 6ms/step - loss: 325.7270 - mae: 325.7270 - mse: 477179.2500 - val_loss: 1654.3756 - val_mae: 1654.3756 - val_mse: 7776805.0000\n",
      "Epoch 69/100\n",
      "18/18 [==============================] - 0s 6ms/step - loss: 320.0168 - mae: 320.0168 - mse: 486806.8750 - val_loss: 1666.5114 - val_mae: 1666.5114 - val_mse: 8162547.5000\n",
      "Epoch 70/100\n",
      "18/18 [==============================] - 0s 9ms/step - loss: 318.7910 - mae: 318.7910 - mse: 457572.0000 - val_loss: 1687.1831 - val_mae: 1687.1831 - val_mse: 8025923.5000\n",
      "Epoch 71/100\n",
      "18/18 [==============================] - 0s 7ms/step - loss: 307.1399 - mae: 307.1399 - mse: 453836.3125 - val_loss: 1591.3882 - val_mae: 1591.3882 - val_mse: 7659872.0000\n",
      "Epoch 72/100\n",
      "18/18 [==============================] - 0s 6ms/step - loss: 315.6194 - mae: 315.6194 - mse: 451624.3750 - val_loss: 1680.3290 - val_mae: 1680.3290 - val_mse: 7924625.5000\n",
      "Epoch 73/100\n",
      "18/18 [==============================] - 0s 6ms/step - loss: 300.0906 - mae: 300.0906 - mse: 432360.3438 - val_loss: 1624.7622 - val_mae: 1624.7622 - val_mse: 7889570.5000\n",
      "Epoch 74/100\n",
      "18/18 [==============================] - 0s 5ms/step - loss: 301.1223 - mae: 301.1223 - mse: 416824.6875 - val_loss: 1633.6393 - val_mae: 1633.6393 - val_mse: 7656151.5000\n",
      "Epoch 75/100\n",
      "18/18 [==============================] - 0s 6ms/step - loss: 293.3495 - mae: 293.3495 - mse: 415963.0625 - val_loss: 1571.7563 - val_mae: 1571.7563 - val_mse: 7495224.5000\n",
      "Epoch 76/100\n",
      "18/18 [==============================] - 0s 7ms/step - loss: 309.5818 - mae: 309.5818 - mse: 436320.7500 - val_loss: 1704.5725 - val_mae: 1704.5725 - val_mse: 8105514.0000\n",
      "Epoch 77/100\n",
      "18/18 [==============================] - 0s 6ms/step - loss: 294.0868 - mae: 294.0868 - mse: 418615.2812 - val_loss: 1597.2070 - val_mae: 1597.2070 - val_mse: 7693637.5000\n",
      "Epoch 78/100\n",
      "18/18 [==============================] - 0s 8ms/step - loss: 301.9684 - mae: 301.9684 - mse: 416549.8750 - val_loss: 1631.1992 - val_mae: 1631.1992 - val_mse: 7613057.5000\n",
      "Epoch 79/100\n",
      "18/18 [==============================] - 0s 8ms/step - loss: 294.6421 - mae: 294.6421 - mse: 419834.1250 - val_loss: 1602.0292 - val_mae: 1602.0292 - val_mse: 7766449.5000\n",
      "Epoch 80/100\n",
      "18/18 [==============================] - 0s 8ms/step - loss: 306.5563 - mae: 306.5563 - mse: 426204.8438 - val_loss: 1682.3599 - val_mae: 1682.3599 - val_mse: 7986443.5000\n",
      "Epoch 81/100\n",
      "18/18 [==============================] - 0s 9ms/step - loss: 291.8324 - mae: 291.8324 - mse: 413287.5000 - val_loss: 1616.6094 - val_mae: 1616.6094 - val_mse: 7847538.5000\n",
      "Epoch 82/100\n",
      "18/18 [==============================] - 0s 7ms/step - loss: 292.2082 - mae: 292.2082 - mse: 392767.0625 - val_loss: 1586.7596 - val_mae: 1586.7596 - val_mse: 7306724.0000\n",
      "Epoch 83/100\n",
      "18/18 [==============================] - 0s 7ms/step - loss: 287.2817 - mae: 287.2817 - mse: 401833.8125 - val_loss: 1588.3162 - val_mae: 1588.3162 - val_mse: 7681664.0000\n",
      "Epoch 84/100\n",
      "18/18 [==============================] - 0s 7ms/step - loss: 296.5417 - mae: 296.5417 - mse: 402427.7812 - val_loss: 1626.5939 - val_mae: 1626.5939 - val_mse: 7608644.5000\n",
      "Epoch 85/100\n",
      "18/18 [==============================] - 0s 8ms/step - loss: 291.0580 - mae: 291.0580 - mse: 411485.2500 - val_loss: 1600.4119 - val_mae: 1600.4119 - val_mse: 7766441.5000\n",
      "Epoch 86/100\n",
      "18/18 [==============================] - 0s 8ms/step - loss: 294.2154 - mae: 294.2154 - mse: 396488.0625 - val_loss: 1603.8112 - val_mae: 1603.8112 - val_mse: 7450097.0000\n",
      "Epoch 87/100\n",
      "18/18 [==============================] - 0s 7ms/step - loss: 284.8811 - mae: 284.8811 - mse: 396641.2500 - val_loss: 1579.4991 - val_mae: 1579.4991 - val_mse: 7635548.0000\n",
      "Epoch 88/100\n",
      "18/18 [==============================] - 0s 7ms/step - loss: 285.3398 - mae: 285.3398 - mse: 378196.9062 - val_loss: 1566.9001 - val_mae: 1566.9001 - val_mse: 7202600.5000\n",
      "Epoch 89/100\n",
      "18/18 [==============================] - 0s 7ms/step - loss: 281.1383 - mae: 281.1383 - mse: 387474.3125 - val_loss: 1544.1974 - val_mae: 1544.1974 - val_mse: 7354563.0000\n",
      "Epoch 90/100\n",
      "18/18 [==============================] - 0s 7ms/step - loss: 286.1865 - mae: 286.1865 - mse: 382245.8125 - val_loss: 1541.2531 - val_mae: 1541.2531 - val_mse: 7031102.0000\n",
      "Epoch 91/100\n",
      "18/18 [==============================] - 0s 7ms/step - loss: 285.4565 - mae: 285.4565 - mse: 397203.4375 - val_loss: 1538.8766 - val_mae: 1538.8766 - val_mse: 7301559.5000\n",
      "Epoch 92/100\n",
      "18/18 [==============================] - 0s 7ms/step - loss: 300.5863 - mae: 300.5863 - mse: 412937.9062 - val_loss: 1659.4977 - val_mae: 1659.4977 - val_mse: 7865170.0000\n",
      "Epoch 93/100\n",
      "18/18 [==============================] - 0s 6ms/step - loss: 288.5041 - mae: 288.5041 - mse: 404735.0625 - val_loss: 1586.4590 - val_mae: 1586.4590 - val_mse: 7604731.5000\n",
      "Epoch 94/100\n",
      "18/18 [==============================] - 0s 6ms/step - loss: 284.3201 - mae: 284.3201 - mse: 378123.5625 - val_loss: 1547.0106 - val_mae: 1547.0106 - val_mse: 7082938.5000\n",
      "Epoch 95/100\n",
      "18/18 [==============================] - 0s 6ms/step - loss: 278.8198 - mae: 278.8198 - mse: 379733.7812 - val_loss: 1547.0834 - val_mae: 1547.0834 - val_mse: 7392949.0000\n",
      "Epoch 96/100\n",
      "18/18 [==============================] - 0s 6ms/step - loss: 283.0537 - mae: 283.0537 - mse: 376509.9062 - val_loss: 1577.2922 - val_mae: 1577.2922 - val_mse: 7314751.5000\n",
      "Epoch 97/100\n",
      "18/18 [==============================] - 0s 6ms/step - loss: 279.2458 - mae: 279.2458 - mse: 381564.2500 - val_loss: 1525.8165 - val_mae: 1525.8165 - val_mse: 7182547.0000\n",
      "Epoch 98/100\n",
      "18/18 [==============================] - 0s 6ms/step - loss: 279.9346 - mae: 279.9346 - mse: 370494.2812 - val_loss: 1507.1599 - val_mae: 1507.1599 - val_mse: 6844244.0000\n",
      "Epoch 99/100\n",
      "18/18 [==============================] - 0s 6ms/step - loss: 277.2997 - mae: 277.2997 - mse: 375467.8750 - val_loss: 1503.1128 - val_mae: 1503.1128 - val_mse: 7039205.5000\n",
      "Epoch 100/100\n",
      "18/18 [==============================] - 0s 6ms/step - loss: 283.6064 - mae: 283.6064 - mse: 381449.1250 - val_loss: 1532.5125 - val_mae: 1532.5125 - val_mse: 7043627.0000\n"
     ]
    }
   ],
   "source": [
    "# Set random seed\n",
    "tf.random.set_seed(42)\n",
    "\n",
    "# Create the model\n",
    "model_3 = tf.keras.Sequential(\n",
    "    [\n",
    "        layers.Dense(128, activation = \"relu\", name = \"hidden_layer\"),\n",
    "        layers.Dense(HORIZON, activation = \"linear\", name = \"output_layer\")\n",
    "    ], name = \"model_3\"\n",
    ")\n",
    "\n",
    "# Compile the model\n",
    "model_3.compile(\n",
    "    loss = tf.keras.losses.MAE,\n",
    "    optimizer = tf.keras.optimizers.Adam(),\n",
    "    metrics = [\"mae\", \"mse\"]\n",
    ")\n",
    "\n",
    "# Fit the model\n",
    "history_model_3 = model_3.fit(\n",
    "    train_dataset_win_30_hor_7,\n",
    "    epochs = 100,\n",
    "    steps_per_epoch = len(train_dataset_win_30_hor_7),\n",
    "    validation_data = test_dataset_win_30_hor_7,\n",
    "    validation_steps = len(test_dataset_win_30_hor_7),\n",
    "    callbacks = [create_model_checkpoint(model_3.name)]\n",
    ")"
   ]
  },
  {
   "cell_type": "code",
   "execution_count": 90,
   "metadata": {},
   "outputs": [
    {
     "name": "stdout",
     "output_type": "stream",
     "text": [
      "5/5 [==============================] - 0s 9ms/step - loss: 1532.5125 - mae: 1532.5125 - mse: 7043627.0000\n"
     ]
    },
    {
     "data": {
      "text/plain": [
       "[1532.512451171875, 1532.512451171875, 7043627.0]"
      ]
     },
     "execution_count": 90,
     "metadata": {},
     "output_type": "execute_result"
    }
   ],
   "source": [
    "# Evaluate model 3 on test data\n",
    "model_3.evaluate(test_dataset_win_30_hor_7)"
   ]
  },
  {
   "cell_type": "code",
   "execution_count": 91,
   "metadata": {},
   "outputs": [
    {
     "name": "stdout",
     "output_type": "stream",
     "text": [
      "5/5 [==============================] - 0s 6ms/step - loss: 1467.0591 - mae: 1467.0591 - mse: 6728659.5000\n"
     ]
    },
    {
     "data": {
      "text/plain": [
       "[1467.05908203125, 1467.05908203125, 6728659.5]"
      ]
     },
     "execution_count": 91,
     "metadata": {},
     "output_type": "execute_result"
    }
   ],
   "source": [
    "# Load in best model and evaluate\n",
    "model_3 = tf.keras.models.load_model('Checkpoint/Time_Series/model_3')\n",
    "model_3.evaluate(test_dataset_win_30_hor_7)"
   ]
  },
  {
   "cell_type": "code",
   "execution_count": 100,
   "metadata": {},
   "outputs": [
    {
     "name": "stdout",
     "output_type": "stream",
     "text": [
      "5/5 [==============================] - 0s 6ms/step\n"
     ]
    },
    {
     "data": {
      "text/plain": [
       "{'mae': array([ 810.67  , 1335.675 , 1261.8787, 1679.6757, 1620.7969, 1695.685 ,\n",
       "        1865.0322], dtype=float32),\n",
       " 'mse': array([ 2006908. ,  4707959. ,  4827960. ,  7741320. ,  7849688.5,\n",
       "         8940066. , 11026715. ], dtype=float32),\n",
       " 'rmse': array([1416.6538, 2169.7832, 2197.262 , 2782.3228, 2801.7295, 2989.9944,\n",
       "        3320.6497], dtype=float32),\n",
       " 'mape': array([3.8086734, 6.352503 , 5.7951255, 7.6418533, 7.277156 , 7.651893 ,\n",
       "        8.184331 ], dtype=float32),\n",
       " 'mase': 1.0}"
      ]
     },
     "execution_count": 100,
     "metadata": {},
     "output_type": "execute_result"
    }
   ],
   "source": [
    "model_3_preds = make_preds(model_3, test_dataset_win_30_hor_7)\n",
    "model_3_results = evaluate_preds(tf.transpose(tf.squeeze(test_labels_7)), tf.transpose(model_3_preds))\n",
    "model_3_results"
   ]
  },
  {
   "cell_type": "markdown",
   "metadata": {},
   "source": [
    "## Make our evaluation function work for larger horizons"
   ]
  },
  {
   "cell_type": "code",
   "execution_count": 101,
   "metadata": {},
   "outputs": [
    {
     "data": {
      "text/plain": [
       "(7,)"
      ]
     },
     "execution_count": 101,
     "metadata": {},
     "output_type": "execute_result"
    }
   ],
   "source": [
    "model_3_results[\"mae\"].shape"
   ]
  },
  {
   "cell_type": "code",
   "execution_count": 102,
   "metadata": {},
   "outputs": [],
   "source": [
    "def evaluate_preds(y_true, y_pred):\n",
    "    # Make sure float32 datatype (for metric calculations)\n",
    "    y_true = tf.cast(y_true, dtype = tf.float32)\n",
    "    y_pred = tf.cast(y_pred, dtype = tf.float32)\n",
    "\n",
    "    # Calculate various evaluation metrics\n",
    "    mae = tf.keras.metrics.mean_absolute_error(y_true, y_pred)\n",
    "    mse = tf.keras.metrics.mean_squared_error(y_true, y_pred)\n",
    "    rmse = tf.sqrt(mse)\n",
    "    mape = tf.keras.metrics.mean_absolute_percentage_error(y_true, y_pred)\n",
    "    mase = mean_absolute_scaled_error(y_true, y_pred)\n",
    "\n",
    "    # Account for different sized metrics (for longer horizons, we want to reduce metrics to a single value)\n",
    "    if mae.ndim > 0:\n",
    "        mae = tf.reduce_mean(mae)\n",
    "        mse = tf.reduce_mean(mse)\n",
    "        rmse = tf.reduce_mean(rmse)\n",
    "        mape = tf.reduce_mean(mape)\n",
    "        mase = tf.reduce_mean(mase)\n",
    "\n",
    "    return {\"mae\":mae.numpy(), \"mse\": mse.numpy(), \"rmse\": rmse.numpy(), \"mape\":mape.numpy(), \"mase\": mase.numpy()}"
   ]
  },
  {
   "cell_type": "code",
   "execution_count": 103,
   "metadata": {},
   "outputs": [
    {
     "data": {
      "text/plain": [
       "{'mae': 1467.0592,\n",
       " 'mse': 6728659.5,\n",
       " 'rmse': 2525.4849,\n",
       " 'mape': 6.6730766,\n",
       " 'mase': 1.0}"
      ]
     },
     "execution_count": 103,
     "metadata": {},
     "output_type": "execute_result"
    }
   ],
   "source": [
    "model_3_results = evaluate_preds(tf.transpose(tf.squeeze(test_labels_7)), tf.transpose(model_3_preds))\n",
    "model_3_results"
   ]
  },
  {
   "cell_type": "code",
   "execution_count": 115,
   "metadata": {},
   "outputs": [
    {
     "data": {
      "image/png": "[encoded data removed]",
      "text/plain": [
       "<Figure size 720x504 with 1 Axes>"
      ]
     },
     "metadata": {
      "needs_background": "light"
     },
     "output_type": "display_data"
    }
   ],
   "source": [
    "offset = 300\n",
    "\n",
    "plt.figure(figsize = (10, 7))\n",
    "plot_time_series(X_test[-len(test_windows_30):], values = test_labels_7[:, 0], start = offset, label = \"Test Data\", format=\".\")\n",
    "plot_time_series(X_test[-len(test_windows_30):], tf.reduce_mean(model_3_preds, axis = 1), start = offset, label = \"Model 3 Dense\", format=\"-\")"
   ]
  },
  {
   "cell_type": "markdown",
   "metadata": {},
   "source": [
    "## Comparing our models so far"
   ]
  },
  {
   "cell_type": "code",
   "execution_count": 120,
   "metadata": {},
   "outputs": [
    {
     "data": {
      "text/html": [
       "<div>\n",
       "<style scoped>\n",
       "    .dataframe tbody tr th:only-of-type {\n",
       "        vertical-align: middle;\n",
       "    }\n",
       "\n",
       "    .dataframe tbody tr th {\n",
       "        vertical-align: top;\n",
       "    }\n",
       "\n",
       "    .dataframe thead th {\n",
       "        text-align: right;\n",
       "    }\n",
       "</style>\n",
       "<table border=\"1\" class=\"dataframe\">\n",
       "  <thead>\n",
       "    <tr style=\"text-align: right;\">\n",
       "      <th></th>\n",
       "      <th>mae</th>\n",
       "      <th>mse</th>\n",
       "      <th>rmse</th>\n",
       "      <th>mape</th>\n",
       "      <th>mase</th>\n",
       "    </tr>\n",
       "  </thead>\n",
       "  <tbody>\n",
       "    <tr>\n",
       "      <th>model_0_naive</th>\n",
       "      <td>567.980225</td>\n",
       "      <td>1147547.00</td>\n",
       "      <td>1071.236206</td>\n",
       "      <td>2.516525</td>\n",
       "      <td>1.0</td>\n",
       "    </tr>\n",
       "    <tr>\n",
       "      <th>model_1_hor_1_win_7</th>\n",
       "      <td>568.951050</td>\n",
       "      <td>1171743.75</td>\n",
       "      <td>1082.471069</td>\n",
       "      <td>2.544898</td>\n",
       "      <td>1.0</td>\n",
       "    </tr>\n",
       "    <tr>\n",
       "      <th>model_2_hor_1_win_30</th>\n",
       "      <td>616.327515</td>\n",
       "      <td>1309630.00</td>\n",
       "      <td>1144.390747</td>\n",
       "      <td>2.812103</td>\n",
       "      <td>1.0</td>\n",
       "    </tr>\n",
       "    <tr>\n",
       "      <th>model_3_hor_7_win_7</th>\n",
       "      <td>1467.059204</td>\n",
       "      <td>6728659.50</td>\n",
       "      <td>2525.484863</td>\n",
       "      <td>6.673077</td>\n",
       "      <td>1.0</td>\n",
       "    </tr>\n",
       "  </tbody>\n",
       "</table>\n",
       "</div>"
      ],
      "text/plain": [
       "                              mae         mse         rmse      mape  mase\n",
       "model_0_naive          567.980225  1147547.00  1071.236206  2.516525   1.0\n",
       "model_1_hor_1_win_7    568.951050  1171743.75  1082.471069  2.544898   1.0\n",
       "model_2_hor_1_win_30   616.327515  1309630.00  1144.390747  2.812103   1.0\n",
       "model_3_hor_7_win_7   1467.059204  6728659.50  2525.484863  6.673077   1.0"
      ]
     },
     "execution_count": 120,
     "metadata": {},
     "output_type": "execute_result"
    }
   ],
   "source": [
    "import pandas as pd\n",
    "all_results = pd.DataFrame({\"model_0_naive\": naive_results, \"model_1_hor_1_win_7\": model_1_results, \"model_2_hor_1_win_30\": model_2_results, \"model_3_hor_7_win_7\": model_3_results})\n",
    "all_results = all_results.transpose()\n",
    "all_results"
   ]
  },
  {
   "cell_type": "code",
   "execution_count": 121,
   "metadata": {},
   "outputs": [
    {
     "data": {
      "image/png": "[encoded data removed]",
      "text/plain": [
       "<Figure size 720x504 with 1 Axes>"
      ]
     },
     "metadata": {
      "needs_background": "light"
     },
     "output_type": "display_data"
    }
   ],
   "source": [
    "all_results[\"mae\"].plot(figsize = (10, 7), kind = \"bar\");"
   ]
  },
  {
   "cell_type": "markdown",
   "metadata": {},
   "source": [
    "Why are the naive results so good? One of the reasons could be the presence of autocorrelation in the data. If a time series has autocorrelation, it means the value at `t+1` is typically close to the value at `t` (the current timestep). In other words, today's value is probably pretty close to the value at yesterday's value. Of course, this isn't always the case but when it is (stock market prices often seem autocorrelated but often fluctuate randomly), a naive model will often get fairly good results."
   ]
  }
 ],
 "metadata": {
  "kernelspec": {
   "display_name": "Python 3.10.5 64-bit",
   "language": "python",
   "name": "python3"
  },
  "language_info": {
   "codemirror_mode": {
    "name": "ipython",
    "version": 3
   },
   "file_extension": ".py",
   "mimetype": "text/x-python",
   "name": "python",
   "nbconvert_exporter": "python",
   "pygments_lexer": "ipython3",
   "version": "3.10.5"
  },
  "orig_nbformat": 4,
  "vscode": {
   "interpreter": {
    "hash": "98ba7f9ca0a7d3f9faf83a09faac2df1e0ca0e1c9a5db868ca666908d95c6454"
   }
  }
 },
 "nbformat": 4,
 "nbformat_minor": 2
}
