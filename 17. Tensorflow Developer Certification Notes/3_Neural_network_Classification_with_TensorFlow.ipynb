{
 "cells": [
  {
   "cell_type": "markdown",
   "metadata": {},
   "source": [
    "# Neural Network Classification in TensorFlow"
   ]
  },
  {
   "cell_type": "markdown",
   "metadata": {},
   "source": [
    "## Import Necessary Libraries"
   ]
  },
  {
   "cell_type": "code",
   "execution_count": 1,
   "metadata": {},
   "outputs": [
    {
     "data": {
      "text/plain": [
       "'2.9.1'"
      ]
     },
     "execution_count": 1,
     "metadata": {},
     "output_type": "execute_result"
    }
   ],
   "source": [
    "import numpy as np\n",
    "import matplotlib.pyplot as plt\n",
    "import tensorflow as tf\n",
    "import pandas as pd\n",
    "\n",
    "tf.__version__"
   ]
  },
  {
   "cell_type": "markdown",
   "metadata": {},
   "source": [
    "## Input and Output Shapes\n",
    "(for an image classification example)\n",
    "\n",
    "```\n",
    "Image (224x224x3) [batch_size, width, height, color_channels]->Inputs->Machine Learning Algorithm->Outputs (1xnum_classes) [prediction probabilities]\n",
    "```\n",
    "```\n",
    "# 1. Create a model (specific to your problem)\n",
    "model = tf.keras.Sequential(\n",
    "    [\n",
    "        tf.keras.Input(shape = (224,224,3)),\n",
    "        tf.keras.layers.Dense(100, activation = \"relu\"),\n",
    "        tf.keras.layers.Dense(3, activation = \"softmax\")\n",
    "    ]\n",
    ")\n",
    "\n",
    "# 2. Compile the model\n",
    "model.compile(loss = tf.keras.losses.CategoricalCrossentropy(), optimizer = tf.keras.optimizers.Adam(), metrics = [\"accuracy\"])\n",
    "\n",
    "# 3. Fit the model\n",
    "model.fit(X_train, y_train, epochs = 5)\n",
    "\n",
    "# 4. Evaluate the model\n",
    "model.evaluate(X_test, y_test)\n",
    "```\n",
    "\n",
    "|Hyperparameter|Binary Classification|Multiclass Classification|\n",
    "|--------------|---------------------|-------------------------|\n",
    "|Input layer shape|Same as the number of features (eg 5 for age, sex, height, weight, smoking status in heart disease prediction)|Same as binary classification|\n",
    "|Hidden layer(s)|Problem specific, minimum = 1, maximum = unlimited|Same as binary classification|\n",
    "|Neurons per hidden layer|Problem specific, generally 10 to 100|Same as binary classification|\n",
    "|Output layer shape|1 (one class or the other)|1 per class (eg 3 for food, person or dog photos)|\n",
    "|Hidden activation|Usually ReLU (rectified linear unit)|Same as binary classification|\n",
    "|Output activation|Sigmoid|Softmax|\n",
    "|Loss function|Cross entropy (tf.keras.losses.BinaryCrossentropy in TensorFlow)|Cross entropy (tf.keras.losses.CategoricalCrossentropy in TensorFlow)|\n",
    "|Optimizer|SGD (stochastic gradient descent)|Same as binary classification|"
   ]
  },
  {
   "cell_type": "markdown",
   "metadata": {},
   "source": [
    "A classification is where you try to classify something as one thing and/or another\n",
    "\n",
    "A few types of classification:\n",
    "* Binary classification\n",
    "* Multiclass classification\n",
    "* Multilabel classification"
   ]
  },
  {
   "cell_type": "markdown",
   "metadata": {},
   "source": [
    "## Creating data to view and fit"
   ]
  },
  {
   "cell_type": "code",
   "execution_count": 2,
   "metadata": {},
   "outputs": [],
   "source": [
    "from sklearn.datasets import make_circles\n",
    "# Make 1000 examples\n",
    "n_samples = 1000\n",
    "X, y = make_circles(\n",
    "    n_samples,\n",
    "    noise = 0.03,\n",
    "    random_state=42\n",
    ")"
   ]
  },
  {
   "cell_type": "markdown",
   "metadata": {},
   "source": [
    "Our data is a little hard to understand right now. Lets visualize it"
   ]
  },
  {
   "cell_type": "code",
   "execution_count": 4,
   "metadata": {},
   "outputs": [
    {
     "data": {
      "text/html": [
       "<div>\n",
       "<style scoped>\n",
       "    .dataframe tbody tr th:only-of-type {\n",
       "        vertical-align: middle;\n",
       "    }\n",
       "\n",
       "    .dataframe tbody tr th {\n",
       "        vertical-align: top;\n",
       "    }\n",
       "\n",
       "    .dataframe thead th {\n",
       "        text-align: right;\n",
       "    }\n",
       "</style>\n",
       "<table border=\"1\" class=\"dataframe\">\n",
       "  <thead>\n",
       "    <tr style=\"text-align: right;\">\n",
       "      <th></th>\n",
       "      <th>X0</th>\n",
       "      <th>X1</th>\n",
       "      <th>label</th>\n",
       "    </tr>\n",
       "  </thead>\n",
       "  <tbody>\n",
       "    <tr>\n",
       "      <th>0</th>\n",
       "      <td>0.754246</td>\n",
       "      <td>0.231481</td>\n",
       "      <td>1</td>\n",
       "    </tr>\n",
       "    <tr>\n",
       "      <th>1</th>\n",
       "      <td>-0.756159</td>\n",
       "      <td>0.153259</td>\n",
       "      <td>1</td>\n",
       "    </tr>\n",
       "    <tr>\n",
       "      <th>2</th>\n",
       "      <td>-0.815392</td>\n",
       "      <td>0.173282</td>\n",
       "      <td>1</td>\n",
       "    </tr>\n",
       "    <tr>\n",
       "      <th>3</th>\n",
       "      <td>-0.393731</td>\n",
       "      <td>0.692883</td>\n",
       "      <td>1</td>\n",
       "    </tr>\n",
       "    <tr>\n",
       "      <th>4</th>\n",
       "      <td>0.442208</td>\n",
       "      <td>-0.896723</td>\n",
       "      <td>0</td>\n",
       "    </tr>\n",
       "  </tbody>\n",
       "</table>\n",
       "</div>"
      ],
      "text/plain": [
       "         X0        X1  label\n",
       "0  0.754246  0.231481      1\n",
       "1 -0.756159  0.153259      1\n",
       "2 -0.815392  0.173282      1\n",
       "3 -0.393731  0.692883      1\n",
       "4  0.442208 -0.896723      0"
      ]
     },
     "execution_count": 4,
     "metadata": {},
     "output_type": "execute_result"
    }
   ],
   "source": [
    "circles = pd.DataFrame({\"X0\":X[:, 0], \"X1\":X[:, 1], \"label\":y})\n",
    "circles.head()"
   ]
  },
  {
   "cell_type": "code",
   "execution_count": 6,
   "metadata": {},
   "outputs": [
    {
     "data": {
      "image/png": "[encoded data removed]",
      "text/plain": [
       "<Figure size 432x288 with 1 Axes>"
      ]
     },
     "metadata": {
      "needs_background": "light"
     },
     "output_type": "display_data"
    }
   ],
   "source": [
    "plt.scatter(X[:, 0], X[:, 1], c = y, cmap = plt.cm.RdYlBu);"
   ]
  },
  {
   "cell_type": "markdown",
   "metadata": {},
   "source": [
    "**Note:** We can use [TensorFlow Playground](http://playground.tensorflow.org/) to quickly model our neural network."
   ]
  },
  {
   "cell_type": "markdown",
   "metadata": {},
   "source": [
    "## Input and Output Shapes"
   ]
  },
  {
   "cell_type": "code",
   "execution_count": 7,
   "metadata": {},
   "outputs": [
    {
     "data": {
      "text/plain": [
       "((1000, 2), (1000,))"
      ]
     },
     "execution_count": 7,
     "metadata": {},
     "output_type": "execute_result"
    }
   ],
   "source": [
    "X.shape, y.shape"
   ]
  },
  {
   "cell_type": "code",
   "execution_count": 10,
   "metadata": {},
   "outputs": [
    {
     "name": "stdout",
     "output_type": "stream",
     "text": [
      "Epoch 1/5\n",
      "32/32 [==============================] - 1s 9ms/step - loss: 0.7056 - accuracy: 0.5010\n",
      "Epoch 2/5\n",
      "32/32 [==============================] - 0s 4ms/step - loss: 0.7053 - accuracy: 0.5010\n",
      "Epoch 3/5\n",
      "32/32 [==============================] - 0s 4ms/step - loss: 0.7050 - accuracy: 0.5010\n",
      "Epoch 4/5\n",
      "32/32 [==============================] - 0s 4ms/step - loss: 0.7047 - accuracy: 0.5000\n",
      "Epoch 5/5\n",
      "32/32 [==============================] - 0s 4ms/step - loss: 0.7044 - accuracy: 0.5010\n"
     ]
    },
    {
     "data": {
      "text/plain": [
       "<keras.callbacks.History at 0x168f8957310>"
      ]
     },
     "execution_count": 10,
     "metadata": {},
     "output_type": "execute_result"
    }
   ],
   "source": [
    "# Set the random seed\n",
    "tf.random.set_seed(42)\n",
    "\n",
    "# 1. Create the model\n",
    "model_1 = tf.keras.Sequential(\n",
    "    [\n",
    "        tf.keras.layers.Dense(1, activation = \"sigmoid\", input_shape = (2,), name = \"output_layer\")\n",
    "    ], name = \"simple_model\"\n",
    ")\n",
    "\n",
    "# 2. Compile the model\n",
    "model_1.compile(\n",
    "    loss = tf.keras.losses.BinaryCrossentropy(),\n",
    "    optimizer = tf.keras.optimizers.Adam(learning_rate = 3e-4),\n",
    "    metrics = [\"accuracy\"]\n",
    ")\n",
    "\n",
    "# 3. Fit the model\n",
    "model_1.fit(X,y, epochs = 5)"
   ]
  },
  {
   "cell_type": "code",
   "execution_count": 11,
   "metadata": {},
   "outputs": [
    {
     "name": "stdout",
     "output_type": "stream",
     "text": [
      "32/32 [==============================] - 0s 3ms/step - loss: 0.6932 - accuracy: 0.5020\n"
     ]
    },
    {
     "data": {
      "text/plain": [
       "[0.6931712627410889, 0.5019999742507935]"
      ]
     },
     "execution_count": 11,
     "metadata": {},
     "output_type": "execute_result"
    }
   ],
   "source": [
    "# Lets try and and improve our model by training for longer\n",
    "model_1.fit(X, y, epochs = 200, verbose = 0)\n",
    "model_1.evaluate(X,y)"
   ]
  },
  {
   "cell_type": "markdown",
   "metadata": {},
   "source": [
    "With an accuracy of ~50% it appears like our model is guessing.\n",
    "\n",
    "Lets step things up a notch and add an extra layer."
   ]
  },
  {
   "cell_type": "code",
   "execution_count": 15,
   "metadata": {},
   "outputs": [
    {
     "name": "stdout",
     "output_type": "stream",
     "text": [
      "Epoch 1/100\n",
      "32/32 [==============================] - 1s 9ms/step - loss: 4.3095 - accuracy: 0.4580\n",
      "Epoch 2/100\n",
      "32/32 [==============================] - 0s 4ms/step - loss: 4.2233 - accuracy: 0.4570\n",
      "Epoch 3/100\n",
      "32/32 [==============================] - 0s 4ms/step - loss: 4.1097 - accuracy: 0.4560\n",
      "Epoch 4/100\n",
      "32/32 [==============================] - 0s 4ms/step - loss: 4.0002 - accuracy: 0.4620\n",
      "Epoch 5/100\n",
      "32/32 [==============================] - 0s 5ms/step - loss: 3.8190 - accuracy: 0.4680\n",
      "Epoch 6/100\n",
      "32/32 [==============================] - 0s 4ms/step - loss: 3.7468 - accuracy: 0.4660\n",
      "Epoch 7/100\n",
      "32/32 [==============================] - 0s 4ms/step - loss: 3.7300 - accuracy: 0.4660\n",
      "Epoch 8/100\n",
      "32/32 [==============================] - 0s 4ms/step - loss: 3.7144 - accuracy: 0.4650\n",
      "Epoch 9/100\n",
      "32/32 [==============================] - 0s 4ms/step - loss: 3.6896 - accuracy: 0.4660\n",
      "Epoch 10/100\n",
      "32/32 [==============================] - 0s 4ms/step - loss: 3.6398 - accuracy: 0.4680\n",
      "Epoch 11/100\n",
      "32/32 [==============================] - 0s 4ms/step - loss: 3.5509 - accuracy: 0.4690\n",
      "Epoch 12/100\n",
      "32/32 [==============================] - 0s 4ms/step - loss: 3.4824 - accuracy: 0.4700\n",
      "Epoch 13/100\n",
      "32/32 [==============================] - 0s 4ms/step - loss: 3.4018 - accuracy: 0.4720\n",
      "Epoch 14/100\n",
      "32/32 [==============================] - 0s 5ms/step - loss: 3.2236 - accuracy: 0.4720\n",
      "Epoch 15/100\n",
      "32/32 [==============================] - 0s 5ms/step - loss: 3.0360 - accuracy: 0.4710\n",
      "Epoch 16/100\n",
      "32/32 [==============================] - 0s 5ms/step - loss: 2.9579 - accuracy: 0.4710\n",
      "Epoch 17/100\n",
      "32/32 [==============================] - 0s 4ms/step - loss: 2.8108 - accuracy: 0.4740\n",
      "Epoch 18/100\n",
      "32/32 [==============================] - 0s 5ms/step - loss: 2.5657 - accuracy: 0.4750\n",
      "Epoch 19/100\n",
      "32/32 [==============================] - 0s 5ms/step - loss: 2.0224 - accuracy: 0.4750\n",
      "Epoch 20/100\n",
      "32/32 [==============================] - 0s 5ms/step - loss: 1.0737 - accuracy: 0.4760\n",
      "Epoch 21/100\n",
      "32/32 [==============================] - 0s 5ms/step - loss: 0.8928 - accuracy: 0.4750\n",
      "Epoch 22/100\n",
      "32/32 [==============================] - 0s 5ms/step - loss: 0.8632 - accuracy: 0.4750\n",
      "Epoch 23/100\n",
      "32/32 [==============================] - 0s 5ms/step - loss: 0.8439 - accuracy: 0.4750\n",
      "Epoch 24/100\n",
      "32/32 [==============================] - 0s 5ms/step - loss: 0.8285 - accuracy: 0.4750\n",
      "Epoch 25/100\n",
      "32/32 [==============================] - 0s 6ms/step - loss: 0.8154 - accuracy: 0.4750\n",
      "Epoch 26/100\n",
      "32/32 [==============================] - 0s 5ms/step - loss: 0.8041 - accuracy: 0.4760\n",
      "Epoch 27/100\n",
      "32/32 [==============================] - 0s 5ms/step - loss: 0.7945 - accuracy: 0.4760\n",
      "Epoch 28/100\n",
      "32/32 [==============================] - 0s 5ms/step - loss: 0.7857 - accuracy: 0.4760\n",
      "Epoch 29/100\n",
      "32/32 [==============================] - 0s 5ms/step - loss: 0.7780 - accuracy: 0.4760\n",
      "Epoch 30/100\n",
      "32/32 [==============================] - 0s 6ms/step - loss: 0.7708 - accuracy: 0.4760\n",
      "Epoch 31/100\n",
      "32/32 [==============================] - 0s 6ms/step - loss: 0.7645 - accuracy: 0.4770\n",
      "Epoch 32/100\n",
      "32/32 [==============================] - 0s 5ms/step - loss: 0.7583 - accuracy: 0.4770\n",
      "Epoch 33/100\n",
      "32/32 [==============================] - 0s 5ms/step - loss: 0.7532 - accuracy: 0.4770\n",
      "Epoch 34/100\n",
      "32/32 [==============================] - 0s 5ms/step - loss: 0.7483 - accuracy: 0.4770\n",
      "Epoch 35/100\n",
      "32/32 [==============================] - 0s 5ms/step - loss: 0.7436 - accuracy: 0.4770\n",
      "Epoch 36/100\n",
      "32/32 [==============================] - 0s 5ms/step - loss: 0.7394 - accuracy: 0.4780\n",
      "Epoch 37/100\n",
      "32/32 [==============================] - 0s 5ms/step - loss: 0.7356 - accuracy: 0.4780\n",
      "Epoch 38/100\n",
      "32/32 [==============================] - 0s 5ms/step - loss: 0.7322 - accuracy: 0.4770\n",
      "Epoch 39/100\n",
      "32/32 [==============================] - 0s 5ms/step - loss: 0.7289 - accuracy: 0.4780\n",
      "Epoch 40/100\n",
      "32/32 [==============================] - 0s 5ms/step - loss: 0.7258 - accuracy: 0.4790\n",
      "Epoch 41/100\n",
      "32/32 [==============================] - 0s 5ms/step - loss: 0.7230 - accuracy: 0.4810\n",
      "Epoch 42/100\n",
      "32/32 [==============================] - 0s 5ms/step - loss: 0.7204 - accuracy: 0.4790\n",
      "Epoch 43/100\n",
      "32/32 [==============================] - 0s 5ms/step - loss: 0.7177 - accuracy: 0.4800\n",
      "Epoch 44/100\n",
      "32/32 [==============================] - 0s 5ms/step - loss: 0.7155 - accuracy: 0.4790\n",
      "Epoch 45/100\n",
      "32/32 [==============================] - 0s 5ms/step - loss: 0.7135 - accuracy: 0.4790\n",
      "Epoch 46/100\n",
      "32/32 [==============================] - 0s 7ms/step - loss: 0.7116 - accuracy: 0.4810\n",
      "Epoch 47/100\n",
      "32/32 [==============================] - 0s 5ms/step - loss: 0.7099 - accuracy: 0.4800\n",
      "Epoch 48/100\n",
      "32/32 [==============================] - 0s 5ms/step - loss: 0.7081 - accuracy: 0.4800\n",
      "Epoch 49/100\n",
      "32/32 [==============================] - 0s 5ms/step - loss: 0.7067 - accuracy: 0.4800\n",
      "Epoch 50/100\n",
      "32/32 [==============================] - 0s 5ms/step - loss: 0.7053 - accuracy: 0.4810\n",
      "Epoch 51/100\n",
      "32/32 [==============================] - 0s 5ms/step - loss: 0.7040 - accuracy: 0.4810\n",
      "Epoch 52/100\n",
      "32/32 [==============================] - 0s 5ms/step - loss: 0.7029 - accuracy: 0.4810\n",
      "Epoch 53/100\n",
      "32/32 [==============================] - 0s 5ms/step - loss: 0.7018 - accuracy: 0.4790\n",
      "Epoch 54/100\n",
      "32/32 [==============================] - 0s 5ms/step - loss: 0.7008 - accuracy: 0.4800\n",
      "Epoch 55/100\n",
      "32/32 [==============================] - 0s 5ms/step - loss: 0.7000 - accuracy: 0.4790\n",
      "Epoch 56/100\n",
      "32/32 [==============================] - 0s 5ms/step - loss: 0.6992 - accuracy: 0.4780\n",
      "Epoch 57/100\n",
      "32/32 [==============================] - 0s 5ms/step - loss: 0.6984 - accuracy: 0.4800\n",
      "Epoch 58/100\n",
      "32/32 [==============================] - 0s 5ms/step - loss: 0.6978 - accuracy: 0.4790\n",
      "Epoch 59/100\n",
      "32/32 [==============================] - 0s 5ms/step - loss: 0.6973 - accuracy: 0.4800\n",
      "Epoch 60/100\n",
      "32/32 [==============================] - 0s 5ms/step - loss: 0.6968 - accuracy: 0.4820\n",
      "Epoch 61/100\n",
      "32/32 [==============================] - 0s 5ms/step - loss: 0.6964 - accuracy: 0.4830\n",
      "Epoch 62/100\n",
      "32/32 [==============================] - 0s 5ms/step - loss: 0.6960 - accuracy: 0.4810\n",
      "Epoch 63/100\n",
      "32/32 [==============================] - 0s 5ms/step - loss: 0.6956 - accuracy: 0.4800\n",
      "Epoch 64/100\n",
      "32/32 [==============================] - 0s 7ms/step - loss: 0.6954 - accuracy: 0.4790\n",
      "Epoch 65/100\n",
      "32/32 [==============================] - 0s 6ms/step - loss: 0.6951 - accuracy: 0.4820\n",
      "Epoch 66/100\n",
      "32/32 [==============================] - 0s 5ms/step - loss: 0.6948 - accuracy: 0.4820\n",
      "Epoch 67/100\n",
      "32/32 [==============================] - 0s 5ms/step - loss: 0.6945 - accuracy: 0.4820\n",
      "Epoch 68/100\n",
      "32/32 [==============================] - 0s 5ms/step - loss: 0.6944 - accuracy: 0.4770\n",
      "Epoch 69/100\n",
      "32/32 [==============================] - 0s 5ms/step - loss: 0.6941 - accuracy: 0.4840\n",
      "Epoch 70/100\n",
      "32/32 [==============================] - 0s 5ms/step - loss: 0.6940 - accuracy: 0.4830\n",
      "Epoch 71/100\n",
      "32/32 [==============================] - 0s 5ms/step - loss: 0.6938 - accuracy: 0.4840\n",
      "Epoch 72/100\n",
      "32/32 [==============================] - 0s 5ms/step - loss: 0.6938 - accuracy: 0.4800\n",
      "Epoch 73/100\n",
      "32/32 [==============================] - 0s 5ms/step - loss: 0.6937 - accuracy: 0.4840\n",
      "Epoch 74/100\n",
      "32/32 [==============================] - 0s 5ms/step - loss: 0.6936 - accuracy: 0.4810\n",
      "Epoch 75/100\n",
      "32/32 [==============================] - 0s 5ms/step - loss: 0.6936 - accuracy: 0.4810\n",
      "Epoch 76/100\n",
      "32/32 [==============================] - 0s 5ms/step - loss: 0.6935 - accuracy: 0.4810\n",
      "Epoch 77/100\n",
      "32/32 [==============================] - 0s 5ms/step - loss: 0.6934 - accuracy: 0.4810\n",
      "Epoch 78/100\n",
      "32/32 [==============================] - 0s 5ms/step - loss: 0.6934 - accuracy: 0.4820\n",
      "Epoch 79/100\n",
      "32/32 [==============================] - 0s 7ms/step - loss: 0.6934 - accuracy: 0.4730\n",
      "Epoch 80/100\n",
      "32/32 [==============================] - 0s 5ms/step - loss: 0.6933 - accuracy: 0.4840\n",
      "Epoch 81/100\n",
      "32/32 [==============================] - 0s 5ms/step - loss: 0.6934 - accuracy: 0.4870\n",
      "Epoch 82/100\n",
      "32/32 [==============================] - 0s 5ms/step - loss: 0.6933 - accuracy: 0.4870\n",
      "Epoch 83/100\n",
      "32/32 [==============================] - 0s 5ms/step - loss: 0.6933 - accuracy: 0.4940\n",
      "Epoch 84/100\n",
      "32/32 [==============================] - 0s 5ms/step - loss: 0.6932 - accuracy: 0.4970\n",
      "Epoch 85/100\n",
      "32/32 [==============================] - 0s 5ms/step - loss: 0.6932 - accuracy: 0.4980\n",
      "Epoch 86/100\n",
      "32/32 [==============================] - 0s 5ms/step - loss: 0.6933 - accuracy: 0.4950\n",
      "Epoch 87/100\n",
      "32/32 [==============================] - 0s 5ms/step - loss: 0.6932 - accuracy: 0.5020\n",
      "Epoch 88/100\n",
      "32/32 [==============================] - 0s 5ms/step - loss: 0.6932 - accuracy: 0.4970\n",
      "Epoch 89/100\n",
      "32/32 [==============================] - 0s 5ms/step - loss: 0.6933 - accuracy: 0.4820\n",
      "Epoch 90/100\n",
      "32/32 [==============================] - 0s 5ms/step - loss: 0.6933 - accuracy: 0.4600\n",
      "Epoch 91/100\n",
      "32/32 [==============================] - 0s 5ms/step - loss: 0.6932 - accuracy: 0.4780\n",
      "Epoch 92/100\n",
      "32/32 [==============================] - 0s 5ms/step - loss: 0.6933 - accuracy: 0.4820\n",
      "Epoch 93/100\n",
      "32/32 [==============================] - 0s 5ms/step - loss: 0.6934 - accuracy: 0.4440\n",
      "Epoch 94/100\n",
      "32/32 [==============================] - 0s 6ms/step - loss: 0.6932 - accuracy: 0.4670\n",
      "Epoch 95/100\n",
      "32/32 [==============================] - 0s 5ms/step - loss: 0.6932 - accuracy: 0.4820\n",
      "Epoch 96/100\n",
      "32/32 [==============================] - 0s 5ms/step - loss: 0.6933 - accuracy: 0.4820\n",
      "Epoch 97/100\n",
      "32/32 [==============================] - 0s 7ms/step - loss: 0.6932 - accuracy: 0.4860\n",
      "Epoch 98/100\n",
      "32/32 [==============================] - 0s 5ms/step - loss: 0.6933 - accuracy: 0.4550\n",
      "Epoch 99/100\n",
      "32/32 [==============================] - 0s 5ms/step - loss: 0.6933 - accuracy: 0.5050\n",
      "Epoch 100/100\n",
      "32/32 [==============================] - 0s 5ms/step - loss: 0.6933 - accuracy: 0.5070\n"
     ]
    },
    {
     "data": {
      "text/plain": [
       "<keras.callbacks.History at 0x16a14ec76d0>"
      ]
     },
     "execution_count": 15,
     "metadata": {},
     "output_type": "execute_result"
    }
   ],
   "source": [
    "# Set a random seed\n",
    "tf.random.set_seed(42)\n",
    "\n",
    "# 1. Create a model\n",
    "model_2 = tf.keras.Sequential(\n",
    "    [\n",
    "        tf.keras.layers.Dense(10, input_shape = (2,), name = \"hidden_layer\"),\n",
    "        tf.keras.layers.Dense(1, name = \"output_layer\")\n",
    "    ], name = \"model_2\"\n",
    ")\n",
    "\n",
    "# 2. Compile the model\n",
    "model_2.compile(\n",
    "    loss = tf.keras.losses.BinaryCrossentropy(),\n",
    "    optimizer = tf.keras.optimizers.Adam(learning_rate = 3e-4),\n",
    "    metrics = [\"accuracy\"]\n",
    ")\n",
    "\n",
    "# 3. Fit the model\n",
    "model_2.fit(X, y, epochs = 100)"
   ]
  },
  {
   "cell_type": "code",
   "execution_count": 16,
   "metadata": {},
   "outputs": [
    {
     "name": "stdout",
     "output_type": "stream",
     "text": [
      "32/32 [==============================] - 0s 3ms/step - loss: 0.6932 - accuracy: 0.5150\n"
     ]
    },
    {
     "data": {
      "text/plain": [
       "[0.6931594610214233, 0.5149999856948853]"
      ]
     },
     "execution_count": 16,
     "metadata": {},
     "output_type": "execute_result"
    }
   ],
   "source": [
    "# 4. Evaluate the model\n",
    "model_2.evaluate(X,y)"
   ]
  },
  {
   "cell_type": "markdown",
   "metadata": {},
   "source": [
    "Yeah this doesn't look so good."
   ]
  },
  {
   "cell_type": "code",
   "execution_count": 18,
   "metadata": {},
   "outputs": [
    {
     "data": {
      "text/plain": [
       "1    500\n",
       "0    500\n",
       "Name: label, dtype: int64"
      ]
     },
     "execution_count": 18,
     "metadata": {},
     "output_type": "execute_result"
    }
   ],
   "source": [
    "circles['label'].value_counts()"
   ]
  },
  {
   "cell_type": "code",
   "execution_count": 19,
   "metadata": {},
   "outputs": [
    {
     "name": "stdout",
     "output_type": "stream",
     "text": [
      "Epoch 1/100\n",
      "32/32 [==============================] - 1s 13ms/step - loss: 4.2086 - accuracy: 0.4300\n",
      "Epoch 2/100\n",
      "32/32 [==============================] - 0s 10ms/step - loss: 4.0658 - accuracy: 0.4150\n",
      "Epoch 3/100\n",
      "32/32 [==============================] - 0s 9ms/step - loss: 3.9799 - accuracy: 0.4130\n",
      "Epoch 4/100\n",
      "32/32 [==============================] - 0s 8ms/step - loss: 3.7371 - accuracy: 0.4270\n",
      "Epoch 5/100\n",
      "32/32 [==============================] - 0s 9ms/step - loss: 3.5319 - accuracy: 0.4390\n",
      "Epoch 6/100\n",
      "32/32 [==============================] - 0s 8ms/step - loss: 2.5634 - accuracy: 0.4780\n",
      "Epoch 7/100\n",
      "32/32 [==============================] - 0s 8ms/step - loss: 0.8814 - accuracy: 0.5000\n",
      "Epoch 8/100\n",
      "32/32 [==============================] - 0s 9ms/step - loss: 0.8334 - accuracy: 0.5000\n",
      "Epoch 9/100\n",
      "32/32 [==============================] - 0s 9ms/step - loss: 0.8152 - accuracy: 0.5000\n",
      "Epoch 10/100\n",
      "32/32 [==============================] - 0s 9ms/step - loss: 0.7994 - accuracy: 0.5000\n",
      "Epoch 11/100\n",
      "32/32 [==============================] - 0s 9ms/step - loss: 0.7858 - accuracy: 0.5000\n",
      "Epoch 12/100\n",
      "32/32 [==============================] - 0s 9ms/step - loss: 0.7740 - accuracy: 0.5000\n",
      "Epoch 13/100\n",
      "32/32 [==============================] - 0s 10ms/step - loss: 0.7631 - accuracy: 0.5000\n",
      "Epoch 14/100\n",
      "32/32 [==============================] - 0s 12ms/step - loss: 0.7537 - accuracy: 0.5000\n",
      "Epoch 15/100\n",
      "32/32 [==============================] - 0s 11ms/step - loss: 0.7452 - accuracy: 0.5000\n",
      "Epoch 16/100\n",
      "32/32 [==============================] - 0s 10ms/step - loss: 0.7381 - accuracy: 0.5000\n",
      "Epoch 17/100\n",
      "32/32 [==============================] - 0s 9ms/step - loss: 0.7315 - accuracy: 0.5000\n",
      "Epoch 18/100\n",
      "32/32 [==============================] - 0s 10ms/step - loss: 0.7255 - accuracy: 0.5000\n",
      "Epoch 19/100\n",
      "32/32 [==============================] - 0s 9ms/step - loss: 0.7207 - accuracy: 0.5000\n",
      "Epoch 20/100\n",
      "32/32 [==============================] - 0s 10ms/step - loss: 0.7163 - accuracy: 0.5000\n",
      "Epoch 21/100\n",
      "32/32 [==============================] - 0s 11ms/step - loss: 0.7126 - accuracy: 0.5000\n",
      "Epoch 22/100\n",
      "32/32 [==============================] - 0s 9ms/step - loss: 0.7092 - accuracy: 0.5000\n",
      "Epoch 23/100\n",
      "32/32 [==============================] - 0s 10ms/step - loss: 0.7064 - accuracy: 0.5000\n",
      "Epoch 24/100\n",
      "32/32 [==============================] - 0s 10ms/step - loss: 0.7042 - accuracy: 0.5000\n",
      "Epoch 25/100\n",
      "32/32 [==============================] - 0s 9ms/step - loss: 0.7023 - accuracy: 0.5000\n",
      "Epoch 26/100\n",
      "32/32 [==============================] - 0s 9ms/step - loss: 0.7003 - accuracy: 0.5000\n",
      "Epoch 27/100\n",
      "32/32 [==============================] - 0s 11ms/step - loss: 0.6990 - accuracy: 0.5000\n",
      "Epoch 28/100\n",
      "32/32 [==============================] - 0s 10ms/step - loss: 0.6976 - accuracy: 0.5000\n",
      "Epoch 29/100\n",
      "32/32 [==============================] - 0s 9ms/step - loss: 0.6970 - accuracy: 0.5000\n",
      "Epoch 30/100\n",
      "32/32 [==============================] - 0s 10ms/step - loss: 0.6961 - accuracy: 0.5000\n",
      "Epoch 31/100\n",
      "32/32 [==============================] - 0s 10ms/step - loss: 0.6954 - accuracy: 0.5000\n",
      "Epoch 32/100\n",
      "32/32 [==============================] - 0s 10ms/step - loss: 0.6948 - accuracy: 0.5000\n",
      "Epoch 33/100\n",
      "32/32 [==============================] - 0s 11ms/step - loss: 0.6945 - accuracy: 0.5000\n",
      "Epoch 34/100\n",
      "32/32 [==============================] - 0s 10ms/step - loss: 0.6943 - accuracy: 0.5000\n",
      "Epoch 35/100\n",
      "32/32 [==============================] - 0s 8ms/step - loss: 0.6941 - accuracy: 0.5000\n",
      "Epoch 36/100\n",
      "32/32 [==============================] - 0s 9ms/step - loss: 0.6937 - accuracy: 0.5000\n",
      "Epoch 37/100\n",
      "32/32 [==============================] - 0s 10ms/step - loss: 0.6937 - accuracy: 0.5000\n",
      "Epoch 38/100\n",
      "32/32 [==============================] - 0s 9ms/step - loss: 0.6937 - accuracy: 0.5000\n",
      "Epoch 39/100\n",
      "32/32 [==============================] - 0s 9ms/step - loss: 0.6935 - accuracy: 0.5000\n",
      "Epoch 40/100\n",
      "32/32 [==============================] - 0s 11ms/step - loss: 0.6937 - accuracy: 0.4840\n",
      "Epoch 41/100\n",
      "32/32 [==============================] - 0s 9ms/step - loss: 0.6937 - accuracy: 0.5000\n",
      "Epoch 42/100\n",
      "32/32 [==============================] - 0s 9ms/step - loss: 0.6935 - accuracy: 0.5000\n",
      "Epoch 43/100\n",
      "32/32 [==============================] - 0s 9ms/step - loss: 0.6934 - accuracy: 0.5000\n",
      "Epoch 44/100\n",
      "32/32 [==============================] - 0s 10ms/step - loss: 0.6935 - accuracy: 0.5000\n",
      "Epoch 45/100\n",
      "32/32 [==============================] - 0s 9ms/step - loss: 0.6933 - accuracy: 0.5000\n",
      "Epoch 46/100\n",
      "32/32 [==============================] - 0s 10ms/step - loss: 0.6933 - accuracy: 0.5000\n",
      "Epoch 47/100\n",
      "32/32 [==============================] - 0s 13ms/step - loss: 0.6935 - accuracy: 0.4570\n",
      "Epoch 48/100\n",
      "32/32 [==============================] - 0s 10ms/step - loss: 0.6935 - accuracy: 0.4840\n",
      "Epoch 49/100\n",
      "32/32 [==============================] - 0s 9ms/step - loss: 0.6934 - accuracy: 0.4650\n",
      "Epoch 50/100\n",
      "32/32 [==============================] - 0s 9ms/step - loss: 0.6934 - accuracy: 0.4760\n",
      "Epoch 51/100\n",
      "32/32 [==============================] - 0s 9ms/step - loss: 0.6933 - accuracy: 0.4770\n",
      "Epoch 52/100\n",
      "32/32 [==============================] - 0s 10ms/step - loss: 0.6934 - accuracy: 0.4860\n",
      "Epoch 53/100\n",
      "32/32 [==============================] - 0s 11ms/step - loss: 0.6936 - accuracy: 0.4820\n",
      "Epoch 54/100\n",
      "32/32 [==============================] - 0s 13ms/step - loss: 0.6933 - accuracy: 0.5060\n",
      "Epoch 55/100\n",
      "32/32 [==============================] - 0s 9ms/step - loss: 0.6935 - accuracy: 0.4880\n",
      "Epoch 56/100\n",
      "32/32 [==============================] - 0s 10ms/step - loss: 0.6934 - accuracy: 0.4950\n",
      "Epoch 57/100\n",
      "32/32 [==============================] - 0s 9ms/step - loss: 0.6934 - accuracy: 0.4920\n",
      "Epoch 58/100\n",
      "32/32 [==============================] - 0s 8ms/step - loss: 0.6934 - accuracy: 0.4960\n",
      "Epoch 59/100\n",
      "32/32 [==============================] - 0s 9ms/step - loss: 0.6936 - accuracy: 0.5240\n",
      "Epoch 60/100\n",
      "32/32 [==============================] - 0s 12ms/step - loss: 0.6934 - accuracy: 0.5380\n",
      "Epoch 61/100\n",
      "32/32 [==============================] - 0s 9ms/step - loss: 0.6936 - accuracy: 0.4760\n",
      "Epoch 62/100\n",
      "32/32 [==============================] - 0s 10ms/step - loss: 0.6934 - accuracy: 0.4910\n",
      "Epoch 63/100\n",
      "32/32 [==============================] - 0s 9ms/step - loss: 0.6934 - accuracy: 0.4800\n",
      "Epoch 64/100\n",
      "32/32 [==============================] - 0s 10ms/step - loss: 0.6938 - accuracy: 0.4920\n",
      "Epoch 65/100\n",
      "32/32 [==============================] - 0s 9ms/step - loss: 0.6934 - accuracy: 0.4830\n",
      "Epoch 66/100\n",
      "32/32 [==============================] - 0s 11ms/step - loss: 0.6934 - accuracy: 0.4980\n",
      "Epoch 67/100\n",
      "32/32 [==============================] - 0s 10ms/step - loss: 0.6934 - accuracy: 0.4760\n",
      "Epoch 68/100\n",
      "32/32 [==============================] - 0s 10ms/step - loss: 0.6935 - accuracy: 0.4740\n",
      "Epoch 69/100\n",
      "32/32 [==============================] - 0s 10ms/step - loss: 0.6934 - accuracy: 0.4920\n",
      "Epoch 70/100\n",
      "32/32 [==============================] - 0s 10ms/step - loss: 0.6935 - accuracy: 0.5030\n",
      "Epoch 71/100\n",
      "32/32 [==============================] - 0s 10ms/step - loss: 0.6933 - accuracy: 0.4730\n",
      "Epoch 72/100\n",
      "32/32 [==============================] - 0s 11ms/step - loss: 0.6934 - accuracy: 0.4890\n",
      "Epoch 73/100\n",
      "32/32 [==============================] - 0s 12ms/step - loss: 0.6936 - accuracy: 0.5030\n",
      "Epoch 74/100\n",
      "32/32 [==============================] - 0s 11ms/step - loss: 0.6934 - accuracy: 0.5100\n",
      "Epoch 75/100\n",
      "32/32 [==============================] - 0s 9ms/step - loss: 0.6937 - accuracy: 0.5210\n",
      "Epoch 76/100\n",
      "32/32 [==============================] - 0s 9ms/step - loss: 0.6935 - accuracy: 0.4700\n",
      "Epoch 77/100\n",
      "32/32 [==============================] - 0s 9ms/step - loss: 0.6934 - accuracy: 0.5110\n",
      "Epoch 78/100\n",
      "32/32 [==============================] - 0s 9ms/step - loss: 0.6936 - accuracy: 0.4750\n",
      "Epoch 79/100\n",
      "32/32 [==============================] - 0s 12ms/step - loss: 0.6939 - accuracy: 0.4710\n",
      "Epoch 80/100\n",
      "32/32 [==============================] - 0s 10ms/step - loss: 0.6933 - accuracy: 0.5520\n",
      "Epoch 81/100\n",
      "32/32 [==============================] - 0s 10ms/step - loss: 0.6938 - accuracy: 0.5430\n",
      "Epoch 82/100\n",
      "32/32 [==============================] - 0s 10ms/step - loss: 0.6937 - accuracy: 0.4880\n",
      "Epoch 83/100\n",
      "32/32 [==============================] - 0s 8ms/step - loss: 0.6936 - accuracy: 0.4570\n",
      "Epoch 84/100\n",
      "32/32 [==============================] - 0s 9ms/step - loss: 0.6932 - accuracy: 0.5100\n",
      "Epoch 85/100\n",
      "32/32 [==============================] - 0s 12ms/step - loss: 0.6935 - accuracy: 0.5090\n",
      "Epoch 86/100\n",
      "32/32 [==============================] - 0s 9ms/step - loss: 0.6937 - accuracy: 0.4970\n",
      "Epoch 87/100\n",
      "32/32 [==============================] - 0s 9ms/step - loss: 0.6934 - accuracy: 0.5150\n",
      "Epoch 88/100\n",
      "32/32 [==============================] - 0s 9ms/step - loss: 0.6935 - accuracy: 0.4770\n",
      "Epoch 89/100\n",
      "32/32 [==============================] - 0s 9ms/step - loss: 0.6937 - accuracy: 0.4940\n",
      "Epoch 90/100\n",
      "32/32 [==============================] - 0s 9ms/step - loss: 0.6938 - accuracy: 0.4570\n",
      "Epoch 91/100\n",
      "32/32 [==============================] - 0s 10ms/step - loss: 0.6935 - accuracy: 0.4650\n",
      "Epoch 92/100\n",
      "32/32 [==============================] - 0s 11ms/step - loss: 0.6938 - accuracy: 0.4980\n",
      "Epoch 93/100\n",
      "32/32 [==============================] - 0s 10ms/step - loss: 0.6942 - accuracy: 0.4910\n",
      "Epoch 94/100\n",
      "32/32 [==============================] - 0s 11ms/step - loss: 0.6934 - accuracy: 0.4930\n",
      "Epoch 95/100\n",
      "32/32 [==============================] - 0s 10ms/step - loss: 0.6938 - accuracy: 0.4880\n",
      "Epoch 96/100\n",
      "32/32 [==============================] - 0s 9ms/step - loss: 0.6937 - accuracy: 0.4790\n",
      "Epoch 97/100\n",
      "32/32 [==============================] - 0s 9ms/step - loss: 0.6936 - accuracy: 0.4930\n",
      "Epoch 98/100\n",
      "32/32 [==============================] - 0s 12ms/step - loss: 0.6937 - accuracy: 0.4720\n",
      "Epoch 99/100\n",
      "32/32 [==============================] - 0s 10ms/step - loss: 0.6938 - accuracy: 0.5220\n",
      "Epoch 100/100\n",
      "32/32 [==============================] - 0s 10ms/step - loss: 0.6943 - accuracy: 0.4890\n"
     ]
    },
    {
     "data": {
      "text/plain": [
       "<keras.callbacks.History at 0x16a19bfb0d0>"
      ]
     },
     "execution_count": 19,
     "metadata": {},
     "output_type": "execute_result"
    }
   ],
   "source": [
    "# Set the random seed\n",
    "tf.random.set_seed(42)\n",
    "\n",
    "# 1. Create the model\n",
    "model_3 = tf.keras.Sequential(\n",
    "    [\n",
    "        tf.keras.layers.Dense(100, input_shape = (2,), name = \"hidden_layer_1\"), # add a 100 dense neurons\n",
    "        tf.keras.layers.Dense(10, name = \"hidden_layer_2\"), # another layer with 10 neurons\n",
    "        tf.keras.layers.Dense(1, name = \"output_layer\") \n",
    "    ], name = \"model_3\"\n",
    ")\n",
    "\n",
    "# 2. Compile the model\n",
    "model_3.compile(\n",
    "    loss = tf.keras.losses.BinaryCrossentropy(),\n",
    "    optimizer = tf.keras.optimizers.Adam(learning_rate = 3e-4),\n",
    "    metrics = [\"accuracy\"]\n",
    ")\n",
    "\n",
    "# 3. Fit the model\n",
    "model_3.fit(X, y, epochs = 100)"
   ]
  },
  {
   "cell_type": "code",
   "execution_count": 20,
   "metadata": {},
   "outputs": [
    {
     "name": "stdout",
     "output_type": "stream",
     "text": [
      "32/32 [==============================] - 1s 12ms/step - loss: 0.6932 - accuracy: 0.5350\n"
     ]
    },
    {
     "data": {
      "text/plain": [
       "[0.6932017207145691, 0.5350000262260437]"
      ]
     },
     "execution_count": 20,
     "metadata": {},
     "output_type": "execute_result"
    }
   ],
   "source": [
    "# 4. Evaluate the model\n",
    "model_3.evaluate(X, y)"
   ]
  },
  {
   "cell_type": "markdown",
   "metadata": {},
   "source": [
    "To visualize our model's predictions, lets create a function `plot_decision_boundary()`. This function will:\n",
    "\n",
    "* Take in a trained mode, features (X) and labels (y)\n",
    "* Create a meshgrid of the different X values\n",
    "* Make predictions across the meshgrid\n",
    "* Plot the predictions as well as a line between the zones (where each unique class falls)"
   ]
  },
  {
   "cell_type": "code",
   "execution_count": 24,
   "metadata": {},
   "outputs": [],
   "source": [
    "def plot_decision_boundary(model, X, y):\n",
    "    \"\"\"\n",
    "    Plots decision boundary created by a model predicting on X.\n",
    "    \"\"\"\n",
    "    # Define the axis boundaries of the plot and create a meshgrid\n",
    "    x_min, x_max = X[:, 0].min() - 0.1, X[:, 0].max() + 0.1\n",
    "    y_min, y_max = X[:, 1].min() - 0.1, X[:, 1].max() + 0.1\n",
    "    xx, yy = np.meshgrid(\n",
    "        np.linspace(x_min, x_max, 100),\n",
    "        np.linspace(y_min, y_max, 100)\n",
    "    )\n",
    "    x_in = np.c_[xx.ravel(), yy.ravel()] # stack 2D arrays together\n",
    "    y_pred = model.predict(x_in)\n",
    "    # Check for multi-class classification\n",
    "    if len(y_pred[0]) > 1:\n",
    "        print(\"Multiclass classification\")\n",
    "        y_pred = np.argmax(y_pred, axis = 1).reshape(xx.shape)\n",
    "    else:\n",
    "        print(\"Binary classification\")\n",
    "        y_pred = np.round(y_pred).reshape(xx.shape)\n",
    "    \n",
    "    # Plot the decision boundary\n",
    "    plt.contourf(xx, yy, y_pred, cmap = plt.cm.RdYlBu, alpha = 0.7)\n",
    "    plt.scatter(X[:, 0], X[:, 1], c = y, s = 40, cmap = plt.cm.RdYlBu)\n",
    "    plt.xlim(xx.min(), xx.max())\n",
    "    plt.ylim(yy.min(), yy.max())\n",
    "    return"
   ]
  },
  {
   "cell_type": "code",
   "execution_count": 25,
   "metadata": {},
   "outputs": [
    {
     "name": "stdout",
     "output_type": "stream",
     "text": [
      "313/313 [==============================] - 1s 4ms/step\n",
      "Binary classification\n"
     ]
    },
    {
     "data": {
      "image/png": "[encoded data removed]",
      "text/plain": [
       "<Figure size 432x288 with 1 Axes>"
      ]
     },
     "metadata": {
      "needs_background": "light"
     },
     "output_type": "display_data"
    }
   ],
   "source": [
    "# Check the decisions our model is making\n",
    "plot_decision_boundary(\n",
    "    model = model_3,\n",
    "    X = X,\n",
    "    y = y\n",
    ")"
   ]
  },
  {
   "cell_type": "markdown",
   "metadata": {},
   "source": [
    "Whoops! Looks like this is the problem. Our model is trying to draw a straight line through the data!"
   ]
  },
  {
   "cell_type": "code",
   "execution_count": 29,
   "metadata": {},
   "outputs": [
    {
     "name": "stdout",
     "output_type": "stream",
     "text": [
      "Epoch 1/100\n"
     ]
    },
    {
     "ename": "ValueError",
     "evalue": "Creating variables on a non-first call to a function decorated with tf.function.",
     "output_type": "error",
     "traceback": [
      "\u001b[1;31m---------------------------------------------------------------------------\u001b[0m",
      "\u001b[1;31mValueError\u001b[0m                                Traceback (most recent call last)",
      "\u001b[1;32mc:\\Users\\Pratik Sanghavi\\Desktop\\Projects\\Machine-Learning\\17. Tensorflow Developer Certification Notes\\3_Neural_network_Classification_with_TensorFlow.ipynb Cell 27'\u001b[0m in \u001b[0;36m<cell line: 17>\u001b[1;34m()\u001b[0m\n\u001b[0;32m     <a href='vscode-notebook-cell:/c%3A/Users/Pratik%20Sanghavi/Desktop/Projects/Machine-Learning/17.%20Tensorflow%20Developer%20Certification%20Notes/3_Neural_network_Classification_with_TensorFlow.ipynb#ch0000026?line=12'>13</a>\u001b[0m y_reg_test \u001b[39m=\u001b[39m X_regression[\u001b[39m150\u001b[39m:][\u001b[39m.\u001b[39m\u001b[39m.\u001b[39m\u001b[39m.\u001b[39m, tf\u001b[39m.\u001b[39mnewaxis]\n\u001b[0;32m     <a href='vscode-notebook-cell:/c%3A/Users/Pratik%20Sanghavi/Desktop/Projects/Machine-Learning/17.%20Tensorflow%20Developer%20Certification%20Notes/3_Neural_network_Classification_with_TensorFlow.ipynb#ch0000026?line=14'>15</a>\u001b[0m \u001b[39m# Fit our model to the regression data\u001b[39;00m\n\u001b[0;32m     <a href='vscode-notebook-cell:/c%3A/Users/Pratik%20Sanghavi/Desktop/Projects/Machine-Learning/17.%20Tensorflow%20Developer%20Certification%20Notes/3_Neural_network_Classification_with_TensorFlow.ipynb#ch0000026?line=15'>16</a>\u001b[0m \u001b[39m# We can't because input shape is defined but if we hadn't then the following line would work.\u001b[39;00m\n\u001b[1;32m---> <a href='vscode-notebook-cell:/c%3A/Users/Pratik%20Sanghavi/Desktop/Projects/Machine-Learning/17.%20Tensorflow%20Developer%20Certification%20Notes/3_Neural_network_Classification_with_TensorFlow.ipynb#ch0000026?line=16'>17</a>\u001b[0m model_3\u001b[39m.\u001b[39;49mfit(X_reg_train, y_reg_train, epochs \u001b[39m=\u001b[39;49m \u001b[39m100\u001b[39;49m)\n",
      "File \u001b[1;32mc:\\Users\\Pratik Sanghavi\\AppData\\Local\\Programs\\Python\\Python310\\lib\\site-packages\\keras\\utils\\traceback_utils.py:67\u001b[0m, in \u001b[0;36mfilter_traceback.<locals>.error_handler\u001b[1;34m(*args, **kwargs)\u001b[0m\n\u001b[0;32m     65\u001b[0m \u001b[39mexcept\u001b[39;00m \u001b[39mException\u001b[39;00m \u001b[39mas\u001b[39;00m e:  \u001b[39m# pylint: disable=broad-except\u001b[39;00m\n\u001b[0;32m     66\u001b[0m   filtered_tb \u001b[39m=\u001b[39m _process_traceback_frames(e\u001b[39m.\u001b[39m__traceback__)\n\u001b[1;32m---> 67\u001b[0m   \u001b[39mraise\u001b[39;00m e\u001b[39m.\u001b[39mwith_traceback(filtered_tb) \u001b[39mfrom\u001b[39;00m \u001b[39mNone\u001b[39m\n\u001b[0;32m     68\u001b[0m \u001b[39mfinally\u001b[39;00m:\n\u001b[0;32m     69\u001b[0m   \u001b[39mdel\u001b[39;00m filtered_tb\n",
      "File \u001b[1;32mc:\\Users\\Pratik Sanghavi\\AppData\\Local\\Programs\\Python\\Python310\\lib\\site-packages\\tensorflow\\python\\eager\\def_function.py:956\u001b[0m, in \u001b[0;36mFunction._call\u001b[1;34m(self, *args, **kwds)\u001b[0m\n\u001b[0;32m    954\u001b[0m   results \u001b[39m=\u001b[39m \u001b[39mself\u001b[39m\u001b[39m.\u001b[39m_stateful_fn(\u001b[39m*\u001b[39margs, \u001b[39m*\u001b[39m\u001b[39m*\u001b[39mkwds)\n\u001b[0;32m    955\u001b[0m   \u001b[39mif\u001b[39;00m \u001b[39mself\u001b[39m\u001b[39m.\u001b[39m_created_variables \u001b[39mand\u001b[39;00m \u001b[39mnot\u001b[39;00m ALLOW_DYNAMIC_VARIABLE_CREATION:\n\u001b[1;32m--> 956\u001b[0m     \u001b[39mraise\u001b[39;00m \u001b[39mValueError\u001b[39;00m(\u001b[39m\"\u001b[39m\u001b[39mCreating variables on a non-first call to a function\u001b[39m\u001b[39m\"\u001b[39m\n\u001b[0;32m    957\u001b[0m                      \u001b[39m\"\u001b[39m\u001b[39m decorated with tf.function.\u001b[39m\u001b[39m\"\u001b[39m)\n\u001b[0;32m    958\u001b[0m   \u001b[39mreturn\u001b[39;00m results\n\u001b[0;32m    960\u001b[0m \u001b[39mtry\u001b[39;00m:\n\u001b[0;32m    961\u001b[0m   \u001b[39m# This is the first call of __call__, so we have to initialize.\u001b[39;00m\n",
      "\u001b[1;31mValueError\u001b[0m: Creating variables on a non-first call to a function decorated with tf.function."
     ]
    }
   ],
   "source": [
    "# Lets see if our model can be used for a regression problem\n",
    "\n",
    "tf.random.set_seed(42)\n",
    "\n",
    "# Create some regression data\n",
    "X_regression = tf.range(0, 1000, 5)\n",
    "y_regression = tf.range(100, 1100, 5) # y = X + 100\n",
    "\n",
    "# Split our regression data into training and test sets\n",
    "X_reg_train = X_regression[:150][..., tf.newaxis]\n",
    "X_reg_test = X_regression[150:][..., tf.newaxis]\n",
    "y_reg_train = X_regression[:150][..., tf.newaxis]\n",
    "y_reg_test = X_regression[150:][..., tf.newaxis]\n",
    "\n",
    "# Fit our model to the regression data\n",
    "# We can't because input shape is defined but if we hadn't then the following line would work.\n",
    "model_3.fit(X_reg_train, y_reg_train, epochs = 100)"
   ]
  },
  {
   "cell_type": "markdown",
   "metadata": {},
   "source": [
    "Lets change up the model a bit"
   ]
  },
  {
   "cell_type": "code",
   "execution_count": 30,
   "metadata": {},
   "outputs": [
    {
     "name": "stdout",
     "output_type": "stream",
     "text": [
      "Epoch 1/100\n",
      "5/5 [==============================] - 1s 14ms/step - loss: 175.0469 - mae: 175.0469\n",
      "Epoch 2/100\n",
      "5/5 [==============================] - 0s 21ms/step - loss: 142.7220 - mae: 142.7220\n",
      "Epoch 3/100\n",
      "5/5 [==============================] - 0s 18ms/step - loss: 111.6871 - mae: 111.6871\n",
      "Epoch 4/100\n",
      "5/5 [==============================] - 0s 9ms/step - loss: 79.9140 - mae: 79.9140\n",
      "Epoch 5/100\n",
      "5/5 [==============================] - 0s 8ms/step - loss: 47.6501 - mae: 47.6501\n",
      "Epoch 6/100\n",
      "5/5 [==============================] - 0s 8ms/step - loss: 13.9854 - mae: 13.9854\n",
      "Epoch 7/100\n",
      "5/5 [==============================] - 0s 9ms/step - loss: 14.7173 - mae: 14.7173\n",
      "Epoch 8/100\n",
      "5/5 [==============================] - 0s 8ms/step - loss: 20.5618 - mae: 20.5618\n",
      "Epoch 9/100\n",
      "5/5 [==============================] - 0s 9ms/step - loss: 10.1260 - mae: 10.1260\n",
      "Epoch 10/100\n",
      "5/5 [==============================] - 0s 7ms/step - loss: 5.5044 - mae: 5.5044\n",
      "Epoch 11/100\n",
      "5/5 [==============================] - 0s 9ms/step - loss: 5.4281 - mae: 5.4281\n",
      "Epoch 12/100\n",
      "5/5 [==============================] - 0s 7ms/step - loss: 3.7916 - mae: 3.7916\n",
      "Epoch 13/100\n",
      "5/5 [==============================] - 0s 8ms/step - loss: 1.6741 - mae: 1.6741\n",
      "Epoch 14/100\n",
      "5/5 [==============================] - 0s 9ms/step - loss: 1.0891 - mae: 1.0891\n",
      "Epoch 15/100\n",
      "5/5 [==============================] - 0s 8ms/step - loss: 1.0077 - mae: 1.0077\n",
      "Epoch 16/100\n",
      "5/5 [==============================] - 0s 8ms/step - loss: 0.9471 - mae: 0.9471\n",
      "Epoch 17/100\n",
      "5/5 [==============================] - 0s 7ms/step - loss: 1.1016 - mae: 1.1016\n",
      "Epoch 18/100\n",
      "5/5 [==============================] - 0s 9ms/step - loss: 0.3247 - mae: 0.3247\n",
      "Epoch 19/100\n",
      "5/5 [==============================] - 0s 9ms/step - loss: 0.3500 - mae: 0.3500\n",
      "Epoch 20/100\n",
      "5/5 [==============================] - 0s 7ms/step - loss: 0.2834 - mae: 0.2834\n",
      "Epoch 21/100\n",
      "5/5 [==============================] - 0s 6ms/step - loss: 0.8000 - mae: 0.8000\n",
      "Epoch 22/100\n",
      "5/5 [==============================] - 0s 8ms/step - loss: 0.4136 - mae: 0.4136\n",
      "Epoch 23/100\n",
      "5/5 [==============================] - 0s 7ms/step - loss: 0.1480 - mae: 0.1480\n",
      "Epoch 24/100\n",
      "5/5 [==============================] - 0s 8ms/step - loss: 0.2131 - mae: 0.2131\n",
      "Epoch 25/100\n",
      "5/5 [==============================] - 0s 7ms/step - loss: 0.5098 - mae: 0.5098\n",
      "Epoch 26/100\n",
      "5/5 [==============================] - 0s 8ms/step - loss: 1.1533 - mae: 1.1533\n",
      "Epoch 27/100\n",
      "5/5 [==============================] - 0s 8ms/step - loss: 1.0669 - mae: 1.0669\n",
      "Epoch 28/100\n",
      "5/5 [==============================] - 0s 6ms/step - loss: 0.8346 - mae: 0.8346\n",
      "Epoch 29/100\n",
      "5/5 [==============================] - 0s 7ms/step - loss: 1.8175 - mae: 1.8175\n",
      "Epoch 30/100\n",
      "5/5 [==============================] - 0s 9ms/step - loss: 1.6855 - mae: 1.6855\n",
      "Epoch 31/100\n",
      "5/5 [==============================] - 0s 9ms/step - loss: 1.4692 - mae: 1.4692\n",
      "Epoch 32/100\n",
      "5/5 [==============================] - 0s 7ms/step - loss: 1.8149 - mae: 1.8149\n",
      "Epoch 33/100\n",
      "5/5 [==============================] - 0s 8ms/step - loss: 1.2518 - mae: 1.2518\n",
      "Epoch 34/100\n",
      "5/5 [==============================] - 0s 7ms/step - loss: 0.4315 - mae: 0.4315\n",
      "Epoch 35/100\n",
      "5/5 [==============================] - 0s 9ms/step - loss: 0.5429 - mae: 0.5429\n",
      "Epoch 36/100\n",
      "5/5 [==============================] - 0s 7ms/step - loss: 1.0778 - mae: 1.0778\n",
      "Epoch 37/100\n",
      "5/5 [==============================] - 0s 7ms/step - loss: 0.3108 - mae: 0.3108\n",
      "Epoch 38/100\n",
      "5/5 [==============================] - 0s 7ms/step - loss: 0.4618 - mae: 0.4618\n",
      "Epoch 39/100\n",
      "5/5 [==============================] - 0s 7ms/step - loss: 1.0998 - mae: 1.0998\n",
      "Epoch 40/100\n",
      "5/5 [==============================] - 0s 6ms/step - loss: 1.1399 - mae: 1.1399\n",
      "Epoch 41/100\n",
      "5/5 [==============================] - 0s 6ms/step - loss: 0.3150 - mae: 0.3150\n",
      "Epoch 42/100\n",
      "5/5 [==============================] - 0s 7ms/step - loss: 0.8041 - mae: 0.8041\n",
      "Epoch 43/100\n",
      "5/5 [==============================] - 0s 9ms/step - loss: 0.9915 - mae: 0.9915\n",
      "Epoch 44/100\n",
      "5/5 [==============================] - 0s 11ms/step - loss: 1.5221 - mae: 1.5221\n",
      "Epoch 45/100\n",
      "5/5 [==============================] - 0s 8ms/step - loss: 1.4077 - mae: 1.4077\n",
      "Epoch 46/100\n",
      "5/5 [==============================] - 0s 8ms/step - loss: 1.4869 - mae: 1.4869\n",
      "Epoch 47/100\n",
      "5/5 [==============================] - 0s 7ms/step - loss: 1.1320 - mae: 1.1320\n",
      "Epoch 48/100\n",
      "5/5 [==============================] - 0s 9ms/step - loss: 0.9873 - mae: 0.9873\n",
      "Epoch 49/100\n",
      "5/5 [==============================] - 0s 8ms/step - loss: 1.0765 - mae: 1.0765\n",
      "Epoch 50/100\n",
      "5/5 [==============================] - 0s 8ms/step - loss: 1.2722 - mae: 1.2722\n",
      "Epoch 51/100\n",
      "5/5 [==============================] - 0s 8ms/step - loss: 1.4988 - mae: 1.4988\n",
      "Epoch 52/100\n",
      "5/5 [==============================] - 0s 7ms/step - loss: 1.2925 - mae: 1.2925\n",
      "Epoch 53/100\n",
      "5/5 [==============================] - 0s 7ms/step - loss: 0.6054 - mae: 0.6054\n",
      "Epoch 54/100\n",
      "5/5 [==============================] - 0s 6ms/step - loss: 0.2078 - mae: 0.2078\n",
      "Epoch 55/100\n",
      "5/5 [==============================] - 0s 7ms/step - loss: 0.7440 - mae: 0.7440\n",
      "Epoch 56/100\n",
      "5/5 [==============================] - 0s 6ms/step - loss: 0.2417 - mae: 0.2417\n",
      "Epoch 57/100\n",
      "5/5 [==============================] - 0s 8ms/step - loss: 0.5091 - mae: 0.5091\n",
      "Epoch 58/100\n",
      "5/5 [==============================] - 0s 8ms/step - loss: 0.1871 - mae: 0.1871\n",
      "Epoch 59/100\n",
      "5/5 [==============================] - 0s 7ms/step - loss: 0.1721 - mae: 0.1721\n",
      "Epoch 60/100\n",
      "5/5 [==============================] - 0s 8ms/step - loss: 0.3389 - mae: 0.3389\n",
      "Epoch 61/100\n",
      "5/5 [==============================] - 0s 7ms/step - loss: 0.2792 - mae: 0.2792\n",
      "Epoch 62/100\n",
      "5/5 [==============================] - 0s 9ms/step - loss: 0.7234 - mae: 0.7234\n",
      "Epoch 63/100\n",
      "5/5 [==============================] - 0s 7ms/step - loss: 0.6719 - mae: 0.6719\n",
      "Epoch 64/100\n",
      "5/5 [==============================] - 0s 8ms/step - loss: 0.1909 - mae: 0.1909\n",
      "Epoch 65/100\n",
      "5/5 [==============================] - 0s 8ms/step - loss: 0.4305 - mae: 0.4305\n",
      "Epoch 66/100\n",
      "5/5 [==============================] - 0s 7ms/step - loss: 0.7156 - mae: 0.7156\n",
      "Epoch 67/100\n",
      "5/5 [==============================] - 0s 9ms/step - loss: 0.6433 - mae: 0.6433\n",
      "Epoch 68/100\n",
      "5/5 [==============================] - 0s 7ms/step - loss: 0.6346 - mae: 0.6346\n",
      "Epoch 69/100\n",
      "5/5 [==============================] - 0s 8ms/step - loss: 0.5881 - mae: 0.5881\n",
      "Epoch 70/100\n",
      "5/5 [==============================] - 0s 8ms/step - loss: 0.8035 - mae: 0.8035\n",
      "Epoch 71/100\n",
      "5/5 [==============================] - 0s 9ms/step - loss: 1.0871 - mae: 1.0871\n",
      "Epoch 72/100\n",
      "5/5 [==============================] - 0s 10ms/step - loss: 1.0904 - mae: 1.0904\n",
      "Epoch 73/100\n",
      "5/5 [==============================] - 0s 9ms/step - loss: 0.9730 - mae: 0.9730\n",
      "Epoch 74/100\n",
      "5/5 [==============================] - 0s 8ms/step - loss: 1.1715 - mae: 1.1715\n",
      "Epoch 75/100\n",
      "5/5 [==============================] - 0s 7ms/step - loss: 0.8380 - mae: 0.8380\n",
      "Epoch 76/100\n",
      "5/5 [==============================] - 0s 9ms/step - loss: 1.2085 - mae: 1.2085\n",
      "Epoch 77/100\n",
      "5/5 [==============================] - 0s 8ms/step - loss: 0.9081 - mae: 0.9081\n",
      "Epoch 78/100\n",
      "5/5 [==============================] - 0s 9ms/step - loss: 0.8855 - mae: 0.8855\n",
      "Epoch 79/100\n",
      "5/5 [==============================] - 0s 7ms/step - loss: 0.2600 - mae: 0.2600\n",
      "Epoch 80/100\n",
      "5/5 [==============================] - 0s 8ms/step - loss: 0.5630 - mae: 0.5630\n",
      "Epoch 81/100\n",
      "5/5 [==============================] - 0s 9ms/step - loss: 0.4029 - mae: 0.4029\n",
      "Epoch 82/100\n",
      "5/5 [==============================] - 0s 8ms/step - loss: 0.7561 - mae: 0.7561\n",
      "Epoch 83/100\n",
      "5/5 [==============================] - 0s 9ms/step - loss: 1.6237 - mae: 1.6237\n",
      "Epoch 84/100\n",
      "5/5 [==============================] - 0s 9ms/step - loss: 2.1447 - mae: 2.1447\n",
      "Epoch 85/100\n",
      "5/5 [==============================] - 0s 7ms/step - loss: 0.8209 - mae: 0.8209\n",
      "Epoch 86/100\n",
      "5/5 [==============================] - 0s 9ms/step - loss: 0.5699 - mae: 0.5699\n",
      "Epoch 87/100\n",
      "5/5 [==============================] - 0s 8ms/step - loss: 0.8707 - mae: 0.8707\n",
      "Epoch 88/100\n",
      "5/5 [==============================] - 0s 8ms/step - loss: 1.2109 - mae: 1.2109\n",
      "Epoch 89/100\n",
      "5/5 [==============================] - 0s 9ms/step - loss: 1.2736 - mae: 1.2736\n",
      "Epoch 90/100\n",
      "5/5 [==============================] - 0s 8ms/step - loss: 1.5156 - mae: 1.5156\n",
      "Epoch 91/100\n",
      "5/5 [==============================] - 0s 9ms/step - loss: 1.6176 - mae: 1.6176\n",
      "Epoch 92/100\n",
      "5/5 [==============================] - 0s 16ms/step - loss: 1.2496 - mae: 1.2496\n",
      "Epoch 93/100\n",
      "5/5 [==============================] - 0s 15ms/step - loss: 0.8390 - mae: 0.8390\n",
      "Epoch 94/100\n",
      "5/5 [==============================] - 0s 9ms/step - loss: 1.0473 - mae: 1.0473\n",
      "Epoch 95/100\n",
      "5/5 [==============================] - 0s 8ms/step - loss: 1.0962 - mae: 1.0962\n",
      "Epoch 96/100\n",
      "5/5 [==============================] - 0s 8ms/step - loss: 1.0647 - mae: 1.0647\n",
      "Epoch 97/100\n",
      "5/5 [==============================] - 0s 8ms/step - loss: 0.6378 - mae: 0.6378\n",
      "Epoch 98/100\n",
      "5/5 [==============================] - 0s 8ms/step - loss: 1.3770 - mae: 1.3770\n",
      "Epoch 99/100\n",
      "5/5 [==============================] - 0s 8ms/step - loss: 0.9708 - mae: 0.9708\n",
      "Epoch 100/100\n",
      "5/5 [==============================] - 0s 7ms/step - loss: 0.8441 - mae: 0.8441\n"
     ]
    },
    {
     "data": {
      "text/plain": [
       "<keras.callbacks.History at 0x16a1a097d30>"
      ]
     },
     "execution_count": 30,
     "metadata": {},
     "output_type": "execute_result"
    }
   ],
   "source": [
    "# Setup a random seed\n",
    "tf.random.set_seed(42)\n",
    "\n",
    "# 1. Create the model\n",
    "model_3 = tf.keras.Sequential(\n",
    "    [\n",
    "        tf.keras.layers.Dense(100, name = \"hidden_layer_1\"),\n",
    "        tf.keras.layers.Dense(10, name = \"hidden_layer_2\"),\n",
    "        tf.keras.layers.Dense(1, name = \"output_layer\")\n",
    "    ], name =\"model_3_regression\"\n",
    ")\n",
    "\n",
    "# 2. compile the model\n",
    "model_3.compile(\n",
    "    loss = tf.keras.losses.mae,\n",
    "    optimizer = tf.keras.optimizers.Adam(learning_rate = 3e-4),\n",
    "    metrics = [\"mae\"]\n",
    ")\n",
    "\n",
    "# 3. Fit the model\n",
    "model_3.fit(X_reg_train, y_reg_train, epochs = 100)"
   ]
  },
  {
   "cell_type": "code",
   "execution_count": 32,
   "metadata": {},
   "outputs": [
    {
     "name": "stdout",
     "output_type": "stream",
     "text": [
      "2/2 [==============================] - 0s 4ms/step\n"
     ]
    },
    {
     "data": {
      "text/plain": [
       "<matplotlib.legend.Legend at 0x16a1d6c5cc0>"
      ]
     },
     "execution_count": 32,
     "metadata": {},
     "output_type": "execute_result"
    },
    {
     "data": {
      "image/png": "[encoded data removed]",
      "text/plain": [
       "<Figure size 720x504 with 1 Axes>"
      ]
     },
     "metadata": {
      "needs_background": "light"
     },
     "output_type": "display_data"
    }
   ],
   "source": [
    "# Make predictions with our trained model\n",
    "y_reg_preds = model_3.predict(X_reg_test)\n",
    "\n",
    "# Plot the model's predictions against our regression data\n",
    "plt.figure(figsize = (10, 7))\n",
    "plt.scatter(X_reg_train, y_reg_train, c = \"b\", label = \"Training Data\")\n",
    "plt.scatter(X_reg_test, y_reg_test, c = \"g\", label = \"Test Data\")\n",
    "plt.scatter(X_reg_test, y_reg_preds, c = \"r\", label = \"Test Predictions\")\n",
    "plt.legend()"
   ]
  },
  {
   "cell_type": "markdown",
   "metadata": {},
   "source": [
    "## The missing piece: Non-linearity"
   ]
  },
  {
   "cell_type": "code",
   "execution_count": 34,
   "metadata": {},
   "outputs": [
    {
     "name": "stdout",
     "output_type": "stream",
     "text": [
      "Epoch 1/100\n",
      "32/32 [==============================] - 1s 14ms/step - loss: 4.3426 - accuracy: 0.4810\n",
      "Epoch 2/100\n",
      "32/32 [==============================] - 0s 7ms/step - loss: 4.3143 - accuracy: 0.4750\n",
      "Epoch 3/100\n",
      "32/32 [==============================] - 0s 7ms/step - loss: 4.2939 - accuracy: 0.4670\n",
      "Epoch 4/100\n",
      "32/32 [==============================] - 0s 7ms/step - loss: 4.2869 - accuracy: 0.4600\n",
      "Epoch 5/100\n",
      "32/32 [==============================] - 0s 7ms/step - loss: 4.2720 - accuracy: 0.4560\n",
      "Epoch 6/100\n",
      "32/32 [==============================] - 0s 8ms/step - loss: 4.2562 - accuracy: 0.4460\n",
      "Epoch 7/100\n",
      "32/32 [==============================] - 0s 7ms/step - loss: 4.2228 - accuracy: 0.4370\n",
      "Epoch 8/100\n",
      "32/32 [==============================] - 0s 7ms/step - loss: 4.2122 - accuracy: 0.4370\n",
      "Epoch 9/100\n",
      "32/32 [==============================] - 0s 8ms/step - loss: 4.2117 - accuracy: 0.4370\n",
      "Epoch 10/100\n",
      "32/32 [==============================] - 0s 8ms/step - loss: 4.2114 - accuracy: 0.4370\n",
      "Epoch 11/100\n",
      "32/32 [==============================] - 0s 7ms/step - loss: 4.2111 - accuracy: 0.4370\n",
      "Epoch 12/100\n",
      "32/32 [==============================] - 0s 8ms/step - loss: 4.2108 - accuracy: 0.4370\n",
      "Epoch 13/100\n",
      "32/32 [==============================] - 0s 8ms/step - loss: 4.2104 - accuracy: 0.4360\n",
      "Epoch 14/100\n",
      "32/32 [==============================] - 0s 7ms/step - loss: 4.2101 - accuracy: 0.4360\n",
      "Epoch 15/100\n",
      "32/32 [==============================] - 0s 8ms/step - loss: 4.2097 - accuracy: 0.4360\n",
      "Epoch 16/100\n",
      "32/32 [==============================] - 0s 7ms/step - loss: 4.2094 - accuracy: 0.4360\n",
      "Epoch 17/100\n",
      "32/32 [==============================] - 0s 10ms/step - loss: 4.2090 - accuracy: 0.4350\n",
      "Epoch 18/100\n",
      "32/32 [==============================] - 0s 8ms/step - loss: 4.2087 - accuracy: 0.4340\n",
      "Epoch 19/100\n",
      "32/32 [==============================] - 0s 8ms/step - loss: 4.2083 - accuracy: 0.4340\n",
      "Epoch 20/100\n",
      "32/32 [==============================] - 0s 8ms/step - loss: 4.2005 - accuracy: 0.4320\n",
      "Epoch 21/100\n",
      "32/32 [==============================] - 0s 8ms/step - loss: 4.1952 - accuracy: 0.4310\n",
      "Epoch 22/100\n",
      "32/32 [==============================] - 0s 8ms/step - loss: 4.1947 - accuracy: 0.4300\n",
      "Epoch 23/100\n",
      "32/32 [==============================] - 0s 8ms/step - loss: 4.1778 - accuracy: 0.4290\n",
      "Epoch 24/100\n",
      "32/32 [==============================] - 0s 8ms/step - loss: 4.1722 - accuracy: 0.4280\n",
      "Epoch 25/100\n",
      "32/32 [==============================] - 0s 12ms/step - loss: 4.1712 - accuracy: 0.4280\n",
      "Epoch 26/100\n",
      "32/32 [==============================] - 0s 8ms/step - loss: 4.1704 - accuracy: 0.4270\n",
      "Epoch 27/100\n",
      "32/32 [==============================] - 0s 8ms/step - loss: 4.1696 - accuracy: 0.4260\n",
      "Epoch 28/100\n",
      "32/32 [==============================] - 0s 8ms/step - loss: 4.1690 - accuracy: 0.4250\n",
      "Epoch 29/100\n",
      "32/32 [==============================] - 0s 8ms/step - loss: 4.1627 - accuracy: 0.4240\n",
      "Epoch 30/100\n",
      "32/32 [==============================] - 0s 8ms/step - loss: 4.1028 - accuracy: 0.4220\n",
      "Epoch 31/100\n",
      "32/32 [==============================] - 0s 8ms/step - loss: 4.0927 - accuracy: 0.4230\n",
      "Epoch 32/100\n",
      "32/32 [==============================] - 0s 7ms/step - loss: 4.0899 - accuracy: 0.4220\n",
      "Epoch 33/100\n",
      "32/32 [==============================] - 0s 10ms/step - loss: 4.0890 - accuracy: 0.4220\n",
      "Epoch 34/100\n",
      "32/32 [==============================] - 0s 8ms/step - loss: 4.0883 - accuracy: 0.4220\n",
      "Epoch 35/100\n",
      "32/32 [==============================] - 0s 8ms/step - loss: 4.0876 - accuracy: 0.4220\n",
      "Epoch 36/100\n",
      "32/32 [==============================] - 0s 8ms/step - loss: 4.0869 - accuracy: 0.4220\n",
      "Epoch 37/100\n",
      "32/32 [==============================] - 0s 8ms/step - loss: 4.0863 - accuracy: 0.4210\n",
      "Epoch 38/100\n",
      "32/32 [==============================] - 0s 7ms/step - loss: 4.0858 - accuracy: 0.4210\n",
      "Epoch 39/100\n",
      "32/32 [==============================] - 0s 8ms/step - loss: 4.0853 - accuracy: 0.4210\n",
      "Epoch 40/100\n",
      "32/32 [==============================] - 0s 11ms/step - loss: 4.0848 - accuracy: 0.4210\n",
      "Epoch 41/100\n",
      "32/32 [==============================] - 0s 8ms/step - loss: 4.0843 - accuracy: 0.4210\n",
      "Epoch 42/100\n",
      "32/32 [==============================] - 0s 8ms/step - loss: 4.0772 - accuracy: 0.4210\n",
      "Epoch 43/100\n",
      "32/32 [==============================] - 0s 8ms/step - loss: 4.0649 - accuracy: 0.4200\n",
      "Epoch 44/100\n",
      "32/32 [==============================] - 0s 8ms/step - loss: 4.0631 - accuracy: 0.4200\n",
      "Epoch 45/100\n",
      "32/32 [==============================] - 0s 8ms/step - loss: 4.0544 - accuracy: 0.4200\n",
      "Epoch 46/100\n",
      "32/32 [==============================] - 0s 8ms/step - loss: 4.0512 - accuracy: 0.4200\n",
      "Epoch 47/100\n",
      "32/32 [==============================] - 0s 10ms/step - loss: 4.0502 - accuracy: 0.4200\n",
      "Epoch 48/100\n",
      "32/32 [==============================] - 0s 8ms/step - loss: 4.0493 - accuracy: 0.4200\n",
      "Epoch 49/100\n",
      "32/32 [==============================] - 0s 8ms/step - loss: 4.0486 - accuracy: 0.4200\n",
      "Epoch 50/100\n",
      "32/32 [==============================] - 0s 8ms/step - loss: 4.0479 - accuracy: 0.4210\n",
      "Epoch 51/100\n",
      "32/32 [==============================] - 0s 9ms/step - loss: 4.0472 - accuracy: 0.4210\n",
      "Epoch 52/100\n",
      "32/32 [==============================] - 0s 8ms/step - loss: 4.0465 - accuracy: 0.4210\n",
      "Epoch 53/100\n",
      "32/32 [==============================] - 0s 7ms/step - loss: 4.0459 - accuracy: 0.4210\n",
      "Epoch 54/100\n",
      "32/32 [==============================] - 0s 8ms/step - loss: 4.0378 - accuracy: 0.4210\n",
      "Epoch 55/100\n",
      "32/32 [==============================] - 0s 11ms/step - loss: 4.0259 - accuracy: 0.4210\n",
      "Epoch 56/100\n",
      "32/32 [==============================] - 0s 8ms/step - loss: 4.0241 - accuracy: 0.4210\n",
      "Epoch 57/100\n",
      "32/32 [==============================] - 0s 8ms/step - loss: 4.0231 - accuracy: 0.4210\n",
      "Epoch 58/100\n",
      "32/32 [==============================] - 0s 8ms/step - loss: 4.0220 - accuracy: 0.4210\n",
      "Epoch 59/100\n",
      "32/32 [==============================] - 0s 8ms/step - loss: 4.0212 - accuracy: 0.4210\n",
      "Epoch 60/100\n",
      "32/32 [==============================] - 0s 9ms/step - loss: 4.0204 - accuracy: 0.4210\n",
      "Epoch 61/100\n",
      "32/32 [==============================] - 0s 8ms/step - loss: 4.0143 - accuracy: 0.4210\n",
      "Epoch 62/100\n",
      "32/32 [==============================] - 0s 11ms/step - loss: 4.0053 - accuracy: 0.4200\n",
      "Epoch 63/100\n",
      "32/32 [==============================] - 0s 10ms/step - loss: 4.0037 - accuracy: 0.4200\n",
      "Epoch 64/100\n",
      "32/32 [==============================] - 0s 8ms/step - loss: 4.0031 - accuracy: 0.4200\n",
      "Epoch 65/100\n",
      "32/32 [==============================] - 0s 8ms/step - loss: 4.0025 - accuracy: 0.4200\n",
      "Epoch 66/100\n",
      "32/32 [==============================] - 0s 8ms/step - loss: 4.0020 - accuracy: 0.4200\n",
      "Epoch 67/100\n",
      "32/32 [==============================] - 0s 7ms/step - loss: 4.0015 - accuracy: 0.4200\n",
      "Epoch 68/100\n",
      "32/32 [==============================] - 0s 8ms/step - loss: 4.0009 - accuracy: 0.4190\n",
      "Epoch 69/100\n",
      "32/32 [==============================] - 0s 7ms/step - loss: 4.0004 - accuracy: 0.4190\n",
      "Epoch 70/100\n",
      "32/32 [==============================] - 0s 10ms/step - loss: 3.9999 - accuracy: 0.4180\n",
      "Epoch 71/100\n",
      "32/32 [==============================] - 0s 10ms/step - loss: 3.9994 - accuracy: 0.4180\n",
      "Epoch 72/100\n",
      "32/32 [==============================] - 0s 9ms/step - loss: 3.9917 - accuracy: 0.4180\n",
      "Epoch 73/100\n",
      "32/32 [==============================] - 0s 7ms/step - loss: 3.9885 - accuracy: 0.4180\n",
      "Epoch 74/100\n",
      "32/32 [==============================] - 0s 8ms/step - loss: 3.9876 - accuracy: 0.4180\n",
      "Epoch 75/100\n",
      "32/32 [==============================] - 0s 8ms/step - loss: 3.9868 - accuracy: 0.4180\n",
      "Epoch 76/100\n",
      "32/32 [==============================] - 0s 7ms/step - loss: 3.9861 - accuracy: 0.4170\n",
      "Epoch 77/100\n",
      "32/32 [==============================] - 0s 8ms/step - loss: 3.9781 - accuracy: 0.4170\n",
      "Epoch 78/100\n",
      "32/32 [==============================] - 0s 11ms/step - loss: 3.9744 - accuracy: 0.4170\n",
      "Epoch 79/100\n",
      "32/32 [==============================] - 0s 8ms/step - loss: 3.9733 - accuracy: 0.4160\n",
      "Epoch 80/100\n",
      "32/32 [==============================] - 0s 8ms/step - loss: 3.9724 - accuracy: 0.4150\n",
      "Epoch 81/100\n",
      "32/32 [==============================] - 0s 8ms/step - loss: 3.9718 - accuracy: 0.4150\n",
      "Epoch 82/100\n",
      "32/32 [==============================] - 0s 8ms/step - loss: 3.9710 - accuracy: 0.4150\n",
      "Epoch 83/100\n",
      "32/32 [==============================] - 0s 8ms/step - loss: 3.9704 - accuracy: 0.4150\n",
      "Epoch 84/100\n",
      "32/32 [==============================] - 0s 8ms/step - loss: 3.9698 - accuracy: 0.4150\n",
      "Epoch 85/100\n",
      "32/32 [==============================] - 0s 10ms/step - loss: 3.9692 - accuracy: 0.4150\n",
      "Epoch 86/100\n",
      "32/32 [==============================] - 0s 11ms/step - loss: 3.9687 - accuracy: 0.4150\n",
      "Epoch 87/100\n",
      "32/32 [==============================] - 0s 8ms/step - loss: 3.9681 - accuracy: 0.4150\n",
      "Epoch 88/100\n",
      "32/32 [==============================] - 0s 7ms/step - loss: 3.9677 - accuracy: 0.4150\n",
      "Epoch 89/100\n",
      "32/32 [==============================] - 0s 8ms/step - loss: 3.9671 - accuracy: 0.4150\n",
      "Epoch 90/100\n",
      "32/32 [==============================] - 0s 8ms/step - loss: 3.9666 - accuracy: 0.4150\n",
      "Epoch 91/100\n",
      "32/32 [==============================] - 0s 7ms/step - loss: 3.9661 - accuracy: 0.4140\n",
      "Epoch 92/100\n",
      "32/32 [==============================] - 0s 10ms/step - loss: 3.9656 - accuracy: 0.4140\n",
      "Epoch 93/100\n",
      "32/32 [==============================] - 0s 10ms/step - loss: 3.9651 - accuracy: 0.4140\n",
      "Epoch 94/100\n",
      "32/32 [==============================] - 0s 8ms/step - loss: 3.9647 - accuracy: 0.4140\n",
      "Epoch 95/100\n",
      "32/32 [==============================] - 0s 9ms/step - loss: 3.9641 - accuracy: 0.4140\n",
      "Epoch 96/100\n",
      "32/32 [==============================] - 0s 10ms/step - loss: 3.9637 - accuracy: 0.4130\n",
      "Epoch 97/100\n",
      "32/32 [==============================] - 0s 10ms/step - loss: 3.9632 - accuracy: 0.4130\n",
      "Epoch 98/100\n",
      "32/32 [==============================] - 0s 8ms/step - loss: 3.9628 - accuracy: 0.4130\n",
      "Epoch 99/100\n",
      "32/32 [==============================] - 0s 8ms/step - loss: 3.9623 - accuracy: 0.4130\n",
      "Epoch 100/100\n",
      "32/32 [==============================] - 0s 10ms/step - loss: 3.9618 - accuracy: 0.4140\n"
     ]
    },
    {
     "data": {
      "text/plain": [
       "<keras.callbacks.History at 0x16a1d7d5720>"
      ]
     },
     "execution_count": 34,
     "metadata": {},
     "output_type": "execute_result"
    }
   ],
   "source": [
    "# Set the random seed\n",
    "tf.random.set_seed(42)\n",
    "\n",
    "# 1. Create the model\n",
    "model_5 = tf.keras.Sequential(\n",
    "    [\n",
    "        tf.keras.layers.Dense(1, activation = tf.keras.activations.relu, name = \"output_layer\") \n",
    "    ], name = \"model_5\"\n",
    ")\n",
    "\n",
    "# 2. Compile the model\n",
    "model_5.compile(\n",
    "    loss = tf.keras.losses.BinaryCrossentropy(),\n",
    "    optimizer = tf.keras.optimizers.Adam(learning_rate = 3e-4),\n",
    "    metrics = [\"accuracy\"]\n",
    ")\n",
    "\n",
    "# 3. Fit the model\n",
    "model_5.fit(X, y, epochs = 100)"
   ]
  },
  {
   "cell_type": "code",
   "execution_count": 36,
   "metadata": {},
   "outputs": [
    {
     "name": "stdout",
     "output_type": "stream",
     "text": [
      "Epoch 1/100\n",
      "32/32 [==============================] - 1s 19ms/step - loss: 7.7125 - accuracy: 0.5000\n",
      "Epoch 2/100\n",
      "32/32 [==============================] - 0s 12ms/step - loss: 7.7125 - accuracy: 0.5000\n",
      "Epoch 3/100\n",
      "32/32 [==============================] - 0s 10ms/step - loss: 7.7125 - accuracy: 0.5000\n",
      "Epoch 4/100\n",
      "32/32 [==============================] - 0s 10ms/step - loss: 7.7125 - accuracy: 0.5000\n",
      "Epoch 5/100\n",
      "32/32 [==============================] - 0s 9ms/step - loss: 7.7125 - accuracy: 0.5000\n",
      "Epoch 6/100\n",
      "32/32 [==============================] - 0s 9ms/step - loss: 7.7125 - accuracy: 0.5000\n",
      "Epoch 7/100\n",
      "32/32 [==============================] - 0s 10ms/step - loss: 7.7125 - accuracy: 0.5000\n",
      "Epoch 8/100\n",
      "32/32 [==============================] - 0s 12ms/step - loss: 7.7125 - accuracy: 0.5000\n",
      "Epoch 9/100\n",
      "32/32 [==============================] - 0s 10ms/step - loss: 7.7125 - accuracy: 0.5000\n",
      "Epoch 10/100\n",
      "32/32 [==============================] - 0s 9ms/step - loss: 7.7125 - accuracy: 0.5000\n",
      "Epoch 11/100\n",
      "32/32 [==============================] - 0s 9ms/step - loss: 7.7125 - accuracy: 0.5000\n",
      "Epoch 12/100\n",
      "32/32 [==============================] - 0s 10ms/step - loss: 7.7125 - accuracy: 0.5000\n",
      "Epoch 13/100\n",
      "32/32 [==============================] - 0s 9ms/step - loss: 7.7125 - accuracy: 0.5000\n",
      "Epoch 14/100\n",
      "32/32 [==============================] - 0s 11ms/step - loss: 7.7125 - accuracy: 0.5000\n",
      "Epoch 15/100\n",
      "32/32 [==============================] - 0s 12ms/step - loss: 7.7125 - accuracy: 0.5000\n",
      "Epoch 16/100\n",
      "32/32 [==============================] - 0s 10ms/step - loss: 7.7125 - accuracy: 0.5000\n",
      "Epoch 17/100\n",
      "32/32 [==============================] - 0s 9ms/step - loss: 7.7125 - accuracy: 0.5000\n",
      "Epoch 18/100\n",
      "32/32 [==============================] - 0s 10ms/step - loss: 7.7125 - accuracy: 0.5000\n",
      "Epoch 19/100\n",
      "32/32 [==============================] - 0s 9ms/step - loss: 7.7125 - accuracy: 0.5000\n",
      "Epoch 20/100\n",
      "32/32 [==============================] - 0s 10ms/step - loss: 7.7125 - accuracy: 0.5000\n",
      "Epoch 21/100\n",
      "32/32 [==============================] - 0s 11ms/step - loss: 7.7125 - accuracy: 0.5000\n",
      "Epoch 22/100\n",
      "32/32 [==============================] - 0s 9ms/step - loss: 7.7125 - accuracy: 0.5000\n",
      "Epoch 23/100\n",
      "32/32 [==============================] - 0s 9ms/step - loss: 7.7125 - accuracy: 0.5000\n",
      "Epoch 24/100\n",
      "32/32 [==============================] - 0s 10ms/step - loss: 7.7125 - accuracy: 0.5000\n",
      "Epoch 25/100\n",
      "32/32 [==============================] - 0s 9ms/step - loss: 7.7125 - accuracy: 0.5000\n",
      "Epoch 26/100\n",
      "32/32 [==============================] - 0s 9ms/step - loss: 7.7125 - accuracy: 0.5000\n",
      "Epoch 27/100\n",
      "32/32 [==============================] - 0s 12ms/step - loss: 7.7125 - accuracy: 0.5000\n",
      "Epoch 28/100\n",
      "32/32 [==============================] - 0s 9ms/step - loss: 7.7125 - accuracy: 0.5000\n",
      "Epoch 29/100\n",
      "32/32 [==============================] - 0s 9ms/step - loss: 7.7125 - accuracy: 0.5000\n",
      "Epoch 30/100\n",
      "32/32 [==============================] - 0s 9ms/step - loss: 7.7125 - accuracy: 0.5000\n",
      "Epoch 31/100\n",
      "32/32 [==============================] - 0s 9ms/step - loss: 7.7125 - accuracy: 0.5000\n",
      "Epoch 32/100\n",
      "32/32 [==============================] - 0s 9ms/step - loss: 7.7125 - accuracy: 0.5000\n",
      "Epoch 33/100\n",
      "32/32 [==============================] - 0s 10ms/step - loss: 7.7125 - accuracy: 0.5000\n",
      "Epoch 34/100\n",
      "32/32 [==============================] - 0s 10ms/step - loss: 7.7125 - accuracy: 0.5000\n",
      "Epoch 35/100\n",
      "32/32 [==============================] - 0s 9ms/step - loss: 7.7125 - accuracy: 0.5000\n",
      "Epoch 36/100\n",
      "32/32 [==============================] - 0s 9ms/step - loss: 7.7125 - accuracy: 0.5000\n",
      "Epoch 37/100\n",
      "32/32 [==============================] - 0s 11ms/step - loss: 7.7125 - accuracy: 0.5000\n",
      "Epoch 38/100\n",
      "32/32 [==============================] - 0s 11ms/step - loss: 7.7125 - accuracy: 0.5000\n",
      "Epoch 39/100\n",
      "32/32 [==============================] - 0s 12ms/step - loss: 7.7125 - accuracy: 0.5000\n",
      "Epoch 40/100\n",
      "32/32 [==============================] - 0s 11ms/step - loss: 7.7125 - accuracy: 0.5000\n",
      "Epoch 41/100\n",
      "32/32 [==============================] - 0s 11ms/step - loss: 7.7125 - accuracy: 0.5000\n",
      "Epoch 42/100\n",
      "32/32 [==============================] - 0s 15ms/step - loss: 7.7125 - accuracy: 0.5000\n",
      "Epoch 43/100\n",
      "32/32 [==============================] - 0s 11ms/step - loss: 7.7125 - accuracy: 0.5000\n",
      "Epoch 44/100\n",
      "32/32 [==============================] - 0s 11ms/step - loss: 7.7125 - accuracy: 0.5000\n",
      "Epoch 45/100\n",
      "32/32 [==============================] - 0s 12ms/step - loss: 7.7125 - accuracy: 0.5000\n",
      "Epoch 46/100\n",
      "32/32 [==============================] - 0s 11ms/step - loss: 7.7125 - accuracy: 0.5000\n",
      "Epoch 47/100\n",
      "32/32 [==============================] - 0s 12ms/step - loss: 7.7125 - accuracy: 0.5000\n",
      "Epoch 48/100\n",
      "32/32 [==============================] - 0s 12ms/step - loss: 7.7125 - accuracy: 0.5000\n",
      "Epoch 49/100\n",
      "32/32 [==============================] - 0s 14ms/step - loss: 7.7125 - accuracy: 0.5000\n",
      "Epoch 50/100\n",
      "32/32 [==============================] - 0s 11ms/step - loss: 7.7125 - accuracy: 0.5000\n",
      "Epoch 51/100\n",
      "32/32 [==============================] - 0s 11ms/step - loss: 7.7125 - accuracy: 0.5000\n",
      "Epoch 52/100\n",
      "32/32 [==============================] - 0s 11ms/step - loss: 7.7125 - accuracy: 0.5000\n",
      "Epoch 53/100\n",
      "32/32 [==============================] - 0s 10ms/step - loss: 7.7125 - accuracy: 0.5000\n",
      "Epoch 54/100\n",
      "32/32 [==============================] - 0s 11ms/step - loss: 7.7125 - accuracy: 0.5000\n",
      "Epoch 55/100\n",
      "32/32 [==============================] - 0s 12ms/step - loss: 7.7125 - accuracy: 0.5000\n",
      "Epoch 56/100\n",
      "32/32 [==============================] - 0s 11ms/step - loss: 7.7125 - accuracy: 0.5000\n",
      "Epoch 57/100\n",
      "32/32 [==============================] - 0s 10ms/step - loss: 7.7125 - accuracy: 0.5000\n",
      "Epoch 58/100\n",
      "32/32 [==============================] - 0s 10ms/step - loss: 7.7125 - accuracy: 0.5000\n",
      "Epoch 59/100\n",
      "32/32 [==============================] - 0s 10ms/step - loss: 7.7125 - accuracy: 0.5000\n",
      "Epoch 60/100\n",
      "32/32 [==============================] - 0s 10ms/step - loss: 7.7125 - accuracy: 0.5000\n",
      "Epoch 61/100\n",
      "32/32 [==============================] - 0s 14ms/step - loss: 7.7125 - accuracy: 0.5000\n",
      "Epoch 62/100\n",
      "32/32 [==============================] - 0s 13ms/step - loss: 7.7125 - accuracy: 0.5000\n",
      "Epoch 63/100\n",
      "32/32 [==============================] - 0s 11ms/step - loss: 7.7125 - accuracy: 0.5000\n",
      "Epoch 64/100\n",
      "32/32 [==============================] - 0s 9ms/step - loss: 7.7125 - accuracy: 0.5000\n",
      "Epoch 65/100\n",
      "32/32 [==============================] - 0s 9ms/step - loss: 7.7125 - accuracy: 0.5000\n",
      "Epoch 66/100\n",
      "32/32 [==============================] - 0s 9ms/step - loss: 7.7125 - accuracy: 0.5000\n",
      "Epoch 67/100\n",
      "32/32 [==============================] - 0s 12ms/step - loss: 7.7125 - accuracy: 0.5000\n",
      "Epoch 68/100\n",
      "32/32 [==============================] - 0s 11ms/step - loss: 7.7125 - accuracy: 0.5000\n",
      "Epoch 69/100\n",
      "32/32 [==============================] - 0s 9ms/step - loss: 7.7125 - accuracy: 0.5000\n",
      "Epoch 70/100\n",
      "32/32 [==============================] - 0s 10ms/step - loss: 7.7125 - accuracy: 0.5000\n",
      "Epoch 71/100\n",
      "32/32 [==============================] - 0s 11ms/step - loss: 7.7125 - accuracy: 0.5000\n",
      "Epoch 72/100\n",
      "32/32 [==============================] - 0s 12ms/step - loss: 7.7125 - accuracy: 0.5000\n",
      "Epoch 73/100\n",
      "32/32 [==============================] - 0s 14ms/step - loss: 7.7125 - accuracy: 0.5000\n",
      "Epoch 74/100\n",
      "32/32 [==============================] - 0s 11ms/step - loss: 7.7125 - accuracy: 0.5000\n",
      "Epoch 75/100\n",
      "32/32 [==============================] - 0s 11ms/step - loss: 7.7125 - accuracy: 0.5000\n",
      "Epoch 76/100\n",
      "32/32 [==============================] - 0s 13ms/step - loss: 7.7125 - accuracy: 0.5000\n",
      "Epoch 77/100\n",
      "32/32 [==============================] - 0s 14ms/step - loss: 7.7125 - accuracy: 0.5000\n",
      "Epoch 78/100\n",
      "32/32 [==============================] - 0s 12ms/step - loss: 7.7125 - accuracy: 0.5000\n",
      "Epoch 79/100\n",
      "32/32 [==============================] - 0s 14ms/step - loss: 7.7125 - accuracy: 0.5000\n",
      "Epoch 80/100\n",
      "32/32 [==============================] - 0s 12ms/step - loss: 7.7125 - accuracy: 0.5000\n",
      "Epoch 81/100\n",
      "32/32 [==============================] - 0s 11ms/step - loss: 7.7125 - accuracy: 0.5000\n",
      "Epoch 82/100\n",
      "32/32 [==============================] - 0s 11ms/step - loss: 7.7125 - accuracy: 0.5000\n",
      "Epoch 83/100\n",
      "32/32 [==============================] - 0s 13ms/step - loss: 7.7125 - accuracy: 0.5000\n",
      "Epoch 84/100\n",
      "32/32 [==============================] - 0s 12ms/step - loss: 7.7125 - accuracy: 0.5000\n",
      "Epoch 85/100\n",
      "32/32 [==============================] - 0s 10ms/step - loss: 7.7125 - accuracy: 0.5000\n",
      "Epoch 86/100\n",
      "32/32 [==============================] - 0s 11ms/step - loss: 7.7125 - accuracy: 0.5000\n",
      "Epoch 87/100\n",
      "32/32 [==============================] - 0s 10ms/step - loss: 7.7125 - accuracy: 0.5000\n",
      "Epoch 88/100\n",
      "32/32 [==============================] - 0s 12ms/step - loss: 7.7125 - accuracy: 0.5000\n",
      "Epoch 89/100\n",
      "32/32 [==============================] - 0s 14ms/step - loss: 7.7125 - accuracy: 0.5000\n",
      "Epoch 90/100\n",
      "32/32 [==============================] - 0s 11ms/step - loss: 7.7125 - accuracy: 0.5000\n",
      "Epoch 91/100\n",
      "32/32 [==============================] - 0s 11ms/step - loss: 7.7125 - accuracy: 0.5000\n",
      "Epoch 92/100\n",
      "32/32 [==============================] - 0s 11ms/step - loss: 7.7125 - accuracy: 0.5000\n",
      "Epoch 93/100\n",
      "32/32 [==============================] - 0s 11ms/step - loss: 7.7125 - accuracy: 0.5000\n",
      "Epoch 94/100\n",
      "32/32 [==============================] - 0s 11ms/step - loss: 7.7125 - accuracy: 0.5000\n",
      "Epoch 95/100\n",
      "32/32 [==============================] - 0s 13ms/step - loss: 7.7125 - accuracy: 0.5000\n",
      "Epoch 96/100\n",
      "32/32 [==============================] - 0s 11ms/step - loss: 7.7125 - accuracy: 0.5000\n",
      "Epoch 97/100\n",
      "32/32 [==============================] - 0s 10ms/step - loss: 7.7125 - accuracy: 0.5000\n",
      "Epoch 98/100\n",
      "32/32 [==============================] - 0s 10ms/step - loss: 7.7125 - accuracy: 0.5000\n",
      "Epoch 99/100\n",
      "32/32 [==============================] - 0s 9ms/step - loss: 7.7125 - accuracy: 0.5000\n",
      "Epoch 100/100\n",
      "32/32 [==============================] - 0s 12ms/step - loss: 7.7125 - accuracy: 0.5000\n"
     ]
    }
   ],
   "source": [
    "# Time to replicate the multi-layer network from Tensorflow playground!\n",
    "# Set the random seed\n",
    "tf.random.set_seed(42)\n",
    "\n",
    "# 1. Create the model\n",
    "model_6 = tf.keras.Sequential(\n",
    "    [\n",
    "        tf.keras.layers.Dense(4, activation = \"relu\", input_shape = (2,), name = \"hidden_layer_1\"),\n",
    "        tf.keras.layers.Dense(4, activation = \"relu\", name = \"hidden_layer_2\"), \n",
    "        tf.keras.layers.Dense(1, name = \"output_layer\") \n",
    "    ], name = \"model_6\"\n",
    ")\n",
    "\n",
    "# 2. Compile the model\n",
    "model_6.compile(\n",
    "    loss = tf.keras.losses.BinaryCrossentropy(),\n",
    "    optimizer = tf.keras.optimizers.Adam(learning_rate = 3e-4),\n",
    "    metrics = [\"accuracy\"]\n",
    ")\n",
    "\n",
    "# 3. Fit the model\n",
    "history = model_6.fit(X, y, epochs = 100)"
   ]
  },
  {
   "cell_type": "code",
   "execution_count": 37,
   "metadata": {},
   "outputs": [
    {
     "name": "stdout",
     "output_type": "stream",
     "text": [
      "32/32 [==============================] - 1s 12ms/step - loss: 7.7125 - accuracy: 0.5000\n"
     ]
    },
    {
     "data": {
      "text/plain": [
       "[7.712474346160889, 0.5]"
      ]
     },
     "execution_count": 37,
     "metadata": {},
     "output_type": "execute_result"
    }
   ],
   "source": [
    "# Evaluate the model\n",
    "model_6.evaluate(X,y)"
   ]
  },
  {
   "cell_type": "code",
   "execution_count": 38,
   "metadata": {},
   "outputs": [
    {
     "name": "stdout",
     "output_type": "stream",
     "text": [
      "313/313 [==============================] - 2s 6ms/step\n",
      "Binary classification\n"
     ]
    },
    {
     "data": {
      "image/png": "[encoded data removed]",
      "text/plain": [
       "<Figure size 432x288 with 1 Axes>"
      ]
     },
     "metadata": {
      "needs_background": "light"
     },
     "output_type": "display_data"
    }
   ],
   "source": [
    "# How do our model predictions look?\n",
    "plot_decision_boundary(model_6, X, y)"
   ]
  },
  {
   "cell_type": "markdown",
   "metadata": {},
   "source": [
    "Its starting to realise that the red ones are on the outside but the resulting decision boundaries are still straight lines. Next lets use a sigmoid activation function in the output layer."
   ]
  },
  {
   "cell_type": "code",
   "execution_count": 42,
   "metadata": {},
   "outputs": [
    {
     "name": "stdout",
     "output_type": "stream",
     "text": [
      "Epoch 1/100\n",
      "32/32 [==============================] - 1s 14ms/step - loss: 0.6891 - accuracy: 0.5020\n",
      "Epoch 2/100\n",
      "32/32 [==============================] - 0s 9ms/step - loss: 0.6848 - accuracy: 0.5170\n",
      "Epoch 3/100\n",
      "32/32 [==============================] - 0s 8ms/step - loss: 0.6824 - accuracy: 0.5160\n",
      "Epoch 4/100\n",
      "32/32 [==============================] - 0s 8ms/step - loss: 0.6813 - accuracy: 0.5300\n",
      "Epoch 5/100\n",
      "32/32 [==============================] - 0s 9ms/step - loss: 0.6802 - accuracy: 0.5390\n",
      "Epoch 6/100\n",
      "32/32 [==============================] - 0s 8ms/step - loss: 0.6794 - accuracy: 0.5380\n",
      "Epoch 7/100\n",
      "32/32 [==============================] - 0s 9ms/step - loss: 0.6785 - accuracy: 0.5500\n",
      "Epoch 8/100\n",
      "32/32 [==============================] - 0s 8ms/step - loss: 0.6778 - accuracy: 0.5480\n",
      "Epoch 9/100\n",
      "32/32 [==============================] - 0s 9ms/step - loss: 0.6772 - accuracy: 0.5530\n",
      "Epoch 10/100\n",
      "32/32 [==============================] - 0s 10ms/step - loss: 0.6766 - accuracy: 0.5510\n",
      "Epoch 11/100\n",
      "32/32 [==============================] - 0s 9ms/step - loss: 0.6760 - accuracy: 0.5500\n",
      "Epoch 12/100\n",
      "32/32 [==============================] - 0s 9ms/step - loss: 0.6754 - accuracy: 0.5550\n",
      "Epoch 13/100\n",
      "32/32 [==============================] - 0s 9ms/step - loss: 0.6747 - accuracy: 0.5560\n",
      "Epoch 14/100\n",
      "32/32 [==============================] - 0s 8ms/step - loss: 0.6741 - accuracy: 0.5540\n",
      "Epoch 15/100\n",
      "32/32 [==============================] - 0s 10ms/step - loss: 0.6734 - accuracy: 0.5580\n",
      "Epoch 16/100\n",
      "32/32 [==============================] - 0s 11ms/step - loss: 0.6727 - accuracy: 0.5550\n",
      "Epoch 17/100\n",
      "32/32 [==============================] - 0s 9ms/step - loss: 0.6722 - accuracy: 0.5550\n",
      "Epoch 18/100\n",
      "32/32 [==============================] - 0s 9ms/step - loss: 0.6716 - accuracy: 0.5550\n",
      "Epoch 19/100\n",
      "32/32 [==============================] - 0s 9ms/step - loss: 0.6710 - accuracy: 0.5590\n",
      "Epoch 20/100\n",
      "32/32 [==============================] - 0s 9ms/step - loss: 0.6702 - accuracy: 0.5600\n",
      "Epoch 21/100\n",
      "32/32 [==============================] - 0s 10ms/step - loss: 0.6696 - accuracy: 0.5640\n",
      "Epoch 22/100\n",
      "32/32 [==============================] - 0s 11ms/step - loss: 0.6688 - accuracy: 0.5600\n",
      "Epoch 23/100\n",
      "32/32 [==============================] - 0s 10ms/step - loss: 0.6682 - accuracy: 0.5700\n",
      "Epoch 24/100\n",
      "32/32 [==============================] - 0s 9ms/step - loss: 0.6679 - accuracy: 0.5570\n",
      "Epoch 25/100\n",
      "32/32 [==============================] - 0s 8ms/step - loss: 0.6671 - accuracy: 0.5670\n",
      "Epoch 26/100\n",
      "32/32 [==============================] - 0s 9ms/step - loss: 0.6662 - accuracy: 0.5750\n",
      "Epoch 27/100\n",
      "32/32 [==============================] - 0s 10ms/step - loss: 0.6657 - accuracy: 0.5810\n",
      "Epoch 28/100\n",
      "32/32 [==============================] - 0s 10ms/step - loss: 0.6645 - accuracy: 0.5700\n",
      "Epoch 29/100\n",
      "32/32 [==============================] - 0s 12ms/step - loss: 0.6642 - accuracy: 0.5700\n",
      "Epoch 30/100\n",
      "32/32 [==============================] - 0s 9ms/step - loss: 0.6634 - accuracy: 0.5790\n",
      "Epoch 31/100\n",
      "32/32 [==============================] - 0s 9ms/step - loss: 0.6627 - accuracy: 0.5760\n",
      "Epoch 32/100\n",
      "32/32 [==============================] - 0s 9ms/step - loss: 0.6619 - accuracy: 0.5760\n",
      "Epoch 33/100\n",
      "32/32 [==============================] - 0s 9ms/step - loss: 0.6610 - accuracy: 0.5760\n",
      "Epoch 34/100\n",
      "32/32 [==============================] - 0s 9ms/step - loss: 0.6606 - accuracy: 0.5760\n",
      "Epoch 35/100\n",
      "32/32 [==============================] - 0s 12ms/step - loss: 0.6597 - accuracy: 0.5790\n",
      "Epoch 36/100\n",
      "32/32 [==============================] - 0s 9ms/step - loss: 0.6586 - accuracy: 0.5780\n",
      "Epoch 37/100\n",
      "32/32 [==============================] - 0s 9ms/step - loss: 0.6580 - accuracy: 0.5780\n",
      "Epoch 38/100\n",
      "32/32 [==============================] - 0s 9ms/step - loss: 0.6573 - accuracy: 0.5790\n",
      "Epoch 39/100\n",
      "32/32 [==============================] - 0s 9ms/step - loss: 0.6564 - accuracy: 0.5790\n",
      "Epoch 40/100\n",
      "32/32 [==============================] - 0s 10ms/step - loss: 0.6556 - accuracy: 0.5760\n",
      "Epoch 41/100\n",
      "32/32 [==============================] - 0s 10ms/step - loss: 0.6548 - accuracy: 0.5780\n",
      "Epoch 42/100\n",
      "32/32 [==============================] - 0s 10ms/step - loss: 0.6540 - accuracy: 0.5750\n",
      "Epoch 43/100\n",
      "32/32 [==============================] - 0s 9ms/step - loss: 0.6530 - accuracy: 0.5780\n",
      "Epoch 44/100\n",
      "32/32 [==============================] - 0s 9ms/step - loss: 0.6521 - accuracy: 0.5810\n",
      "Epoch 45/100\n",
      "32/32 [==============================] - 0s 9ms/step - loss: 0.6496 - accuracy: 0.5810\n",
      "Epoch 46/100\n",
      "32/32 [==============================] - 0s 9ms/step - loss: 0.6481 - accuracy: 0.5830\n",
      "Epoch 47/100\n",
      "32/32 [==============================] - 0s 10ms/step - loss: 0.6472 - accuracy: 0.5850\n",
      "Epoch 48/100\n",
      "32/32 [==============================] - 0s 12ms/step - loss: 0.6451 - accuracy: 0.5880\n",
      "Epoch 49/100\n",
      "32/32 [==============================] - 0s 10ms/step - loss: 0.6426 - accuracy: 0.5880\n",
      "Epoch 50/100\n",
      "32/32 [==============================] - 0s 9ms/step - loss: 0.6404 - accuracy: 0.5940\n",
      "Epoch 51/100\n",
      "32/32 [==============================] - 0s 8ms/step - loss: 0.6384 - accuracy: 0.6010\n",
      "Epoch 52/100\n",
      "32/32 [==============================] - 0s 9ms/step - loss: 0.6364 - accuracy: 0.6130\n",
      "Epoch 53/100\n",
      "32/32 [==============================] - 0s 9ms/step - loss: 0.6344 - accuracy: 0.6110\n",
      "Epoch 54/100\n",
      "32/32 [==============================] - 0s 11ms/step - loss: 0.6312 - accuracy: 0.6280\n",
      "Epoch 55/100\n",
      "32/32 [==============================] - 0s 11ms/step - loss: 0.6287 - accuracy: 0.6380\n",
      "Epoch 56/100\n",
      "32/32 [==============================] - 0s 8ms/step - loss: 0.6259 - accuracy: 0.6840\n",
      "Epoch 57/100\n",
      "32/32 [==============================] - 0s 9ms/step - loss: 0.6227 - accuracy: 0.6950\n",
      "Epoch 58/100\n",
      "32/32 [==============================] - 0s 9ms/step - loss: 0.6200 - accuracy: 0.6990\n",
      "Epoch 59/100\n",
      "32/32 [==============================] - 0s 9ms/step - loss: 0.6168 - accuracy: 0.6950\n",
      "Epoch 60/100\n",
      "32/32 [==============================] - 0s 9ms/step - loss: 0.6133 - accuracy: 0.7240\n",
      "Epoch 61/100\n",
      "32/32 [==============================] - 0s 9ms/step - loss: 0.6101 - accuracy: 0.7200\n",
      "Epoch 62/100\n",
      "32/32 [==============================] - 0s 11ms/step - loss: 0.6059 - accuracy: 0.7330\n",
      "Epoch 63/100\n",
      "32/32 [==============================] - 0s 9ms/step - loss: 0.6014 - accuracy: 0.7400\n",
      "Epoch 64/100\n",
      "32/32 [==============================] - 0s 10ms/step - loss: 0.5966 - accuracy: 0.7460\n",
      "Epoch 65/100\n",
      "32/32 [==============================] - 0s 9ms/step - loss: 0.5905 - accuracy: 0.7440\n",
      "Epoch 66/100\n",
      "32/32 [==============================] - 0s 9ms/step - loss: 0.5830 - accuracy: 0.7450\n",
      "Epoch 67/100\n",
      "32/32 [==============================] - 0s 9ms/step - loss: 0.5757 - accuracy: 0.7460\n",
      "Epoch 68/100\n",
      "32/32 [==============================] - 0s 11ms/step - loss: 0.5683 - accuracy: 0.7800\n",
      "Epoch 69/100\n",
      "32/32 [==============================] - 0s 9ms/step - loss: 0.5614 - accuracy: 0.8010\n",
      "Epoch 70/100\n",
      "32/32 [==============================] - 0s 10ms/step - loss: 0.5548 - accuracy: 0.8010\n",
      "Epoch 71/100\n",
      "32/32 [==============================] - 0s 9ms/step - loss: 0.5474 - accuracy: 0.8240\n",
      "Epoch 72/100\n",
      "32/32 [==============================] - 0s 9ms/step - loss: 0.5406 - accuracy: 0.8460\n",
      "Epoch 73/100\n",
      "32/32 [==============================] - 0s 9ms/step - loss: 0.5327 - accuracy: 0.8470\n",
      "Epoch 74/100\n",
      "32/32 [==============================] - 0s 10ms/step - loss: 0.5243 - accuracy: 0.8620\n",
      "Epoch 75/100\n",
      "32/32 [==============================] - 0s 11ms/step - loss: 0.5148 - accuracy: 0.8870\n",
      "Epoch 76/100\n",
      "32/32 [==============================] - 0s 10ms/step - loss: 0.5042 - accuracy: 0.8820\n",
      "Epoch 77/100\n",
      "32/32 [==============================] - 0s 10ms/step - loss: 0.4927 - accuracy: 0.9300\n",
      "Epoch 78/100\n",
      "32/32 [==============================] - 0s 9ms/step - loss: 0.4824 - accuracy: 0.9090\n",
      "Epoch 79/100\n",
      "32/32 [==============================] - 0s 9ms/step - loss: 0.4733 - accuracy: 0.9460\n",
      "Epoch 80/100\n",
      "32/32 [==============================] - 0s 9ms/step - loss: 0.4632 - accuracy: 0.9600\n",
      "Epoch 81/100\n",
      "32/32 [==============================] - 0s 12ms/step - loss: 0.4546 - accuracy: 0.9600\n",
      "Epoch 82/100\n",
      "32/32 [==============================] - 0s 9ms/step - loss: 0.4456 - accuracy: 0.9580\n",
      "Epoch 83/100\n",
      "32/32 [==============================] - 0s 10ms/step - loss: 0.4360 - accuracy: 0.9630\n",
      "Epoch 84/100\n",
      "32/32 [==============================] - 0s 10ms/step - loss: 0.4260 - accuracy: 0.9690\n",
      "Epoch 85/100\n",
      "32/32 [==============================] - 0s 9ms/step - loss: 0.4145 - accuracy: 0.9700\n",
      "Epoch 86/100\n",
      "32/32 [==============================] - 0s 10ms/step - loss: 0.4059 - accuracy: 0.9740\n",
      "Epoch 87/100\n",
      "32/32 [==============================] - 0s 13ms/step - loss: 0.3962 - accuracy: 0.9750\n",
      "Epoch 88/100\n",
      "32/32 [==============================] - 0s 9ms/step - loss: 0.3873 - accuracy: 0.9720\n",
      "Epoch 89/100\n",
      "32/32 [==============================] - 0s 9ms/step - loss: 0.3795 - accuracy: 0.9750\n",
      "Epoch 90/100\n",
      "32/32 [==============================] - 0s 9ms/step - loss: 0.3716 - accuracy: 0.9750\n",
      "Epoch 91/100\n",
      "32/32 [==============================] - 0s 10ms/step - loss: 0.3635 - accuracy: 0.9840\n",
      "Epoch 92/100\n",
      "32/32 [==============================] - 0s 9ms/step - loss: 0.3554 - accuracy: 0.9830\n",
      "Epoch 93/100\n",
      "32/32 [==============================] - 0s 11ms/step - loss: 0.3482 - accuracy: 0.9800\n",
      "Epoch 94/100\n",
      "32/32 [==============================] - 0s 9ms/step - loss: 0.3404 - accuracy: 0.9820\n",
      "Epoch 95/100\n",
      "32/32 [==============================] - 0s 10ms/step - loss: 0.3329 - accuracy: 0.9880\n",
      "Epoch 96/100\n",
      "32/32 [==============================] - 0s 9ms/step - loss: 0.3268 - accuracy: 0.9870\n",
      "Epoch 97/100\n",
      "32/32 [==============================] - 0s 8ms/step - loss: 0.3190 - accuracy: 0.9870\n",
      "Epoch 98/100\n",
      "32/32 [==============================] - 0s 8ms/step - loss: 0.3122 - accuracy: 0.9890\n",
      "Epoch 99/100\n",
      "32/32 [==============================] - 0s 9ms/step - loss: 0.3059 - accuracy: 0.9880\n",
      "Epoch 100/100\n",
      "32/32 [==============================] - 0s 11ms/step - loss: 0.2993 - accuracy: 0.9890\n"
     ]
    }
   ],
   "source": [
    "# Set the random seed\n",
    "tf.random.set_seed(42)\n",
    "\n",
    "# 1. Create the model\n",
    "model_7 = tf.keras.Sequential(\n",
    "    [\n",
    "        tf.keras.layers.Dense(4, activation = \"relu\", input_shape = (2,), name = \"hidden_layer_1\"),\n",
    "        tf.keras.layers.Dense(4, activation = \"relu\", name = \"hidden_layer_2\"), \n",
    "        tf.keras.layers.Dense(1, activation = \"sigmoid\", name = \"output_layer\") \n",
    "    ], name = \"model_7\"\n",
    ")\n",
    "\n",
    "# 2. Compile the model\n",
    "model_7.compile(\n",
    "    loss = tf.keras.losses.BinaryCrossentropy(),\n",
    "    optimizer = tf.keras.optimizers.Adam(learning_rate = 1e-3),\n",
    "    metrics = [\"accuracy\"]\n",
    ")\n",
    "\n",
    "# 3. Fit the model\n",
    "history = model_7.fit(X, y, epochs = 100)"
   ]
  },
  {
   "cell_type": "code",
   "execution_count": 43,
   "metadata": {},
   "outputs": [
    {
     "name": "stdout",
     "output_type": "stream",
     "text": [
      "32/32 [==============================] - 0s 8ms/step - loss: 0.2948 - accuracy: 0.9910\n"
     ]
    },
    {
     "data": {
      "text/plain": [
       "[0.2948004901409149, 0.9909999966621399]"
      ]
     },
     "execution_count": 43,
     "metadata": {},
     "output_type": "execute_result"
    }
   ],
   "source": [
    "model_7.evaluate(X, y)"
   ]
  },
  {
   "cell_type": "code",
   "execution_count": 44,
   "metadata": {},
   "outputs": [
    {
     "name": "stdout",
     "output_type": "stream",
     "text": [
      "313/313 [==============================] - 1s 3ms/step\n",
      "Binary classification\n"
     ]
    },
    {
     "data": {
      "image/png": "[encoded data removed]",
      "text/plain": [
       "<Figure size 432x288 with 1 Axes>"
      ]
     },
     "metadata": {
      "needs_background": "light"
     },
     "output_type": "display_data"
    }
   ],
   "source": [
    "plot_decision_boundary(model_7, X, y)"
   ]
  },
  {
   "cell_type": "markdown",
   "metadata": {},
   "source": [
    "Yeah, seems to have correctly identified the decision boundary now!"
   ]
  },
  {
   "cell_type": "markdown",
   "metadata": {},
   "source": [
    "**Note:** The combination of **linear (straight lines) and non-linear (non-straight lines) functions** is one of the key fundamentals of neural networks"
   ]
  },
  {
   "cell_type": "code",
   "execution_count": 45,
   "metadata": {},
   "outputs": [
    {
     "data": {
      "text/plain": [
       "<tf.Tensor: shape=(20,), dtype=float32, numpy=\n",
       "array([-10.,  -9.,  -8.,  -7.,  -6.,  -5.,  -4.,  -3.,  -2.,  -1.,   0.,\n",
       "         1.,   2.,   3.,   4.,   5.,   6.,   7.,   8.,   9.],\n",
       "      dtype=float32)>"
      ]
     },
     "execution_count": 45,
     "metadata": {},
     "output_type": "execute_result"
    }
   ],
   "source": [
    "A = tf.cast(tf.range(-10,10), tf.float32)\n",
    "A"
   ]
  },
  {
   "cell_type": "code",
   "execution_count": 47,
   "metadata": {},
   "outputs": [
    {
     "data": {
      "image/png": "[encoded data removed]",
      "text/plain": [
       "<Figure size 432x288 with 1 Axes>"
      ]
     },
     "metadata": {
      "needs_background": "light"
     },
     "output_type": "display_data"
    }
   ],
   "source": [
    "# Visualize our toy tensor\n",
    "plt.plot(A);"
   ]
  },
  {
   "cell_type": "code",
   "execution_count": 50,
   "metadata": {},
   "outputs": [
    {
     "data": {
      "image/png": "[encoded data removed]",
      "text/plain": [
       "<Figure size 432x288 with 1 Axes>"
      ]
     },
     "metadata": {
      "needs_background": "light"
     },
     "output_type": "display_data"
    }
   ],
   "source": [
    "y_A = tf.keras.activations.sigmoid(A)\n",
    "plt.plot(A, y_A);"
   ]
  },
  {
   "cell_type": "code",
   "execution_count": 52,
   "metadata": {},
   "outputs": [
    {
     "data": {
      "image/png": "[encoded data removed]",
      "text/plain": [
       "<Figure size 432x288 with 1 Axes>"
      ]
     },
     "metadata": {
      "needs_background": "light"
     },
     "output_type": "display_data"
    }
   ],
   "source": [
    "def sigmoid(X):\n",
    "    return 1/(1 + tf.exp(-X))\n",
    "\n",
    "y_A = sigmoid(A)\n",
    "plt.plot(A, y_A);"
   ]
  },
  {
   "cell_type": "code",
   "execution_count": 54,
   "metadata": {},
   "outputs": [
    {
     "data": {
      "image/png": "[encoded data removed]",
      "text/plain": [
       "<Figure size 432x288 with 1 Axes>"
      ]
     },
     "metadata": {
      "needs_background": "light"
     },
     "output_type": "display_data"
    }
   ],
   "source": [
    "# Lets recreate the relu function\n",
    "def relu(X):\n",
    "    return tf.maximum(0, X)\n",
    "\n",
    "y_A_relu = relu(A)\n",
    "plt.plot(A, y_A_relu);"
   ]
  },
  {
   "cell_type": "code",
   "execution_count": 56,
   "metadata": {},
   "outputs": [
    {
     "data": {
      "image/png": "[encoded data removed]",
      "text/plain": [
       "<Figure size 432x288 with 1 Axes>"
      ]
     },
     "metadata": {
      "needs_background": "light"
     },
     "output_type": "display_data"
    }
   ],
   "source": [
    "# Lets try the linear activation function\n",
    "y_A_linear = tf.keras.activations.linear(A)\n",
    "plt.plot(A, y_A_linear);"
   ]
  },
  {
   "cell_type": "markdown",
   "metadata": {},
   "source": [
    "## Non-linear Activations in Neural Networks"
   ]
  }
 ],
 "metadata": {
  "kernelspec": {
   "display_name": "Python 3.10.5 64-bit",
   "language": "python",
   "name": "python3"
  },
  "language_info": {
   "codemirror_mode": {
    "name": "ipython",
    "version": 3
   },
   "file_extension": ".py",
   "mimetype": "text/x-python",
   "name": "python",
   "nbconvert_exporter": "python",
   "pygments_lexer": "ipython3",
   "version": "3.10.5"
  },
  "orig_nbformat": 4,
  "vscode": {
   "interpreter": {
    "hash": "98ba7f9ca0a7d3f9faf83a09faac2df1e0ca0e1c9a5db868ca666908d95c6454"
   }
  }
 },
 "nbformat": 4,
 "nbformat_minor": 2
}
