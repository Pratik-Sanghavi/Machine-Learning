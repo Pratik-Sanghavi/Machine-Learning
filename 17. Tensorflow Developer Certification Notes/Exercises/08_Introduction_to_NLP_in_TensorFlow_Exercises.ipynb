{
  "cells": [
    {
      "cell_type": "markdown",
      "metadata": {
        "id": "UCuLRD-adcQv"
      },
      "source": [
        "# 8. Introduction to NLP (Natural Language Processing) in TensorFlow Exercises"
      ]
    },
    {
      "cell_type": "code",
      "execution_count": 1,
      "metadata": {
        "id": "5IaXcKASdcQy"
      },
      "outputs": [],
      "source": [
        "import numpy as np\n",
        "import pandas as pd\n",
        "import matplotlib.pyplot as plt\n",
        "import os\n",
        "import tensorflow as tf\n",
        "\n",
        "%matplotlib inline"
      ]
    },
    {
      "cell_type": "code",
      "execution_count": 2,
      "metadata": {
        "colab": {
          "base_uri": "https://localhost:8080/"
        },
        "id": "nUzW6X04dcQz",
        "outputId": "8e8c8201-bad8-4273-9df5-e93cf414ab46"
      },
      "outputs": [
        {
          "name": "stdout",
          "output_type": "stream",
          "text": [
            "Fri Jul 15 06:05:41 2022       \n",
            "+-----------------------------------------------------------------------------+\n",
            "| NVIDIA-SMI 460.32.03    Driver Version: 460.32.03    CUDA Version: 11.2     |\n",
            "|-------------------------------+----------------------+----------------------+\n",
            "| GPU  Name        Persistence-M| Bus-Id        Disp.A | Volatile Uncorr. ECC |\n",
            "| Fan  Temp  Perf  Pwr:Usage/Cap|         Memory-Usage | GPU-Util  Compute M. |\n",
            "|                               |                      |               MIG M. |\n",
            "|===============================+======================+======================|\n",
            "|   0  Tesla T4            Off  | 00000000:00:04.0 Off |                    0 |\n",
            "| N/A   35C    P8     9W /  70W |      0MiB / 15109MiB |      0%      Default |\n",
            "|                               |                      |                  N/A |\n",
            "+-------------------------------+----------------------+----------------------+\n",
            "                                                                               \n",
            "+-----------------------------------------------------------------------------+\n",
            "| Processes:                                                                  |\n",
            "|  GPU   GI   CI        PID   Type   Process name                  GPU Memory |\n",
            "|        ID   ID                                                   Usage      |\n",
            "|=============================================================================|\n",
            "|  No running processes found                                                 |\n",
            "+-----------------------------------------------------------------------------+\n"
          ]
        }
      ],
      "source": [
        "!nvidia-smi"
      ]
    },
    {
      "cell_type": "code",
      "execution_count": 4,
      "metadata": {
        "colab": {
          "base_uri": "https://localhost:8080/"
        },
        "id": "_M3jdv34dmzz",
        "outputId": "6bd9c354-edb2-434b-e5d7-4c284d27f511"
      },
      "outputs": [
        {
          "name": "stdout",
          "output_type": "stream",
          "text": [
            "Mounted at /content/drive\n"
          ]
        }
      ],
      "source": [
        "from google.colab import drive\n",
        "drive.mount('/content/drive')"
      ]
    },
    {
      "cell_type": "code",
      "execution_count": 5,
      "metadata": {
        "id": "QyOWgj8ldt2_"
      },
      "outputs": [],
      "source": [
        "BASE_DIR = \"/content/drive/MyDrive/TensorFlow Developer Certification\""
      ]
    },
    {
      "cell_type": "code",
      "execution_count": 6,
      "metadata": {
        "id": "HLNI21HMdcQ0"
      },
      "outputs": [],
      "source": [
        "# Read in the data\n",
        "train_df = pd.read_csv(f'{BASE_DIR}/Data/NLP/train.csv')\n",
        "test_df = pd.read_csv(f'{BASE_DIR}/Data/NLP/test.csv')"
      ]
    },
    {
      "cell_type": "code",
      "execution_count": 7,
      "metadata": {
        "colab": {
          "base_uri": "https://localhost:8080/",
          "height": 206
        },
        "id": "4-hAtyNIdcQ1",
        "outputId": "533584c2-53ba-4846-aef3-bb31e704dda0"
      },
      "outputs": [
        {
          "data": {
            "text/html": [
              "\n",
              "  <div id=\"df-e967fbb2-8bfb-4fe1-b223-ee6d51c5960f\">\n",
              "    <div class=\"colab-df-container\">\n",
              "      <div>\n",
              "<style scoped>\n",
              "    .dataframe tbody tr th:only-of-type {\n",
              "        vertical-align: middle;\n",
              "    }\n",
              "\n",
              "    .dataframe tbody tr th {\n",
              "        vertical-align: top;\n",
              "    }\n",
              "\n",
              "    .dataframe thead th {\n",
              "        text-align: right;\n",
              "    }\n",
              "</style>\n",
              "<table border=\"1\" class=\"dataframe\">\n",
              "  <thead>\n",
              "    <tr style=\"text-align: right;\">\n",
              "      <th></th>\n",
              "      <th>id</th>\n",
              "      <th>keyword</th>\n",
              "      <th>location</th>\n",
              "      <th>text</th>\n",
              "      <th>target</th>\n",
              "    </tr>\n",
              "  </thead>\n",
              "  <tbody>\n",
              "    <tr>\n",
              "      <th>0</th>\n",
              "      <td>1</td>\n",
              "      <td>NaN</td>\n",
              "      <td>NaN</td>\n",
              "      <td>Our Deeds are the Reason of this #earthquake M...</td>\n",
              "      <td>1</td>\n",
              "    </tr>\n",
              "    <tr>\n",
              "      <th>1</th>\n",
              "      <td>4</td>\n",
              "      <td>NaN</td>\n",
              "      <td>NaN</td>\n",
              "      <td>Forest fire near La Ronge Sask. Canada</td>\n",
              "      <td>1</td>\n",
              "    </tr>\n",
              "    <tr>\n",
              "      <th>2</th>\n",
              "      <td>5</td>\n",
              "      <td>NaN</td>\n",
              "      <td>NaN</td>\n",
              "      <td>All residents asked to 'shelter in place' are ...</td>\n",
              "      <td>1</td>\n",
              "    </tr>\n",
              "    <tr>\n",
              "      <th>3</th>\n",
              "      <td>6</td>\n",
              "      <td>NaN</td>\n",
              "      <td>NaN</td>\n",
              "      <td>13,000 people receive #wildfires evacuation or...</td>\n",
              "      <td>1</td>\n",
              "    </tr>\n",
              "    <tr>\n",
              "      <th>4</th>\n",
              "      <td>7</td>\n",
              "      <td>NaN</td>\n",
              "      <td>NaN</td>\n",
              "      <td>Just got sent this photo from Ruby #Alaska as ...</td>\n",
              "      <td>1</td>\n",
              "    </tr>\n",
              "  </tbody>\n",
              "</table>\n",
              "</div>\n",
              "      <button class=\"colab-df-convert\" onclick=\"convertToInteractive('df-e967fbb2-8bfb-4fe1-b223-ee6d51c5960f')\"\n",
              "              title=\"Convert this dataframe to an interactive table.\"\n",
              "              style=\"display:none;\">\n",
              "        \n",
              "  <svg xmlns=\"http://www.w3.org/2000/svg\" height=\"24px\"viewBox=\"0 0 24 24\"\n",
              "       width=\"24px\">\n",
              "    <path d=\"M0 0h24v24H0V0z\" fill=\"none\"/>\n",
              "    <path d=\"M18.56 5.44l.94 2.06.94-2.06 2.06-.94-2.06-.94-.94-2.06-.94 2.06-2.06.94zm-11 1L8.5 8.5l.94-2.06 2.06-.94-2.06-.94L8.5 2.5l-.94 2.06-2.06.94zm10 10l.94 2.06.94-2.06 2.06-.94-2.06-.94-.94-2.06-.94 2.06-2.06.94z\"/><path d=\"M17.41 7.96l-1.37-1.37c-.4-.4-.92-.59-1.43-.59-.52 0-1.04.2-1.43.59L10.3 9.45l-7.72 7.72c-.78.78-.78 2.05 0 2.83L4 21.41c.39.39.9.59 1.41.59.51 0 1.02-.2 1.41-.59l7.78-7.78 2.81-2.81c.8-.78.8-2.07 0-2.86zM5.41 20L4 18.59l7.72-7.72 1.47 1.35L5.41 20z\"/>\n",
              "  </svg>\n",
              "      </button>\n",
              "      \n",
              "  <style>\n",
              "    .colab-df-container {\n",
              "      display:flex;\n",
              "      flex-wrap:wrap;\n",
              "      gap: 12px;\n",
              "    }\n",
              "\n",
              "    .colab-df-convert {\n",
              "      background-color: #E8F0FE;\n",
              "      border: none;\n",
              "      border-radius: 50%;\n",
              "      cursor: pointer;\n",
              "      display: none;\n",
              "      fill: #1967D2;\n",
              "      height: 32px;\n",
              "      padding: 0 0 0 0;\n",
              "      width: 32px;\n",
              "    }\n",
              "\n",
              "    .colab-df-convert:hover {\n",
              "      background-color: #E2EBFA;\n",
              "      box-shadow: 0px 1px 2px rgba(60, 64, 67, 0.3), 0px 1px 3px 1px rgba(60, 64, 67, 0.15);\n",
              "      fill: #174EA6;\n",
              "    }\n",
              "\n",
              "    [theme=dark] .colab-df-convert {\n",
              "      background-color: #3B4455;\n",
              "      fill: #D2E3FC;\n",
              "    }\n",
              "\n",
              "    [theme=dark] .colab-df-convert:hover {\n",
              "      background-color: #434B5C;\n",
              "      box-shadow: 0px 1px 3px 1px rgba(0, 0, 0, 0.15);\n",
              "      filter: drop-shadow(0px 1px 2px rgba(0, 0, 0, 0.3));\n",
              "      fill: #FFFFFF;\n",
              "    }\n",
              "  </style>\n",
              "\n",
              "      <script>\n",
              "        const buttonEl =\n",
              "          document.querySelector('#df-e967fbb2-8bfb-4fe1-b223-ee6d51c5960f button.colab-df-convert');\n",
              "        buttonEl.style.display =\n",
              "          google.colab.kernel.accessAllowed ? 'block' : 'none';\n",
              "\n",
              "        async function convertToInteractive(key) {\n",
              "          const element = document.querySelector('#df-e967fbb2-8bfb-4fe1-b223-ee6d51c5960f');\n",
              "          const dataTable =\n",
              "            await google.colab.kernel.invokeFunction('convertToInteractive',\n",
              "                                                     [key], {});\n",
              "          if (!dataTable) return;\n",
              "\n",
              "          const docLinkHtml = 'Like what you see? Visit the ' +\n",
              "            '<a target=\"_blank\" href=https://colab.research.google.com/notebooks/data_table.ipynb>data table notebook</a>'\n",
              "            + ' to learn more about interactive tables.';\n",
              "          element.innerHTML = '';\n",
              "          dataTable['output_type'] = 'display_data';\n",
              "          await google.colab.output.renderOutput(dataTable, element);\n",
              "          const docLink = document.createElement('div');\n",
              "          docLink.innerHTML = docLinkHtml;\n",
              "          element.appendChild(docLink);\n",
              "        }\n",
              "      </script>\n",
              "    </div>\n",
              "  </div>\n",
              "  "
            ],
            "text/plain": [
              "   id keyword location                                               text  \\\n",
              "0   1     NaN      NaN  Our Deeds are the Reason of this #earthquake M...   \n",
              "1   4     NaN      NaN             Forest fire near La Ronge Sask. Canada   \n",
              "2   5     NaN      NaN  All residents asked to 'shelter in place' are ...   \n",
              "3   6     NaN      NaN  13,000 people receive #wildfires evacuation or...   \n",
              "4   7     NaN      NaN  Just got sent this photo from Ruby #Alaska as ...   \n",
              "\n",
              "   target  \n",
              "0       1  \n",
              "1       1  \n",
              "2       1  \n",
              "3       1  \n",
              "4       1  "
            ]
          },
          "execution_count": 7,
          "metadata": {},
          "output_type": "execute_result"
        }
      ],
      "source": [
        "train_df.head()"
      ]
    },
    {
      "cell_type": "code",
      "execution_count": 8,
      "metadata": {
        "id": "h146Cs68dcQ1"
      },
      "outputs": [],
      "source": [
        "from sklearn.model_selection import train_test_split\n",
        "\n",
        "train_sentences, val_sentences, train_labels, val_labels = train_test_split(train_df['text'].to_numpy(), train_df['target'].to_numpy(), test_size=0.1, random_state = 42)"
      ]
    },
    {
      "cell_type": "code",
      "execution_count": 9,
      "metadata": {
        "colab": {
          "base_uri": "https://localhost:8080/"
        },
        "id": "p8j05gP3dcQ1",
        "outputId": "98cf1d4f-1294-47ff-9c31-70802fba6406"
      },
      "outputs": [
        {
          "data": {
            "text/plain": [
              "0    0.571595\n",
              "1    0.428405\n",
              "dtype: float64"
            ]
          },
          "execution_count": 9,
          "metadata": {},
          "output_type": "execute_result"
        }
      ],
      "source": [
        "pd.Series(train_labels).value_counts()/pd.Series(train_labels).value_counts().sum()"
      ]
    },
    {
      "cell_type": "code",
      "execution_count": 10,
      "metadata": {
        "colab": {
          "base_uri": "https://localhost:8080/"
        },
        "id": "2vIFkv9sdcQ2",
        "outputId": "10f8d513-5b00-4309-9312-8f1c2d7256e8"
      },
      "outputs": [
        {
          "data": {
            "text/plain": [
              "0    0.57034\n",
              "1    0.42966\n",
              "Name: target, dtype: float64"
            ]
          },
          "execution_count": 10,
          "metadata": {},
          "output_type": "execute_result"
        }
      ],
      "source": [
        "train_df.target.value_counts()/train_df.target.value_counts().sum()"
      ]
    },
    {
      "cell_type": "markdown",
      "metadata": {
        "id": "11VONIK5dcQ2"
      },
      "source": [
        "Great! The distribution is virtually the same which means we can proceed towards the training."
      ]
    },
    {
      "cell_type": "code",
      "execution_count": 11,
      "metadata": {
        "colab": {
          "base_uri": "https://localhost:8080/"
        },
        "id": "6SDhSGIaeRsf",
        "outputId": "6e796095-bcfa-458c-a823-39896fbb5527"
      },
      "outputs": [
        {
          "name": "stdout",
          "output_type": "stream",
          "text": [
            "--2022-07-15 06:08:39--  https://raw.githubusercontent.com/mrdbourke/tensorflow-deep-learning/main/extras/helper_functions.py\n",
            "Resolving raw.githubusercontent.com (raw.githubusercontent.com)... 185.199.108.133, 185.199.109.133, 185.199.110.133, ...\n",
            "Connecting to raw.githubusercontent.com (raw.githubusercontent.com)|185.199.108.133|:443... connected.\n",
            "HTTP request sent, awaiting response... 200 OK\n",
            "Length: 10246 (10K) [text/plain]\n",
            "Saving to: ‘helper_functions.py’\n",
            "\n",
            "\rhelper_functions.py   0%[                    ]       0  --.-KB/s               \rhelper_functions.py 100%[===================>]  10.01K  --.-KB/s    in 0s      \n",
            "\n",
            "2022-07-15 06:08:40 (56.5 MB/s) - ‘helper_functions.py’ saved [10246/10246]\n",
            "\n"
          ]
        }
      ],
      "source": [
        "!wget \"https://raw.githubusercontent.com/mrdbourke/tensorflow-deep-learning/main/extras/helper_functions.py\""
      ]
    },
    {
      "cell_type": "code",
      "execution_count": 12,
      "metadata": {
        "id": "74hRzUFDdcQ3"
      },
      "outputs": [],
      "source": [
        "from helper_functions import create_tensorboard_callback, plot_loss_curves, compare_historys, make_confusion_matrix, calculate_results, unzip_data"
      ]
    },
    {
      "cell_type": "markdown",
      "metadata": {
        "id": "5r4giWpRdcQ3"
      },
      "source": [
        "### 1. Rebuild, compile and train model_1, model_2 and model_5 using the Keras Sequential API instead of the Functional API."
      ]
    },
    {
      "cell_type": "code",
      "execution_count": null,
      "metadata": {
        "id": "3iMihETKdcQ3"
      },
      "outputs": [],
      "source": [
        "MAX_TOKENS = 10000\n",
        "LENGTH_OF_SEQUENCE = 15\n",
        "\n",
        "text_vectorizer = tf.keras.layers.TextVectorization(max_tokens = MAX_TOKENS, output_sequence_length = LENGTH_OF_SEQUENCE, pad_to_max_tokens = True, name = \"text_vectorisation_layer\")\n",
        "text_vectorizer.adapt(train_sentences)\n",
        "\n",
        "model_1 = tf.keras.Sequential(\n",
        "    [\n",
        "        text_vectorizer,\n",
        "        tf.keras.layers.Embedding(input_dim = MAX_TOKENS, output_dim = 128, input_length = LENGTH_OF_SEQUENCE, name = \"embedding_layer\"),\n",
        "        tf.keras.layers.GlobalMaxPool1D(name = \"global_max_pooling_layer\"),\n",
        "        tf.keras.layers.Dense(1, activation = \"sigmoid\", name = \"output_layer\")\n",
        "    ], name = \"model_1_sequential\"\n",
        ")"
      ]
    },
    {
      "cell_type": "code",
      "execution_count": null,
      "metadata": {
        "id": "r1vxNibZdcQ4",
        "outputId": "de5010cb-e88a-4a2e-a990-9d8fd8721202"
      },
      "outputs": [
        {
          "name": "stdout",
          "output_type": "stream",
          "text": [
            "Model: \"model_1_sequential\"\n",
            "_________________________________________________________________\n",
            " Layer (type)                Output Shape              Param #   \n",
            "=================================================================\n",
            " text_vectorisation_layer (T  (None, 15)               0         \n",
            " extVectorization)                                               \n",
            "                                                                 \n",
            " embedding_layer (Embedding)  (None, 15, 128)          1280000   \n",
            "                                                                 \n",
            " global_max_pooling_layer (G  (None, 128)              0         \n",
            " lobalMaxPooling1D)                                              \n",
            "                                                                 \n",
            " output_layer (Dense)        (None, 1)                 129       \n",
            "                                                                 \n",
            "=================================================================\n",
            "Total params: 1,280,129\n",
            "Trainable params: 1,280,129\n",
            "Non-trainable params: 0\n",
            "_________________________________________________________________\n"
          ]
        }
      ],
      "source": [
        "model_1.summary()"
      ]
    },
    {
      "cell_type": "code",
      "execution_count": 16,
      "metadata": {
        "id": "P63wAdiydcQ4"
      },
      "outputs": [],
      "source": [
        "SAVE_DIR = f\"{BASE_DIR}/TensorBoard/NLP\""
      ]
    },
    {
      "cell_type": "code",
      "execution_count": null,
      "metadata": {
        "id": "V-hcixf0dcQ4",
        "outputId": "04600345-ac78-48ea-e042-d8ed4a0dccff"
      },
      "outputs": [
        {
          "name": "stdout",
          "output_type": "stream",
          "text": [
            "Saving TensorBoard log files to: TensorBoard/NLP/model_1_dense_sequential/20220715-010544\n",
            "Epoch 1/5\n",
            "215/215 [==============================] - 4s 11ms/step - loss: 0.6378 - accuracy: 0.6627 - val_loss: 0.5756 - val_accuracy: 0.7756\n",
            "Epoch 2/5\n",
            "215/215 [==============================] - 2s 8ms/step - loss: 0.4699 - accuracy: 0.8260 - val_loss: 0.4855 - val_accuracy: 0.7808\n",
            "Epoch 3/5\n",
            "215/215 [==============================] - 2s 9ms/step - loss: 0.3406 - accuracy: 0.8755 - val_loss: 0.4739 - val_accuracy: 0.7992\n",
            "Epoch 4/5\n",
            "215/215 [==============================] - 2s 9ms/step - loss: 0.2579 - accuracy: 0.9075 - val_loss: 0.4827 - val_accuracy: 0.7940\n",
            "Epoch 5/5\n",
            "215/215 [==============================] - 2s 8ms/step - loss: 0.1976 - accuracy: 0.9323 - val_loss: 0.4996 - val_accuracy: 0.7953\n"
          ]
        }
      ],
      "source": [
        "# Compile the model\n",
        "model_1.compile(\n",
        "    loss = tf.keras.losses.BinaryCrossentropy(),\n",
        "    optimizer = tf.keras.optimizers.Adam(),\n",
        "    metrics = [\"accuracy\"]\n",
        ")\n",
        "\n",
        "# Fit the model\n",
        "history_model_1 = model_1.fit(\n",
        "    x = train_sentences,\n",
        "    y = train_labels,\n",
        "    epochs = 5,\n",
        "    validation_data = (val_sentences, val_labels),\n",
        "    callbacks = [create_tensorboard_callback(SAVE_DIR, \"model_1_dense_sequential\")]\n",
        ")"
      ]
    },
    {
      "cell_type": "code",
      "execution_count": null,
      "metadata": {
        "id": "SrER1n6kdcQ5",
        "outputId": "4cd178b4-0b7d-41b9-e569-52f9720e586e"
      },
      "outputs": [
        {
          "name": "stdout",
          "output_type": "stream",
          "text": [
            "24/24 [==============================] - 0s 7ms/step\n"
          ]
        },
        {
          "data": {
            "text/plain": [
              "{'accuracy': 79.52755905511812,\n",
              " 'precision': 0.7960291067316854,\n",
              " 'recall': 0.7952755905511811,\n",
              " 'f1': 0.7933872033947167}"
            ]
          },
          "execution_count": 20,
          "metadata": {},
          "output_type": "execute_result"
        }
      ],
      "source": [
        "model_1_results = calculate_results(val_labels, tf.squeeze(tf.round(model_1.predict(val_sentences))))\n",
        "model_1_results"
      ]
    },
    {
      "cell_type": "markdown",
      "metadata": {
        "id": "k2vdlcyRdcQ5"
      },
      "source": [
        "And that sorts out model_1."
      ]
    },
    {
      "cell_type": "code",
      "execution_count": null,
      "metadata": {
        "id": "7lXscCUIdcQ5",
        "outputId": "f05a3494-635e-4f8c-e961-62e4d189a17b"
      },
      "outputs": [
        {
          "name": "stdout",
          "output_type": "stream",
          "text": [
            "Model: \"model_2\"\n",
            "_________________________________________________________________\n",
            " Layer (type)                Output Shape              Param #   \n",
            "=================================================================\n",
            " text_vectorisation_layer (T  (None, 15)               0         \n",
            " extVectorization)                                               \n",
            "                                                                 \n",
            " embedding_layer (Embedding)  (None, 15, 128)          1280000   \n",
            "                                                                 \n",
            " lstm (LSTM)                 (None, 64)                49408     \n",
            "                                                                 \n",
            " output_layer (Dense)        (None, 1)                 65        \n",
            "                                                                 \n",
            "=================================================================\n",
            "Total params: 1,329,473\n",
            "Trainable params: 1,329,473\n",
            "Non-trainable params: 0\n",
            "_________________________________________________________________\n"
          ]
        }
      ],
      "source": [
        "model_2 = tf.keras.Sequential(\n",
        "    [\n",
        "        text_vectorizer,\n",
        "        tf.keras.layers.Embedding(input_dim = MAX_TOKENS, output_dim = 128, input_length = LENGTH_OF_SEQUENCE, name = \"embedding_layer\"),\n",
        "        tf.keras.layers.LSTM(64),\n",
        "        tf.keras.layers.Dense(1, activation = \"sigmoid\", name = \"output_layer\")\n",
        "    ], name = \"model_2\"\n",
        ")\n",
        "\n",
        "model_2.summary()"
      ]
    },
    {
      "cell_type": "code",
      "execution_count": null,
      "metadata": {
        "id": "Zu7UVuf6dcQ6",
        "outputId": "eda80a79-ffed-4f1d-bb23-2b08f133f2cd"
      },
      "outputs": [
        {
          "name": "stdout",
          "output_type": "stream",
          "text": [
            "Saving TensorBoard log files to: TensorBoard/NLP/model_2_lstm_sequential/20220715-011530\n",
            "Epoch 1/5\n",
            "215/215 [==============================] - 19s 13ms/step - loss: 0.5103 - accuracy: 0.7460 - val_loss: 0.4697 - val_accuracy: 0.7900\n",
            "Epoch 2/5\n",
            "215/215 [==============================] - 3s 12ms/step - loss: 0.3078 - accuracy: 0.8707 - val_loss: 0.4919 - val_accuracy: 0.7730\n",
            "Epoch 3/5\n",
            "215/215 [==============================] - 3s 12ms/step - loss: 0.2094 - accuracy: 0.9216 - val_loss: 0.6366 - val_accuracy: 0.7336\n",
            "Epoch 4/5\n",
            "215/215 [==============================] - 2s 11ms/step - loss: 0.1423 - accuracy: 0.9482 - val_loss: 0.8412 - val_accuracy: 0.7507\n",
            "Epoch 5/5\n",
            "215/215 [==============================] - 2s 11ms/step - loss: 0.0995 - accuracy: 0.9609 - val_loss: 0.8809 - val_accuracy: 0.7428\n"
          ]
        }
      ],
      "source": [
        "# Compile the model\n",
        "model_2.compile(\n",
        "    loss = tf.keras.losses.BinaryCrossentropy(),\n",
        "    optimizer = tf.keras.optimizers.Adam(),\n",
        "    metrics = [\"accuracy\"]\n",
        ")\n",
        "\n",
        "# Fit the model\n",
        "history_model_2 = model_2.fit(\n",
        "    x = train_sentences,\n",
        "    y = train_labels,\n",
        "    epochs = 5,\n",
        "    validation_data = (val_sentences, val_labels),\n",
        "    callbacks = [create_tensorboard_callback(SAVE_DIR, \"model_2_lstm_sequential\")]\n",
        ")"
      ]
    },
    {
      "cell_type": "code",
      "execution_count": null,
      "metadata": {
        "id": "C3zB4jOhdcQ6",
        "outputId": "d4b8038f-0b39-4025-d585-2381dd08a821"
      },
      "outputs": [
        {
          "name": "stdout",
          "output_type": "stream",
          "text": [
            "24/24 [==============================] - 1s 14ms/step\n"
          ]
        },
        {
          "data": {
            "text/plain": [
              "{'accuracy': 74.2782152230971,\n",
              " 'precision': 0.7418286470789891,\n",
              " 'recall': 0.7427821522309711,\n",
              " 'f1': 0.7417868391767628}"
            ]
          },
          "execution_count": 23,
          "metadata": {},
          "output_type": "execute_result"
        }
      ],
      "source": [
        "model_2_results = calculate_results(val_labels, tf.squeeze(tf.round(model_2.predict(val_sentences))))\n",
        "model_2_results"
      ]
    },
    {
      "cell_type": "markdown",
      "metadata": {
        "id": "8JZPYZeWdcQ6"
      },
      "source": [
        "Okay. This seems to have worsened performance!"
      ]
    },
    {
      "cell_type": "code",
      "execution_count": null,
      "metadata": {
        "id": "nk-Gwc4NdcQ7",
        "outputId": "667ad868-ed8b-47a1-f431-04fc1b70987e"
      },
      "outputs": [
        {
          "name": "stdout",
          "output_type": "stream",
          "text": [
            "Model: \"model_5\"\n",
            "_________________________________________________________________\n",
            " Layer (type)                Output Shape              Param #   \n",
            "=================================================================\n",
            " text_vectorisation_layer (T  (None, 15)               0         \n",
            " extVectorization)                                               \n",
            "                                                                 \n",
            " embedding_layer (Embedding)  (None, 15, 128)          1280000   \n",
            "                                                                 \n",
            " conv_layer (Conv1D)         (None, 11, 64)            41024     \n",
            "                                                                 \n",
            " max_pooling_1d_layer (Globa  (None, 64)               0         \n",
            " lMaxPooling1D)                                                  \n",
            "                                                                 \n",
            " output_layer (Dense)        (None, 1)                 65        \n",
            "                                                                 \n",
            "=================================================================\n",
            "Total params: 1,321,089\n",
            "Trainable params: 1,321,089\n",
            "Non-trainable params: 0\n",
            "_________________________________________________________________\n"
          ]
        }
      ],
      "source": [
        "model_5 = tf.keras.Sequential(\n",
        "    [\n",
        "        tf.keras.layers.Input(shape = (1,), dtype = tf.string, name = \"input_layer\"),\n",
        "        text_vectorizer,\n",
        "        tf.keras.layers.Embedding(input_dim = MAX_TOKENS, output_dim = 128, input_length = LENGTH_OF_SEQUENCE, name = \"embedding_layer\"),\n",
        "        tf.keras.layers.Conv1D(64, 5, padding = \"valid\", activation = \"relu\", name = \"conv_layer\"),\n",
        "        tf.keras.layers.GlobalMaxPool1D(name = \"max_pooling_1d_layer\"),\n",
        "        tf.keras.layers.Dense(1, activation = \"sigmoid\", name = \"output_layer\")\n",
        "    ], name = \"model_5\"\n",
        ")\n",
        "\n",
        "model_5.summary()"
      ]
    },
    {
      "cell_type": "code",
      "execution_count": null,
      "metadata": {
        "id": "3_81pqI_dcQ7",
        "outputId": "cfae305e-16b1-44ca-a7ee-a776760c591d"
      },
      "outputs": [
        {
          "name": "stdout",
          "output_type": "stream",
          "text": [
            "Saving TensorBoard log files to: TensorBoard/NLP/model_5_conv1d_sequential/20220715-013201\n",
            "Epoch 1/5\n",
            "215/215 [==============================] - 3s 11ms/step - loss: 0.5515 - accuracy: 0.7167 - val_loss: 0.4801 - val_accuracy: 0.7717\n",
            "Epoch 2/5\n",
            "215/215 [==============================] - 2s 10ms/step - loss: 0.3286 - accuracy: 0.8643 - val_loss: 0.5201 - val_accuracy: 0.7835\n",
            "Epoch 3/5\n",
            "215/215 [==============================] - 2s 10ms/step - loss: 0.2020 - accuracy: 0.9283 - val_loss: 0.6178 - val_accuracy: 0.7638\n",
            "Epoch 4/5\n",
            "215/215 [==============================] - 2s 10ms/step - loss: 0.1274 - accuracy: 0.9575 - val_loss: 0.6954 - val_accuracy: 0.7730\n",
            "Epoch 5/5\n",
            "215/215 [==============================] - 2s 9ms/step - loss: 0.0941 - accuracy: 0.9696 - val_loss: 0.7473 - val_accuracy: 0.7546\n"
          ]
        }
      ],
      "source": [
        "# Compile the model\n",
        "model_5.compile(\n",
        "    loss = tf.keras.losses.BinaryCrossentropy(),\n",
        "    optimizer = tf.keras.optimizers.Adam(),\n",
        "    metrics = [\"accuracy\"]\n",
        ")\n",
        "\n",
        "# Fit the model\n",
        "history_model_5 = model_5.fit(\n",
        "    x = train_sentences,\n",
        "    y = train_labels,\n",
        "    epochs = 5,\n",
        "    validation_data = (val_sentences, val_labels),\n",
        "    callbacks = [create_tensorboard_callback(SAVE_DIR, \"model_5_conv1d_sequential\")]\n",
        ")"
      ]
    },
    {
      "cell_type": "code",
      "execution_count": null,
      "metadata": {
        "id": "6voIYamNdcQ7",
        "outputId": "e5bf8e02-0581-4035-a8b7-8470d445d46c"
      },
      "outputs": [
        {
          "name": "stdout",
          "output_type": "stream",
          "text": [
            "24/24 [==============================] - 0s 3ms/step\n"
          ]
        },
        {
          "data": {
            "text/plain": [
              "{'accuracy': 75.45931758530183,\n",
              " 'precision': 0.7542507437514857,\n",
              " 'recall': 0.7545931758530183,\n",
              " 'f1': 0.7543892493889404}"
            ]
          },
          "execution_count": 34,
          "metadata": {},
          "output_type": "execute_result"
        }
      ],
      "source": [
        "model_5_preds = tf.squeeze(tf.round(model_5.predict(val_sentences)))\n",
        "model_5_results = calculate_results(val_labels, model_5_preds)\n",
        "model_5_results"
      ]
    },
    {
      "cell_type": "code",
      "execution_count": null,
      "metadata": {
        "id": "_H6pLaJGdcQ8",
        "outputId": "086f44a2-7c6d-4173-e57b-2b810a7c4b8a"
      },
      "outputs": [
        {
          "data": {
            "image/png": "[encoded data removed]",
            "text/plain": [
              "<Figure size 720x720 with 2 Axes>"
            ]
          },
          "metadata": {
            "needs_background": "light"
          },
          "output_type": "display_data"
        }
      ],
      "source": [
        "make_confusion_matrix(val_labels, model_5_preds)"
      ]
    },
    {
      "cell_type": "markdown",
      "metadata": {
        "id": "ESyOU7m_dcQ8"
      },
      "source": [
        "### 2. Retrain the baseline model with 10% of the training data. How does perform compared to the Universal Sentence Encoder model with 10% of the training data?"
      ]
    },
    {
      "cell_type": "code",
      "execution_count": null,
      "metadata": {
        "id": "w3DGTmmMdcQ8"
      },
      "outputs": [],
      "source": [
        "from sklearn.feature_extraction.text import TfidfVectorizer\n",
        "from sklearn.pipeline import Pipeline\n",
        "from sklearn.naive_bayes import MultinomialNB"
      ]
    },
    {
      "cell_type": "code",
      "execution_count": null,
      "metadata": {
        "id": "8vC9ijSYdcQ8"
      },
      "outputs": [],
      "source": [
        "train_subset_idx = np.random.choice(len(train_sentences),int(0.1*len(train_sentences)))\n",
        "train_sentences_subs = train_sentences[train_subset_idx]\n",
        "train_labels_subs = train_labels[train_subset_idx]"
      ]
    },
    {
      "cell_type": "code",
      "execution_count": null,
      "metadata": {
        "id": "jvRCMUNsdcQ8",
        "outputId": "aa6fc8b2-9cbb-4ccd-ce5c-aea2224d2c59"
      },
      "outputs": [
        {
          "data": {
            "text/plain": [
              "0    0.548905\n",
              "1    0.451095\n",
              "dtype: float64"
            ]
          },
          "execution_count": 17,
          "metadata": {},
          "output_type": "execute_result"
        }
      ],
      "source": [
        "pd.Series(train_labels_subs).value_counts()/pd.Series(train_labels_subs).value_counts().sum()"
      ]
    },
    {
      "cell_type": "markdown",
      "metadata": {
        "id": "QwVyAv3ndcQ9"
      },
      "source": [
        "It does retain the distribution reasonably enough."
      ]
    },
    {
      "cell_type": "code",
      "execution_count": null,
      "metadata": {
        "id": "2OLFDZTmdcQ9",
        "outputId": "7aa3295a-3876-43b7-ba92-18a805049f90"
      },
      "outputs": [
        {
          "data": {
            "text/html": [
              "<style>#sk-container-id-2 {color: black;background-color: white;}#sk-container-id-2 pre{padding: 0;}#sk-container-id-2 div.sk-toggleable {background-color: white;}#sk-container-id-2 label.sk-toggleable__label {cursor: pointer;display: block;width: 100%;margin-bottom: 0;padding: 0.3em;box-sizing: border-box;text-align: center;}#sk-container-id-2 label.sk-toggleable__label-arrow:before {content: \"▸\";float: left;margin-right: 0.25em;color: #696969;}#sk-container-id-2 label.sk-toggleable__label-arrow:hover:before {color: black;}#sk-container-id-2 div.sk-estimator:hover label.sk-toggleable__label-arrow:before {color: black;}#sk-container-id-2 div.sk-toggleable__content {max-height: 0;max-width: 0;overflow: hidden;text-align: left;background-color: #f0f8ff;}#sk-container-id-2 div.sk-toggleable__content pre {margin: 0.2em;color: black;border-radius: 0.25em;background-color: #f0f8ff;}#sk-container-id-2 input.sk-toggleable__control:checked~div.sk-toggleable__content {max-height: 200px;max-width: 100%;overflow: auto;}#sk-container-id-2 input.sk-toggleable__control:checked~label.sk-toggleable__label-arrow:before {content: \"▾\";}#sk-container-id-2 div.sk-estimator input.sk-toggleable__control:checked~label.sk-toggleable__label {background-color: #d4ebff;}#sk-container-id-2 div.sk-label input.sk-toggleable__control:checked~label.sk-toggleable__label {background-color: #d4ebff;}#sk-container-id-2 input.sk-hidden--visually {border: 0;clip: rect(1px 1px 1px 1px);clip: rect(1px, 1px, 1px, 1px);height: 1px;margin: -1px;overflow: hidden;padding: 0;position: absolute;width: 1px;}#sk-container-id-2 div.sk-estimator {font-family: monospace;background-color: #f0f8ff;border: 1px dotted black;border-radius: 0.25em;box-sizing: border-box;margin-bottom: 0.5em;}#sk-container-id-2 div.sk-estimator:hover {background-color: #d4ebff;}#sk-container-id-2 div.sk-parallel-item::after {content: \"\";width: 100%;border-bottom: 1px solid gray;flex-grow: 1;}#sk-container-id-2 div.sk-label:hover label.sk-toggleable__label {background-color: #d4ebff;}#sk-container-id-2 div.sk-serial::before {content: \"\";position: absolute;border-left: 1px solid gray;box-sizing: border-box;top: 0;bottom: 0;left: 50%;z-index: 0;}#sk-container-id-2 div.sk-serial {display: flex;flex-direction: column;align-items: center;background-color: white;padding-right: 0.2em;padding-left: 0.2em;position: relative;}#sk-container-id-2 div.sk-item {position: relative;z-index: 1;}#sk-container-id-2 div.sk-parallel {display: flex;align-items: stretch;justify-content: center;background-color: white;position: relative;}#sk-container-id-2 div.sk-item::before, #sk-container-id-2 div.sk-parallel-item::before {content: \"\";position: absolute;border-left: 1px solid gray;box-sizing: border-box;top: 0;bottom: 0;left: 50%;z-index: -1;}#sk-container-id-2 div.sk-parallel-item {display: flex;flex-direction: column;z-index: 1;position: relative;background-color: white;}#sk-container-id-2 div.sk-parallel-item:first-child::after {align-self: flex-end;width: 50%;}#sk-container-id-2 div.sk-parallel-item:last-child::after {align-self: flex-start;width: 50%;}#sk-container-id-2 div.sk-parallel-item:only-child::after {width: 0;}#sk-container-id-2 div.sk-dashed-wrapped {border: 1px dashed gray;margin: 0 0.4em 0.5em 0.4em;box-sizing: border-box;padding-bottom: 0.4em;background-color: white;}#sk-container-id-2 div.sk-label label {font-family: monospace;font-weight: bold;display: inline-block;line-height: 1.2em;}#sk-container-id-2 div.sk-label-container {text-align: center;}#sk-container-id-2 div.sk-container {/* jupyter's `normalize.less` sets `[hidden] { display: none; }` but bootstrap.min.css set `[hidden] { display: none !important; }` so we also need the `!important` here to be able to override the default hidden behavior on the sphinx rendered scikit-learn.org. See: https://github.com/scikit-learn/scikit-learn/issues/21755 */display: inline-block !important;position: relative;}#sk-container-id-2 div.sk-text-repr-fallback {display: none;}</style><div id=\"sk-container-id-2\" class=\"sk-top-container\"><div class=\"sk-text-repr-fallback\"><pre>Pipeline(steps=[(&#x27;tf_idf_vectorizer&#x27;, TfidfVectorizer()),\n",
              "                (&#x27;naive_bayes&#x27;, MultinomialNB())])</pre><b>In a Jupyter environment, please rerun this cell to show the HTML representation or trust the notebook. <br />On GitHub, the HTML representation is unable to render, please try loading this page with nbviewer.org.</b></div><div class=\"sk-container\" hidden><div class=\"sk-item sk-dashed-wrapped\"><div class=\"sk-label-container\"><div class=\"sk-label sk-toggleable\"><input class=\"sk-toggleable__control sk-hidden--visually\" id=\"sk-estimator-id-4\" type=\"checkbox\" ><label for=\"sk-estimator-id-4\" class=\"sk-toggleable__label sk-toggleable__label-arrow\">Pipeline</label><div class=\"sk-toggleable__content\"><pre>Pipeline(steps=[(&#x27;tf_idf_vectorizer&#x27;, TfidfVectorizer()),\n",
              "                (&#x27;naive_bayes&#x27;, MultinomialNB())])</pre></div></div></div><div class=\"sk-serial\"><div class=\"sk-item\"><div class=\"sk-estimator sk-toggleable\"><input class=\"sk-toggleable__control sk-hidden--visually\" id=\"sk-estimator-id-5\" type=\"checkbox\" ><label for=\"sk-estimator-id-5\" class=\"sk-toggleable__label sk-toggleable__label-arrow\">TfidfVectorizer</label><div class=\"sk-toggleable__content\"><pre>TfidfVectorizer()</pre></div></div></div><div class=\"sk-item\"><div class=\"sk-estimator sk-toggleable\"><input class=\"sk-toggleable__control sk-hidden--visually\" id=\"sk-estimator-id-6\" type=\"checkbox\" ><label for=\"sk-estimator-id-6\" class=\"sk-toggleable__label sk-toggleable__label-arrow\">MultinomialNB</label><div class=\"sk-toggleable__content\"><pre>MultinomialNB()</pre></div></div></div></div></div></div></div>"
            ],
            "text/plain": [
              "Pipeline(steps=[('tf_idf_vectorizer', TfidfVectorizer()),\n",
              "                ('naive_bayes', MultinomialNB())])"
            ]
          },
          "execution_count": 18,
          "metadata": {},
          "output_type": "execute_result"
        }
      ],
      "source": [
        "model_baseline = Pipeline(\n",
        "    [\n",
        "        (\"tf_idf_vectorizer\", TfidfVectorizer()),\n",
        "        (\"naive_bayes\", MultinomialNB())\n",
        "    ]\n",
        ")\n",
        "\n",
        "model_baseline.fit(train_sentences_subs, train_labels_subs)"
      ]
    },
    {
      "cell_type": "code",
      "execution_count": null,
      "metadata": {
        "id": "FC3FxdeidcQ9"
      },
      "outputs": [],
      "source": [
        "baseline_predictions = model_baseline.predict(val_sentences)"
      ]
    },
    {
      "cell_type": "code",
      "execution_count": null,
      "metadata": {
        "id": "Njrpus4xdcQ9",
        "outputId": "e20c4319-1f45-4258-cef6-1ab8f967b654"
      },
      "outputs": [
        {
          "data": {
            "text/plain": [
              "{'accuracy': 75.19685039370079,\n",
              " 'precision': 0.7728274037322337,\n",
              " 'recall': 0.7519685039370079,\n",
              " 'f1': 0.7398286185223064}"
            ]
          },
          "execution_count": 21,
          "metadata": {},
          "output_type": "execute_result"
        }
      ],
      "source": [
        "model_baseline_results = calculate_results(val_labels, baseline_predictions)\n",
        "model_baseline_results"
      ]
    },
    {
      "cell_type": "markdown",
      "metadata": {
        "id": "XSc0eg3SdcQ9"
      },
      "source": [
        "### 3. Try fine-tuning the TF Hub Universal Sentence Encoder model by setting training=True when instantiating it as a Keras layer."
      ]
    },
    {
      "cell_type": "code",
      "execution_count": 14,
      "metadata": {
        "id": "5u338gRpdcQ9"
      },
      "outputs": [],
      "source": [
        "import tensorflow_hub as hub"
      ]
    },
    {
      "cell_type": "code",
      "execution_count": 15,
      "metadata": {
        "colab": {
          "base_uri": "https://localhost:8080/"
        },
        "id": "02thombrdcQ9",
        "outputId": "8aeb018b-efc7-41cc-f2e6-b7f8c0c36594"
      },
      "outputs": [
        {
          "name": "stdout",
          "output_type": "stream",
          "text": [
            "Model: \"sequential\"\n",
            "_________________________________________________________________\n",
            " Layer (type)                Output Shape              Param #   \n",
            "=================================================================\n",
            " USE (KerasLayer)            (None, 512)               256797824 \n",
            "                                                                 \n",
            " output_layer (Dense)        (None, 1)                 513       \n",
            "                                                                 \n",
            "=================================================================\n",
            "Total params: 256,798,337\n",
            "Trainable params: 256,798,337\n",
            "Non-trainable params: 0\n",
            "_________________________________________________________________\n"
          ]
        }
      ],
      "source": [
        "sentence_encoder_layer = hub.KerasLayer('https://tfhub.dev/google/universal-sentence-encoder/4', trainable = True, input_shape = (), dtype = tf.string, name = \"USE\")\n",
        "\n",
        "model_USE_fine_tune = tf.keras.Sequential(\n",
        "    [\n",
        "        sentence_encoder_layer,\n",
        "        tf.keras.layers.Dense(1, activation = \"sigmoid\", name = \"output_layer\")\n",
        "    ]\n",
        ")\n",
        "\n",
        "model_USE_fine_tune.summary()"
      ]
    },
    {
      "cell_type": "code",
      "execution_count": 17,
      "metadata": {
        "colab": {
          "base_uri": "https://localhost:8080/"
        },
        "id": "3AjcleQddcQ-",
        "outputId": "d2967d61-b196-4e96-d382-60346b493409"
      },
      "outputs": [
        {
          "name": "stdout",
          "output_type": "stream",
          "text": [
            "Saving TensorBoard log files to: /content/drive/MyDrive/TensorFlow Developer Certification/TensorBoard/NLP/model_USE_fine_tune/20220715-061001\n",
            "Epoch 1/5\n",
            "215/215 [==============================] - 43s 155ms/step - loss: 0.4652 - accuracy: 0.7926 - val_loss: 0.4108 - val_accuracy: 0.8333\n",
            "Epoch 2/5\n",
            "215/215 [==============================] - 35s 161ms/step - loss: 0.2502 - accuracy: 0.9061 - val_loss: 0.4506 - val_accuracy: 0.8176\n",
            "Epoch 3/5\n",
            "215/215 [==============================] - 33s 153ms/step - loss: 0.0885 - accuracy: 0.9721 - val_loss: 0.5082 - val_accuracy: 0.7992\n",
            "Epoch 4/5\n",
            "215/215 [==============================] - 33s 153ms/step - loss: 0.0498 - accuracy: 0.9845 - val_loss: 0.5810 - val_accuracy: 0.7861\n",
            "Epoch 5/5\n",
            "215/215 [==============================] - 33s 155ms/step - loss: 0.0326 - accuracy: 0.9896 - val_loss: 0.6756 - val_accuracy: 0.7467\n"
          ]
        }
      ],
      "source": [
        "# Compile the model\n",
        "model_USE_fine_tune.compile(\n",
        "    loss = tf.keras.losses.BinaryCrossentropy(),\n",
        "    optimizer = tf.keras.optimizers.Adam(),\n",
        "    metrics = [\"accuracy\"]\n",
        ")\n",
        "\n",
        "# Fit the model\n",
        "history_model_USE_fine_tune = model_USE_fine_tune.fit(\n",
        "    x = train_sentences,\n",
        "    y = train_labels,\n",
        "    epochs = 5,\n",
        "    validation_data = (val_sentences, val_labels),\n",
        "    callbacks = [create_tensorboard_callback(SAVE_DIR, \"model_USE_fine_tune\")]\n",
        ")"
      ]
    },
    {
      "cell_type": "code",
      "execution_count": 18,
      "metadata": {
        "id": "H6ATNdEReyMj"
      },
      "outputs": [],
      "source": [
        "model_USE_fine_tune_preds = tf.squeeze(tf.round(model_USE_fine_tune.predict(val_sentences)))"
      ]
    },
    {
      "cell_type": "code",
      "execution_count": 19,
      "metadata": {
        "colab": {
          "base_uri": "https://localhost:8080/"
        },
        "id": "2kH3FGdMdcQ-",
        "outputId": "184e332a-e6df-4b63-8065-80a581e72dc8"
      },
      "outputs": [
        {
          "data": {
            "text/plain": [
              "{'accuracy': 74.67191601049869,\n",
              " 'f1': 0.7457015892930551,\n",
              " 'precision': 0.7772931068180235,\n",
              " 'recall': 0.7467191601049868}"
            ]
          },
          "execution_count": 19,
          "metadata": {},
          "output_type": "execute_result"
        }
      ],
      "source": [
        "model_USE_fine_tune_results = calculate_results(val_labels, model_USE_fine_tune_preds)\n",
        "model_USE_fine_tune_results"
      ]
    },
    {
      "cell_type": "code",
      "execution_count": 20,
      "metadata": {
        "colab": {
          "base_uri": "https://localhost:8080/",
          "height": 574
        },
        "id": "FKewgdT_dcQ-",
        "outputId": "ae30657d-9744-4c2d-e0b9-a71c06370a54"
      },
      "outputs": [
        {
          "data": {
            "image/png": "[encoded data removed]",
            "text/plain": [
              "<Figure size 720x720 with 2 Axes>"
            ]
          },
          "metadata": {
            "needs_background": "light"
          },
          "output_type": "display_data"
        }
      ],
      "source": [
        "make_confusion_matrix(val_labels, model_USE_fine_tune_preds)"
      ]
    },
    {
      "cell_type": "markdown",
      "metadata": {
        "id": "SIMr4ZM-facQ"
      },
      "source": [
        "This is overfitting. Let's have another go."
      ]
    },
    {
      "cell_type": "code",
      "execution_count": 24,
      "metadata": {
        "colab": {
          "base_uri": "https://localhost:8080/"
        },
        "id": "a4oA4zypfgoE",
        "outputId": "ab2744f0-69a6-41b8-ad0c-fbc13151415f"
      },
      "outputs": [
        {
          "name": "stdout",
          "output_type": "stream",
          "text": [
            "Model: \"USE_fine_tune\"\n",
            "_________________________________________________________________\n",
            " Layer (type)                Output Shape              Param #   \n",
            "=================================================================\n",
            " USE (KerasLayer)            (None, 512)               256797824 \n",
            "                                                                 \n",
            " prefinal_dense_layer (Dense  (None, 128)              65664     \n",
            " )                                                               \n",
            "                                                                 \n",
            " output_layer (Dense)        (None, 1)                 129       \n",
            "                                                                 \n",
            "=================================================================\n",
            "Total params: 256,863,617\n",
            "Trainable params: 256,863,617\n",
            "Non-trainable params: 0\n",
            "_________________________________________________________________\n"
          ]
        }
      ],
      "source": [
        "sentence_encoder_layer = hub.KerasLayer('https://tfhub.dev/google/universal-sentence-encoder/4', trainable = True, input_shape = (), dtype = tf.string, name = \"USE\")\n",
        "\n",
        "model_USE_fine_tune_mod = tf.keras.Sequential(\n",
        "    [\n",
        "        sentence_encoder_layer,\n",
        "        tf.keras.layers.Dense(128, activation = \"relu\", name = \"prefinal_dense_layer\"),\n",
        "        tf.keras.layers.Dense(1, activation = \"sigmoid\", name = \"output_layer\")\n",
        "    ], name = \"USE_fine_tune\"\n",
        ")\n",
        "\n",
        "model_USE_fine_tune_mod.summary()"
      ]
    },
    {
      "cell_type": "code",
      "execution_count": 25,
      "metadata": {
        "colab": {
          "base_uri": "https://localhost:8080/"
        },
        "id": "-ofz2axbfzaj",
        "outputId": "3a98ce8b-27e6-45c8-89c7-fca3089203c2"
      },
      "outputs": [
        {
          "name": "stdout",
          "output_type": "stream",
          "text": [
            "Saving TensorBoard log files to: /content/drive/MyDrive/TensorFlow Developer Certification/TensorBoard/NLP/model_USE_fine_tune/20220715-061609\n",
            "Epoch 1/5\n",
            "215/215 [==============================] - 42s 164ms/step - loss: 0.4444 - accuracy: 0.7989 - val_loss: 0.4239 - val_accuracy: 0.8268\n",
            "Epoch 2/5\n",
            "215/215 [==============================] - 34s 157ms/step - loss: 0.2309 - accuracy: 0.9091 - val_loss: 0.4409 - val_accuracy: 0.8097\n",
            "Epoch 3/5\n",
            "215/215 [==============================] - 34s 156ms/step - loss: 0.0800 - accuracy: 0.9734 - val_loss: 0.5561 - val_accuracy: 0.7822\n",
            "Epoch 4/5\n",
            "215/215 [==============================] - 33s 153ms/step - loss: 0.0446 - accuracy: 0.9853 - val_loss: 0.6005 - val_accuracy: 0.8176\n",
            "Epoch 5/5\n",
            "215/215 [==============================] - 33s 153ms/step - loss: 0.0273 - accuracy: 0.9898 - val_loss: 0.6415 - val_accuracy: 0.7769\n"
          ]
        }
      ],
      "source": [
        "# Compile the model\n",
        "model_USE_fine_tune_mod.compile(\n",
        "    loss = tf.keras.losses.BinaryCrossentropy(),\n",
        "    optimizer = tf.keras.optimizers.Adam(),\n",
        "    metrics = [\"accuracy\"]\n",
        ")\n",
        "\n",
        "# Fit the model\n",
        "history_model_USE_fine_tune_mod = model_USE_fine_tune_mod.fit(\n",
        "    x = train_sentences,\n",
        "    y = train_labels,\n",
        "    epochs = 5,\n",
        "    validation_data = (val_sentences, val_labels),\n",
        "    callbacks = [create_tensorboard_callback(SAVE_DIR, \"model_USE_fine_tune\")]\n",
        ")"
      ]
    },
    {
      "cell_type": "code",
      "execution_count": 26,
      "metadata": {
        "id": "tXlkvutlgE3O"
      },
      "outputs": [],
      "source": [
        "model_USE_fine_tune_mod_preds = tf.squeeze(tf.round(model_USE_fine_tune_mod.predict(val_sentences)))"
      ]
    },
    {
      "cell_type": "code",
      "execution_count": 27,
      "metadata": {
        "colab": {
          "base_uri": "https://localhost:8080/"
        },
        "id": "H6krLHsqgIOo",
        "outputId": "e509b4cf-6eea-4874-d754-292964df55eb"
      },
      "outputs": [
        {
          "data": {
            "text/plain": [
              "{'accuracy': 77.69028871391076,\n",
              " 'f1': 0.7761406445516676,\n",
              " 'precision': 0.7762584304702861,\n",
              " 'recall': 0.7769028871391076}"
            ]
          },
          "execution_count": 27,
          "metadata": {},
          "output_type": "execute_result"
        }
      ],
      "source": [
        "model_USE_fine_tune_mod_results = calculate_results(val_labels, model_USE_fine_tune_mod_preds)\n",
        "model_USE_fine_tune_mod_results"
      ]
    },
    {
      "cell_type": "code",
      "execution_count": 28,
      "metadata": {
        "colab": {
          "base_uri": "https://localhost:8080/",
          "height": 578
        },
        "id": "Mt5Z5sF6gTyQ",
        "outputId": "393ea43a-7f7f-4375-89f2-86171204f235"
      },
      "outputs": [
        {
          "data": {
            "image/png": "[encoded data removed]",
            "text/plain": [
              "<Figure size 720x720 with 2 Axes>"
            ]
          },
          "metadata": {
            "needs_background": "light"
          },
          "output_type": "display_data"
        }
      ],
      "source": [
        "make_confusion_matrix(val_labels, model_USE_fine_tune_mod_preds)"
      ]
    },
    {
      "cell_type": "markdown",
      "metadata": {},
      "source": [
        "Its still overfitting so I guess the model is too big for the kind and amount of data we have."
      ]
    }
  ],
  "metadata": {
    "accelerator": "GPU",
    "colab": {
      "collapsed_sections": [],
      "name": "08_Introduction_to_NLP_in_TensorFlow_Exercises.ipynb",
      "provenance": []
    },
    "gpuClass": "standard",
    "kernelspec": {
      "display_name": "Python 3.10.5 64-bit",
      "language": "python",
      "name": "python3"
    },
    "language_info": {
      "codemirror_mode": {
        "name": "ipython",
        "version": 3
      },
      "file_extension": ".py",
      "mimetype": "text/x-python",
      "name": "python",
      "nbconvert_exporter": "python",
      "pygments_lexer": "ipython3",
      "version": "3.10.5"
    },
    "orig_nbformat": 4,
    "vscode": {
      "interpreter": {
        "hash": "98ba7f9ca0a7d3f9faf83a09faac2df1e0ca0e1c9a5db868ca666908d95c6454"
      }
    }
  },
  "nbformat": 4,
  "nbformat_minor": 0
}
