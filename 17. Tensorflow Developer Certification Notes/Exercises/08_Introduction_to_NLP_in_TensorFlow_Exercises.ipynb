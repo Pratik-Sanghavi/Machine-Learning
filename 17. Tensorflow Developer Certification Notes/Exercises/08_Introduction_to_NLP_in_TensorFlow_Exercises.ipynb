{
 "cells": [
  {
   "cell_type": "markdown",
   "metadata": {},
   "source": [
    "# 8. Introduction to NLP (Natural Language Processing) in TensorFlow Exercises"
   ]
  },
  {
   "cell_type": "code",
   "execution_count": 1,
   "metadata": {},
   "outputs": [],
   "source": [
    "import numpy as np\n",
    "import pandas as pd\n",
    "import matplotlib.pyplot as plt\n",
    "import os\n",
    "import tensorflow as tf\n",
    "\n",
    "%matplotlib inline"
   ]
  },
  {
   "cell_type": "code",
   "execution_count": 2,
   "metadata": {},
   "outputs": [
    {
     "name": "stdout",
     "output_type": "stream",
     "text": [
      "Fri Jul 15 00:30:07 2022       \n",
      "+-----------------------------------------------------------------------------+\n",
      "| NVIDIA-SMI 516.59       Driver Version: 516.59       CUDA Version: 11.7     |\n",
      "|-------------------------------+----------------------+----------------------+\n",
      "| GPU  Name            TCC/WDDM | Bus-Id        Disp.A | Volatile Uncorr. ECC |\n",
      "| Fan  Temp  Perf  Pwr:Usage/Cap|         Memory-Usage | GPU-Util  Compute M. |\n",
      "|                               |                      |               MIG M. |\n",
      "|===============================+======================+======================|\n",
      "|   0  NVIDIA GeForce ... WDDM  | 00000000:01:00.0  On |                  N/A |\n",
      "| N/A   47C    P8     5W /  N/A |     76MiB /  6144MiB |      8%      Default |\n",
      "|                               |                      |                  N/A |\n",
      "+-------------------------------+----------------------+----------------------+\n",
      "                                                                               \n",
      "+-----------------------------------------------------------------------------+\n",
      "| Processes:                                                                  |\n",
      "|  GPU   GI   CI        PID   Type   Process name                  GPU Memory |\n",
      "|        ID   ID                                                   Usage      |\n",
      "|=============================================================================|\n",
      "|    0   N/A  N/A      6828    C+G   ...erver\\YourPhoneServer.exe    N/A      |\n",
      "|    0   N/A  N/A     11908    C+G   ...e\\Current\\LogiOverlay.exe    N/A      |\n",
      "|    0   N/A  N/A     24388    C+G   ...mmandCenterBackground.exe    N/A      |\n",
      "+-----------------------------------------------------------------------------+\n"
     ]
    }
   ],
   "source": [
    "!nvidia-smi"
   ]
  },
  {
   "cell_type": "code",
   "execution_count": 4,
   "metadata": {},
   "outputs": [],
   "source": [
    "# Read in the data\n",
    "train_df = pd.read_csv('../Data/NLP/train.csv')\n",
    "test_df = pd.read_csv('../Data/NLP/test.csv')"
   ]
  },
  {
   "cell_type": "code",
   "execution_count": 5,
   "metadata": {},
   "outputs": [
    {
     "data": {
      "text/html": [
       "<div>\n",
       "<style scoped>\n",
       "    .dataframe tbody tr th:only-of-type {\n",
       "        vertical-align: middle;\n",
       "    }\n",
       "\n",
       "    .dataframe tbody tr th {\n",
       "        vertical-align: top;\n",
       "    }\n",
       "\n",
       "    .dataframe thead th {\n",
       "        text-align: right;\n",
       "    }\n",
       "</style>\n",
       "<table border=\"1\" class=\"dataframe\">\n",
       "  <thead>\n",
       "    <tr style=\"text-align: right;\">\n",
       "      <th></th>\n",
       "      <th>id</th>\n",
       "      <th>keyword</th>\n",
       "      <th>location</th>\n",
       "      <th>text</th>\n",
       "      <th>target</th>\n",
       "    </tr>\n",
       "  </thead>\n",
       "  <tbody>\n",
       "    <tr>\n",
       "      <th>0</th>\n",
       "      <td>1</td>\n",
       "      <td>NaN</td>\n",
       "      <td>NaN</td>\n",
       "      <td>Our Deeds are the Reason of this #earthquake M...</td>\n",
       "      <td>1</td>\n",
       "    </tr>\n",
       "    <tr>\n",
       "      <th>1</th>\n",
       "      <td>4</td>\n",
       "      <td>NaN</td>\n",
       "      <td>NaN</td>\n",
       "      <td>Forest fire near La Ronge Sask. Canada</td>\n",
       "      <td>1</td>\n",
       "    </tr>\n",
       "    <tr>\n",
       "      <th>2</th>\n",
       "      <td>5</td>\n",
       "      <td>NaN</td>\n",
       "      <td>NaN</td>\n",
       "      <td>All residents asked to 'shelter in place' are ...</td>\n",
       "      <td>1</td>\n",
       "    </tr>\n",
       "    <tr>\n",
       "      <th>3</th>\n",
       "      <td>6</td>\n",
       "      <td>NaN</td>\n",
       "      <td>NaN</td>\n",
       "      <td>13,000 people receive #wildfires evacuation or...</td>\n",
       "      <td>1</td>\n",
       "    </tr>\n",
       "    <tr>\n",
       "      <th>4</th>\n",
       "      <td>7</td>\n",
       "      <td>NaN</td>\n",
       "      <td>NaN</td>\n",
       "      <td>Just got sent this photo from Ruby #Alaska as ...</td>\n",
       "      <td>1</td>\n",
       "    </tr>\n",
       "  </tbody>\n",
       "</table>\n",
       "</div>"
      ],
      "text/plain": [
       "   id keyword location                                               text  \\\n",
       "0   1     NaN      NaN  Our Deeds are the Reason of this #earthquake M...   \n",
       "1   4     NaN      NaN             Forest fire near La Ronge Sask. Canada   \n",
       "2   5     NaN      NaN  All residents asked to 'shelter in place' are ...   \n",
       "3   6     NaN      NaN  13,000 people receive #wildfires evacuation or...   \n",
       "4   7     NaN      NaN  Just got sent this photo from Ruby #Alaska as ...   \n",
       "\n",
       "   target  \n",
       "0       1  \n",
       "1       1  \n",
       "2       1  \n",
       "3       1  \n",
       "4       1  "
      ]
     },
     "execution_count": 5,
     "metadata": {},
     "output_type": "execute_result"
    }
   ],
   "source": [
    "train_df.head()"
   ]
  },
  {
   "cell_type": "code",
   "execution_count": 6,
   "metadata": {},
   "outputs": [],
   "source": [
    "from sklearn.model_selection import train_test_split\n",
    "\n",
    "train_sentences, val_sentences, train_labels, val_labels = train_test_split(train_df['text'].to_numpy(), train_df['target'].to_numpy(), test_size=0.1, random_state = 42)"
   ]
  },
  {
   "cell_type": "code",
   "execution_count": 8,
   "metadata": {},
   "outputs": [
    {
     "data": {
      "text/plain": [
       "0    0.571595\n",
       "1    0.428405\n",
       "dtype: float64"
      ]
     },
     "execution_count": 8,
     "metadata": {},
     "output_type": "execute_result"
    }
   ],
   "source": [
    "pd.Series(train_labels).value_counts()/pd.Series(train_labels).value_counts().sum()"
   ]
  },
  {
   "cell_type": "code",
   "execution_count": 9,
   "metadata": {},
   "outputs": [
    {
     "data": {
      "text/plain": [
       "0    0.57034\n",
       "1    0.42966\n",
       "Name: target, dtype: float64"
      ]
     },
     "execution_count": 9,
     "metadata": {},
     "output_type": "execute_result"
    }
   ],
   "source": [
    "train_df.target.value_counts()/train_df.target.value_counts().sum()"
   ]
  },
  {
   "cell_type": "markdown",
   "metadata": {},
   "source": [
    "Great! The distribution is virtually the same which means we can proceed towards the training."
   ]
  },
  {
   "cell_type": "code",
   "execution_count": 12,
   "metadata": {},
   "outputs": [],
   "source": [
    "from extras.helper_functions import create_tensorboard_callback, plot_loss_curves, compare_historys, make_confusion_matrix, calculate_results, unzip_data"
   ]
  },
  {
   "cell_type": "markdown",
   "metadata": {},
   "source": [
    "### 1. Rebuild, compile and train model_1, model_2 and model_5 using the Keras Sequential API instead of the Functional API."
   ]
  },
  {
   "cell_type": "code",
   "execution_count": 16,
   "metadata": {},
   "outputs": [],
   "source": [
    "MAX_TOKENS = 10000\n",
    "LENGTH_OF_SEQUENCE = 15\n",
    "\n",
    "text_vectorizer = tf.keras.layers.TextVectorization(max_tokens = MAX_TOKENS, output_sequence_length = LENGTH_OF_SEQUENCE, pad_to_max_tokens = True, name = \"text_vectorisation_layer\")\n",
    "text_vectorizer.adapt(train_sentences)\n",
    "\n",
    "model_1 = tf.keras.Sequential(\n",
    "    [\n",
    "        text_vectorizer,\n",
    "        tf.keras.layers.Embedding(input_dim = MAX_TOKENS, output_dim = 128, input_length = LENGTH_OF_SEQUENCE, name = \"embedding_layer\"),\n",
    "        tf.keras.layers.GlobalMaxPool1D(name = \"global_max_pooling_layer\"),\n",
    "        tf.keras.layers.Dense(1, activation = \"sigmoid\", name = \"output_layer\")\n",
    "    ], name = \"model_1_sequential\"\n",
    ")"
   ]
  },
  {
   "cell_type": "code",
   "execution_count": 17,
   "metadata": {},
   "outputs": [
    {
     "name": "stdout",
     "output_type": "stream",
     "text": [
      "Model: \"model_1_sequential\"\n",
      "_________________________________________________________________\n",
      " Layer (type)                Output Shape              Param #   \n",
      "=================================================================\n",
      " text_vectorisation_layer (T  (None, 15)               0         \n",
      " extVectorization)                                               \n",
      "                                                                 \n",
      " embedding_layer (Embedding)  (None, 15, 128)          1280000   \n",
      "                                                                 \n",
      " global_max_pooling_layer (G  (None, 128)              0         \n",
      " lobalMaxPooling1D)                                              \n",
      "                                                                 \n",
      " output_layer (Dense)        (None, 1)                 129       \n",
      "                                                                 \n",
      "=================================================================\n",
      "Total params: 1,280,129\n",
      "Trainable params: 1,280,129\n",
      "Non-trainable params: 0\n",
      "_________________________________________________________________\n"
     ]
    }
   ],
   "source": [
    "model_1.summary()"
   ]
  },
  {
   "cell_type": "code",
   "execution_count": 18,
   "metadata": {},
   "outputs": [],
   "source": [
    "SAVE_DIR = \"TensorBoard/NLP\""
   ]
  },
  {
   "cell_type": "code",
   "execution_count": 19,
   "metadata": {},
   "outputs": [
    {
     "name": "stdout",
     "output_type": "stream",
     "text": [
      "Saving TensorBoard log files to: TensorBoard/NLP/model_1_dense_sequential/20220715-010544\n",
      "Epoch 1/5\n",
      "215/215 [==============================] - 4s 11ms/step - loss: 0.6378 - accuracy: 0.6627 - val_loss: 0.5756 - val_accuracy: 0.7756\n",
      "Epoch 2/5\n",
      "215/215 [==============================] - 2s 8ms/step - loss: 0.4699 - accuracy: 0.8260 - val_loss: 0.4855 - val_accuracy: 0.7808\n",
      "Epoch 3/5\n",
      "215/215 [==============================] - 2s 9ms/step - loss: 0.3406 - accuracy: 0.8755 - val_loss: 0.4739 - val_accuracy: 0.7992\n",
      "Epoch 4/5\n",
      "215/215 [==============================] - 2s 9ms/step - loss: 0.2579 - accuracy: 0.9075 - val_loss: 0.4827 - val_accuracy: 0.7940\n",
      "Epoch 5/5\n",
      "215/215 [==============================] - 2s 8ms/step - loss: 0.1976 - accuracy: 0.9323 - val_loss: 0.4996 - val_accuracy: 0.7953\n"
     ]
    }
   ],
   "source": [
    "# Compile the model\n",
    "model_1.compile(\n",
    "    loss = tf.keras.losses.BinaryCrossentropy(),\n",
    "    optimizer = tf.keras.optimizers.Adam(),\n",
    "    metrics = [\"accuracy\"]\n",
    ")\n",
    "\n",
    "# Fit the model\n",
    "history_model_1 = model_1.fit(\n",
    "    x = train_sentences,\n",
    "    y = train_labels,\n",
    "    epochs = 5,\n",
    "    validation_data = (val_sentences, val_labels),\n",
    "    callbacks = [create_tensorboard_callback(SAVE_DIR, \"model_1_dense_sequential\")]\n",
    ")"
   ]
  },
  {
   "cell_type": "code",
   "execution_count": 20,
   "metadata": {},
   "outputs": [
    {
     "name": "stdout",
     "output_type": "stream",
     "text": [
      "24/24 [==============================] - 0s 7ms/step\n"
     ]
    },
    {
     "data": {
      "text/plain": [
       "{'accuracy': 79.52755905511812,\n",
       " 'precision': 0.7960291067316854,\n",
       " 'recall': 0.7952755905511811,\n",
       " 'f1': 0.7933872033947167}"
      ]
     },
     "execution_count": 20,
     "metadata": {},
     "output_type": "execute_result"
    }
   ],
   "source": [
    "model_1_results = calculate_results(val_labels, tf.squeeze(tf.round(model_1.predict(val_sentences))))\n",
    "model_1_results"
   ]
  },
  {
   "cell_type": "markdown",
   "metadata": {},
   "source": [
    "And that sorts out model_1."
   ]
  },
  {
   "cell_type": "code",
   "execution_count": 21,
   "metadata": {},
   "outputs": [
    {
     "name": "stdout",
     "output_type": "stream",
     "text": [
      "Model: \"model_2\"\n",
      "_________________________________________________________________\n",
      " Layer (type)                Output Shape              Param #   \n",
      "=================================================================\n",
      " text_vectorisation_layer (T  (None, 15)               0         \n",
      " extVectorization)                                               \n",
      "                                                                 \n",
      " embedding_layer (Embedding)  (None, 15, 128)          1280000   \n",
      "                                                                 \n",
      " lstm (LSTM)                 (None, 64)                49408     \n",
      "                                                                 \n",
      " output_layer (Dense)        (None, 1)                 65        \n",
      "                                                                 \n",
      "=================================================================\n",
      "Total params: 1,329,473\n",
      "Trainable params: 1,329,473\n",
      "Non-trainable params: 0\n",
      "_________________________________________________________________\n"
     ]
    }
   ],
   "source": [
    "model_2 = tf.keras.Sequential(\n",
    "    [\n",
    "        text_vectorizer,\n",
    "        tf.keras.layers.Embedding(input_dim = MAX_TOKENS, output_dim = 128, input_length = LENGTH_OF_SEQUENCE, name = \"embedding_layer\"),\n",
    "        tf.keras.layers.LSTM(64),\n",
    "        tf.keras.layers.Dense(1, activation = \"sigmoid\", name = \"output_layer\")\n",
    "    ], name = \"model_2\"\n",
    ")\n",
    "\n",
    "model_2.summary()"
   ]
  },
  {
   "cell_type": "code",
   "execution_count": 22,
   "metadata": {},
   "outputs": [
    {
     "name": "stdout",
     "output_type": "stream",
     "text": [
      "Saving TensorBoard log files to: TensorBoard/NLP/model_2_lstm_sequential/20220715-011530\n",
      "Epoch 1/5\n",
      "215/215 [==============================] - 19s 13ms/step - loss: 0.5103 - accuracy: 0.7460 - val_loss: 0.4697 - val_accuracy: 0.7900\n",
      "Epoch 2/5\n",
      "215/215 [==============================] - 3s 12ms/step - loss: 0.3078 - accuracy: 0.8707 - val_loss: 0.4919 - val_accuracy: 0.7730\n",
      "Epoch 3/5\n",
      "215/215 [==============================] - 3s 12ms/step - loss: 0.2094 - accuracy: 0.9216 - val_loss: 0.6366 - val_accuracy: 0.7336\n",
      "Epoch 4/5\n",
      "215/215 [==============================] - 2s 11ms/step - loss: 0.1423 - accuracy: 0.9482 - val_loss: 0.8412 - val_accuracy: 0.7507\n",
      "Epoch 5/5\n",
      "215/215 [==============================] - 2s 11ms/step - loss: 0.0995 - accuracy: 0.9609 - val_loss: 0.8809 - val_accuracy: 0.7428\n"
     ]
    }
   ],
   "source": [
    "# Compile the model\n",
    "model_2.compile(\n",
    "    loss = tf.keras.losses.BinaryCrossentropy(),\n",
    "    optimizer = tf.keras.optimizers.Adam(),\n",
    "    metrics = [\"accuracy\"]\n",
    ")\n",
    "\n",
    "# Fit the model\n",
    "history_model_2 = model_2.fit(\n",
    "    x = train_sentences,\n",
    "    y = train_labels,\n",
    "    epochs = 5,\n",
    "    validation_data = (val_sentences, val_labels),\n",
    "    callbacks = [create_tensorboard_callback(SAVE_DIR, \"model_2_lstm_sequential\")]\n",
    ")"
   ]
  },
  {
   "cell_type": "code",
   "execution_count": 23,
   "metadata": {},
   "outputs": [
    {
     "name": "stdout",
     "output_type": "stream",
     "text": [
      "24/24 [==============================] - 1s 14ms/step\n"
     ]
    },
    {
     "data": {
      "text/plain": [
       "{'accuracy': 74.2782152230971,\n",
       " 'precision': 0.7418286470789891,\n",
       " 'recall': 0.7427821522309711,\n",
       " 'f1': 0.7417868391767628}"
      ]
     },
     "execution_count": 23,
     "metadata": {},
     "output_type": "execute_result"
    }
   ],
   "source": [
    "model_2_results = calculate_results(val_labels, tf.squeeze(tf.round(model_2.predict(val_sentences))))\n",
    "model_2_results"
   ]
  },
  {
   "cell_type": "markdown",
   "metadata": {},
   "source": [
    "Okay. This seems to have worsened performance!"
   ]
  },
  {
   "cell_type": "code",
   "execution_count": 32,
   "metadata": {},
   "outputs": [
    {
     "name": "stdout",
     "output_type": "stream",
     "text": [
      "Model: \"model_5\"\n",
      "_________________________________________________________________\n",
      " Layer (type)                Output Shape              Param #   \n",
      "=================================================================\n",
      " text_vectorisation_layer (T  (None, 15)               0         \n",
      " extVectorization)                                               \n",
      "                                                                 \n",
      " embedding_layer (Embedding)  (None, 15, 128)          1280000   \n",
      "                                                                 \n",
      " conv_layer (Conv1D)         (None, 11, 64)            41024     \n",
      "                                                                 \n",
      " max_pooling_1d_layer (Globa  (None, 64)               0         \n",
      " lMaxPooling1D)                                                  \n",
      "                                                                 \n",
      " output_layer (Dense)        (None, 1)                 65        \n",
      "                                                                 \n",
      "=================================================================\n",
      "Total params: 1,321,089\n",
      "Trainable params: 1,321,089\n",
      "Non-trainable params: 0\n",
      "_________________________________________________________________\n"
     ]
    }
   ],
   "source": [
    "model_5 = tf.keras.Sequential(\n",
    "    [\n",
    "        tf.keras.layers.Input(shape = (1,), dtype = tf.string, name = \"input_layer\"),\n",
    "        text_vectorizer,\n",
    "        tf.keras.layers.Embedding(input_dim = MAX_TOKENS, output_dim = 128, input_length = LENGTH_OF_SEQUENCE, name = \"embedding_layer\"),\n",
    "        tf.keras.layers.Conv1D(64, 5, padding = \"valid\", activation = \"relu\", name = \"conv_layer\"),\n",
    "        tf.keras.layers.GlobalMaxPool1D(name = \"max_pooling_1d_layer\"),\n",
    "        tf.keras.layers.Dense(1, activation = \"sigmoid\", name = \"output_layer\")\n",
    "    ], name = \"model_5\"\n",
    ")\n",
    "\n",
    "model_5.summary()"
   ]
  },
  {
   "cell_type": "code",
   "execution_count": 33,
   "metadata": {},
   "outputs": [
    {
     "name": "stdout",
     "output_type": "stream",
     "text": [
      "Saving TensorBoard log files to: TensorBoard/NLP/model_5_conv1d_sequential/20220715-013201\n",
      "Epoch 1/5\n",
      "215/215 [==============================] - 3s 11ms/step - loss: 0.5515 - accuracy: 0.7167 - val_loss: 0.4801 - val_accuracy: 0.7717\n",
      "Epoch 2/5\n",
      "215/215 [==============================] - 2s 10ms/step - loss: 0.3286 - accuracy: 0.8643 - val_loss: 0.5201 - val_accuracy: 0.7835\n",
      "Epoch 3/5\n",
      "215/215 [==============================] - 2s 10ms/step - loss: 0.2020 - accuracy: 0.9283 - val_loss: 0.6178 - val_accuracy: 0.7638\n",
      "Epoch 4/5\n",
      "215/215 [==============================] - 2s 10ms/step - loss: 0.1274 - accuracy: 0.9575 - val_loss: 0.6954 - val_accuracy: 0.7730\n",
      "Epoch 5/5\n",
      "215/215 [==============================] - 2s 9ms/step - loss: 0.0941 - accuracy: 0.9696 - val_loss: 0.7473 - val_accuracy: 0.7546\n"
     ]
    }
   ],
   "source": [
    "# Compile the model\n",
    "model_5.compile(\n",
    "    loss = tf.keras.losses.BinaryCrossentropy(),\n",
    "    optimizer = tf.keras.optimizers.Adam(),\n",
    "    metrics = [\"accuracy\"]\n",
    ")\n",
    "\n",
    "# Fit the model\n",
    "history_model_5 = model_5.fit(\n",
    "    x = train_sentences,\n",
    "    y = train_labels,\n",
    "    epochs = 5,\n",
    "    validation_data = (val_sentences, val_labels),\n",
    "    callbacks = [create_tensorboard_callback(SAVE_DIR, \"model_5_conv1d_sequential\")]\n",
    ")"
   ]
  },
  {
   "cell_type": "code",
   "execution_count": 34,
   "metadata": {},
   "outputs": [
    {
     "name": "stdout",
     "output_type": "stream",
     "text": [
      "24/24 [==============================] - 0s 3ms/step\n"
     ]
    },
    {
     "data": {
      "text/plain": [
       "{'accuracy': 75.45931758530183,\n",
       " 'precision': 0.7542507437514857,\n",
       " 'recall': 0.7545931758530183,\n",
       " 'f1': 0.7543892493889404}"
      ]
     },
     "execution_count": 34,
     "metadata": {},
     "output_type": "execute_result"
    }
   ],
   "source": [
    "model_5_preds = tf.squeeze(tf.round(model_5.predict(val_sentences)))\n",
    "model_5_results = calculate_results(val_labels, model_5_preds)\n",
    "model_5_results"
   ]
  },
  {
   "cell_type": "code",
   "execution_count": 35,
   "metadata": {},
   "outputs": [
    {
     "data": {
      "image/png": "[encoded data removed]",
      "text/plain": [
       "<Figure size 720x720 with 2 Axes>"
      ]
     },
     "metadata": {
      "needs_background": "light"
     },
     "output_type": "display_data"
    }
   ],
   "source": [
    "make_confusion_matrix(val_labels, model_5_preds)"
   ]
  }
 ],
 "metadata": {
  "kernelspec": {
   "display_name": "Python 3.10.5 64-bit",
   "language": "python",
   "name": "python3"
  },
  "language_info": {
   "codemirror_mode": {
    "name": "ipython",
    "version": 3
   },
   "file_extension": ".py",
   "mimetype": "text/x-python",
   "name": "python",
   "nbconvert_exporter": "python",
   "pygments_lexer": "ipython3",
   "version": "3.10.5"
  },
  "orig_nbformat": 4,
  "vscode": {
   "interpreter": {
    "hash": "98ba7f9ca0a7d3f9faf83a09faac2df1e0ca0e1c9a5db868ca666908d95c6454"
   }
  }
 },
 "nbformat": 4,
 "nbformat_minor": 2
}
