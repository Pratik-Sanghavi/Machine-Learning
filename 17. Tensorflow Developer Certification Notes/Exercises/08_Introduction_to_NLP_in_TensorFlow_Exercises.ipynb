{
  "cells": [
    {
      "cell_type": "markdown",
      "metadata": {
        "id": "UCuLRD-adcQv"
      },
      "source": [
        "# 8. Introduction to NLP (Natural Language Processing) in TensorFlow Exercises"
      ]
    },
    {
      "cell_type": "code",
      "execution_count": 1,
      "metadata": {
        "id": "5IaXcKASdcQy"
      },
      "outputs": [],
      "source": [
        "import numpy as np\n",
        "import pandas as pd\n",
        "import matplotlib.pyplot as plt\n",
        "import os\n",
        "import tensorflow as tf\n",
        "\n",
        "%matplotlib inline"
      ]
    },
    {
      "cell_type": "code",
      "execution_count": 2,
      "metadata": {
        "colab": {
          "base_uri": "https://localhost:8080/"
        },
        "id": "nUzW6X04dcQz",
        "outputId": "b0318985-ae7c-417d-d784-d8dde00a8cc7"
      },
      "outputs": [
        {
          "output_type": "stream",
          "name": "stdout",
          "text": [
            "Fri Jul 15 10:45:25 2022       \n",
            "+-----------------------------------------------------------------------------+\n",
            "| NVIDIA-SMI 460.32.03    Driver Version: 460.32.03    CUDA Version: 11.2     |\n",
            "|-------------------------------+----------------------+----------------------+\n",
            "| GPU  Name        Persistence-M| Bus-Id        Disp.A | Volatile Uncorr. ECC |\n",
            "| Fan  Temp  Perf  Pwr:Usage/Cap|         Memory-Usage | GPU-Util  Compute M. |\n",
            "|                               |                      |               MIG M. |\n",
            "|===============================+======================+======================|\n",
            "|   0  Tesla T4            Off  | 00000000:00:04.0 Off |                    0 |\n",
            "| N/A   69C    P8    11W /  70W |      0MiB / 15109MiB |      0%      Default |\n",
            "|                               |                      |                  N/A |\n",
            "+-------------------------------+----------------------+----------------------+\n",
            "                                                                               \n",
            "+-----------------------------------------------------------------------------+\n",
            "| Processes:                                                                  |\n",
            "|  GPU   GI   CI        PID   Type   Process name                  GPU Memory |\n",
            "|        ID   ID                                                   Usage      |\n",
            "|=============================================================================|\n",
            "|  No running processes found                                                 |\n",
            "+-----------------------------------------------------------------------------+\n"
          ]
        }
      ],
      "source": [
        "!nvidia-smi"
      ]
    },
    {
      "cell_type": "code",
      "execution_count": 3,
      "metadata": {
        "colab": {
          "base_uri": "https://localhost:8080/"
        },
        "id": "_M3jdv34dmzz",
        "outputId": "d8c60942-3910-4c35-dfb3-3a39b4707c8b"
      },
      "outputs": [
        {
          "output_type": "stream",
          "name": "stdout",
          "text": [
            "Drive already mounted at /content/drive; to attempt to forcibly remount, call drive.mount(\"/content/drive\", force_remount=True).\n"
          ]
        }
      ],
      "source": [
        "from google.colab import drive\n",
        "drive.mount('/content/drive')"
      ]
    },
    {
      "cell_type": "code",
      "execution_count": 4,
      "metadata": {
        "id": "QyOWgj8ldt2_"
      },
      "outputs": [],
      "source": [
        "BASE_DIR = \"/content/drive/MyDrive/TensorFlow Developer Certification\""
      ]
    },
    {
      "cell_type": "code",
      "execution_count": 5,
      "metadata": {
        "id": "HLNI21HMdcQ0"
      },
      "outputs": [],
      "source": [
        "# Read in the data\n",
        "train_df = pd.read_csv(f'{BASE_DIR}/Data/NLP/train.csv')\n",
        "test_df = pd.read_csv(f'{BASE_DIR}/Data/NLP/test.csv')"
      ]
    },
    {
      "cell_type": "code",
      "execution_count": 6,
      "metadata": {
        "colab": {
          "base_uri": "https://localhost:8080/",
          "height": 206
        },
        "id": "4-hAtyNIdcQ1",
        "outputId": "7214bea0-239b-48ad-ae0a-e468eb3d588b"
      },
      "outputs": [
        {
          "output_type": "execute_result",
          "data": {
            "text/plain": [
              "   id keyword location                                               text  \\\n",
              "0   1     NaN      NaN  Our Deeds are the Reason of this #earthquake M...   \n",
              "1   4     NaN      NaN             Forest fire near La Ronge Sask. Canada   \n",
              "2   5     NaN      NaN  All residents asked to 'shelter in place' are ...   \n",
              "3   6     NaN      NaN  13,000 people receive #wildfires evacuation or...   \n",
              "4   7     NaN      NaN  Just got sent this photo from Ruby #Alaska as ...   \n",
              "\n",
              "   target  \n",
              "0       1  \n",
              "1       1  \n",
              "2       1  \n",
              "3       1  \n",
              "4       1  "
            ],
            "text/html": [
              "\n",
              "  <div id=\"df-fc40b0c5-d6e7-43d7-b5ef-c8c06d213f24\">\n",
              "    <div class=\"colab-df-container\">\n",
              "      <div>\n",
              "<style scoped>\n",
              "    .dataframe tbody tr th:only-of-type {\n",
              "        vertical-align: middle;\n",
              "    }\n",
              "\n",
              "    .dataframe tbody tr th {\n",
              "        vertical-align: top;\n",
              "    }\n",
              "\n",
              "    .dataframe thead th {\n",
              "        text-align: right;\n",
              "    }\n",
              "</style>\n",
              "<table border=\"1\" class=\"dataframe\">\n",
              "  <thead>\n",
              "    <tr style=\"text-align: right;\">\n",
              "      <th></th>\n",
              "      <th>id</th>\n",
              "      <th>keyword</th>\n",
              "      <th>location</th>\n",
              "      <th>text</th>\n",
              "      <th>target</th>\n",
              "    </tr>\n",
              "  </thead>\n",
              "  <tbody>\n",
              "    <tr>\n",
              "      <th>0</th>\n",
              "      <td>1</td>\n",
              "      <td>NaN</td>\n",
              "      <td>NaN</td>\n",
              "      <td>Our Deeds are the Reason of this #earthquake M...</td>\n",
              "      <td>1</td>\n",
              "    </tr>\n",
              "    <tr>\n",
              "      <th>1</th>\n",
              "      <td>4</td>\n",
              "      <td>NaN</td>\n",
              "      <td>NaN</td>\n",
              "      <td>Forest fire near La Ronge Sask. Canada</td>\n",
              "      <td>1</td>\n",
              "    </tr>\n",
              "    <tr>\n",
              "      <th>2</th>\n",
              "      <td>5</td>\n",
              "      <td>NaN</td>\n",
              "      <td>NaN</td>\n",
              "      <td>All residents asked to 'shelter in place' are ...</td>\n",
              "      <td>1</td>\n",
              "    </tr>\n",
              "    <tr>\n",
              "      <th>3</th>\n",
              "      <td>6</td>\n",
              "      <td>NaN</td>\n",
              "      <td>NaN</td>\n",
              "      <td>13,000 people receive #wildfires evacuation or...</td>\n",
              "      <td>1</td>\n",
              "    </tr>\n",
              "    <tr>\n",
              "      <th>4</th>\n",
              "      <td>7</td>\n",
              "      <td>NaN</td>\n",
              "      <td>NaN</td>\n",
              "      <td>Just got sent this photo from Ruby #Alaska as ...</td>\n",
              "      <td>1</td>\n",
              "    </tr>\n",
              "  </tbody>\n",
              "</table>\n",
              "</div>\n",
              "      <button class=\"colab-df-convert\" onclick=\"convertToInteractive('df-fc40b0c5-d6e7-43d7-b5ef-c8c06d213f24')\"\n",
              "              title=\"Convert this dataframe to an interactive table.\"\n",
              "              style=\"display:none;\">\n",
              "        \n",
              "  <svg xmlns=\"http://www.w3.org/2000/svg\" height=\"24px\"viewBox=\"0 0 24 24\"\n",
              "       width=\"24px\">\n",
              "    <path d=\"M0 0h24v24H0V0z\" fill=\"none\"/>\n",
              "    <path d=\"M18.56 5.44l.94 2.06.94-2.06 2.06-.94-2.06-.94-.94-2.06-.94 2.06-2.06.94zm-11 1L8.5 8.5l.94-2.06 2.06-.94-2.06-.94L8.5 2.5l-.94 2.06-2.06.94zm10 10l.94 2.06.94-2.06 2.06-.94-2.06-.94-.94-2.06-.94 2.06-2.06.94z\"/><path d=\"M17.41 7.96l-1.37-1.37c-.4-.4-.92-.59-1.43-.59-.52 0-1.04.2-1.43.59L10.3 9.45l-7.72 7.72c-.78.78-.78 2.05 0 2.83L4 21.41c.39.39.9.59 1.41.59.51 0 1.02-.2 1.41-.59l7.78-7.78 2.81-2.81c.8-.78.8-2.07 0-2.86zM5.41 20L4 18.59l7.72-7.72 1.47 1.35L5.41 20z\"/>\n",
              "  </svg>\n",
              "      </button>\n",
              "      \n",
              "  <style>\n",
              "    .colab-df-container {\n",
              "      display:flex;\n",
              "      flex-wrap:wrap;\n",
              "      gap: 12px;\n",
              "    }\n",
              "\n",
              "    .colab-df-convert {\n",
              "      background-color: #E8F0FE;\n",
              "      border: none;\n",
              "      border-radius: 50%;\n",
              "      cursor: pointer;\n",
              "      display: none;\n",
              "      fill: #1967D2;\n",
              "      height: 32px;\n",
              "      padding: 0 0 0 0;\n",
              "      width: 32px;\n",
              "    }\n",
              "\n",
              "    .colab-df-convert:hover {\n",
              "      background-color: #E2EBFA;\n",
              "      box-shadow: 0px 1px 2px rgba(60, 64, 67, 0.3), 0px 1px 3px 1px rgba(60, 64, 67, 0.15);\n",
              "      fill: #174EA6;\n",
              "    }\n",
              "\n",
              "    [theme=dark] .colab-df-convert {\n",
              "      background-color: #3B4455;\n",
              "      fill: #D2E3FC;\n",
              "    }\n",
              "\n",
              "    [theme=dark] .colab-df-convert:hover {\n",
              "      background-color: #434B5C;\n",
              "      box-shadow: 0px 1px 3px 1px rgba(0, 0, 0, 0.15);\n",
              "      filter: drop-shadow(0px 1px 2px rgba(0, 0, 0, 0.3));\n",
              "      fill: #FFFFFF;\n",
              "    }\n",
              "  </style>\n",
              "\n",
              "      <script>\n",
              "        const buttonEl =\n",
              "          document.querySelector('#df-fc40b0c5-d6e7-43d7-b5ef-c8c06d213f24 button.colab-df-convert');\n",
              "        buttonEl.style.display =\n",
              "          google.colab.kernel.accessAllowed ? 'block' : 'none';\n",
              "\n",
              "        async function convertToInteractive(key) {\n",
              "          const element = document.querySelector('#df-fc40b0c5-d6e7-43d7-b5ef-c8c06d213f24');\n",
              "          const dataTable =\n",
              "            await google.colab.kernel.invokeFunction('convertToInteractive',\n",
              "                                                     [key], {});\n",
              "          if (!dataTable) return;\n",
              "\n",
              "          const docLinkHtml = 'Like what you see? Visit the ' +\n",
              "            '<a target=\"_blank\" href=https://colab.research.google.com/notebooks/data_table.ipynb>data table notebook</a>'\n",
              "            + ' to learn more about interactive tables.';\n",
              "          element.innerHTML = '';\n",
              "          dataTable['output_type'] = 'display_data';\n",
              "          await google.colab.output.renderOutput(dataTable, element);\n",
              "          const docLink = document.createElement('div');\n",
              "          docLink.innerHTML = docLinkHtml;\n",
              "          element.appendChild(docLink);\n",
              "        }\n",
              "      </script>\n",
              "    </div>\n",
              "  </div>\n",
              "  "
            ]
          },
          "metadata": {},
          "execution_count": 6
        }
      ],
      "source": [
        "train_df.head()"
      ]
    },
    {
      "cell_type": "code",
      "execution_count": 7,
      "metadata": {
        "id": "h146Cs68dcQ1"
      },
      "outputs": [],
      "source": [
        "from sklearn.model_selection import train_test_split\n",
        "\n",
        "train_sentences, val_sentences, train_labels, val_labels = train_test_split(train_df['text'].to_numpy(), train_df['target'].to_numpy(), test_size=0.1, random_state = 42)"
      ]
    },
    {
      "cell_type": "code",
      "execution_count": 8,
      "metadata": {
        "colab": {
          "base_uri": "https://localhost:8080/"
        },
        "id": "p8j05gP3dcQ1",
        "outputId": "96f1d547-2cac-40f6-af82-39b329c6ee59"
      },
      "outputs": [
        {
          "output_type": "execute_result",
          "data": {
            "text/plain": [
              "0    0.571595\n",
              "1    0.428405\n",
              "dtype: float64"
            ]
          },
          "metadata": {},
          "execution_count": 8
        }
      ],
      "source": [
        "pd.Series(train_labels).value_counts()/pd.Series(train_labels).value_counts().sum()"
      ]
    },
    {
      "cell_type": "code",
      "execution_count": 9,
      "metadata": {
        "colab": {
          "base_uri": "https://localhost:8080/"
        },
        "id": "2vIFkv9sdcQ2",
        "outputId": "76ea4ee7-b1d0-4a81-885e-b0821f6cb43a"
      },
      "outputs": [
        {
          "output_type": "execute_result",
          "data": {
            "text/plain": [
              "0    0.57034\n",
              "1    0.42966\n",
              "Name: target, dtype: float64"
            ]
          },
          "metadata": {},
          "execution_count": 9
        }
      ],
      "source": [
        "train_df.target.value_counts()/train_df.target.value_counts().sum()"
      ]
    },
    {
      "cell_type": "markdown",
      "metadata": {
        "id": "11VONIK5dcQ2"
      },
      "source": [
        "Great! The distribution is virtually the same which means we can proceed towards the training."
      ]
    },
    {
      "cell_type": "code",
      "execution_count": 10,
      "metadata": {
        "colab": {
          "base_uri": "https://localhost:8080/"
        },
        "id": "6SDhSGIaeRsf",
        "outputId": "821f2fbf-9c1b-423a-c778-f1283a906d5a"
      },
      "outputs": [
        {
          "output_type": "stream",
          "name": "stdout",
          "text": [
            "--2022-07-15 10:45:29--  https://raw.githubusercontent.com/mrdbourke/tensorflow-deep-learning/main/extras/helper_functions.py\n",
            "Resolving raw.githubusercontent.com (raw.githubusercontent.com)... 185.199.109.133, 185.199.108.133, 185.199.110.133, ...\n",
            "Connecting to raw.githubusercontent.com (raw.githubusercontent.com)|185.199.109.133|:443... connected.\n",
            "HTTP request sent, awaiting response... 200 OK\n",
            "Length: 10246 (10K) [text/plain]\n",
            "Saving to: ‘helper_functions.py.2’\n",
            "\n",
            "helper_functions.py 100%[===================>]  10.01K  --.-KB/s    in 0s      \n",
            "\n",
            "2022-07-15 10:45:29 (72.5 MB/s) - ‘helper_functions.py.2’ saved [10246/10246]\n",
            "\n"
          ]
        }
      ],
      "source": [
        "!wget \"https://raw.githubusercontent.com/mrdbourke/tensorflow-deep-learning/main/extras/helper_functions.py\""
      ]
    },
    {
      "cell_type": "code",
      "execution_count": 11,
      "metadata": {
        "id": "74hRzUFDdcQ3"
      },
      "outputs": [],
      "source": [
        "from helper_functions import create_tensorboard_callback, plot_loss_curves, compare_historys, make_confusion_matrix, calculate_results, unzip_data"
      ]
    },
    {
      "cell_type": "markdown",
      "metadata": {
        "id": "5r4giWpRdcQ3"
      },
      "source": [
        "### 1. Rebuild, compile and train model_1, model_2 and model_5 using the Keras Sequential API instead of the Functional API."
      ]
    },
    {
      "cell_type": "code",
      "execution_count": 12,
      "metadata": {
        "id": "3iMihETKdcQ3"
      },
      "outputs": [],
      "source": [
        "MAX_TOKENS = 10000\n",
        "LENGTH_OF_SEQUENCE = 15\n",
        "\n",
        "text_vectorizer = tf.keras.layers.TextVectorization(max_tokens = MAX_TOKENS, output_sequence_length = LENGTH_OF_SEQUENCE, pad_to_max_tokens = True, name = \"text_vectorisation_layer\")\n",
        "text_vectorizer.adapt(train_sentences)\n",
        "\n",
        "model_1 = tf.keras.Sequential(\n",
        "    [\n",
        "        text_vectorizer,\n",
        "        tf.keras.layers.Embedding(input_dim = MAX_TOKENS, output_dim = 128, input_length = LENGTH_OF_SEQUENCE, name = \"embedding_layer\"),\n",
        "        tf.keras.layers.GlobalMaxPool1D(name = \"global_max_pooling_layer\"),\n",
        "        tf.keras.layers.Dense(1, activation = \"sigmoid\", name = \"output_layer\")\n",
        "    ], name = \"model_1_sequential\"\n",
        ")"
      ]
    },
    {
      "cell_type": "code",
      "execution_count": 13,
      "metadata": {
        "id": "r1vxNibZdcQ4",
        "outputId": "d6e6ecda-e8a6-41c0-b828-314b4fecb856",
        "colab": {
          "base_uri": "https://localhost:8080/"
        }
      },
      "outputs": [
        {
          "output_type": "stream",
          "name": "stdout",
          "text": [
            "Model: \"model_1_sequential\"\n",
            "_________________________________________________________________\n",
            " Layer (type)                Output Shape              Param #   \n",
            "=================================================================\n",
            " text_vectorisation_layer (T  (None, 15)               0         \n",
            " extVectorization)                                               \n",
            "                                                                 \n",
            " embedding_layer (Embedding)  (None, 15, 128)          1280000   \n",
            "                                                                 \n",
            " global_max_pooling_layer (G  (None, 128)              0         \n",
            " lobalMaxPooling1D)                                              \n",
            "                                                                 \n",
            " output_layer (Dense)        (None, 1)                 129       \n",
            "                                                                 \n",
            "=================================================================\n",
            "Total params: 1,280,129\n",
            "Trainable params: 1,280,129\n",
            "Non-trainable params: 0\n",
            "_________________________________________________________________\n"
          ]
        }
      ],
      "source": [
        "model_1.summary()"
      ]
    },
    {
      "cell_type": "code",
      "execution_count": 14,
      "metadata": {
        "id": "P63wAdiydcQ4"
      },
      "outputs": [],
      "source": [
        "SAVE_DIR = f\"{BASE_DIR}/TensorBoard/NLP\""
      ]
    },
    {
      "cell_type": "code",
      "execution_count": 15,
      "metadata": {
        "id": "V-hcixf0dcQ4",
        "outputId": "8996c926-026f-4db4-a123-1630833d2a1c",
        "colab": {
          "base_uri": "https://localhost:8080/"
        }
      },
      "outputs": [
        {
          "output_type": "stream",
          "name": "stdout",
          "text": [
            "Saving TensorBoard log files to: /content/drive/MyDrive/TensorFlow Developer Certification/TensorBoard/NLP/model_1_dense_sequential/20220715-104532\n",
            "Epoch 1/5\n",
            "215/215 [==============================] - 5s 9ms/step - loss: 0.6322 - accuracy: 0.6583 - val_loss: 0.5671 - val_accuracy: 0.7835\n",
            "Epoch 2/5\n",
            "215/215 [==============================] - 2s 8ms/step - loss: 0.4615 - accuracy: 0.8283 - val_loss: 0.4838 - val_accuracy: 0.7861\n",
            "Epoch 3/5\n",
            "215/215 [==============================] - 2s 8ms/step - loss: 0.3354 - accuracy: 0.8762 - val_loss: 0.4723 - val_accuracy: 0.7927\n",
            "Epoch 4/5\n",
            "215/215 [==============================] - 2s 8ms/step - loss: 0.2534 - accuracy: 0.9096 - val_loss: 0.4840 - val_accuracy: 0.7874\n",
            "Epoch 5/5\n",
            "215/215 [==============================] - 2s 7ms/step - loss: 0.1939 - accuracy: 0.9343 - val_loss: 0.5016 - val_accuracy: 0.7835\n"
          ]
        }
      ],
      "source": [
        "# Compile the model\n",
        "model_1.compile(\n",
        "    loss = tf.keras.losses.BinaryCrossentropy(),\n",
        "    optimizer = tf.keras.optimizers.Adam(),\n",
        "    metrics = [\"accuracy\"]\n",
        ")\n",
        "\n",
        "# Fit the model\n",
        "history_model_1 = model_1.fit(\n",
        "    x = train_sentences,\n",
        "    y = train_labels,\n",
        "    epochs = 5,\n",
        "    validation_data = (val_sentences, val_labels),\n",
        "    callbacks = [create_tensorboard_callback(SAVE_DIR, \"model_1_dense_sequential\")]\n",
        ")"
      ]
    },
    {
      "cell_type": "code",
      "execution_count": 16,
      "metadata": {
        "id": "SrER1n6kdcQ5",
        "outputId": "aa43e680-b4b9-4e9f-d80c-b199e42e673f",
        "colab": {
          "base_uri": "https://localhost:8080/"
        }
      },
      "outputs": [
        {
          "output_type": "execute_result",
          "data": {
            "text/plain": [
              "{'accuracy': 78.34645669291339,\n",
              " 'f1': 0.7815330350688786,\n",
              " 'precision': 0.783834791912008,\n",
              " 'recall': 0.7834645669291339}"
            ]
          },
          "metadata": {},
          "execution_count": 16
        }
      ],
      "source": [
        "model_1_results = calculate_results(val_labels, tf.squeeze(tf.round(model_1.predict(val_sentences))))\n",
        "model_1_results"
      ]
    },
    {
      "cell_type": "markdown",
      "metadata": {
        "id": "k2vdlcyRdcQ5"
      },
      "source": [
        "And that sorts out model_1."
      ]
    },
    {
      "cell_type": "code",
      "execution_count": 17,
      "metadata": {
        "id": "7lXscCUIdcQ5",
        "outputId": "387874c6-1a99-4dc8-d0c3-144e08721199",
        "colab": {
          "base_uri": "https://localhost:8080/"
        }
      },
      "outputs": [
        {
          "output_type": "stream",
          "name": "stdout",
          "text": [
            "Model: \"model_2\"\n",
            "_________________________________________________________________\n",
            " Layer (type)                Output Shape              Param #   \n",
            "=================================================================\n",
            " text_vectorisation_layer (T  (None, 15)               0         \n",
            " extVectorization)                                               \n",
            "                                                                 \n",
            " embedding_layer (Embedding)  (None, 15, 128)          1280000   \n",
            "                                                                 \n",
            " lstm (LSTM)                 (None, 64)                49408     \n",
            "                                                                 \n",
            " output_layer (Dense)        (None, 1)                 65        \n",
            "                                                                 \n",
            "=================================================================\n",
            "Total params: 1,329,473\n",
            "Trainable params: 1,329,473\n",
            "Non-trainable params: 0\n",
            "_________________________________________________________________\n"
          ]
        }
      ],
      "source": [
        "model_2 = tf.keras.Sequential(\n",
        "    [\n",
        "        text_vectorizer,\n",
        "        tf.keras.layers.Embedding(input_dim = MAX_TOKENS, output_dim = 128, input_length = LENGTH_OF_SEQUENCE, name = \"embedding_layer\"),\n",
        "        tf.keras.layers.LSTM(64),\n",
        "        tf.keras.layers.Dense(1, activation = \"sigmoid\", name = \"output_layer\")\n",
        "    ], name = \"model_2\"\n",
        ")\n",
        "\n",
        "model_2.summary()"
      ]
    },
    {
      "cell_type": "code",
      "execution_count": 18,
      "metadata": {
        "id": "Zu7UVuf6dcQ6",
        "outputId": "e859253d-4dcd-41ce-a0e8-60b9f415df78",
        "colab": {
          "base_uri": "https://localhost:8080/"
        }
      },
      "outputs": [
        {
          "output_type": "stream",
          "name": "stdout",
          "text": [
            "Saving TensorBoard log files to: /content/drive/MyDrive/TensorFlow Developer Certification/TensorBoard/NLP/model_2_lstm_sequential/20220715-104545\n",
            "Epoch 1/5\n",
            "215/215 [==============================] - 5s 9ms/step - loss: 0.5098 - accuracy: 0.7432 - val_loss: 0.4649 - val_accuracy: 0.7848\n",
            "Epoch 2/5\n",
            "215/215 [==============================] - 1s 6ms/step - loss: 0.3213 - accuracy: 0.8692 - val_loss: 0.5003 - val_accuracy: 0.7520\n",
            "Epoch 3/5\n",
            "215/215 [==============================] - 1s 6ms/step - loss: 0.2144 - accuracy: 0.9209 - val_loss: 0.6253 - val_accuracy: 0.7546\n",
            "Epoch 4/5\n",
            "215/215 [==============================] - 1s 6ms/step - loss: 0.1468 - accuracy: 0.9447 - val_loss: 0.7163 - val_accuracy: 0.7375\n",
            "Epoch 5/5\n",
            "215/215 [==============================] - 1s 6ms/step - loss: 0.1011 - accuracy: 0.9634 - val_loss: 0.9935 - val_accuracy: 0.7585\n"
          ]
        }
      ],
      "source": [
        "# Compile the model\n",
        "model_2.compile(\n",
        "    loss = tf.keras.losses.BinaryCrossentropy(),\n",
        "    optimizer = tf.keras.optimizers.Adam(),\n",
        "    metrics = [\"accuracy\"]\n",
        ")\n",
        "\n",
        "# Fit the model\n",
        "history_model_2 = model_2.fit(\n",
        "    x = train_sentences,\n",
        "    y = train_labels,\n",
        "    epochs = 5,\n",
        "    validation_data = (val_sentences, val_labels),\n",
        "    callbacks = [create_tensorboard_callback(SAVE_DIR, \"model_2_lstm_sequential\")]\n",
        ")"
      ]
    },
    {
      "cell_type": "code",
      "execution_count": 19,
      "metadata": {
        "id": "C3zB4jOhdcQ6",
        "outputId": "df3a847b-f12a-435b-d518-5b630efaef7b",
        "colab": {
          "base_uri": "https://localhost:8080/"
        }
      },
      "outputs": [
        {
          "output_type": "execute_result",
          "data": {
            "text/plain": [
              "{'accuracy': 75.8530183727034,\n",
              " 'f1': 0.7532381055790521,\n",
              " 'precision': 0.7631990142453567,\n",
              " 'recall': 0.7585301837270341}"
            ]
          },
          "metadata": {},
          "execution_count": 19
        }
      ],
      "source": [
        "model_2_results = calculate_results(val_labels, tf.squeeze(tf.round(model_2.predict(val_sentences))))\n",
        "model_2_results"
      ]
    },
    {
      "cell_type": "markdown",
      "metadata": {
        "id": "8JZPYZeWdcQ6"
      },
      "source": [
        "Okay. This seems to have worsened performance!"
      ]
    },
    {
      "cell_type": "code",
      "execution_count": 20,
      "metadata": {
        "id": "nk-Gwc4NdcQ7",
        "outputId": "5a5919e8-8a4b-4e99-8170-9c689696d0fd",
        "colab": {
          "base_uri": "https://localhost:8080/"
        }
      },
      "outputs": [
        {
          "output_type": "stream",
          "name": "stdout",
          "text": [
            "Model: \"model_5\"\n",
            "_________________________________________________________________\n",
            " Layer (type)                Output Shape              Param #   \n",
            "=================================================================\n",
            " text_vectorisation_layer (T  (None, 15)               0         \n",
            " extVectorization)                                               \n",
            "                                                                 \n",
            " embedding_layer (Embedding)  (None, 15, 128)          1280000   \n",
            "                                                                 \n",
            " conv_layer (Conv1D)         (None, 11, 64)            41024     \n",
            "                                                                 \n",
            " max_pooling_1d_layer (Globa  (None, 64)               0         \n",
            " lMaxPooling1D)                                                  \n",
            "                                                                 \n",
            " output_layer (Dense)        (None, 1)                 65        \n",
            "                                                                 \n",
            "=================================================================\n",
            "Total params: 1,321,089\n",
            "Trainable params: 1,321,089\n",
            "Non-trainable params: 0\n",
            "_________________________________________________________________\n"
          ]
        }
      ],
      "source": [
        "model_5 = tf.keras.Sequential(\n",
        "    [\n",
        "        tf.keras.layers.Input(shape = (1,), dtype = tf.string, name = \"input_layer\"),\n",
        "        text_vectorizer,\n",
        "        tf.keras.layers.Embedding(input_dim = MAX_TOKENS, output_dim = 128, input_length = LENGTH_OF_SEQUENCE, name = \"embedding_layer\"),\n",
        "        tf.keras.layers.Conv1D(64, 5, padding = \"valid\", activation = \"relu\", name = \"conv_layer\"),\n",
        "        tf.keras.layers.GlobalMaxPool1D(name = \"max_pooling_1d_layer\"),\n",
        "        tf.keras.layers.Dense(1, activation = \"sigmoid\", name = \"output_layer\")\n",
        "    ], name = \"model_5\"\n",
        ")\n",
        "\n",
        "model_5.summary()"
      ]
    },
    {
      "cell_type": "code",
      "execution_count": 21,
      "metadata": {
        "id": "3_81pqI_dcQ7",
        "outputId": "d07b9a2a-42d7-48aa-d5b7-e2358f0a7bb6",
        "colab": {
          "base_uri": "https://localhost:8080/"
        }
      },
      "outputs": [
        {
          "output_type": "stream",
          "name": "stdout",
          "text": [
            "Saving TensorBoard log files to: /content/drive/MyDrive/TensorFlow Developer Certification/TensorBoard/NLP/model_5_conv1d_sequential/20220715-104556\n",
            "Epoch 1/5\n",
            "215/215 [==============================] - 4s 6ms/step - loss: 0.5449 - accuracy: 0.7250 - val_loss: 0.4863 - val_accuracy: 0.7822\n",
            "Epoch 2/5\n",
            "215/215 [==============================] - 1s 5ms/step - loss: 0.3301 - accuracy: 0.8640 - val_loss: 0.5114 - val_accuracy: 0.7703\n",
            "Epoch 3/5\n",
            "215/215 [==============================] - 1s 5ms/step - loss: 0.2006 - accuracy: 0.9286 - val_loss: 0.5972 - val_accuracy: 0.7808\n",
            "Epoch 4/5\n",
            "215/215 [==============================] - 1s 5ms/step - loss: 0.1318 - accuracy: 0.9534 - val_loss: 0.6717 - val_accuracy: 0.7690\n",
            "Epoch 5/5\n",
            "215/215 [==============================] - 1s 5ms/step - loss: 0.0919 - accuracy: 0.9714 - val_loss: 0.7505 - val_accuracy: 0.7533\n"
          ]
        }
      ],
      "source": [
        "# Compile the model\n",
        "model_5.compile(\n",
        "    loss = tf.keras.losses.BinaryCrossentropy(),\n",
        "    optimizer = tf.keras.optimizers.Adam(),\n",
        "    metrics = [\"accuracy\"]\n",
        ")\n",
        "\n",
        "# Fit the model\n",
        "history_model_5 = model_5.fit(\n",
        "    x = train_sentences,\n",
        "    y = train_labels,\n",
        "    epochs = 5,\n",
        "    validation_data = (val_sentences, val_labels),\n",
        "    callbacks = [create_tensorboard_callback(SAVE_DIR, \"model_5_conv1d_sequential\")]\n",
        ")"
      ]
    },
    {
      "cell_type": "code",
      "execution_count": 22,
      "metadata": {
        "id": "6voIYamNdcQ7",
        "outputId": "a651abea-6664-49a6-a790-8ae344e7ea9a",
        "colab": {
          "base_uri": "https://localhost:8080/"
        }
      },
      "outputs": [
        {
          "output_type": "execute_result",
          "data": {
            "text/plain": [
              "{'accuracy': 75.32808398950131,\n",
              " 'f1': 0.75144070746402,\n",
              " 'precision': 0.7526712252675872,\n",
              " 'recall': 0.7532808398950132}"
            ]
          },
          "metadata": {},
          "execution_count": 22
        }
      ],
      "source": [
        "model_5_preds = tf.squeeze(tf.round(model_5.predict(val_sentences)))\n",
        "model_5_results = calculate_results(val_labels, model_5_preds)\n",
        "model_5_results"
      ]
    },
    {
      "cell_type": "code",
      "execution_count": 23,
      "metadata": {
        "id": "_H6pLaJGdcQ8",
        "outputId": "3caf828f-9a55-4899-9d8f-9773bbb7762f",
        "colab": {
          "base_uri": "https://localhost:8080/",
          "height": 574
        }
      },
      "outputs": [
        {
          "output_type": "display_data",
          "data": {
            "text/plain": [
              "<Figure size 720x720 with 2 Axes>"
            ],
            "image/png": "[encoded data removed]"
          },
          "metadata": {
            "needs_background": "light"
          }
        }
      ],
      "source": [
        "make_confusion_matrix(val_labels, model_5_preds)"
      ]
    },
    {
      "cell_type": "markdown",
      "metadata": {
        "id": "ESyOU7m_dcQ8"
      },
      "source": [
        "### 2. Retrain the baseline model with 10% of the training data. How does perform compared to the Universal Sentence Encoder model with 10% of the training data?"
      ]
    },
    {
      "cell_type": "code",
      "execution_count": 24,
      "metadata": {
        "id": "w3DGTmmMdcQ8"
      },
      "outputs": [],
      "source": [
        "from sklearn.feature_extraction.text import TfidfVectorizer\n",
        "from sklearn.pipeline import Pipeline\n",
        "from sklearn.naive_bayes import MultinomialNB"
      ]
    },
    {
      "cell_type": "code",
      "execution_count": 25,
      "metadata": {
        "id": "8vC9ijSYdcQ8"
      },
      "outputs": [],
      "source": [
        "train_subset_idx = np.random.choice(len(train_sentences),int(0.1*len(train_sentences)))\n",
        "train_sentences_subs = train_sentences[train_subset_idx]\n",
        "train_labels_subs = train_labels[train_subset_idx]"
      ]
    },
    {
      "cell_type": "code",
      "execution_count": 26,
      "metadata": {
        "id": "jvRCMUNsdcQ8",
        "outputId": "e9525882-9ef5-4627-9528-f3c0cfccf49e",
        "colab": {
          "base_uri": "https://localhost:8080/"
        }
      },
      "outputs": [
        {
          "output_type": "execute_result",
          "data": {
            "text/plain": [
              "0    0.589781\n",
              "1    0.410219\n",
              "dtype: float64"
            ]
          },
          "metadata": {},
          "execution_count": 26
        }
      ],
      "source": [
        "pd.Series(train_labels_subs).value_counts()/pd.Series(train_labels_subs).value_counts().sum()"
      ]
    },
    {
      "cell_type": "markdown",
      "metadata": {
        "id": "QwVyAv3ndcQ9"
      },
      "source": [
        "It does retain the distribution reasonably enough."
      ]
    },
    {
      "cell_type": "code",
      "execution_count": 27,
      "metadata": {
        "id": "2OLFDZTmdcQ9",
        "outputId": "ad6bdcf6-0d00-418f-8093-22115783d6e7",
        "colab": {
          "base_uri": "https://localhost:8080/"
        }
      },
      "outputs": [
        {
          "output_type": "execute_result",
          "data": {
            "text/plain": [
              "Pipeline(steps=[('tf_idf_vectorizer', TfidfVectorizer()),\n",
              "                ('naive_bayes', MultinomialNB())])"
            ]
          },
          "metadata": {},
          "execution_count": 27
        }
      ],
      "source": [
        "model_baseline = Pipeline(\n",
        "    [\n",
        "        (\"tf_idf_vectorizer\", TfidfVectorizer()),\n",
        "        (\"naive_bayes\", MultinomialNB())\n",
        "    ]\n",
        ")\n",
        "\n",
        "model_baseline.fit(train_sentences_subs, train_labels_subs)"
      ]
    },
    {
      "cell_type": "code",
      "execution_count": 28,
      "metadata": {
        "id": "FC3FxdeidcQ9"
      },
      "outputs": [],
      "source": [
        "baseline_predictions = model_baseline.predict(val_sentences)"
      ]
    },
    {
      "cell_type": "code",
      "execution_count": 29,
      "metadata": {
        "id": "Njrpus4xdcQ9",
        "outputId": "b20a4274-762f-4ad0-a4e3-39e2f0420ab0",
        "colab": {
          "base_uri": "https://localhost:8080/"
        }
      },
      "outputs": [
        {
          "output_type": "execute_result",
          "data": {
            "text/plain": [
              "{'accuracy': 70.34120734908137,\n",
              " 'f1': 0.671996112941183,\n",
              " 'precision': 0.7568650743065585,\n",
              " 'recall': 0.7034120734908137}"
            ]
          },
          "metadata": {},
          "execution_count": 29
        }
      ],
      "source": [
        "model_baseline_results = calculate_results(val_labels, baseline_predictions)\n",
        "model_baseline_results"
      ]
    },
    {
      "cell_type": "markdown",
      "metadata": {
        "id": "XSc0eg3SdcQ9"
      },
      "source": [
        "### 3. Try fine-tuning the TF Hub Universal Sentence Encoder model by setting training=True when instantiating it as a Keras layer."
      ]
    },
    {
      "cell_type": "code",
      "execution_count": 30,
      "metadata": {
        "id": "5u338gRpdcQ9"
      },
      "outputs": [],
      "source": [
        "import tensorflow_hub as hub"
      ]
    },
    {
      "cell_type": "code",
      "execution_count": 31,
      "metadata": {
        "colab": {
          "base_uri": "https://localhost:8080/"
        },
        "id": "02thombrdcQ9",
        "outputId": "21c506b5-18d5-4487-ee2f-4cace27ba151"
      },
      "outputs": [
        {
          "output_type": "stream",
          "name": "stdout",
          "text": [
            "Model: \"sequential\"\n",
            "_________________________________________________________________\n",
            " Layer (type)                Output Shape              Param #   \n",
            "=================================================================\n",
            " USE (KerasLayer)            (None, 512)               256797824 \n",
            "                                                                 \n",
            " output_layer (Dense)        (None, 1)                 513       \n",
            "                                                                 \n",
            "=================================================================\n",
            "Total params: 256,798,337\n",
            "Trainable params: 256,798,337\n",
            "Non-trainable params: 0\n",
            "_________________________________________________________________\n"
          ]
        }
      ],
      "source": [
        "sentence_encoder_layer = hub.KerasLayer('https://tfhub.dev/google/universal-sentence-encoder/4', trainable = True, input_shape = (), dtype = tf.string, name = \"USE\")\n",
        "\n",
        "model_USE_fine_tune = tf.keras.Sequential(\n",
        "    [\n",
        "        sentence_encoder_layer,\n",
        "        tf.keras.layers.Dense(1, activation = \"sigmoid\", name = \"output_layer\")\n",
        "    ]\n",
        ")\n",
        "\n",
        "model_USE_fine_tune.summary()"
      ]
    },
    {
      "cell_type": "code",
      "execution_count": 32,
      "metadata": {
        "colab": {
          "base_uri": "https://localhost:8080/"
        },
        "id": "3AjcleQddcQ-",
        "outputId": "27865646-5bdb-4136-a60d-f1aea3d44fad"
      },
      "outputs": [
        {
          "output_type": "stream",
          "name": "stdout",
          "text": [
            "Saving TensorBoard log files to: /content/drive/MyDrive/TensorFlow Developer Certification/TensorBoard/NLP/model_USE_fine_tune/20220715-104612\n",
            "Epoch 1/5\n",
            "215/215 [==============================] - 39s 158ms/step - loss: 0.4611 - accuracy: 0.7933 - val_loss: 0.4283 - val_accuracy: 0.8136\n",
            "Epoch 2/5\n",
            "215/215 [==============================] - 33s 152ms/step - loss: 0.2449 - accuracy: 0.9089 - val_loss: 0.4919 - val_accuracy: 0.7966\n",
            "Epoch 3/5\n",
            "215/215 [==============================] - 34s 157ms/step - loss: 0.0869 - accuracy: 0.9718 - val_loss: 0.5300 - val_accuracy: 0.8005\n",
            "Epoch 4/5\n",
            "215/215 [==============================] - 35s 163ms/step - loss: 0.0463 - accuracy: 0.9863 - val_loss: 0.5858 - val_accuracy: 0.7979\n",
            "Epoch 5/5\n",
            "215/215 [==============================] - 36s 168ms/step - loss: 0.0332 - accuracy: 0.9885 - val_loss: 0.6059 - val_accuracy: 0.7900\n"
          ]
        }
      ],
      "source": [
        "# Compile the model\n",
        "model_USE_fine_tune.compile(\n",
        "    loss = tf.keras.losses.BinaryCrossentropy(),\n",
        "    optimizer = tf.keras.optimizers.Adam(),\n",
        "    metrics = [\"accuracy\"]\n",
        ")\n",
        "\n",
        "# Fit the model\n",
        "history_model_USE_fine_tune = model_USE_fine_tune.fit(\n",
        "    x = train_sentences,\n",
        "    y = train_labels,\n",
        "    epochs = 5,\n",
        "    validation_data = (val_sentences, val_labels),\n",
        "    callbacks = [create_tensorboard_callback(SAVE_DIR, \"model_USE_fine_tune\")]\n",
        ")"
      ]
    },
    {
      "cell_type": "code",
      "execution_count": 33,
      "metadata": {
        "id": "H6ATNdEReyMj"
      },
      "outputs": [],
      "source": [
        "model_USE_fine_tune_preds = tf.squeeze(tf.round(model_USE_fine_tune.predict(val_sentences)))"
      ]
    },
    {
      "cell_type": "code",
      "execution_count": 34,
      "metadata": {
        "colab": {
          "base_uri": "https://localhost:8080/"
        },
        "id": "2kH3FGdMdcQ-",
        "outputId": "377c898d-279f-4e51-f7ae-bafd10e31de1"
      },
      "outputs": [
        {
          "output_type": "execute_result",
          "data": {
            "text/plain": [
              "{'accuracy': 79.00262467191601,\n",
              " 'f1': 0.790368309224505,\n",
              " 'precision': 0.791103136095994,\n",
              " 'recall': 0.7900262467191601}"
            ]
          },
          "metadata": {},
          "execution_count": 34
        }
      ],
      "source": [
        "model_USE_fine_tune_results = calculate_results(val_labels, model_USE_fine_tune_preds)\n",
        "model_USE_fine_tune_results"
      ]
    },
    {
      "cell_type": "code",
      "execution_count": 35,
      "metadata": {
        "colab": {
          "base_uri": "https://localhost:8080/",
          "height": 574
        },
        "id": "FKewgdT_dcQ-",
        "outputId": "2f3185c0-8e42-42a8-8b6c-0f6ea8bf2dcd"
      },
      "outputs": [
        {
          "output_type": "display_data",
          "data": {
            "text/plain": [
              "<Figure size 720x720 with 2 Axes>"
            ],
            "image/png": "[encoded data removed]"
          },
          "metadata": {
            "needs_background": "light"
          }
        }
      ],
      "source": [
        "make_confusion_matrix(val_labels, model_USE_fine_tune_preds)"
      ]
    },
    {
      "cell_type": "markdown",
      "metadata": {
        "id": "SIMr4ZM-facQ"
      },
      "source": [
        "This is overfitting. Let's have another go."
      ]
    },
    {
      "cell_type": "code",
      "execution_count": 36,
      "metadata": {
        "colab": {
          "base_uri": "https://localhost:8080/"
        },
        "id": "a4oA4zypfgoE",
        "outputId": "450c95b0-ff7a-478d-c997-f969026ebda7"
      },
      "outputs": [
        {
          "output_type": "stream",
          "name": "stdout",
          "text": [
            "Model: \"USE_fine_tune\"\n",
            "_________________________________________________________________\n",
            " Layer (type)                Output Shape              Param #   \n",
            "=================================================================\n",
            " USE (KerasLayer)            (None, 512)               256797824 \n",
            "                                                                 \n",
            " prefinal_dense_layer (Dense  (None, 128)              65664     \n",
            " )                                                               \n",
            "                                                                 \n",
            " output_layer (Dense)        (None, 1)                 129       \n",
            "                                                                 \n",
            "=================================================================\n",
            "Total params: 256,863,617\n",
            "Trainable params: 256,863,617\n",
            "Non-trainable params: 0\n",
            "_________________________________________________________________\n"
          ]
        }
      ],
      "source": [
        "sentence_encoder_layer = hub.KerasLayer('https://tfhub.dev/google/universal-sentence-encoder/4', trainable = True, input_shape = (), dtype = tf.string, name = \"USE\")\n",
        "\n",
        "model_USE_fine_tune_mod = tf.keras.Sequential(\n",
        "    [\n",
        "        sentence_encoder_layer,\n",
        "        tf.keras.layers.Dense(128, activation = \"relu\", name = \"prefinal_dense_layer\"),\n",
        "        tf.keras.layers.Dense(1, activation = \"sigmoid\", name = \"output_layer\")\n",
        "    ], name = \"USE_fine_tune\"\n",
        ")\n",
        "\n",
        "model_USE_fine_tune_mod.summary()"
      ]
    },
    {
      "cell_type": "code",
      "execution_count": 37,
      "metadata": {
        "colab": {
          "base_uri": "https://localhost:8080/"
        },
        "id": "-ofz2axbfzaj",
        "outputId": "c9ec091f-ff99-46e4-81f7-4917e218b432"
      },
      "outputs": [
        {
          "output_type": "stream",
          "name": "stdout",
          "text": [
            "Saving TensorBoard log files to: /content/drive/MyDrive/TensorFlow Developer Certification/TensorBoard/NLP/model_USE_fine_tune/20220715-104944\n",
            "Epoch 1/5\n",
            "215/215 [==============================] - 39s 156ms/step - loss: 0.4508 - accuracy: 0.7989 - val_loss: 0.4048 - val_accuracy: 0.8346\n",
            "Epoch 2/5\n",
            "215/215 [==============================] - 33s 152ms/step - loss: 0.2353 - accuracy: 0.9104 - val_loss: 0.4827 - val_accuracy: 0.7992\n",
            "Epoch 3/5\n",
            "215/215 [==============================] - 33s 152ms/step - loss: 0.0776 - accuracy: 0.9752 - val_loss: 0.5712 - val_accuracy: 0.8005\n",
            "Epoch 4/5\n",
            "215/215 [==============================] - 33s 152ms/step - loss: 0.0392 - accuracy: 0.9855 - val_loss: 0.6084 - val_accuracy: 0.7612\n",
            "Epoch 5/5\n",
            "215/215 [==============================] - 33s 152ms/step - loss: 0.0275 - accuracy: 0.9886 - val_loss: 0.6176 - val_accuracy: 0.7520\n"
          ]
        }
      ],
      "source": [
        "# Compile the model\n",
        "model_USE_fine_tune_mod.compile(\n",
        "    loss = tf.keras.losses.BinaryCrossentropy(),\n",
        "    optimizer = tf.keras.optimizers.Adam(),\n",
        "    metrics = [\"accuracy\"]\n",
        ")\n",
        "\n",
        "# Fit the model\n",
        "history_model_USE_fine_tune_mod = model_USE_fine_tune_mod.fit(\n",
        "    x = train_sentences,\n",
        "    y = train_labels,\n",
        "    epochs = 5,\n",
        "    validation_data = (val_sentences, val_labels),\n",
        "    callbacks = [create_tensorboard_callback(SAVE_DIR, \"model_USE_fine_tune\")]\n",
        ")"
      ]
    },
    {
      "cell_type": "code",
      "execution_count": 38,
      "metadata": {
        "id": "tXlkvutlgE3O"
      },
      "outputs": [],
      "source": [
        "model_USE_fine_tune_mod_preds = tf.squeeze(tf.round(model_USE_fine_tune_mod.predict(val_sentences)))"
      ]
    },
    {
      "cell_type": "code",
      "execution_count": 39,
      "metadata": {
        "colab": {
          "base_uri": "https://localhost:8080/"
        },
        "id": "H6krLHsqgIOo",
        "outputId": "cb42a8bf-9f9c-4e8f-ebb4-4fa88f7fa0df"
      },
      "outputs": [
        {
          "output_type": "execute_result",
          "data": {
            "text/plain": [
              "{'accuracy': 75.19685039370079,\n",
              " 'f1': 0.7517655912513571,\n",
              " 'precision': 0.7753410471948063,\n",
              " 'recall': 0.7519685039370079}"
            ]
          },
          "metadata": {},
          "execution_count": 39
        }
      ],
      "source": [
        "model_USE_fine_tune_mod_results = calculate_results(val_labels, model_USE_fine_tune_mod_preds)\n",
        "model_USE_fine_tune_mod_results"
      ]
    },
    {
      "cell_type": "code",
      "execution_count": 40,
      "metadata": {
        "colab": {
          "base_uri": "https://localhost:8080/",
          "height": 574
        },
        "id": "Mt5Z5sF6gTyQ",
        "outputId": "46c470a6-ea80-4e52-c931-705bdf7a95cd"
      },
      "outputs": [
        {
          "output_type": "display_data",
          "data": {
            "text/plain": [
              "<Figure size 720x720 with 2 Axes>"
            ],
            "image/png": "[encoded data removed]"
          },
          "metadata": {
            "needs_background": "light"
          }
        }
      ],
      "source": [
        "make_confusion_matrix(val_labels, model_USE_fine_tune_mod_preds)"
      ]
    },
    {
      "cell_type": "markdown",
      "metadata": {
        "id": "5O-SQHDXDdZJ"
      },
      "source": [
        "Its still overfitting so I guess the model is too big for the kind and amount of data we have."
      ]
    },
    {
      "cell_type": "markdown",
      "metadata": {
        "id": "LUIZPjrYDdZJ"
      },
      "source": [
        "### 4. Retrain the best model you've got so far on the whole training set (no validation split). Then use this trained model to make predictions on the test dataset and format the predictions into the same format as the sample_submission.csv file from Kaggle (see the Files tab in Colab for what the sample_submission.csv file looks like). Once you've done this, make a submission to the Kaggle competition, how did your model perform?"
      ]
    },
    {
      "cell_type": "code",
      "execution_count": 41,
      "metadata": {
        "colab": {
          "base_uri": "https://localhost:8080/"
        },
        "id": "JlWhComyDdZK",
        "outputId": "384f919e-050e-432e-f758-e5ceabb9c6a0"
      },
      "outputs": [
        {
          "output_type": "stream",
          "name": "stdout",
          "text": [
            "WARNING:tensorflow:SavedModel saved prior to TF 2.5 detected when loading Keras model. Please ensure that you are saving the model with model.save() or tf.keras.models.save_model(), *NOT* tf.saved_model.save(). To confirm, there should be a file named \"keras_metadata.pb\" in the SavedModel directory.\n"
          ]
        },
        {
          "output_type": "stream",
          "name": "stderr",
          "text": [
            "WARNING:tensorflow:SavedModel saved prior to TF 2.5 detected when loading Keras model. Please ensure that you are saving the model with model.save() or tf.keras.models.save_model(), *NOT* tf.saved_model.save(). To confirm, there should be a file named \"keras_metadata.pb\" in the SavedModel directory.\n"
          ]
        },
        {
          "output_type": "stream",
          "name": "stdout",
          "text": [
            "Model: \"model_6_USE\"\n",
            "_________________________________________________________________\n",
            " Layer (type)                Output Shape              Param #   \n",
            "=================================================================\n",
            " USE (KerasLayer)            (None, 512)               256797824 \n",
            "                                                                 \n",
            " dense_11 (Dense)            (None, 64)                32832     \n",
            "                                                                 \n",
            " output_layer (Dense)        (None, 1)                 65        \n",
            "                                                                 \n",
            "=================================================================\n",
            "Total params: 256,830,721\n",
            "Trainable params: 32,897\n",
            "Non-trainable params: 256,797,824\n",
            "_________________________________________________________________\n"
          ]
        }
      ],
      "source": [
        "model_USE_load = tf.keras.models.load_model(f\"{BASE_DIR}/Model/NLP/08_model_6_USE_feature_extractor\")\n",
        "model_USE_load.summary()"
      ]
    },
    {
      "cell_type": "code",
      "execution_count": 42,
      "metadata": {
        "id": "hMn8EWoMDdZK"
      },
      "outputs": [],
      "source": [
        "train_df_shuffled = train_df.sample(frac = 1)"
      ]
    },
    {
      "cell_type": "code",
      "execution_count": 43,
      "metadata": {
        "colab": {
          "base_uri": "https://localhost:8080/"
        },
        "id": "H-tAQstwDdZK",
        "outputId": "6d613353-2dde-4a42-d966-1e6acb1b638f"
      },
      "outputs": [
        {
          "output_type": "stream",
          "name": "stdout",
          "text": [
            "Epoch 1/5\n",
            "238/238 [==============================] - 5s 10ms/step - loss: 0.3843 - accuracy: 0.8304\n",
            "Epoch 2/5\n",
            "238/238 [==============================] - 5s 19ms/step - loss: 0.3766 - accuracy: 0.8346\n",
            "Epoch 3/5\n",
            "238/238 [==============================] - 3s 13ms/step - loss: 0.3704 - accuracy: 0.8380\n",
            "Epoch 4/5\n",
            "238/238 [==============================] - 2s 10ms/step - loss: 0.3650 - accuracy: 0.8411\n",
            "Epoch 5/5\n",
            "238/238 [==============================] - 2s 10ms/step - loss: 0.3591 - accuracy: 0.8436\n"
          ]
        }
      ],
      "source": [
        "history_load_model = model_USE_load.fit(\n",
        "    x = train_df_shuffled.text.to_numpy(),\n",
        "    y = train_df_shuffled.target.to_numpy(),\n",
        "    epochs = 5,\n",
        ")"
      ]
    },
    {
      "cell_type": "code",
      "execution_count": 44,
      "metadata": {
        "colab": {
          "base_uri": "https://localhost:8080/"
        },
        "id": "yeoC_ZBuDdZK",
        "outputId": "ee6e72cc-b117-493c-da6c-e9a5a094fc39"
      },
      "outputs": [
        {
          "output_type": "execute_result",
          "data": {
            "text/plain": [
              "<tf.Tensor: shape=(15,), dtype=float32, numpy=\n",
              "array([1., 1., 1., 1., 1., 1., 0., 0., 0., 0., 0., 0., 0., 0., 0.],\n",
              "      dtype=float32)>"
            ]
          },
          "metadata": {},
          "execution_count": 44
        }
      ],
      "source": [
        "model_USE_best_preds = tf.squeeze(tf.round(model_USE_load.predict(test_df.text.to_numpy())))\n",
        "model_USE_best_preds[:15]"
      ]
    },
    {
      "cell_type": "code",
      "execution_count": 45,
      "metadata": {
        "id": "o58oEb1JDdZL"
      },
      "outputs": [],
      "source": [
        "test_df[\"target\"] = model_USE_best_preds.numpy().astype('int')\n",
        "test_df[[\"id\",\"target\"]].to_csv(f\"{BASE_DIR}/Kaggle_Submissions/NLP/disaster_predictions.csv\", index = False)"
      ]
    },
    {
      "cell_type": "markdown",
      "metadata": {
        "id": "vuM-eDnQDdZL"
      },
      "source": [
        "### 5. Combine the ensemble predictions using the majority vote (mode), how does this perform compare to averaging the prediction probabilities of each model?"
      ]
    },
    {
      "cell_type": "markdown",
      "source": [
        "To create such an ensemble model, the first ingredient is to define a function that takes in all the models and then predicts on the data such that the output resembles [num_examples, num_models]. With this done, next we need to either take the prediction that occurs either - max number of times for that example or average the predictions and round them off. We'll be trying both these options."
      ],
      "metadata": {
        "id": "50usUugxEYTH"
      }
    },
    {
      "cell_type": "code",
      "source": [
        "from scipy.stats import mode"
      ],
      "metadata": {
        "id": "Fv_J48QqLGgG"
      },
      "execution_count": 46,
      "outputs": []
    },
    {
      "cell_type": "code",
      "source": [
        "def ensemble_model_predict(models_list, data, method = \"max\"):\n",
        "  \"\"\"\n",
        "  Combines predictions from all models passed and returns the most probable predictions (I can already think of something better! Put a dense layer and then observe what we get. Possibly encase the models in an async function so they can run in parallel)\n",
        "  \"\"\"\n",
        "  prediction_matrix = np.empty(shape = (len(data), len(models_list)))\n",
        "  for col, model in enumerate(models_list):\n",
        "    prediction_matrix[:, col] = np.squeeze(np.asarray(model.predict(data)))\n",
        "  \n",
        "  if method == \"max\":\n",
        "    pred_mat_logits = np.round(prediction_matrix)\n",
        "    predictions = np.squeeze(np.asarray(mode(pred_mat_logits, axis = 1)[0]))\n",
        "\n",
        "  elif method == \"average\":\n",
        "    pred_mat_avg = np.mean(prediction_matrix, axis = 1)\n",
        "    predictions = np.squeeze(np.round(pred_mat_avg))\n",
        "  \n",
        "  return predictions"
      ],
      "metadata": {
        "id": "QK4mbtS8FiiL"
      },
      "execution_count": 47,
      "outputs": []
    },
    {
      "cell_type": "code",
      "source": [
        "models_list = [model_1, model_2, model_5, model_baseline, model_USE_fine_tune, model_USE_fine_tune_mod, model_USE_load]\n",
        "ensemble_preds = ensemble_model_predict(models_list, val_sentences, method = \"max\")\n",
        "model_ensemble_results = calculate_results(val_labels, ensemble_preds)\n",
        "model_ensemble_results"
      ],
      "metadata": {
        "colab": {
          "base_uri": "https://localhost:8080/"
        },
        "id": "TCtRSG7uHtfR",
        "outputId": "0c66d150-0df2-4fa9-c182-af88415900f5"
      },
      "execution_count": 48,
      "outputs": [
        {
          "output_type": "execute_result",
          "data": {
            "text/plain": [
              "{'accuracy': 80.70866141732283,\n",
              " 'f1': 0.8050028495441929,\n",
              " 'precision': 0.8087734600841846,\n",
              " 'recall': 0.8070866141732284}"
            ]
          },
          "metadata": {},
          "execution_count": 48
        }
      ]
    },
    {
      "cell_type": "markdown",
      "source": [
        "Beauty! I don't think we got these numbers for the f1-score before! This is worth investigating."
      ],
      "metadata": {
        "id": "Qz7MKTuJOyF8"
      }
    },
    {
      "cell_type": "code",
      "source": [
        "ensemble_preds = ensemble_model_predict(models_list, val_sentences, method = \"average\")\n",
        "model_ensemble_results = calculate_results(val_labels, ensemble_preds)\n",
        "model_ensemble_results"
      ],
      "metadata": {
        "colab": {
          "base_uri": "https://localhost:8080/"
        },
        "id": "fGQ8h3Y7O62b",
        "outputId": "12e90263-592b-4f1b-fb4b-b43b96d3d0d6"
      },
      "execution_count": 49,
      "outputs": [
        {
          "output_type": "execute_result",
          "data": {
            "text/plain": [
              "{'accuracy': 81.62729658792651,\n",
              " 'f1': 0.8134503420096791,\n",
              " 'precision': 0.8206163773347821,\n",
              " 'recall': 0.8162729658792651}"
            ]
          },
          "metadata": {},
          "execution_count": 49
        }
      ]
    },
    {
      "cell_type": "markdown",
      "source": [
        "Clearly `mode` works better than `mean` here. But can we do better? Maybe we don't need to figure out the mean/mode that works best. Rather we can simply use a `Dense` layer to figure out the optimal combination in which the predictions of these models can be combined for the best possible output. Although we do risk overfitting here 😜"
      ],
      "metadata": {
        "id": "d3N2jch0R4hH"
      }
    },
    {
      "cell_type": "code",
      "source": [
        "def ensemble_model_train(models_list, data, labels, val_data, val_labels, epochs = 5):\n",
        "  \"\"\"\n",
        "  Combines predictions from all models passed and returns the most probable predictions (I can already think of something better! Put a dense layer and then observe what we get. Possibly encase the models in an async function so they can run in parallel)\n",
        "  \"\"\"\n",
        "  prediction_matrix = np.empty(shape = (len(data), len(models_list)))\n",
        "  for col, model in enumerate(models_list):\n",
        "    prediction_matrix[:, col] = np.squeeze(np.asarray(model.predict(data)))\n",
        "\n",
        "  val_prediction_matrix = np.empty(shape = (len(val_data), len(models_list)))\n",
        "  for col, model in enumerate(models_list):\n",
        "    val_prediction_matrix[:, col] = np.squeeze(np.asarray(model.predict(val_data)))\n",
        "  model_out = tf.keras.Sequential([\n",
        "                                   tf.keras.layers.Input(shape = (len(models_list),), name = \"input_ensemble_final_output_pipeline\"),\n",
        "                                   tf.keras.layers.Dense(1, activation = \"sigmoid\", name = \"output_ensemble\")\n",
        "                                   ])\n",
        "  # Compile the model\n",
        "  model_out.compile(\n",
        "      loss = tf.keras.losses.BinaryCrossentropy(),\n",
        "      optimizer = tf.keras.optimizers.Adam(),\n",
        "      metrics = [\"accuracy\"]\n",
        "  )\n",
        "\n",
        "  # Fit the model\n",
        "  history = model_out.fit(x = prediction_matrix, y = labels, epochs = epochs, validation_data = (val_prediction_matrix, val_labels))\n",
        "  print(model_out.predict(val_prediction_matrix).max(), model_out.predict(val_prediction_matrix).min())\n",
        "  return model_out, history, models_list"
      ],
      "metadata": {
        "id": "E0DGrkrkSW-y"
      },
      "execution_count": 50,
      "outputs": []
    },
    {
      "cell_type": "code",
      "source": [
        "model_out, history, models_list = ensemble_model_train(models_list, train_sentences, train_labels, val_sentences, val_labels)"
      ],
      "metadata": {
        "colab": {
          "base_uri": "https://localhost:8080/"
        },
        "id": "OtgBVyjcTiIR",
        "outputId": "79904e05-0dad-4992-ef4c-8ac7f6c4b6dd"
      },
      "execution_count": 51,
      "outputs": [
        {
          "output_type": "stream",
          "name": "stdout",
          "text": [
            "Epoch 1/5\n",
            "215/215 [==============================] - 1s 3ms/step - loss: 1.0762 - accuracy: 0.0825 - val_loss: 0.7804 - val_accuracy: 0.3425\n",
            "Epoch 2/5\n",
            "215/215 [==============================] - 1s 3ms/step - loss: 0.7900 - accuracy: 0.1766 - val_loss: 0.6531 - val_accuracy: 0.6811\n",
            "Epoch 3/5\n",
            "215/215 [==============================] - 1s 3ms/step - loss: 0.6216 - accuracy: 0.7270 - val_loss: 0.5835 - val_accuracy: 0.7730\n",
            "Epoch 4/5\n",
            "215/215 [==============================] - 1s 3ms/step - loss: 0.5094 - accuracy: 0.8889 - val_loss: 0.5386 - val_accuracy: 0.7861\n",
            "Epoch 5/5\n",
            "215/215 [==============================] - 1s 3ms/step - loss: 0.4272 - accuracy: 0.9352 - val_loss: 0.5074 - val_accuracy: 0.7861\n",
            "0.85284835 0.3357357\n"
          ]
        }
      ]
    },
    {
      "cell_type": "code",
      "source": [
        "def ensemble_model_predict(models_list, data, method = \"max\"):\n",
        "  \"\"\"\n",
        "  Combines predictions from all models passed and returns the most probable predictions (I can already think of something better! Put a dense layer and then observe what we get. Possibly encase the models in an async function so they can run in parallel)\n",
        "  \"\"\"\n",
        "  prediction_matrix = np.empty(shape = (len(data), len(models_list)))\n",
        "  for col, model in enumerate(models_list):\n",
        "    prediction_matrix[:, col] = np.squeeze(np.asarray(model.predict(data)))\n",
        "  \n",
        "  if method == \"max\":\n",
        "    pred_mat_logits = np.round(prediction_matrix)\n",
        "    predictions = np.squeeze(np.asarray(mode(pred_mat_logits, axis = 1)[0]))\n",
        "\n",
        "  elif method == \"average\":\n",
        "    pred_mat_avg = np.mean(prediction_matrix, axis = 1)\n",
        "    predictions = np.squeeze(np.round(pred_mat_avg))\n",
        "\n",
        "  elif isinstance(model_out, tf.keras.Sequential):\n",
        "    model_out_pred = model_out.predict(prediction_matrix)\n",
        "    predictions = np.round(model_out_pred)\n",
        "  \n",
        "  return predictions"
      ],
      "metadata": {
        "id": "LYFqF5s6UWp1"
      },
      "execution_count": 55,
      "outputs": []
    },
    {
      "cell_type": "code",
      "source": [
        "ensemble_preds = ensemble_model_predict(models_list, val_sentences, method = model_out)\n",
        "model_ensemble_results = calculate_results(val_labels, ensemble_preds)\n",
        "model_ensemble_results"
      ],
      "metadata": {
        "colab": {
          "base_uri": "https://localhost:8080/"
        },
        "id": "5VlJRVPyWk4N",
        "outputId": "8536c182-4112-47ed-bb0b-97974b3719e2"
      },
      "execution_count": 56,
      "outputs": [
        {
          "output_type": "execute_result",
          "data": {
            "text/plain": [
              "{'accuracy': 78.60892388451444,\n",
              " 'f1': 0.7868366238552041,\n",
              " 'precision': 0.7925849388489975,\n",
              " 'recall': 0.7860892388451444}"
            ]
          },
          "metadata": {},
          "execution_count": 56
        }
      ]
    },
    {
      "cell_type": "code",
      "source": [
        "make_confusion_matrix(val_labels, ensemble_preds)"
      ],
      "metadata": {
        "colab": {
          "base_uri": "https://localhost:8080/",
          "height": 574
        },
        "id": "ZEtvi1yWeTU9",
        "outputId": "25d22318-9cb6-4827-8ce7-542aaf2ac6c8"
      },
      "execution_count": 54,
      "outputs": [
        {
          "output_type": "display_data",
          "data": {
            "text/plain": [
              "<Figure size 720x720 with 2 Axes>"
            ],
            "image/png": "[encoded data removed]"
          },
          "metadata": {
            "needs_background": "light"
          }
        }
      ]
    },
    {
      "cell_type": "markdown",
      "source": [
        "Yeah no. The ensemble strategy seems to be pulling down performance. Maybe it might work best for models with comparable accuracies and different strengths. But who knows maybe further down the line I might just find a way through?"
      ],
      "metadata": {
        "id": "iRPcBYUVfwhS"
      }
    }
  ],
  "metadata": {
    "accelerator": "GPU",
    "colab": {
      "collapsed_sections": [],
      "name": "08_Introduction_to_NLP_in_TensorFlow_Exercises.ipynb",
      "provenance": []
    },
    "gpuClass": "standard",
    "kernelspec": {
      "display_name": "Python 3.10.5 64-bit",
      "language": "python",
      "name": "python3"
    },
    "language_info": {
      "codemirror_mode": {
        "name": "ipython",
        "version": 3
      },
      "file_extension": ".py",
      "mimetype": "text/x-python",
      "name": "python",
      "nbconvert_exporter": "python",
      "pygments_lexer": "ipython3",
      "version": "3.10.5"
    },
    "orig_nbformat": 4,
    "vscode": {
      "interpreter": {
        "hash": "98ba7f9ca0a7d3f9faf83a09faac2df1e0ca0e1c9a5db868ca666908d95c6454"
      }
    }
  },
  "nbformat": 4,
  "nbformat_minor": 0
}