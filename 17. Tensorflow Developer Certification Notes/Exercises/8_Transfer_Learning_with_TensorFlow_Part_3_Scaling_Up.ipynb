{
  "nbformat": 4,
  "nbformat_minor": 0,
  "metadata": {
    "colab": {
      "name": "8_Transfer_Learning_with_TensorFlow_Part_3_Scaling_Up.ipynb",
      "provenance": [],
      "collapsed_sections": []
    },
    "kernelspec": {
      "name": "python3",
      "display_name": "Python 3"
    },
    "language_info": {
      "name": "python"
    },
    "gpuClass": "standard",
    "accelerator": "GPU"
  },
  "cells": [
    {
      "cell_type": "markdown",
      "source": [
        "# 8. Transfer Learning with TensorFlow Part 3: Scaling Up"
      ],
      "metadata": {
        "id": "ctnVJ7Tyl6ii"
      }
    },
    {
      "cell_type": "code",
      "execution_count": 1,
      "metadata": {
        "colab": {
          "base_uri": "https://localhost:8080/"
        },
        "id": "LUFt2pa2lwt8",
        "outputId": "52f37a28-c280-4a56-bda3-9c654a4f41c7"
      },
      "outputs": [
        {
          "output_type": "stream",
          "name": "stdout",
          "text": [
            "Drive already mounted at /content/drive; to attempt to forcibly remount, call drive.mount(\"/content/drive\", force_remount=True).\n"
          ]
        }
      ],
      "source": [
        "from google.colab import drive\n",
        "drive.mount(\"/content/drive\")"
      ]
    },
    {
      "cell_type": "markdown",
      "source": [
        "## What we're going to cover\n",
        "\n",
        "* Downloading and preparing 10% of all Food101 classes (7500+ training images)\n",
        "* Training a transfer learning feature extraction model\n",
        "* Fine-tuning our feature extraction model (Food Vision mini) to beat the original Food101 paper with only 10% of the data\n",
        "* Evaluating Food Vision mini's predictions\n",
        " - Finding the most wrong predictions (on the test dataset)\n",
        "* Making predictions with Food Vision mini on our own custom images"
      ],
      "metadata": {
        "id": "fuvtWUwwt_Xh"
      }
    },
    {
      "cell_type": "markdown",
      "source": [
        "Our goal is to beat the original Food101 papaer with 10% of the training (leveraging the power of deep learning)\n",
        "\n",
        "Original Food101 paper: https://data.vision.ee.ethz.ch/cvl/datasets_extra/food-101/static/bossard_eccv14_food-101.pdf\n",
        "\n",
        "Our baseline to beat is 50.76% accuracy across 101 classes."
      ],
      "metadata": {
        "id": "-4EqxG4gvucp"
      }
    },
    {
      "cell_type": "code",
      "source": [
        "!nvidia-smi"
      ],
      "metadata": {
        "colab": {
          "base_uri": "https://localhost:8080/"
        },
        "id": "t2JsXCNNuyOW",
        "outputId": "9d10732f-f657-4b14-9dcc-cab3ec05e5a0"
      },
      "execution_count": 2,
      "outputs": [
        {
          "output_type": "stream",
          "name": "stdout",
          "text": [
            "Fri Jul  8 03:52:13 2022       \n",
            "+-----------------------------------------------------------------------------+\n",
            "| NVIDIA-SMI 460.32.03    Driver Version: 460.32.03    CUDA Version: 11.2     |\n",
            "|-------------------------------+----------------------+----------------------+\n",
            "| GPU  Name        Persistence-M| Bus-Id        Disp.A | Volatile Uncorr. ECC |\n",
            "| Fan  Temp  Perf  Pwr:Usage/Cap|         Memory-Usage | GPU-Util  Compute M. |\n",
            "|                               |                      |               MIG M. |\n",
            "|===============================+======================+======================|\n",
            "|   0  Tesla T4            Off  | 00000000:00:04.0 Off |                    0 |\n",
            "| N/A   34C    P8     9W /  70W |      0MiB / 15109MiB |      0%      Default |\n",
            "|                               |                      |                  N/A |\n",
            "+-------------------------------+----------------------+----------------------+\n",
            "                                                                               \n",
            "+-----------------------------------------------------------------------------+\n",
            "| Processes:                                                                  |\n",
            "|  GPU   GI   CI        PID   Type   Process name                  GPU Memory |\n",
            "|        ID   ID                                                   Usage      |\n",
            "|=============================================================================|\n",
            "|  No running processes found                                                 |\n",
            "+-----------------------------------------------------------------------------+\n"
          ]
        }
      ]
    },
    {
      "cell_type": "code",
      "source": [
        "!wget https://raw.githubusercontent.com/mrdbourke/tensorflow-deep-learning/main/extras/helper_functions.py"
      ],
      "metadata": {
        "colab": {
          "base_uri": "https://localhost:8080/"
        },
        "id": "ni5AByh8wlip",
        "outputId": "84ca8b6d-574a-4bbe-c4b3-348dbfa928a5"
      },
      "execution_count": 3,
      "outputs": [
        {
          "output_type": "stream",
          "name": "stdout",
          "text": [
            "--2022-07-08 03:52:13--  https://raw.githubusercontent.com/mrdbourke/tensorflow-deep-learning/main/extras/helper_functions.py\n",
            "Resolving raw.githubusercontent.com (raw.githubusercontent.com)... 185.199.108.133, 185.199.109.133, 185.199.110.133, ...\n",
            "Connecting to raw.githubusercontent.com (raw.githubusercontent.com)|185.199.108.133|:443... connected.\n",
            "HTTP request sent, awaiting response... 200 OK\n",
            "Length: 10246 (10K) [text/plain]\n",
            "Saving to: ‘helper_functions.py.5’\n",
            "\n",
            "\rhelper_functions.py   0%[                    ]       0  --.-KB/s               \rhelper_functions.py 100%[===================>]  10.01K  --.-KB/s    in 0s      \n",
            "\n",
            "2022-07-08 03:52:13 (112 MB/s) - ‘helper_functions.py.5’ saved [10246/10246]\n",
            "\n"
          ]
        }
      ]
    },
    {
      "cell_type": "code",
      "source": [
        "from helper_functions import create_tensorboard_callback, plot_loss_curves, unzip_data, compare_historys, walk_through_dir"
      ],
      "metadata": {
        "id": "c8WJvh27w05L"
      },
      "execution_count": 4,
      "outputs": []
    },
    {
      "cell_type": "markdown",
      "source": [
        "## 101 Food Classes: Working with less Data\n",
        "\n",
        "Our goal is to beat the original Food101 paper with 10% of the training data, so lets download it.\n",
        "\n",
        "The data we're downloading comes from the original Food101 dataset but has been preprocessed using the image_data_modification notebook"
      ],
      "metadata": {
        "id": "1vb8UeuKxAzo"
      }
    },
    {
      "cell_type": "code",
      "source": [
        "import zipfile\n",
        "import os\n",
        "# if os.path.exists('/content/drive/MyDrive/TensorFlow Developer Certification/Data/Classification/101_food_classes_10_percent.zip') == False:\n",
        "!curl \"https://storage.googleapis.com/ztm_tf_course/food_vision/101_food_classes_10_percent.zip\" --output \"/content/drive/MyDrive/TensorFlow Developer Certification/Data/Classification/101_food_classes_10_percent.zip\"\n",
        "zip_file = zipfile.ZipFile(\"/content/drive/MyDrive/TensorFlow Developer Certification/Data/Classification/101_food_classes_10_percent.zip\")\n",
        "zip_file.extractall(\"/content/drive/MyDrive/TensorFlow Developer Certification/Data/Classification\")\n",
        "zip_file.close()\n",
        "os.remove(\"/content/drive/MyDrive/TensorFlow Developer Certification/Data/Classification/101_food_classes_10_percent.zip\")"
      ],
      "metadata": {
        "id": "rsxxtUlVyBPj",
        "colab": {
          "base_uri": "https://localhost:8080/"
        },
        "outputId": "23e284fe-2d88-4f33-aa15-1ad1b8e1213f"
      },
      "execution_count": 5,
      "outputs": [
        {
          "output_type": "stream",
          "name": "stdout",
          "text": [
            "  % Total    % Received % Xferd  Average Speed   Time    Time     Time  Current\n",
            "                                 Dload  Upload   Total   Spent    Left  Speed\n",
            "100 1550M  100 1550M    0     0  83.6M      0  0:00:18  0:00:18 --:--:-- 85.4M\n"
          ]
        }
      ]
    },
    {
      "cell_type": "code",
      "source": [
        "# How many images/classes are there?\n",
        "walk_through_dir(\"/content/drive/MyDrive/TensorFlow Developer Certification/Data/Classification/101_food_classes_10_percent\")"
      ],
      "metadata": {
        "colab": {
          "base_uri": "https://localhost:8080/"
        },
        "id": "7zTfrbGvyjaG",
        "outputId": "eee7f648-3bfc-4b3c-b307-424632302c7f"
      },
      "execution_count": 6,
      "outputs": [
        {
          "output_type": "stream",
          "name": "stdout",
          "text": [
            "There are 2 directories and 0 images in '/content/drive/MyDrive/TensorFlow Developer Certification/Data/Classification/101_food_classes_10_percent'.\n",
            "There are 101 directories and 0 images in '/content/drive/MyDrive/TensorFlow Developer Certification/Data/Classification/101_food_classes_10_percent/test'.\n",
            "There are 0 directories and 250 images in '/content/drive/MyDrive/TensorFlow Developer Certification/Data/Classification/101_food_classes_10_percent/test/foie_gras'.\n",
            "There are 0 directories and 250 images in '/content/drive/MyDrive/TensorFlow Developer Certification/Data/Classification/101_food_classes_10_percent/test/club_sandwich'.\n",
            "There are 0 directories and 250 images in '/content/drive/MyDrive/TensorFlow Developer Certification/Data/Classification/101_food_classes_10_percent/test/cheese_plate'.\n",
            "There are 0 directories and 250 images in '/content/drive/MyDrive/TensorFlow Developer Certification/Data/Classification/101_food_classes_10_percent/test/cup_cakes'.\n",
            "There are 0 directories and 250 images in '/content/drive/MyDrive/TensorFlow Developer Certification/Data/Classification/101_food_classes_10_percent/test/garlic_bread'.\n",
            "There are 0 directories and 250 images in '/content/drive/MyDrive/TensorFlow Developer Certification/Data/Classification/101_food_classes_10_percent/test/gnocchi'.\n",
            "There are 0 directories and 250 images in '/content/drive/MyDrive/TensorFlow Developer Certification/Data/Classification/101_food_classes_10_percent/test/ice_cream'.\n",
            "There are 0 directories and 250 images in '/content/drive/MyDrive/TensorFlow Developer Certification/Data/Classification/101_food_classes_10_percent/test/samosa'.\n",
            "There are 0 directories and 250 images in '/content/drive/MyDrive/TensorFlow Developer Certification/Data/Classification/101_food_classes_10_percent/test/donuts'.\n",
            "There are 0 directories and 250 images in '/content/drive/MyDrive/TensorFlow Developer Certification/Data/Classification/101_food_classes_10_percent/test/tuna_tartare'.\n",
            "There are 0 directories and 250 images in '/content/drive/MyDrive/TensorFlow Developer Certification/Data/Classification/101_food_classes_10_percent/test/filet_mignon'.\n",
            "There are 0 directories and 250 images in '/content/drive/MyDrive/TensorFlow Developer Certification/Data/Classification/101_food_classes_10_percent/test/seaweed_salad'.\n",
            "There are 0 directories and 250 images in '/content/drive/MyDrive/TensorFlow Developer Certification/Data/Classification/101_food_classes_10_percent/test/french_toast'.\n",
            "There are 0 directories and 250 images in '/content/drive/MyDrive/TensorFlow Developer Certification/Data/Classification/101_food_classes_10_percent/test/chicken_curry'.\n",
            "There are 0 directories and 250 images in '/content/drive/MyDrive/TensorFlow Developer Certification/Data/Classification/101_food_classes_10_percent/test/shrimp_and_grits'.\n",
            "There are 0 directories and 250 images in '/content/drive/MyDrive/TensorFlow Developer Certification/Data/Classification/101_food_classes_10_percent/test/steak'.\n",
            "There are 0 directories and 250 images in '/content/drive/MyDrive/TensorFlow Developer Certification/Data/Classification/101_food_classes_10_percent/test/cheesecake'.\n",
            "There are 0 directories and 250 images in '/content/drive/MyDrive/TensorFlow Developer Certification/Data/Classification/101_food_classes_10_percent/test/red_velvet_cake'.\n",
            "There are 0 directories and 250 images in '/content/drive/MyDrive/TensorFlow Developer Certification/Data/Classification/101_food_classes_10_percent/test/waffles'.\n",
            "There are 0 directories and 250 images in '/content/drive/MyDrive/TensorFlow Developer Certification/Data/Classification/101_food_classes_10_percent/test/churros'.\n",
            "There are 0 directories and 250 images in '/content/drive/MyDrive/TensorFlow Developer Certification/Data/Classification/101_food_classes_10_percent/test/gyoza'.\n",
            "There are 0 directories and 250 images in '/content/drive/MyDrive/TensorFlow Developer Certification/Data/Classification/101_food_classes_10_percent/test/lobster_roll_sandwich'.\n",
            "There are 0 directories and 250 images in '/content/drive/MyDrive/TensorFlow Developer Certification/Data/Classification/101_food_classes_10_percent/test/huevos_rancheros'.\n",
            "There are 0 directories and 250 images in '/content/drive/MyDrive/TensorFlow Developer Certification/Data/Classification/101_food_classes_10_percent/test/breakfast_burrito'.\n",
            "There are 0 directories and 250 images in '/content/drive/MyDrive/TensorFlow Developer Certification/Data/Classification/101_food_classes_10_percent/test/grilled_cheese_sandwich'.\n",
            "There are 0 directories and 250 images in '/content/drive/MyDrive/TensorFlow Developer Certification/Data/Classification/101_food_classes_10_percent/test/spaghetti_bolognese'.\n",
            "There are 0 directories and 250 images in '/content/drive/MyDrive/TensorFlow Developer Certification/Data/Classification/101_food_classes_10_percent/test/falafel'.\n",
            "There are 0 directories and 250 images in '/content/drive/MyDrive/TensorFlow Developer Certification/Data/Classification/101_food_classes_10_percent/test/poutine'.\n",
            "There are 0 directories and 250 images in '/content/drive/MyDrive/TensorFlow Developer Certification/Data/Classification/101_food_classes_10_percent/test/greek_salad'.\n",
            "There are 0 directories and 250 images in '/content/drive/MyDrive/TensorFlow Developer Certification/Data/Classification/101_food_classes_10_percent/test/beef_tartare'.\n",
            "There are 0 directories and 250 images in '/content/drive/MyDrive/TensorFlow Developer Certification/Data/Classification/101_food_classes_10_percent/test/fried_calamari'.\n",
            "There are 0 directories and 250 images in '/content/drive/MyDrive/TensorFlow Developer Certification/Data/Classification/101_food_classes_10_percent/test/guacamole'.\n",
            "There are 0 directories and 250 images in '/content/drive/MyDrive/TensorFlow Developer Certification/Data/Classification/101_food_classes_10_percent/test/ravioli'.\n",
            "There are 0 directories and 250 images in '/content/drive/MyDrive/TensorFlow Developer Certification/Data/Classification/101_food_classes_10_percent/test/lobster_bisque'.\n",
            "There are 0 directories and 250 images in '/content/drive/MyDrive/TensorFlow Developer Certification/Data/Classification/101_food_classes_10_percent/test/beet_salad'.\n",
            "There are 0 directories and 250 images in '/content/drive/MyDrive/TensorFlow Developer Certification/Data/Classification/101_food_classes_10_percent/test/risotto'.\n",
            "There are 0 directories and 250 images in '/content/drive/MyDrive/TensorFlow Developer Certification/Data/Classification/101_food_classes_10_percent/test/crab_cakes'.\n",
            "There are 0 directories and 250 images in '/content/drive/MyDrive/TensorFlow Developer Certification/Data/Classification/101_food_classes_10_percent/test/strawberry_shortcake'.\n",
            "There are 0 directories and 250 images in '/content/drive/MyDrive/TensorFlow Developer Certification/Data/Classification/101_food_classes_10_percent/test/edamame'.\n",
            "There are 0 directories and 250 images in '/content/drive/MyDrive/TensorFlow Developer Certification/Data/Classification/101_food_classes_10_percent/test/ceviche'.\n",
            "There are 0 directories and 250 images in '/content/drive/MyDrive/TensorFlow Developer Certification/Data/Classification/101_food_classes_10_percent/test/hot_and_sour_soup'.\n",
            "There are 0 directories and 250 images in '/content/drive/MyDrive/TensorFlow Developer Certification/Data/Classification/101_food_classes_10_percent/test/spring_rolls'.\n",
            "There are 0 directories and 250 images in '/content/drive/MyDrive/TensorFlow Developer Certification/Data/Classification/101_food_classes_10_percent/test/sashimi'.\n",
            "There are 0 directories and 250 images in '/content/drive/MyDrive/TensorFlow Developer Certification/Data/Classification/101_food_classes_10_percent/test/paella'.\n",
            "There are 0 directories and 250 images in '/content/drive/MyDrive/TensorFlow Developer Certification/Data/Classification/101_food_classes_10_percent/test/clam_chowder'.\n",
            "There are 0 directories and 250 images in '/content/drive/MyDrive/TensorFlow Developer Certification/Data/Classification/101_food_classes_10_percent/test/miso_soup'.\n",
            "There are 0 directories and 250 images in '/content/drive/MyDrive/TensorFlow Developer Certification/Data/Classification/101_food_classes_10_percent/test/escargots'.\n",
            "There are 0 directories and 250 images in '/content/drive/MyDrive/TensorFlow Developer Certification/Data/Classification/101_food_classes_10_percent/test/hot_dog'.\n",
            "There are 0 directories and 250 images in '/content/drive/MyDrive/TensorFlow Developer Certification/Data/Classification/101_food_classes_10_percent/test/pulled_pork_sandwich'.\n",
            "There are 0 directories and 250 images in '/content/drive/MyDrive/TensorFlow Developer Certification/Data/Classification/101_food_classes_10_percent/test/bruschetta'.\n",
            "There are 0 directories and 250 images in '/content/drive/MyDrive/TensorFlow Developer Certification/Data/Classification/101_food_classes_10_percent/test/panna_cotta'.\n",
            "There are 0 directories and 250 images in '/content/drive/MyDrive/TensorFlow Developer Certification/Data/Classification/101_food_classes_10_percent/test/fish_and_chips'.\n",
            "There are 0 directories and 250 images in '/content/drive/MyDrive/TensorFlow Developer Certification/Data/Classification/101_food_classes_10_percent/test/pad_thai'.\n",
            "There are 0 directories and 250 images in '/content/drive/MyDrive/TensorFlow Developer Certification/Data/Classification/101_food_classes_10_percent/test/tiramisu'.\n",
            "There are 0 directories and 250 images in '/content/drive/MyDrive/TensorFlow Developer Certification/Data/Classification/101_food_classes_10_percent/test/takoyaki'.\n",
            "There are 0 directories and 250 images in '/content/drive/MyDrive/TensorFlow Developer Certification/Data/Classification/101_food_classes_10_percent/test/macarons'.\n",
            "There are 0 directories and 250 images in '/content/drive/MyDrive/TensorFlow Developer Certification/Data/Classification/101_food_classes_10_percent/test/apple_pie'.\n",
            "There are 0 directories and 250 images in '/content/drive/MyDrive/TensorFlow Developer Certification/Data/Classification/101_food_classes_10_percent/test/cannoli'.\n",
            "There are 0 directories and 250 images in '/content/drive/MyDrive/TensorFlow Developer Certification/Data/Classification/101_food_classes_10_percent/test/scallops'.\n",
            "There are 0 directories and 250 images in '/content/drive/MyDrive/TensorFlow Developer Certification/Data/Classification/101_food_classes_10_percent/test/frozen_yogurt'.\n",
            "There are 0 directories and 250 images in '/content/drive/MyDrive/TensorFlow Developer Certification/Data/Classification/101_food_classes_10_percent/test/chicken_quesadilla'.\n",
            "There are 0 directories and 250 images in '/content/drive/MyDrive/TensorFlow Developer Certification/Data/Classification/101_food_classes_10_percent/test/mussels'.\n",
            "There are 0 directories and 250 images in '/content/drive/MyDrive/TensorFlow Developer Certification/Data/Classification/101_food_classes_10_percent/test/beef_carpaccio'.\n",
            "There are 0 directories and 250 images in '/content/drive/MyDrive/TensorFlow Developer Certification/Data/Classification/101_food_classes_10_percent/test/eggs_benedict'.\n",
            "There are 0 directories and 250 images in '/content/drive/MyDrive/TensorFlow Developer Certification/Data/Classification/101_food_classes_10_percent/test/spaghetti_carbonara'.\n",
            "There are 0 directories and 250 images in '/content/drive/MyDrive/TensorFlow Developer Certification/Data/Classification/101_food_classes_10_percent/test/omelette'.\n",
            "There are 0 directories and 250 images in '/content/drive/MyDrive/TensorFlow Developer Certification/Data/Classification/101_food_classes_10_percent/test/sushi'.\n",
            "There are 0 directories and 250 images in '/content/drive/MyDrive/TensorFlow Developer Certification/Data/Classification/101_food_classes_10_percent/test/chocolate_mousse'.\n",
            "There are 0 directories and 250 images in '/content/drive/MyDrive/TensorFlow Developer Certification/Data/Classification/101_food_classes_10_percent/test/beignets'.\n",
            "There are 0 directories and 250 images in '/content/drive/MyDrive/TensorFlow Developer Certification/Data/Classification/101_food_classes_10_percent/test/bibimbap'.\n",
            "There are 0 directories and 250 images in '/content/drive/MyDrive/TensorFlow Developer Certification/Data/Classification/101_food_classes_10_percent/test/hummus'.\n",
            "There are 0 directories and 250 images in '/content/drive/MyDrive/TensorFlow Developer Certification/Data/Classification/101_food_classes_10_percent/test/pork_chop'.\n",
            "There are 0 directories and 250 images in '/content/drive/MyDrive/TensorFlow Developer Certification/Data/Classification/101_food_classes_10_percent/test/chicken_wings'.\n",
            "There are 0 directories and 250 images in '/content/drive/MyDrive/TensorFlow Developer Certification/Data/Classification/101_food_classes_10_percent/test/grilled_salmon'.\n",
            "There are 0 directories and 250 images in '/content/drive/MyDrive/TensorFlow Developer Certification/Data/Classification/101_food_classes_10_percent/test/chocolate_cake'.\n",
            "There are 0 directories and 250 images in '/content/drive/MyDrive/TensorFlow Developer Certification/Data/Classification/101_food_classes_10_percent/test/tacos'.\n",
            "There are 0 directories and 250 images in '/content/drive/MyDrive/TensorFlow Developer Certification/Data/Classification/101_food_classes_10_percent/test/hamburger'.\n",
            "There are 0 directories and 250 images in '/content/drive/MyDrive/TensorFlow Developer Certification/Data/Classification/101_food_classes_10_percent/test/baby_back_ribs'.\n",
            "There are 0 directories and 250 images in '/content/drive/MyDrive/TensorFlow Developer Certification/Data/Classification/101_food_classes_10_percent/test/pancakes'.\n",
            "There are 0 directories and 250 images in '/content/drive/MyDrive/TensorFlow Developer Certification/Data/Classification/101_food_classes_10_percent/test/prime_rib'.\n",
            "There are 0 directories and 250 images in '/content/drive/MyDrive/TensorFlow Developer Certification/Data/Classification/101_food_classes_10_percent/test/pizza'.\n",
            "There are 0 directories and 250 images in '/content/drive/MyDrive/TensorFlow Developer Certification/Data/Classification/101_food_classes_10_percent/test/nachos'.\n",
            "There are 0 directories and 250 images in '/content/drive/MyDrive/TensorFlow Developer Certification/Data/Classification/101_food_classes_10_percent/test/macaroni_and_cheese'.\n",
            "There are 0 directories and 250 images in '/content/drive/MyDrive/TensorFlow Developer Certification/Data/Classification/101_food_classes_10_percent/test/bread_pudding'.\n",
            "There are 0 directories and 250 images in '/content/drive/MyDrive/TensorFlow Developer Certification/Data/Classification/101_food_classes_10_percent/test/ramen'.\n",
            "There are 0 directories and 250 images in '/content/drive/MyDrive/TensorFlow Developer Certification/Data/Classification/101_food_classes_10_percent/test/croque_madame'.\n",
            "There are 0 directories and 250 images in '/content/drive/MyDrive/TensorFlow Developer Certification/Data/Classification/101_food_classes_10_percent/test/lasagna'.\n",
            "There are 0 directories and 250 images in '/content/drive/MyDrive/TensorFlow Developer Certification/Data/Classification/101_food_classes_10_percent/test/peking_duck'.\n",
            "There are 0 directories and 250 images in '/content/drive/MyDrive/TensorFlow Developer Certification/Data/Classification/101_food_classes_10_percent/test/deviled_eggs'.\n",
            "There are 0 directories and 250 images in '/content/drive/MyDrive/TensorFlow Developer Certification/Data/Classification/101_food_classes_10_percent/test/french_fries'.\n",
            "There are 0 directories and 250 images in '/content/drive/MyDrive/TensorFlow Developer Certification/Data/Classification/101_food_classes_10_percent/test/dumplings'.\n",
            "There are 0 directories and 250 images in '/content/drive/MyDrive/TensorFlow Developer Certification/Data/Classification/101_food_classes_10_percent/test/fried_rice'.\n",
            "There are 0 directories and 250 images in '/content/drive/MyDrive/TensorFlow Developer Certification/Data/Classification/101_food_classes_10_percent/test/french_onion_soup'.\n",
            "There are 0 directories and 250 images in '/content/drive/MyDrive/TensorFlow Developer Certification/Data/Classification/101_food_classes_10_percent/test/pho'.\n",
            "There are 0 directories and 250 images in '/content/drive/MyDrive/TensorFlow Developer Certification/Data/Classification/101_food_classes_10_percent/test/caprese_salad'.\n",
            "There are 0 directories and 250 images in '/content/drive/MyDrive/TensorFlow Developer Certification/Data/Classification/101_food_classes_10_percent/test/oysters'.\n",
            "There are 0 directories and 250 images in '/content/drive/MyDrive/TensorFlow Developer Certification/Data/Classification/101_food_classes_10_percent/test/baklava'.\n",
            "There are 0 directories and 250 images in '/content/drive/MyDrive/TensorFlow Developer Certification/Data/Classification/101_food_classes_10_percent/test/creme_brulee'.\n",
            "There are 0 directories and 250 images in '/content/drive/MyDrive/TensorFlow Developer Certification/Data/Classification/101_food_classes_10_percent/test/carrot_cake'.\n",
            "There are 0 directories and 250 images in '/content/drive/MyDrive/TensorFlow Developer Certification/Data/Classification/101_food_classes_10_percent/test/onion_rings'.\n",
            "There are 0 directories and 250 images in '/content/drive/MyDrive/TensorFlow Developer Certification/Data/Classification/101_food_classes_10_percent/test/caesar_salad'.\n",
            "There are 101 directories and 0 images in '/content/drive/MyDrive/TensorFlow Developer Certification/Data/Classification/101_food_classes_10_percent/train'.\n",
            "There are 0 directories and 75 images in '/content/drive/MyDrive/TensorFlow Developer Certification/Data/Classification/101_food_classes_10_percent/train/foie_gras'.\n",
            "There are 0 directories and 75 images in '/content/drive/MyDrive/TensorFlow Developer Certification/Data/Classification/101_food_classes_10_percent/train/club_sandwich'.\n",
            "There are 0 directories and 75 images in '/content/drive/MyDrive/TensorFlow Developer Certification/Data/Classification/101_food_classes_10_percent/train/cheese_plate'.\n",
            "There are 0 directories and 75 images in '/content/drive/MyDrive/TensorFlow Developer Certification/Data/Classification/101_food_classes_10_percent/train/cup_cakes'.\n",
            "There are 0 directories and 75 images in '/content/drive/MyDrive/TensorFlow Developer Certification/Data/Classification/101_food_classes_10_percent/train/garlic_bread'.\n",
            "There are 0 directories and 75 images in '/content/drive/MyDrive/TensorFlow Developer Certification/Data/Classification/101_food_classes_10_percent/train/gnocchi'.\n",
            "There are 0 directories and 75 images in '/content/drive/MyDrive/TensorFlow Developer Certification/Data/Classification/101_food_classes_10_percent/train/ice_cream'.\n",
            "There are 0 directories and 75 images in '/content/drive/MyDrive/TensorFlow Developer Certification/Data/Classification/101_food_classes_10_percent/train/samosa'.\n",
            "There are 0 directories and 75 images in '/content/drive/MyDrive/TensorFlow Developer Certification/Data/Classification/101_food_classes_10_percent/train/donuts'.\n",
            "There are 0 directories and 75 images in '/content/drive/MyDrive/TensorFlow Developer Certification/Data/Classification/101_food_classes_10_percent/train/tuna_tartare'.\n",
            "There are 0 directories and 75 images in '/content/drive/MyDrive/TensorFlow Developer Certification/Data/Classification/101_food_classes_10_percent/train/filet_mignon'.\n",
            "There are 0 directories and 75 images in '/content/drive/MyDrive/TensorFlow Developer Certification/Data/Classification/101_food_classes_10_percent/train/seaweed_salad'.\n",
            "There are 0 directories and 75 images in '/content/drive/MyDrive/TensorFlow Developer Certification/Data/Classification/101_food_classes_10_percent/train/french_toast'.\n",
            "There are 0 directories and 75 images in '/content/drive/MyDrive/TensorFlow Developer Certification/Data/Classification/101_food_classes_10_percent/train/chicken_curry'.\n",
            "There are 0 directories and 75 images in '/content/drive/MyDrive/TensorFlow Developer Certification/Data/Classification/101_food_classes_10_percent/train/shrimp_and_grits'.\n",
            "There are 0 directories and 75 images in '/content/drive/MyDrive/TensorFlow Developer Certification/Data/Classification/101_food_classes_10_percent/train/steak'.\n",
            "There are 0 directories and 75 images in '/content/drive/MyDrive/TensorFlow Developer Certification/Data/Classification/101_food_classes_10_percent/train/cheesecake'.\n",
            "There are 0 directories and 75 images in '/content/drive/MyDrive/TensorFlow Developer Certification/Data/Classification/101_food_classes_10_percent/train/red_velvet_cake'.\n",
            "There are 0 directories and 75 images in '/content/drive/MyDrive/TensorFlow Developer Certification/Data/Classification/101_food_classes_10_percent/train/waffles'.\n",
            "There are 0 directories and 75 images in '/content/drive/MyDrive/TensorFlow Developer Certification/Data/Classification/101_food_classes_10_percent/train/churros'.\n",
            "There are 0 directories and 75 images in '/content/drive/MyDrive/TensorFlow Developer Certification/Data/Classification/101_food_classes_10_percent/train/gyoza'.\n",
            "There are 0 directories and 75 images in '/content/drive/MyDrive/TensorFlow Developer Certification/Data/Classification/101_food_classes_10_percent/train/lobster_roll_sandwich'.\n",
            "There are 0 directories and 75 images in '/content/drive/MyDrive/TensorFlow Developer Certification/Data/Classification/101_food_classes_10_percent/train/huevos_rancheros'.\n",
            "There are 0 directories and 75 images in '/content/drive/MyDrive/TensorFlow Developer Certification/Data/Classification/101_food_classes_10_percent/train/breakfast_burrito'.\n",
            "There are 0 directories and 75 images in '/content/drive/MyDrive/TensorFlow Developer Certification/Data/Classification/101_food_classes_10_percent/train/grilled_cheese_sandwich'.\n",
            "There are 0 directories and 75 images in '/content/drive/MyDrive/TensorFlow Developer Certification/Data/Classification/101_food_classes_10_percent/train/spaghetti_bolognese'.\n",
            "There are 0 directories and 75 images in '/content/drive/MyDrive/TensorFlow Developer Certification/Data/Classification/101_food_classes_10_percent/train/falafel'.\n",
            "There are 0 directories and 75 images in '/content/drive/MyDrive/TensorFlow Developer Certification/Data/Classification/101_food_classes_10_percent/train/poutine'.\n",
            "There are 0 directories and 75 images in '/content/drive/MyDrive/TensorFlow Developer Certification/Data/Classification/101_food_classes_10_percent/train/greek_salad'.\n",
            "There are 0 directories and 75 images in '/content/drive/MyDrive/TensorFlow Developer Certification/Data/Classification/101_food_classes_10_percent/train/beef_tartare'.\n",
            "There are 0 directories and 75 images in '/content/drive/MyDrive/TensorFlow Developer Certification/Data/Classification/101_food_classes_10_percent/train/fried_calamari'.\n",
            "There are 0 directories and 75 images in '/content/drive/MyDrive/TensorFlow Developer Certification/Data/Classification/101_food_classes_10_percent/train/guacamole'.\n",
            "There are 0 directories and 75 images in '/content/drive/MyDrive/TensorFlow Developer Certification/Data/Classification/101_food_classes_10_percent/train/ravioli'.\n",
            "There are 0 directories and 75 images in '/content/drive/MyDrive/TensorFlow Developer Certification/Data/Classification/101_food_classes_10_percent/train/lobster_bisque'.\n",
            "There are 0 directories and 75 images in '/content/drive/MyDrive/TensorFlow Developer Certification/Data/Classification/101_food_classes_10_percent/train/beet_salad'.\n",
            "There are 0 directories and 75 images in '/content/drive/MyDrive/TensorFlow Developer Certification/Data/Classification/101_food_classes_10_percent/train/risotto'.\n",
            "There are 0 directories and 75 images in '/content/drive/MyDrive/TensorFlow Developer Certification/Data/Classification/101_food_classes_10_percent/train/crab_cakes'.\n",
            "There are 0 directories and 75 images in '/content/drive/MyDrive/TensorFlow Developer Certification/Data/Classification/101_food_classes_10_percent/train/strawberry_shortcake'.\n",
            "There are 0 directories and 75 images in '/content/drive/MyDrive/TensorFlow Developer Certification/Data/Classification/101_food_classes_10_percent/train/edamame'.\n",
            "There are 0 directories and 75 images in '/content/drive/MyDrive/TensorFlow Developer Certification/Data/Classification/101_food_classes_10_percent/train/ceviche'.\n",
            "There are 0 directories and 75 images in '/content/drive/MyDrive/TensorFlow Developer Certification/Data/Classification/101_food_classes_10_percent/train/hot_and_sour_soup'.\n",
            "There are 0 directories and 75 images in '/content/drive/MyDrive/TensorFlow Developer Certification/Data/Classification/101_food_classes_10_percent/train/spring_rolls'.\n",
            "There are 0 directories and 75 images in '/content/drive/MyDrive/TensorFlow Developer Certification/Data/Classification/101_food_classes_10_percent/train/sashimi'.\n",
            "There are 0 directories and 75 images in '/content/drive/MyDrive/TensorFlow Developer Certification/Data/Classification/101_food_classes_10_percent/train/paella'.\n",
            "There are 0 directories and 75 images in '/content/drive/MyDrive/TensorFlow Developer Certification/Data/Classification/101_food_classes_10_percent/train/clam_chowder'.\n",
            "There are 0 directories and 75 images in '/content/drive/MyDrive/TensorFlow Developer Certification/Data/Classification/101_food_classes_10_percent/train/miso_soup'.\n",
            "There are 0 directories and 75 images in '/content/drive/MyDrive/TensorFlow Developer Certification/Data/Classification/101_food_classes_10_percent/train/escargots'.\n",
            "There are 0 directories and 75 images in '/content/drive/MyDrive/TensorFlow Developer Certification/Data/Classification/101_food_classes_10_percent/train/hot_dog'.\n",
            "There are 0 directories and 75 images in '/content/drive/MyDrive/TensorFlow Developer Certification/Data/Classification/101_food_classes_10_percent/train/pulled_pork_sandwich'.\n",
            "There are 0 directories and 75 images in '/content/drive/MyDrive/TensorFlow Developer Certification/Data/Classification/101_food_classes_10_percent/train/bruschetta'.\n",
            "There are 0 directories and 75 images in '/content/drive/MyDrive/TensorFlow Developer Certification/Data/Classification/101_food_classes_10_percent/train/panna_cotta'.\n",
            "There are 0 directories and 75 images in '/content/drive/MyDrive/TensorFlow Developer Certification/Data/Classification/101_food_classes_10_percent/train/fish_and_chips'.\n",
            "There are 0 directories and 75 images in '/content/drive/MyDrive/TensorFlow Developer Certification/Data/Classification/101_food_classes_10_percent/train/pad_thai'.\n",
            "There are 0 directories and 75 images in '/content/drive/MyDrive/TensorFlow Developer Certification/Data/Classification/101_food_classes_10_percent/train/tiramisu'.\n",
            "There are 0 directories and 75 images in '/content/drive/MyDrive/TensorFlow Developer Certification/Data/Classification/101_food_classes_10_percent/train/takoyaki'.\n",
            "There are 0 directories and 75 images in '/content/drive/MyDrive/TensorFlow Developer Certification/Data/Classification/101_food_classes_10_percent/train/macarons'.\n",
            "There are 0 directories and 75 images in '/content/drive/MyDrive/TensorFlow Developer Certification/Data/Classification/101_food_classes_10_percent/train/apple_pie'.\n",
            "There are 0 directories and 75 images in '/content/drive/MyDrive/TensorFlow Developer Certification/Data/Classification/101_food_classes_10_percent/train/cannoli'.\n",
            "There are 0 directories and 75 images in '/content/drive/MyDrive/TensorFlow Developer Certification/Data/Classification/101_food_classes_10_percent/train/scallops'.\n",
            "There are 0 directories and 75 images in '/content/drive/MyDrive/TensorFlow Developer Certification/Data/Classification/101_food_classes_10_percent/train/frozen_yogurt'.\n",
            "There are 0 directories and 75 images in '/content/drive/MyDrive/TensorFlow Developer Certification/Data/Classification/101_food_classes_10_percent/train/chicken_quesadilla'.\n",
            "There are 0 directories and 75 images in '/content/drive/MyDrive/TensorFlow Developer Certification/Data/Classification/101_food_classes_10_percent/train/mussels'.\n",
            "There are 0 directories and 75 images in '/content/drive/MyDrive/TensorFlow Developer Certification/Data/Classification/101_food_classes_10_percent/train/beef_carpaccio'.\n",
            "There are 0 directories and 75 images in '/content/drive/MyDrive/TensorFlow Developer Certification/Data/Classification/101_food_classes_10_percent/train/eggs_benedict'.\n",
            "There are 0 directories and 75 images in '/content/drive/MyDrive/TensorFlow Developer Certification/Data/Classification/101_food_classes_10_percent/train/spaghetti_carbonara'.\n",
            "There are 0 directories and 75 images in '/content/drive/MyDrive/TensorFlow Developer Certification/Data/Classification/101_food_classes_10_percent/train/omelette'.\n",
            "There are 0 directories and 75 images in '/content/drive/MyDrive/TensorFlow Developer Certification/Data/Classification/101_food_classes_10_percent/train/sushi'.\n",
            "There are 0 directories and 75 images in '/content/drive/MyDrive/TensorFlow Developer Certification/Data/Classification/101_food_classes_10_percent/train/chocolate_mousse'.\n",
            "There are 0 directories and 75 images in '/content/drive/MyDrive/TensorFlow Developer Certification/Data/Classification/101_food_classes_10_percent/train/beignets'.\n",
            "There are 0 directories and 75 images in '/content/drive/MyDrive/TensorFlow Developer Certification/Data/Classification/101_food_classes_10_percent/train/bibimbap'.\n",
            "There are 0 directories and 75 images in '/content/drive/MyDrive/TensorFlow Developer Certification/Data/Classification/101_food_classes_10_percent/train/hummus'.\n",
            "There are 0 directories and 75 images in '/content/drive/MyDrive/TensorFlow Developer Certification/Data/Classification/101_food_classes_10_percent/train/pork_chop'.\n",
            "There are 0 directories and 75 images in '/content/drive/MyDrive/TensorFlow Developer Certification/Data/Classification/101_food_classes_10_percent/train/chicken_wings'.\n",
            "There are 0 directories and 75 images in '/content/drive/MyDrive/TensorFlow Developer Certification/Data/Classification/101_food_classes_10_percent/train/grilled_salmon'.\n",
            "There are 0 directories and 75 images in '/content/drive/MyDrive/TensorFlow Developer Certification/Data/Classification/101_food_classes_10_percent/train/chocolate_cake'.\n",
            "There are 0 directories and 75 images in '/content/drive/MyDrive/TensorFlow Developer Certification/Data/Classification/101_food_classes_10_percent/train/tacos'.\n",
            "There are 0 directories and 75 images in '/content/drive/MyDrive/TensorFlow Developer Certification/Data/Classification/101_food_classes_10_percent/train/hamburger'.\n",
            "There are 0 directories and 75 images in '/content/drive/MyDrive/TensorFlow Developer Certification/Data/Classification/101_food_classes_10_percent/train/baby_back_ribs'.\n",
            "There are 0 directories and 75 images in '/content/drive/MyDrive/TensorFlow Developer Certification/Data/Classification/101_food_classes_10_percent/train/pancakes'.\n",
            "There are 0 directories and 75 images in '/content/drive/MyDrive/TensorFlow Developer Certification/Data/Classification/101_food_classes_10_percent/train/prime_rib'.\n",
            "There are 0 directories and 75 images in '/content/drive/MyDrive/TensorFlow Developer Certification/Data/Classification/101_food_classes_10_percent/train/pizza'.\n",
            "There are 0 directories and 75 images in '/content/drive/MyDrive/TensorFlow Developer Certification/Data/Classification/101_food_classes_10_percent/train/nachos'.\n",
            "There are 0 directories and 75 images in '/content/drive/MyDrive/TensorFlow Developer Certification/Data/Classification/101_food_classes_10_percent/train/macaroni_and_cheese'.\n",
            "There are 0 directories and 75 images in '/content/drive/MyDrive/TensorFlow Developer Certification/Data/Classification/101_food_classes_10_percent/train/bread_pudding'.\n",
            "There are 0 directories and 75 images in '/content/drive/MyDrive/TensorFlow Developer Certification/Data/Classification/101_food_classes_10_percent/train/ramen'.\n",
            "There are 0 directories and 75 images in '/content/drive/MyDrive/TensorFlow Developer Certification/Data/Classification/101_food_classes_10_percent/train/croque_madame'.\n",
            "There are 0 directories and 75 images in '/content/drive/MyDrive/TensorFlow Developer Certification/Data/Classification/101_food_classes_10_percent/train/lasagna'.\n",
            "There are 0 directories and 75 images in '/content/drive/MyDrive/TensorFlow Developer Certification/Data/Classification/101_food_classes_10_percent/train/peking_duck'.\n",
            "There are 0 directories and 75 images in '/content/drive/MyDrive/TensorFlow Developer Certification/Data/Classification/101_food_classes_10_percent/train/deviled_eggs'.\n",
            "There are 0 directories and 75 images in '/content/drive/MyDrive/TensorFlow Developer Certification/Data/Classification/101_food_classes_10_percent/train/french_fries'.\n",
            "There are 0 directories and 75 images in '/content/drive/MyDrive/TensorFlow Developer Certification/Data/Classification/101_food_classes_10_percent/train/dumplings'.\n",
            "There are 0 directories and 75 images in '/content/drive/MyDrive/TensorFlow Developer Certification/Data/Classification/101_food_classes_10_percent/train/fried_rice'.\n",
            "There are 0 directories and 75 images in '/content/drive/MyDrive/TensorFlow Developer Certification/Data/Classification/101_food_classes_10_percent/train/french_onion_soup'.\n",
            "There are 0 directories and 75 images in '/content/drive/MyDrive/TensorFlow Developer Certification/Data/Classification/101_food_classes_10_percent/train/pho'.\n",
            "There are 0 directories and 75 images in '/content/drive/MyDrive/TensorFlow Developer Certification/Data/Classification/101_food_classes_10_percent/train/caprese_salad'.\n",
            "There are 0 directories and 75 images in '/content/drive/MyDrive/TensorFlow Developer Certification/Data/Classification/101_food_classes_10_percent/train/oysters'.\n",
            "There are 0 directories and 75 images in '/content/drive/MyDrive/TensorFlow Developer Certification/Data/Classification/101_food_classes_10_percent/train/baklava'.\n",
            "There are 0 directories and 75 images in '/content/drive/MyDrive/TensorFlow Developer Certification/Data/Classification/101_food_classes_10_percent/train/creme_brulee'.\n",
            "There are 0 directories and 75 images in '/content/drive/MyDrive/TensorFlow Developer Certification/Data/Classification/101_food_classes_10_percent/train/carrot_cake'.\n",
            "There are 0 directories and 75 images in '/content/drive/MyDrive/TensorFlow Developer Certification/Data/Classification/101_food_classes_10_percent/train/onion_rings'.\n",
            "There are 0 directories and 75 images in '/content/drive/MyDrive/TensorFlow Developer Certification/Data/Classification/101_food_classes_10_percent/train/caesar_salad'.\n"
          ]
        }
      ]
    },
    {
      "cell_type": "code",
      "source": [
        "# Setup data inputs\n",
        "import tensorflow as tf\n",
        "IMG_SIZE = (224,224)\n",
        "train_dir = \"/content/drive/MyDrive/TensorFlow Developer Certification/Data/Classification/101_food_classes_10_percent/train\"\n",
        "test_dir = \"/content/drive/MyDrive/TensorFlow Developer Certification/Data/Classification/101_food_classes_10_percent/test\"\n",
        "train_data_all_10_percent = tf.keras.preprocessing.image_dataset_from_directory(train_dir, label_mode = \"categorical\", image_size = IMG_SIZE)\n",
        "test_data = tf.keras.preprocessing.image_dataset_from_directory(test_dir, label_mode = \"categorical\", image_size = IMG_SIZE, shuffle = False) # don't shuffle test data for predictions"
      ],
      "metadata": {
        "colab": {
          "base_uri": "https://localhost:8080/"
        },
        "id": "SAyaZmstywhE",
        "outputId": "cb889c55-ad12-4b7f-f97a-6f2439ccf272"
      },
      "execution_count": 7,
      "outputs": [
        {
          "output_type": "stream",
          "name": "stdout",
          "text": [
            "Found 7575 files belonging to 101 classes.\n",
            "Found 25250 files belonging to 101 classes.\n"
          ]
        }
      ]
    },
    {
      "cell_type": "markdown",
      "source": [
        "## Train a big dog model with transfer learning on 10% of 101 food classes\n",
        "\n",
        "Here are the steps we're going to take:\n",
        "* Create a ModelCheckpoint callback\n",
        "* Create a data augmentation layer to build data augmentation right into the model\n",
        "* Build a headless (no top layers) Functional EfficientNetB0 backboned-model(we'll create our own output layer)\n",
        "* Compile the model\n",
        "* Feature extract for 5 full passes (5 epochs on the train dataset and validate on 15% of the test data, to save epoch time)"
      ],
      "metadata": {
        "id": "HB6dnPbb0fm6"
      }
    },
    {
      "cell_type": "code",
      "source": [
        "# Create checkpoin callback\n",
        "checkpoint_path = \"/content/drive/MyDrive/TensorFlow Developer Certification/Checkpoints/Classification/Transfer_Learning_Scaling_Up\"\n",
        "checkpoint = tf.keras.callbacks.ModelCheckpoint(checkpoint_path, save_weights_only = True, save_best_only = True, monitor = \"val_accuracy\")"
      ],
      "metadata": {
        "id": "WkXrwDAZ1LjJ"
      },
      "execution_count": 12,
      "outputs": []
    },
    {
      "cell_type": "code",
      "source": [
        "# Create data augmentation layer to incorporate it right into the model\n",
        "from tensorflow.keras import layers\n",
        "from tensorflow.keras.layers.experimental import preprocessing\n",
        "from tensorflow.keras.models import Sequential\n",
        "\n",
        "# Setup data augmentation \n",
        "data_augmentation = Sequential(\n",
        "    [\n",
        "     preprocessing.RandomFlip(\"horizontal\"),\n",
        "     preprocessing.RandomZoom(0.2),\n",
        "     preprocessing.RandomRotation(0.2),\n",
        "     preprocessing.RandomHeight(0.2),\n",
        "     preprocessing.RandomWidth(0.2),\n",
        "    #  preprocessing.Recaling(1./255) # rescale inputs of images to between 0 and 1; required for models like ResNet50\n",
        "    ], name = \"data_augmentation_layer\"\n",
        ")"
      ],
      "metadata": {
        "id": "m7-vxhE72bmu"
      },
      "execution_count": 9,
      "outputs": []
    },
    {
      "cell_type": "markdown",
      "source": [
        "## Headless EfficientNetB0 Model using Functional API"
      ],
      "metadata": {
        "id": "OHytWb2I3gin"
      }
    },
    {
      "cell_type": "code",
      "source": [
        "effnet_model = tf.keras.applications.efficientnet.EfficientNetB0(include_top = False)\n",
        "effnet_model.trainable = False\n",
        "\n",
        "# Create the input layer\n",
        "inputs = tf.keras.layers.Input(shape = IMG_SIZE +(3,), name = \"input_layer\")\n",
        "\n",
        "# Add in the data augmentation layer\n",
        "x = data_augmentation(inputs)\n",
        "\n",
        "# Add in the efficientnet model\n",
        "x = effnet_model(x, training = False)\n",
        "\n",
        "# Now throw in that GlobalAveragePooling layer\n",
        "x = tf.keras.layers.GlobalAveragePooling2D(name = \"global_average_pool_layer\")(x)\n",
        "\n",
        "# Finally a dense layer to get classification predictions\n",
        "outputs = tf.keras.layers.Dense(len(train_data_all_10_percent.class_names), activation = \"softmax\", name = \"output_layer\")(x)\n",
        "\n",
        "# Now make it into a model\n",
        "model = tf.keras.Model(inputs, outputs, name = \"model_scaling_up\")"
      ],
      "metadata": {
        "id": "vfMSk5943oWJ"
      },
      "execution_count": 19,
      "outputs": []
    },
    {
      "cell_type": "code",
      "source": [
        "model.summary()"
      ],
      "metadata": {
        "colab": {
          "base_uri": "https://localhost:8080/"
        },
        "id": "EcuEADe7BEKi",
        "outputId": "53ce8226-445b-4ebe-a188-3dd7bf96a3b1"
      },
      "execution_count": 20,
      "outputs": [
        {
          "output_type": "stream",
          "name": "stdout",
          "text": [
            "Model: \"model_scaling_up\"\n",
            "_________________________________________________________________\n",
            " Layer (type)                Output Shape              Param #   \n",
            "=================================================================\n",
            " input_layer (InputLayer)    [(None, 224, 224, 3)]     0         \n",
            "                                                                 \n",
            " data_augmentation_layer (Se  (None, 224, 224, 3)      0         \n",
            " quential)                                                       \n",
            "                                                                 \n",
            " efficientnetb0 (Functional)  (None, None, None, 1280)  4049571  \n",
            "                                                                 \n",
            " global_average_pool_layer (  (None, 1280)             0         \n",
            " GlobalAveragePooling2D)                                         \n",
            "                                                                 \n",
            " output_layer (Dense)        (None, 101)               129381    \n",
            "                                                                 \n",
            "=================================================================\n",
            "Total params: 4,178,952\n",
            "Trainable params: 129,381\n",
            "Non-trainable params: 4,049,571\n",
            "_________________________________________________________________\n"
          ]
        }
      ]
    },
    {
      "cell_type": "code",
      "source": [
        "# Compile the model\n",
        "model.compile(\n",
        "    loss = tf.keras.losses.CategoricalCrossentropy(),\n",
        "    optimizer = tf.keras.optimizers.Adam(),\n",
        "    metrics = [\"accuracy\", tf.keras.metrics.Precision(), tf.keras.metrics.Recall()]\n",
        ")\n",
        "\n",
        "# Fit the model\n",
        "history_all_classes_10_percent = model.fit(\n",
        "    train_data_all_10_percent,\n",
        "    epochs = 5,\n",
        "    steps_per_epoch = len(train_data_all_10_percent),\n",
        "    validation_data = test_data,\n",
        "    validation_steps = int(0.25*len(test_data)),\n",
        "    callbacks = [create_tensorboard_callback(\"/content/drive/MyDrive/TensorFlow Developer Certification/Tensorboard/Classification\", \"effnet_model_101_classes_10_pct\"), checkpoint]\n",
        ")"
      ],
      "metadata": {
        "colab": {
          "base_uri": "https://localhost:8080/"
        },
        "id": "z3AyrL1D-_7i",
        "outputId": "25129b49-d35a-460c-e7e5-ed082679018a"
      },
      "execution_count": 21,
      "outputs": [
        {
          "output_type": "stream",
          "name": "stdout",
          "text": [
            "Saving TensorBoard log files to: /content/drive/MyDrive/TensorFlow Developer Certification/Tensorboard/Classification/effnet_model_101_classes_10_pct/20220708-042505\n",
            "Epoch 1/5\n",
            "237/237 [==============================] - 66s 248ms/step - loss: 3.4740 - accuracy: 0.2487 - precision_2: 0.9618 - recall_2: 0.0199 - val_loss: 2.6201 - val_accuracy: 0.4085 - val_precision_2: 0.8700 - val_recall_2: 0.0276\n",
            "Epoch 2/5\n",
            "237/237 [==============================] - 56s 233ms/step - loss: 2.3486 - accuracy: 0.4606 - precision_2: 0.9237 - recall_2: 0.1246 - val_loss: 2.1790 - val_accuracy: 0.4684 - val_precision_2: 0.8797 - val_recall_2: 0.1299\n",
            "Epoch 3/5\n",
            "237/237 [==============================] - 52s 215ms/step - loss: 1.9771 - accuracy: 0.5294 - precision_2: 0.9147 - recall_2: 0.2095 - val_loss: 1.9970 - val_accuracy: 0.4937 - val_precision_2: 0.8475 - val_recall_2: 0.2019\n",
            "Epoch 4/5\n",
            "237/237 [==============================] - 52s 217ms/step - loss: 1.7621 - accuracy: 0.5714 - precision_2: 0.9077 - recall_2: 0.2779 - val_loss: 1.9236 - val_accuracy: 0.5051 - val_precision_2: 0.8399 - val_recall_2: 0.2446\n",
            "Epoch 5/5\n",
            "237/237 [==============================] - 50s 207ms/step - loss: 1.6201 - accuracy: 0.5996 - precision_2: 0.9158 - recall_2: 0.3246 - val_loss: 1.9214 - val_accuracy: 0.4998 - val_precision_2: 0.8083 - val_recall_2: 0.2668\n"
          ]
        }
      ]
    },
    {
      "cell_type": "code",
      "source": [
        "# Evaluate on the whole test dataset\n",
        "fine_tuning_results = model.evaluate(test_data)\n",
        "fine_tuning_results"
      ],
      "metadata": {
        "colab": {
          "base_uri": "https://localhost:8080/"
        },
        "id": "Y49UUC-hCidz",
        "outputId": "23a14a57-51fd-4d64-d147-527a9d7386c8"
      },
      "execution_count": 18,
      "outputs": [
        {
          "output_type": "stream",
          "name": "stdout",
          "text": [
            "790/790 [==============================] - 92s 116ms/step - loss: 1.7135 - accuracy: 0.5535 - precision_1: 0.8480 - recall_1: 0.3364\n"
          ]
        },
        {
          "output_type": "execute_result",
          "data": {
            "text/plain": [
              "[1.7134788036346436, 0.5535445809364319, 0.847973644733429, 0.3364356458187103]"
            ]
          },
          "metadata": {},
          "execution_count": 18
        }
      ]
    },
    {
      "cell_type": "markdown",
      "source": [
        "Whoa! We seem to have already achieved our objective. And that too in just 10 minutes. This illustrates the power of deep learning."
      ],
      "metadata": {
        "id": "W4G_TpBPDMIW"
      }
    },
    {
      "cell_type": "code",
      "source": [
        "plot_loss_curves(history_all_classes_10_percent)"
      ],
      "metadata": {
        "colab": {
          "base_uri": "https://localhost:8080/",
          "height": 573
        },
        "id": "PwND90LPDe9L",
        "outputId": "2e11f5ee-5981-40cf-f745-3eeaf3fae3b9"
      },
      "execution_count": 22,
      "outputs": [
        {
          "output_type": "display_data",
          "data": {
            "text/plain": [
              "<Figure size 432x288 with 1 Axes>"
            ],
            "image/png": "[encoded data removed]"
          },
          "metadata": {
            "needs_background": "light"
          }
        },
        {
          "output_type": "display_data",
          "data": {
            "text/plain": [
              "<Figure size 432x288 with 1 Axes>"
            ],
            "image/png": "[encoded data removed]"
          },
          "metadata": {
            "needs_background": "light"
          }
        }
      ]
    },
    {
      "cell_type": "markdown",
      "source": [
        "Ah but we seem to be overfitting. Where's our train data?"
      ],
      "metadata": {
        "id": "VpsYDrmcFDm5"
      }
    },
    {
      "cell_type": "markdown",
      "source": [
        ""
      ],
      "metadata": {
        "id": "d00Q6Jf8FMHM"
      }
    }
  ]
}