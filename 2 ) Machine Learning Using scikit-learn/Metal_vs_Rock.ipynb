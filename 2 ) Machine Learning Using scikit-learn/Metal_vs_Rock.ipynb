{
 "cells": [
  {
   "cell_type": "markdown",
   "id": "9033f3b1",
   "metadata": {},
   "source": [
    "# Metal or Rock?\n",
    "\n",
    "<a id = 'toc'></a>\n",
    "## Table of Contents\n",
    "1. [Import Libraries and Load Data](#load)\n",
    "2. [Decision Tree Classifier](#decision_tree)\n",
    "3. [Support Vector Classifier](#svc)\n",
    "4. [Random Forest Classifier](#random_forest)"
   ]
  },
  {
   "cell_type": "markdown",
   "id": "9156d198",
   "metadata": {},
   "source": [
    "<a id = 'load'></a>\n",
    "## [Import Libraries and Load Data](#toc)"
   ]
  },
  {
   "cell_type": "code",
   "execution_count": 1,
   "id": "ed2364b0",
   "metadata": {},
   "outputs": [],
   "source": [
    "import numpy as np\n",
    "import pandas as pd\n",
    "from sklearn.model_selection import train_test_split\n",
    "from sklearn.tree import DecisionTreeClassifier\n",
    "from sklearn.svm import SVC\n",
    "from sklearn.ensemble import RandomForestClassifier\n",
    "from sklearn.metrics import accuracy_score\n",
    "from time import time"
   ]
  },
  {
   "cell_type": "code",
   "execution_count": 2,
   "id": "62953e04",
   "metadata": {},
   "outputs": [],
   "source": [
    "df = pd.read_csv('./Data/sonar_all_data.csv', header = None)\n",
    "df = df.sample(frac = 1)\n",
    "data = df.loc[:, 0:df.shape[1]-2].to_numpy()\n",
    "labels = pd.get_dummies(df[df.shape[1] -1])['M'].to_numpy()"
   ]
  },
  {
   "cell_type": "code",
   "execution_count": 3,
   "id": "ef842fa0",
   "metadata": {},
   "outputs": [],
   "source": [
    " data_train, data_test, labels_train, labels_test = train_test_split(data,\n",
    "                                                                     labels,\n",
    "                                                                     test_size=0.1,\n",
    "                                                                     random_state=42)"
   ]
  },
  {
   "cell_type": "markdown",
   "id": "8715e989",
   "metadata": {},
   "source": [
    "<a id = 'decision_tree'></a>\n",
    "## [Decision Tree Classifier](#toc)"
   ]
  },
  {
   "cell_type": "code",
   "execution_count": 4,
   "id": "26417230",
   "metadata": {},
   "outputs": [
    {
     "name": "stdout",
     "output_type": "stream",
     "text": [
      "Training Time:  0.005 s\n"
     ]
    }
   ],
   "source": [
    "clf = DecisionTreeClassifier(min_samples_split=2)\n",
    "\n",
    "t0 = time()\n",
    "clf.fit(data_train, labels_train)\n",
    "print(\"Training Time: \", round(time()-t0, 3), \"s\")"
   ]
  },
  {
   "cell_type": "code",
   "execution_count": 5,
   "id": "8e0614a0",
   "metadata": {},
   "outputs": [
    {
     "name": "stdout",
     "output_type": "stream",
     "text": [
      "Predicting Time:  0.001 s\n",
      "Accuracy: 0.7142857142857143\n"
     ]
    }
   ],
   "source": [
    "t0 = time()\n",
    "preds = clf.predict(data_test)\n",
    "print(\"Predicting Time: \", round(time()-t0, 3), \"s\")\n",
    "print(f\"Accuracy: {accuracy_score(labels_test, preds)}\")"
   ]
  },
  {
   "cell_type": "markdown",
   "id": "614fb518",
   "metadata": {},
   "source": [
    "<a id = 'svc'></a>\n",
    "## [Support Vector Classifier](#toc)"
   ]
  },
  {
   "cell_type": "code",
   "execution_count": 6,
   "id": "38db5291",
   "metadata": {},
   "outputs": [
    {
     "name": "stdout",
     "output_type": "stream",
     "text": [
      "Finished fitting data in 0.004 seconds\n"
     ]
    }
   ],
   "source": [
    "clf = SVC(kernel = 'rbf', C = 10000)\n",
    "t0 = time()\n",
    "clf.fit(data_train, labels_train)\n",
    "print(f'Finished fitting data in {round(time() - t0, 3)} seconds')"
   ]
  },
  {
   "cell_type": "code",
   "execution_count": 7,
   "id": "d91349cc",
   "metadata": {},
   "outputs": [
    {
     "name": "stdout",
     "output_type": "stream",
     "text": [
      "Finished predicting test data in 0.001 seconds with an accuracy of 0.905\n"
     ]
    }
   ],
   "source": [
    "t0 = time()\n",
    "preds = clf.predict(data_test)\n",
    "print(f'Finished predicting test data in {round(time() - t0, 3)} seconds with an accuracy of {round(accuracy_score(labels_test, preds), 3)}')"
   ]
  },
  {
   "cell_type": "markdown",
   "id": "c29ed894",
   "metadata": {},
   "source": [
    "<a id = 'random_forest'></a>\n",
    "## [Random Forest Classifier](#toc)"
   ]
  },
  {
   "cell_type": "code",
   "execution_count": 8,
   "id": "84d1f7f9",
   "metadata": {},
   "outputs": [
    {
     "name": "stderr",
     "output_type": "stream",
     "text": [
      "[Parallel(n_jobs=1)]: Using backend SequentialBackend with 1 concurrent workers.\n"
     ]
    },
    {
     "name": "stdout",
     "output_type": "stream",
     "text": [
      "Finished fitting data in 0.363 seconds\n"
     ]
    },
    {
     "name": "stderr",
     "output_type": "stream",
     "text": [
      "[Parallel(n_jobs=1)]: Done 200 out of 200 | elapsed:    0.2s finished\n"
     ]
    }
   ],
   "source": [
    "clf = RandomForestClassifier(n_estimators = 200,\n",
    "                             min_samples_split = 2,\n",
    "                             verbose = 1)\n",
    "\n",
    "t0 = time()\n",
    "clf.fit(data_train, labels_train)\n",
    "print(f'Finished fitting data in {round(time() - t0, 3)} seconds')"
   ]
  },
  {
   "cell_type": "code",
   "execution_count": 9,
   "id": "d3ecac1f",
   "metadata": {},
   "outputs": [
    {
     "name": "stdout",
     "output_type": "stream",
     "text": [
      "Finished predicting test data in 0.028 seconds with an accuracy of 0.857\n"
     ]
    },
    {
     "name": "stderr",
     "output_type": "stream",
     "text": [
      "[Parallel(n_jobs=1)]: Using backend SequentialBackend with 1 concurrent workers.\n",
      "[Parallel(n_jobs=1)]: Done 200 out of 200 | elapsed:    0.0s finished\n"
     ]
    }
   ],
   "source": [
    "t0 = time()\n",
    "preds = clf.predict(data_test)\n",
    "print(f'Finished predicting test data in {round(time() - t0, 3)} seconds with an accuracy of {round(accuracy_score(labels_test, preds), 3)}')"
   ]
  },
  {
   "cell_type": "markdown",
   "id": "1353711f",
   "metadata": {},
   "source": [
    "Out of the three classification algorithms we have considered, the Support Vector Classifier performs the best with a test data accuracy of 90.5% followed by the Random Forest Classifier at 85.7% and Decision Tree Classifier at 71.4%. In terms of training speed, clearly the Support Vector Classifier is the fastest and the prediction speed of both the Support Vector Classifier and the Decision Trees Model is approximately the same. This leads to the conclusion that for this application, the Support Vector Classifier is ideal."
   ]
  }
 ],
 "metadata": {
  "kernelspec": {
   "display_name": "Python 3",
   "language": "python",
   "name": "python3"
  },
  "language_info": {
   "codemirror_mode": {
    "name": "ipython",
    "version": 3
   },
   "file_extension": ".py",
   "mimetype": "text/x-python",
   "name": "python",
   "nbconvert_exporter": "python",
   "pygments_lexer": "ipython3",
   "version": "3.8.8"
  }
 },
 "nbformat": 4,
 "nbformat_minor": 5
}
