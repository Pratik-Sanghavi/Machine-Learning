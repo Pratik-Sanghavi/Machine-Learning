{
  "nbformat": 4,
  "nbformat_minor": 5,
  "metadata": {
    "colab": {
      "name": "The Future is Green.ipynb",
      "provenance": [],
      "collapsed_sections": []
    },
    "kernelspec": {
      "display_name": "Python 3",
      "language": "python",
      "name": "python3"
    },
    "language_info": {
      "codemirror_mode": {
        "name": "ipython",
        "version": 3
      },
      "file_extension": ".py",
      "mimetype": "text/x-python",
      "name": "python",
      "nbconvert_exporter": "python",
      "pygments_lexer": "ipython3",
      "version": "3.8.8"
    },
    "accelerator": "GPU"
  },
  "cells": [
    {
      "cell_type": "markdown",
      "metadata": {
        "id": "b95f43c1"
      },
      "source": [
        "# The Future is Green\n",
        "\n",
        "> *At a nursery* <br>\n",
        "> Thats a moneyplant init? Actually sir those are weeds."
      ],
      "id": "b95f43c1"
    },
    {
      "cell_type": "markdown",
      "metadata": {
        "id": "d7ec5d85"
      },
      "source": [
        "<a id = 'toc'></a>\n",
        "## Table of Contents\n",
        "&nbsp; &nbsp; &nbsp; &nbsp;&nbsp;&nbsp;&nbsp;[Before the Beginning](#begin)\n",
        "1. [Introduction](#intro)\n",
        "2. [Importing the essential libraries](#import)\n",
        "3. [Examining the Data](#load)\n",
        "4. [Identify Unbalanced Classes](#identify)<br>\n",
        " [Fake It Till You Make it](#making)\n",
        "5. [Data Normalisation and Augmentation](#augmentation)\n",
        "6. [Resize and Normalise Data](#normalise)\n",
        "7. [Data Augmentation](#data_augmentation)<br>\n",
        "[The Models](#models)\n",
        "8. [Defining the Models](#model)<br>\n",
        "[Saving Rose](#save)"
      ],
      "id": "d7ec5d85"
    },
    {
      "cell_type": "markdown",
      "metadata": {
        "id": "I-tJT-_aSMQu"
      },
      "source": [
        "<a id = 'begin'></a>\n",
        "# [Before the Beginning](#toc)\n",
        "\n",
        ">In the beginning God created the heavens and the earth. Now the earth was formless and empty, darkness was over the surface of the deep, and the Spirit of God was hovering over the waters. And God said, “Let there be light,” and there was light."
      ],
      "id": "I-tJT-_aSMQu"
    },
    {
      "cell_type": "markdown",
      "metadata": {
        "id": "890f1a3a"
      },
      "source": [
        "<a id = 'intro'></a>\n",
        "## [1. Introduction](#toc)\n",
        "\n",
        "In this notebook we'll be using some well-known architectures to learn to recognise the species of plant from the image of its sapling. This seems pretty legit doesn't it? We've moved to classifying things even humans have difficulties in recognising. "
      ],
      "id": "890f1a3a"
    },
    {
      "cell_type": "markdown",
      "metadata": {
        "id": "bb2f4dfc"
      },
      "source": [
        "<a id = 'import'></a>\n",
        "## [2. Importing the Essential Libraries](#toc)\n",
        "\n",
        "> Sumerians invented the wheel. I'd much rather just use it. "
      ],
      "id": "bb2f4dfc"
    },
    {
      "cell_type": "code",
      "metadata": {
        "colab": {
          "base_uri": "https://localhost:8080/"
        },
        "id": "05e02bfe",
        "outputId": "84b876ef-7c05-4920-fbf6-551015123c80"
      },
      "source": [
        "import numpy as np\n",
        "import itertools\n",
        "import os\n",
        "import PIL\n",
        "import pathlib\n",
        "import math\n",
        "import random\n",
        "import seaborn as sns\n",
        "import tensorflow as tf\n",
        "from sklearn.metrics import classification_report, confusion_matrix\n",
        "from IPython.display import HTML, display\n",
        "import tabulate\n",
        "from tensorflow import keras\n",
        "import matplotlib.pyplot as plt\n",
        "from tqdm import tqdm\n",
        "\n",
        "%matplotlib inline\n",
        "\n",
        "!/usr/local/cuda/bin/nvcc --version\n",
        "\n",
        "!nvidia-smi "
      ],
      "id": "05e02bfe",
      "execution_count": 1,
      "outputs": [
        {
          "output_type": "stream",
          "name": "stdout",
          "text": [
            "nvcc: NVIDIA (R) Cuda compiler driver\n",
            "Copyright (c) 2005-2020 NVIDIA Corporation\n",
            "Built on Mon_Oct_12_20:09:46_PDT_2020\n",
            "Cuda compilation tools, release 11.1, V11.1.105\n",
            "Build cuda_11.1.TC455_06.29190527_0\n",
            "Thu Oct  7 16:34:46 2021       \n",
            "+-----------------------------------------------------------------------------+\n",
            "| NVIDIA-SMI 470.74       Driver Version: 460.32.03    CUDA Version: 11.2     |\n",
            "|-------------------------------+----------------------+----------------------+\n",
            "| GPU  Name        Persistence-M| Bus-Id        Disp.A | Volatile Uncorr. ECC |\n",
            "| Fan  Temp  Perf  Pwr:Usage/Cap|         Memory-Usage | GPU-Util  Compute M. |\n",
            "|                               |                      |               MIG M. |\n",
            "|===============================+======================+======================|\n",
            "|   0  Tesla K80           Off  | 00000000:00:04.0 Off |                    0 |\n",
            "| N/A   39C    P8    26W / 149W |      0MiB / 11441MiB |      0%      Default |\n",
            "|                               |                      |                  N/A |\n",
            "+-------------------------------+----------------------+----------------------+\n",
            "                                                                               \n",
            "+-----------------------------------------------------------------------------+\n",
            "| Processes:                                                                  |\n",
            "|  GPU   GI   CI        PID   Type   Process name                  GPU Memory |\n",
            "|        ID   ID                                                   Usage      |\n",
            "|=============================================================================|\n",
            "|  No running processes found                                                 |\n",
            "+-----------------------------------------------------------------------------+\n"
          ]
        }
      ]
    },
    {
      "cell_type": "code",
      "metadata": {
        "colab": {
          "base_uri": "https://localhost:8080/"
        },
        "id": "lTMLsS8mONb0",
        "outputId": "1737b1fd-2a9c-4163-fb06-465cede123d0"
      },
      "source": [
        "from google.colab import drive\n",
        "drive.mount('/content/drive')"
      ],
      "id": "lTMLsS8mONb0",
      "execution_count": 2,
      "outputs": [
        {
          "output_type": "stream",
          "name": "stdout",
          "text": [
            "Mounted at /content/drive\n"
          ]
        }
      ]
    },
    {
      "cell_type": "markdown",
      "metadata": {
        "id": "6f3e4aa9"
      },
      "source": [
        "<a id = 'load'></a>\n",
        "## [3. Examining the Data](#toc)\n",
        "\n",
        "> Getting a piece of the pie? Here's some more.\n"
      ],
      "id": "6f3e4aa9"
    },
    {
      "cell_type": "code",
      "metadata": {
        "colab": {
          "base_uri": "https://localhost:8080/",
          "height": 737
        },
        "id": "mOwinjLEcfpp",
        "outputId": "c4a15678-3c0c-4a8e-daff-472cbc556b19"
      },
      "source": [
        "training_images = '/content/drive/MyDrive/Assignments/Week 3/Data/train'\n",
        "categories = [category for category in os.listdir(training_images)]\n",
        "distribution_old = [len(os.listdir(os.path.join(training_images, category))) for category in categories]\n",
        "\n",
        "\n",
        "training_images_updated = '/content/drive/MyDrive/Assignments/Week 3/Data/train_updated'\n",
        "distribution_new = [len(os.listdir(os.path.join(training_images_updated, category))) for category in categories]\n",
        "\n",
        "plt.figure(figsize=(20, 10));\n",
        "plt.subplot(2,1,1);\n",
        "sns.barplot(x = categories, y = distribution_old);\n",
        "plt.xticks(rotation = 20);\n",
        "\n",
        "print('After running the script in the folder, we have balanced the data')\n",
        "\n",
        "plt.subplot(2,1,2);\n",
        "sns.barplot(x = categories, y = distribution_new);\n",
        "plt.xticks(rotation = 20);\n",
        "plt.tight_layout()"
      ],
      "id": "mOwinjLEcfpp",
      "execution_count": 3,
      "outputs": [
        {
          "output_type": "stream",
          "name": "stdout",
          "text": [
            "After running the script in the folder, we have balanced the data\n"
          ]
        },
        {
          "output_type": "display_data",
          "data": {
            "image/png": "[encoded data removed]",
            "text/plain": [
              "<Figure size 1440x720 with 2 Axes>"
            ]
          },
          "metadata": {
            "needs_background": "light"
          }
        }
      ]
    },
    {
      "cell_type": "markdown",
      "metadata": {
        "id": "565a3b43"
      },
      "source": [
        "So we can see that the dataset is more or less balanced. This has been achieved only after augmentation by another script."
      ],
      "id": "565a3b43"
    },
    {
      "cell_type": "markdown",
      "metadata": {
        "id": "R6HFq07fWuLv"
      },
      "source": [
        "<a id = 'making'></a>\n",
        "# [Fake It Till You Make it](#toc)\n",
        "\n",
        "> `Lying for the 'greater good'`"
      ],
      "id": "R6HFq07fWuLv"
    },
    {
      "cell_type": "markdown",
      "metadata": {
        "id": "459fddf1"
      },
      "source": [
        "<a id = 'augmentation'></a>\n",
        "## [Data Normalisation and Augmentation](#toc)\n",
        "\n",
        "> Want some data? Make your own!"
      ],
      "id": "459fddf1"
    },
    {
      "cell_type": "markdown",
      "metadata": {
        "id": "kyqMNF_KusY-"
      },
      "source": [
        "<a id = 'normalise'></a>\n",
        "## [Load Data](#toc)\n",
        "\n",
        "Before augmentation, we need to convert all images to a uniform size and also normalise the images by rescaling to a value between 0 and 1."
      ],
      "id": "kyqMNF_KusY-"
    },
    {
      "cell_type": "code",
      "metadata": {
        "id": "17e4cc8d"
      },
      "source": [
        "def prepare_data(cnn_model = 'inception', IMG_SHAPE = (400,400)):\n",
        "  \"\"\"\n",
        "  \"\"\"\n",
        "  from keras_preprocessing.image import ImageDataGenerator\n",
        "  from tensorflow.keras.applications import inception_v3\n",
        "  from tensorflow.keras.applications import resnet50\n",
        "  from tensorflow.keras.applications import vgg16\n",
        "\n",
        "  if cnn_model == 'inception':\n",
        "    datagen = ImageDataGenerator(preprocessing_function = inception_v3.preprocess_input,\n",
        "                                 horizontal_flip = True,\n",
        "                                 height_shift_range = 0.1,\n",
        "                                 width_shift_range = 0.1,\n",
        "                                 rotation_range = 10,\n",
        "                                 zoom_range = 0.1,\n",
        "                                 validation_split = 0.2)\n",
        "  elif cnn_model == 'resnet':\n",
        "    datagen = ImageDataGenerator(preprocessing_function = resnet50.preprocess_input,\n",
        "                                 horizontal_flip = True,\n",
        "                                 height_shift_range = 0.1,\n",
        "                                 width_shift_range = 0.1,\n",
        "                                 rotation_range = 10,\n",
        "                                 zoom_range = 0.1,\n",
        "                                 validation_split = 0.2)\n",
        "  elif cnn_model == 'vgg16':\n",
        "    datagen = ImageDataGenerator(preprocessing_function = vgg16.preprocess_input,\n",
        "                                 horizontal_flip = True,\n",
        "                                 height_shift_range = 0.1,\n",
        "                                 width_shift_range = 0.1,\n",
        "                                 rotation_range = 10,\n",
        "                                 zoom_range = 0.1,\n",
        "                                 validation_split = 0.2)\n",
        "    \n",
        "  train_ds = datagen.flow_from_directory(directory = '/content/drive/MyDrive/Assignments/Week 3/Data/train_updated',\n",
        "                                         target_size = IMG_SHAPE,\n",
        "                                         subset = 'training',\n",
        "                                         batch_size = 32,\n",
        "                                         class_mode = 'categorical',\n",
        "                                         shuffle = True,\n",
        "                                         seed = 123)\n",
        "  val_ds = datagen.flow_from_directory(directory = '/content/drive/MyDrive/Assignments/Week 3/Data/train_updated',\n",
        "                                       target_size = IMG_SHAPE,\n",
        "                                        subset = 'validation',\n",
        "                                        batch_size = 32,\n",
        "                                        class_mode = 'categorical',\n",
        "                                        shuffle = True,\n",
        "                                        seed = 123)\n",
        "  return train_ds, val_ds"
      ],
      "id": "17e4cc8d",
      "execution_count": 4,
      "outputs": []
    },
    {
      "cell_type": "markdown",
      "metadata": {
        "id": "qpkc4jxEKUIv"
      },
      "source": [
        "<a id = 'models'></a>\n",
        "# [The Models](#toc)\n",
        "> One man's meat is another's poison"
      ],
      "id": "qpkc4jxEKUIv"
    },
    {
      "cell_type": "markdown",
      "metadata": {
        "id": "iOGx8Ej-51Ca"
      },
      "source": [
        "<a id = 'model'></a>\n",
        "## [Defining the Models](#toc)\n",
        "\n",
        "In this section we will define and run our CNN architecture with the aim to do a comparative study of the models on our data and observe which one performs the best."
      ],
      "id": "iOGx8Ej-51Ca"
    },
    {
      "cell_type": "code",
      "metadata": {
        "id": "rOIymZ7u6UQU"
      },
      "source": [
        "def VGG16(num_per_class, optimizer, loss, metrics, epochs):\n",
        "  \"\"\"\n",
        "  Implements a tweaked version of the VGG-16 neural network\n",
        "\n",
        "  Arguments:-\n",
        "  1) Number of Images for each class\n",
        "  2) Optimizer for learning rate\n",
        "  3) Loss Function (will be fixed to categorical cross entropy since output is softmax layer)\n",
        "  4) Metrics to judge model performance\n",
        "  5) Number of epochs\n",
        "\n",
        "  Returns:-\n",
        "  Trained model implementing VGG-16 Neural Network with a few modifications (such as classes in the final activation function)\n",
        "  \"\"\"\n",
        "  train_ds, val_ds = prepare_data(cnn_model = 'vgg16')\n",
        "  rescale = keras.layers.experimental.preprocessing.Rescaling(1./255)\n",
        "  vgg16_model=keras.applications.VGG16(include_top=False,\n",
        "                                       weights='imagenet')\n",
        "  for layer in vgg16_model.layers[0:-6]:\n",
        "    layer.trainable = False\n",
        "  \n",
        "  prediction_layer = keras.Sequential([keras.layers.Flatten(),\n",
        "                                      #  keras.layers.Dense(1024),\n",
        "                                      #  keras.layers.BatchNormalization(),\n",
        "                                      #  keras.layers.Activation('relu'),\n",
        "                                      #  keras.layers.Dropout(0.2),\n",
        "                                       keras.layers.Dense(128),\n",
        "                                       keras.layers.BatchNormalization(),\n",
        "                                       keras.layers.Activation('relu'),\n",
        "                                       keras.layers.Dropout(0.2),\n",
        "                                       keras.layers.Dense(len(num_per_class),activation='softmax')])\n",
        "  \n",
        "  model = tf.keras.Sequential([rescale,\n",
        "                              vgg16_model,\n",
        "                              prediction_layer\n",
        "                              ])\n",
        "\n",
        "  model.compile(optimizer = optimizer, loss = loss, metrics = metrics)\n",
        "  reduce_lr = keras.callbacks.ReduceLROnPlateau(monitor='val_loss', factor=0.2, patience=1, min_lr=0.00000001)\n",
        "  early_stop = keras.callbacks.EarlyStopping(monitor='val_loss', min_delta=0, patience=3, verbose=0, mode='min', restore_best_weights=True)\n",
        "  checkpoint = keras.callbacks.ModelCheckpoint(filepath = '/content/drive/MyDrive/Assignments/Week 3/Saved_Model/model_vgg16.h5', monitor = 'val_loss', mode = 'min', save_best_only = True)\n",
        "  history = model.fit(train_ds, validation_data=val_ds, epochs = epochs, verbose = 1, callbacks = [reduce_lr, early_stop])\n",
        "  return train_ds, val_ds, model, history\n",
        "\n",
        "def ResNet(num_per_class, optimizer, loss, metrics, epochs):\n",
        "  '''\n",
        "  Implements a version of the ResNet neural network\n",
        "\n",
        "  Arguments:-\n",
        "  1) Number of Images for each class\n",
        "  2) Optimizer for learning rate\n",
        "  3) Loss Function (will be fixed to categorical cross entropy since output is softmax layer)\n",
        "  4) Metrics to judge model performance\n",
        "  5) Number of epochs\n",
        "\n",
        "  Returns:-\n",
        "  Trained model implementing ResNet Neural Network with a few modifications (such as output of neural network has fewer classes than the original ResNet)\n",
        "  '''\n",
        "  train_ds, val_ds = prepare_data(cnn_model = 'resnet')\n",
        "  rescale = keras.layers.experimental.preprocessing.Rescaling(1./255)\n",
        "  resnet_model = keras.applications.resnet50.ResNet50(include_top=False,\n",
        "                                                      weights='imagenet')\n",
        "\n",
        "\n",
        "  for layer in resnet_model.layers[0:-6]:\n",
        "    layer.trainable = False\n",
        "  global_average_layer = tf.keras.layers.GlobalAveragePooling2D()\n",
        "  prediction_layer = keras.Sequential([keras.layers.Flatten(),\n",
        "                                      #  keras.layers.Dense(1024),\n",
        "                                      #  keras.layers.BatchNormalization(),\n",
        "                                      #  keras.layers.Activation('relu'),\n",
        "                                      #  keras.layers.Dropout(0.2),\n",
        "                                       keras.layers.Dense(128),\n",
        "                                       keras.layers.BatchNormalization(),\n",
        "                                       keras.layers.Activation('relu'),\n",
        "                                       keras.layers.Dropout(0.2),\n",
        "                                       keras.layers.Dense(len(num_per_class),activation='softmax')])\n",
        "\n",
        "  model = keras.Sequential([rescale,\n",
        "                              resnet_model,\n",
        "                              prediction_layer\n",
        "                              ])\n",
        "\n",
        "  model.compile(optimizer = optimizer, loss = loss, metrics = metrics)\n",
        "  reduce_lr = keras.callbacks.ReduceLROnPlateau(monitor='val_loss', factor=0.2, patience=1, min_lr=0.00000001)\n",
        "  early_stop = keras.callbacks.EarlyStopping(monitor='val_loss', min_delta=0, patience=3, verbose=0, mode='min', restore_best_weights=True)\n",
        "  checkpoint = keras.callbacks.ModelCheckpoint(filepath = '/content/drive/MyDrive/Assignments/Week 3/Saved_Model/model_resnet50.h5', monitor = 'val_loss', mode = 'min', save_best_only = True)\n",
        "\n",
        "  history = model.fit(train_ds, validation_data=val_ds, epochs = epochs, verbose = 1, callbacks = [reduce_lr, early_stop])\n",
        "  return train_ds, val_ds, model, history\n",
        "  \n",
        "def Inception(num_per_class, optimizer, loss, metrics, epochs):\n",
        "  '''\n",
        "  We need to go deeper\n",
        "  Implements a version of the Inception neural network\n",
        "\n",
        "  Arguments:-\n",
        "  1) Number of Images for each class\n",
        "  2) Optimizer for learning rate\n",
        "  3) Loss Function (will be fixed to categorical cross entropy since output is softmax layer)\n",
        "  4) Metrics to judge model performance\n",
        "  5) Number of epochs\n",
        "\n",
        "  Returns:-\n",
        "  Trained model implementing Inception Neural Network with a few modifications (such as output of neural network has fewer classes than the original ResNet)\n",
        "  '''\n",
        "  train_ds, val_ds = prepare_data(cnn_model = 'inception')\n",
        "  rescale = keras.layers.experimental.preprocessing.Rescaling(1./255)\n",
        "  inception_model = keras.applications.inception_v3.InceptionV3(include_top=False,\n",
        "                                                                weights='imagenet')\n",
        "\n",
        "  for layer in inception_model.layers[0:-3]:\n",
        "    layer.trainable = False\n",
        "  global_average_layer = tf.keras.layers.GlobalAveragePooling2D()\n",
        "  prediction_layer = keras.Sequential([keras.layers.Flatten(),\n",
        "                                      #  keras.layers.Dense(1024),\n",
        "                                      #  keras.layers.BatchNormalization(),\n",
        "                                      #  keras.layers.Activation('relu'),\n",
        "                                      #  keras.layers.Dropout(0.2),\n",
        "                                       keras.layers.Dense(128),\n",
        "                                       keras.layers.BatchNormalization(),\n",
        "                                       keras.layers.Activation('relu'),\n",
        "                                       keras.layers.Dropout(0.2),\n",
        "                                       keras.layers.Dense(len(num_per_class),activation='softmax')])\n",
        "\n",
        "  model = tf.keras.Sequential([rescale,\n",
        "                              inception_model,\n",
        "                              prediction_layer\n",
        "                              ])\n",
        "\n",
        "  model.compile(optimizer = optimizer, loss = loss, metrics = metrics)\n",
        "  \n",
        "  reduce_lr = keras.callbacks.ReduceLROnPlateau(monitor='val_loss', factor=0.2, patience=1, min_lr=0.00000001)\n",
        "  early_stop = keras.callbacks.EarlyStopping(monitor='val_loss', min_delta=0, patience=3, verbose=0, mode='min', restore_best_weights=True)\n",
        "  checkpoint = keras.callbacks.ModelCheckpoint(filepath = '/content/drive/MyDrive/Assignments/Week 3/Saved_Model/model_inceptionv3.h5', monitor = 'val_loss', mode = 'min', save_best_only = True)\n",
        "\n",
        "  history = model.fit(train_ds, validation_data=val_ds, epochs = epochs, verbose = 1, callbacks = [reduce_lr, early_stop])\n",
        "  return train_ds, val_ds, model, history\n",
        "\n",
        "def implement_cnn(num_per_class, cnn_model, optimizer, loss, metrics, epochs):\n",
        "  \"\"\"\n",
        "  Implements CNN based on choice of architecture\n",
        "  Arguments:-\n",
        "  1) Number of Images for each class\n",
        "  2) Choice of CNN architecture\n",
        "  3) Optimizer for learning rate\n",
        "  4) Loss Function (will be fixed to categorical cross entropy since output is softmax layer)\n",
        "  5) Metrics to judge model performance\n",
        "  6) Number of epochs\n",
        "\n",
        "  Returns:-\n",
        "  Trained model implementing CNN architecture as per choice\n",
        "  \"\"\"\n",
        "  if cnn_model == \"vgg16\":\n",
        "    train_ds, val_ds, model, history = VGG16(num_per_class, optimizer, loss, metrics, epochs)\n",
        "\n",
        "  elif cnn_model == \"resnet\":\n",
        "    train_ds, val_ds, model, history = ResNet(num_per_class, optimizer, loss, metrics, epochs)\n",
        "\n",
        "  elif cnn_model == \"inception\":\n",
        "    train_ds, val_ds, model, history = Inception(num_per_class, optimizer, loss, metrics, epochs)\n",
        "  \n",
        "  return train_ds, val_ds, model, history"
      ],
      "id": "rOIymZ7u6UQU",
      "execution_count": 5,
      "outputs": []
    },
    {
      "cell_type": "code",
      "metadata": {
        "colab": {
          "base_uri": "https://localhost:8080/"
        },
        "id": "XOQ7ZSz8Xo3L",
        "outputId": "17c27743-d47e-4958-a258-c9897f6fe077"
      },
      "source": [
        "print('Training the VGG Model')\n",
        "vgg16_model, vgg16_history = implement_cnn(num_per_class = distribution_new, cnn_model = \"vgg16\", optimizer = \"adam\", loss = 'categorical_crossentropy', metrics = ['accuracy'], epochs = 10)\n",
        "print('------------------------------------------------------Trained------------------------------------------------------')"
      ],
      "id": "XOQ7ZSz8Xo3L",
      "execution_count": 6,
      "outputs": [
        {
          "output_type": "stream",
          "name": "stdout",
          "text": [
            "Training the VGG Model\n",
            "Found 6288 images belonging to 12 classes.\n",
            "Found 1560 images belonging to 12 classes.\n",
            "Downloading data from https://storage.googleapis.com/tensorflow/keras-applications/vgg16/vgg16_weights_tf_dim_ordering_tf_kernels_notop.h5\n",
            "58892288/58889256 [==============================] - 1s 0us/step\n",
            "58900480/58889256 [==============================] - 1s 0us/step\n",
            "Epoch 1/10\n",
            "197/197 [==============================] - 1997s 10s/step - loss: 1.8103 - accuracy: 0.3723 - val_loss: 3.6697 - val_accuracy: 0.2692\n",
            "Epoch 2/10\n",
            "197/197 [==============================] - 422s 2s/step - loss: 1.0373 - accuracy: 0.6419 - val_loss: 1.6488 - val_accuracy: 0.5346\n",
            "Epoch 3/10\n",
            "197/197 [==============================] - 419s 2s/step - loss: 0.7807 - accuracy: 0.7352 - val_loss: 2.8840 - val_accuracy: 0.3558\n",
            "Epoch 4/10\n",
            "197/197 [==============================] - 415s 2s/step - loss: 0.5863 - accuracy: 0.8122 - val_loss: 0.5676 - val_accuracy: 0.8128\n",
            "Epoch 5/10\n",
            "197/197 [==============================] - 413s 2s/step - loss: 0.5017 - accuracy: 0.8362 - val_loss: 0.5253 - val_accuracy: 0.8077\n",
            "Epoch 6/10\n",
            "197/197 [==============================] - 410s 2s/step - loss: 0.4591 - accuracy: 0.8542 - val_loss: 0.5040 - val_accuracy: 0.8327\n",
            "Epoch 7/10\n",
            "197/197 [==============================] - 409s 2s/step - loss: 0.4371 - accuracy: 0.8580 - val_loss: 0.4658 - val_accuracy: 0.8346\n",
            "Epoch 8/10\n",
            "197/197 [==============================] - 405s 2s/step - loss: 0.4084 - accuracy: 0.8750 - val_loss: 0.4391 - val_accuracy: 0.8410\n",
            "Epoch 9/10\n",
            "197/197 [==============================] - 410s 2s/step - loss: 0.3755 - accuracy: 0.8796 - val_loss: 0.3736 - val_accuracy: 0.8724\n",
            "Epoch 10/10\n",
            "197/197 [==============================] - 406s 2s/step - loss: 0.3563 - accuracy: 0.8885 - val_loss: 0.3753 - val_accuracy: 0.8692\n",
            "------------------------------------------------------Trained------------------------------------------------------\n"
          ]
        }
      ]
    },
    {
      "cell_type": "code",
      "metadata": {
        "colab": {
          "base_uri": "https://localhost:8080/"
        },
        "id": "U5NdpvZM41JQ",
        "outputId": "c7742e9b-0358-427b-85d6-415e7ae9714f"
      },
      "source": [
        "print('Training the ResNet Model')\n",
        "resnet_train_ds, resnet_val_ds, resnet_model, resnet_history = implement_cnn(num_per_class = distribution_new, cnn_model = \"resnet\", optimizer = \"adam\", loss = 'categorical_crossentropy', metrics = ['accuracy'], epochs = 10)\n",
        "print('------------------------------------------------------Trained------------------------------------------------------')"
      ],
      "id": "U5NdpvZM41JQ",
      "execution_count": 20,
      "outputs": [
        {
          "output_type": "stream",
          "name": "stdout",
          "text": [
            "Training the ResNet Model\n",
            "Found 6288 images belonging to 12 classes.\n",
            "Found 1560 images belonging to 12 classes.\n",
            "Downloading data from https://storage.googleapis.com/tensorflow/keras-applications/resnet/resnet50_weights_tf_dim_ordering_tf_kernels_notop.h5\n",
            "94773248/94765736 [==============================] - 1s 0us/step\n",
            "94781440/94765736 [==============================] - 1s 0us/step\n",
            "Epoch 1/10\n",
            "197/197 [==============================] - 389s 2s/step - loss: 21.5351 - accuracy: 0.0913 - val_loss: 10.9957 - val_accuracy: 0.0987\n",
            "Epoch 2/10\n",
            "197/197 [==============================] - 381s 2s/step - loss: 8.3558 - accuracy: 0.1115 - val_loss: 6.0582 - val_accuracy: 0.1115\n",
            "Epoch 3/10\n",
            "197/197 [==============================] - 382s 2s/step - loss: 7.7382 - accuracy: 0.1161 - val_loss: 4.4676 - val_accuracy: 0.1564\n",
            "Epoch 4/10\n",
            "197/197 [==============================] - 379s 2s/step - loss: 6.6383 - accuracy: 0.1285 - val_loss: 9.5927 - val_accuracy: 0.1429\n",
            "Epoch 5/10\n",
            "197/197 [==============================] - 376s 2s/step - loss: 2.8123 - accuracy: 0.1826 - val_loss: 2.3964 - val_accuracy: 0.1981\n",
            "Epoch 6/10\n",
            "197/197 [==============================] - 377s 2s/step - loss: 2.3767 - accuracy: 0.2024 - val_loss: 2.3449 - val_accuracy: 0.1647\n",
            "Epoch 7/10\n",
            "197/197 [==============================] - 379s 2s/step - loss: 2.3854 - accuracy: 0.2052 - val_loss: 2.3602 - val_accuracy: 0.2109\n",
            "Epoch 8/10\n",
            "197/197 [==============================] - 376s 2s/step - loss: 2.1574 - accuracy: 0.2532 - val_loss: 2.1894 - val_accuracy: 0.2635\n",
            "Epoch 9/10\n",
            "197/197 [==============================] - 378s 2s/step - loss: 2.1506 - accuracy: 0.2527 - val_loss: 2.1742 - val_accuracy: 0.2429\n",
            "Epoch 10/10\n",
            "197/197 [==============================] - 381s 2s/step - loss: 2.1506 - accuracy: 0.2580 - val_loss: 2.1834 - val_accuracy: 0.2365\n",
            "------------------------------------------------------Trained------------------------------------------------------\n",
            "Model: \"sequential_11\"\n",
            "_________________________________________________________________\n",
            "Layer (type)                 Output Shape              Param #   \n",
            "=================================================================\n",
            "rescaling_5 (Rescaling)      (None, None, None, None)  0         \n",
            "_________________________________________________________________\n",
            "resnet50 (Functional)        (None, None, None, 2048)  23587712  \n",
            "_________________________________________________________________\n",
            "sequential_10 (Sequential)   (None, 12)                4153356   \n",
            "=================================================================\n",
            "Total params: 27,741,068\n",
            "Trainable params: 5,209,100\n",
            "Non-trainable params: 22,531,968\n",
            "_________________________________________________________________\n"
          ]
        }
      ]
    },
    {
      "cell_type": "code",
      "metadata": {
        "colab": {
          "base_uri": "https://localhost:8080/"
        },
        "id": "d0XV4alv43WY",
        "outputId": "2549ddff-8780-417f-b105-0714cf923ab9"
      },
      "source": [
        "print('Training the Inception Model')\n",
        "inception_train_ds, inception_val_ds, inception_model, inception_history = implement_cnn(num_per_class = distribution_new, cnn_model = \"inception\", optimizer = \"adam\", loss = 'categorical_crossentropy', metrics = ['accuracy'], epochs = 10)\n",
        "print('------------------------------------------------------Trained------------------------------------------------------')"
      ],
      "id": "d0XV4alv43WY",
      "execution_count": null,
      "outputs": [
        {
          "output_type": "stream",
          "name": "stdout",
          "text": [
            "Training the Inception Model\n",
            "Found 6288 images belonging to 12 classes.\n",
            "Found 1560 images belonging to 12 classes.\n",
            "Downloading data from https://storage.googleapis.com/tensorflow/keras-applications/inception_v3/inception_v3_weights_tf_dim_ordering_tf_kernels_notop.h5\n",
            "87916544/87910968 [==============================] - 2s 0us/step\n",
            "87924736/87910968 [==============================] - 2s 0us/step\n",
            "Epoch 1/10\n",
            "172/197 [=========================>....] - ETA: 36s - loss: 13.3031 - accuracy: 0.1475"
          ]
        }
      ]
    },
    {
      "cell_type": "code",
      "metadata": {
        "id": "f7BGGkJuMaXM",
        "colab": {
          "base_uri": "https://localhost:8080/",
          "height": 367
        },
        "outputId": "019b3b1f-4138-44c3-dd2a-3511c3617b23"
      },
      "source": [
        "plt.figure(figsize=(20, 5))\n",
        "plt.subplot(1, 3, 1)\n",
        "plt.plot(vgg16_history.history['loss'])\n",
        "plt.plot(vgg16_history.history['val_loss'])\n",
        "plt.title('Model Loss Change with Epochs')\n",
        "plt.ylabel('Loss')\n",
        "plt.xlabel('Epoch')\n",
        "plt.legend(['VGG-16 Training Loss', 'VGG-16 Cross Validation Loss'], loc='upper right')\n",
        "\n",
        "plt.subplot(1, 3, 2)\n",
        "plt.plot(resnet_history.history['loss'])\n",
        "plt.plot(resnet_history.history['val_loss'])\n",
        "plt.title('Model Loss Change with Epochs')\n",
        "plt.ylabel('Loss')\n",
        "plt.xlabel('Epoch')\n",
        "plt.legend(['ResNet Training Loss','ResNet Cross Validation Loss'], loc='upper right')\n",
        "\n",
        "plt.subplot(1, 3, 3)\n",
        "plt.plot(inception_history.history['loss'])\n",
        "plt.plot(inception_history.history['val_loss'])\n",
        "plt.title('Model Loss Change with Epochs')\n",
        "plt.ylabel('Loss')\n",
        "plt.xlabel('Epoch')\n",
        "plt.legend(['Inception Training Loss','Inception Cross Validation Loss'], loc='upper right')\n",
        "plt.show()"
      ],
      "id": "f7BGGkJuMaXM",
      "execution_count": 7,
      "outputs": [
        {
          "output_type": "execute_result",
          "data": {
            "text/plain": [
              "<matplotlib.legend.Legend at 0x7f0edd888310>"
            ]
          },
          "metadata": {},
          "execution_count": 7
        },
        {
          "output_type": "display_data",
          "data": {
            "image/png": "[encoded data removed]",
            "text/plain": [
              "<Figure size 1440x360 with 1 Axes>"
            ]
          },
          "metadata": {
            "needs_background": "light"
          }
        }
      ]
    },
    {
      "cell_type": "code",
      "metadata": {
        "id": "mpLBZFV7QqVK",
        "colab": {
          "base_uri": "https://localhost:8080/",
          "height": 367
        },
        "outputId": "e251b9e6-bdbb-47c7-8296-75a67fa9f066"
      },
      "source": [
        "plt.figure(figsize=(20, 5))\n",
        "plt.subplot(1, 3, 1)\n",
        "plt.plot(vgg16_history.history['accuracy'])\n",
        "plt.plot(vgg16_history.history['val_accuracy'])\n",
        "plt.title('Model Accuracy Change with Epochs')\n",
        "plt.ylabel('Accuracy')\n",
        "plt.xlabel('Epoch')\n",
        "plt.legend(['VGG-16 Training Accuracy', 'VGG-16 Cross Validation Accuracy'], loc='upper right')\n",
        "\n",
        "plt.subplot(1, 3, 2)\n",
        "plt.plot(resnet_history.history['accuracy'])\n",
        "plt.plot(resnet_history.history['val_accuracy'])\n",
        "plt.title('Model Accuracy Change with Epochs')\n",
        "plt.ylabel('Accuracy')\n",
        "plt.xlabel('Epoch')\n",
        "plt.legend(['ResNet Training Accuracy','ResNet Cross Validation Accuracy'], loc='upper right')\n",
        "\n",
        "plt.subplot(1, 3, 3)\n",
        "plt.plot(inception_history.history['accuracy'])\n",
        "plt.plot(inception_history.history['val_accuracy'])\n",
        "plt.title('Model Accuracy Change with Epochs')\n",
        "plt.ylabel('Accuracy')\n",
        "plt.xlabel('Epoch')\n",
        "plt.legend(['Inception Training Accuracy','Inception Cross Validation Accuracy'], loc='upper right')\n",
        "plt.show()"
      ],
      "id": "mpLBZFV7QqVK",
      "execution_count": 8,
      "outputs": [
        {
          "output_type": "execute_result",
          "data": {
            "text/plain": [
              "<matplotlib.legend.Legend at 0x7f0ee86fd210>"
            ]
          },
          "metadata": {},
          "execution_count": 8
        },
        {
          "output_type": "display_data",
          "data": {
            "image/png": "[encoded data removed]",
            "text/plain": [
              "<Figure size 1440x360 with 1 Axes>"
            ]
          },
          "metadata": {
            "needs_background": "light"
          }
        }
      ]
    },
    {
      "cell_type": "code",
      "metadata": {
        "id": "Lrz7sF3Y06SG"
      },
      "source": [
        "def get_labels(val_ds):\n",
        "  \"\"\"\n",
        "  Get the labels of all examples in the validation set\n",
        "  Arguments:\n",
        "  1) Cross Validation Dataset\n",
        "  Returns:-\n",
        "  1) Numpy array with true label values\n",
        "  \"\"\"\n",
        "  labels = []\n",
        "  i = 0\n",
        "  for _, labels_batch in tqdm(val_ds):\n",
        "        labels.extend(labels_batch)\n",
        "        i+=1\n",
        "        if i >=49:\n",
        "          break\n",
        "  \n",
        "  return np.array(labels)"
      ],
      "id": "Lrz7sF3Y06SG",
      "execution_count": 26,
      "outputs": []
    },
    {
      "cell_type": "code",
      "metadata": {
        "colab": {
          "base_uri": "https://localhost:8080/"
        },
        "id": "aX_CBbvt-kYc",
        "outputId": "3c7ec18c-6e7d-4a0f-cc4f-96a8cbf1bcf5"
      },
      "source": [
        "train_ds, val_ds = prepare_data(cnn_model = 'vgg16')\n",
        "labels = get_labels(val_ds)"
      ],
      "id": "aX_CBbvt-kYc",
      "execution_count": 21,
      "outputs": [
        {
          "output_type": "stream",
          "name": "stdout",
          "text": [
            "Found 6288 images belonging to 12 classes.\n",
            "Found 1560 images belonging to 12 classes.\n"
          ]
        },
        {
          "output_type": "stream",
          "name": "stderr",
          "text": [
            " 98%|█████████▊| 48/49 [01:02<00:01,  1.31s/it]\n"
          ]
        }
      ]
    },
    {
      "cell_type": "code",
      "metadata": {
        "id": "jpuRdXhSA6ph"
      },
      "source": [
        "labels = np.array(labels)"
      ],
      "id": "jpuRdXhSA6ph",
      "execution_count": 25,
      "outputs": []
    },
    {
      "cell_type": "code",
      "metadata": {
        "id": "vaQ53Ijf3kvH"
      },
      "source": [
        "def get_classification_report(model, val_ds, labels):\n",
        "  \"\"\"\n",
        "  \"\"\"\n",
        "  from sklearn.metrics import classification_report\n",
        "  y_pred = model.predict(val_ds)\n",
        "  labels = np.argmax(labels, axis = 1)\n",
        "  y_pred_bool = np.argmax(y_pred, axis = 1)\n",
        "  print(classification_report(labels, y_pred_bool))\n",
        "  return\n",
        "\n",
        "def get_confusion_matrix(model, val_ds, labels):\n",
        "  \"\"\"\n",
        "  \"\"\"\n",
        "  from sklearn.metrics import confusion_matrix\n",
        "  import seaborn as sns\n",
        "  y_pred = model.predict(val_ds)\n",
        "  labels = np.argmax(labels, axis = 1)\n",
        "  y_pred_bool = np.argmax(y_pred, axis = 1)\n",
        "  conf_matrix = confusion_matrix(labels, y_pred_bool)\n",
        "  plt.figure(figsize=(20, 5))\n",
        "  sns.heatmap(conf_matrix, annot=True, cmap='Blues')\n",
        "  plt.show()\n",
        "  return"
      ],
      "id": "vaQ53Ijf3kvH",
      "execution_count": 28,
      "outputs": []
    },
    {
      "cell_type": "code",
      "metadata": {
        "id": "M51UrH4J46Fy"
      },
      "source": [
        "print(\"Classification Report for VGG-16 Model\")\n",
        "get_classification_report(vgg16_model, val_ds, labels)\n",
        "\n",
        "print(\"Classification Report for ResNet Model\")\n",
        "get_classification_report(resnet_model, val_ds, labels)\n",
        "\n",
        "print(\"Classification Report for Inception-V3 Model\")\n",
        "get_classification_report(inception_model, val_ds, labels)"
      ],
      "id": "M51UrH4J46Fy",
      "execution_count": 32,
      "outputs": []
    },
    {
      "cell_type": "code",
      "metadata": {
        "id": "J5HLbEC7_caX"
      },
      "source": [
        "print(\"Confusion Matrix for VGG-16 Model\")\n",
        "get_confusion_matrix(vgg16_model, val_ds, labels)\n",
        "\n",
        "print(\"Confusion Matrix for ResNet Model\")\n",
        "get_confusion_matrix(resnet_model, val_ds, labels)\n",
        "\n",
        "print(\"Confusion Matrix for Inception-V3 Model\")\n",
        "get_confusion_matrix(inception_model, val_ds, labels)"
      ],
      "id": "J5HLbEC7_caX",
      "execution_count": 31,
      "outputs": []
    },
    {
      "cell_type": "markdown",
      "metadata": {
        "id": "veLcBVPOFmPw"
      },
      "source": [
        "<a id = 'save'></a>\n",
        "# [Saving Rose](#toc)\n",
        "\n",
        "> `Survival of the fittest.`"
      ],
      "id": "veLcBVPOFmPw"
    },
    {
      "cell_type": "code",
      "metadata": {
        "id": "prd5He_yFSRt"
      },
      "source": [
        "!mkdir -p '/content/drive/MyDrive/Assignments/Week 3/Saved_Model'\n",
        "# Take the model with the best accuracy and save it to the folder created\n",
        "\n",
        "inception_model.save('/content/drive/MyDrive/Assignments/Week 3/Saved_Model/my_model')"
      ],
      "id": "prd5He_yFSRt",
      "execution_count": null,
      "outputs": []
    },
    {
      "cell_type": "code",
      "metadata": {
        "id": "3G7Ta_IOG1VU"
      },
      "source": [
        "new_model = tf.keras.models.load_model('/content/drive/MyDrive/Assignments/Week 3/Saved_Model/my_model')\n",
        "new_model.summary()"
      ],
      "id": "3G7Ta_IOG1VU",
      "execution_count": null,
      "outputs": []
    }
  ]
}